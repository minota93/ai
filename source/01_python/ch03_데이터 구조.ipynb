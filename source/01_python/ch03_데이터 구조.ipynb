{
 "cells": [
  {
   "cell_type": "code",
   "execution_count": 7,
   "id": "35a51f41",
   "metadata": {},
   "outputs": [
    {
     "data": {
      "text/html": [
       "\n",
       "<style>\n",
       "div.container{width:90% ! important;}\n",
       "div.cell.code_cell.rendered{width:100%}\n",
       "div.input_prompt{padding:0px}\n",
       "div.CodeMirror {font-family:Consolas ; font-size:12pt;}\n",
       "div.text_cell_render.rendered_html {font-size:12pt;}\n",
       "div.output {font-size:12pt; font-weight:bold}\n",
       "div.input {font-family:Consolas ; font-size:12pt;}\n",
       "div.prompt {min-width:70px;}\n",
       "div#toc-wrapper {padding-top:120px;}\n",
       "div.text_cell_render ul li{font-size:12pt;padding:5px;}\n",
       "table.dataframe{font-size:12px;}\n",
       "</style>\n"
      ],
      "text/plain": [
       "<IPython.core.display.HTML object>"
      ]
     },
     "metadata": {},
     "output_type": "display_data"
    }
   ],
   "source": [
    "from IPython.display import display, HTML\n",
    "display(HTML(\"\"\"\n",
    "<style>\n",
    "div.container{width:90% ! important;}\n",
    "div.cell.code_cell.rendered{width:100%}\n",
    "div.input_prompt{padding:0px}\n",
    "div.CodeMirror {font-family:Consolas ; font-size:12pt;}\n",
    "div.text_cell_render.rendered_html {font-size:12pt;}\n",
    "div.output {font-size:12pt; font-weight:bold}\n",
    "div.input {font-family:Consolas ; font-size:12pt;}\n",
    "div.prompt {min-width:70px;}\n",
    "div#toc-wrapper {padding-top:120px;}\n",
    "div.text_cell_render ul li{font-size:12pt;padding:5px;}\n",
    "table.dataframe{font-size:12px;}\n",
    "</style>\n",
    "\"\"\"))"
   ]
  },
  {
   "cell_type": "markdown",
   "id": "d14a6ace",
   "metadata": {},
   "source": [
    "<b><font size=\"6\" color=\"red\">ch.03 데이터 구조</font></b>\n",
    "- 리스트[100,20], 튜플(10,20), 딕셔너리{'name':'hong','score':99}, 셋{10,20}\n",
    "\n",
    "# 1절 리스트\n",
    "## 1.1 리스트 만들기\n",
    "- []를 이용해서 만들며, 여러개 값(여러 데이터 타입 가능)을 하나의 변수에 저장/관리 할 수 있음\n",
    "- list()함수 이용도 가능\n",
    "- 인덱스 : 각 요소의 위치, 인덱스는 0부터 시작 맨 마지막 인덱스는 -1\n",
    "- 슬라이싱([from:to:step]) : 부분 데이터셋 추출\n",
    "- 인덱스와 슬라이싱을 이용해서 쓰기와 읽기 지원"
   ]
  },
  {
   "cell_type": "code",
   "execution_count": null,
   "id": "288a1ad1",
   "metadata": {},
   "outputs": [],
   "source": [
    "fruit='banana'\n",
    "fruits=['banana','apple','orange','grape']\n",
    "type(fruilts)"
   ]
  },
  {
   "cell_type": "code",
   "execution_count": null,
   "id": "b1e77cba",
   "metadata": {},
   "outputs": [],
   "source": [
    "print(fruits)\n",
    "print(fruits[2]) # 인덱싱을 이용한 읽기\n",
    "# print(fruilts[4]) # 없는 인덱싱시 에러"
   ]
  },
  {
   "cell_type": "code",
   "execution_count": null,
   "id": "055c505d",
   "metadata": {},
   "outputs": [],
   "source": [
    "fruits[0]='mango' # 인덱싱을 이용한 쓰기\n",
    "print(fruits)"
   ]
  },
  {
   "cell_type": "code",
   "execution_count": null,
   "id": "a8f66716",
   "metadata": {},
   "outputs": [],
   "source": [
    "fruits=['mango','apple','orange']\n",
    "x,y,z=['mango','apple','orange']\n",
    "print(f\"x : {x}\")\n",
    "print('y : {}'.format(y))\n",
    "print(f\"z : {z}\")"
   ]
  },
  {
   "cell_type": "code",
   "execution_count": null,
   "id": "ac0b6509",
   "metadata": {},
   "outputs": [],
   "source": [
    "# range(from, to, by) : from부터 to앞까지 by씩 증가하는 나영 가능한 자료\n",
    "        # 숫자를 순차적으로 사용할 수 있게\n",
    "        # from 생략시 0, by 생략시 1\n",
    "range(0,10,1)\n",
    "range(10) # [0,1,2,3,4,5,6,7,8,9]"
   ]
  },
  {
   "cell_type": "code",
   "execution_count": null,
   "id": "a0d5bf69",
   "metadata": {},
   "outputs": [],
   "source": [
    "list(range(10))"
   ]
  },
  {
   "cell_type": "code",
   "execution_count": null,
   "id": "c030abed",
   "metadata": {},
   "outputs": [],
   "source": [
    "list(range(10,-1,-2))"
   ]
  },
  {
   "cell_type": "code",
   "execution_count": null,
   "id": "5d8a6eb3",
   "metadata": {},
   "outputs": [],
   "source": [
    "for i in [0,1,2]:\n",
    "    print(i)\n",
    "\n"
   ]
  },
  {
   "cell_type": "code",
   "execution_count": null,
   "id": "c50213d3",
   "metadata": {},
   "outputs": [],
   "source": [
    "for j in range(3):\n",
    "    print(j)"
   ]
  },
  {
   "cell_type": "code",
   "execution_count": null,
   "id": "0fe198f4",
   "metadata": {},
   "outputs": [],
   "source": [
    "fruits=['mango','apple','orange']\n",
    "# print(f\"{0}번쨰 과일은 {fruits[0]}\")\n",
    "# print(f\"{1}번쨰 과일은 {fruits[1]}\")\n",
    "# print(f\"{2}번쨰 과일은 {fruits[2]}\")\n",
    "N=len(fruits) #len(리스트(튜플 등도 가능)변수)를 쓰면 리스트의 변수갯수만큼 값을 가짐\n",
    "for idx in range(N):\n",
    "    print(f\"{idx}번쨰 과일은 {fruits[idx]}\")"
   ]
  },
  {
   "cell_type": "code",
   "execution_count": null,
   "id": "cad40fe7",
   "metadata": {},
   "outputs": [],
   "source": [
    "list(enumerate(fruits))"
   ]
  },
  {
   "cell_type": "code",
   "execution_count": null,
   "id": "605cbad3",
   "metadata": {},
   "outputs": [],
   "source": [
    "for i, fruit in enumerate(fruits): # [(0, 'mango'), (1, 'apple'), (2, 'orange')]:\n",
    "    print(f\"{i}번쨰 과일은 {fruit}\")"
   ]
  },
  {
   "cell_type": "code",
   "execution_count": null,
   "id": "6cb39c7b",
   "metadata": {},
   "outputs": [],
   "source": [
    "for x in fruits: \n",
    "    print(f\"{x}입니다\")"
   ]
  },
  {
   "cell_type": "code",
   "execution_count": null,
   "id": "cb859a03",
   "metadata": {},
   "outputs": [],
   "source": [
    "# 리스트는 여러 타입의 데이터를 담을 수 있음\n",
    "number=[0,True,\"2\",[2,3],[4,5,6]]\n",
    "print(number[2])\n",
    "print(number[4][1]) # 리스트 안의 리스트(튜플 등) 안에 들어 있는 값을 꺼내는 방법"
   ]
  },
  {
   "cell_type": "code",
   "execution_count": null,
   "id": "1cff4b04",
   "metadata": {},
   "outputs": [],
   "source": [
    "numbers=[1,2,3,4,5]\n",
    "        #0열, 1열 2열 3열 4열\n",
    "numbers_2d=[[1,2,3,4,5],      # 0행\n",
    "            [10,20,30,40,50], #1행\n",
    "            [1,3,5,7,9],      #2행\n",
    "            [2,4,6,8,10]]     #3행\n",
    "print(numbers_2d)"
   ]
  },
  {
   "cell_type": "code",
   "execution_count": null,
   "id": "23aaa00a",
   "metadata": {},
   "outputs": [],
   "source": [
    "# 특정랭,특정열 데이터 인덱싱\n",
    "print(numbers_2d[1][4])"
   ]
  },
  {
   "cell_type": "code",
   "execution_count": null,
   "id": "7f6e03af",
   "metadata": {},
   "outputs": [],
   "source": [
    "print(len(numbers_2d),len(numbers_2d[0]))"
   ]
  },
  {
   "cell_type": "code",
   "execution_count": null,
   "id": "78bc4875",
   "metadata": {},
   "outputs": [],
   "source": [
    "for row in numbers_2d:\n",
    "    for item in row:\n",
    "        print(item, end='\\t')\n",
    "    print() # 개행"
   ]
  },
  {
   "cell_type": "code",
   "execution_count": null,
   "id": "5e4e8f5b",
   "metadata": {},
   "outputs": [],
   "source": [
    "for i in range(len(numbers_2d)): # i : 행\n",
    "    for j in range(len(numbers_2d[i])): # j : 열\n",
    "            print(f\"{i}행{j}열 : {numbers_2d[i][j]}\",end=\"\\t\")\n",
    "    print()"
   ]
  },
  {
   "cell_type": "code",
   "execution_count": null,
   "id": "30cd3dea",
   "metadata": {},
   "outputs": [],
   "source": [
    "len(numbers_2d),len(numbers_2d[0]),len(numbers_2d[1])"
   ]
  },
  {
   "cell_type": "code",
   "execution_count": null,
   "id": "2ece803f",
   "metadata": {},
   "outputs": [],
   "source": [
    "list(enumerate(numbers_2d)),list(enumerate(numbers_2d[0]))"
   ]
  },
  {
   "cell_type": "code",
   "execution_count": null,
   "id": "449f4909",
   "metadata": {},
   "outputs": [],
   "source": [
    "for i,row in enumerate(numbers_2d): # i : 행\n",
    "    for j,item in enumerate(numbers_2d[i]): # j : 열\n",
    "            print(\"{}행{}열 : {}\".format(i,j,numbers_2d[i][j]),end=\"\\t\")\n",
    "    print()"
   ]
  },
  {
   "cell_type": "markdown",
   "id": "5974b1d2",
   "metadata": {},
   "source": [
    "## 1.2 기본정보 조회"
   ]
  },
  {
   "cell_type": "code",
   "execution_count": null,
   "id": "3d902ea6",
   "metadata": {},
   "outputs": [],
   "source": [
    "numbers =[1,12,3,4,5]\n",
    "numbers_2d=[[100,0,1],\n",
    "            [9,100,100],\n",
    "            [59,100,130]]"
   ]
  },
  {
   "cell_type": "code",
   "execution_count": null,
   "id": "8485b4ac",
   "metadata": {},
   "outputs": [],
   "source": [
    "# item 수\n",
    "len(numbers),len(numbers_2d)"
   ]
  },
  {
   "cell_type": "code",
   "execution_count": null,
   "id": "f70b3806",
   "metadata": {},
   "outputs": [],
   "source": [
    "# 최소값, 최댓값\n",
    "# 2차원 list의 최소/최댓값 : 부분리스트 중 첫 요소가 가장 작은/큰 값\n",
    "min(numbers), min(numbers_2d), max(numbers), max(numbers_2d)"
   ]
  },
  {
   "cell_type": "code",
   "execution_count": null,
   "id": "8c3329ad",
   "metadata": {},
   "outputs": [],
   "source": [
    "# listd의 데이터가 문자일 경우 ascii 코드값으로  min과 max적용\n",
    "fruits=['mango','apple','ornage']\n",
    "min(fruits), max(fruits)"
   ]
  },
  {
   "cell_type": "code",
   "execution_count": null,
   "id": "061a2929",
   "metadata": {},
   "outputs": [],
   "source": [
    "# 정렬하기(동일 자료형만 가능)\n",
    "numbers = [1,12,3,4,5]\n",
    "print(\"오름차순 정렬 : \", sorted(numbers))\n",
    "print(\"내림차순 정렬 : \", sorted(numbers,reverse=True))\n",
    "print(\"합 : \",sum(numbers))\n",
    "print('평균 : ',sum(numbers)/len(numbers))\n",
    "print(\"sorted함수 사용 시 리스트의 내용이 바뀌지 않음 : \",numbers)"
   ]
  },
  {
   "cell_type": "markdown",
   "id": "d8ba4e16",
   "metadata": {},
   "source": [
    "## 1.3 요소추가\n",
    "\n",
    "- `+` : 두 리스트 연결\n",
    "- `*` : 리스트를 곱한 수만큼 반복\n",
    "- **append() : 요소 마지막에 추가**\n",
    "- extend(리스트) : 리스트를 요소별로 마지막에 추가\n",
    "- insert(idx, 값) : idx번째 인덱스 위치에 값 추가\n"
   ]
  },
  {
   "cell_type": "code",
   "execution_count": null,
   "id": "1ee8ebed",
   "metadata": {},
   "outputs": [],
   "source": [
    "numbers = [1,2,3]\n",
    "numbers=numbers+numbers # 리스트 연결\n",
    "numbers"
   ]
  },
  {
   "cell_type": "code",
   "execution_count": null,
   "id": "80947eed",
   "metadata": {},
   "outputs": [],
   "source": [
    "numbers = [1,2,3]\n",
    "print(numbers*3) # 곱한 수 만큼 반복\n",
    "print(3*numbers)"
   ]
  },
  {
   "cell_type": "code",
   "execution_count": null,
   "id": "b20aaee7",
   "metadata": {},
   "outputs": [],
   "source": [
    "numbers.append(4) # 리스트 마지막에 4 추가\n",
    "numbers"
   ]
  },
  {
   "cell_type": "code",
   "execution_count": null,
   "id": "52a38f74",
   "metadata": {},
   "outputs": [],
   "source": [
    "numbers.append([5,6,7]) # 리스트의 마지막 요소에 [5,6,7] 추가\n",
    "numbers"
   ]
  },
  {
   "cell_type": "code",
   "execution_count": null,
   "id": "c48ddd1e",
   "metadata": {},
   "outputs": [],
   "source": [
    "numbers = [1,2,3]\n",
    "numbers.extend([4,5,6]) # 리스트의 마지막 요소에 4, 5, 6 추가\n",
    "numbers"
   ]
  },
  {
   "cell_type": "code",
   "execution_count": null,
   "id": "ecf82a8c",
   "metadata": {},
   "outputs": [],
   "source": [
    "lst = ['a','b','c']\n",
    "lst.append('d')\n",
    "lst"
   ]
  },
  {
   "cell_type": "code",
   "execution_count": null,
   "id": "79ca34c6",
   "metadata": {},
   "outputs": [],
   "source": [
    "lst.append('hello')\n",
    "lst"
   ]
  },
  {
   "cell_type": "code",
   "execution_count": null,
   "id": "d2d81fd5",
   "metadata": {},
   "outputs": [],
   "source": [
    "lst.extend('hello')\n",
    "lst"
   ]
  },
  {
   "cell_type": "code",
   "execution_count": null,
   "id": "73994a0e",
   "metadata": {},
   "outputs": [],
   "source": [
    "numbers =[1,2,3,4,5]\n",
    "numbers.insert(1, 'xx') # 1번쨰 인덱스에 'xx' 추가\n",
    "print(numbers)"
   ]
  },
  {
   "cell_type": "markdown",
   "id": "5e9e8919",
   "metadata": {},
   "source": [
    "## 1.4 인덱싱과 요소 갯수\n",
    "- list변수[index] : 인덱스를 이용한 접근\n",
    "- list변수.index(찾을 데이터) : 해당 찾을 데이터가 있는 요소의 index를 반환\n",
    "- 찾을데이터 in 변수 : 찾을 데이터가 list변수의 요소인지 여부\n",
    "- count(찾을 데이터) : list에서 해당 찾을 데이터의 갯수 반환"
   ]
  },
  {
   "cell_type": "code",
   "execution_count": null,
   "id": "944a76a6",
   "metadata": {},
   "outputs": [],
   "source": [
    "numbers =[1,2,3,[1,2,3],1,2,3]\n",
    "numbers.count(2), numbers.count([1,2,3])"
   ]
  },
  {
   "cell_type": "code",
   "execution_count": null,
   "id": "554e3879",
   "metadata": {},
   "outputs": [],
   "source": [
    "numbers.count(5)"
   ]
  },
  {
   "cell_type": "code",
   "execution_count": null,
   "id": "a2e9df2f",
   "metadata": {},
   "outputs": [],
   "source": [
    "print(2 in numbers) # 2가 numbers의 요소인지 여부(갯수는 확인하지 않음)\n",
    "print(5 in numbers)"
   ]
  },
  {
   "cell_type": "code",
   "execution_count": null,
   "id": "d6f1f42c",
   "metadata": {},
   "outputs": [],
   "source": [
    "numbers.index(5)"
   ]
  },
  {
   "cell_type": "code",
   "execution_count": null,
   "id": "bba3fd34",
   "metadata": {},
   "outputs": [],
   "source": [
    "if 5 in numbers:\n",
    "    print(numbers.index(5))\n",
    "else:\n",
    "    print('5가 요소에 포함되지 않습니다.')"
   ]
  },
  {
   "cell_type": "code",
   "execution_count": null,
   "id": "7459a2f3",
   "metadata": {},
   "outputs": [],
   "source": [
    "if numbers.count(5):\n",
    "    print(numbers.index(5))\n",
    "else:\n",
    "    print('5가 요소에 포함되지 않습니다.')"
   ]
  },
  {
   "cell_type": "code",
   "execution_count": null,
   "id": "95f6a5a0",
   "metadata": {},
   "outputs": [],
   "source": [
    "def safe_index(lst,item):\n",
    "    \"\"\"첫번째 매개변수 lst에서 item 요소가 있는 index를 반환. \n",
    "    itme 요소가 없으면 -1 반환\"\"\"\n",
    "    if item in lst:\n",
    "        return lst.index(item)\n",
    "    return -1"
   ]
  },
  {
   "cell_type": "code",
   "execution_count": 4,
   "id": "a4e6ac31",
   "metadata": {},
   "outputs": [
    {
     "data": {
      "text/plain": [
       "(2, -1)"
      ]
     },
     "execution_count": 4,
     "metadata": {},
     "output_type": "execute_result"
    }
   ],
   "source": [
    "from lst import safe_index # lst.py(모듈) 안의 safe_index를 메모리에 load\n",
    "numbers=[1,2,3]\n",
    "safe_index(numbers,3),safe_index(numbers,5)"
   ]
  },
  {
   "cell_type": "code",
   "execution_count": 5,
   "id": "402e9779",
   "metadata": {},
   "outputs": [
    {
     "ename": "IndexError",
     "evalue": "list index out of range",
     "output_type": "error",
     "traceback": [
      "\u001b[1;31m---------------------------------------------------------------------------\u001b[0m",
      "\u001b[1;31mIndexError\u001b[0m                                Traceback (most recent call last)",
      "Cell \u001b[1;32mIn[5], line 1\u001b[0m\n\u001b[1;32m----> 1\u001b[0m \u001b[43mnumbers\u001b[49m\u001b[43m[\u001b[49m\u001b[38;5;241;43m5\u001b[39;49m\u001b[43m]\u001b[49m\n",
      "\u001b[1;31mIndexError\u001b[0m: list index out of range"
     ]
    }
   ],
   "source": [
    "numbers[5] # 벗어난 인덱스로 인덱싱 시 에러"
   ]
  },
  {
   "cell_type": "code",
   "execution_count": 6,
   "id": "181a5f2e",
   "metadata": {},
   "outputs": [
    {
     "data": {
      "text/plain": [
       "[2, 3]"
      ]
     },
     "execution_count": 6,
     "metadata": {},
     "output_type": "execute_result"
    }
   ],
   "source": [
    "numbers[1:5] # 벗어난 인덱스로 슬라이싱 시 에러가 나지 않음"
   ]
  },
  {
   "cell_type": "markdown",
   "id": "660b37d6",
   "metadata": {},
   "source": [
    "## 1.5 원하는 요소 추출\n",
    "1. 리스트 슬라이싱\n",
    "    - [form:to:step] from번째부터 to 앞까지 step씩 증가하는 index값을 추출\n",
    "    - 인덱스의 범위를 벗어난 값도 에러나지 않음\n",
    "    - 인덱스는 음수 가능\n",
    "    \n",
    "<font color=\"red\">2. **리스트컴프리헨션** : 원하는 조건의 데이터 추출</font>\n"
   ]
  },
  {
   "cell_type": "code",
   "execution_count": 11,
   "id": "f3f715c4",
   "metadata": {},
   "outputs": [
    {
     "name": "stdout",
     "output_type": "stream",
     "text": [
      "[20, 19, 18, 13, 12, 10, 9, 5, 3, 1]\n",
      "[1, 5, 10, 13, 19]\n",
      "[5, 9, 10, 12, 13, 18, 19, 20]\n"
     ]
    }
   ],
   "source": [
    "numbers=[1,3,5,9,10,12,13,18,19,20]\n",
    "print(numbers[::-1]) # 거꾸고 출력\n",
    "print(numbers[0::2]) # 짝수 index 값 출력\n",
    "print(numbers[2:100]) # 인덱스를 벗어난 슬라이싱 가능\n"
   ]
  },
  {
   "cell_type": "code",
   "execution_count": 13,
   "id": "3b6c0a0e",
   "metadata": {},
   "outputs": [
    {
     "data": {
      "text/plain": [
       "[1, 3, 5, 9, 10, 12, 13, 18, 19, 20]"
      ]
     },
     "execution_count": 13,
     "metadata": {},
     "output_type": "execute_result"
    }
   ],
   "source": [
    "# 모든 데이터 출력\n",
    "# for data in numbers:\n",
    "#     print(data, end=\"\\t\")\n",
    "[data for data in numbers]"
   ]
  },
  {
   "cell_type": "code",
   "execution_count": 16,
   "id": "951e2946",
   "metadata": {},
   "outputs": [
    {
     "data": {
      "text/plain": [
       "[10, 12, 18, 20]"
      ]
     },
     "execution_count": 16,
     "metadata": {},
     "output_type": "execute_result"
    }
   ],
   "source": [
    "# 짝수 데이터 추출\n",
    "# for data in numbers:\n",
    "#     if data%2==0:\n",
    "#         print(data, end=\" \")\n",
    "[data for data in numbers if data%2==0]"
   ]
  },
  {
   "cell_type": "code",
   "execution_count": 17,
   "id": "be6516cb",
   "metadata": {},
   "outputs": [
    {
     "data": {
      "text/plain": [
       "[10, 12, 13, 18, 19, 20]"
      ]
     },
     "execution_count": 17,
     "metadata": {},
     "output_type": "execute_result"
    }
   ],
   "source": [
    "# quiz\n",
    "# 1. number에서 10 이상인 요소만 추출\n",
    "[data for data in numbers if data>=10] \n",
    "# [data for data]에서 data는 변수명이므로 바꾸어도 상관없으나 A for B에서 A와 B는 같은 값이여야 한다"
   ]
  },
  {
   "cell_type": "code",
   "execution_count": 19,
   "id": "88940a17",
   "metadata": {},
   "outputs": [
    {
     "data": {
      "text/plain": [
       "['orange', 'apple', 'mango']"
      ]
     },
     "execution_count": 19,
     "metadata": {},
     "output_type": "execute_result"
    }
   ],
   "source": [
    "# 2. fruits에서 과일의 글자가 5글자 이상인 과일만 추출\n",
    "fruits=['orange','apple','mango','kiwi']\n",
    "[data for data in fruits if len(data)>=5]"
   ]
  },
  {
   "cell_type": "code",
   "execution_count": 20,
   "id": "b845b55a",
   "metadata": {},
   "outputs": [
    {
     "data": {
      "text/plain": [
       "[6, 5, 5, 4]"
      ]
     },
     "execution_count": 20,
     "metadata": {},
     "output_type": "execute_result"
    }
   ],
   "source": [
    "# 2-1 fruits 리스트의 과일 글자수\n",
    "[len(data) for data in fruits]"
   ]
  },
  {
   "cell_type": "code",
   "execution_count": 22,
   "id": "6f8d5210",
   "metadata": {},
   "outputs": [
    {
     "data": {
      "text/plain": [
       "[9, 16, 25]"
      ]
     },
     "execution_count": 22,
     "metadata": {},
     "output_type": "execute_result"
    }
   ],
   "source": [
    "# 3. 3이상인 요소들의 제곱을 추출\n",
    "L=[1,2,3,4,5]\n",
    "[data**2 for data in L if data>=3]"
   ]
  },
  {
   "cell_type": "code",
   "execution_count": 23,
   "id": "3185d91a",
   "metadata": {},
   "outputs": [
    {
     "data": {
      "text/plain": [
       "[2, 4, 6, 8, 10]"
      ]
     },
     "execution_count": 23,
     "metadata": {},
     "output_type": "execute_result"
    }
   ],
   "source": [
    "# 4. 리스트(L) 요소의 값의 2배를 추출\n",
    "[data*2 for data in L]"
   ]
  },
  {
   "cell_type": "markdown",
   "id": "d1bf26d5",
   "metadata": {},
   "source": [
    "## 1.6 요소 수정하기\n",
    "- 인덱스, 슬라이싱을 이용해서 수정"
   ]
  },
  {
   "cell_type": "code",
   "execution_count": 24,
   "id": "be64a48b",
   "metadata": {},
   "outputs": [
    {
     "data": {
      "text/plain": [
       "[0, 1, 222, 3, 4, 5, 6, 7, 8, 9]"
      ]
     },
     "execution_count": 24,
     "metadata": {},
     "output_type": "execute_result"
    }
   ],
   "source": [
    "numbers=[0,1,2,3,4,5,6,7,8,9]\n",
    "numbers[2] = 222\n",
    "numbers"
   ]
  },
  {
   "cell_type": "code",
   "execution_count": 25,
   "id": "df1a0850",
   "metadata": {},
   "outputs": [
    {
     "data": {
      "text/plain": [
       "['xx', 'xxx', 'xxxx', 222, 3, 4, 5, 6, 7, 8, 9]"
      ]
     },
     "execution_count": 25,
     "metadata": {},
     "output_type": "execute_result"
    }
   ],
   "source": [
    "# 슬라이싱(step부분 미포함)을 이용하여 부분 리스트를 통채로 수정\n",
    "numbers[:2]=['xx','xxx','xxxx']\n",
    "numbers"
   ]
  },
  {
   "cell_type": "code",
   "execution_count": 26,
   "id": "52d68b7c",
   "metadata": {},
   "outputs": [
    {
     "name": "stdout",
     "output_type": "stream",
     "text": [
      "수정전: [0, 0, 0, 0, 0, 0, 0, 0, 0, 0]\n",
      "수정후: [9, 0, 9, 0, 9, 0, 9, 0, 9, 0]\n"
     ]
    }
   ],
   "source": [
    "# 슬라이싱(step부분 포함)을 이용하여 부분 수정 시 요소 갯수 맞아야 함\n",
    "numbers=[0]*10\n",
    "print(\"수정전:\", numbers)\n",
    "numbers[::2]= [9,9,9,9,9]\n",
    "print(\"수정후:\", numbers)"
   ]
  },
  {
   "cell_type": "code",
   "execution_count": 27,
   "id": "7a3fff60",
   "metadata": {},
   "outputs": [
    {
     "ename": "ValueError",
     "evalue": "attempt to assign sequence of size 4 to extended slice of size 5",
     "output_type": "error",
     "traceback": [
      "\u001b[1;31m---------------------------------------------------------------------------\u001b[0m",
      "\u001b[1;31mValueError\u001b[0m                                Traceback (most recent call last)",
      "Cell \u001b[1;32mIn[27], line 1\u001b[0m\n\u001b[1;32m----> 1\u001b[0m numbers[::\u001b[38;5;241m2\u001b[39m]\u001b[38;5;241m=\u001b[39m [\u001b[38;5;241m9\u001b[39m,\u001b[38;5;241m9\u001b[39m,\u001b[38;5;241m9\u001b[39m,\u001b[38;5;241m9\u001b[39m]\n",
      "\u001b[1;31mValueError\u001b[0m: attempt to assign sequence of size 4 to extended slice of size 5"
     ]
    }
   ],
   "source": [
    "numbers[::2]= [9,9,9,9]"
   ]
  },
  {
   "cell_type": "markdown",
   "id": "ddaa62eb",
   "metadata": {},
   "source": [
    "## 1.7 요소 삭제\n",
    "- pop() : 가장 마지막 인덱스의 요소가 반환되고 삭제\n",
    "- pop(idx) :idx번쨰 요소가 반환되고 삭제\n",
    "- remove(data) : list 안의 data가 삭제 **※주의 없는 값 입력 시 error**\n",
    "- del 리스트 변수[idx] : idx번째 요소 삭제"
   ]
  },
  {
   "cell_type": "code",
   "execution_count": 35,
   "id": "d5be2f79",
   "metadata": {},
   "outputs": [
    {
     "name": "stdout",
     "output_type": "stream",
     "text": [
      "삭제한 데이터 :  5\n",
      "삭제 후 numbers [1, 2, 3, 4]\n",
      "1번째 삭제한 데이터 :  2\n",
      "1번째 삭제 후 numbers [1, 3, 4]\n",
      "데이터 1 삭제\n",
      "데이터 1 삭제 후 numbers [3, 4]\n",
      "del numbers[1]\n",
      "[3]\n"
     ]
    }
   ],
   "source": [
    "numbers = [1,2,3,4,5]\n",
    "print(\"삭제한 데이터 : \",numbers.pop())\n",
    "print(\"삭제 후 numbers\", numbers)\n",
    "print(\"1번째 삭제한 데이터 : \", numbers.pop(1) )\n",
    "print(\"1번째 삭제 후 numbers\", numbers)\n",
    "print(\"데이터 1 삭제\")\n",
    "numbers.remove(1) \n",
    "print(\"데이터 1 삭제 후 numbers\", numbers)\n",
    "print(\"del numbers[1]\")\n",
    "del numbers[1]\n",
    "print(numbers)"
   ]
  },
  {
   "cell_type": "code",
   "execution_count": 36,
   "id": "ea76943a",
   "metadata": {},
   "outputs": [
    {
     "name": "stdout",
     "output_type": "stream",
     "text": [
      "헤당 데이터는 없는 item 입니다.\n"
     ]
    }
   ],
   "source": [
    "# remove.numbers[9]\n",
    "if 9 in numbers:\n",
    "    numbers.remove(9)\n",
    "else:\n",
    "    print(\"헤당 데이터는 없는 item 입니다.\")"
   ]
  },
  {
   "cell_type": "code",
   "execution_count": 37,
   "id": "9a8e2c50",
   "metadata": {},
   "outputs": [
    {
     "data": {
      "text/plain": [
       "[]"
      ]
     },
     "execution_count": 37,
     "metadata": {},
     "output_type": "execute_result"
    }
   ],
   "source": [
    "numbers.clear() # 모든 요소를 삭제\n",
    "numbers"
   ]
  },
  {
   "cell_type": "markdown",
   "id": "d4ee26cf",
   "metadata": {},
   "source": [
    "## 1.8 정렬하기"
   ]
  },
  {
   "cell_type": "code",
   "execution_count": 38,
   "id": "0622acce",
   "metadata": {},
   "outputs": [
    {
     "name": "stdout",
     "output_type": "stream",
     "text": [
      "numbers는 변경하지 않고, 정렬결과 :  [0, 5, 6, 8, 9]\n",
      "numbers : [9, 5, 8, 0, 6]\n"
     ]
    }
   ],
   "source": [
    "numbers=[9,5,8,0,6]\n",
    "print(\"numbers는 변경하지 않고, 정렬결과 : \", sorted(numbers))\n",
    "print(\"numbers :\",numbers)"
   ]
  },
  {
   "cell_type": "code",
   "execution_count": 39,
   "id": "015a20f3",
   "metadata": {},
   "outputs": [
    {
     "data": {
      "text/plain": [
       "[0, 5, 6, 8, 9]"
      ]
     },
     "execution_count": 39,
     "metadata": {},
     "output_type": "execute_result"
    }
   ],
   "source": [
    "numbers.sort() # 리스트값 자체를 오름차순 결과로 정렬함\n",
    "numbers"
   ]
  },
  {
   "cell_type": "code",
   "execution_count": 40,
   "id": "32f39cc4",
   "metadata": {},
   "outputs": [
    {
     "data": {
      "text/plain": [
       "[9, 8, 6, 5, 0]"
      ]
     },
     "execution_count": 40,
     "metadata": {},
     "output_type": "execute_result"
    }
   ],
   "source": [
    "numbers.sort(reverse=True) # 리스트값 자체를 내림차순 결과로 정렬함\n",
    "numbers"
   ]
  },
  {
   "cell_type": "code",
   "execution_count": 41,
   "id": "e0050135",
   "metadata": {},
   "outputs": [
    {
     "data": {
      "text/plain": [
       "[0, 5, 6, 8, 9]"
      ]
     },
     "execution_count": 41,
     "metadata": {},
     "output_type": "execute_result"
    }
   ],
   "source": [
    "numbers.reverse() #리스트를 역순으로 변경\n",
    "# numbers=numbers[::-1]\n",
    "numbers"
   ]
  },
  {
   "cell_type": "markdown",
   "id": "9807334d",
   "metadata": {},
   "source": [
    "## 1.9 리스트복제"
   ]
  },
  {
   "cell_type": "code",
   "execution_count": 45,
   "id": "d5beea74",
   "metadata": {
    "scrolled": true
   },
   "outputs": [
    {
     "name": "stdout",
     "output_type": "stream",
     "text": [
      "원본 i =10, 복사본copied_i=10 / 원본주소=1324556091920, 복사본주소=1324556091920\n",
      "원본 i =10, 복사본copied_i=99 / 원본주소=1324556091920, 복사본주소=1324556094768\n"
     ]
    }
   ],
   "source": [
    "# 스칼라 데이터 복제\n",
    "i = 10\n",
    "copied_i = i\n",
    "print(f\"원본 i ={i}, 복사본copied_i={copied_i} / 원본주소={id(i)}, 복사본주소={id(copied_i)}\")\n",
    "copied_i=99\n",
    "print(f\"원본 i ={i}, 복사본copied_i={copied_i} / 원본주소={id(i)}, 복사본주소={id(copied_i)}\")"
   ]
  },
  {
   "cell_type": "code",
   "execution_count": 49,
   "id": "9b1648be",
   "metadata": {},
   "outputs": [
    {
     "name": "stdout",
     "output_type": "stream",
     "text": [
      "원본주소=1324681916928, \n",
      "복제본주소=1324681916928\n",
      "원본내용=[99, 6, 1, 9], \n",
      "복제본내용=[99, 6, 1, 9]\n",
      "원본주소=1324681916928, \n",
      "복제본주소=1324681916928\n"
     ]
    }
   ],
   "source": [
    "# 데이터 구조의 복제\n",
    "numbers = [5,6,1,9]\n",
    "new_numbers = numbers # 할당\n",
    "print(f\"원본주소={id(numbers)}, \\n복제본주소={id(new_numbers)}\")\n",
    "new_numbers[0] = 99 \n",
    "print(f\"원본내용={numbers}, \\n복제본내용={new_numbers}\")\n",
    "print(f\"원본주소={id(numbers)}, \\n복제본주소={id(new_numbers)}\")"
   ]
  },
  {
   "cell_type": "code",
   "execution_count": 50,
   "id": "0e923bbb",
   "metadata": {},
   "outputs": [
    {
     "name": "stdout",
     "output_type": "stream",
     "text": [
      "원본 :  [1, 5, 6, 9]\n",
      "복제본 :  [1, 5, 6, 9]\n",
      "원본주소 :  1324681592704\n",
      "복제본주소 :  1324681592704\n"
     ]
    }
   ],
   "source": [
    "# 할당 \n",
    "numbers=[5,6,1,9]\n",
    "new_numbers=numbers\n",
    "new_numbers.sort()\n",
    "print(\"원본 : \",numbers)\n",
    "print(\"복제본 : \",new_numbers)\n",
    "print(\"원본주소 : \", id(numbers))\n",
    "print(\"복제본주소 : \", id(new_numbers))"
   ]
  },
  {
   "cell_type": "code",
   "execution_count": 55,
   "id": "529d59e9",
   "metadata": {},
   "outputs": [
    {
     "name": "stdout",
     "output_type": "stream",
     "text": [
      "원본 : [5, 6, 1, 9]\n",
      "복제본 : [1, 5, 6, 9]\n",
      "원본 : 1324684154112\n",
      "복제본 : 1324684154240\n"
     ]
    }
   ],
   "source": [
    "# 리스트 복제(깊은 복사)\n",
    "numbers = [5,6,1,9]\n",
    "new_numbers = numbers.copy() # numbers를 복제(깊은 복사)\n",
    "new_numbers.sort()\n",
    "print(\"원본 :\",numbers)\n",
    "print(\"복제본 :\",new_numbers)\n",
    "print(\"원본 :\",id(numbers))\n",
    "print(\"복제본 :\",id(new_numbers))\n"
   ]
  },
  {
   "cell_type": "code",
   "execution_count": 51,
   "id": "88c2cfe1",
   "metadata": {},
   "outputs": [
    {
     "name": "stdout",
     "output_type": "stream",
     "text": [
      "원본 : [5, 6, 1, 9]\n",
      "정렬본 : [1, 5, 6, 9]\n"
     ]
    }
   ],
   "source": [
    "# numbers = [5,6,1,9]\n",
    "# new_numbers = sorted(numbers) 가능은 하나 속도가 느림\n",
    "# print(\"원본 :\",numbers)\n",
    "# print(\"정렬본 :\",new_numbers)"
   ]
  },
  {
   "cell_type": "code",
   "execution_count": 56,
   "id": "35d5c58b",
   "metadata": {},
   "outputs": [
    {
     "name": "stdout",
     "output_type": "stream",
     "text": [
      "정렬전 : ['서울', '대전', '대구', '부산', '하남', '수원', '인천', '제주']\n",
      "정렬후 : ['대구', '대전', '부산', '서울', '수원', '인천', '제주', '하남']\n"
     ]
    }
   ],
   "source": [
    "city=['서울','대전','대구','부산','하남','수원','인천','제주']\n",
    "temp=city.copy()\n",
    "temp.sort()\n",
    "print(\"정렬전 :\",city)\n",
    "print(\"정렬후 :\",temp)"
   ]
  },
  {
   "cell_type": "code",
   "execution_count": 57,
   "id": "8465e943",
   "metadata": {},
   "outputs": [
    {
     "name": "stdout",
     "output_type": "stream",
     "text": [
      "정렬전 : ['서울', '대전', '대구', '부산', '하남', '수원', '인천', '제주']\n",
      "정렬후 : []\n"
     ]
    }
   ],
   "source": [
    "temp.clear()\n",
    "print(\"정렬전 :\",city)\n",
    "print(\"정렬후 :\",temp)"
   ]
  },
  {
   "cell_type": "markdown",
   "id": "3159740a",
   "metadata": {},
   "source": [
    "# 2절 튜플\n",
    "- 리스트([])와 유사하지만 읽기전용, 수정이 필요없는 데이터에서 사용\n",
    "- 수정이 불가하므로, 튜플에서 데이터 수정, 추가, 삭제 불가\n",
    "- 제공되는 함수도 많지 않음\n",
    "- ()이용해서 생성"
   ]
  },
  {
   "cell_type": "code",
   "execution_count": 59,
   "id": "f60da0a6",
   "metadata": {},
   "outputs": [
    {
     "name": "stdout",
     "output_type": "stream",
     "text": [
      "<class 'tuple'>\n",
      "('서울', '대전', '대구', '부산', '하남')\n"
     ]
    }
   ],
   "source": [
    "# city =('서울','대전','대구','부산','하남')\n",
    "# 파이썬은 여러개의 값이 전달 될 때 튜플 타입이로 전달\n",
    "city = '서울','대전','대구','부산','하남' # 괄호를 쓰지 않아도 튜플이 되나 비추(가독성 저하)\n",
    "print(type(city))\n",
    "print(city)"
   ]
  },
  {
   "cell_type": "code",
   "execution_count": 60,
   "id": "c9e82e9f",
   "metadata": {},
   "outputs": [
    {
     "data": {
      "text/plain": [
       "'서울, 대전, 대구, 부산, 하남'"
      ]
     },
     "execution_count": 60,
     "metadata": {},
     "output_type": "execute_result"
    }
   ],
   "source": [
    "# 매개변수로 list가 오는 함수는 tuple 매개변수로 함수 사용\n",
    "', '.join(city)"
   ]
  },
  {
   "cell_type": "code",
   "execution_count": 61,
   "id": "a6b6147e",
   "metadata": {},
   "outputs": [
    {
     "data": {
      "text/plain": [
       "1"
      ]
     },
     "execution_count": 61,
     "metadata": {},
     "output_type": "execute_result"
    }
   ],
   "source": [
    "from lst import safe_index\n",
    "safe_index(city,\"대전\")"
   ]
  },
  {
   "cell_type": "code",
   "execution_count": 64,
   "id": "b54e6e1a",
   "metadata": {},
   "outputs": [
    {
     "name": "stdout",
     "output_type": "stream",
     "text": [
      "<class 'list'>\n",
      "['서울']\n",
      "1\n"
     ]
    }
   ],
   "source": [
    "l = ['서울'] # 요쇼가 하나 있는 리스트\n",
    "print(type(l))\n",
    "print(l)\n",
    "print(len(l))"
   ]
  },
  {
   "cell_type": "code",
   "execution_count": 71,
   "id": "8fe956e6",
   "metadata": {},
   "outputs": [
    {
     "name": "stdout",
     "output_type": "stream",
     "text": [
      "<class 'str'>\n",
      "서울\n",
      "2\n"
     ]
    }
   ],
   "source": [
    "city = ('서울') # 요소가 하나 있는 튜플(x) -> 문자열\n",
    "print(type(city))\n",
    "print(city)\n",
    "print(len(city))"
   ]
  },
  {
   "cell_type": "code",
   "execution_count": 72,
   "id": "43e07e70",
   "metadata": {},
   "outputs": [
    {
     "name": "stdout",
     "output_type": "stream",
     "text": [
      "<class 'tuple'>\n",
      "('서울',)\n",
      "1\n"
     ]
    }
   ],
   "source": [
    "city = ('서울',) # 요소가 하나 있는 튜플(o)\n",
    "print(type(city))\n",
    "print(city)\n",
    "print(len(city))"
   ]
  },
  {
   "cell_type": "code",
   "execution_count": 76,
   "id": "b6b3d017",
   "metadata": {},
   "outputs": [],
   "source": [
    "numbers=(1,2,3)\n",
    "# numbers.append(4) 수정하기 위한 함수는 제공되지 않음"
   ]
  },
  {
   "cell_type": "code",
   "execution_count": 77,
   "id": "6208de85",
   "metadata": {},
   "outputs": [
    {
     "data": {
      "text/plain": [
       "(1, 3, 6)"
      ]
     },
     "execution_count": 77,
     "metadata": {},
     "output_type": "execute_result"
    }
   ],
   "source": [
    "min(numbers), max(numbers), sum(numbers)"
   ]
  },
  {
   "cell_type": "code",
   "execution_count": 78,
   "id": "08d8882a",
   "metadata": {},
   "outputs": [
    {
     "data": {
      "text/plain": [
       "1"
      ]
     },
     "execution_count": 78,
     "metadata": {},
     "output_type": "execute_result"
    }
   ],
   "source": [
    "numbers.count(2)"
   ]
  },
  {
   "cell_type": "code",
   "execution_count": 79,
   "id": "0c5eed66",
   "metadata": {},
   "outputs": [
    {
     "data": {
      "text/plain": [
       "2"
      ]
     },
     "execution_count": 79,
     "metadata": {},
     "output_type": "execute_result"
    }
   ],
   "source": [
    "numbers.index(3)"
   ]
  },
  {
   "cell_type": "code",
   "execution_count": 82,
   "id": "968b81d8",
   "metadata": {},
   "outputs": [
    {
     "name": "stdout",
     "output_type": "stream",
     "text": [
      "헤당 데이터 없음\n"
     ]
    }
   ],
   "source": [
    "if 4 in numbers:\n",
    "    numbers.index(4)\n",
    "else:\n",
    "    print('헤당 데이터 없음')"
   ]
  },
  {
   "cell_type": "code",
   "execution_count": 80,
   "id": "c20ea82c",
   "metadata": {},
   "outputs": [
    {
     "data": {
      "text/plain": [
       "-1"
      ]
     },
     "execution_count": 80,
     "metadata": {},
     "output_type": "execute_result"
    }
   ],
   "source": [
    "safe_index(numbers,4)"
   ]
  },
  {
   "cell_type": "code",
   "execution_count": null,
   "id": "ac861224",
   "metadata": {},
   "outputs": [],
   "source": []
  }
 ],
 "metadata": {
  "kernelspec": {
   "display_name": "Python 3 (ipykernel)",
   "language": "python",
   "name": "python3"
  },
  "language_info": {
   "codemirror_mode": {
    "name": "ipython",
    "version": 3
   },
   "file_extension": ".py",
   "mimetype": "text/x-python",
   "name": "python",
   "nbconvert_exporter": "python",
   "pygments_lexer": "ipython3",
   "version": "3.10.9"
  },
  "toc": {
   "base_numbering": 1,
   "nav_menu": {},
   "number_sections": false,
   "sideBar": true,
   "skip_h1_title": false,
   "title_cell": "Table of Contents",
   "title_sidebar": "Contents",
   "toc_cell": false,
   "toc_position": {
    "height": "calc(100% - 180px)",
    "left": "10px",
    "top": "150px",
    "width": "213.797px"
   },
   "toc_section_display": true,
   "toc_window_display": true
  }
 },
 "nbformat": 4,
 "nbformat_minor": 5
}
