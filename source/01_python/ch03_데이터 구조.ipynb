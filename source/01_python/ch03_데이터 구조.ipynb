{
 "cells": [
  {
   "cell_type": "code",
   "execution_count": 1,
   "id": "35a51f41",
   "metadata": {},
   "outputs": [
    {
     "data": {
      "text/html": [
       "\n",
       "<style>\n",
       "div.container{width:90% ! important;}\n",
       "div.cell.code_cell.rendered{width:100%}\n",
       "div.input_prompt{padding:0px}\n",
       "div.CodeMirror {font-family:Consolas ; font-size:12pt;}\n",
       "div.text_cell_render.rendered_html {font-size:12pt;}\n",
       "div.output {font-size:12pt; font-weight:bold}\n",
       "div.input {font-family:Consolas ; font-size:12pt;}\n",
       "div.prompt {min-width:70px;}\n",
       "div#toc-wrapper {padding-top:120px;}\n",
       "div.text_cell_render ul li{font-size:12pt;padding:5px;}\n",
       "table.dataframe{font-size:12px;}\n",
       "</style>\n"
      ],
      "text/plain": [
       "<IPython.core.display.HTML object>"
      ]
     },
     "metadata": {},
     "output_type": "display_data"
    }
   ],
   "source": [
    "from IPython.display import display, HTML\n",
    "display(HTML(\"\"\"\n",
    "<style>\n",
    "div.container{width:90% ! important;}\n",
    "div.cell.code_cell.rendered{width:100%}\n",
    "div.input_prompt{padding:0px}\n",
    "div.CodeMirror {font-family:Consolas ; font-size:12pt;}\n",
    "div.text_cell_render.rendered_html {font-size:12pt;}\n",
    "div.output {font-size:12pt; font-weight:bold}\n",
    "div.input {font-family:Consolas ; font-size:12pt;}\n",
    "div.prompt {min-width:70px;}\n",
    "div#toc-wrapper {padding-top:120px;}\n",
    "div.text_cell_render ul li{font-size:12pt;padding:5px;}\n",
    "table.dataframe{font-size:12px;}\n",
    "</style>\n",
    "\"\"\"))"
   ]
  },
  {
   "cell_type": "markdown",
   "id": "d14a6ace",
   "metadata": {},
   "source": [
    "<b><font size=\"6\" color=\"red\">ch.03 데이터 구조</font></b>\n",
    "- 리스트[100,20], 튜플(10,20), 딕셔너리{'name':'hong','score':99}, 셋{10,20}\n",
    "\n",
    "# 1절 리스트\n",
    "## 1.1 리스트 만들기\n",
    "- []를 이용해서 만들며, 여러개 값(여러 데이터 타입 가능)을 하나의 변수에 저장/관리 할 수 있음\n",
    "- list()함수 이용도 가능\n",
    "- 인덱스 : 각 요소의 위치, 인덱스는 0부터 시작 맨 마지막 인덱스는 -1\n",
    "- 슬라이싱([from:to:step]) : 부분 데이터셋 추출\n",
    "- 인덱스와 슬라이싱을 이용해서 쓰기와 읽기 지원"
   ]
  },
  {
   "cell_type": "code",
   "execution_count": null,
   "id": "288a1ad1",
   "metadata": {},
   "outputs": [],
   "source": [
    "fruit='banana'\n",
    "fruits=['banana','apple','orange','grape']\n",
    "type(fruits)"
   ]
  },
  {
   "cell_type": "code",
   "execution_count": null,
   "id": "b1e77cba",
   "metadata": {},
   "outputs": [],
   "source": [
    "print(fruits)\n",
    "print(fruits[2]) # 인덱싱을 이용한 읽기\n",
    "# print(fruilts[4]) # 없는 인덱싱시 에러"
   ]
  },
  {
   "cell_type": "code",
   "execution_count": null,
   "id": "055c505d",
   "metadata": {},
   "outputs": [],
   "source": [
    "fruits[0]='mango' # 인덱싱을 이용한 쓰기\n",
    "print(fruits)"
   ]
  },
  {
   "cell_type": "code",
   "execution_count": null,
   "id": "a8f66716",
   "metadata": {},
   "outputs": [],
   "source": [
    "fruits=['mango','apple','orange']\n",
    "x,y,z=['mango','apple','orange']\n",
    "print(f\"x : {x}\")\n",
    "print('y : {}'.format(y))\n",
    "print(f\"z : {z}\")"
   ]
  },
  {
   "cell_type": "code",
   "execution_count": null,
   "id": "ac0b6509",
   "metadata": {},
   "outputs": [],
   "source": [
    "# range(from, to, by) : from부터 to앞까지 by씩 증가하는 나영 가능한 자료\n",
    "        # 숫자를 순차적으로 사용할 수 있게\n",
    "        # from 생략시 0, by 생략시 1\n",
    "range(0,10,1)\n",
    "range(10) # [0,1,2,3,4,5,6,7,8,9]"
   ]
  },
  {
   "cell_type": "code",
   "execution_count": null,
   "id": "a0d5bf69",
   "metadata": {},
   "outputs": [],
   "source": [
    "list(range(10))"
   ]
  },
  {
   "cell_type": "code",
   "execution_count": null,
   "id": "c030abed",
   "metadata": {},
   "outputs": [],
   "source": [
    "list(range(10,-1,-2))"
   ]
  },
  {
   "cell_type": "code",
   "execution_count": null,
   "id": "5d8a6eb3",
   "metadata": {},
   "outputs": [],
   "source": [
    "for i in [0,1,2]:\n",
    "    print(i)\n",
    "\n"
   ]
  },
  {
   "cell_type": "code",
   "execution_count": null,
   "id": "c50213d3",
   "metadata": {},
   "outputs": [],
   "source": [
    "for j in range(3):\n",
    "    print(j)"
   ]
  },
  {
   "cell_type": "code",
   "execution_count": null,
   "id": "0fe198f4",
   "metadata": {},
   "outputs": [],
   "source": [
    "fruits=['mango','apple','orange']\n",
    "# print(f\"{0}번쨰 과일은 {fruits[0]}\")\n",
    "# print(f\"{1}번쨰 과일은 {fruits[1]}\")\n",
    "# print(f\"{2}번쨰 과일은 {fruits[2]}\")\n",
    "N=len(fruits) #len(리스트(튜플 등도 가능)변수)를 쓰면 리스트의 변수갯수만큼 값을 가짐\n",
    "for idx in range(N):\n",
    "    print(f\"{idx}번쨰 과일은 {fruits[idx]}\")"
   ]
  },
  {
   "cell_type": "code",
   "execution_count": null,
   "id": "cad40fe7",
   "metadata": {},
   "outputs": [],
   "source": [
    "list(enumerate(fruits))"
   ]
  },
  {
   "cell_type": "code",
   "execution_count": null,
   "id": "605cbad3",
   "metadata": {},
   "outputs": [],
   "source": [
    "for i, fruit in enumerate(fruits): # [(0, 'mango'), (1, 'apple'), (2, 'orange')]:\n",
    "    print(f\"{i}번쨰 과일은 {fruit}\")"
   ]
  },
  {
   "cell_type": "code",
   "execution_count": null,
   "id": "6cb39c7b",
   "metadata": {},
   "outputs": [],
   "source": [
    "for x in fruits: \n",
    "    print(f\"{x}입니다\")"
   ]
  },
  {
   "cell_type": "code",
   "execution_count": null,
   "id": "cb859a03",
   "metadata": {},
   "outputs": [],
   "source": [
    "# 리스트는 여러 타입의 데이터를 담을 수 있음\n",
    "number=[0,True,\"2\",[2,3],[4,5,6]]\n",
    "print(number[2])\n",
    "print(number[4][1]) # 리스트 안의 리스트(튜플 등) 안에 들어 있는 값을 꺼내는 방법"
   ]
  },
  {
   "cell_type": "code",
   "execution_count": null,
   "id": "1cff4b04",
   "metadata": {},
   "outputs": [],
   "source": [
    "numbers=[1,2,3,4,5]\n",
    "        #0열, 1열 2열 3열 4열\n",
    "numbers_2d=[[1,2,3,4,5],      # 0행\n",
    "            [10,20,30,40,50], #1행\n",
    "            [1,3,5,7,9],      #2행\n",
    "            [2,4,6,8,10]]     #3행\n",
    "print(numbers_2d)"
   ]
  },
  {
   "cell_type": "code",
   "execution_count": null,
   "id": "23aaa00a",
   "metadata": {},
   "outputs": [],
   "source": [
    "# 특정랭,특정열 데이터 인덱싱\n",
    "print(numbers_2d[1][4])"
   ]
  },
  {
   "cell_type": "code",
   "execution_count": null,
   "id": "7f6e03af",
   "metadata": {},
   "outputs": [],
   "source": [
    "print(len(numbers_2d),len(numbers_2d[0]))"
   ]
  },
  {
   "cell_type": "code",
   "execution_count": null,
   "id": "78bc4875",
   "metadata": {},
   "outputs": [],
   "source": [
    "for row in numbers_2d:\n",
    "    for item in row:\n",
    "        print(item, end='\\t')\n",
    "    print() # 개행"
   ]
  },
  {
   "cell_type": "code",
   "execution_count": null,
   "id": "5e4e8f5b",
   "metadata": {},
   "outputs": [],
   "source": [
    "for i in range(len(numbers_2d)): # i : 행\n",
    "    for j in range(len(numbers_2d[i])): # j : 열\n",
    "            print(f\"{i}행{j}열 : {numbers_2d[i][j]}\",end=\"\\t\")\n",
    "    print()"
   ]
  },
  {
   "cell_type": "code",
   "execution_count": null,
   "id": "30cd3dea",
   "metadata": {},
   "outputs": [],
   "source": [
    "len(numbers_2d),len(numbers_2d[0]),len(numbers_2d[1])"
   ]
  },
  {
   "cell_type": "code",
   "execution_count": null,
   "id": "2ece803f",
   "metadata": {},
   "outputs": [],
   "source": [
    "list(enumerate(numbers_2d)),list(enumerate(numbers_2d[0]))"
   ]
  },
  {
   "cell_type": "code",
   "execution_count": null,
   "id": "449f4909",
   "metadata": {},
   "outputs": [],
   "source": [
    "for i,row in enumerate(numbers_2d): # i : 행\n",
    "    for j,item in enumerate(numbers_2d[i]): # j : 열\n",
    "            print(\"{}행{}열 : {}\".format(i,j,numbers_2d[i][j]),end=\"\\t\")\n",
    "    print()"
   ]
  },
  {
   "cell_type": "markdown",
   "id": "5974b1d2",
   "metadata": {},
   "source": [
    "## 1.2 기본정보 조회"
   ]
  },
  {
   "cell_type": "code",
   "execution_count": null,
   "id": "3d902ea6",
   "metadata": {},
   "outputs": [],
   "source": [
    "numbers =[1,12,3,4,5]\n",
    "numbers_2d=[[100,0,1],\n",
    "            [9,100,100],\n",
    "            [59,100,130]]"
   ]
  },
  {
   "cell_type": "code",
   "execution_count": null,
   "id": "8485b4ac",
   "metadata": {},
   "outputs": [],
   "source": [
    "# item 수\n",
    "len(numbers),len(numbers_2d)"
   ]
  },
  {
   "cell_type": "code",
   "execution_count": null,
   "id": "f70b3806",
   "metadata": {},
   "outputs": [],
   "source": [
    "# 최소값, 최댓값\n",
    "# 2차원 list의 최소/최댓값 : 부분리스트 중 첫 요소가 가장 작은/큰 값\n",
    "min(numbers), min(numbers_2d), max(numbers), max(numbers_2d)"
   ]
  },
  {
   "cell_type": "code",
   "execution_count": null,
   "id": "8c3329ad",
   "metadata": {},
   "outputs": [],
   "source": [
    "# listd의 데이터가 문자일 경우 ascii 코드값으로  min과 max적용\n",
    "fruits=['mango','apple','ornage']\n",
    "min(fruits), max(fruits)"
   ]
  },
  {
   "cell_type": "code",
   "execution_count": null,
   "id": "061a2929",
   "metadata": {},
   "outputs": [],
   "source": [
    "# 정렬하기(동일 자료형만 가능)\n",
    "numbers = [1,12,3,4,5]\n",
    "print(\"오름차순 정렬 : \", sorted(numbers))\n",
    "print(\"내림차순 정렬 : \", sorted(numbers,reverse=True))\n",
    "print(\"합 : \",sum(numbers))\n",
    "print('평균 : ',sum(numbers)/len(numbers))\n",
    "print(\"sorted함수 사용 시 리스트의 내용이 바뀌지 않음 : \",numbers)"
   ]
  },
  {
   "cell_type": "markdown",
   "id": "d8ba4e16",
   "metadata": {},
   "source": [
    "## 1.3 요소추가\n",
    "\n",
    "- `+` : 두 리스트 연결\n",
    "- `*` : 리스트를 곱한 수만큼 반복\n",
    "- **append() : 요소 마지막에 추가**\n",
    "- extend(리스트) : 리스트를 요소별로 마지막에 추가\n",
    "- insert(idx, 값) : idx번째 인덱스 위치에 값 추가\n"
   ]
  },
  {
   "cell_type": "code",
   "execution_count": null,
   "id": "1ee8ebed",
   "metadata": {},
   "outputs": [],
   "source": [
    "numbers = [1,2,3]\n",
    "numbers=numbers+numbers # 리스트 연결\n",
    "numbers"
   ]
  },
  {
   "cell_type": "code",
   "execution_count": null,
   "id": "80947eed",
   "metadata": {},
   "outputs": [],
   "source": [
    "numbers = [1,2,3]\n",
    "print(numbers*3) # 곱한 수 만큼 반복\n",
    "print(3*numbers)"
   ]
  },
  {
   "cell_type": "code",
   "execution_count": null,
   "id": "b20aaee7",
   "metadata": {},
   "outputs": [],
   "source": [
    "numbers.append(4) # 리스트 마지막에 4 추가\n",
    "numbers"
   ]
  },
  {
   "cell_type": "code",
   "execution_count": null,
   "id": "52a38f74",
   "metadata": {},
   "outputs": [],
   "source": [
    "numbers.append([5,6,7]) # 리스트의 마지막 요소에 [5,6,7] 추가\n",
    "numbers"
   ]
  },
  {
   "cell_type": "code",
   "execution_count": null,
   "id": "c48ddd1e",
   "metadata": {},
   "outputs": [],
   "source": [
    "numbers = [1,2,3]\n",
    "numbers.extend([4,5,6]) # 리스트의 마지막 요소에 4, 5, 6 추가\n",
    "numbers"
   ]
  },
  {
   "cell_type": "code",
   "execution_count": null,
   "id": "ecf82a8c",
   "metadata": {},
   "outputs": [],
   "source": [
    "lst = ['a','b','c']\n",
    "lst.append('d')\n",
    "lst"
   ]
  },
  {
   "cell_type": "code",
   "execution_count": null,
   "id": "79ca34c6",
   "metadata": {},
   "outputs": [],
   "source": [
    "lst.append('hello')\n",
    "lst"
   ]
  },
  {
   "cell_type": "code",
   "execution_count": null,
   "id": "d2d81fd5",
   "metadata": {},
   "outputs": [],
   "source": [
    "lst.extend('hello')\n",
    "lst"
   ]
  },
  {
   "cell_type": "code",
   "execution_count": null,
   "id": "73994a0e",
   "metadata": {},
   "outputs": [],
   "source": [
    "numbers =[1,2,3,4,5]\n",
    "numbers.insert(1, 'xx') # 1번쨰 인덱스에 'xx' 추가\n",
    "print(numbers)"
   ]
  },
  {
   "cell_type": "markdown",
   "id": "5e9e8919",
   "metadata": {},
   "source": [
    "## 1.4 인덱싱과 요소 갯수\n",
    "- list변수[index] : 인덱스를 이용한 접근\n",
    "- list변수.index(찾을 데이터) : 해당 찾을 데이터가 있는 요소의 index를 반환\n",
    "- 찾을데이터 in 변수 : 찾을 데이터가 list변수의 요소인지 여부\n",
    "- count(찾을 데이터) : list에서 해당 찾을 데이터의 갯수 반환"
   ]
  },
  {
   "cell_type": "code",
   "execution_count": null,
   "id": "944a76a6",
   "metadata": {},
   "outputs": [],
   "source": [
    "numbers =[1,2,3,[1,2,3],1,2,3]\n",
    "numbers.count(2), numbers.count([1,2,3])"
   ]
  },
  {
   "cell_type": "code",
   "execution_count": null,
   "id": "554e3879",
   "metadata": {},
   "outputs": [],
   "source": [
    "numbers.count(5)"
   ]
  },
  {
   "cell_type": "code",
   "execution_count": null,
   "id": "a2e9df2f",
   "metadata": {},
   "outputs": [],
   "source": [
    "print(2 in numbers) # 2가 numbers의 요소인지 여부(갯수는 확인하지 않음)\n",
    "print(5 in numbers)"
   ]
  },
  {
   "cell_type": "code",
   "execution_count": null,
   "id": "d6f1f42c",
   "metadata": {},
   "outputs": [],
   "source": [
    "numbers.index(5)"
   ]
  },
  {
   "cell_type": "code",
   "execution_count": null,
   "id": "bba3fd34",
   "metadata": {},
   "outputs": [],
   "source": [
    "if 5 in numbers:\n",
    "    print(numbers.index(5))\n",
    "else:\n",
    "    print('5가 요소에 포함되지 않습니다.')"
   ]
  },
  {
   "cell_type": "code",
   "execution_count": null,
   "id": "7459a2f3",
   "metadata": {},
   "outputs": [],
   "source": [
    "if numbers.count(5):\n",
    "    print(numbers.index(5))\n",
    "else:\n",
    "    print('5가 요소에 포함되지 않습니다.')"
   ]
  },
  {
   "cell_type": "code",
   "execution_count": 4,
   "id": "95f6a5a0",
   "metadata": {},
   "outputs": [],
   "source": [
    "def safe_index(lst,item):\n",
    "    \"\"\"첫번째 매개변수 lst에서 item 요소가 있는 index를 반환. \n",
    "    itme 요소가 없으면 -1 반환\"\"\"\n",
    "    if item in lst:\n",
    "        return lst.index(item)\n",
    "    return -1"
   ]
  },
  {
   "cell_type": "code",
   "execution_count": 5,
   "id": "a4e6ac31",
   "metadata": {},
   "outputs": [
    {
     "data": {
      "text/plain": [
       "(2, -1)"
      ]
     },
     "execution_count": 5,
     "metadata": {},
     "output_type": "execute_result"
    }
   ],
   "source": [
    "from lst import safe_index # lst.py(모듈) 안의 safe_index를 메모리에 load\n",
    "numbers=[1,2,3]\n",
    "safe_index(numbers,3),safe_index(numbers,5)"
   ]
  },
  {
   "cell_type": "code",
   "execution_count": 5,
   "id": "402e9779",
   "metadata": {},
   "outputs": [
    {
     "ename": "IndexError",
     "evalue": "list index out of range",
     "output_type": "error",
     "traceback": [
      "\u001b[1;31m---------------------------------------------------------------------------\u001b[0m",
      "\u001b[1;31mIndexError\u001b[0m                                Traceback (most recent call last)",
      "Cell \u001b[1;32mIn[5], line 1\u001b[0m\n\u001b[1;32m----> 1\u001b[0m \u001b[43mnumbers\u001b[49m\u001b[43m[\u001b[49m\u001b[38;5;241;43m5\u001b[39;49m\u001b[43m]\u001b[49m\n",
      "\u001b[1;31mIndexError\u001b[0m: list index out of range"
     ]
    }
   ],
   "source": [
    "numbers[5] # 벗어난 인덱스로 인덱싱 시 에러"
   ]
  },
  {
   "cell_type": "code",
   "execution_count": 6,
   "id": "181a5f2e",
   "metadata": {},
   "outputs": [
    {
     "data": {
      "text/plain": [
       "[2, 3]"
      ]
     },
     "execution_count": 6,
     "metadata": {},
     "output_type": "execute_result"
    }
   ],
   "source": [
    "numbers[1:5] # 벗어난 인덱스로 슬라이싱 시 에러가 나지 않음"
   ]
  },
  {
   "cell_type": "markdown",
   "id": "660b37d6",
   "metadata": {},
   "source": [
    "## 1.5 원하는 요소 추출\n",
    "1. 리스트 슬라이싱\n",
    "    - [form:to:step] from번째부터 to 앞까지 step씩 증가하는 index값을 추출\n",
    "    - 인덱스의 범위를 벗어난 값도 에러나지 않음\n",
    "    - 인덱스는 음수 가능\n",
    "    \n",
    "<font color=\"red\">2. **리스트컴프리헨션** : 원하는 조건의 데이터 추출</font>\n"
   ]
  },
  {
   "cell_type": "code",
   "execution_count": 11,
   "id": "f3f715c4",
   "metadata": {},
   "outputs": [
    {
     "name": "stdout",
     "output_type": "stream",
     "text": [
      "[20, 19, 18, 13, 12, 10, 9, 5, 3, 1]\n",
      "[1, 5, 10, 13, 19]\n",
      "[5, 9, 10, 12, 13, 18, 19, 20]\n"
     ]
    }
   ],
   "source": [
    "numbers=[1,3,5,9,10,12,13,18,19,20]\n",
    "print(numbers[::-1]) # 거꾸고 출력\n",
    "print(numbers[0::2]) # 짝수 index 값 출력\n",
    "print(numbers[2:100]) # 인덱스를 벗어난 슬라이싱 가능\n"
   ]
  },
  {
   "cell_type": "code",
   "execution_count": 13,
   "id": "3b6c0a0e",
   "metadata": {},
   "outputs": [
    {
     "data": {
      "text/plain": [
       "[1, 3, 5, 9, 10, 12, 13, 18, 19, 20]"
      ]
     },
     "execution_count": 13,
     "metadata": {},
     "output_type": "execute_result"
    }
   ],
   "source": [
    "# 모든 데이터 출력\n",
    "# for data in numbers:\n",
    "#     print(data, end=\"\\t\")\n",
    "[data for data in numbers]"
   ]
  },
  {
   "cell_type": "code",
   "execution_count": 16,
   "id": "951e2946",
   "metadata": {},
   "outputs": [
    {
     "data": {
      "text/plain": [
       "[10, 12, 18, 20]"
      ]
     },
     "execution_count": 16,
     "metadata": {},
     "output_type": "execute_result"
    }
   ],
   "source": [
    "# 짝수 데이터 추출\n",
    "# for data in numbers:\n",
    "#     if data%2==0:\n",
    "#         print(data, end=\" \")\n",
    "[data for data in numbers if data%2==0]"
   ]
  },
  {
   "cell_type": "code",
   "execution_count": 17,
   "id": "be6516cb",
   "metadata": {},
   "outputs": [
    {
     "data": {
      "text/plain": [
       "[10, 12, 13, 18, 19, 20]"
      ]
     },
     "execution_count": 17,
     "metadata": {},
     "output_type": "execute_result"
    }
   ],
   "source": [
    "# quiz\n",
    "# 1. number에서 10 이상인 요소만 추출\n",
    "[data for data in numbers if data>=10] \n",
    "# [data for data]에서 data는 변수명이므로 바꾸어도 상관없으나 A for B에서 A와 B는 같은 값이여야 한다"
   ]
  },
  {
   "cell_type": "code",
   "execution_count": 19,
   "id": "88940a17",
   "metadata": {},
   "outputs": [
    {
     "data": {
      "text/plain": [
       "['orange', 'apple', 'mango']"
      ]
     },
     "execution_count": 19,
     "metadata": {},
     "output_type": "execute_result"
    }
   ],
   "source": [
    "# 2. fruits에서 과일의 글자가 5글자 이상인 과일만 추출\n",
    "fruits=['orange','apple','mango','kiwi']\n",
    "[data for data in fruits if len(data)>=5]"
   ]
  },
  {
   "cell_type": "code",
   "execution_count": 20,
   "id": "b845b55a",
   "metadata": {},
   "outputs": [
    {
     "data": {
      "text/plain": [
       "[6, 5, 5, 4]"
      ]
     },
     "execution_count": 20,
     "metadata": {},
     "output_type": "execute_result"
    }
   ],
   "source": [
    "# 2-1 fruits 리스트의 과일 글자수\n",
    "[len(data) for data in fruits]"
   ]
  },
  {
   "cell_type": "code",
   "execution_count": 22,
   "id": "6f8d5210",
   "metadata": {},
   "outputs": [
    {
     "data": {
      "text/plain": [
       "[9, 16, 25]"
      ]
     },
     "execution_count": 22,
     "metadata": {},
     "output_type": "execute_result"
    }
   ],
   "source": [
    "# 3. 3이상인 요소들의 제곱을 추출\n",
    "L=[1,2,3,4,5]\n",
    "[data**2 for data in L if data>=3]"
   ]
  },
  {
   "cell_type": "code",
   "execution_count": 23,
   "id": "3185d91a",
   "metadata": {},
   "outputs": [
    {
     "data": {
      "text/plain": [
       "[2, 4, 6, 8, 10]"
      ]
     },
     "execution_count": 23,
     "metadata": {},
     "output_type": "execute_result"
    }
   ],
   "source": [
    "# 4. 리스트(L) 요소의 값의 2배를 추출\n",
    "[data*2 for data in L]"
   ]
  },
  {
   "cell_type": "markdown",
   "id": "d1bf26d5",
   "metadata": {},
   "source": [
    "## 1.6 요소 수정하기\n",
    "- 인덱스, 슬라이싱을 이용해서 수정"
   ]
  },
  {
   "cell_type": "code",
   "execution_count": 24,
   "id": "be64a48b",
   "metadata": {},
   "outputs": [
    {
     "data": {
      "text/plain": [
       "[0, 1, 222, 3, 4, 5, 6, 7, 8, 9]"
      ]
     },
     "execution_count": 24,
     "metadata": {},
     "output_type": "execute_result"
    }
   ],
   "source": [
    "numbers=[0,1,2,3,4,5,6,7,8,9]\n",
    "numbers[2] = 222\n",
    "numbers"
   ]
  },
  {
   "cell_type": "code",
   "execution_count": 25,
   "id": "df1a0850",
   "metadata": {},
   "outputs": [
    {
     "data": {
      "text/plain": [
       "['xx', 'xxx', 'xxxx', 222, 3, 4, 5, 6, 7, 8, 9]"
      ]
     },
     "execution_count": 25,
     "metadata": {},
     "output_type": "execute_result"
    }
   ],
   "source": [
    "# 슬라이싱(step부분 미포함)을 이용하여 부분 리스트를 통채로 수정\n",
    "numbers[:2]=['xx','xxx','xxxx']\n",
    "numbers"
   ]
  },
  {
   "cell_type": "code",
   "execution_count": 26,
   "id": "52d68b7c",
   "metadata": {},
   "outputs": [
    {
     "name": "stdout",
     "output_type": "stream",
     "text": [
      "수정전: [0, 0, 0, 0, 0, 0, 0, 0, 0, 0]\n",
      "수정후: [9, 0, 9, 0, 9, 0, 9, 0, 9, 0]\n"
     ]
    }
   ],
   "source": [
    "# 슬라이싱(step부분 포함)을 이용하여 부분 수정 시 요소 갯수 맞아야 함\n",
    "numbers=[0]*10\n",
    "print(\"수정전:\", numbers)\n",
    "numbers[::2]= [9,9,9,9,9]\n",
    "print(\"수정후:\", numbers)"
   ]
  },
  {
   "cell_type": "code",
   "execution_count": 27,
   "id": "7a3fff60",
   "metadata": {},
   "outputs": [
    {
     "ename": "ValueError",
     "evalue": "attempt to assign sequence of size 4 to extended slice of size 5",
     "output_type": "error",
     "traceback": [
      "\u001b[1;31m---------------------------------------------------------------------------\u001b[0m",
      "\u001b[1;31mValueError\u001b[0m                                Traceback (most recent call last)",
      "Cell \u001b[1;32mIn[27], line 1\u001b[0m\n\u001b[1;32m----> 1\u001b[0m numbers[::\u001b[38;5;241m2\u001b[39m]\u001b[38;5;241m=\u001b[39m [\u001b[38;5;241m9\u001b[39m,\u001b[38;5;241m9\u001b[39m,\u001b[38;5;241m9\u001b[39m,\u001b[38;5;241m9\u001b[39m]\n",
      "\u001b[1;31mValueError\u001b[0m: attempt to assign sequence of size 4 to extended slice of size 5"
     ]
    }
   ],
   "source": [
    "numbers[::2]= [9,9,9,9]"
   ]
  },
  {
   "cell_type": "markdown",
   "id": "ddaa62eb",
   "metadata": {},
   "source": [
    "## 1.7 요소 삭제\n",
    "- pop() : 가장 마지막 인덱스의 요소가 반환되고 삭제\n",
    "- pop(idx) :idx번쨰 요소가 반환되고 삭제\n",
    "- remove(data) : list 안의 data가 삭제 **※주의 없는 값 입력 시 error**\n",
    "- del 리스트 변수[idx] : idx번째 요소 삭제"
   ]
  },
  {
   "cell_type": "code",
   "execution_count": 35,
   "id": "d5be2f79",
   "metadata": {},
   "outputs": [
    {
     "name": "stdout",
     "output_type": "stream",
     "text": [
      "삭제한 데이터 :  5\n",
      "삭제 후 numbers [1, 2, 3, 4]\n",
      "1번째 삭제한 데이터 :  2\n",
      "1번째 삭제 후 numbers [1, 3, 4]\n",
      "데이터 1 삭제\n",
      "데이터 1 삭제 후 numbers [3, 4]\n",
      "del numbers[1]\n",
      "[3]\n"
     ]
    }
   ],
   "source": [
    "numbers = [1,2,3,4,5]\n",
    "print(\"삭제한 데이터 : \",numbers.pop())\n",
    "print(\"삭제 후 numbers\", numbers)\n",
    "print(\"1번째 삭제한 데이터 : \", numbers.pop(1) )\n",
    "print(\"1번째 삭제 후 numbers\", numbers)\n",
    "print(\"데이터 1 삭제\")\n",
    "numbers.remove(1) \n",
    "print(\"데이터 1 삭제 후 numbers\", numbers)\n",
    "print(\"del numbers[1]\")\n",
    "del numbers[1]\n",
    "print(numbers)"
   ]
  },
  {
   "cell_type": "code",
   "execution_count": 36,
   "id": "ea76943a",
   "metadata": {},
   "outputs": [
    {
     "name": "stdout",
     "output_type": "stream",
     "text": [
      "헤당 데이터는 없는 item 입니다.\n"
     ]
    }
   ],
   "source": [
    "# remove.numbers[9]\n",
    "if 9 in numbers:\n",
    "    numbers.remove(9)\n",
    "else:\n",
    "    print(\"헤당 데이터는 없는 item 입니다.\")"
   ]
  },
  {
   "cell_type": "code",
   "execution_count": 37,
   "id": "9a8e2c50",
   "metadata": {},
   "outputs": [
    {
     "data": {
      "text/plain": [
       "[]"
      ]
     },
     "execution_count": 37,
     "metadata": {},
     "output_type": "execute_result"
    }
   ],
   "source": [
    "numbers.clear() # 모든 요소를 삭제\n",
    "numbers"
   ]
  },
  {
   "cell_type": "markdown",
   "id": "d4ee26cf",
   "metadata": {},
   "source": [
    "## 1.8 정렬하기"
   ]
  },
  {
   "cell_type": "code",
   "execution_count": 38,
   "id": "0622acce",
   "metadata": {},
   "outputs": [
    {
     "name": "stdout",
     "output_type": "stream",
     "text": [
      "numbers는 변경하지 않고, 정렬결과 :  [0, 5, 6, 8, 9]\n",
      "numbers : [9, 5, 8, 0, 6]\n"
     ]
    }
   ],
   "source": [
    "numbers=[9,5,8,0,6]\n",
    "print(\"numbers는 변경하지 않고, 정렬결과 : \", sorted(numbers))\n",
    "print(\"numbers :\",numbers)"
   ]
  },
  {
   "cell_type": "code",
   "execution_count": 39,
   "id": "015a20f3",
   "metadata": {},
   "outputs": [
    {
     "data": {
      "text/plain": [
       "[0, 5, 6, 8, 9]"
      ]
     },
     "execution_count": 39,
     "metadata": {},
     "output_type": "execute_result"
    }
   ],
   "source": [
    "numbers.sort() # 리스트값 자체를 오름차순 결과로 정렬함\n",
    "numbers"
   ]
  },
  {
   "cell_type": "code",
   "execution_count": 40,
   "id": "32f39cc4",
   "metadata": {},
   "outputs": [
    {
     "data": {
      "text/plain": [
       "[9, 8, 6, 5, 0]"
      ]
     },
     "execution_count": 40,
     "metadata": {},
     "output_type": "execute_result"
    }
   ],
   "source": [
    "numbers.sort(reverse=True) # 리스트값 자체를 내림차순 결과로 정렬함\n",
    "numbers"
   ]
  },
  {
   "cell_type": "code",
   "execution_count": 41,
   "id": "e0050135",
   "metadata": {},
   "outputs": [
    {
     "data": {
      "text/plain": [
       "[0, 5, 6, 8, 9]"
      ]
     },
     "execution_count": 41,
     "metadata": {},
     "output_type": "execute_result"
    }
   ],
   "source": [
    "numbers.reverse() #리스트를 역순으로 변경\n",
    "# numbers=numbers[::-1]\n",
    "numbers"
   ]
  },
  {
   "cell_type": "markdown",
   "id": "9807334d",
   "metadata": {},
   "source": [
    "## 1.9 리스트복제"
   ]
  },
  {
   "cell_type": "code",
   "execution_count": 45,
   "id": "d5beea74",
   "metadata": {
    "scrolled": true
   },
   "outputs": [
    {
     "name": "stdout",
     "output_type": "stream",
     "text": [
      "원본 i =10, 복사본copied_i=10 / 원본주소=1324556091920, 복사본주소=1324556091920\n",
      "원본 i =10, 복사본copied_i=99 / 원본주소=1324556091920, 복사본주소=1324556094768\n"
     ]
    }
   ],
   "source": [
    "# 스칼라 데이터 복제\n",
    "i = 10\n",
    "copied_i = i\n",
    "print(f\"원본 i ={i}, 복사본copied_i={copied_i} / 원본주소={id(i)}, 복사본주소={id(copied_i)}\")\n",
    "copied_i=99\n",
    "print(f\"원본 i ={i}, 복사본copied_i={copied_i} / 원본주소={id(i)}, 복사본주소={id(copied_i)}\")"
   ]
  },
  {
   "cell_type": "code",
   "execution_count": 49,
   "id": "9b1648be",
   "metadata": {},
   "outputs": [
    {
     "name": "stdout",
     "output_type": "stream",
     "text": [
      "원본주소=1324681916928, \n",
      "복제본주소=1324681916928\n",
      "원본내용=[99, 6, 1, 9], \n",
      "복제본내용=[99, 6, 1, 9]\n",
      "원본주소=1324681916928, \n",
      "복제본주소=1324681916928\n"
     ]
    }
   ],
   "source": [
    "# 데이터 구조의 복제\n",
    "numbers = [5,6,1,9]\n",
    "new_numbers = numbers # 할당\n",
    "print(f\"원본주소={id(numbers)}, \\n복제본주소={id(new_numbers)}\")\n",
    "new_numbers[0] = 99 \n",
    "print(f\"원본내용={numbers}, \\n복제본내용={new_numbers}\")\n",
    "print(f\"원본주소={id(numbers)}, \\n복제본주소={id(new_numbers)}\")"
   ]
  },
  {
   "cell_type": "code",
   "execution_count": 50,
   "id": "0e923bbb",
   "metadata": {},
   "outputs": [
    {
     "name": "stdout",
     "output_type": "stream",
     "text": [
      "원본 :  [1, 5, 6, 9]\n",
      "복제본 :  [1, 5, 6, 9]\n",
      "원본주소 :  1324681592704\n",
      "복제본주소 :  1324681592704\n"
     ]
    }
   ],
   "source": [
    "# 할당 \n",
    "numbers=[5,6,1,9]\n",
    "new_numbers=numbers\n",
    "new_numbers.sort()\n",
    "print(\"원본 : \",numbers)\n",
    "print(\"복제본 : \",new_numbers)\n",
    "print(\"원본주소 : \", id(numbers))\n",
    "print(\"복제본주소 : \", id(new_numbers))"
   ]
  },
  {
   "cell_type": "code",
   "execution_count": 55,
   "id": "529d59e9",
   "metadata": {},
   "outputs": [
    {
     "name": "stdout",
     "output_type": "stream",
     "text": [
      "원본 : [5, 6, 1, 9]\n",
      "복제본 : [1, 5, 6, 9]\n",
      "원본 : 1324684154112\n",
      "복제본 : 1324684154240\n"
     ]
    }
   ],
   "source": [
    "# 리스트 복제(깊은 복사)\n",
    "numbers = [5,6,1,9]\n",
    "new_numbers = numbers.copy() # numbers를 복제(깊은 복사)\n",
    "new_numbers.sort()\n",
    "print(\"원본 :\",numbers)\n",
    "print(\"복제본 :\",new_numbers)\n",
    "print(\"원본 :\",id(numbers))\n",
    "print(\"복제본 :\",id(new_numbers))\n"
   ]
  },
  {
   "cell_type": "code",
   "execution_count": 51,
   "id": "88c2cfe1",
   "metadata": {},
   "outputs": [
    {
     "name": "stdout",
     "output_type": "stream",
     "text": [
      "원본 : [5, 6, 1, 9]\n",
      "정렬본 : [1, 5, 6, 9]\n"
     ]
    }
   ],
   "source": [
    "# numbers = [5,6,1,9]\n",
    "# new_numbers = sorted(numbers) 가능은 하나 속도가 느림\n",
    "# print(\"원본 :\",numbers)\n",
    "# print(\"정렬본 :\",new_numbers)"
   ]
  },
  {
   "cell_type": "code",
   "execution_count": 56,
   "id": "35d5c58b",
   "metadata": {},
   "outputs": [
    {
     "name": "stdout",
     "output_type": "stream",
     "text": [
      "정렬전 : ['서울', '대전', '대구', '부산', '하남', '수원', '인천', '제주']\n",
      "정렬후 : ['대구', '대전', '부산', '서울', '수원', '인천', '제주', '하남']\n"
     ]
    }
   ],
   "source": [
    "city=['서울','대전','대구','부산','하남','수원','인천','제주']\n",
    "temp=city.copy()\n",
    "temp.sort()\n",
    "print(\"정렬전 :\",city)\n",
    "print(\"정렬후 :\",temp)"
   ]
  },
  {
   "cell_type": "code",
   "execution_count": 57,
   "id": "8465e943",
   "metadata": {},
   "outputs": [
    {
     "name": "stdout",
     "output_type": "stream",
     "text": [
      "정렬전 : ['서울', '대전', '대구', '부산', '하남', '수원', '인천', '제주']\n",
      "정렬후 : []\n"
     ]
    }
   ],
   "source": [
    "temp.clear()\n",
    "print(\"정렬전 :\",city)\n",
    "print(\"정렬후 :\",temp)"
   ]
  },
  {
   "cell_type": "markdown",
   "id": "3159740a",
   "metadata": {},
   "source": [
    "# 2절 튜플\n",
    "- 리스트([])와 유사하지만 읽기전용, 수정이 필요없는 데이터에서 사용\n",
    "- 수정이 불가하므로, 튜플에서 데이터 수정, 추가, 삭제 불가\n",
    "- 제공되는 함수도 많지 않음\n",
    "- ()이용해서 생성, tuple() 함수 이용"
   ]
  },
  {
   "cell_type": "code",
   "execution_count": 59,
   "id": "f60da0a6",
   "metadata": {},
   "outputs": [
    {
     "name": "stdout",
     "output_type": "stream",
     "text": [
      "<class 'tuple'>\n",
      "('서울', '대전', '대구', '부산', '하남')\n"
     ]
    }
   ],
   "source": [
    "# city =('서울','대전','대구','부산','하남')\n",
    "# 파이썬은 여러개의 값이 전달 될 때 튜플 타입이로 전달\n",
    "city = '서울','대전','대구','부산','하남' # 괄호를 쓰지 않아도 튜플이 되나 비추(가독성 저하)\n",
    "print(type(city))\n",
    "print(city)"
   ]
  },
  {
   "cell_type": "code",
   "execution_count": 60,
   "id": "c9e82e9f",
   "metadata": {},
   "outputs": [
    {
     "data": {
      "text/plain": [
       "'서울, 대전, 대구, 부산, 하남'"
      ]
     },
     "execution_count": 60,
     "metadata": {},
     "output_type": "execute_result"
    }
   ],
   "source": [
    "# 매개변수로 list가 오는 함수는 tuple 매개변수로 함수 사용\n",
    "', '.join(city)"
   ]
  },
  {
   "cell_type": "code",
   "execution_count": 61,
   "id": "a6b6147e",
   "metadata": {},
   "outputs": [
    {
     "data": {
      "text/plain": [
       "1"
      ]
     },
     "execution_count": 61,
     "metadata": {},
     "output_type": "execute_result"
    }
   ],
   "source": [
    "from lst import safe_index\n",
    "safe_index(city,\"대전\")"
   ]
  },
  {
   "cell_type": "code",
   "execution_count": 64,
   "id": "b54e6e1a",
   "metadata": {},
   "outputs": [
    {
     "name": "stdout",
     "output_type": "stream",
     "text": [
      "<class 'list'>\n",
      "['서울']\n",
      "1\n"
     ]
    }
   ],
   "source": [
    "l = ['서울'] # 요쇼가 하나 있는 리스트\n",
    "print(type(l))\n",
    "print(l)\n",
    "print(len(l))"
   ]
  },
  {
   "cell_type": "code",
   "execution_count": 71,
   "id": "8fe956e6",
   "metadata": {},
   "outputs": [
    {
     "name": "stdout",
     "output_type": "stream",
     "text": [
      "<class 'str'>\n",
      "서울\n",
      "2\n"
     ]
    }
   ],
   "source": [
    "city = ('서울') # 요소가 하나 있는 튜플(x) -> 문자열\n",
    "print(type(city))\n",
    "print(city)\n",
    "print(len(city))"
   ]
  },
  {
   "cell_type": "code",
   "execution_count": 72,
   "id": "43e07e70",
   "metadata": {},
   "outputs": [
    {
     "name": "stdout",
     "output_type": "stream",
     "text": [
      "<class 'tuple'>\n",
      "('서울',)\n",
      "1\n"
     ]
    }
   ],
   "source": [
    "city = ('서울',) # 요소가 하나 있는 튜플(o)\n",
    "print(type(city))\n",
    "print(city)\n",
    "print(len(city))"
   ]
  },
  {
   "cell_type": "code",
   "execution_count": 2,
   "id": "b6b3d017",
   "metadata": {},
   "outputs": [],
   "source": [
    "numbers=(1,2,3)\n",
    "# numbers.append(4) 수정하기 위한 함수는 제공되지 않음"
   ]
  },
  {
   "cell_type": "code",
   "execution_count": 77,
   "id": "6208de85",
   "metadata": {},
   "outputs": [
    {
     "data": {
      "text/plain": [
       "(1, 3, 6)"
      ]
     },
     "execution_count": 77,
     "metadata": {},
     "output_type": "execute_result"
    }
   ],
   "source": [
    "min(numbers), max(numbers), sum(numbers)"
   ]
  },
  {
   "cell_type": "code",
   "execution_count": 78,
   "id": "08d8882a",
   "metadata": {},
   "outputs": [
    {
     "data": {
      "text/plain": [
       "1"
      ]
     },
     "execution_count": 78,
     "metadata": {},
     "output_type": "execute_result"
    }
   ],
   "source": [
    "numbers.count(2)"
   ]
  },
  {
   "cell_type": "code",
   "execution_count": 3,
   "id": "0c5eed66",
   "metadata": {},
   "outputs": [
    {
     "data": {
      "text/plain": [
       "2"
      ]
     },
     "execution_count": 3,
     "metadata": {},
     "output_type": "execute_result"
    }
   ],
   "source": [
    "numbers.index(3)"
   ]
  },
  {
   "cell_type": "code",
   "execution_count": 82,
   "id": "968b81d8",
   "metadata": {},
   "outputs": [
    {
     "name": "stdout",
     "output_type": "stream",
     "text": [
      "헤당 데이터 없음\n"
     ]
    }
   ],
   "source": [
    "if 4 in numbers:\n",
    "    numbers.index(4)\n",
    "else:\n",
    "    print('헤당 데이터 없음')"
   ]
  },
  {
   "cell_type": "code",
   "execution_count": 80,
   "id": "c20ea82c",
   "metadata": {},
   "outputs": [
    {
     "data": {
      "text/plain": [
       "-1"
      ]
     },
     "execution_count": 80,
     "metadata": {},
     "output_type": "execute_result"
    }
   ],
   "source": [
    "safe_index(numbers,4)"
   ]
  },
  {
   "cell_type": "code",
   "execution_count": 6,
   "id": "ac861224",
   "metadata": {},
   "outputs": [
    {
     "data": {
      "text/plain": [
       "3"
      ]
     },
     "execution_count": 6,
     "metadata": {},
     "output_type": "execute_result"
    }
   ],
   "source": [
    "numbers=(1,4,3,2)\n",
    "if 4 in numbers[2:]:\n",
    "    numbers.index(4,2) # .index(찾을 데이터, 찾기 시작할index=0)\n",
    "else:\n",
    "    print('데이터가 없습니다.')"
   ]
  },
  {
   "cell_type": "code",
   "execution_count": 18,
   "id": "d770e817",
   "metadata": {},
   "outputs": [],
   "source": [
    "def safe_index(lst,item,start=0):\n",
    "    \"\"\"\n",
    "    첫번째 매개변수 lst : 리스트, 튜플\n",
    "    두번쩨 매게변수 item :리스트나 튜플에서 찾을 데이터 \n",
    "    세번째 매개변수 satrt : 몇 번째 ondex부터 찾을지 index tn(기본값=0) \n",
    "    itme 요소가 없으면 -1 반환\n",
    "    \"\"\"\n",
    "    return lst.index(item,start) if item in lst[start:] else -1\n",
    "#     if item in lst[start:]:\n",
    "#         return lst.index(item,start) #sater번쨰 부터 item이 있는 index를 반환\n",
    "#     return -1"
   ]
  },
  {
   "cell_type": "code",
   "execution_count": 19,
   "id": "8a9e4a51",
   "metadata": {},
   "outputs": [
    {
     "data": {
      "text/plain": [
       "2"
      ]
     },
     "execution_count": 19,
     "metadata": {},
     "output_type": "execute_result"
    }
   ],
   "source": [
    "safe_index(numbers,3,2)"
   ]
  },
  {
   "cell_type": "code",
   "execution_count": 16,
   "id": "a1f40587",
   "metadata": {},
   "outputs": [
    {
     "data": {
      "text/plain": [
       "10"
      ]
     },
     "execution_count": 16,
     "metadata": {},
     "output_type": "execute_result"
    }
   ],
   "source": [
    "# 위의 if문을 조건식을 이용하여 한줄 코드\n",
    "x, y =10, 20\n",
    "def diff(a, b):\n",
    "    return a - b if x > y else y - x # if문이 참일 떄 취할 값 if 조건 else if문이 거짓일 때 값\n",
    "#     if a > y:\n",
    "#         return a - b\n",
    "#     else:\n",
    "#         return b - a\n",
    "diff(30,20)"
   ]
  },
  {
   "cell_type": "code",
   "execution_count": 22,
   "id": "8103811a",
   "metadata": {},
   "outputs": [
    {
     "name": "stdout",
     "output_type": "stream",
     "text": [
      "(1, 2, 3, 1, 2, 3)\n",
      "(1, 2, 3, 1, 2, 3, 1, 2, 3)\n"
     ]
    }
   ],
   "source": [
    "numbers = (1,2,3)\n",
    "print(numbers + numbers) # 연결\n",
    "print(3 * numbers) #반복 print(numbers * 3)도 가능"
   ]
  },
  {
   "cell_type": "code",
   "execution_count": 25,
   "id": "e76519d4",
   "metadata": {},
   "outputs": [
    {
     "data": {
      "text/plain": [
       "(4, 16, 36)"
      ]
     },
     "execution_count": 25,
     "metadata": {},
     "output_type": "execute_result"
    }
   ],
   "source": [
    "# ex. 짝수 요소들을 추출하여 제곱한 데이터를 튜플로 출력하시오\n",
    "numbers = (11 , 2, 3, 4, 5, 6)\n",
    "tuple(num ** 2 for num in numbers if num % 2 == 0)"
   ]
  },
  {
   "cell_type": "markdown",
   "id": "4221988a",
   "metadata": {},
   "source": [
    "# 3절 딕셔너리\n",
    "- {}를 이용해서 키(key)-값(value)의 쌍으로 구성된 자료구조\n",
    "- 키는 유일한 값(중복 허용 안함). 키에 list사용 불가. 키에 tuple는 사용은 가능(굳이 쓰진 않음)\n",
    "- 값은 중복 가능. 모든 데이터 타입 가능\n",
    "- 인덱스를 이용한 참조는 지원 안함(키 이름으로 참조함)"
   ]
  },
  {
   "cell_type": "code",
   "execution_count": 31,
   "id": "28ab3556",
   "metadata": {},
   "outputs": [
    {
     "name": "stdout",
     "output_type": "stream",
     "text": [
      "<class 'dict'>\n",
      "{'name': '홍길동', 1: 22, (1, 2): [1, 2]}\n"
     ]
    }
   ],
   "source": [
    "dic={'name':'홍길동', 1:22,(1,2):[1,2]}\n",
    "print(type(dic))\n",
    "print(dic)"
   ]
  },
  {
   "cell_type": "code",
   "execution_count": 32,
   "id": "d969625f",
   "metadata": {},
   "outputs": [
    {
     "name": "stdout",
     "output_type": "stream",
     "text": [
      "데이터 요소의 갯수: 3\n"
     ]
    }
   ],
   "source": [
    "print('데이터 요소의 갯수:',len(dic))"
   ]
  },
  {
   "cell_type": "code",
   "execution_count": 34,
   "id": "c7d348e5",
   "metadata": {},
   "outputs": [
    {
     "data": {
      "text/plain": [
       "{'fruit': 'apple', 'number': 12, 'sport': 'yoga'}"
      ]
     },
     "execution_count": 34,
     "metadata": {},
     "output_type": "execute_result"
    }
   ],
   "source": [
    "my_favorite={'fruit':'apple',\"number\":12,'sport':'yoga'}\n",
    "my_favorite"
   ]
  },
  {
   "cell_type": "code",
   "execution_count": 38,
   "id": "423aa933",
   "metadata": {},
   "outputs": [
    {
     "name": "stdout",
     "output_type": "stream",
     "text": [
      "apple\n",
      "12\n"
     ]
    }
   ],
   "source": [
    "#변수[키] / 변수.get(키)\n",
    "print(my_favorite['fruit'])\n",
    "print(my_favorite.get('number'))"
   ]
  },
  {
   "cell_type": "code",
   "execution_count": 41,
   "id": "0ca4ee07",
   "metadata": {},
   "outputs": [
    {
     "name": "stdout",
     "output_type": "stream",
     "text": [
      "None\n",
      "-\n"
     ]
    }
   ],
   "source": [
    "# print(my_favorite['people']) # 키 목록에 없는 데이터 를 참조시 에러\n",
    "print(my_favorite.get('people')) #없는 키를 get함수로 참조 시 None\n",
    "print(my_favorite.get('people', \"-\")) # 없는 키를 get 함수로 참조시 '-'"
   ]
  },
  {
   "cell_type": "markdown",
   "id": "07e3690d",
   "metadata": {},
   "source": [
    " ## 딕셔너리 item 수정, 추가, 삭제"
   ]
  },
  {
   "cell_type": "code",
   "execution_count": 68,
   "id": "e470c7f9",
   "metadata": {},
   "outputs": [
    {
     "name": "stdout",
     "output_type": "stream",
     "text": [
      "peoeple'추가 후 :  {'fruit': 'apple', 'number': 12, 'sport': 'yoga', 'people': '홍길동', 'subject': 'AI'}\n",
      "한꺼번에 추가 후: {'fruit': 'apple', 'number': 12, 'sport': 'yoga', 'people': '홍길동', 'subject': '수학', 'major': 'AI'}\n",
      "하나씩 수정 후 : {'fruit': 'mango', 'number': -9, 'sport': 'yoga', 'people': '홍길동', 'subject': '수학', 'major': 'AI'}\n",
      "한꺼번에 수정 후 : {'fruit': 'kiwi', 'number': -99, 'sport': 'yoga', 'people': '홍길동', 'subject': '수학', 'major': 'AI'}\n",
      "subject 키가 존재하지 않습니다\n",
      "제거 후 내용: {'fruit': 'kiwi', 'number': -99, 'sport': 'yoga', 'people': '홍길동', 'major': 'AI'}\n",
      "제거한 데이터 :  AI\n",
      "major 키가 존재하지 않습니다\n",
      "{'fruit': 'kiwi', 'number': -99, 'sport': 'yoga', 'people': '홍길동'}\n"
     ]
    }
   ],
   "source": [
    "my_favorite={'fruit':'apple',\"number\":12,'sport':'yoga'}\n",
    "# 한 item씩 추가하기\n",
    "my_favorite['people']=\"홍길동\"\n",
    "my_favorite['subject']=\"AI\"\n",
    "print(\"peoeple'추가 후 : \",my_favorite)\n",
    "# 여러 item을 한꺼번에 추가\n",
    "my_favorite.update({'subject':'수학','major':'AI'})\n",
    "print('한꺼번에 추가 후:', my_favorite)\n",
    "\n",
    "# 한 item씩 수정\n",
    "my_favorite['fruit'] = 'mango'\n",
    "my_favorite['number']=-9\n",
    "print(\"하나씩 수정 후 :\",my_favorite)\n",
    "# 여러 item을 한꺼번에 수정 (key가 없다면 추가와 같음)\n",
    "# my_favorite.update({'fruit':'kiwi','number':-99,'subject':'수학'})\n",
    "my_favorite.update(fruit='kiwi',number=-99)\n",
    "print(\"한꺼번에 수정 후 :\",my_favorite)\n",
    "# item 제거\n",
    "del my_favorite['subject']\n",
    "if 'subject' in my_favorite:\n",
    "    del my_favorite['subject']\n",
    "else:\n",
    "    print('subject 키가 존재하지 않습니다')\n",
    "print(\"제거 후 내용:\",my_favorite)\n",
    "# del my_favorite['subject'] # 없는 내용 제거 시 error\n",
    "# item 제거(2)\n",
    "print('제거한 데이터 : ',my_favorite.pop('major'))\n",
    "# 없는 내용 제거 시 error\n",
    "if 'major' in my_favorite:\n",
    "    print('제거한 데이터 : ',my_favorite.pop('major'))\n",
    "else:\n",
    "    print('major 키가 존재하지 않습니다')\n",
    "print(my_favorite)"
   ]
  },
  {
   "cell_type": "markdown",
   "id": "f71e7d6f",
   "metadata": {},
   "source": [
    "## 출력하기"
   ]
  },
  {
   "cell_type": "code",
   "execution_count": 69,
   "id": "b3000931",
   "metadata": {},
   "outputs": [],
   "source": [
    "# for문을 이용한 출력\n",
    "my_tuple=(\"홍길동\", 30, '010-9999-9999')"
   ]
  },
  {
   "cell_type": "code",
   "execution_count": 74,
   "id": "5d94ce48",
   "metadata": {},
   "outputs": [
    {
     "name": "stdout",
     "output_type": "stream",
     "text": [
      "홍길동\t30\t010-9999-9999\t\n",
      "0번째 : 홍길동\t1번째 : 30\t2번째 : 010-9999-9999\t\n",
      "0번째 : 홍길동\t1번째 : 30\t2번째 : 010-9999-9999\t"
     ]
    }
   ],
   "source": [
    "for data in my_tuple:\n",
    "    print(data, end='\\t')\n",
    "print()\n",
    "for idx in range(len(my_tuple)):\n",
    "    print(f\"{idx}번째 : {my_tuple[idx]}\", end=\"\\t\")\n",
    "print()\n",
    "for idx, data in enumerate(my_tuple):\n",
    "    print(f'{idx}번째 : {data}', end='\\t')"
   ]
  },
  {
   "cell_type": "code",
   "execution_count": 76,
   "id": "3b840fcf",
   "metadata": {},
   "outputs": [],
   "source": [
    "my_dic={'name':'홍길동','age':30,'tel':'010-9999-9999'}"
   ]
  },
  {
   "cell_type": "code",
   "execution_count": 81,
   "id": "7034d5a2",
   "metadata": {},
   "outputs": [
    {
     "name": "stdout",
     "output_type": "stream",
     "text": [
      "name : 홍길동\tage : 30\ttel : 010-9999-9999\t"
     ]
    }
   ],
   "source": [
    "for key in my_dic:\n",
    "    print(f\"{key} : {my_dic.get(key)}\", end='\\t') # 비추\n",
    "    "
   ]
  },
  {
   "cell_type": "code",
   "execution_count": 83,
   "id": "89aec04d",
   "metadata": {},
   "outputs": [
    {
     "data": {
      "text/plain": [
       "dict_keys(['name', 'age', 'tel'])"
      ]
     },
     "execution_count": 83,
     "metadata": {},
     "output_type": "execute_result"
    }
   ],
   "source": [
    "my_dic.keys() # 키 목록만"
   ]
  },
  {
   "cell_type": "code",
   "execution_count": 84,
   "id": "24d3562c",
   "metadata": {},
   "outputs": [
    {
     "data": {
      "text/plain": [
       "dict_values(['홍길동', 30, '010-9999-9999'])"
      ]
     },
     "execution_count": 84,
     "metadata": {},
     "output_type": "execute_result"
    }
   ],
   "source": [
    "my_dic.values() # 값 목록만"
   ]
  },
  {
   "cell_type": "code",
   "execution_count": 85,
   "id": "e29636d4",
   "metadata": {},
   "outputs": [
    {
     "data": {
      "text/plain": [
       "dict_items([('name', '홍길동'), ('age', 30), ('tel', '010-9999-9999')])"
      ]
     },
     "execution_count": 85,
     "metadata": {},
     "output_type": "execute_result"
    }
   ],
   "source": [
    "my_dic.items() # 키-값 쌍 목록"
   ]
  },
  {
   "cell_type": "code",
   "execution_count": 86,
   "id": "ea2e6b2b",
   "metadata": {},
   "outputs": [
    {
     "name": "stdout",
     "output_type": "stream",
     "text": [
      "name : 홍길동\tage : 30\ttel : 010-9999-9999\t"
     ]
    }
   ],
   "source": [
    "for key, value in my_dic.items():\n",
    "    print(f'{key} : {value}', end=\"\\t\")"
   ]
  },
  {
   "cell_type": "code",
   "execution_count": 87,
   "id": "1935b362",
   "metadata": {},
   "outputs": [
    {
     "name": "stdout",
     "output_type": "stream",
     "text": [
      "홍길동\t30\t010-9999-9999\t"
     ]
    }
   ],
   "source": [
    "for value in my_dic.values():\n",
    "    print(value, end='\\t')"
   ]
  },
  {
   "cell_type": "code",
   "execution_count": 90,
   "id": "f50abb0b",
   "metadata": {},
   "outputs": [
    {
     "data": {
      "text/plain": [
       "[(0, ('name', '홍길동')), (1, ('age', 30)), (2, ('tel', '010-9999-9999'))]"
      ]
     },
     "execution_count": 90,
     "metadata": {},
     "output_type": "execute_result"
    }
   ],
   "source": [
    "list(enumerate(my_dic.items()))"
   ]
  },
  {
   "cell_type": "code",
   "execution_count": 91,
   "id": "41ac009b",
   "metadata": {},
   "outputs": [
    {
     "name": "stdout",
     "output_type": "stream",
     "text": [
      "1.name : 홍길동\n",
      "2.age : 30\n",
      "3.tel : 010-9999-9999\n"
     ]
    }
   ],
   "source": [
    "for no, (key, value) in enumerate(my_dic.items()):\n",
    "    print(\"{}.{} : {}\".format(no+1,key,value))"
   ]
  },
  {
   "cell_type": "markdown",
   "id": "33488d12",
   "metadata": {},
   "source": [
    "## in연산자"
   ]
  },
  {
   "cell_type": "code",
   "execution_count": 92,
   "id": "e68a5ed9",
   "metadata": {},
   "outputs": [
    {
     "data": {
      "text/plain": [
       "True"
      ]
     },
     "execution_count": 92,
     "metadata": {},
     "output_type": "execute_result"
    }
   ],
   "source": [
    "# tuple, list\n",
    "t=(10,20,30)\n",
    "30 in t # list, tuple, set에서의 in연산자 : 요소(데이터,item)가 있는 여부 반환"
   ]
  },
  {
   "cell_type": "code",
   "execution_count": 94,
   "id": "03e8bc95",
   "metadata": {},
   "outputs": [
    {
     "data": {
      "text/plain": [
       "False"
      ]
     },
     "execution_count": 94,
     "metadata": {},
     "output_type": "execute_result"
    }
   ],
   "source": [
    "dic={'name':'홍길동','age':30}\n",
    "'홍길동' in dic # dictionary 에서의 in연산자 : key가 있는지 여부 반환"
   ]
  },
  {
   "cell_type": "code",
   "execution_count": 96,
   "id": "d440586d",
   "metadata": {},
   "outputs": [
    {
     "data": {
      "text/plain": [
       "True"
      ]
     },
     "execution_count": 96,
     "metadata": {},
     "output_type": "execute_result"
    }
   ],
   "source": [
    "'홍길동' in dic.values()"
   ]
  },
  {
   "cell_type": "markdown",
   "id": "dd89354d",
   "metadata": {},
   "source": [
    "## 복제하기"
   ]
  },
  {
   "cell_type": "code",
   "execution_count": 97,
   "id": "8d6b1263",
   "metadata": {},
   "outputs": [
    {
     "name": "stdout",
     "output_type": "stream",
     "text": [
      "my_favorite 주소: 2543321402048\n",
      "new_favorite 주소 : 2543321402048\n"
     ]
    }
   ],
   "source": [
    "my_favorite={'fruit':'apple','number':12}\n",
    "new_favorite = my_favorite # 할당 \n",
    "print('my_favorite 주소:', id(my_favorite))\n",
    "print('new_favorite 주소 :',id(new_favorite))"
   ]
  },
  {
   "cell_type": "code",
   "execution_count": 98,
   "id": "1a304d2e",
   "metadata": {},
   "outputs": [
    {
     "name": "stdout",
     "output_type": "stream",
     "text": [
      "원본: {'fruit': '과일은 다 좋아', 'number': 12, 'people': '홍길동'}\n",
      "수정본: {'fruit': '과일은 다 좋아', 'number': 12, 'people': '홍길동'}\n"
     ]
    }
   ],
   "source": [
    "new_favorite['fruit']='과일은 다 좋아'\n",
    "new_favorite['people']=\"홍길동\"\n",
    "print(\"원본:\", my_favorite)\n",
    "print(\"수정본:\",new_favorite)"
   ]
  },
  {
   "cell_type": "code",
   "execution_count": 99,
   "id": "b3930a13",
   "metadata": {},
   "outputs": [
    {
     "name": "stdout",
     "output_type": "stream",
     "text": [
      "my_favorite 주소: 2543320772224\n",
      "new_favorite 주소 : 2543318451072\n",
      "원본: {'fruit': 'apple', 'number': 12}\n",
      "수정본: {'fruit': '과일은 다 좋아', 'number': 12, 'people': '홍길동'}\n"
     ]
    }
   ],
   "source": [
    "# 복제(깊은복사)\n",
    "my_favorite={'fruit':'apple','number':12}\n",
    "new_favorite = my_favorite.copy()\n",
    "print('my_favorite 주소:', id(my_favorite))\n",
    "print('new_favorite 주소 :',id(new_favorite))\n",
    "new_favorite['fruit']='과일은 다 좋아'\n",
    "new_favorite['people']=\"홍길동\"\n",
    "print(\"원본:\", my_favorite)\n",
    "print(\"수정본:\",new_favorite)"
   ]
  },
  {
   "cell_type": "markdown",
   "id": "d0d0f618",
   "metadata": {},
   "source": [
    "# 4절 셋\n",
    "- 중복된 데이터를 허용하지 않는 집합(순서X)\n",
    "- {}나 set()함수를 이용하서 셋 생성 ex. set[(1,2,1)],set{('name':'홍길동')}\n",
    "- 추가 : add(), uapdate()\n",
    "- 삭제 : remove()\n",
    "- 집합연산자 : &(교집합) |(합집합), -(차집합)"
   ]
  },
  {
   "cell_type": "code",
   "execution_count": 101,
   "id": "4831db43",
   "metadata": {},
   "outputs": [
    {
     "data": {
      "text/plain": [
       "{'apple', 'banana', 'orange'}"
      ]
     },
     "execution_count": 101,
     "metadata": {},
     "output_type": "execute_result"
    }
   ],
   "source": [
    "fruits={'banana','orange','apple','apple'}\n",
    "fruits"
   ]
  },
  {
   "cell_type": "code",
   "execution_count": 107,
   "id": "0be7578e",
   "metadata": {},
   "outputs": [
    {
     "data": {
      "text/plain": [
       "{1, 2, 3}"
      ]
     },
     "execution_count": 107,
     "metadata": {},
     "output_type": "execute_result"
    }
   ],
   "source": [
    "s1 = set({1,2,3,1,1,1,1,1,1,1,1,1,1})\n",
    "s1"
   ]
  },
  {
   "cell_type": "code",
   "execution_count": 108,
   "id": "93f84de2",
   "metadata": {},
   "outputs": [
    {
     "data": {
      "text/plain": [
       "{1, 2, 3}"
      ]
     },
     "execution_count": 108,
     "metadata": {},
     "output_type": "execute_result"
    }
   ],
   "source": [
    "s1 = set((1,2,3,1,1,1,1,1,1,1,1,1,1))\n",
    "s1"
   ]
  },
  {
   "cell_type": "code",
   "execution_count": 109,
   "id": "6b9ea392",
   "metadata": {},
   "outputs": [
    {
     "data": {
      "text/plain": [
       "{'address', 'age', 'name'}"
      ]
     },
     "execution_count": 109,
     "metadata": {},
     "output_type": "execute_result"
    }
   ],
   "source": [
    "# set 함수를 이용하여 딕셔너리를 셋으로 전환할 떄는 key만 적용\n",
    "s2 = set({'name':'홍길동','age':30, 'address':'서울'})\n",
    "s2"
   ]
  },
  {
   "cell_type": "markdown",
   "id": "83213734",
   "metadata": {},
   "source": [
    "## 추가하기\n",
    "- add() : 기본자료형, 튜플 데이터 하나 추가. list, dic, set 유형은 add()함수 사용 불가\n",
    "- update() : list, tuple, dic, set 요소를 하나씩 따로 추가. dic 사용시 key만 추가\n",
    "    cf list의 extend와 비슷"
   ]
  },
  {
   "cell_type": "code",
   "execution_count": null,
   "id": "1ee86589",
   "metadata": {},
   "outputs": [],
   "source": [
    "s = {1,2,3}\n",
    "s.add(4)\n",
    "s.add(False)\n",
    "s.add((6,7))\n",
    "print(\"add 후 s:\",s)"
   ]
  },
  {
   "cell_type": "code",
   "execution_count": 1,
   "id": "56a8dbe8",
   "metadata": {},
   "outputs": [
    {
     "name": "stdout",
     "output_type": "stream",
     "text": [
      "True add후 : {1, 2, 3}\n",
      "3\n"
     ]
    }
   ],
   "source": [
    "# 1이 set에 있는 상태에서 True 추가\n",
    "s={1,2,3,1,1}\n",
    "# s.add(1)\n",
    "# s.add(False)\n",
    "s.add(True) # True의 비트값이 1이여서 생략됨\n",
    "print(\"True add후 :\",s)\n",
    "print(len(s))"
   ]
  },
  {
   "cell_type": "code",
   "execution_count": 124,
   "id": "302d17b2",
   "metadata": {},
   "outputs": [
    {
     "name": "stdout",
     "output_type": "stream",
     "text": [
      "0 add후 : {False, 1, 2, 3}\n"
     ]
    }
   ],
   "source": [
    "# False이 set에 있는 상태에서 0 추가\n",
    "s={False,2,3,1,1}\n",
    "s.add(0) # False의 비트값이 0이여서 생략됨\n",
    "print(\"0 add후 :\",s)"
   ]
  },
  {
   "cell_type": "code",
   "execution_count": 120,
   "id": "eb17c165",
   "metadata": {},
   "outputs": [
    {
     "name": "stdout",
     "output_type": "stream",
     "text": [
      "update() 후 : {1, 2, 3, 'age', 'name'}\n"
     ]
    }
   ],
   "source": [
    "s={1,2,3}\n",
    "# s.update([4,5,6])\n",
    "# s.update((4,5,6))\n",
    "# s.update({4,5,6})\n",
    "s.update({'name':'홍','age':20})\n",
    "print(\"update() 후 :\",s)"
   ]
  },
  {
   "cell_type": "markdown",
   "id": "6c258cd1",
   "metadata": {},
   "source": [
    "## 삭제하기\n",
    "    remove()"
   ]
  },
  {
   "cell_type": "code",
   "execution_count": 125,
   "id": "585b12ae",
   "metadata": {},
   "outputs": [
    {
     "data": {
      "text/plain": [
       "{1, 3}"
      ]
     },
     "execution_count": 125,
     "metadata": {},
     "output_type": "execute_result"
    }
   ],
   "source": [
    "s={1,2,3,1,1,1,1}\n",
    "s.remove(2)\n",
    "s"
   ]
  },
  {
   "cell_type": "code",
   "execution_count": 128,
   "id": "02186985",
   "metadata": {},
   "outputs": [
    {
     "name": "stdout",
     "output_type": "stream",
     "text": [
      "해당 데이터는 없습니다.\n"
     ]
    }
   ],
   "source": [
    "# 없는 요소를 삭제할 경우 에러\n",
    "# s.remove(2)\n",
    "if 5 in s:\n",
    "    s.remove(5)\n",
    "else:\n",
    "    print('해당 데이터는 없습니다.')"
   ]
  },
  {
   "cell_type": "markdown",
   "id": "280af848",
   "metadata": {},
   "source": [
    "## 집합연산자\n",
    "    &(교집합), |(합집합), -(차집합)"
   ]
  },
  {
   "cell_type": "code",
   "execution_count": 132,
   "id": "1e450c07",
   "metadata": {},
   "outputs": [
    {
     "name": "stdout",
     "output_type": "stream",
     "text": [
      "s1 = {1, 2, 3, 4, 5}\n",
      "s2 = {3, 4, 5, 6, 7}\n",
      "s1 & s2 = {3, 4, 5}\n",
      "s1 | s2 = {1, 2, 3, 4, 5, 6, 7}\n",
      "s1 - s2 = {1, 2}\n"
     ]
    }
   ],
   "source": [
    "s1={1,2,3,4,5}\n",
    "s2={3,4,5,6,7}\n",
    "print('s1 = {}'.format(s1))\n",
    "print('s2 = {}'.format(s2))\n",
    "print(\"s1 & s2 =\",s1&s2)\n",
    "print(\"s1 | s2 =\",s1|s2)\n",
    "print(\"s1 - s2 =\",s1-s2)"
   ]
  },
  {
   "cell_type": "code",
   "execution_count": 134,
   "id": "e8d060f4",
   "metadata": {},
   "outputs": [
    {
     "name": "stdout",
     "output_type": "stream",
     "text": [
      "길동\n",
      "길자\n",
      "길숙\n"
     ]
    }
   ],
   "source": [
    "names ={ '길동','길숙','길자'}\n",
    "for name in names:\n",
    "    print(name)"
   ]
  },
  {
   "cell_type": "markdown",
   "id": "7be818b7",
   "metadata": {},
   "source": [
    "# 5절 enumerate\n",
    "- 반복자. 반복문을 처리할 때 사용할 순서객체를 생성하는 함수\n",
    "- 리스트, 튜플, 딕셔너리, 셋을 for문에 사용시"
   ]
  },
  {
   "cell_type": "code",
   "execution_count": 135,
   "id": "8e1f7197",
   "metadata": {},
   "outputs": [
    {
     "data": {
      "text/plain": [
       "[(0, '길동'), (1, '길자'), (2, '길숙')]"
      ]
     },
     "execution_count": 135,
     "metadata": {},
     "output_type": "execute_result"
    }
   ],
   "source": [
    "list(enumerate(names))"
   ]
  },
  {
   "cell_type": "code",
   "execution_count": 136,
   "id": "f70d1f28",
   "metadata": {},
   "outputs": [
    {
     "name": "stdout",
     "output_type": "stream",
     "text": [
      "1. 길동\n",
      "2. 길자\n",
      "3. 길숙\n"
     ]
    }
   ],
   "source": [
    "for no, name in enumerate(names):\n",
    "    print(f\"{no+1}. {name}\")"
   ]
  },
  {
   "cell_type": "code",
   "execution_count": 137,
   "id": "42feb6af",
   "metadata": {},
   "outputs": [],
   "source": [
    "names=['길동','길자','길숙']\n",
    "tels=['02-999-9999','02-888-8888','02-777-7777']\n",
    "adds=['서울','판교','하남']"
   ]
  },
  {
   "cell_type": "code",
   "execution_count": 140,
   "id": "fe5da680",
   "metadata": {},
   "outputs": [
    {
     "name": "stdout",
     "output_type": "stream",
     "text": [
      "1. 길동님의 연락처는 02-999-9999이고, 서울 살아요\n",
      "2. 길자님의 연락처는 02-888-8888이고, 판교 살아요\n",
      "3. 길숙님의 연락처는 02-777-7777이고, 하남 살아요\n"
     ]
    }
   ],
   "source": [
    "for idx in range(len(names)):\n",
    "    print(\"{}. {}님의 연락처는 {}이고, {} 살아요\".format(idx+1,names[idx],tels[idx],adds[idx]))"
   ]
  },
  {
   "cell_type": "code",
   "execution_count": 144,
   "id": "e0565c19",
   "metadata": {},
   "outputs": [
    {
     "data": {
      "text/plain": [
       "[('길동', '02-999-9999', '서울'),\n",
       " ('길자', '02-888-8888', '판교'),\n",
       " ('길숙', '02-777-7777', '하남')]"
      ]
     },
     "execution_count": 144,
     "metadata": {},
     "output_type": "execute_result"
    }
   ],
   "source": [
    "list(zip(names,tels,adds))"
   ]
  },
  {
   "cell_type": "code",
   "execution_count": 145,
   "id": "d376a1f3",
   "metadata": {},
   "outputs": [
    {
     "name": "stdout",
     "output_type": "stream",
     "text": [
      "길동님의 연락처는 02-999-9999이고, 서울 살아요\n",
      "길자님의 연락처는 02-888-8888이고, 판교 살아요\n",
      "길숙님의 연락처는 02-777-7777이고, 하남 살아요\n"
     ]
    }
   ],
   "source": [
    "for name, tel, add in zip(names,tels,adds):\n",
    "    print(f\"{name}님의 연락처는 {tel}이고, {add} 살아요\")"
   ]
  },
  {
   "cell_type": "code",
   "execution_count": 146,
   "id": "542c098a",
   "metadata": {},
   "outputs": [
    {
     "data": {
      "text/plain": [
       "[(0, ('길동', '02-999-9999', '서울')),\n",
       " (1, ('길자', '02-888-8888', '판교')),\n",
       " (2, ('길숙', '02-777-7777', '하남'))]"
      ]
     },
     "execution_count": 146,
     "metadata": {},
     "output_type": "execute_result"
    }
   ],
   "source": [
    "list(enumerate(zip(names,tels,adds)))"
   ]
  },
  {
   "cell_type": "code",
   "execution_count": 148,
   "id": "901a1ddc",
   "metadata": {},
   "outputs": [
    {
     "name": "stdout",
     "output_type": "stream",
     "text": [
      "0.길동님의 연락처는 02-999-9999이고, 서울 살아요\n",
      "1.길자님의 연락처는 02-888-8888이고, 판교 살아요\n",
      "2.길숙님의 연락처는 02-777-7777이고, 하남 살아요\n"
     ]
    }
   ],
   "source": [
    "for idx, (name,tel,add) in enumerate(zip(names,tels,adds)):\n",
    "#     print(f\"{idx+1}.{name}님의 연락처는 {tel}이고, {add} 살아요\")\n",
    "    print(\"{}.{}님의 연락처는 {}이고, {} 살아요\".format(idx+1, name, tel, add))"
   ]
  },
  {
   "cell_type": "code",
   "execution_count": 154,
   "id": "b52da50d",
   "metadata": {},
   "outputs": [
    {
     "data": {
      "text/plain": [
       "[{'name': '길동', 'tel': '02-999-9999', 'add': '서울'},\n",
       " {'name': '길자', 'tel': '02-888-8888', 'add': '판교'},\n",
       " {'name': '길숙', 'tel': '02-777-7777', 'add': '하남'}]"
      ]
     },
     "execution_count": 154,
     "metadata": {},
     "output_type": "execute_result"
    }
   ],
   "source": [
    "members=[] # 딕셔너리 리스트\n",
    "for name,tel,add in zip(names,tels,adds):\n",
    "    member={'name' :name, 'tel' :tel, 'add' : add}\n",
    "    members.append(member)\n",
    "members  "
   ]
  },
  {
   "cell_type": "code",
   "execution_count": 161,
   "id": "07953e71",
   "metadata": {},
   "outputs": [
    {
     "data": {
      "text/plain": [
       "[{'rank': 1, 'name': '길동', 'tel': '02-999-9999', 'add': '서울'},\n",
       " {'rank': 2, 'name': '길자', 'tel': '02-888-8888', 'add': '판교'},\n",
       " {'rank': 3, 'name': '길숙', 'tel': '02-777-7777', 'add': '하남'}]"
      ]
     },
     "execution_count": 161,
     "metadata": {},
     "output_type": "execute_result"
    }
   ],
   "source": [
    "members=[] # rank 추가\n",
    "for idx,(name,tel,add) in  enumerate(zip(names,tels,adds)):\n",
    "    member={'rank' :idx+1, 'name' :name, 'tel' :tel, 'add' : add}\n",
    "    members.append(member)\n",
    "members  "
   ]
  },
  {
   "cell_type": "markdown",
   "id": "3dc9d597",
   "metadata": {},
   "source": [
    "# 6절 연습문제\n",
    "## 실습형 연습문제"
   ]
  },
  {
   "cell_type": "code",
   "execution_count": 248,
   "id": "9aaef74a",
   "metadata": {},
   "outputs": [],
   "source": [
    "# 다음의 리스트가 주어졌을 경우 요구사항대로 코드를 작성하세요\n",
    "numbers=[1,2,3,4,5,6,7,8,9,10]"
   ]
  },
  {
   "cell_type": "code",
   "execution_count": 249,
   "id": "bbca6db2",
   "metadata": {},
   "outputs": [
    {
     "data": {
      "text/plain": [
       "[1, 2, 3, 4, 5, 6, 7, 8, 9, 10, 100]"
      ]
     },
     "execution_count": 249,
     "metadata": {},
     "output_type": "execute_result"
    }
   ],
   "source": [
    "# 1. 숫자 100을 맨 뒤에 추가하세요\n",
    "numbers.append(100)\n",
    "numbers"
   ]
  },
  {
   "cell_type": "code",
   "execution_count": 250,
   "id": "1aa562aa",
   "metadata": {},
   "outputs": [
    {
     "data": {
      "text/plain": [
       "[1, 2, 3, 4, 5, 6, 7, 8, 9, 10, 100, 200, 300, 400, 500]"
      ]
     },
     "execution_count": 250,
     "metadata": {},
     "output_type": "execute_result"
    }
   ],
   "source": [
    "# 2. 다음 리스트를 numbers리스트 맨 뒤에 추가하세요\n",
    "data=[200, 300, 400, 500]\n",
    "numbers.extend(data)\n",
    "numbers"
   ]
  },
  {
   "cell_type": "code",
   "execution_count": 251,
   "id": "7e8de613",
   "metadata": {},
   "outputs": [
    {
     "name": "stdout",
     "output_type": "stream",
     "text": [
      "[1, 2, 3, 4, 5]\n"
     ]
    }
   ],
   "source": [
    "# 3. 처음 다섯 개 숫자만 출력하세요\n",
    "print(numbers[:5])"
   ]
  },
  {
   "cell_type": "code",
   "execution_count": 252,
   "id": "1dc140fc",
   "metadata": {},
   "outputs": [
    {
     "name": "stdout",
     "output_type": "stream",
     "text": [
      "[3, 5, 7, 9, 100, 300, 500]\n"
     ]
    }
   ],
   "source": [
    "# 4. 리스트에서 짝수 번째 데이터만 추출하세요\n",
    "print(numbers[2::2])"
   ]
  },
  {
   "cell_type": "code",
   "execution_count": 253,
   "id": "209afc42",
   "metadata": {},
   "outputs": [
    {
     "data": {
      "text/plain": [
       "[1, 2, 0, 4, 0, 6, 0, 8, 0, 10, 0, 200, 0, 400, 0]"
      ]
     },
     "execution_count": 253,
     "metadata": {},
     "output_type": "execute_result"
    }
   ],
   "source": [
    "# 5. 짝수번째 데이터를 모두 0으로 바꾸세요\n",
    "numbers[2::2]=[0]*len(numbers[2::2])\n",
    "numbers"
   ]
  },
  {
   "cell_type": "code",
   "execution_count": 254,
   "id": "924540b4",
   "metadata": {},
   "outputs": [
    {
     "data": {
      "text/plain": [
       "[0, 400, 0, 200, 0, 10, 0, 8, 0, 6, 0, 4, 0, 2, 1]"
      ]
     },
     "execution_count": 254,
     "metadata": {},
     "output_type": "execute_result"
    }
   ],
   "source": [
    "# 데이터를 역순으로 나열하세요\n",
    "numbers[::-1]"
   ]
  },
  {
   "cell_type": "code",
   "execution_count": 226,
   "id": "dc0bb606",
   "metadata": {},
   "outputs": [],
   "source": [
    "# 다음 딕셔너리 데이터가 주어졌을 경우 요구사항대로 코드를 작성하세요\n",
    "member_info={'name':'홍길동','age':20,'address':'서울시 마포구','score':90}"
   ]
  },
  {
   "cell_type": "code",
   "execution_count": 257,
   "id": "897f2a43",
   "metadata": {},
   "outputs": [
    {
     "name": "stdout",
     "output_type": "stream",
     "text": [
      "address의 값은: 서울시 마포구\n"
     ]
    }
   ],
   "source": [
    "# 7.address값을 출력하세요\n",
    "print(\"address의 값은:\",member_info['address']) # 비추\n",
    "# print(\"address의 값은:\",member_info,get('address'))"
   ]
  },
  {
   "cell_type": "code",
   "execution_count": 228,
   "id": "cda58512",
   "metadata": {},
   "outputs": [
    {
     "name": "stdout",
     "output_type": "stream",
     "text": [
      "score 출력: 90\n",
      "score 삭제 후: {'name': '홍길동', 'age': 20, 'address': '서울시 마포구'}\n"
     ]
    }
   ],
   "source": [
    "# 8. score를 출력하고 member_info 딕셔너리에서 삭제하세요\n",
    "print('score 출력:',member_info['score'])\n",
    "del member_info['score']\n",
    "print('score 삭제 후:',member_info)"
   ]
  },
  {
   "cell_type": "code",
   "execution_count": 229,
   "id": "ca248bdd",
   "metadata": {},
   "outputs": [
    {
     "name": "stdout",
     "output_type": "stream",
     "text": [
      "address변경 후: 서울시 마포구\n"
     ]
    }
   ],
   "source": [
    "# 9. address를 \"서울시 서대문구\"로 변경하세요\n",
    "member_info['address']=\"서울시 마포구\"\n",
    "print('address변경 후:',member_info['address'])"
   ]
  },
  {
   "cell_type": "code",
   "execution_count": 232,
   "id": "9b7b34f3",
   "metadata": {},
   "outputs": [
    {
     "name": "stdout",
     "output_type": "stream",
     "text": [
      "딕셔너리 데이터값 출력 :  ['name', 'age', 'address']\n"
     ]
    }
   ],
   "source": [
    "# 10. member_info 딕셔너리 데이터의 값을 리스트로 출력하세요\n",
    "print(\"딕셔너리 데이터값 출력 : \",list(member_info))"
   ]
  },
  {
   "cell_type": "markdown",
   "id": "f287519c",
   "metadata": {},
   "source": [
    "## 서술형 연습문제"
   ]
  },
  {
   "cell_type": "code",
   "execution_count": null,
   "id": "b144fa70",
   "metadata": {},
   "outputs": [],
   "source": [
    "# 1. 다음 코드를 실행했을 때 출력되는 것은?\n",
    "'''\n",
    "L1=(\"orange\",\"apple\",\"banana\",\"kiwi\")\n",
    "new_list [i for i in if len(i)>5]\n",
    "print(new_list)\n",
    "'''\n",
    "# 정답\n",
    "# [\"orange\",\"banana\"] 데이터길이가 5를 초과하는 데이터만 리스트에 넣겠다 했기에 길이가 6인 orange, banana가 리스트에 들어간다"
   ]
  },
  {
   "cell_type": "code",
   "execution_count": null,
   "id": "0f33b98e",
   "metadata": {},
   "outputs": [],
   "source": [
    "# 2. 다음 코드와 실행결과가 잘못 짝지어진 것은?\n",
    "'''\n",
    "① print(list(range(10))) -[0,1,2,3,4,5,6,7,8,9]\n",
    "② print(list(range(5,10))) - [5,6,7,8,9]\n",
    "③ print(list(range(10,0,-1))) - [9,8,7,6,5,4,3,2,1,0]\n",
    "④ print(list(range(10,20,2))) - [10,12,14,16,18]\n",
    "'''\n",
    "# 정답 ③ 시작값은 10이므로 [10,9,8,7,6,5,4,3,2,1,0] 이 맞다"
   ]
  },
  {
   "cell_type": "code",
   "execution_count": null,
   "id": "456d455a",
   "metadata": {},
   "outputs": [],
   "source": [
    "# 3. 다음 구문에 의해 출력되는 것은?\n",
    "'''\n",
    "numbers_2d=[[1,2,3,4,5],[10,20,30,40],[1,3,5],[2,]]\n",
    "len(numbers_2d[3])\n",
    "'''\n",
    "# 정답\n",
    "# 1 numbers_2d의 3번째 값은 [2,]이고 데이터는 2 한 개 뿐이다."
   ]
  },
  {
   "cell_type": "code",
   "execution_count": null,
   "id": "fe2a568a",
   "metadata": {},
   "outputs": [],
   "source": [
    "# 4. 다음 코드의 실행결과가 나올 수 있는 빈칸에 들어갈 함수 이름은?\n",
    "'''\n",
    "numbers=[1,2,3,4,5]\n",
    "numbers.__________([10,20,30,40,50])\n",
    "numbers\n",
    "'''\n",
    "# 정답 append 리스트에 값을 추가햐였으므로 리스트에 값을 추가하는 함수인 append를 사용하여야 한다."
   ]
  },
  {
   "cell_type": "code",
   "execution_count": null,
   "id": "5851b722",
   "metadata": {},
   "outputs": [],
   "source": [
    "# 5. 다음 구문을 실행할 때 결과는?\n",
    "'''\n",
    "numbers = list(range(10))\n",
    "numbers[::2]= 실행 구문/[0] * len(numbers[::2])/\n",
    "print(numbers)\n",
    "'''\n",
    "# 정답 [0,1,0,3,0,5,0,7,0,9] 시작부터 2 step씩 0으로 값을 수정하겠다 했으므로"
   ]
  },
  {
   "cell_type": "code",
   "execution_count": null,
   "id": "295a0b46",
   "metadata": {},
   "outputs": [],
   "source": [
    "# 6. 다음 구문을 실행할 때 결과는? -[수정]\n",
    "'''\n",
    "numbers=[0,1,2,3,4,5,6,7,8,9]\n",
    "numbers[::2]=numbers[5:]\n",
    "print(numbers)\n",
    "'''\n",
    "# 정답 [5,1,6,,3,7,5,8,7,9,9]\n",
    "# 시작부터 2 step인 [0,2,4,6,8]에 numbers[5:]의 값 [5,6,7,8,9]을 각 위치에 맞추어 바꾼다\n",
    "# x,y,z = 1,2,3 일 때 x=1 y=2, z=3 의 형태로 값을 가지는 방식과 같다."
   ]
  },
  {
   "cell_type": "code",
   "execution_count": null,
   "id": "6e27a201",
   "metadata": {},
   "outputs": [],
   "source": [
    "# 7. 다음 구문을 실행할 때 결과는? -[수정]\n",
    "'''\n",
    "numbers=[0,1,2,3,4,5,6,7,8,9]\n",
    "numbers[::2]=numbers[:5]\n",
    "print(numbers)\n",
    "'''\n",
    "# 정답 [0,1,1,3,2,5,3,7,4,9]\n",
    "# 시작부터 2 step인 [0,2,4,6,8]의 값에 numbers[:5]의 값 [0,1,2,3,4]을 각 위치에 맞추어 바꾼다\n",
    "# 6번 문제와 푸는 방식이 같다."
   ]
  },
  {
   "cell_type": "code",
   "execution_count": null,
   "id": "743649cb",
   "metadata": {},
   "outputs": [
    {
     "data": {
      "text/plain": [
       "\"\\nmy_dic = {“a”:10, “b”:20, “c”:30}\\n① my_dic [0]\\n② my_dic [‘a']\\n③ list( my_dic.items ())[0][1]\\n④ list( my_dic.values ())[0]\\n⑤ my_dic.get (‘a')\\n\""
      ]
     },
     "execution_count": 258,
     "metadata": {},
     "output_type": "execute_result"
    }
   ],
   "source": [
    "# 8.다음 데이터에서 10 을 출력할 수 없는 구문은 -[수정]\n",
    "'''\n",
    "my_dic = {“a”:10, “b”:20, “c”:30}\n",
    "① my_dic [0]\n",
    "② my_dic [‘a']\n",
    "③ list( my_dic.items ())[0][1]\n",
    "④ list( my_dic.values ())[0]\n",
    "⑤ my_dic.get (‘a')\n",
    "'''\n",
    "# 정답 ①\n",
    "# ① 딕셔너리는 index를 가지지 않기에 index를 이용한 출력은 불가능하다\n",
    "# ③ 이 오답이 아닌 이유는 딕셔너리를 리스트화 했을 시 키와 데이터의 쌍이 각각의 튜플로 저장됙기 때문이다\n",
    "# 즉 ③ 은 [('a',10),('b',20),('c',30)]의 값을 가지는 리스트에서 0번째 튜플의 1번값인 10의 값을 말한다. "
   ]
  },
  {
   "cell_type": "code",
   "execution_count": null,
   "id": "c9be5a54",
   "metadata": {},
   "outputs": [],
   "source": [
    "# 9. 다음 프로그램의 결과를 출력하시오\n",
    "'''\n",
    "fruits = [‘apple’, ‘banana’, ‘orange’]\n",
    "x, y, z = fruits\n",
    "print(x)\n",
    "print(y)\n",
    "print(z)\n",
    "'''\n",
    "'''\n",
    "정답\n",
    "apple\n",
    "banana\n",
    "orange\n",
    "\n",
    "x,y,z = [‘apple’, ‘banana’, ‘orange’]의 형태로 보면 이해가 쉽다\n",
    "x,y,z와 ‘apple’, ‘banana’, ‘orange’가 각각의 순서에 맞게 짝을 짓는다\n",
    "'''"
   ]
  },
  {
   "cell_type": "code",
   "execution_count": null,
   "id": "05956eb0",
   "metadata": {},
   "outputs": [],
   "source": [
    "# 10.다음 프로그램의 결과를 출력하시오\n",
    "'''\n",
    "fruits = [‘apple’, ‘banana’, ‘orange’]\n",
    "print(len(fruits))\n",
    "'''\n",
    "# 정답 3 리스트의 데이터갯수를 물었으므로"
   ]
  },
  {
   "cell_type": "code",
   "execution_count": null,
   "id": "a7ea55e4",
   "metadata": {},
   "outputs": [],
   "source": [
    "# 11. 파이썬에서 함수를 만들기 위해 선언하는 단어는?\n",
    "# 정답 def"
   ]
  },
  {
   "cell_type": "markdown",
   "id": "c89430d4",
   "metadata": {},
   "source": [
    "![변수타입들](https://pynative.com/wp-content/uploads/2021/02/python-data-types.jpg)"
   ]
  },
  {
   "cell_type": "markdown",
   "id": "d8c563d1",
   "metadata": {},
   "source": [
    "<img src=\"https://pynative.com/wp-content/uploads/2021/02/python-data-types.jpg\"\n",
    "    style=\"float:left\"\n",
    "    width=\"500\">"
   ]
  },
  {
   "cell_type": "code",
   "execution_count": null,
   "id": "eb2a67e0",
   "metadata": {},
   "outputs": [],
   "source": []
  }
 ],
 "metadata": {
  "kernelspec": {
   "display_name": "Python 3 (ipykernel)",
   "language": "python",
   "name": "python3"
  },
  "language_info": {
   "codemirror_mode": {
    "name": "ipython",
    "version": 3
   },
   "file_extension": ".py",
   "mimetype": "text/x-python",
   "name": "python",
   "nbconvert_exporter": "python",
   "pygments_lexer": "ipython3",
   "version": "3.10.9"
  },
  "toc": {
   "base_numbering": 1,
   "nav_menu": {},
   "number_sections": false,
   "sideBar": true,
   "skip_h1_title": false,
   "title_cell": "Table of Contents",
   "title_sidebar": "Contents",
   "toc_cell": false,
   "toc_position": {
    "height": "calc(100% - 180px)",
    "left": "10px",
    "top": "150px",
    "width": "213.797px"
   },
   "toc_section_display": true,
   "toc_window_display": true
  }
 },
 "nbformat": 4,
 "nbformat_minor": 5
}
