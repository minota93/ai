{
 "cells": [
  {
   "cell_type": "code",
   "execution_count": 1,
   "id": "e7048950",
   "metadata": {},
   "outputs": [
    {
     "data": {
      "text/html": [
       "\n",
       "<style>\n",
       "div.container{width:90% ! important;}\n",
       "div.cell.code_cell.rendered{width:100%}\n",
       "div.input_prompt{padding:0px}\n",
       "div.CodeMirror {font-family:Consolas ; font-size:12pt;}\n",
       "div.text_cell_render.rendered_html {font-size:12pt;}\n",
       "div.output {font-size:12pt; font-weight:bold}\n",
       "div.input {font-family:Consolas ; font-size:12pt;}\n",
       "div.prompt {min-width:70px;}\n",
       "div#toc-wrapper {padding-top:120px;}\n",
       "div.text_cell_render ul li{font-size:12pt;padding:5px;}\n",
       "table.dataframe{font-size:12px;}\n",
       "</style>\n"
      ],
      "text/plain": [
       "<IPython.core.display.HTML object>"
      ]
     },
     "metadata": {},
     "output_type": "display_data"
    }
   ],
   "source": [
    "from IPython.display import display, HTML\n",
    "display(HTML(\"\"\"\n",
    "<style>\n",
    "div.container{width:90% ! important;}\n",
    "div.cell.code_cell.rendered{width:100%}\n",
    "div.input_prompt{padding:0px}\n",
    "div.CodeMirror {font-family:Consolas ; font-size:12pt;}\n",
    "div.text_cell_render.rendered_html {font-size:12pt;}\n",
    "div.output {font-size:12pt; font-weight:bold}\n",
    "div.input {font-family:Consolas ; font-size:12pt;}\n",
    "div.prompt {min-width:70px;}\n",
    "div#toc-wrapper {padding-top:120px;}\n",
    "div.text_cell_render ul li{font-size:12pt;padding:5px;}\n",
    "table.dataframe{font-size:12px;}\n",
    "</style>\n",
    "\"\"\"))"
   ]
  },
  {
   "cell_type": "markdown",
   "id": "edce526c",
   "metadata": {},
   "source": [
    "<b><font size=\"6\" color=\"red\">ch.04 제어문</font></b>\n",
    "- 조건문 : if문\n",
    "- 반복문 : for문(반복횟수 지정), while문(조건이 맞을때 까지)\n",
    "**모두 중첩가능**\n",
    "\n",
    "# 1절 조건문(if)\n",
    "```\n",
    "if 조건1: \n",
    "    조건1이 True일 경우 수행할 명령어들(※들여쓰기. if 절 단독 사용가능)\n",
    "elif 조건2:\n",
    "    조건1이 False, 조건2가 True일 경우 수행할 명령어들\n",
    "else:\n",
    "    모든 조건이 False일 경우 수행할 명령어들(elif,else 단독사용 불가)\n",
    "```"
   ]
  },
  {
   "cell_type": "code",
   "execution_count": 6,
   "id": "2b0359e8",
   "metadata": {},
   "outputs": [
    {
     "name": "stdout",
     "output_type": "stream",
     "text": [
      "Enter your score >5\n",
      "재시험 응시하셔야 합니다.\n",
      "화이팅\n"
     ]
    }
   ],
   "source": [
    "score = int(input('Enter your score >'))\n",
    "if score>=80:\n",
    "    print('참 잘했어요')\n",
    "    print('다음에도 기대할께요')\n",
    "elif score>=60:\n",
    "    print('분발하셔요')\n",
    "    print('뭐 그래도 고생하셨어요')\n",
    "else:\n",
    "    print('재시험 응시하셔야 합니다.')\n",
    "    print('화이팅')"
   ]
  },
  {
   "cell_type": "code",
   "execution_count": 14,
   "id": "1d240440",
   "metadata": {},
   "outputs": [
    {
     "name": "stdout",
     "output_type": "stream",
     "text": [
      "Enter your score >105\n",
      "{'입력하신 점수 105는 유효하지 않는 점수입니다.'}\n"
     ]
    }
   ],
   "source": [
    "# ex. 점수를 입력받아 학점출력(A,B,C,D,F, 유효하지 않는 점수)\n",
    "score = int(input('Enter your score >'))\n",
    "if score >100:\n",
    "    print({f'입력하신 점수 {score}는 유효하지 않는 점수입니다.'})\n",
    "elif score >=90:\n",
    "    print(f'입력하신 점수 {score}는 A학점')\n",
    "elif score >=80:\n",
    "    print({f'입력하신 점수 {score}는 B학점'})\n",
    "elif score >=70:\n",
    "    print({f'입력하신 점수 {score}는 C학점'})\n",
    "elif score >=60:\n",
    "    print({f'입력하신 점수 {score}는 D학점'})\n",
    "elif score >=0:\n",
    "    print({f'입력하신 점수 {score}는 F학점'})\n",
    "else:\n",
    "    print({f'입력하신 점수 {score}는 유효하지 않는 점수입니다.'})"
   ]
  },
  {
   "cell_type": "markdown",
   "id": "339a15ed",
   "metadata": {},
   "source": [
    "# 2절 반복문\n",
    "## 2.1 for-in문\n",
    "```\n",
    "for 임시변수 in 나열가능한자료:\n",
    "    반복할 문장1\n",
    "    반복할 문장2\n",
    "else\n",
    "    나열가능한자료를 다 소요하여 for블록을 다 수행한 후, 최종 한 번 실행할 문장(들)\n",
    "    for문의 break를 수행할 경우, else블록을 수행하지 않음(else블록은 선택)\n",
    "```"
   ]
  },
  {
   "cell_type": "code",
   "execution_count": 16,
   "id": "6f3c71ea",
   "metadata": {},
   "outputs": [
    {
     "name": "stdout",
     "output_type": "stream",
     "text": [
      "1\t3\t5\t7\t9\tDONE\n",
      "END\n"
     ]
    }
   ],
   "source": [
    "for i in range(1,10,2):\n",
    "    print(i, end='\\t')\n",
    "else:\n",
    "    print('DONE')\n",
    "print('END')"
   ]
  },
  {
   "cell_type": "code",
   "execution_count": 19,
   "id": "a52d5ec8",
   "metadata": {},
   "outputs": [
    {
     "name": "stdout",
     "output_type": "stream",
     "text": [
      "0\t1\t2\t3\t4\tEND\n"
     ]
    }
   ],
   "source": [
    "for i in range(10):\n",
    "    if i==5:\n",
    "        break\n",
    "    print(i,end='\\t')\n",
    "else:\n",
    "    print('\\nDOEN')\n",
    "print('END')"
   ]
  },
  {
   "cell_type": "code",
   "execution_count": 21,
   "id": "921c3252",
   "metadata": {},
   "outputs": [
    {
     "name": "stdout",
     "output_type": "stream",
     "text": [
      "1부터 100까지 합은 2550\n"
     ]
    }
   ],
   "source": [
    "# 1~100까지 짝수들의 합을 계한하고 출력하시오(for문)\n",
    "sum=0 # 누적변수\n",
    "\n",
    "for i in range(1,101):\n",
    "    if i%2==0:\n",
    "        sum += i # sum = sum + i\n",
    "else:\n",
    "    print('1부터 100까지 합은', sum)"
   ]
  },
  {
   "cell_type": "markdown",
   "id": "75eb8bf1",
   "metadata": {},
   "source": [
    "## 2.2 while문\n",
    "```\n",
    "while 조건:\n",
    "    조건이 True일 경우 반복할 문장\n",
    "else:\n",
    "    조건이  False일 경우 한번 실행할 문장(들)(else구문 선택하사항)\n",
    "    while문 내의 break 수핼할 경우 else구문은 실행되지 않음\n",
    "```"
   ]
  },
  {
   "cell_type": "code",
   "execution_count": 27,
   "id": "d05ae3b6",
   "metadata": {},
   "outputs": [
    {
     "name": "stdout",
     "output_type": "stream",
     "text": [
      "1~100까지 짝수의 합은 2550\n"
     ]
    }
   ],
   "source": [
    "# 1~100까지 짝수들의 합을 계한하고 출력하시오(while문)\n",
    "sum=0 # 누적변수\n",
    "i=1 # i값 초기화\n",
    "\n",
    "while i<=100:\n",
    "    if i%2 == 0:\n",
    "        sum += i \n",
    "    i+=1\n",
    "else:\n",
    "    print('1~100까지 짝수의 합은', sum)"
   ]
  },
  {
   "cell_type": "code",
   "execution_count": 136,
   "id": "fd8cd9a1",
   "metadata": {},
   "outputs": [
    {
     "name": "stdout",
     "output_type": "stream",
     "text": [
      "첫번째 정수를 입력하세요 >9\n",
      "두번째 정수를 입력하세요 >2\n",
      "2부터 9 까지의 홀수의 합은 24\n"
     ]
    }
   ],
   "source": [
    "# ex.1 샤용자에게 두 정수를 입력받아, 작은 수 부터 큰 수 까지 홀수의 합을 누적해서 출력\n",
    "\n",
    "# 두 정수를 입력\n",
    "num1=int(input('첫번째 정수를 입력하세요 >'))\n",
    "num2=int(input('두번째 정수를 입력하세요 >'))\n",
    "sum=0\n",
    "\n",
    "# 두 정수 중 작은 수와 큰 수\n",
    "if num1>num2:\n",
    "    # 정렬\n",
    "#     temp=num1\n",
    "#     num1=num2\n",
    "#     num2=temp\n",
    "    num1, num2 = num2, num1\n",
    "    \n",
    "# 누적 \n",
    "for i in range(num1,num2+1):\n",
    "    if i%2:\n",
    "        sum += i\n",
    "\n",
    "print(f'{num1}부터 {num2} 까지의 홀수의 합은 {sum}')"
   ]
  },
  {
   "cell_type": "code",
   "execution_count": 137,
   "id": "427afa32",
   "metadata": {},
   "outputs": [
    {
     "name": "stdout",
     "output_type": "stream",
     "text": [
      "[2, 3, 15, 32, 39, 40]\n"
     ]
    }
   ],
   "source": [
    "# ex.2 로또번호 6개를 추출 후, 정렬하여 출력 (1~45) [중복불가, 오름차순]\n",
    "import random\n",
    "# random.seed()\n",
    "# random.random() # 0이상 1 미만의 실수 난수\n",
    "# random.randint(1,45) # 1~45의 정수 난수\n",
    "# random.choice(['남자','여자']) #남자나 여자를 선택(확률일치)\n",
    "# random.choices(['사기꾼','비사기꾼'],weights=[0.1,0.9])\n",
    "\n",
    "# 로또번호 할당\n",
    "lottonum=set() # 빈 셋 빈 중괄호는 딕셔너리로 취급되니 주의할 것\n",
    "\n",
    "# 로또 번호 셋에 저장\n",
    "while len(lottonum)<6:\n",
    "    \n",
    "    num = random.randint(1,45)\n",
    "    lottonum.add(num)\n",
    "# sorted(lottonum) 현 버전에서는 가능\n",
    "# 로또번호 리스트화\n",
    "\n",
    "lstlottonum=list(lottonum)\n",
    "lstlottonum.sort()\n",
    "\n",
    "print(lstlottonum)"
   ]
  },
  {
   "cell_type": "code",
   "execution_count": 168,
   "id": "3a752ef9",
   "metadata": {},
   "outputs": [
    {
     "name": "stdout",
     "output_type": "stream",
     "text": [
      "6번 로또번호 추출함 [5, 22, 23, 31, 32, 39]\n"
     ]
    }
   ],
   "source": [
    "# ex.2-1 로또번호 6개를 추출 후, 정렬하여 출력(리스트만이용) (1~45) [중복불가, 오름차순]\n",
    "import random\n",
    "# 로또번호 할당\n",
    "lottonum2=[]\n",
    "cnt=0\n",
    "\n",
    "# 로또 번호 리스트에 저장\n",
    "while len(lottonum2) < 6:\n",
    "    num = random.randint(1,45)\n",
    "    cnt += 1\n",
    "#     for i in range(len(lottonum2)):\n",
    "#         if num == lottonum2[i]:\n",
    "#             break\n",
    "#      else:\n",
    "#         lottonum2.append(num)\n",
    "\n",
    "    if num not in lottonum2:\n",
    "        lottonum2.append(num) \n",
    "# 정렬하기\n",
    "# lottonum2.sort()\n",
    "\n",
    "# 정렬 알고리즘\n",
    "for i in range(len(lottonum2)-1):\n",
    "    for j in range(i+1,len(lottonum2)):\n",
    "        if lottonum2[i] > lottonum2[j]:\n",
    "            lottonum2[i], lottonum2[j] = lottonum2[j], lottonum2[i]\n",
    "\n",
    "print(f'{cnt}번 로또번호 추출함 {lottonum2}')"
   ]
  },
  {
   "cell_type": "code",
   "execution_count": 179,
   "id": "67de648f",
   "metadata": {},
   "outputs": [
    {
     "data": {
      "text/plain": [
       "[4, 11, 13, 21, 22, 33]"
      ]
     },
     "execution_count": 179,
     "metadata": {},
     "output_type": "execute_result"
    }
   ],
   "source": [
    "# ex.2-2 1~45중 6개 뽑아 정렬\n",
    "sorted(random.sample(range(1,46),6))"
   ]
  },
  {
   "cell_type": "markdown",
   "id": "9424a6e3",
   "metadata": {},
   "source": [
    "## 2.3 break,continue\n",
    "- break : 현재 반복문 탈출\n",
    "- continue : 수행 중인 반복문을 멈추고 조건절로"
   ]
  },
  {
   "cell_type": "code",
   "execution_count": 183,
   "id": "fdddece3",
   "metadata": {},
   "outputs": [
    {
     "name": "stdout",
     "output_type": "stream",
     "text": [
      "1 2 3 4 6 7 8 9 10 END\n"
     ]
    }
   ],
   "source": [
    "num=0\n",
    "while num<10:\n",
    "    num+=1\n",
    "    \n",
    "    if num==5:\n",
    "#         break\n",
    "        continue\n",
    "    \n",
    "    print(num, end=' ')\n",
    "print('END')"
   ]
  },
  {
   "cell_type": "code",
   "execution_count": 185,
   "id": "ead965c4",
   "metadata": {},
   "outputs": [
    {
     "name": "stdout",
     "output_type": "stream",
     "text": [
      "컴퓨터가 발생한 random 수 : 19\n",
      "1~100 사이의 수를 맟춰 보세요:50\n",
      "DOWN ↓\n",
      "1~100 사이의 수를 맟춰 보세요:25\n",
      "DOWN ↓\n",
      "1~100 사이의 수를 맟춰 보세요:15\n",
      "UP ↑\n",
      "1~100 사이의 수를 맟춰 보세요:17\n",
      "UP ↑\n",
      "1~100 사이의 수를 맟춰 보세요:18\n",
      "UP ↑\n",
      "1~100 사이의 수를 맟춰 보세요:19\n",
      "축하축하 맞추셨습니다.\n",
      "BYE\n"
     ]
    }
   ],
   "source": [
    "# 숫자찾기 게임\n",
    "'''\n",
    "1~100 사이의 정수 맞추기 프로그램\n",
    "(프로그램 안에서 random수가 만들어지고, 그 random수 맞추기)\n",
    "1단계 : 숫자를 못 맞추면 UP/DOWN 을 출력하고,맞추면 축하메세지 출력 후 종료\n",
    "2단계 : 숫자를 못 맞추면 min(0), max(100)값을 조정하고 맞추면 축하메세지 출력 후 종료\n",
    "3단계 : 2단계의 기회를 5회로 제한 5회의 기회가 지나면 실패메세지 출력하고 종료.\n",
    "    5회 이내에 맞추면 축하메세지 출력하고 종료\n",
    "    (2단계와 3단계는 연습문제)\n",
    "'''\n",
    "import random\n",
    "randomNum = random.randint(1,100)\n",
    "print(\"컴퓨터가 발생한 random 수 :\",randomNum)\n",
    "\n",
    "while True:\n",
    "    inputNum=int(input('1~100 사이의 수를 맟춰 보세요:'))\n",
    "    \n",
    "    if (inputNum<1) | (inputNum>100):\n",
    "        print('수의 범위를 벗어났습니다.')\n",
    "    \n",
    "    elif randomNum <inputNum:\n",
    "        print('DOWN ↓')\n",
    "    \n",
    "    elif randomNum > inputNum:\n",
    "        print('UP ↑')\n",
    "    \n",
    "    else:\n",
    "        print(\"축하축하 맞추셨습니다.\")\n",
    "        break\n",
    "print('BYE')"
   ]
  },
  {
   "cell_type": "code",
   "execution_count": 4,
   "id": "b29eebd3",
   "metadata": {},
   "outputs": [
    {
     "name": "stdout",
     "output_type": "stream",
     "text": [
      "컴퓨터가 발생한 random 수 : 35\n",
      "1~100 사이의 수를 맟춰 보세요:35\n",
      "축하축하 맞추셨습니다.\n",
      "BYE\n"
     ]
    }
   ],
   "source": [
    "import random\n",
    "randomNum = random.randint(1,100)\n",
    "print(\"컴퓨터가 발생한 random 수 :\",randomNum)\n",
    "inputNum = 0\n",
    "while randomNum != inputNum:\n",
    "    inputNum=int(input('1~100 사이의 수를 맟춰 보세요:'))\n",
    "    \n",
    "    if (inputNum<1) | (inputNum>100):\n",
    "        print('수의 범위를 벗어났습니다.')\n",
    "    \n",
    "    elif randomNum <inputNum:\n",
    "        print('DOWN ↓')\n",
    "    \n",
    "    elif randomNum > inputNum:\n",
    "        print('UP ↑')\n",
    "        \n",
    "else:\n",
    "    print('축하축하 맞추셨습니다.')\n",
    "print('BYE')"
   ]
  },
  {
   "cell_type": "markdown",
   "id": "1b50346d",
   "metadata": {},
   "source": [
    "# 3절 중첩루프\n",
    "(반복문 안의 반복문)"
   ]
  },
  {
   "cell_type": "code",
   "execution_count": 27,
   "id": "80908dac",
   "metadata": {},
   "outputs": [
    {
     "name": "stdout",
     "output_type": "stream",
     "text": [
      "    2단      3단      4단      5단      6단      7단      8단      9단  \n",
      "2X1 =  2 3X1 =  3 4X1 =  4 5X1 =  5 6X1 =  6 7X1 =  7 8X1 =  8 9X1 =  9 \n",
      "2X2 =  4 3X2 =  6 4X2 =  8 5X2 = 10 6X2 = 12 7X2 = 14 8X2 = 16 9X2 = 18 \n",
      "2X3 =  6 3X3 =  9 4X3 = 12 5X3 = 15 6X3 = 18 7X3 = 21 8X3 = 24 9X3 = 27 \n",
      "2X4 =  8 3X4 = 12 4X4 = 16 5X4 = 20 6X4 = 24 7X4 = 28 8X4 = 32 9X4 = 36 \n",
      "2X5 = 10 3X5 = 15 4X5 = 20 5X5 = 25 6X5 = 30 7X5 = 35 8X5 = 40 9X5 = 45 \n",
      "2X6 = 12 3X6 = 18 4X6 = 24 5X6 = 30 6X6 = 36 7X6 = 42 8X6 = 48 9X6 = 54 \n",
      "2X7 = 14 3X7 = 21 4X7 = 28 5X7 = 35 6X7 = 42 7X7 = 49 8X7 = 56 9X7 = 63 \n",
      "2X8 = 16 3X8 = 24 4X8 = 32 5X8 = 40 6X8 = 48 7X8 = 56 8X8 = 64 9X8 = 72 \n",
      "2X9 = 18 3X9 = 27 4X9 = 36 5X9 = 45 6X9 = 54 7X9 = 63 8X9 = 72 9X9 = 81 \n"
     ]
    }
   ],
   "source": [
    "# 중첩루프 구구단 (2~9단 구구단)\n",
    "for i in range(2,10):\n",
    "    print(f\"{i:5}단\", end=\"  \")\n",
    "\n",
    "print()\n",
    "for i in range(1,10):\n",
    "    for j in range(2,10):\n",
    "        print(f'{j}X{i} = {j*i:2}', end=\" \")\n",
    "    print()\n",
    "        "
   ]
  },
  {
   "cell_type": "code",
   "execution_count": 32,
   "id": "f7025a6b",
   "metadata": {},
   "outputs": [
    {
     "name": "stdout",
     "output_type": "stream",
     "text": [
      "0행0열 :1\t0행1열 :2\t0행2열 :3\t0행3열 :4\t\n",
      "1행0열 :5\t1행1열 :6\t1행2열 :7\t1행3열 :8\t\n"
     ]
    }
   ],
   "source": [
    "lst_2d = [[1,2,3,4],[5,6,7,8]]\n",
    "\n",
    "for i in range(len(lst_2d)):\n",
    "    for j in range(len(lst_2d[i])):\n",
    "        print(f\"{i}행{j}열 :{lst_2d[i][j]}\", end='\\t')\n",
    "    print()"
   ]
  },
  {
   "cell_type": "markdown",
   "id": "934951e5",
   "metadata": {},
   "source": [
    "# 4절 중첩루프 탈출"
   ]
  },
  {
   "cell_type": "code",
   "execution_count": 30,
   "id": "3b67b7d0",
   "metadata": {},
   "outputs": [
    {
     "name": "stdout",
     "output_type": "stream",
     "text": [
      "0 1\n",
      "0 2\n",
      "2 1\n",
      "DONE\n"
     ]
    }
   ],
   "source": [
    "for a in range(0,3):\n",
    "    for b in range(1,3):\n",
    "        if a==b:\n",
    "            print(f\"a={a}, b={b}일 때 break함\")\n",
    "            break\n",
    "        print(a,b)\n",
    "    # break를  만나면 빠져나오는 곳\n",
    "print('DONE')"
   ]
  },
  {
   "cell_type": "code",
   "execution_count": 35,
   "id": "8eefc065",
   "metadata": {},
   "outputs": [
    {
     "name": "stdout",
     "output_type": "stream",
     "text": [
      "0 1\n",
      "0 2\n",
      "DONE\n"
     ]
    }
   ],
   "source": [
    "# 중첩루프 탈출 1. flag 변수 이용\n",
    "flag = False #break를 만나면 True\n",
    "for a in range(0,3):\n",
    "    for b in range(1,3):\n",
    "        if a == b:\n",
    "            flag = True\n",
    "            break\n",
    "        print(a,b)\n",
    "    # break를  만나면 빠져나오는 곳\n",
    "    if flag == True:\n",
    "        break\n",
    "print('DONE')"
   ]
  },
  {
   "cell_type": "code",
   "execution_count": 5,
   "id": "d2465cfe",
   "metadata": {},
   "outputs": [],
   "source": [
    "# 중첩루프 탈출 2. 예외(Exception)처리 이용 - 9.30\n",
    "# Exception을 상속받는 class\n",
    "class BreakOutLoopException(Exception):\n",
    "    pass"
   ]
  },
  {
   "cell_type": "code",
   "execution_count": 7,
   "id": "cfd07b5e",
   "metadata": {},
   "outputs": [
    {
     "name": "stdout",
     "output_type": "stream",
     "text": [
      "0 1\n",
      "0 2\n",
      "a=1, b=1일 때 break함\n",
      "DONE\n"
     ]
    }
   ],
   "source": [
    "try:\n",
    "    for a in range(0,3):\n",
    "        for b in range(1,3):\n",
    "            if a==b:\n",
    "                print(f\"a={a}, b={b}일 때 break함\")\n",
    "                    # 중첩반복문 탈출(강제로 예외발생)\n",
    "                raise BreakOutLoopException('중첩반복문 탈출')\n",
    "            print(a,b)\n",
    "except:\n",
    "    print('DONE')"
   ]
  },
  {
   "cell_type": "markdown",
   "id": "72caace5",
   "metadata": {},
   "source": [
    "# 5절 연습문제"
   ]
  },
  {
   "cell_type": "code",
   "execution_count": 121,
   "id": "a7feed54",
   "metadata": {
    "scrolled": true
   },
   "outputs": [
    {
     "name": "stdout",
     "output_type": "stream",
     "text": [
      "양의 정수를 입력하세요-7\n",
      "양의 정수가 아닙니다. 양의 정수를 입력하세요5\n",
      "입력한 수 5은/는 홀수입니다.\n"
     ]
    }
   ],
   "source": [
    "# 1. 양의 정수를 입력 받아 홀수인지 짝수인지를 판별하는 프로그램을 작성, 양의 정수가 아니면 다시 입력\n",
    "inputStr = input('양의 정수를 입력하세요')\n",
    "# 자연수인지 판별\n",
    "isint = inputStr.isdigit() # .isdigit()=자연수이면 True\n",
    "\n",
    "# 자연수가 아닐경우\n",
    "while (isint==False) | (inputStr == '0'):\n",
    "    \n",
    "    print(\"양의 정수가 아닙니다.\", end = \" \")\n",
    "    inputStr = input('양의 정수를 입력하세요')\n",
    "    isint = inputStr.isdigit()\n",
    "    \n",
    "# 자연수가 짝수인지 홀수인지 판별 \n",
    "output= '홀수' if inputNum%2 else'홀수'\n",
    "# if int(inputStr) %2 == 1:\n",
    "#     output=\"홀수\"\n",
    "# else:\n",
    "#     output=\"짝수\"\n",
    "print(f\"입력한 수 {inputStr}은/는 {output}입니다.\")"
   ]
  },
  {
   "cell_type": "code",
   "execution_count": 124,
   "id": "473415fa",
   "metadata": {},
   "outputs": [
    {
     "name": "stdout",
     "output_type": "stream",
     "text": [
      "작성할 스타일을 선택하세요 1. 5행 5열*, 2. 1행부터 5행까지 * 1개씩 추가\n",
      "(1 또는 2를 입력하세요)\n",
      "2\n",
      "*\n",
      "**\n",
      "***\n",
      "****\n",
      "*****\n"
     ]
    }
   ],
   "source": [
    "# 2 중첩 for문을 이용하여 아래 패턴의 별을 출력하는 프로그램을 작성하세요 \n",
    "print('작성할 스타일을 선택하세요 1. 5행 5열*, 2. 1행부터 5행까지 * 1개씩 추가')\n",
    "print('(1 또는 2를 입력하세요)')\n",
    "style=input()\n",
    "\n",
    "# input값이 1 또는 2인지 확인[맞을 때 까지 반복]\n",
    "while (style != '1') & (style !='2'):\n",
    "    style=input('1 또는 2로 다시 입력하세요')\n",
    "\n",
    "# input값이 1일경우\n",
    "if style == '1':\n",
    "    for i in range(5):\n",
    "        print('*****')\n",
    "        \n",
    "# input값이 2일경우\n",
    "elif style =='2':\n",
    "    for i in range(1,6):\n",
    "        for j in range(i):\n",
    "            print('*', end=\"\")\n",
    "        print()\n",
    "\n"
   ]
  },
  {
   "cell_type": "code",
   "execution_count": null,
   "id": "2f043a78",
   "metadata": {},
   "outputs": [],
   "source": [
    "# 3. 다음 코드는 1부터 30까지(30포함) 자연수 중에서 3의 배수의 총 합을 출력하는 프로그램입니다. 빈칸의 코드를 완성하시오. \n",
    "'''\n",
    "sum = 0\n",
    "for i in ___________: \n",
    "    if _____________: \n",
    "        sum = sum + i\n",
    "    else:\n",
    "        pass\n",
    "print(sum)\n",
    "'''\n",
    "# 정답 range(1,31), i % 3 == 0 [not i%3 도 가능]"
   ]
  },
  {
   "cell_type": "code",
   "execution_count": null,
   "id": "44b500cd",
   "metadata": {},
   "outputs": [],
   "source": [
    "# 4. 다음 코드의 실행결과가 “1 3 5 7 가 되도록 빈칸을 완성하시오\n",
    "'''\n",
    "num = 0\n",
    "________ num <= 10:        \n",
    "    if num%2 :\n",
    "        print(num, end=‘ ’)\n",
    "num += 1\n",
    "'''\n",
    "# 정답 while"
   ]
  },
  {
   "cell_type": "code",
   "execution_count": null,
   "id": "f936279a",
   "metadata": {},
   "outputs": [],
   "source": [
    "# 5. 다음 2 차원 리스트의 모든 값을 출력하는 코드입니다 . 빈칸을 완성하시오 - [오답]\n",
    "'''\n",
    "list2d = [ [1,2,3],[4,5,6,7],[8,9]]\n",
    "for row in list2d:\n",
    "    ______________:\n",
    "        print(data, end=‘ ’)\n",
    "    print()\n",
    "결과\n",
    "1 2 3\n",
    "4 5 6 7\n",
    "8 9\n",
    "6.'''\n",
    "# 오답 for data in range(len(list2d[row]))\n",
    "# 정답 for data in list2d[row]"
   ]
  },
  {
   "cell_type": "code",
   "execution_count": null,
   "id": "b5d6f0e9",
   "metadata": {},
   "outputs": [
    {
     "data": {
      "text/plain": [
       "'\\ncolors = {\" red\":\\'apple \\', \"yellow\":\\'banana\\'}\\nfor i , v in _______________(colors.________ ()):\\n    print( i ,v)\\n0 apple\\n1 banana'"
      ]
     },
     "execution_count": 80,
     "metadata": {},
     "output_type": "execute_result"
    }
   ],
   "source": [
    "# 6. 다음 빈칸에 들어갈 함수 이름은 - [수정]\n",
    "'''\n",
    "colors = {\" red\":'apple ', \"yellow\":'banana'}\n",
    "for i , v in _______________(colors.________ ()):\n",
    "    print( i ,v)\n",
    "0 apple\n",
    "1 banana'''\n",
    "\n",
    "# 정답 enumerate, values\n",
    "# 딕셔너리의 데이터만 추출하려면 .values를 사용해야 한다."
   ]
  },
  {
   "cell_type": "code",
   "execution_count": null,
   "id": "62fdb91a",
   "metadata": {},
   "outputs": [],
   "source": [
    "# 7. 다음 코드의 실행 결과는? - [수정]\n",
    "'''for i in range(0, 2):\n",
    "    for j in range(0,2):\n",
    "        if i == j\n",
    "            break\n",
    "        print(i ,j)'''\n",
    "\n",
    "'''\n",
    "정답\n",
    "1 0\n",
    "'''\n",
    "# 정답 1 0 범위 실수했다. range(0,2)는 0부터 2 앞까지 즉 0과 1까지만이다."
   ]
  },
  {
   "cell_type": "code",
   "execution_count": null,
   "id": "15451e3a",
   "metadata": {},
   "outputs": [],
   "source": [
    "# 8. 다음 코드의 실행 결과로 출력될 수 없는 것은?\n",
    "'''for i in range(0, 2):\n",
    "    for j in range(0,2):\n",
    "        print(i,j)\n",
    "        if i == j\n",
    "            break\n",
    "① 0 0 ② 0 1 ③ 1 0 ④ 1 1 '''\n",
    "# 정답 ④ 1 1은 i 와 j가 같기에 break로 반복문에서 탈출한다. \n",
    "#      단 ① 0 0도 i와 j가 같으나 조건문보다 먼저 출력을 하기에 가장 먼저 출력된다."
   ]
  },
  {
   "cell_type": "code",
   "execution_count": null,
   "id": "bf76f3e6",
   "metadata": {},
   "outputs": [],
   "source": [
    "# 9. 다음 코드의 실행결과는\n",
    "\"\"\"\n",
    "L = [3, 4, 5, 6, 7, 8, 9, 10]\n",
    "for i, data in enumerate(L):\n",
    "    if i%2 == 0:\n",
    "        print(data, end=‘ ’)\"\"\"\n",
    "# 정답 3 5 7 9\n",
    "# L의 데이터가 짝수인지를 묻는 것이 아니라 리스트의 순서가 짝수인지 묻기에 0,2,4,6번지인 3 5 7 9가 출력된다."
   ]
  },
  {
   "cell_type": "code",
   "execution_count": 88,
   "id": "6153cf2e",
   "metadata": {},
   "outputs": [
    {
     "name": "stdout",
     "output_type": "stream",
     "text": [
      "컴퓨터가 발생한 random 수 : 84\n",
      "1~100 사이의 수를 맟춰 보세요:76\n",
      "UP ↑\n",
      "77~100 사이의 수를 맟춰 보세요:86\n",
      "DOWN ↓\n",
      "77~85 사이의 수를 맟춰 보세요:85\n",
      "DOWN ↓\n",
      "77~84 사이의 수를 맟춰 보세요:84\n",
      "축하축하 맞추셨습니다.\n",
      "BYE\n"
     ]
    }
   ],
   "source": [
    "# 10-1 숫자가 틀리면 min~max 사이의 수라고 알려주고 숫자를 맟추면 축하메시지와 함꼐 종료(맞출때 까지 반복)\n",
    "import random\n",
    "min_=1\n",
    "max_=100\n",
    "randomNum = random.randint(1,100)\n",
    "print(\"컴퓨터가 발생한 random 수 :\",randomNum)\n",
    "inputNum = int(input(f'{min}~{max} 사이의 수를 맟춰 보세요:'))\n",
    "while randomNum != inputNum:\n",
    "    \n",
    "    if (inputNum<1) | (inputNum>100):\n",
    "        print('수의 범위를 벗어났습니다.')\n",
    "        inputNum = int(input(f'{min}~{max} 사이의 수를 맟춰 보세요:'))\n",
    "    \n",
    "    elif randomNum <inputNum:\n",
    "        print('DOWN ↓')\n",
    "        max_=inputNum - 1\n",
    "        inputNum = int(input(f'{min_}~{max_} 사이의 수를 맟춰 보세요:'))\n",
    "    \n",
    "    elif randomNum > inputNum:\n",
    "        print('UP ↑')\n",
    "        min_=inputNum + 1\n",
    "        inputNum = int(input(f'{min_}~{max_} 사이의 수를 맟춰 보세요:'))\n",
    "        \n",
    "else:\n",
    "    print('축하축하 맞추셨습니다.')\n",
    "print('BYE')"
   ]
  },
  {
   "cell_type": "code",
   "execution_count": 100,
   "id": "ae178f88",
   "metadata": {},
   "outputs": [
    {
     "name": "stdout",
     "output_type": "stream",
     "text": [
      "컴퓨터가 발생한 random 수 : 11\n",
      "1~100 사이의 수를 맟춰 보세요:(남은 기회 5)60\n",
      "DOWN ↓\n",
      "1~59 사이의 수를 맟춰 보세요:(남은 기회 4)50\n",
      "DOWN ↓\n",
      "1~49 사이의 수를 맟춰 보세요:(남은 기회 3)40\n",
      "DOWN ↓\n",
      "1~39 사이의 수를 맟춰 보세요:(남은 기회 2)30\n",
      "DOWN ↓\n",
      "1~29 사이의 수를 맟춰 보세요:(남은 기회 1)20\n",
      "DOWN ↓\n",
      "1~19 사이의 수를 맟춰 보세요:(남은 기회 0)10\n",
      "기회를 모두 사용하셨습니다. 실패하셨습니다.\n",
      "BYE\n"
     ]
    }
   ],
   "source": [
    "# 10-2 정답을 맞출 기회를 5회로 제한하고 숫자가 틀리면 min~max 사이의 수라고 알려주고 숫자를 맟추면 축하메시지와 함꼐 종료\n",
    "import random\n",
    "\n",
    "# 최댓값 최솟값\n",
    "min_=1\n",
    "max_=100\n",
    "\n",
    "# 기횟값\n",
    "cnt=5\n",
    "\n",
    "# 랜덤정답값\n",
    "randomNum = random.randint(1,100)\n",
    "print(\"컴퓨터가 발생한 random 수 :\",randomNum)\n",
    "\n",
    "# 값 입력\n",
    "inputNum = int(input(f'{min}~{max} 사이의 수를 맟춰 보세요:(남은 기회 {cnt})'))\n",
    "while (randomNum != inputNum) & (cnt != 1):\n",
    "    \n",
    "    if (inputNum<1) | (inputNum>100):\n",
    "        print('수의 범위를 벗어났습니다.')\n",
    "        inputNum = int(input(f'{min}~{max} 사이의 수를 맟춰 보세요:(남은 기회 {cnt})'))\n",
    "    \n",
    "    elif (randomNum <inputNum):\n",
    "        print('DOWN ↓')\n",
    "        max_=inputNum - 1\n",
    "        cnt -= 1\n",
    "        inputNum = int(input(f'{min_}~{max_} 사이의 수를 맟춰 보세요:(남은 기회 {cnt})'))\n",
    "    \n",
    "    elif randomNum > inputNum:\n",
    "        print('UP ↑')\n",
    "        min_=inputNum + 1\n",
    "        cnt -= 1\n",
    "        inputNum = int(input(f'{min_}~{max_} 사이의 수를 맟춰 보세요:(남은 기회 {cnt})'))\n",
    "\n",
    "# while문을 벗어날 경우 -정답이거나 기회를 다 쓰거나\n",
    "else:\n",
    "    # 기회를 다 쓴 경우\n",
    "    if randomNum != inputNum:\n",
    "        print('기회를 모두 사용하셨습니다. 실패하셨습니다.')\n",
    "        \n",
    "    # 정답인 경우\n",
    "    else:\n",
    "        print('축하축하 맞추셨습니다.')\n",
    "print('BYE')"
   ]
  },
  {
   "cell_type": "code",
   "execution_count": 1,
   "id": "68aafc93",
   "metadata": {},
   "outputs": [
    {
     "name": "stdout",
     "output_type": "stream",
     "text": [
      "컴퓨터가 발생한 random 수 : 92\n",
      "UP ↑\n",
      "UP ↑\n",
      "DOWN ↓\n",
      "DOWN ↓\n",
      "DOWN ↓\n",
      "기회를 모두 사용하셨습니다. 실패하셨습니다.\n",
      "BYE\n"
     ]
    }
   ],
   "source": [
    "# 10-2-1 정답을 맞출 기회를 5회로 제한하고 숫자가 틀리면 min~max 사이의 수라고 알려주고 숫자를 맟추면 축하메시지와 함꼐 종료(for문 사용)\n",
    "import random\n",
    "\n",
    "# 최댓값 최솟값\n",
    "min_=1\n",
    "max_=100\n",
    "\n",
    "# 랜덤정답값\n",
    "randomNum = random.randint(1,100)\n",
    "print(\"컴퓨터가 발생한 random 수 :\",randomNum)\n",
    "\n",
    "# 값 입력\n",
    "\n",
    "for cnt in range(5):\n",
    "\n",
    "    inputNum = int(input(f'{min}~{max} 사이의 수를 맟춰 보세요:(남은 기회 {cnt})'))\n",
    "\n",
    "    if (inputNum<1) | (inputNum>100):\n",
    "        print('수의 범위를 벗어났습니다.')\n",
    "    \n",
    "    elif (randomNum <inputNum):\n",
    "        print('DOWN ↓')\n",
    "        max_=inputNum - 1\n",
    "    \n",
    "    elif randomNum > inputNum:\n",
    "        print('UP ↑')\n",
    "        min_=inputNum + 1\n",
    "    \n",
    "\n",
    "# while문을 벗어날 경우 -정답이거나 기회를 다 쓰거나\n",
    "else:\n",
    "    # 기회를 다 쓴 경우\n",
    "    if randomNum != inputNum:\n",
    "        print('기회를 모두 사용하셨습니다. 실패하셨습니다.')\n",
    "        \n",
    "    # 정답인 경우\n",
    "    else:\n",
    "        print('축하축하 맞추셨습니다.')\n",
    "print('BYE')"
   ]
  },
  {
   "cell_type": "code",
   "execution_count": null,
   "id": "23c92458",
   "metadata": {},
   "outputs": [],
   "source": []
  }
 ],
 "metadata": {
  "kernelspec": {
   "display_name": "Python 3 (ipykernel)",
   "language": "python",
   "name": "python3"
  },
  "language_info": {
   "codemirror_mode": {
    "name": "ipython",
    "version": 3
   },
   "file_extension": ".py",
   "mimetype": "text/x-python",
   "name": "python",
   "nbconvert_exporter": "python",
   "pygments_lexer": "ipython3",
   "version": "3.10.9"
  },
  "toc": {
   "base_numbering": 1,
   "nav_menu": {},
   "number_sections": false,
   "sideBar": true,
   "skip_h1_title": false,
   "title_cell": "Table of Contents",
   "title_sidebar": "Contents",
   "toc_cell": false,
   "toc_position": {
    "height": "calc(100% - 180px)",
    "left": "10px",
    "top": "150px",
    "width": "267.188px"
   },
   "toc_section_display": true,
   "toc_window_display": true
  }
 },
 "nbformat": 4,
 "nbformat_minor": 5
}
