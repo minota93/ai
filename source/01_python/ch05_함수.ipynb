{
 "cells": [
  {
   "cell_type": "code",
   "execution_count": 19,
   "id": "eaa835ac",
   "metadata": {},
   "outputs": [
    {
     "data": {
      "text/html": [
       "\n",
       "<style>\n",
       "div.container{width:90% ! important;}\n",
       "div.cell.code_cell.rendered{width:100%}\n",
       "div.input_prompt{padding:0px}\n",
       "div.CodeMirror {font-family:Consolas ; font-size:12pt;}\n",
       "div.text_cell_render.rendered_html {font-size:12pt;}\n",
       "div.output {font-size:12pt; font-weight:bold}\n",
       "div.input {font-family:Consolas ; font-size:12pt;}\n",
       "div.prompt {min-width:70px;}\n",
       "div#toc-wrapper {padding-top:120px;}\n",
       "div.text_cell_render ul li{font-size:12pt;padding:5px;}\n",
       "table.dataframe{font-size:12px;}\n",
       "</style>\n"
      ],
      "text/plain": [
       "<IPython.core.display.HTML object>"
      ]
     },
     "metadata": {},
     "output_type": "display_data"
    }
   ],
   "source": [
    "from IPython.display import display, HTML\n",
    "display(HTML(\"\"\"\n",
    "<style>\n",
    "div.container{width:90% ! important;}\n",
    "div.cell.code_cell.rendered{width:100%}\n",
    "div.input_prompt{padding:0px}\n",
    "div.CodeMirror {font-family:Consolas ; font-size:12pt;}\n",
    "div.text_cell_render.rendered_html {font-size:12pt;}\n",
    "div.output {font-size:12pt; font-weight:bold}\n",
    "div.input {font-family:Consolas ; font-size:12pt;}\n",
    "div.prompt {min-width:70px;}\n",
    "div#toc-wrapper {padding-top:120px;}\n",
    "div.text_cell_render ul li{font-size:12pt;padding:5px;}\n",
    "table.dataframe{font-size:12px;}\n",
    "</style>\n",
    "\"\"\"))"
   ]
  },
  {
   "cell_type": "markdown",
   "id": "2f000497",
   "metadata": {},
   "source": [
    "<b><font size=\"6\" color=\"red\">ch.05 함수</font></b>\n",
    "- 반복해서 사용할 코드를 묶어 놓고 그것에 이름을 붙인 것\n",
    "- 오버로딩 불가(같은 이름의 함수는 덮어 씀)\n",
    "- 함수 정의\n",
    "```\n",
    "def 함수명([매게변수1, 매개변수2,.....]):\n",
    "    명령어1\n",
    "    명령어2.......(들여쓰기 필수)\n",
    "```\n",
    "# 1절 함수의 정의 및 사용\n",
    "## 1.1 함수 정의"
   ]
  },
  {
   "cell_type": "code",
   "execution_count": 2,
   "id": "97d5f074",
   "metadata": {},
   "outputs": [],
   "source": [
    "def my_message(x,msg): # msg를 x번 출력하는 함수\n",
    "    for i in range(x):\n",
    "        print(i, msg)"
   ]
  },
  {
   "cell_type": "code",
   "execution_count": 3,
   "id": "002844e4",
   "metadata": {},
   "outputs": [
    {
     "name": "stdout",
     "output_type": "stream",
     "text": [
      "0 Hello\n",
      "1 Hello\n",
      "2 Hello\n"
     ]
    }
   ],
   "source": [
    "# 함수 사용 == 함수호출\n",
    "my_message(3,'Hello')"
   ]
  },
  {
   "cell_type": "code",
   "execution_count": 4,
   "id": "0c5398bd",
   "metadata": {},
   "outputs": [
    {
     "name": "stdout",
     "output_type": "stream",
     "text": [
      "0 Hello\n",
      "1 Hello\n",
      "0 Python\n",
      "1 Python\n",
      "2 Python\n"
     ]
    }
   ],
   "source": [
    "# 함수 이름 변경(함수복사)\n",
    "my_msg=my_message\n",
    "my_message(2,'Hello')\n",
    "my_msg(3,'Python')"
   ]
  },
  {
   "cell_type": "code",
   "execution_count": 5,
   "id": "9e5ae37a",
   "metadata": {},
   "outputs": [
    {
     "data": {
      "text/plain": [
       "(function, function)"
      ]
     },
     "execution_count": 5,
     "metadata": {},
     "output_type": "execute_result"
    }
   ],
   "source": [
    "type(my_msg),type(my_message)"
   ]
  },
  {
   "cell_type": "code",
   "execution_count": 6,
   "id": "22c155d3",
   "metadata": {},
   "outputs": [
    {
     "name": "stdout",
     "output_type": "stream",
     "text": [
      "Hello\n",
      "Hello\n"
     ]
    }
   ],
   "source": [
    "print('Hello') # 파이썬 내장함수(import 하지 않고 사용할 수 있는 함수)\n",
    "print=5\n",
    "# print('Hello')\n",
    "del print\n",
    "print('Hello')"
   ]
  },
  {
   "cell_type": "code",
   "execution_count": 7,
   "id": "895bb398",
   "metadata": {},
   "outputs": [
    {
     "name": "stdout",
     "output_type": "stream",
     "text": [
      "0 Hello\n",
      "1 Hello\n"
     ]
    }
   ],
   "source": [
    "my_message(2, 'Hello')"
   ]
  },
  {
   "cell_type": "code",
   "execution_count": 8,
   "id": "f3a91548",
   "metadata": {},
   "outputs": [
    {
     "name": "stdout",
     "output_type": "stream",
     "text": [
      "0 Hello\n",
      "1 Hello\n"
     ]
    }
   ],
   "source": [
    "my_message=5\n",
    "my_msg(2,\"Hello\")"
   ]
  },
  {
   "cell_type": "code",
   "execution_count": 9,
   "id": "33f964e6",
   "metadata": {},
   "outputs": [
    {
     "ename": "TypeError",
     "evalue": "'int' object is not callable",
     "output_type": "error",
     "traceback": [
      "\u001b[1;31m---------------------------------------------------------------------------\u001b[0m",
      "\u001b[1;31mTypeError\u001b[0m                                 Traceback (most recent call last)",
      "Cell \u001b[1;32mIn[9], line 1\u001b[0m\n\u001b[1;32m----> 1\u001b[0m \u001b[43mmy_message\u001b[49m\u001b[43m(\u001b[49m\u001b[38;5;241;43m2\u001b[39;49m\u001b[43m,\u001b[49m\u001b[43m \u001b[49m\u001b[38;5;124;43m'\u001b[39;49m\u001b[38;5;124;43mHello\u001b[39;49m\u001b[38;5;124;43m'\u001b[39;49m\u001b[43m)\u001b[49m\n",
      "\u001b[1;31mTypeError\u001b[0m: 'int' object is not callable"
     ]
    }
   ],
   "source": [
    "my_message(2, 'Hello')"
   ]
  },
  {
   "cell_type": "code",
   "execution_count": 10,
   "id": "e218ff70",
   "metadata": {},
   "outputs": [
    {
     "ename": "NameError",
     "evalue": "name 'my_message' is not defined",
     "output_type": "error",
     "traceback": [
      "\u001b[1;31m---------------------------------------------------------------------------\u001b[0m",
      "\u001b[1;31mNameError\u001b[0m                                 Traceback (most recent call last)",
      "Cell \u001b[1;32mIn[10], line 2\u001b[0m\n\u001b[0;32m      1\u001b[0m \u001b[38;5;28;01mdel\u001b[39;00m my_message\n\u001b[1;32m----> 2\u001b[0m \u001b[43mmy_message\u001b[49m(\u001b[38;5;241m2\u001b[39m,\u001b[38;5;124m'\u001b[39m\u001b[38;5;124mHello\u001b[39m\u001b[38;5;124m'\u001b[39m)\n",
      "\u001b[1;31mNameError\u001b[0m: name 'my_message' is not defined"
     ]
    }
   ],
   "source": [
    "del my_message # 변수 및 함수 제거에도\n",
    "my_message(2,'Hello') # 사용자 정의 함수, 라이브러리 함수는 del 하여도 사용 불가(함수 자체가 삭제되기 때문)"
   ]
  },
  {
   "cell_type": "code",
   "execution_count": 14,
   "id": "7282d6ee",
   "metadata": {},
   "outputs": [],
   "source": [
    "# 함수 중복정의 불가(오버로딩 불가)\n",
    "def my_hello():\n",
    "    print('Hello Python')\n",
    "    print('Hello World')\n",
    "\n",
    "def my_hello(cnt): #cnt번 출력\n",
    "    for i in  range(cnt):\n",
    "        print('Hello Python', end='\\t')\n",
    "        print('Hello World')\n"
   ]
  },
  {
   "cell_type": "code",
   "execution_count": 16,
   "id": "242d6e2e",
   "metadata": {},
   "outputs": [
    {
     "ename": "TypeError",
     "evalue": "my_hello() missing 1 required positional argument: 'cnt'",
     "output_type": "error",
     "traceback": [
      "\u001b[1;31m---------------------------------------------------------------------------\u001b[0m",
      "\u001b[1;31mTypeError\u001b[0m                                 Traceback (most recent call last)",
      "Cell \u001b[1;32mIn[16], line 1\u001b[0m\n\u001b[1;32m----> 1\u001b[0m \u001b[43mmy_hello\u001b[49m\u001b[43m(\u001b[49m\u001b[43m)\u001b[49m\n",
      "\u001b[1;31mTypeError\u001b[0m: my_hello() missing 1 required positional argument: 'cnt'"
     ]
    }
   ],
   "source": [
    "my_hello() # 함수가 덮어쓰기되어 호출되지 않음"
   ]
  },
  {
   "cell_type": "code",
   "execution_count": 15,
   "id": "ae1e2041",
   "metadata": {},
   "outputs": [
    {
     "name": "stdout",
     "output_type": "stream",
     "text": [
      "Hello Python\tHello World\n",
      "Hello Python\tHello World\n"
     ]
    }
   ],
   "source": [
    "my_hello(2)"
   ]
  },
  {
   "cell_type": "code",
   "execution_count": 17,
   "id": "c8f31e59",
   "metadata": {},
   "outputs": [
    {
     "data": {
      "text/plain": [
       "<function __main__.my_hello(cnt)>"
      ]
     },
     "execution_count": 17,
     "metadata": {},
     "output_type": "execute_result"
    }
   ],
   "source": [
    "my_hello"
   ]
  },
  {
   "cell_type": "code",
   "execution_count": 18,
   "id": "eb2840eb",
   "metadata": {},
   "outputs": [
    {
     "data": {
      "text/plain": [
       "'__main__'"
      ]
     },
     "execution_count": 18,
     "metadata": {},
     "output_type": "execute_result"
    }
   ],
   "source": [
    "__name__"
   ]
  },
  {
   "cell_type": "code",
   "execution_count": 19,
   "id": "61a3457b",
   "metadata": {
    "scrolled": true
   },
   "outputs": [
    {
     "name": "stdout",
     "output_type": "stream",
     "text": [
      "Hello Python\tHello World\n",
      "Hello Python\tHello World\n"
     ]
    }
   ],
   "source": [
    "if __name__ == '__main__': \n",
    "    my_hello(2)"
   ]
  },
  {
   "cell_type": "code",
   "execution_count": 1,
   "id": "b1a55159",
   "metadata": {},
   "outputs": [],
   "source": [
    "import ch05 #ch05 모듈이 해석되서 메모리 로드"
   ]
  },
  {
   "cell_type": "code",
   "execution_count": 21,
   "id": "1a1977a2",
   "metadata": {},
   "outputs": [
    {
     "name": "stdout",
     "output_type": "stream",
     "text": [
      "ch05\n",
      "Hello, Python\tHello, World\n",
      "Hello, Python\tHello, World\n",
      "Hello, Python\tHello, World\n"
     ]
    }
   ],
   "source": [
    "ch05.my_hello(3)"
   ]
  },
  {
   "cell_type": "code",
   "execution_count": 2,
   "id": "ba5519de",
   "metadata": {},
   "outputs": [],
   "source": [
    "from ch05 import my_hello # ch05 모듈 안에 my_hello만 메모리 로드"
   ]
  },
  {
   "cell_type": "code",
   "execution_count": 3,
   "id": "f50daeb8",
   "metadata": {},
   "outputs": [
    {
     "name": "stdout",
     "output_type": "stream",
     "text": [
      "ch05\n",
      "Hello, Python\tHello, World\n",
      "Hello, Python\tHello, World\n",
      "Hello, Python\tHello, World\n"
     ]
    }
   ],
   "source": [
    "my_hello(3)"
   ]
  },
  {
   "cell_type": "markdown",
   "id": "3ddda20d",
   "metadata": {},
   "source": [
    "## 1.2 docstring"
   ]
  },
  {
   "cell_type": "code",
   "execution_count": 4,
   "id": "3509e9e7",
   "metadata": {},
   "outputs": [],
   "source": [
    "def my_function():\n",
    "    '''\n",
    "    함수의 첫 라인에 독스트링을 포함할 수 있습니다.\n",
    "    독스트링은 함수의 설명서를 달아주는 역할\n",
    "    주석보다 많은 기능(함수 호출 시 shift+tab으로 독스트링을 볼 수 있음)\n",
    "    '''\n",
    "    # 어떤 함수 \n",
    "    pass"
   ]
  },
  {
   "cell_type": "code",
   "execution_count": 5,
   "id": "e6c7b486",
   "metadata": {},
   "outputs": [
    {
     "name": "stdout",
     "output_type": "stream",
     "text": [
      "\n",
      "    함수의 첫 라인에 독스트링을 포함할 수 있습니다.\n",
      "    독스트링은 함수의 설명서를 달아주는 역할\n",
      "    주석보다 많은 기능(함수 호출 시 shift+tab으로 독스트링을 볼 수 있음)\n",
      "    \n"
     ]
    }
   ],
   "source": [
    "print(my_function.__doc__)"
   ]
  },
  {
   "cell_type": "code",
   "execution_count": 6,
   "id": "d2a3af22",
   "metadata": {},
   "outputs": [],
   "source": [
    "def fibonacci(n):\n",
    "    '''\n",
    "    매개변수로 들어온 n값 미만의 피보나치 수열을 출력하는 함수\n",
    "    ex. n=10 : 0, 1, 1, 2 ,3, 5, 8\n",
    "    '''\n",
    "    a, b = 0, 1 #지역변수: 함수 내애서 선언한 변수 (반댓말: 전역변수)\n",
    "    while a < n:\n",
    "        print(a, end=' ')\n",
    "        a, b = b, a+b\n",
    "    print() # 개행"
   ]
  },
  {
   "cell_type": "code",
   "execution_count": 8,
   "id": "7b02ce3d",
   "metadata": {},
   "outputs": [
    {
     "name": "stdout",
     "output_type": "stream",
     "text": [
      "0 1 1 2 3 5 8 13 21 34 55 89 144 233 377 610 987 1597 2584 4181 6765 \n"
     ]
    }
   ],
   "source": [
    "fibonacci(10000)"
   ]
  },
  {
   "cell_type": "code",
   "execution_count": 9,
   "id": "b5da1ac3",
   "metadata": {},
   "outputs": [
    {
     "ename": "NameError",
     "evalue": "name 'a' is not defined",
     "output_type": "error",
     "traceback": [
      "\u001b[1;31m---------------------------------------------------------------------------\u001b[0m",
      "\u001b[1;31mNameError\u001b[0m                                 Traceback (most recent call last)",
      "Cell \u001b[1;32mIn[9], line 1\u001b[0m\n\u001b[1;32m----> 1\u001b[0m \u001b[43ma\u001b[49m,b\n",
      "\u001b[1;31mNameError\u001b[0m: name 'a' is not defined"
     ]
    }
   ],
   "source": [
    "a,b # 함수 안의 a,b는 지역변수이기에 함수 내에서만 사용가능하며 함수 외부에서는 실행되지 않음"
   ]
  },
  {
   "cell_type": "markdown",
   "id": "05cdfa57",
   "metadata": {},
   "source": [
    "## 1.3 지역변수(local var) 와 전역변수(global var)"
   ]
  },
  {
   "cell_type": "code",
   "execution_count": 18,
   "id": "d00e9644",
   "metadata": {},
   "outputs": [
    {
     "name": "stdout",
     "output_type": "stream",
     "text": [
      "함수 안 100\n",
      "함수 밖 : 100\n"
     ]
    }
   ],
   "source": [
    "gloval_var=100\n",
    "def func1():\n",
    "    print('함수 안', gloval_var)\n",
    "func1()\n",
    "print('함수 밖 :', gloval_var)"
   ]
  },
  {
   "cell_type": "code",
   "execution_count": 20,
   "id": "d491b4c4",
   "metadata": {},
   "outputs": [
    {
     "name": "stdout",
     "output_type": "stream",
     "text": [
      "함수 안 200\n"
     ]
    }
   ],
   "source": [
    "def func2():\n",
    "    local_var=200 # 지역변수(함수내에서 할당)\n",
    "    print('함수 안',local_var)\n",
    "func2()"
   ]
  },
  {
   "cell_type": "code",
   "execution_count": 22,
   "id": "b74d22c7",
   "metadata": {},
   "outputs": [],
   "source": [
    "# print('함수 밖',local_var) #에러"
   ]
  },
  {
   "cell_type": "code",
   "execution_count": 27,
   "id": "627cc201",
   "metadata": {},
   "outputs": [
    {
     "name": "stdout",
     "output_type": "stream",
     "text": [
      "지역변수 g_var : 200\n",
      "전역변수 g_var : 100\n"
     ]
    }
   ],
   "source": [
    "g_var=100 # 전역변수\n",
    "def func3():\n",
    "    g_var=200 # 지역변수 (함수내에서 할당)\n",
    "    print('지역변수 g_var :',g_var)\n",
    "\n",
    "func3()\n",
    "print('전역변수 g_var :', g_var)"
   ]
  },
  {
   "cell_type": "code",
   "execution_count": 28,
   "id": "92560d67",
   "metadata": {},
   "outputs": [
    {
     "ename": "UnboundLocalError",
     "evalue": "local variable 'g_var' referenced before assignment",
     "output_type": "error",
     "traceback": [
      "\u001b[1;31m---------------------------------------------------------------------------\u001b[0m",
      "\u001b[1;31mUnboundLocalError\u001b[0m                         Traceback (most recent call last)",
      "Cell \u001b[1;32mIn[28], line 8\u001b[0m\n\u001b[0;32m      5\u001b[0m     \u001b[38;5;28mprint\u001b[39m(\u001b[38;5;124m'\u001b[39m\u001b[38;5;124m지역변수 g_var :\u001b[39m\u001b[38;5;124m'\u001b[39m,g_var)\n\u001b[0;32m      6\u001b[0m     g_var\u001b[38;5;241m=\u001b[39m\u001b[38;5;241m200\u001b[39m \u001b[38;5;66;03m# 지역변수 (함수내에서 할당)\u001b[39;00m\n\u001b[1;32m----> 8\u001b[0m \u001b[43mfunc3\u001b[49m\u001b[43m(\u001b[49m\u001b[43m)\u001b[49m\n\u001b[0;32m      9\u001b[0m \u001b[38;5;28mprint\u001b[39m(\u001b[38;5;124m'\u001b[39m\u001b[38;5;124m전역변수 g_var :\u001b[39m\u001b[38;5;124m'\u001b[39m, g_var)\n",
      "Cell \u001b[1;32mIn[28], line 5\u001b[0m, in \u001b[0;36mfunc3\u001b[1;34m()\u001b[0m\n\u001b[0;32m      4\u001b[0m \u001b[38;5;28;01mdef\u001b[39;00m \u001b[38;5;21mfunc3\u001b[39m():\n\u001b[1;32m----> 5\u001b[0m     \u001b[38;5;28mprint\u001b[39m(\u001b[38;5;124m'\u001b[39m\u001b[38;5;124m지역변수 g_var :\u001b[39m\u001b[38;5;124m'\u001b[39m,\u001b[43mg_var\u001b[49m)\n\u001b[0;32m      6\u001b[0m     g_var\u001b[38;5;241m=\u001b[39m\u001b[38;5;241m200\u001b[39m\n",
      "\u001b[1;31mUnboundLocalError\u001b[0m: local variable 'g_var' referenced before assignment"
     ]
    }
   ],
   "source": [
    "# 렉시컬 특성 : 변수가 어디서 선언되었는지에 따라 \n",
    "# 변수의 범위가 정해짐(지역 vs 전역)\n",
    "g_var=100 # 전역변수\n",
    "def func3():\n",
    "    print('지역변수 g_var :',g_var)\n",
    "    g_var=200 # 지역변수 (함수내에서 할당)\n",
    "\n",
    "func3()\n",
    "print('전역변수 g_var :', g_var)"
   ]
  },
  {
   "cell_type": "code",
   "execution_count": 29,
   "id": "a9da60d9",
   "metadata": {},
   "outputs": [
    {
     "name": "stdout",
     "output_type": "stream",
     "text": [
      "전역변수 g_var : 100\n",
      "전역변수 g_var : 200\n"
     ]
    }
   ],
   "source": [
    "# 렉시컬 특성\n",
    "g_var=100 # 전역변수\n",
    "def func3():\n",
    "    global g_var #함수 내에서의 g_var는 전역변수를 사용하겠다.\n",
    "    print('전역변수 g_var :',g_var)\n",
    "    g_var=200 # 전역변수 g_var에 200 할당\n",
    "\n",
    "func3()\n",
    "print('전역변수 g_var :', g_var)"
   ]
  },
  {
   "cell_type": "markdown",
   "id": "e86b7448",
   "metadata": {},
   "source": [
    "## 1.4 값에 의한 호출\n",
    "- 함수에 인수로 전달되는 변수가 스칼라변수(문자, 숫자, 논리형)일 때"
   ]
  },
  {
   "cell_type": "code",
   "execution_count": 30,
   "id": "b8532a4c",
   "metadata": {},
   "outputs": [
    {
     "data": {
      "text/plain": [
       "2186504398640"
      ]
     },
     "execution_count": 30,
     "metadata": {},
     "output_type": "execute_result"
    }
   ],
   "source": [
    "foo = 'a'\n",
    "id(foo)"
   ]
  },
  {
   "cell_type": "code",
   "execution_count": 32,
   "id": "bb6af52d",
   "metadata": {},
   "outputs": [
    {
     "name": "stdout",
     "output_type": "stream",
     "text": [
      "Before: a 의 주소는  2186504398640\n",
      "After: aaa 의 주소는 2186619009968\n"
     ]
    }
   ],
   "source": [
    "def func1(f): # 매개변수는 지역변수\n",
    "    print('Before:', f, '의 주소는 ', id(f))\n",
    "    f = f * 3\n",
    "    print(\"After:\", f, '의 주소는', id(f))\n",
    "func1(foo)"
   ]
  },
  {
   "cell_type": "code",
   "execution_count": 33,
   "id": "fad5fce7",
   "metadata": {},
   "outputs": [
    {
     "name": "stdout",
     "output_type": "stream",
     "text": [
      "foo = a 의 주소는  2186504398640\n"
     ]
    }
   ],
   "source": [
    "print('foo =', foo, '의 주소는 ',id(foo))"
   ]
  },
  {
   "cell_type": "markdown",
   "id": "e05b0996",
   "metadata": {},
   "source": [
    "## 1.5 참조에 의한 호출\n",
    "- 함수에 인수로 전달되는 변수가 리스트, 튜플, 셋, 딕셔너리, 기타 객체일 경우"
   ]
  },
  {
   "cell_type": "code",
   "execution_count": 37,
   "id": "38a7cc11",
   "metadata": {},
   "outputs": [
    {
     "data": {
      "text/plain": [
       "2186619327488"
      ]
     },
     "execution_count": 37,
     "metadata": {},
     "output_type": "execute_result"
    }
   ],
   "source": [
    "L = [1,2,3,4,5]\n",
    "id(L)"
   ]
  },
  {
   "cell_type": "code",
   "execution_count": 38,
   "id": "26fd2d2b",
   "metadata": {},
   "outputs": [
    {
     "name": "stdout",
     "output_type": "stream",
     "text": [
      "before : [1, 2, 3, 4, 5] 의 주소는 2186619327488\n",
      "After: [1, 2, 3, 4, 5, 6] 의 주소는 2186619327488\n"
     ]
    }
   ],
   "source": [
    "def func2(f): # 매개변수는 지역변수\n",
    "    print('before :', f,'의 주소는',id(f))\n",
    "    f.append(6)\n",
    "    print(\"After:\", f, '의 주소는', id(f))\n",
    "func2(L)"
   ]
  },
  {
   "cell_type": "code",
   "execution_count": 40,
   "id": "5128b220",
   "metadata": {},
   "outputs": [
    {
     "name": "stdout",
     "output_type": "stream",
     "text": [
      "L= [1, 2, 3, 4, 5, 6] 의 주소는 2186619327488\n"
     ]
    }
   ],
   "source": [
    "print('L=',L,'의 주소는', id(L))"
   ]
  },
  {
   "cell_type": "markdown",
   "id": "a57edbf6",
   "metadata": {},
   "source": [
    "# 2절 함수의 실행결과를 반환하는 return"
   ]
  },
  {
   "cell_type": "code",
   "execution_count": 42,
   "id": "ee7021e5",
   "metadata": {},
   "outputs": [],
   "source": [
    "def fibonacci_print(n):\n",
    "    '매개변수로 들어온 n값 미만의 피보나치 수열을 출력하는 함수'\n",
    "    a, b = 0, 1 #지역변수: 함수 내애서 선언한 변수 (반댓말: 전역변수)\n",
    "    while a < n:\n",
    "        print(a, end=' ')\n",
    "        a, b = b, a+b\n",
    "    print() # 개행\n",
    "def fibonacci(n):\n",
    "    'n 미만의 피보나치수열을 리스트로 return'\n",
    "    result=[] #피보나치수열을 append할 리스트\n",
    "    a, b = 0, 1\n",
    "    while a < n:\n",
    "        result.append(a) # 리스트에 append\n",
    "        a, b = b, a+b\n",
    "    return result"
   ]
  },
  {
   "cell_type": "code",
   "execution_count": 44,
   "id": "79edda60",
   "metadata": {},
   "outputs": [
    {
     "name": "stdout",
     "output_type": "stream",
     "text": [
      "[0, 1, 1, 2, 3, 5, 8]\n",
      "<class 'list'>\n"
     ]
    }
   ],
   "source": [
    "x = fibonacci(10)\n",
    "print(x)\n",
    "print(type(x))"
   ]
  },
  {
   "cell_type": "code",
   "execution_count": 46,
   "id": "9707a241",
   "metadata": {},
   "outputs": [
    {
     "name": "stdout",
     "output_type": "stream",
     "text": [
      "0 1 1 2 3 5 8 \n",
      "x= None\n",
      "<class 'NoneType'>\n"
     ]
    }
   ],
   "source": [
    "x = fibonacci_print(10)\n",
    "print('x=', x)\n",
    "print(type(x))"
   ]
  },
  {
   "cell_type": "markdown",
   "id": "11bd1cf3",
   "metadata": {},
   "source": [
    "### 여러개 값 return\n",
    "- 여러개 값을 갖는 튜플로 return"
   ]
  },
  {
   "cell_type": "code",
   "execution_count": 48,
   "id": "2e2377e7",
   "metadata": {},
   "outputs": [],
   "source": [
    "def swap(a,b):\n",
    "    '매개변수의 순서를 바꿔서 return'\n",
    "    return b, a # 튜플로 변환 - return (b, a)"
   ]
  },
  {
   "cell_type": "code",
   "execution_count": 51,
   "id": "7f6c5f86",
   "metadata": {},
   "outputs": [
    {
     "name": "stdout",
     "output_type": "stream",
     "text": [
      "함수 실행 전 x, y = 5 10\n",
      "함수 실행 후 x, y = 10 5\n"
     ]
    }
   ],
   "source": [
    "x, y = 5, 10\n",
    "print('함수 실행 전 x, y =', x, y)\n",
    "x, y = swap(x, y)\n",
    "print('함수 실행 후 x, y =', x, y)"
   ]
  },
  {
   "cell_type": "markdown",
   "id": "8778f7a8",
   "metadata": {},
   "source": [
    "# 3절 함수의 매개변수 ★\n",
    "## 3.1 기본값을 갖는 매개변수"
   ]
  },
  {
   "cell_type": "code",
   "execution_count": 54,
   "id": "ae621137",
   "metadata": {},
   "outputs": [],
   "source": [
    "def make_url(ip, port=80): # 순서인수 > 기본값을 갖는 매개변수\n",
    "    return 'http://{}:{}'.format(ip,port)"
   ]
  },
  {
   "cell_type": "code",
   "execution_count": 56,
   "id": "2ff1bfb2",
   "metadata": {},
   "outputs": [
    {
     "name": "stdout",
     "output_type": "stream",
     "text": [
      "http://localhost:8090\n",
      "http://www.naver.com:80\n",
      "http://localhost:9090\n"
     ]
    }
   ],
   "source": [
    "print(make_url('localhost',8090))\n",
    "print(make_url(\"www.naver.com\"))\n",
    "print(make_url(port=9090,ip='localhost'))"
   ]
  },
  {
   "cell_type": "code",
   "execution_count": 58,
   "id": "f02d332a",
   "metadata": {},
   "outputs": [],
   "source": [
    "# def make_url(port=80, ip=''): # 순서인수 > 기본값을 갖는 매개변수 순으로 배치\n",
    "#     return 'http://{}:{}'.format(ip,port) 에러남"
   ]
  },
  {
   "cell_type": "markdown",
   "id": "f69e2fb3",
   "metadata": {},
   "source": [
    "## 3.2 기본변수를 기본값으로 갖는 매개변수\n",
    "- 기본변수가 스칼라변수(문자, 숫자, 논리형)일 때\n",
    "- 기본 변수가 리스트, 셋, 딕셔너리, 기타 객체일 때"
   ]
  },
  {
   "cell_type": "code",
   "execution_count": 60,
   "id": "a6d46e52",
   "metadata": {},
   "outputs": [],
   "source": [
    "i=80\n",
    "# 기본 변수가 스칼라변수일 때 : 함수가 정의되는 시점으로 기본값 셋팅\n",
    "def make_url(ip, port = i):\n",
    "    return \"http://{}:{}\".format(ip, port)"
   ]
  },
  {
   "cell_type": "code",
   "execution_count": 62,
   "id": "95a37ec5",
   "metadata": {},
   "outputs": [
    {
     "data": {
      "text/plain": [
       "'http://localhost:80'"
      ]
     },
     "execution_count": 62,
     "metadata": {},
     "output_type": "execute_result"
    }
   ],
   "source": [
    "i = 90\n",
    "make_url('localhost')"
   ]
  },
  {
   "cell_type": "code",
   "execution_count": 71,
   "id": "035b7792",
   "metadata": {},
   "outputs": [
    {
     "name": "stdout",
     "output_type": "stream",
     "text": [
      "[10]\n"
     ]
    }
   ],
   "source": [
    "list_=[]\n",
    "# 기본 변수가 리스트, 셋, 딕셔너리, 객체일 때 : 함수가 실행되는 시점으로 기본값 셋팅\n",
    "def func3(a,L=list_):\n",
    "    L.append(a)\n",
    "    return L\n",
    "print(func3(10))"
   ]
  },
  {
   "cell_type": "code",
   "execution_count": 72,
   "id": "dec79b6a",
   "metadata": {},
   "outputs": [
    {
     "name": "stdout",
     "output_type": "stream",
     "text": [
      "[10, 20]\n"
     ]
    }
   ],
   "source": [
    "print(func3(20))"
   ]
  },
  {
   "cell_type": "code",
   "execution_count": 73,
   "id": "c1954300",
   "metadata": {},
   "outputs": [
    {
     "name": "stdout",
     "output_type": "stream",
     "text": [
      "list_ = [10, 20]\n"
     ]
    }
   ],
   "source": [
    "print('list_ =',list_)"
   ]
  },
  {
   "cell_type": "code",
   "execution_count": 74,
   "id": "f73d6eab",
   "metadata": {},
   "outputs": [
    {
     "name": "stdout",
     "output_type": "stream",
     "text": [
      "[10, 20, 50]\n"
     ]
    }
   ],
   "source": [
    "print(func3(50))"
   ]
  },
  {
   "cell_type": "code",
   "execution_count": 78,
   "id": "55faddb4",
   "metadata": {},
   "outputs": [
    {
     "name": "stdout",
     "output_type": "stream",
     "text": [
      "[10]\n",
      "[10]\n",
      "[10]\n",
      "[1, 2, 3, 10]\n"
     ]
    }
   ],
   "source": [
    "# 실행할 때 마다 L을 공유하는 게 싫으면\n",
    "def func3(a,L=None):\n",
    "    if L is None:\n",
    "        L =[ ]\n",
    "    L.append(a)\n",
    "    return L\n",
    "print(func3(10))\n",
    "print(func3(10))\n",
    "print(func3(10))\n",
    "print(func3(10, [1,2,3]))"
   ]
  },
  {
   "cell_type": "code",
   "execution_count": 77,
   "id": "d48e826a",
   "metadata": {},
   "outputs": [
    {
     "name": "stdout",
     "output_type": "stream",
     "text": [
      "[10]\n"
     ]
    }
   ],
   "source": [
    "print(func3(10))"
   ]
  },
  {
   "cell_type": "markdown",
   "id": "996fdc06",
   "metadata": {},
   "source": [
    "## 3.3 순서인수, 키워드인수\n",
    "- 순서인수 : 함수에 정의된 순서대로 전달방식\n",
    "- 키워드인수 : 인수의 이름을 명시하는 방식\n",
    "- 함수 정의 시 순서인수와 키워드인수가 같이 올 때는 순서인수 > 키워드인수 순으로"
   ]
  },
  {
   "cell_type": "code",
   "execution_count": null,
   "id": "d0f7fe00",
   "metadata": {},
   "outputs": [],
   "source": [
    "def func3(a,L=None): \n",
    "    if L is None:\n",
    "        L =[ ]\n",
    "    L.append(a)\n",
    "    return L"
   ]
  },
  {
   "cell_type": "code",
   "execution_count": 80,
   "id": "b1910bb8",
   "metadata": {},
   "outputs": [
    {
     "name": "stdout",
     "output_type": "stream",
     "text": [
      "[10]\n",
      "[10, 20]\n"
     ]
    }
   ],
   "source": [
    "lst=[]\n",
    "print(func3(10,lst))     # 순서인수 : 함수 정의된 순서대로 전달하는 방식\n",
    "print(func3(L=lst,a=20)) # 키워드인수 : 인수의 이름을 명시하여 전달하는 방식"
   ]
  },
  {
   "cell_type": "markdown",
   "id": "22938bcb",
   "metadata": {},
   "source": [
    "## 3.4 튜플매개변수를 이용한 가변인수 설정\n",
    "- 가변인수 : 매개변수의 갯수가 가변"
   ]
  },
  {
   "cell_type": "code",
   "execution_count": 84,
   "id": "e363176a",
   "metadata": {},
   "outputs": [],
   "source": [
    "# 파이썬은 함수의 중복정의(오버로딩)을 지원하지 않음\n",
    "def add(a,b):\n",
    "    return a+b\n",
    "def add(a,b,c):\n",
    "    return a+b+c"
   ]
  },
  {
   "cell_type": "code",
   "execution_count": 85,
   "id": "9bd89344",
   "metadata": {},
   "outputs": [
    {
     "ename": "TypeError",
     "evalue": "add() missing 1 required positional argument: 'c'",
     "output_type": "error",
     "traceback": [
      "\u001b[1;31m---------------------------------------------------------------------------\u001b[0m",
      "\u001b[1;31mTypeError\u001b[0m                                 Traceback (most recent call last)",
      "Cell \u001b[1;32mIn[85], line 1\u001b[0m\n\u001b[1;32m----> 1\u001b[0m \u001b[43madd\u001b[49m\u001b[43m(\u001b[49m\u001b[38;5;241;43m3\u001b[39;49m\u001b[43m,\u001b[49m\u001b[38;5;241;43m5\u001b[39;49m\u001b[43m)\u001b[49m\n",
      "\u001b[1;31mTypeError\u001b[0m: add() missing 1 required positional argument: 'c'"
     ]
    }
   ],
   "source": [
    "add(3,5)"
   ]
  },
  {
   "cell_type": "code",
   "execution_count": 94,
   "id": "a6a595a4",
   "metadata": {},
   "outputs": [],
   "source": [
    "# args앞에 * : args가 튜플로 전달받는다.\n",
    "def add(*args):\n",
    "#     print('args =', args)\n",
    "    '전달받은 매개변수들의 합을 return, 매개변수가 없으면 0을 return'\n",
    "    sum = 0 #누적변수\n",
    "    \n",
    "    for num in args:\n",
    "        sum += num\n",
    "    \n",
    "    return sum"
   ]
  },
  {
   "cell_type": "code",
   "execution_count": 97,
   "id": "26dc4c9e",
   "metadata": {},
   "outputs": [
    {
     "name": "stdout",
     "output_type": "stream",
     "text": [
      "0\n",
      "1\n",
      "4\n",
      "55\n"
     ]
    }
   ],
   "source": [
    "print(add())\n",
    "print(add(1))\n",
    "print(add(1,3))\n",
    "print(add(1,2,3,4,5,6,7,8,9,10))"
   ]
  },
  {
   "cell_type": "code",
   "execution_count": 99,
   "id": "e2520654",
   "metadata": {},
   "outputs": [
    {
     "data": {
      "text/plain": [
       "'Python-HTML/CSS-JavaScript-DBMS'"
      ]
     },
     "execution_count": 99,
     "metadata": {},
     "output_type": "execute_result"
    }
   ],
   "source": [
    "subject = ('Python','HTML/CSS','JavaScript','DBMS')\n",
    "'-'.join(subject)"
   ]
  },
  {
   "cell_type": "code",
   "execution_count": 102,
   "id": "b053e7c0",
   "metadata": {},
   "outputs": [],
   "source": [
    "# 튜플 매개변수와 일반 매개변수가 같이 있을 때\n",
    "def concat(*subject,sep):\n",
    "    return sep.join(subject)"
   ]
  },
  {
   "cell_type": "code",
   "execution_count": 105,
   "id": "e3fa0d45",
   "metadata": {},
   "outputs": [
    {
     "ename": "TypeError",
     "evalue": "concat() missing 1 required keyword-only argument: 'sep'",
     "output_type": "error",
     "traceback": [
      "\u001b[1;31m---------------------------------------------------------------------------\u001b[0m",
      "\u001b[1;31mTypeError\u001b[0m                                 Traceback (most recent call last)",
      "Cell \u001b[1;32mIn[105], line 1\u001b[0m\n\u001b[1;32m----> 1\u001b[0m \u001b[43mconcat\u001b[49m\u001b[43m(\u001b[49m\u001b[38;5;124;43m'\u001b[39;49m\u001b[38;5;124;43mPython\u001b[39;49m\u001b[38;5;124;43m'\u001b[39;49m\u001b[43m,\u001b[49m\u001b[38;5;124;43m'\u001b[39;49m\u001b[38;5;124;43mHTML/CSS\u001b[39;49m\u001b[38;5;124;43m'\u001b[39;49m\u001b[43m,\u001b[49m\u001b[38;5;124;43m'\u001b[39;49m\u001b[38;5;124;43mJavaScript\u001b[39;49m\u001b[38;5;124;43m'\u001b[39;49m\u001b[43m,\u001b[49m\u001b[38;5;124;43m'\u001b[39;49m\u001b[38;5;124;43mDBMS\u001b[39;49m\u001b[38;5;124;43m'\u001b[39;49m\u001b[43m,\u001b[49m\u001b[38;5;124;43m'\u001b[39;49m\u001b[38;5;124;43m-\u001b[39;49m\u001b[38;5;124;43m'\u001b[39;49m\u001b[43m)\u001b[49m\n",
      "\u001b[1;31mTypeError\u001b[0m: concat() missing 1 required keyword-only argument: 'sep'"
     ]
    }
   ],
   "source": [
    "concat('Python','HTML/CSS','JavaScript','DBMS','-')"
   ]
  },
  {
   "cell_type": "code",
   "execution_count": 106,
   "id": "4687da7f",
   "metadata": {},
   "outputs": [
    {
     "data": {
      "text/plain": [
       "'Python-HTML/CSS-JavaScript-DBMS'"
      ]
     },
     "execution_count": 106,
     "metadata": {},
     "output_type": "execute_result"
    }
   ],
   "source": [
    "# 해결책1 : 매개변수 이름을 지정해서 호출\n",
    "concat('Python','HTML/CSS','JavaScript','DBMS',sep='-')"
   ]
  },
  {
   "cell_type": "code",
   "execution_count": 112,
   "id": "f1084c4e",
   "metadata": {},
   "outputs": [
    {
     "name": "stdout",
     "output_type": "stream",
     "text": [
      "Python ~ HTML/CSS ~ JavaScript ~ DBMS\n",
      "Python-HTML/CSS-JavaScript-DBMS\n"
     ]
    }
   ],
   "source": [
    "# 해결책2 : 기본값을 키워드 인수 사용\n",
    "def concat(*subject, sep=\" ~ \"): # 튜플매개변수 > 키워드인수\n",
    "    return sep.join(subject)\n",
    "print(concat('Python','HTML/CSS','JavaScript','DBMS'))\n",
    "print(concat('Python','HTML/CSS','JavaScript','DBMS', sep='-'))"
   ]
  },
  {
   "cell_type": "code",
   "execution_count": 114,
   "id": "81d9e610",
   "metadata": {},
   "outputs": [
    {
     "name": "stdout",
     "output_type": "stream",
     "text": [
      "python=web=js\n"
     ]
    }
   ],
   "source": [
    "# 해결책2의 방식의 예약어 => print\n",
    "print('python','web','js', sep='=')"
   ]
  },
  {
   "cell_type": "code",
   "execution_count": 120,
   "id": "fa5102cd",
   "metadata": {},
   "outputs": [],
   "source": [
    "# 해결책3 : ※추천※ sep을 순서인수로 앞으로 선언\n",
    "def concat(sep,*subject):\n",
    "    return sep.join(subject)"
   ]
  },
  {
   "cell_type": "code",
   "execution_count": 121,
   "id": "baf619ea",
   "metadata": {},
   "outputs": [
    {
     "data": {
      "text/plain": [
       "'Python-HTML/CSS-JavaScript-DBMS'"
      ]
     },
     "execution_count": 121,
     "metadata": {},
     "output_type": "execute_result"
    }
   ],
   "source": [
    "concat('-','Python','HTML/CSS','JavaScript','DBMS')"
   ]
  },
  {
   "cell_type": "markdown",
   "id": "0eb88fd2",
   "metadata": {},
   "source": [
    "## 3.5 딕셔너리 매개변수\n",
    "- 딕셔너리 인수 : 여러개의 키워드 인수를 딕셔너리 형태로 받아서 가변인수로 처리"
   ]
  },
  {
   "cell_type": "code",
   "execution_count": 132,
   "id": "f7d52a66",
   "metadata": {},
   "outputs": [],
   "source": [
    "def func5(**args): # **args : 딕셔너리로 전달받음\n",
    "    print('이름: ',args.get('name', '몰라'))\n",
    "    print('나이: ',args.get('age', 30))\n",
    "    print('전화: ',args.get('tel', '없음'))\n",
    "    print('주소: ',args.get('address', '서울 관악'))"
   ]
  },
  {
   "cell_type": "code",
   "execution_count": 149,
   "id": "6cfaaad2",
   "metadata": {},
   "outputs": [],
   "source": [
    "def func5(**args):\n",
    "    '''딕셔너리 매개변수로 받아 address키가 없으면 서울시 관악구로 추가하고\n",
    "    키-값을 출력'''\n",
    "    print(args)\n",
    "    print(type(args))\n",
    "    if 'address' not in args: #args에 address가 없으면 if문 True\n",
    "#         args['address']='서울시 관악구'\n",
    "#         args.update({'address':'서울시 관악구'})\n",
    "        args.update(address='서울시 관악구')\n",
    "    for key, value in args.items():\n",
    "        print('{} : {}'.format(key, value))"
   ]
  },
  {
   "cell_type": "code",
   "execution_count": 151,
   "id": "af9f022d",
   "metadata": {},
   "outputs": [
    {
     "name": "stdout",
     "output_type": "stream",
     "text": [
      "{'name': '홍길동', 'age': 30, 'tel': '010-9999-9999'}\n",
      "<class 'dict'>\n",
      "name : 홍길동\n",
      "age : 30\n",
      "tel : 010-9999-9999\n",
      "address : 서울시 관악구\n"
     ]
    }
   ],
   "source": [
    "func5(name='홍길동', age=30, tel='010-9999-9999',\n",
    "     )"
   ]
  },
  {
   "cell_type": "markdown",
   "id": "9a935fc8",
   "metadata": {},
   "source": [
    "## 3.6 함수 정의 시 매개변수의 순서\n",
    "- 순서인수 > 튜플인수(*) > 키워드인수(기본값) >딕셔너리인수(**)"
   ]
  },
  {
   "cell_type": "code",
   "execution_count": 152,
   "id": "1a76452e",
   "metadata": {},
   "outputs": [],
   "source": [
    "# 순서인수 > 튜플인수 > 딕셔너리인수\n",
    "def func6(a,b,*c,**d):\n",
    "    print('순서인수 a =',a)\n",
    "    print('순서인수 b =',b)\n",
    "    print('튜플인수 c =',c)\n",
    "    print('딕셔너리인수 d =',d)"
   ]
  },
  {
   "cell_type": "code",
   "execution_count": 157,
   "id": "d963d012",
   "metadata": {},
   "outputs": [
    {
     "name": "stdout",
     "output_type": "stream",
     "text": [
      "순서인수 a = 10\n",
      "순서인수 b = 20\n",
      "튜플인수 c = (1, 2, 3, 4, 5, 6, 7, 8, 9, 'a', 'b', True)\n",
      "딕셔너리인수 d = {'name': '홍', 'age': 30, 'address': '신림'}\n"
     ]
    }
   ],
   "source": [
    "func6(10, 20, 1,2,3,4,5,6,7,8,9,'a','b',True, name='홍',age=30,address='신림')"
   ]
  },
  {
   "cell_type": "code",
   "execution_count": 159,
   "id": "259034cb",
   "metadata": {},
   "outputs": [],
   "source": [
    "# 순서인수 > 튜플인수(*) > 키워드인수(기본값) >딕셔너리인수(**)\n",
    "def func7(a,b,c,*d,e=10,**f):\n",
    "    print('순서인수 a =',a)\n",
    "    print('순서인수 b =',b)\n",
    "    print('순서인수 c =',c)\n",
    "    print('튜플인수 d =',d)\n",
    "    print('키워드인수(기본값 10) e =',e)\n",
    "    print('딕셔너리인수 f =',f)"
   ]
  },
  {
   "cell_type": "code",
   "execution_count": 162,
   "id": "cb937c2d",
   "metadata": {},
   "outputs": [
    {
     "name": "stdout",
     "output_type": "stream",
     "text": [
      "순서인수 a = 10\n",
      "순서인수 b = 20\n",
      "순서인수 c = 30\n",
      "튜플인수 d = ()\n",
      "키워드인수(기본값 10) e = 100\n",
      "딕셔너리인수 f = {}\n"
     ]
    }
   ],
   "source": [
    "func7(10, 20, 30, e = 100)"
   ]
  },
  {
   "cell_type": "code",
   "execution_count": 160,
   "id": "1f203351",
   "metadata": {},
   "outputs": [
    {
     "name": "stdout",
     "output_type": "stream",
     "text": [
      "순서인수 a = 10\n",
      "순서인수 b = 20\n",
      "순서인수 c = 30\n",
      "튜플인수 d = (1, 2, 3, 4, 5)\n",
      "키워드인수(기본값 10) e = 100\n",
      "딕셔너리인수 f = {'shape': 'rect', 'width': 20, 'height': 30}\n"
     ]
    }
   ],
   "source": [
    "func7(10, 20, 30, 1,2,3,4,5, e=100, shape='rect', width=20, height=30)"
   ]
  },
  {
   "cell_type": "markdown",
   "id": "e32856d1",
   "metadata": {},
   "source": [
    "## 3.7 인수의 언패킹\n",
    "### 튜플인수 언패킹\n",
    "- 언패킹 : 함수 호출 시 패킹되어 있는 매개변수(리스트,튜플 등)앞에 *을 붙임\n",
    "- 패킹 : 함수 정의 시 매개변수 앞에 * 붙임(튜플매개변수)"
   ]
  },
  {
   "cell_type": "code",
   "execution_count": 168,
   "id": "08c436f2",
   "metadata": {},
   "outputs": [],
   "source": [
    "def add(*args):\n",
    "    sum=0\n",
    "    for num in args:\n",
    "        sum += num\n",
    "    return sum"
   ]
  },
  {
   "cell_type": "code",
   "execution_count": 170,
   "id": "59e5e81c",
   "metadata": {},
   "outputs": [
    {
     "data": {
      "text/plain": [
       "6"
      ]
     },
     "execution_count": 170,
     "metadata": {},
     "output_type": "execute_result"
    }
   ],
   "source": [
    "add(1,2,3)"
   ]
  },
  {
   "cell_type": "code",
   "execution_count": 172,
   "id": "47ebac12",
   "metadata": {},
   "outputs": [
    {
     "data": {
      "text/plain": [
       "6"
      ]
     },
     "execution_count": 172,
     "metadata": {},
     "output_type": "execute_result"
    }
   ],
   "source": [
    "numbers=(1,2,3)\n",
    "add(*numbers)"
   ]
  },
  {
   "cell_type": "markdown",
   "id": "87dec675",
   "metadata": {},
   "source": [
    "### 딕셔너리 인수 언패킹\n",
    "- 언패킹 : 함수 호출 시 패킹되어 있는 딕셔너리 앞에 ** 을 붙임\n",
    "- 패킹 : 함수 정의 시 매개변수 앞에 ** 붙임"
   ]
  },
  {
   "cell_type": "code",
   "execution_count": 173,
   "id": "d2301504",
   "metadata": {},
   "outputs": [],
   "source": [
    "def func8(**data):\n",
    "    print(data)\n",
    "    for item in data.items():\n",
    "        print(item)"
   ]
  },
  {
   "cell_type": "code",
   "execution_count": 174,
   "id": "54c517da",
   "metadata": {},
   "outputs": [
    {
     "name": "stdout",
     "output_type": "stream",
     "text": [
      "{'shape': 'rect', 'width': 40, 'height': 30}\n",
      "('shape', 'rect')\n",
      "('width', 40)\n",
      "('height', 30)\n"
     ]
    }
   ],
   "source": [
    "func8(shape='rect', width=40, height=30)"
   ]
  },
  {
   "cell_type": "code",
   "execution_count": 176,
   "id": "a80ed071",
   "metadata": {},
   "outputs": [
    {
     "name": "stdout",
     "output_type": "stream",
     "text": [
      "{'shape': 'rect', 'width': 40, 'height': 30}\n",
      "('shape', 'rect')\n",
      "('width', 40)\n",
      "('height', 30)\n"
     ]
    }
   ],
   "source": [
    "info = {'shape':'rect', 'width':40, 'height':30}\n",
    "func8(**info)"
   ]
  },
  {
   "cell_type": "markdown",
   "id": "02b016b4",
   "metadata": {},
   "source": [
    "# 4절 람다식\n",
    "- return 한 줄짜리 작은 익명함수\n",
    "## 4.1 람다식 연습"
   ]
  },
  {
   "cell_type": "code",
   "execution_count": 3,
   "id": "c20220d9",
   "metadata": {},
   "outputs": [
    {
     "name": "stdout",
     "output_type": "stream",
     "text": [
      "8\n",
      "<class 'function'>\n"
     ]
    }
   ],
   "source": [
    "def add(a,b):\n",
    "    return a+b\n",
    "print(add(3,5))\n",
    "print(type(add))"
   ]
  },
  {
   "cell_type": "code",
   "execution_count": 5,
   "id": "b68182fc",
   "metadata": {},
   "outputs": [
    {
     "name": "stdout",
     "output_type": "stream",
     "text": [
      "7\n",
      "<class 'function'>\n"
     ]
    }
   ],
   "source": [
    "add2 = lambda a, b : a + b\n",
    "print(add2(3,4))\n",
    "print(type(add2))"
   ]
  },
  {
   "cell_type": "code",
   "execution_count": 10,
   "id": "36a9ab52",
   "metadata": {},
   "outputs": [
    {
     "data": {
      "text/plain": [
       "('홀수', '짝수')"
      ]
     },
     "execution_count": 10,
     "metadata": {},
     "output_type": "execute_result"
    }
   ],
   "source": [
    "# ex1. 매개변수로 들어온 값이 짝수인진 홀수인지 return하는 함수를 람다식으로\n",
    "def even_odd_chk(num):\n",
    "#     if num%2:\n",
    "#         result=\"홀수\"\n",
    "#     else:\n",
    "#         result=\"짝수\"\n",
    "    result =\"홀수\" if num%2 else \"짝수\"\n",
    "    return result\n",
    "even_odd_chk(5), even_odd_chk(-4)"
   ]
  },
  {
   "cell_type": "code",
   "execution_count": 12,
   "id": "a10d9ecd",
   "metadata": {},
   "outputs": [
    {
     "data": {
      "text/plain": [
       "('짝수', '홀수')"
      ]
     },
     "execution_count": 12,
     "metadata": {},
     "output_type": "execute_result"
    }
   ],
   "source": [
    "even_odd_chk2 = lambda num : \"홀수\" if num%2 else \"짝수\"\n",
    "even_odd_chk2(6), even_odd_chk2(-3)"
   ]
  },
  {
   "cell_type": "code",
   "execution_count": 18,
   "id": "1db35943",
   "metadata": {},
   "outputs": [
    {
     "data": {
      "text/plain": [
       "(4, 4)"
      ]
     },
     "execution_count": 18,
     "metadata": {},
     "output_type": "execute_result"
    }
   ],
   "source": [
    "# ex2. 두 매개변수의  차이를 return하는 함수를 람다식으로\n",
    "abs_ = lambda a,b : abs(a-b)\n",
    "abs_(-3,7)\n",
    "abs_2 = lambda a,b : a - b if a > b else b - a\n",
    "abs_2(7,3), abs_2(3,7)"
   ]
  },
  {
   "cell_type": "code",
   "execution_count": 20,
   "id": "4b728f65",
   "metadata": {},
   "outputs": [
    {
     "data": {
      "text/plain": [
       "(1000, 'negative')"
      ]
     },
     "execution_count": 20,
     "metadata": {},
     "output_type": "execute_result"
    }
   ],
   "source": [
    "# ex3. 매개변수로 잔액을 받아, 잔액이 0 이상이면 잔액을 return, 음수면 'negative'를 return\n",
    "ex3 = lambda balance : balance if balance > 0 else 'negative' \n",
    "ex3(1000),ex3(-1000)"
   ]
  },
  {
   "cell_type": "code",
   "execution_count": 25,
   "id": "5cffc15a",
   "metadata": {},
   "outputs": [
    {
     "data": {
      "text/plain": [
       "('재시험', 'B팀')"
      ]
     },
     "execution_count": 25,
     "metadata": {},
     "output_type": "execute_result"
    }
   ],
   "source": [
    "# ex4. 점수를 입력받아 80점 이상은 'A팀', 60점 이상은 'B팀', 60점 미만은 '재시험'\n",
    "        #100점 초과, 0점 미만은 '유효하지 않음'을 return\n",
    "def levelChk(score):\n",
    "    if 80<=score<=100:\n",
    "        return 'A팀'\n",
    "    elif 60<=score<80:\n",
    "        return 'B팀'\n",
    "    elif 0<=score<60:\n",
    "        return '재시험'\n",
    "    else:\n",
    "        return '유효하지 않음'\n",
    "    \n",
    "ex4 = lambda score : 'A팀' if 80<=score<=100 else \\\n",
    "                    'B팀' if 60<=score<80 else \\\n",
    "                    '재시험' if 0<=score<60 else \\\n",
    "                    '유효하지 않음'\n",
    "levelChk(8),ex4(75)"
   ]
  },
  {
   "cell_type": "code",
   "execution_count": 29,
   "id": "2777fffa",
   "metadata": {},
   "outputs": [
    {
     "data": {
      "text/plain": [
       "('D학점', '유효하지 않음')"
      ]
     },
     "execution_count": 29,
     "metadata": {},
     "output_type": "execute_result"
    }
   ],
   "source": [
    "# 점수를 입력받아 학점을 return\n",
    "score_grade = lambda score: 'A학점' if 90<=score<=100 else \\\n",
    "                            'B학점' if 80<=score<90 else \\\n",
    "                            'C학점' if 70<=score<80 else \\\n",
    "                            'D학점' if 60<=score<70 else \\\n",
    "                            'F학점' if 0<=score<60 else \\\n",
    "                            '유효하지 않음'\n",
    "score_grade(60), score_grade(120)"
   ]
  },
  {
   "cell_type": "code",
   "execution_count": 31,
   "id": "508b82a9",
   "metadata": {},
   "outputs": [
    {
     "data": {
      "text/plain": [
       "(-1, 2)"
      ]
     },
     "execution_count": 31,
     "metadata": {},
     "output_type": "execute_result"
    }
   ],
   "source": [
    "# ex5. safe_index 함수를 람다식으로\n",
    "def safe_index(lst,item,start=0):\n",
    "\n",
    "    return lst.index(item,start) if item in lst[start:] else -1\n",
    "\n",
    "ex5 = lambda lst, item,start=0 : lst.index(item,start) if item in lst[start:] else -1\n",
    "\n",
    "i=3\n",
    "lst = [i,2,3]\n",
    "safe_index(lst,4), ex5(lst,3,1)"
   ]
  },
  {
   "cell_type": "code",
   "execution_count": 35,
   "id": "9e7df6aa",
   "metadata": {},
   "outputs": [
    {
     "data": {
      "text/plain": [
       "[25, 15, 100, 4.0]"
      ]
     },
     "execution_count": 35,
     "metadata": {},
     "output_type": "execute_result"
    }
   ],
   "source": [
    "# 람다식도 list에 들어갈 수 있음\n",
    "add = lambda a, b : a + b\n",
    "sub = lambda a, b : a - b\n",
    "mul = lambda a, b : a * b\n",
    "div = lambda a, b : a / b if b else '두번째 인자가 0이면 못 나눠요'\n",
    "operations = [add,sub, mul, div] # 사칙연산 함수\n",
    "\n",
    "def act_opperations(a, b, operations = operations): # a, b의 사칙연산 결과를 return\n",
    "    result = []\n",
    "    for op in operations: \n",
    "        result.append(op(a,b))\n",
    "    return result\n",
    "\n",
    "act_opperations(20,5)"
   ]
  },
  {
   "cell_type": "code",
   "execution_count": 37,
   "id": "608821b9",
   "metadata": {},
   "outputs": [
    {
     "data": {
      "text/plain": [
       "[64, 82]"
      ]
     },
     "execution_count": 37,
     "metadata": {},
     "output_type": "execute_result"
    }
   ],
   "source": [
    "act_opperations(8,2,[lambda x,y: x**y, lambda x,y : 10*x + y])"
   ]
  },
  {
   "cell_type": "code",
   "execution_count": 38,
   "id": "0479477c",
   "metadata": {},
   "outputs": [
    {
     "data": {
      "text/plain": [
       "5"
      ]
     },
     "execution_count": 38,
     "metadata": {},
     "output_type": "execute_result"
    }
   ],
   "source": [
    "operations.append(lambda x,y : x**y)\n",
    "len(operations)"
   ]
  },
  {
   "cell_type": "code",
   "execution_count": 39,
   "id": "7d229fb8",
   "metadata": {},
   "outputs": [
    {
     "data": {
      "text/plain": [
       "[10, 6, 16, 4.0, 64]"
      ]
     },
     "execution_count": 39,
     "metadata": {},
     "output_type": "execute_result"
    }
   ],
   "source": [
    "act_opperations(8,2) # 기본값을 갖는 변수(기본 변수)가 리스트면 기본값은 호출할 시점"
   ]
  },
  {
   "cell_type": "markdown",
   "id": "0d691739",
   "metadata": {},
   "source": [
    "## 4.2 함수의 매개변수(인수)에 람다식 사용\n",
    "- 람다식을 사용하는 곳 : 함수의 매개변수 > return 문\n",
    "### (1) map                                                                                                                                                                                             "
   ]
  },
  {
   "cell_type": "code",
   "execution_count": 43,
   "id": "99adffb4",
   "metadata": {},
   "outputs": [],
   "source": [
    "def map_template(func,L=[]):\n",
    "    result=[]\n",
    "    for item in L:\n",
    "        result.append(func(item))\n",
    "    return result\n"
   ]
  },
  {
   "cell_type": "code",
   "execution_count": 44,
   "id": "9f63982b",
   "metadata": {},
   "outputs": [
    {
     "data": {
      "text/plain": [
       "[2, 4, 6, 8, 10, 12, 14, 16, 18]"
      ]
     },
     "execution_count": 44,
     "metadata": {},
     "output_type": "execute_result"
    }
   ],
   "source": [
    "# map_template(lambda a : a, [1,2,3])\n",
    "list_data = [1,2,3,4,5,6,7,8,9]\n",
    "def x_2(x):\n",
    "    return x*2\n",
    "x_2 = lambda x : x*2\n",
    "map_template(x_2,list_data)"
   ]
  },
  {
   "cell_type": "code",
   "execution_count": 45,
   "id": "b256fc43",
   "metadata": {},
   "outputs": [
    {
     "data": {
      "text/plain": [
       "[2, 4, 6, 8, 10, 12, 14, 16, 18]"
      ]
     },
     "execution_count": 45,
     "metadata": {},
     "output_type": "execute_result"
    }
   ],
   "source": [
    "map_template(lambda x:x*2, list_data)"
   ]
  },
  {
   "cell_type": "code",
   "execution_count": 47,
   "id": "1c193bbd",
   "metadata": {},
   "outputs": [
    {
     "data": {
      "text/plain": [
       "[2, 4, 6, 8, 10, 12, 14, 16, 18]"
      ]
     },
     "execution_count": 47,
     "metadata": {},
     "output_type": "execute_result"
    }
   ],
   "source": [
    "# 리스트 컴프리핸션\n",
    "[item*2 for item in list_data]"
   ]
  },
  {
   "cell_type": "code",
   "execution_count": 49,
   "id": "164fa7c0",
   "metadata": {},
   "outputs": [
    {
     "data": {
      "text/plain": [
       "[2, 4, 6, 8, 10, 12, 14, 16, 18]"
      ]
     },
     "execution_count": 49,
     "metadata": {},
     "output_type": "execute_result"
    }
   ],
   "source": [
    "list(map(lambda x : x*2, list_data))"
   ]
  },
  {
   "cell_type": "code",
   "execution_count": 50,
   "id": "d8cfe037",
   "metadata": {},
   "outputs": [
    {
     "name": "stdout",
     "output_type": "stream",
     "text": [
      "2 4 6 8 10 12 14 16 18 "
     ]
    }
   ],
   "source": [
    "for data in map(lambda x:x*2, list_data):\n",
    "    print(data,end =' ')"
   ]
  },
  {
   "cell_type": "code",
   "execution_count": 56,
   "id": "1ac6aaad",
   "metadata": {},
   "outputs": [
    {
     "name": "stdout",
     "output_type": "stream",
     "text": [
      "5000 5000 6000 1000 5000 5000 6000 1000 "
     ]
    }
   ],
   "source": [
    "# ex1. prices = ['5,000', '5000', '6,000', '1000','5,000', '5000', '6,000', '1000’]를 [5000,5000,6000,1000]식으로 바꾸시오\n",
    "prices = ['5,000', '5000', '6,000', '1000','5,000', '5000', '6,000', '1000']\n",
    "def toint(value):\n",
    "    return int(value.replace(',',''))   \n",
    "toint('5,000')\n",
    "\n",
    "prices_int=map(lambda value : int(value.replace(',','')),prices)\n",
    "for prices in prices_int:\n",
    "    print(prices, end=' ')"
   ]
  },
  {
   "cell_type": "code",
   "execution_count": 58,
   "id": "5ffd15e4",
   "metadata": {},
   "outputs": [],
   "source": [
    "# ex2. \n",
    "'''members1 = [{'name':'홍길동', 'birth':'2000-01-01’},\\\n",
    "            {'name':'신길동', 'birth':'1995-12-18'},]를\n",
    "members2 = [{'name':'홍길동', 'year':2000, 'month':1,'day':1},\\\n",
    "            {'name':'신길동', 'year':1995, 'month':12, 'day':18},] 변환'''\n",
    "# members1 = [{'name':'홍길동', 'birth':'2000-01-01'},\\\n",
    "#             {'name':'신길동', 'birth':'1995-12-18'},]"
   ]
  },
  {
   "cell_type": "code",
   "execution_count": 64,
   "id": "4d6c556f",
   "metadata": {},
   "outputs": [
    {
     "data": {
      "text/plain": [
       "{'year': 2000, 'month': 1, 'day': 1}"
      ]
     },
     "execution_count": 64,
     "metadata": {},
     "output_type": "execute_result"
    }
   ],
   "source": [
    "# '2000-01-01' => {'year' : 2000, 'month' : 1, 'day' : 1}\n",
    "def split_data(date):\n",
    "    split_data=date.split('-')\n",
    "    return {'year' : int(split_data[0]), \n",
    "            'month' : int(split_data[1]), \n",
    "            'day' : int(split_data[2])\n",
    "           } \n",
    "split_data('2000-01-01')"
   ]
  },
  {
   "cell_type": "code",
   "execution_count": 66,
   "id": "6d027dcf",
   "metadata": {},
   "outputs": [
    {
     "data": {
      "text/plain": [
       "{'year': 2000, 'month': 1, 'day': 1}"
      ]
     },
     "execution_count": 66,
     "metadata": {},
     "output_type": "execute_result"
    }
   ],
   "source": [
    "# {'birth' : '2000-01-01'} => {'year' : 2000, 'month' : 1, 'day' : 1}\n",
    "def split_data(date):\n",
    "    return {'year' : int(date['birth'].split('-')[0]), \n",
    "            'month' : int(date['birth'].split('-')[1]), \n",
    "            'day' : int(date['birth'].split('-')[2])\n",
    "           } \n",
    "split_data({'birth':'2000-01-01'})"
   ]
  },
  {
   "cell_type": "code",
   "execution_count": 87,
   "id": "f4ec685d",
   "metadata": {},
   "outputs": [
    {
     "data": {
      "text/plain": [
       "{'name': '홍길동', 'year': 2000, 'month': 1, 'day': 1}"
      ]
     },
     "execution_count": 87,
     "metadata": {},
     "output_type": "execute_result"
    }
   ],
   "source": [
    "# {'name':'홍길동', 'birth':'2000-01-01’} => {'name':'홍길동', 'year':2000, 'month':1,'day':1}\n",
    "members1 = [{'name':'홍길동', 'birth':'2000-01-01'},\\\n",
    "            {'name':'신길동', 'birth':'1995-12-18'},]\n",
    "\n",
    "def members_preprocessing(date):\n",
    "    return {'name' : date.get('name', '이름없음'), # date['name']- 사용해도 큰 문제는 없으나 만약 name가 없다면 error\n",
    "            'year' : int(date.get('birth').split('-')[0]), \n",
    "            'month' : int(date.get('birth').split('-')[1]), \n",
    "            'day' : int(date.get('birth').split('-')[2])\n",
    "           } \n",
    "members_preprocessing({'name':'홍길동', 'birth':'2000-01-01'})"
   ]
  },
  {
   "cell_type": "code",
   "execution_count": 122,
   "id": "7f3ffea4",
   "metadata": {},
   "outputs": [
    {
     "data": {
      "text/plain": [
       "[{'name': '홍길동', 'year': 2000, 'month': 1, 'day': 1},\n",
       " {'name': '신길동', 'year': 1995, 'month': 12, 'day': 18}]"
      ]
     },
     "execution_count": 122,
     "metadata": {},
     "output_type": "execute_result"
    }
   ],
   "source": [
    "members2 = list(map(lambda data :  {\n",
    "                                    'name' : data.get('name', '이름없음'),\n",
    "                                    'year' : int(data.get('birth').split('-')[0]), \n",
    "                                    'month' : int(data.get('birth').split('-')[1]), \n",
    "                                    'day' : int(data.get('birth').split('-')[2])\n",
    "                                    },members1)\n",
    "               )\n",
    "members2"
   ]
  },
  {
   "cell_type": "code",
   "execution_count": 89,
   "id": "10647039",
   "metadata": {},
   "outputs": [
    {
     "data": {
      "text/plain": [
       "[{'name': '홍길동', 'birth': '2000-01-01'},\n",
       " {'name': '신길동', 'birth': '1995-12-18'}]"
      ]
     },
     "execution_count": 89,
     "metadata": {},
     "output_type": "execute_result"
    }
   ],
   "source": [
    "'''\n",
    "예제3. members2를 members1으로 전환\n",
    "'''\n",
    "\n",
    "members1"
   ]
  },
  {
   "cell_type": "code",
   "execution_count": 118,
   "id": "80030138",
   "metadata": {},
   "outputs": [
    {
     "data": {
      "text/plain": [
       "'2000-01-11'"
      ]
     },
     "execution_count": 118,
     "metadata": {},
     "output_type": "execute_result"
    }
   ],
   "source": [
    "# {'year': 2000, 'month': 1, 'day': 1} => '2000-01-01'\n",
    "def join_data(data):\n",
    "    return '{}-{:02}-{:02}'.format(data.get('year'),data.get('month'),data.get('day'))\n",
    "join_data({'year': 2000, 'month': 1, 'day': 11})"
   ]
  },
  {
   "cell_type": "code",
   "execution_count": 114,
   "id": "52f75b93",
   "metadata": {},
   "outputs": [
    {
     "data": {
      "text/plain": [
       "{'birth': '2000-01-11'}"
      ]
     },
     "execution_count": 114,
     "metadata": {},
     "output_type": "execute_result"
    }
   ],
   "source": [
    "# {'year': 2000, 'month': 1, 'day': 1} => '2000-01-01'\n",
    "def join_data(data):\n",
    "    return {'birth':'{year}-{month:02}-{day:02}'.format(**data)}\n",
    "join_data({'year': 2000, 'month': 1, 'day': 11})"
   ]
  },
  {
   "cell_type": "code",
   "execution_count": 119,
   "id": "fcdd201c",
   "metadata": {},
   "outputs": [
    {
     "data": {
      "text/plain": [
       "{'name': 'hong', 'birth': '2000-01-11'}"
      ]
     },
     "execution_count": 119,
     "metadata": {},
     "output_type": "execute_result"
    }
   ],
   "source": [
    "# {'name':'hong','year': 2000, 'month': 1, 'day': 11} => {'name': 'hong', 'birth': '2000-01-11'}\n",
    "def join_data(data):\n",
    "    return {'name': data.get('name', '이름없음'), 'birth': '{year}-{month:02}-{day:02}'.format(**data)}\n",
    "join_data({'name':'hong','year': 2000, 'month': 1, 'day': 11})"
   ]
  },
  {
   "cell_type": "code",
   "execution_count": 123,
   "id": "0c7f738a",
   "metadata": {},
   "outputs": [
    {
     "data": {
      "text/plain": [
       "[{'name': '홍길동', 'birth': '2000-01-01'},\n",
       " {'name': '신길동', 'birth': '1995-12-18'}]"
      ]
     },
     "execution_count": 123,
     "metadata": {},
     "output_type": "execute_result"
    }
   ],
   "source": [
    "# {'name':'hong','year': 2000, 'month': 1, 'day': 11} => {'name': 'hong', 'birth': '2000-01-11'} 람다\n",
    "list(map(lambda data :  {\n",
    "    'name': data.get('name', '이름없음'), \n",
    "    'birth': '{year}-{month:02}-{day:02}'.format(**data)}\n",
    "    ,members2))"
   ]
  },
  {
   "cell_type": "markdown",
   "id": "798be86c",
   "metadata": {},
   "source": [
    "### (2) filter"
   ]
  },
  {
   "cell_type": "code",
   "execution_count": 124,
   "id": "6a20f99d",
   "metadata": {},
   "outputs": [],
   "source": [
    "def filter_template(func, L=[]):\n",
    "    result = []\n",
    "    for item in L:\n",
    "        if func(item):\n",
    "            result.append(item)\n",
    "    return result"
   ]
  },
  {
   "cell_type": "code",
   "execution_count": 126,
   "id": "0bb7ed05",
   "metadata": {},
   "outputs": [
    {
     "data": {
      "text/plain": [
       "[1, 3, 5, 7, 9]"
      ]
     },
     "execution_count": 126,
     "metadata": {},
     "output_type": "execute_result"
    }
   ],
   "source": [
    "list_data=[1,2,3,4,5,6,7,8,9]\n",
    "def order_chk(value):\n",
    "    return values%2\n",
    "#     if valuse%2:\n",
    "#         return True\n",
    "#     else:\n",
    "#         return False\n",
    "filter_template(lambda value : value%2, list_data)"
   ]
  },
  {
   "cell_type": "code",
   "execution_count": 129,
   "id": "aef911e9",
   "metadata": {},
   "outputs": [
    {
     "data": {
      "text/plain": [
       "[1, 3, 5, 7, 9]"
      ]
     },
     "execution_count": 129,
     "metadata": {},
     "output_type": "execute_result"
    }
   ],
   "source": [
    "# 리스트컴프리헨션\n",
    "[data for data in list_data if data%2]"
   ]
  },
  {
   "cell_type": "code",
   "execution_count": 130,
   "id": "14860b0d",
   "metadata": {},
   "outputs": [
    {
     "data": {
      "text/plain": [
       "[1, 3, 5, 7, 9]"
      ]
     },
     "execution_count": 130,
     "metadata": {},
     "output_type": "execute_result"
    }
   ],
   "source": [
    "list(filter(lambda value : value%2, list_data))"
   ]
  },
  {
   "cell_type": "code",
   "execution_count": 141,
   "id": "6af2fd64",
   "metadata": {},
   "outputs": [
    {
     "data": {
      "text/plain": [
       "[1, 3.0, 100, -2.0]"
      ]
     },
     "execution_count": 141,
     "metadata": {},
     "output_type": "execute_result"
    }
   ],
   "source": [
    "# 예제 : 다음 리스트에서 소수점 이하가 0인 수만 추출하시오(filter/ 리스트컴프리헨션)\n",
    "L=[1, 1.2, 1.5, 3.0, 10.5, 100, -2.0, -12.2]\n",
    "# filter\n",
    "list(filter(lambda data : data % 1 == 0, L))"
   ]
  },
  {
   "cell_type": "code",
   "execution_count": 142,
   "id": "b6e4d919",
   "metadata": {},
   "outputs": [
    {
     "data": {
      "text/plain": [
       "[1, 3.0, 100, -2.0]"
      ]
     },
     "execution_count": 142,
     "metadata": {},
     "output_type": "execute_result"
    }
   ],
   "source": [
    "# 리스트컴프리헨션\n",
    "[data for data in L if data % 1 == 0]"
   ]
  },
  {
   "cell_type": "markdown",
   "id": "d99e8fa0",
   "metadata": {},
   "source": [
    "### (3) sort"
   ]
  },
  {
   "cell_type": "code",
   "execution_count": 144,
   "id": "57e7efda",
   "metadata": {},
   "outputs": [
    {
     "data": {
      "text/plain": [
       "[10, 6, 3, 1]"
      ]
     },
     "execution_count": 144,
     "metadata": {},
     "output_type": "execute_result"
    }
   ],
   "source": [
    "p=[10,3,6,1]\n",
    "p.sort(reverse=True)\n",
    "p"
   ]
  },
  {
   "cell_type": "code",
   "execution_count": 145,
   "id": "c4577256",
   "metadata": {},
   "outputs": [
    {
     "data": {
      "text/plain": [
       "[(1, 'one'), (2, 'two'), (3, 'three'), (4, 'four')]"
      ]
     },
     "execution_count": 145,
     "metadata": {},
     "output_type": "execute_result"
    }
   ],
   "source": [
    "# 무조건 0번째 item을 기준으로 오름차순 정렬\n",
    "pairs=[(2,\"two\"),(1,\"one\"),(3,\"three\"),(4,'four')]\n",
    "pairs.sort()\n",
    "pairs"
   ]
  },
  {
   "cell_type": "code",
   "execution_count": 148,
   "id": "f9128a0c",
   "metadata": {},
   "outputs": [
    {
     "data": {
      "text/plain": [
       "[(2, 'two'), (3, 'three'), (1, 'one'), (4, 'four')]"
      ]
     },
     "execution_count": 148,
     "metadata": {},
     "output_type": "execute_result"
    }
   ],
   "source": [
    "# 1번째 아이템 기준으로 내림차순\n",
    "pairs.sort(key=lambda data : data[1],reverse=True)\n",
    "pairs"
   ]
  },
  {
   "cell_type": "code",
   "execution_count": 155,
   "id": "9f1c0114",
   "metadata": {},
   "outputs": [
    {
     "data": {
      "text/plain": [
       "[[10, 200], [1, 100], [9, 9]]"
      ]
     },
     "execution_count": 155,
     "metadata": {},
     "output_type": "execute_result"
    }
   ],
   "source": [
    "# 합이 큰 순으로 정렬\n",
    "numbers_2d = [[9,9],[1,100],[10,200]]\n",
    "numbers_2d.sort(key= lambda data : sum(data), reverse =True)\n",
    "numbers_2d"
   ]
  },
  {
   "cell_type": "code",
   "execution_count": null,
   "id": "64366e2a",
   "metadata": {},
   "outputs": [],
   "source": [
    "name_select= lambda data: data.get('name')\n",
    "name_select({'name':'홍','score':99})"
   ]
  },
  {
   "cell_type": "code",
   "execution_count": 162,
   "id": "7d916ba7",
   "metadata": {},
   "outputs": [
    {
     "data": {
      "text/plain": [
       "[{'name': '김', 'score': 50},\n",
       " {'name': '박', 'score': 77},\n",
       " {'name': '홍', 'score': 99},\n",
       " {'score': 100}]"
      ]
     },
     "execution_count": 162,
     "metadata": {},
     "output_type": "execute_result"
    }
   ],
   "source": [
    "# student를 name순으로 정렬(ㄱ,ㄴ,ㄷ 순, 없는 이름은 마지막)\n",
    "students = [{'name':'홍','score':99},\n",
    "           {'name':'김','score':50},\n",
    "           {'name':'박','score':77},\n",
    "           {'score':100}]\n",
    "students.sort(key = lambda data : data.get('name',\"힣\"))\n",
    "students"
   ]
  },
  {
   "cell_type": "code",
   "execution_count": 164,
   "id": "f35594ed",
   "metadata": {},
   "outputs": [
    {
     "data": {
      "text/plain": [
       "[{'score': 100},\n",
       " {'name': '홍', 'score': 99},\n",
       " {'name': '박', 'score': 77},\n",
       " {'name': '김', 'score': 50}]"
      ]
     },
     "execution_count": 164,
     "metadata": {},
     "output_type": "execute_result"
    }
   ],
   "source": [
    "# student를 score 큰 순으로 변경\n",
    "students.sort(key = lambda data : data.get('score',0),reverse = True)\n",
    "students"
   ]
  },
  {
   "cell_type": "code",
   "execution_count": 170,
   "id": "45401f2e",
   "metadata": {},
   "outputs": [],
   "source": [
    "books = \\\n",
    "[{'no':2, 'title':'더트릭컬', 'writer':'폴빠','price':'19,800'},\n",
    "{'no':1, 'title':'흔한남매', 'writer':'백난도', 'price':'15,120'},\n",
    "{'no':3, 'title':'단 한 번의 삶', 'writer':'김영하', 'price':'15,120'},\n",
    "{'no':4, 'title':'가격잘못', 'writer':'홍길동', 'price':'ㅁ'},\n",
    "{'no':5, 'title':'가격이숫자', 'writer':'백난도', 'price':30200},\n",
    "{'no':6, 'title':'가격이없음', 'writer':'이길동'}]"
   ]
  },
  {
   "cell_type": "code",
   "execution_count": 171,
   "id": "a5fccabf",
   "metadata": {},
   "outputs": [
    {
     "data": {
      "text/plain": [
       "[{'no': 1, 'title': '흔한남매', 'writer': '백난도', 'price': '15,120'},\n",
       " {'no': 2, 'title': '더트릭컬', 'writer': '폴빠', 'price': '19,800'},\n",
       " {'no': 3, 'title': '단 한 번의 삶', 'writer': '김영하', 'price': '15,120'},\n",
       " {'no': 4, 'title': '가격잘못', 'writer': '홍길동', 'price': 'ㅁ'},\n",
       " {'no': 5, 'title': '가격이숫자', 'writer': '백난도', 'price': 30200},\n",
       " {'no': 6, 'title': '가격이없음', 'writer': '이길동'}]"
      ]
     },
     "execution_count": 171,
     "metadata": {},
     "output_type": "execute_result"
    }
   ],
   "source": [
    "# no기준으로 sort\n",
    "books.sort(key=lambda data : data.get('no'))\n",
    "books"
   ]
  },
  {
   "cell_type": "code",
   "execution_count": 172,
   "id": "61151b7e",
   "metadata": {},
   "outputs": [
    {
     "data": {
      "text/plain": [
       "[{'no': 5, 'title': '가격이숫자', 'writer': '백난도', 'price': 30200},\n",
       " {'no': 6, 'title': '가격이없음', 'writer': '이길동'},\n",
       " {'no': 4, 'title': '가격잘못', 'writer': '홍길동', 'price': 'ㅁ'},\n",
       " {'no': 3, 'title': '단 한 번의 삶', 'writer': '김영하', 'price': '15,120'},\n",
       " {'no': 2, 'title': '더트릭컬', 'writer': '폴빠', 'price': '19,800'},\n",
       " {'no': 1, 'title': '흔한남매', 'writer': '백난도', 'price': '15,120'}]"
      ]
     },
     "execution_count": 172,
     "metadata": {},
     "output_type": "execute_result"
    }
   ],
   "source": [
    "# title기준으로 sort\n",
    "books.sort(key=lambda data : data.get('title'))\n",
    "books"
   ]
  },
  {
   "cell_type": "code",
   "execution_count": null,
   "id": "e61d8716",
   "metadata": {},
   "outputs": [],
   "source": [
    "# price기준으로 sort - error\n",
    "books.sort(key=lambda data : data.get('price,0'))\n",
    "books"
   ]
  },
  {
   "cell_type": "code",
   "execution_count": 190,
   "id": "d2e38b79",
   "metadata": {},
   "outputs": [
    {
     "name": "stdout",
     "output_type": "stream",
     "text": [
      "12000 32000 0 0\n"
     ]
    }
   ],
   "source": [
    "# 30200,'12,000','5000','ㅁ',None => 30200, 12000, 5000, 0, 0\n",
    "def parse_int(price):\n",
    "    if isinstance(price,str) and price.replace(',','').isdigit():\n",
    "        return int(price.replace(',',''))\n",
    "    elif isinstance(price,int):\n",
    "        return price\n",
    "    else:\n",
    "        return 0\n",
    "print(parse_int('12,000'),parse_int(32000),parse_int('ㅁ'),parse_int(None))"
   ]
  },
  {
   "cell_type": "code",
   "execution_count": 195,
   "id": "1ca6ad3a",
   "metadata": {},
   "outputs": [
    {
     "name": "stdout",
     "output_type": "stream",
     "text": [
      "12000 32000 0 0\n"
     ]
    }
   ],
   "source": [
    "# 람다식으로\n",
    "parse_int= lambda price :\\\n",
    "                        int(price.replace(',','')) if isinstance(price,str) and price.replace(',','').isdigit() else\\\n",
    "                        price if isinstance(price,int) else 0\n",
    "\n",
    "print(parse_int('12,000'),parse_int(32000),parse_int('ㅁ'),parse_int(None))"
   ]
  },
  {
   "cell_type": "code",
   "execution_count": 198,
   "id": "40208a12",
   "metadata": {},
   "outputs": [
    {
     "data": {
      "text/plain": [
       "30200"
      ]
     },
     "execution_count": 198,
     "metadata": {},
     "output_type": "execute_result"
    }
   ],
   "source": [
    "# 딕셔너리 데이터 사용 시\n",
    "parse_int= lambda book :\\\n",
    "                        int(book.get('price').replace(',','')) if isinstance(book.get('price'),str)\\\n",
    "                        and book.get('price').replace(',','').isdigit() else\\\n",
    "                        book.get('price') if isinstance(book.get('price'),int) else 0\n",
    "parse_int({'no': 5, 'title': '가격이숫자', 'writer': '백난도', 'price': 30200})"
   ]
  },
  {
   "cell_type": "code",
   "execution_count": 200,
   "id": "13e9647a",
   "metadata": {},
   "outputs": [
    {
     "data": {
      "text/plain": [
       "[{'no': 5, 'title': '가격이숫자', 'writer': '백난도', 'price': 30200},\n",
       " {'no': 2, 'title': '더트릭컬', 'writer': '폴빠', 'price': '19,800'},\n",
       " {'no': 3, 'title': '단 한 번의 삶', 'writer': '김영하', 'price': '15,120'},\n",
       " {'no': 1, 'title': '흔한남매', 'writer': '백난도', 'price': '15,120'},\n",
       " {'no': 6, 'title': '가격이없음', 'writer': '이길동'},\n",
       " {'no': 4, 'title': '가격잘못', 'writer': '홍길동', 'price': 'ㅁ'}]"
      ]
     },
     "execution_count": 200,
     "metadata": {},
     "output_type": "execute_result"
    }
   ],
   "source": [
    "copyBooks = books.copy() # 복제\n",
    "copyBooks.sort(key=lambda book :\\\n",
    "                        int(book.get('price').replace(',','')) if isinstance(book.get('price'),str)\\\n",
    "                        and book.get('price').replace(',','').isdigit() else\\\n",
    "                        book.get('price') if isinstance(book.get('price'),int) else 0,\n",
    "              reverse=True)\n",
    "copyBooks"
   ]
  },
  {
   "cell_type": "markdown",
   "id": "9ac05e74",
   "metadata": {},
   "source": [
    "# 5절 파이썬 내장함수\n",
    "- import 하지 않고 바로 사용 가능한 함수\n",
    "- 키워드(if, while,...)처럼 간주되므로, 식별자(변수명, 함수명, 클래스명)로 사용하는 것을 피한다."
   ]
  },
  {
   "cell_type": "code",
   "execution_count": 204,
   "id": "e8ab0820",
   "metadata": {},
   "outputs": [],
   "source": [
    "a=10"
   ]
  },
  {
   "cell_type": "code",
   "execution_count": 205,
   "id": "fd9416d9",
   "metadata": {
    "collapsed": true
   },
   "outputs": [
    {
     "data": {
      "text/plain": [
       "{'__name__': '__main__',\n",
       " '__doc__': '\\n예제3. members2를 members1으로 전환\\n',\n",
       " '__package__': None,\n",
       " '__loader__': None,\n",
       " '__spec__': None,\n",
       " '__builtin__': <module 'builtins' (built-in)>,\n",
       " '__builtins__': <module 'builtins' (built-in)>,\n",
       " '_ih': ['',\n",
       "  'def add(a,b):\\n    return a+b\\nadd(3,5)',\n",
       "  'def add(a,b):\\n    return a+b\\nprint(add(3,5))\\nprint(add)',\n",
       "  'def add(a,b):\\n    return a+b\\nprint(add(3,5))\\nprint(type(add))',\n",
       "  'add2 = lambda a, b : a + b\\nprint(add2(3,4))',\n",
       "  'add2 = lambda a, b : a + b\\nprint(add2(3,4))\\nprint(type(add2))',\n",
       "  '# ex1. 매개변수로 들어온 값이 짝수인진 홀수인지 return하는 함수를 람다식으로\\ndef even_odd_chk(num):\\n    if num%2:\\n        result=\"홀수\"\\n    else:\\n        result=\"짝수\"\\n    return result\\neven_odd_chk(5)',\n",
       "  '# ex1. 매개변수로 들어온 값이 짝수인진 홀수인지 return하는 함수를 람다식으로\\ndef even_odd_chk(num):\\n    if num%2:\\n        result=\"홀수\"\\n    else:\\n        result=\"짝수\"\\n    return result\\neven_odd_chk(5), even_odd_chk(-4)',\n",
       "  '# ex1. 매개변수로 들어온 값이 짝수인진 홀수인지 return하는 함수를 람다식으로\\ndef even_odd_chk(num):\\n#     if num%2:\\n#         result=\"홀수\"\\n#     else:\\n#         result=\"짝수\"\\n    result =\"홀수\" if num%2 else \"짝수\"\\n    return result\\neven_odd_chk(5), even_odd_chk(-4)',\n",
       "  'even_odd_chk= lambda num : \"홀수\" if num%2 else \"짝수\"\\neven_odd_chk(5), even_odd_chk(-4)',\n",
       "  '# ex1. 매개변수로 들어온 값이 짝수인진 홀수인지 return하는 함수를 람다식으로\\ndef even_odd_chk(num):\\n#     if num%2:\\n#         result=\"홀수\"\\n#     else:\\n#         result=\"짝수\"\\n    result =\"홀수\" if num%2 else \"짝수\"\\n    return result\\neven_odd_chk(5), even_odd_chk(-4)',\n",
       "  'even_odd_chk2= lambda num : \"홀수\" if num%2 else \"짝수\"\\neven_odd_chk2(5), even_odd_chk2(-4)',\n",
       "  'even_odd_chk2= lambda num : \"홀수\" if num%2 else \"짝수\"\\neven_odd_chk2(6), even_odd_chk2(-3)',\n",
       "  '# ex2. 두 매개변수의  차이를 return하는 함수를 람다식으로\\nabs_=lambda a,b : abs(a-b)\\nabs_(3,7)',\n",
       "  '# ex2. 두 매개변수의  차이를 return하는 함수를 람다식으로\\nabs_=lambda a,b : abs(a-b)\\nabs_(3,-7)',\n",
       "  '# ex2. 두 매개변수의  차이를 return하는 함수를 람다식으로\\nabs_=lambda a,b : abs(a-b)\\nabs_(3,7)',\n",
       "  '# ex2. 두 매개변수의  차이를 return하는 함수를 람다식으로\\nabs_ = lambda a,b : abs(a-b)\\nabs_(-3,7)',\n",
       "  '# ex2. 두 매개변수의  차이를 return하는 함수를 람다식으로\\nabs_ = lambda a,b : abs(a-b)\\nabs_(-3,7)\\nabs_2 = lambda a,b : a - b if a > b else b - a\\nabs_2(7,3)',\n",
       "  '# ex2. 두 매개변수의  차이를 return하는 함수를 람다식으로\\nabs_ = lambda a,b : abs(a-b)\\nabs_(-3,7)\\nabs_2 = lambda a,b : a - b if a > b else b - a\\nabs_2(7,3), abs_2(3,7)',\n",
       "  'from IPython.display import display, HTML\\ndisplay(HTML(\"\"\"\\n<style>\\ndiv.container{width:90% ! important;}\\ndiv.cell.code_cell.rendered{width:100%}\\ndiv.input_prompt{padding:0px}\\ndiv.CodeMirror {font-family:Consolas ; font-size:12pt;}\\ndiv.text_cell_render.rendered_html {font-size:12pt;}\\ndiv.output {font-size:12pt; font-weight:bold}\\ndiv.input {font-family:Consolas ; font-size:12pt;}\\ndiv.prompt {min-width:70px;}\\ndiv#toc-wrapper {padding-top:120px;}\\ndiv.text_cell_render ul li{font-size:12pt;padding:5px;}\\ntable.dataframe{font-size:12px;}\\n</style>\\n\"\"\"))',\n",
       "  \"# ex3. 매개변수로 잔액을 받아, 잔액이 0 이상이면 잔액을 return, 음수면 'negative'를 return\\nex3 = lambda balance : balance if balance > 0 else 'negative' \\nex3(1000),ex3(-1000)\",\n",
       "  \"# ex4. 점수를 입력받아 80점 이상은 'A팀', 60점 이상은 'B팀', 60점 미만은 '재시험'\\n        #100점 초과, 0점 미만은 '유효하지 않음'을 return\\ndef levelChk(score):\\n    if 80<=score<=100:\\n        return 'A팀'\\n    elif 60<=score<80:\\n        return 'B팀'\\n    elif 0<=score<60:\\n        return '재시험'\\n    else:\\n        return '유효하지 않음'\\n    \\n    ex4 = lambda score : 'A팀' if 80<=score<=100 else \\\\\\n                        'B팀' if 60<=score<80 else \\\\\\n                        '재시험' if 0<=score<60 else \\\\\\n                        '유효하지 않음'\\n    levelChk(8),ex4(160)\",\n",
       "  \"# ex4. 점수를 입력받아 80점 이상은 'A팀', 60점 이상은 'B팀', 60점 미만은 '재시험'\\n        #100점 초과, 0점 미만은 '유효하지 않음'을 return\\ndef levelChk(score):\\n    if 80<=score<=100:\\n        return 'A팀'\\n    elif 60<=score<80:\\n        return 'B팀'\\n    elif 0<=score<60:\\n        return '재시험'\\n    else:\\n        return '유효하지 않음'\\n    \\n    ex4 = lambda score : 'A팀' if 80<=score<=100 else \\\\\\n                        'B팀' if 60<=score<80 else \\\\\\n                        '재시험' if 0<=score<60 else \\\\\\n                        '유효하지 않음'\\n    levelChk(8),ex4(160)\",\n",
       "  \"# ex4. 점수를 입력받아 80점 이상은 'A팀', 60점 이상은 'B팀', 60점 미만은 '재시험'\\n        #100점 초과, 0점 미만은 '유효하지 않음'을 return\\ndef levelChk(score):\\n    if 80<=score<=100:\\n        return 'A팀'\\n    elif 60<=score<80:\\n        return 'B팀'\\n    elif 0<=score<60:\\n        return '재시험'\\n    else:\\n        return '유효하지 않음'\\n    \\n    ex4 = lambda score : 'A팀' if 80<=score<=100 else \\\\\\n                        'B팀' if 60<=score<80 else \\\\\\n                        '재시험' if 0<=score<60 else \\\\\\n                        '유효하지 않음'\\nlevelChk(8),ex4(160)\",\n",
       "  \"# ex4. 점수를 입력받아 80점 이상은 'A팀', 60점 이상은 'B팀', 60점 미만은 '재시험'\\n        #100점 초과, 0점 미만은 '유효하지 않음'을 return\\ndef levelChk(score):\\n    if 80<=score<=100:\\n        return 'A팀'\\n    elif 60<=score<80:\\n        return 'B팀'\\n    elif 0<=score<60:\\n        return '재시험'\\n    else:\\n        return '유효하지 않음'\\n    \\nex4 = lambda score : 'A팀' if 80<=score<=100 else \\\\\\n                    'B팀' if 60<=score<80 else \\\\\\n                    '재시험' if 0<=score<60 else \\\\\\n                    '유효하지 않음'\\nlevelChk(8),ex4(160)\",\n",
       "  \"# ex4. 점수를 입력받아 80점 이상은 'A팀', 60점 이상은 'B팀', 60점 미만은 '재시험'\\n        #100점 초과, 0점 미만은 '유효하지 않음'을 return\\ndef levelChk(score):\\n    if 80<=score<=100:\\n        return 'A팀'\\n    elif 60<=score<80:\\n        return 'B팀'\\n    elif 0<=score<60:\\n        return '재시험'\\n    else:\\n        return '유효하지 않음'\\n    \\nex4 = lambda score : 'A팀' if 80<=score<=100 else \\\\\\n                    'B팀' if 60<=score<80 else \\\\\\n                    '재시험' if 0<=score<60 else \\\\\\n                    '유효하지 않음'\\nlevelChk(8),ex4(75)\",\n",
       "  \"# 점수를 입력받아 학점을 return\\nscore_grade = lambda score: 'A팀' if 80<=score<=100 else \\\\\\n                            'B팀' if 60<=score<80 else \\\\\\n                            '재시험' if 0<=score<60 else \\\\\\n                            '유효하지 않음'\\nscore_grade(input('0~100 사이의 점수를 입력하세요'))\",\n",
       "  \"# 점수를 입력받아 학점을 return\\nscore_grade = lambda score: 'A팀' if 80<=score<=100 else \\\\\\n                            'B팀' if 60<=score<80 else \\\\\\n                            '재시험' if 0<=score<60 else \\\\\\n                            '유효하지 않음'\\nscore_grade(int(input('0~100 사이의 점수를 입력하세요'))\",\n",
       "  \"# 점수를 입력받아 학점을 return\\nscore_grade = lambda score: 'A팀' if 80<=score<=100 else \\\\\\n                            'B팀' if 60<=score<80 else \\\\\\n                            '재시험' if 0<=score<60 else \\\\\\n                            '유효하지 않음'\\nscore_grade(int(input('0~100 사이의 점수를 입력하세요')))\",\n",
       "  \"# 점수를 입력받아 학점을 return\\nscore_grade = lambda score: 'A학점' if 90<=score<=100 else \\\\\\n                            'B학점' if 80<=score<90 else \\\\\\n                            'C학점' if 70<=score<80 else \\\\\\n                            'D학점' if 60<=score<70 else \\\\\\n                            'F학점' if 0<=score<60 else \\\\\\n                            '유효하지 않음'\\nscore_grade(60), score_grade(120)\",\n",
       "  '# ex5. safe_index 함수를 람다식으로\\ndef safe_index(lst,item,start=0):\\n\\n    return lst.index(item,start) if item in lst[start:] else -1\\n\\nex5 = lambda lst, item,start=0 : lst.index(item,start) if item in lst[start:] else -1\\nlst = [1,2,3]\\nsafe_index(lst,4), ex5(lst,3,1)',\n",
       "  '# ex5. safe_index 함수를 람다식으로\\ndef safe_index(lst,item,start=0):\\n\\n    return lst.index(item,start) if item in lst[start:] else -1\\n\\nex5 = lambda lst, item,start=0 : lst.index(item,start) if item in lst[start:] else -1\\nlst = [3,2,3]\\nsafe_index(lst,4), ex5(lst,3,1)',\n",
       "  \"# 람다식도 list에 들어갈 수 있음\\nadd = lambda a, b : a + b\\nsub = lambda a, b : a - b\\nmul = lambda a, b : a * b\\ndiv = lambda a, b : a / b if b else '두번째 인자가 0이면 못 나눠요'\\noperations = [add,sub, mul, div] # 사칙연산 함수\\n\\ndef act_opperations(a, b, operations = operations): # a, b의 사칙연산 결과를 return\\n    result = []\\n    for op in operations: \\n        result.append(op(a,b))\\nact_opperations(20,5)\",\n",
       "  \"# 람다식도 list에 들어갈 수 있음\\nadd = lambda a, b : a + b\\nsub = lambda a, b : a - b\\nmul = lambda a, b : a * b\\ndiv = lambda a, b : a / b if b else '두번째 인자가 0이면 못 나눠요'\\noperations = [add,sub, mul, div] # 사칙연산 함수\\n\\ndef act_opperations(a, b, operations = operations): # a, b의 사칙연산 결과를 return\\n    result = []\\n    for op in operations: \\n        result.append(op(a,b))\\nact_opperations(20,5)\",\n",
       "  \"# 람다식도 list에 들어갈 수 있음\\nadd = lambda a, b : a + b\\nsub = lambda a, b : a - b\\nmul = lambda a, b : a * b\\ndiv = lambda a, b : a / b if b else '두번째 인자가 0이면 못 나눠요'\\noperations = [add,sub, mul, div] # 사칙연산 함수\\n\\ndef act_opperations(a, b, operations = operations): # a, b의 사칙연산 결과를 return\\n    result = []\\n    for op in operations: \\n        result.append(op(a,b))\\n    return reslut\\nact_opperations(20,5)\",\n",
       "  \"# 람다식도 list에 들어갈 수 있음\\nadd = lambda a, b : a + b\\nsub = lambda a, b : a - b\\nmul = lambda a, b : a * b\\ndiv = lambda a, b : a / b if b else '두번째 인자가 0이면 못 나눠요'\\noperations = [add,sub, mul, div] # 사칙연산 함수\\n\\ndef act_opperations(a, b, operations = operations): # a, b의 사칙연산 결과를 return\\n    result = []\\n    for op in operations: \\n        result.append(op(a,b))\\n    return result\\nact_opperations(20,5)\",\n",
       "  'act_opperations(8,2)',\n",
       "  'act_opperations(8,2,[lambda x,y: x**y, lambda x,y : 10*x + y])',\n",
       "  'operations.append(lambda x,y : x**y)\\nlen(operations)',\n",
       "  'act_opperations(8,2)',\n",
       "  'map_template(lambda a : a, [1,2,3])',\n",
       "  'def map_template(func,L=[]):\\n    result=[]\\n    for item in L:\\n        result.append(item)\\n    return result',\n",
       "  'map_template(lambda a : a, [1,2,3])',\n",
       "  'def map_template(func,L=[]):\\n    result=[]\\n    for item in L:\\n        result.append(func(item))\\n    return result',\n",
       "  '# map_template(lambda a : a, [1,2,3])\\nlist_data = [1,2,3,4,5,6,7,8,9]\\ndef x_2(x):\\n    return x*2\\nmap_template(x_2,list_data)',\n",
       "  'map_template(lambda x:x*2, list_data)',\n",
       "  '# 리스트 컴프리핸션\\n[item*2 fot item in list_data]',\n",
       "  '# 리스트 컴프리핸션\\n[item*2 for item in list_data]',\n",
       "  'map(lambda x : x*2, list_data)',\n",
       "  'list(map(lambda x : x*2, list_data))',\n",
       "  \"for data in map(lambda x:x*2, list_data):\\n    print(data,end =' ')\",\n",
       "  \"# ex1 prices = ['5,000', '5000', '6,000', '1000','5,000', '5000', '6,000', '1000’]를 [5000,5000,6000,1000]식으로 바꾸시오\\nprices = ['5,000', '5000', '6,000', '1000','5,000', '5000', '6,000', '1000']\",\n",
       "  \"# ex1 prices = ['5,000', '5000', '6,000', '1000','5,000', '5000', '6,000', '1000’]를 [5000,5000,6000,1000]식으로 바꾸시오\\nprices = ['5,000', '5000', '6,000', '1000','5,000', '5000', '6,000', '1000']\\nprices\",\n",
       "  \"# ex1 prices = ['5,000', '5000', '6,000', '1000','5,000', '5000', '6,000', '1000’]를 [5000,5000,6000,1000]식으로 바꾸시오\\nprices = ['5,000', '5000', '6,000', '1000','5,000', '5000', '6,000', '1000']\\ndef toint(value):\\n    return int(value.replace(',',''))\\n    \\ntoint('5,000')\",\n",
       "  \"# ex1 prices = ['5,000', '5000', '6,000', '1000','5,000', '5000', '6,000', '1000’]를 [5000,5000,6000,1000]식으로 바꾸시오\\nprices = ['5,000', '5000', '6,000', '1000','5,000', '5000', '6,000', '1000']\\ndef toint(value):\\n    return int(value.replace(',',''))   \\ntoint('5,000')\\n\\nmap(lambda value : int(value.replace(',','')),prices)\",\n",
       "  \"# ex1 prices = ['5,000', '5000', '6,000', '1000','5,000', '5000', '6,000', '1000’]를 [5000,5000,6000,1000]식으로 바꾸시오\\nprices = ['5,000', '5000', '6,000', '1000','5,000', '5000', '6,000', '1000']\\ndef toint(value):\\n    return int(value.replace(',',''))   \\ntoint('5,000')\\n\\nlist(map(lambda value : int(value.replace(',','')),prices))\",\n",
       "  \"# ex1 prices = ['5,000', '5000', '6,000', '1000','5,000', '5000', '6,000', '1000’]를 [5000,5000,6000,1000]식으로 바꾸시오\\nprices = ['5,000', '5000', '6,000', '1000','5,000', '5000', '6,000', '1000']\\ndef toint(value):\\n    return int(value.replace(',',''))   \\ntoint('5,000')\\n\\nprices_int=map(lambda value : int(value.replace(',','')),prices)\\nfor prices in prices_int:\\n    print(prices, end=' ')\",\n",
       "  \"# ex2. \\n'''members1 = [{'name':'홍길동', 'birth':'2000-01-01’},/\\n            {'name':'신길동', 'birth':'1995-12-18'},]를\\nmembers2 = [{'name':'홍길동', 'year':2000, 'month':1,'day':1},/\\n            {'name':'신길동', 'year':1995, 'month':12, 'day':18},] 변환'''\\nmembers1 = [{'name':'홍길동', 'birth':'2000-01-01'},/\\n            {'name':'신길동', 'birth':'1995-12-18'},]\",\n",
       "  \"# ex2. \\n'''members1 = [{'name':'홍길동', 'birth':'2000-01-01’},\\\\\\n            {'name':'신길동', 'birth':'1995-12-18'},]를\\nmembers2 = [{'name':'홍길동', 'year':2000, 'month':1,'day':1},\\\\\\n            {'name':'신길동', 'year':1995, 'month':12, 'day':18},] 변환'''\\nmembers1 = [{'name':'홍길동', 'birth':'2000-01-01'},\\\\\\n            {'name':'신길동', 'birth':'1995-12-18'},]\",\n",
       "  \"# '2000-01-01' => {'year' : 2000, 'month' : 1, 'day' : 1}\\ndef split_data(date):\\n    split_data=date.split('-')\\n    return split_data\\nsplit_data('2000-01-01')\",\n",
       "  \"# '2000-01-01' => {'year' : 2000, 'month' : 1, 'day' : 1}\\ndef split_data(date):\\n    split_data=date.split('-')\\n    return {'year' : int(split_data[0]), 'month' : int(split_data)[1], 'day' : int(split_data[2])} \\nsplit_data('2000-01-01')\",\n",
       "  \"# '2000-01-01' => {'year' : 2000, 'month' : 1, 'day' : 1}\\ndef split_data(date):\\n    split_data=date.split('-')\\n    return {'year' : int(split_data[0]), 'month' : int(split_data[1]), 'day' : int(split_data[2])} \\nsplit_data('2000-01-01')\",\n",
       "  \"# '2000-01-01' => {'year' : 2000, 'month' : 1, 'day' : 1}\\ndef split_data(date):\\n    return {'year' : int(date.split('-')[0]), \\n            'month' : int(date.split('-')[1]), \\n            'day' : int(date.split('-')[2])\\n           } \\nsplit_data('2000-01-01')\",\n",
       "  \"# '2000-01-01' => {'year' : 2000, 'month' : 1, 'day' : 1}\\ndef split_data(date):\\n    return {'year' : int(date.split('-')[0]), \\n            'month' : int(date.split('-')[1]), \\n            'day' : int(date.split('-')[2])\\n           } \\nsplit_data('2000-01-01')\",\n",
       "  \"# '2000-01-01' => {'year' : 2000, 'month' : 1, 'day' : 1}\\ndef split_data(date):\\n    split_data=date.split('-')\\n    return {'year' : int(split_data[0]), \\n            'month' : int(split_data[1]), \\n            'day' : int(split_data[2])\\n           } \\nsplit_data('2000-01-01')\",\n",
       "  \"# {'birth' : '2000-01-01'} => {'year' : 2000, 'month' : 1, 'day' : 1}\\ndef split_data(date={}):\\n    return {'year' : int(date.values.split('-')[0]) if date.key = 'birth', \\n            'month' : int(date.values.split('-')[1]) if date.key = 'birth', \\n            'day' : int(date.values.split('-')[2]) if date.key = 'birth'\\n           } \\nsplit_data({'birth':'2000-01-01'})\",\n",
       "  \"# {'birth' : '2000-01-01'} => {'year' : 2000, 'month' : 1, 'day' : 1}\\ndef split_data(date):\\n    return {'year' : int(date['birth'].split('-')[0]), \\n            'month' : int(date['birth'].split('-')[1]), \\n            'day' : int(date['birth'].split('-')[2])\\n           } \\nsplit_data({'birth':'2000-01-01'})\",\n",
       "  \"# {'name':'홍길동', 'birth':'2000-01-01’} => {'name':'홍길동', 'year':2000, 'month':1,'day':1}\\ndef split_data(date):\\n    return {'name' : date['name'],\\n            'year' : int(date['birth'].split('-')[0]), \\n            'month' : int(date['birth'].split('-')[1]), \\n            'day' : int(date['birth'].split('-')[2])\\n           } \\nsplit_data({'name':'홍길동', 'birth':'2000-01-01'})\",\n",
       "  \"# {'name':'홍길동', 'birth':'2000-01-01’} => {'name':'홍길동', 'year':2000, 'month':1,'day':1}\\ndef split_data(date):\\n    return {'name' : date['name'],\\n            'year' : int(date['birth'].split('-')[0]), \\n            'month' : int(date['birth'].split('-')[1]), \\n            'day' : int(date['birth'].split('-')[2])\\n           } \\nsplit_data({'name':'홍길동', 'birth':'2000-01-01'})\\n\\nspt_d = lambda date : 'name' : date['name'],\\\\\\n            'year' : int(date['birth'].split('-')[0]),\\\\\\n            'month' : int(date['birth'].split('-')[1]),\\\\\\n            'day' : int(date['birth'].split('-')[2])\\nspt_d({'name':'홍길동', 'birth':'2000-01-01'})\",\n",
       "  \"# {'name':'홍길동', 'birth':'2000-01-01’} => {'name':'홍길동', 'year':2000, 'month':1,'day':1}\\ndef split_data(date):\\n    return {'name' : date.get('name', '이름없음'), # date['name']- 사용해도 큰 문제는 없으나 만약 name가 없다면 error\\n            'year' : int(date.get('birth').split('-')[0]), \\n            'month' : int(date.get('birth').split('-')[1]), \\n            'day' : int(date.get('birth').split('-')[2])\\n           } \\nsplit_data({'name':'홍길동', 'birth':'2000-01-01'})\\n\\n# spt_d = lambda date : 'name' : date['name'],\\\\\\n#             'year' : int(date['birth'].split('-')[0]),\\\\\\n#             'month' : int(date['birth'].split('-')[1]),\\\\\\n#             'day' : int(date['birth'].split('-')[2])\\n# spt_d({'name':'홍길동', 'birth':'2000-01-01'})\",\n",
       "  \"# {'name':'홍길동', 'birth':'2000-01-01’} => {'name':'홍길동', 'year':2000, 'month':1,'day':1}\\nmembers1 = [{'name':'홍길동', 'birth':'2000-01-01'},\\\\\\n            {'name':'신길동', 'birth':'1995-12-18'},]\\n\\ndef split_data(date):\\n    return {'name' : date.get('name', '이름없음'), # date['name']- 사용해도 큰 문제는 없으나 만약 name가 없다면 error\\n            'year' : int(date.get('birth').split('-')[0]), \\n            'month' : int(date.get('birth').split('-')[1]), \\n            'day' : int(date.get('birth').split('-')[2])\\n           } \\nsplit_data(members1)\\n\\n# spt_d = lambda date : 'name' : date['name'],\\\\\\n#             'year' : int(date['birth'].split('-')[0]),\\\\\\n#             'month' : int(date['birth'].split('-')[1]),\\\\\\n#             'day' : int(date['birth'].split('-')[2])\\n# spt_d({'name':'홍길동', 'birth':'2000-01-01'})\",\n",
       "  \"# {'name':'홍길동', 'birth':'2000-01-01’} => {'name':'홍길동', 'year':2000, 'month':1,'day':1}\\nmembers1 = [{'name':'홍길동', 'birth':'2000-01-01'},\\\\\\n            {'name':'신길동', 'birth':'1995-12-18'},]\\n\\ndef split_data(date):\\n    return {'name' : date.get('name', '이름없음'), # date['name']- 사용해도 큰 문제는 없으나 만약 name가 없다면 error\\n            'year' : int(date.get('birth').split('-')[0]), \\n            'month' : int(date.get('birth').split('-')[1]), \\n            'day' : int(date.get('birth').split('-')[2])\\n           } \\nsplit_data({'name':'홍길동', 'birth':'2000-01-01'})\\n\\n# spt_d = lambda date : 'name' : date['name'],\\\\\\n#             'year' : int(date['birth'].split('-')[0]),\\\\\\n#             'month' : int(date['birth'].split('-')[1]),\\\\\\n#             'day' : int(date['birth'].split('-')[2])\\n# spt_d({'name':'홍길동', 'birth':'2000-01-01'})\",\n",
       "  \"# {'name':'홍길동', 'birth':'2000-01-01’} => {'name':'홍길동', 'year':2000, 'month':1,'day':1}\\nmembers1 = [{'name':'홍길동', 'birth':'2000-01-01'},\\\\\\n            {'name':'신길동', 'birth':'1995-12-18'},]\\n\\ndef members_preprocessing(date):\\n    return {'name' : date.get('name', '이름없음'), # date['name']- 사용해도 큰 문제는 없으나 만약 name가 없다면 error\\n            'year' : int(date.get('birth').split('-')[0]), \\n            'month' : int(date.get('birth').split('-')[1]), \\n            'day' : int(date.get('birth').split('-')[2])\\n           } \\nmembers_preprocessing({'name':'홍길동', 'birth':'2000-01-01'})\\n\\n# spt_d = lambda date : 'name' : date['name'],\\\\\\n#             'year' : int(date['birth'].split('-')[0]),\\\\\\n#             'month' : int(date['birth'].split('-')[1]),\\\\\\n#             'day' : int(date['birth'].split('-')[2])\\n# spt_d({'name':'홍길동', 'birth':'2000-01-01'})\",\n",
       "  'members2 = list(map())',\n",
       "  'members1 = list(map())',\n",
       "  \"# {'name':'홍길동', 'birth':'2000-01-01’} => {'name':'홍길동', 'year':2000, 'month':1,'day':1}\\nmembers2 = [{'name':'홍길동', 'birth':'2000-01-01'},\\\\\\n            {'name':'신길동', 'birth':'1995-12-18'},]\\n\\ndef members_preprocessing(date):\\n    return {'name' : date.get('name', '이름없음'), # date['name']- 사용해도 큰 문제는 없으나 만약 name가 없다면 error\\n            'year' : int(date.get('birth').split('-')[0]), \\n            'month' : int(date.get('birth').split('-')[1]), \\n            'day' : int(date.get('birth').split('-')[2])\\n           } \\nmembers_preprocessing({'name':'홍길동', 'birth':'2000-01-01'})\",\n",
       "  'members2 = list(map())',\n",
       "  \"members2 = list(map(lambda members :  {\\n                                    'name' : date.get('name', '이름없음'),\\n                                    'year' : int(date.get('birth').split('-')[0]), \\n                                    'month' : int(date.get('birth').split('-')[1]), \\n                                    'day' : int(date.get('birth').split('-')[2])\\n                                    },\\n                   , members1)\\n               ),\",\n",
       "  \"members2 = list(map(lambda members :  {\\n                                    'name' : date.get('name', '이름없음'),\\n                                    'year' : int(date.get('birth').split('-')[0]), \\n                                    'month' : int(date.get('birth').split('-')[1]), \\n                                    'day' : int(date.get('birth').split('-')[2])\\n                                    },\\n                   , members2)\\n               ),\",\n",
       "  \"members2 = list(map(lambda members :  {\\n                                    'name' : date.get('name', '이름없음'),\\n                                    'year' : int(date.get('birth').split('-')[0]), \\n                                    'month' : int(date.get('birth').split('-')[1]), \\n                                    'day' : int(date.get('birth').split('-')[2])\\n                                    },members2)\\n               ),\",\n",
       "  \"members2 = list(map(lambda date :  {\\n                                    'name' : date.get('name', '이름없음'),\\n                                    'year' : int(date.get('birth').split('-')[0]), \\n                                    'month' : int(date.get('birth').split('-')[1]), \\n                                    'day' : int(date.get('birth').split('-')[2])\\n                                    },members2)\\n               ),\",\n",
       "  \"members2 = list(map(lambda date :  {\\n                                    'name' : date.get('name', '이름없음'),\\n                                    'year' : int(date.get('birth').split('-')[0]), \\n                                    'month' : int(date.get('birth').split('-')[1]), \\n                                    'day' : int(date.get('birth').split('-')[2])\\n                                    },members2)\\n               ),\",\n",
       "  \"members2 = list(map(lambda data :  {\\n                                    'name' : data.get('name', '이름없음'),\\n                                    'year' : int(data.get('birth').split('-')[0]), \\n                                    'month' : int(data.get('birth').split('-')[1]), \\n                                    'day' : int(data.get('birth').split('-')[2])\\n                                    },members2)\\n               ),\",\n",
       "  \"members2 = list(map(lambda data :  {\\n                                    'name' : data.get('name', '이름없음'),\\n                                    'year' : int(data.get('birth').split('-')[0]), \\n                                    'month' : int(data.get('birth').split('-')[1]), \\n                                    'day' : int(data.get('birth').split('-')[2])\\n                                    },members1)\\n               )\",\n",
       "  \"members2 = list(map(lambda data :  {\\n                                    'name' : data.get('name', '이름없음'),\\n                                    'year' : int(data.get('birth').split('-')[0]), \\n                                    'month' : int(data.get('birth').split('-')[1]), \\n                                    'day' : int(data.get('birth').split('-')[2])\\n                                    },members1)\\n               )\",\n",
       "  \"members2 = list(map(lambda data :  {\\n                                    'name' : data.get('name', '이름없음'),\\n                                    'year' : int(data.get('birth').split('-')[0]), \\n                                    'month' : int(data.get('birth').split('-')[1]), \\n                                    'day' : int(data.get('birth').split('-')[2])\\n                                    },members1)\\n               )\\nmembers2\",\n",
       "  \"'''\\n예제3. members2를 members1으로 전환'''\\nmembers1\",\n",
       "  \"# {'name':'홍길동', 'birth':'2000-01-01’} => {'name':'홍길동', 'year':2000, 'month':1,'day':1}\\nmembers1 = [{'name':'홍길동', 'birth':'2000-01-01'},\\\\\\n            {'name':'신길동', 'birth':'1995-12-18'},]\\n\\ndef members_preprocessing(date):\\n    return {'name' : date.get('name', '이름없음'), # date['name']- 사용해도 큰 문제는 없으나 만약 name가 없다면 error\\n            'year' : int(date.get('birth').split('-')[0]), \\n            'month' : int(date.get('birth').split('-')[1]), \\n            'day' : int(date.get('birth').split('-')[2])\\n           } \\nmembers_preprocessing({'name':'홍길동', 'birth':'2000-01-01'})\",\n",
       "  \"members2 = list(map(lambda data :  {\\n                                    'name' : data.get('name', '이름없음'),\\n                                    'year' : int(data.get('birth').split('-')[0]), \\n                                    'month' : int(data.get('birth').split('-')[1]), \\n                                    'day' : int(data.get('birth').split('-')[2])\\n                                    },members1)\\n               )\\nmembers2\",\n",
       "  \"'''\\n예제3. members2를 members1으로 전환\\n'''\\n\\nmembers1\",\n",
       "  \"# {'year': 2000, 'month': 1, 'day': 1} => '2000-01-01'\\ndef join_data(data):\\n    return '{}-{}-{}'.format(data.get('year'),data.get('month'),data.get('day'))\\njoin_data({'year': 2000, 'month': 1, 'day': 1})\",\n",
       "  \"# {'year': 2000, 'month': 1, 'day': 1} => '2000-01-01'\\ndef join_data(data):\\n    return '{}-{:00}-{:00}'.format(data.get('year'),data.get('month'),data.get('day'))\\njoin_data({'year': 2000, 'month': 1, 'day': 1})\",\n",
       "  \"# {'year': 2000, 'month': 1, 'day': 1} => '2000-01-01'\\ndef join_data(data):\\n    return '{}-{:'0'2}-{:2}'.format(data.get('year'),data.get('month'),data.get('day'))\\njoin_data({'year': 2000, 'month': 1, 'day': 1})\",\n",
       "  \"# {'year': 2000, 'month': 1, 'day': 1} => '2000-01-01'\\ndef join_data(data):\\n    return '{}-{:02}-{:2}'.format(data.get('year'),data.get('month'),data.get('day'))\\njoin_data({'year': 2000, 'month': 1, 'day': 1})\",\n",
       "  \"# {'year': 2000, 'month': 1, 'day': 1} => '2000-01-01'\\ndef join_data(data):\\n    return '{}-{:02}-{:02}'.format(data.get('year'),data.get('month'),data.get('day'))\\njoin_data({'year': 2000, 'month': 1, 'day': 1})\",\n",
       "  \"# {'year': 2000, 'month': 1, 'day': 1} => '2000-01-01'\\ndef join_data(data):\\n    return '{}-{:02}-{:02}'.format(data.get('year'),data.get('month'),data.get('day'))\\njoin_data({'year': 2000, 'month': 1, 'day': 11})\",\n",
       "  \"# {'year': 2000, 'month': 1, 'day': 1} => '2000-01-01'\\ndef join_data(data):\\n    return '{year}-{month:02}-{day:02}'.format(**data)\\njoin_data({'year': 2000, 'month': 1, 'day': 11})\",\n",
       "  \"def join_data(data):\\n    return '{name} {year}-{month:02}-{day:02}'.format(**data)\\njoin_data({'name':'홍','year': 2000, 'month': 1, 'day': 11})\",\n",
       "  \"# {'year': 2000, 'month': 1, 'day': 1} => '2000-01-01'\\ndef join_data(data):\\n    return {'birth':'{year}-{month:02}-{day:02}'.format(**data)}\\njoin_data({'year': 2000, 'month': 1, 'day': 11})\",\n",
       "  \"def join_data(data):\\n    return {'name':'{name}, 'birth': {year}-{month:02}-{day:02}'.format(**data)}\\njoin_data({'name':'홍','year': 2000, 'month': 1, 'day': 11})\",\n",
       "  \"def join_data(data):\\n    return {'name':{name}, 'birth': {year}-{month:02}-{day:02}'.format(**data)}\\njoin_data({'name':'홍','year': 2000, 'month': 1, 'day': 11})\",\n",
       "  \"def join_data(data):\\n    return {'name':'{name}', 'birth': '{year}-{month:02}-{day:02}'.format(**data)}\\njoin_data({'name':'홍','year': 2000, 'month': 1, 'day': 11})\",\n",
       "  \"def join_data(data):\\n    return {'name':{name}, 'birth': '{year}-{month:02}-{day:02}'.format(**data)}\\njoin_data({'name':'홍','year': 2000, 'month': 1, 'day': 11})\",\n",
       "  \"def join_data(data):\\n    return {'name':'{name}'', 'birth': '{year}-{month:02}-{day:02}'.format(**data)}\\njoin_data({'name':'홍','year': 2000, 'month': 1, 'day': 11})\",\n",
       "  \"def join_data(data):\\n    return {'name':'{name}', 'birth': '{year}-{month:02}-{day:02}'.format(**data)}\\njoin_data({'name':'홍','year': 2000, 'month': 1, 'day': 11})\",\n",
       "  \"def join_data(data):\\n    return {'name':'{name}', 'birth': '{year}-{month:02}-{day:02}'.format(**data)}\\njoin_data({'name':'홍','year': 2000, 'month': 1, 'day': 11})\",\n",
       "  \"def join_data(data):\\n    return {'name:{name}', 'birth': '{year}-{month:02}-{day:02}'.format(**data)}\\njoin_data({'name':'홍길동','year': 2000, 'month': 1, 'day': 11})\",\n",
       "  \"def join_data(data):\\n    return {'name': name, 'birth': '{year}-{month:02}-{day:02}'.format(**data)}\\njoin_data({'name':'홍길동','year': 2000, 'month': 1, 'day': 11})\",\n",
       "  \"def join_data(data):\\n    return {'name': 'name', 'birth': '{year}-{month:02}-{day:02}'.format(**data)}\\njoin_data({'name':'홍길동','year': 2000, 'month': 1, 'day': 11})\",\n",
       "  \"def join_data(data):\\n    return {'name': {name}, 'birth': '{year}-{month:02}-{day:02}'.format(**data)}\\njoin_data({'name':'홍길동','year': 2000, 'month': 1, 'day': 11})\",\n",
       "  \"def join_data(data):\\n    return {'name': '{name}', 'birth': '{year}-{month:02}-{day:02}'.format(**data)}\\njoin_data({'name':'홍길동','year': 2000, 'month': 1, 'day': 11})\",\n",
       "  \"def join_data(data):\\n    return {'name': data.get('name', '이름없음'), 'birth': '{year}-{month:02}-{day:02}'.format(**data)}\\njoin_data({'name':'홍길동','year': 2000, 'month': 1, 'day': 11})\",\n",
       "  \"mem_set= lambda data :  {'name': data.get('name', '이름없음'), 'birth': '{year}-{month:02}-{day:02}'.format(**data)}\\n\\nmem_set({'name':'홍길동','year': 2000, 'month': 1, 'day': 11})\",\n",
       "  \"# {'year': 2000, 'month': 1, 'day': 1} => '2000-01-01'\\ndef join_data(data):\\n    return '{}-{:02}-{:02}'.format(year=data.get('year'),month=data.get('month'),day=data.get('day'))\\njoin_data({'year': 2000, 'month': 1, 'day': 11})\",\n",
       "  \"# {'year': 2000, 'month': 1, 'day': 1} => '2000-01-01'\\ndef join_data(data):\\n    return {'birth':'{year}-{month:02}-{day:02}'.format(**data)}\\njoin_data({'year': 2000, 'month': 1, 'day': 11})\",\n",
       "  \"# {'year': 2000, 'month': 1, 'day': 1} => '2000-01-01'\\ndef join_data(data):\\n    return '{}-{:02}-{:02}'.format{year=data.get('year'),month=data.get('month'),day=data.get('day')}\\njoin_data({'year': 2000, 'month': 1, 'day': 11})\",\n",
       "  \"# {'year': 2000, 'month': 1, 'day': 1} => '2000-01-01'\\ndef join_data(data):\\n    return '{}-{:02}-{:02}'.format({year=data.get('year'),month=data.get('month'),day=data.get('day')})\\njoin_data({'year': 2000, 'month': 1, 'day': 11})\",\n",
       "  \"# {'year': 2000, 'month': 1, 'day': 1} => '2000-01-01'\\ndef join_data(data):\\n    return '{}-{:02}-{:02}'.format(data.get('year'),data.get('month'),data.get('day')})\\njoin_data({'year': 2000, 'month': 1, 'day': 11})\",\n",
       "  \"# {'year': 2000, 'month': 1, 'day': 1} => '2000-01-01'\\ndef join_data(data):\\n    return '{}-{:02}-{:02}'.format(data.get('year'),data.get('month'),data.get('day'))\\njoin_data({'year': 2000, 'month': 1, 'day': 11})\",\n",
       "  \"# members2 => members1\\ndef join_data(data):\\n    return {'name': data.get('name', '이름없음'), 'birth': '{year}-{month:02}-{day:02}'.format(**data)}\\njoin_data({'name':'hong','year': 2000, 'month': 1, 'day': 11})\",\n",
       "  \"# {'name':'hong','year': 2000, 'month': 1, 'day': 11} => {'name': 'hong', 'birth': '2000-01-11'} 람다\\nlist(map(lambda data :  {'name': data.get('name', '이름없음'), 'birth': '{year}-{month:02}-{day:02}'.format(**data)}\\n        ,members2))\",\n",
       "  \"# {'name':'hong','year': 2000, 'month': 1, 'day': 11} => {'name': 'hong', 'birth': '2000-01-11'} 람다\\nlist(map(lambda data :  {\\n    'name': data.get('name', '이름없음'), \\n    'birth': '{year}-{month:02}-{day:02}'.format(**data)}\\n    ,members2))\",\n",
       "  \"members2 = list(map(lambda data :  {\\n                                    'name' : data.get('name', '이름없음'),\\n                                    'year' : int(data.get('birth').split('-')[0]), \\n                                    'month' : int(data.get('birth').split('-')[1]), \\n                                    'day' : int(data.get('birth').split('-')[2])\\n                                    },members1)\\n               )\\nmembers2\",\n",
       "  \"# {'name':'hong','year': 2000, 'month': 1, 'day': 11} => {'name': 'hong', 'birth': '2000-01-11'} 람다\\nlist(map(lambda data :  {\\n    'name': data.get('name', '이름없음'), \\n    'birth': '{year}-{month:02}-{day:02}'.format(**data)}\\n    ,members2))\",\n",
       "  'def filter_template(func, L=[]):\\n    result = []\\n    for item in L:\\n        if func(item):\\n            result.append(item)\\n    return result',\n",
       "  'list_data=[1,2,3,4,5,6,7,8,9]\\ndef order_chk(value):\\n    return values%2\\n#     if valuse%2:\\n#         return True\\n#     else:\\n#         return False\\nfliter_template(lambda value : value%2, list_data)',\n",
       "  'list_data=[1,2,3,4,5,6,7,8,9]\\ndef order_chk(value):\\n    return values%2\\n#     if valuse%2:\\n#         return True\\n#     else:\\n#         return False\\nfilter_template(lambda value : value%2, list_data)',\n",
       "  'list([data for data in list_data if data%2])',\n",
       "  '[data for data in list_data if data%2]',\n",
       "  '# 리스트컴프리헨션\\n[data for data in list_data if data%2]',\n",
       "  'list(filter(lambda value : value%2, list_data))',\n",
       "  '# 예제 : 다음 리스트에서 소수점 이하가 0인 수만 추출하시오(filter/ 리스트컴프리헨션)\\nL=[1, 1.2, 1.5, 3.0, 10.5, 100]\\n[data for data in L if L%1]',\n",
       "  '# 예제 : 다음 리스트에서 소수점 이하가 0인 수만 추출하시오(filter/ 리스트컴프리헨션)\\nL=[1, 1.2, 1.5, 3.0, 10.5, 100]\\n[data for data in L if data%1]',\n",
       "  '# 예제 : 다음 리스트에서 소수점 이하가 0인 수만 추출하시오(filter/ 리스트컴프리헨션)\\nL=[1, 1.2, 1.5, 3.0, 10.5, 100]\\n[data for data in L if data%1==0]',\n",
       "  '# 예제 : 다음 리스트에서 소수점 이하가 0인 수만 추출하시오(filter/ 리스트컴프리헨션)\\nL=[1, 1.2, 1.5, 3.0, 10.5, 100]\\n# filter\\nlist(filter(lambda data : data%2==0, L))',\n",
       "  '# 리스트컴프리헨션\\n[data for data in L if data%1==0]',\n",
       "  '# 예제 : 다음 리스트에서 소수점 이하가 0인 수만 추출하시오(filter/ 리스트컴프리헨션)\\nL=[1, 1.2, 1.5, 3.0, 10.5, 100]\\n# filter\\nlist(filter(lambda data : data%2==0, L))',\n",
       "  '# 예제 : 다음 리스트에서 소수점 이하가 0인 수만 추출하시오(filter/ 리스트컴프리헨션)\\nL=[1, 1.2, 1.5, 3.0, 10.5, 100]\\n# filter\\nlist(filter(lambda data : data%1==0, L))',\n",
       "  '# 예제 : 다음 리스트에서 소수점 이하가 0인 수만 추출하시오(filter/ 리스트컴프리헨션)\\nL=[1, 1.2, 1.5, 3.0, 10.5, 100]\\n# filter\\nprint(list(filter(lambda data : data % 1 == 0, L)))\\n# 리스트컴프리헨션\\nprint([data for data in L if data % 1 == 0])',\n",
       "  '# 예제 : 다음 리스트에서 소수점 이하가 0인 수만 추출하시오(filter/ 리스트컴프리헨션)\\nL=[1, 1.2, 1.5, 3.0, 10.5, 100, -2.0]\\n# filter\\nprint(list(filter(lambda data : data % 1 == 0, L)))\\n# 리스트컴프리헨션\\nprint([data for data in L if data % 1 == 0])',\n",
       "  '# 예제 : 다음 리스트에서 소수점 이하가 0인 수만 추출하시오(filter/ 리스트컴프리헨션)\\nL=[1, 1.2, 1.5, 3.0, 10.5, 100, -2.0, -12.2]\\n# filter\\nprint(list(filter(lambda data : data % 1 == 0, L)))\\n# 리스트컴프리헨션\\nprint([data for data in L if data % 1 == 0])',\n",
       "  '# 예제 : 다음 리스트에서 소수점 이하가 0인 수만 추출하시오(filter/ 리스트컴프리헨션)\\nL=[1, 1.2, 1.5, 3.0, 10.5, 100, -2.0, -12.2]\\n# filter\\nlist(filter(lambda data : data % 1 == 0, L))',\n",
       "  '# 리스트컴프리헨션\\n[data for data in L if data % 1 == 0]',\n",
       "  'p=[10,3,6,1]\\np.sort()\\np',\n",
       "  'p=[10,3,6,1]\\np.sort(reverse=True)\\np',\n",
       "  '# 무조건 0번째 item을 기준으로 오름차순 정렬\\npairs=[(2,\"two\"),(1,\"one\"),(3,\"three\"),(4,\\'four\\')]\\npairs.sort()\\npairs',\n",
       "  '# 1번째 아이템 기준으로 내림차순\\n\\npairs.sort(key=lambda data : data[1])',\n",
       "  '# 1번째 아이템 기준으로 내림차순\\n\\npairs.sort(key=lambda data : data[1])\\npairs',\n",
       "  '# 1번째 아이템 기준으로 내림차순\\n\\npairs.sort(key=lambda data : data[1],reverse=True)\\npairs',\n",
       "  '# 합이 큰 순으로 정렬\\nnumbers_2d = [[9,9],[1,100],[10,1]]\\nnumbers_2d.sort(key= lambda data : data[0]+data[1], reverse =True)',\n",
       "  '# 합이 큰 순으로 정렬\\nnumbers_2d = [[9,9],[1,100],[10,1]]\\nnumbers_2d.sort(key= lambda data : data[0]+data[1], reverse =True)\\nnumbers_2d',\n",
       "  '# 합이 큰 순으로 정렬\\nnumbers_2d = [[9,9],[1,100],[10,1],[6,4]]\\nnumbers_2d.sort(key= lambda data : data[0]+data[1], reverse =True)\\nnumbers_2d',\n",
       "  '# 합이 큰 순으로 정렬\\nnumbers_2d = [[9,9],[1,100],[10,1],[6,4]]\\nnumbers_2d.sort(key= lambda data : data[0]+data[1], reverse =True)\\nnumbers_2d',\n",
       "  '# 합이 큰 순으로 정렬\\nnumbers_2d = [[9,9],[1,100],[10,200],[6,4]]\\nnumbers_2d.sort(key= lambda data : data[0]+data[1], reverse =True)\\nnumbers_2d',\n",
       "  '# 합이 큰 순으로 정렬\\nnumbers_2d = [[9,9],[1,100],[10,200]]\\nnumbers_2d.sort(key= lambda data : data[0]+data[1], reverse =True)\\nnumbers_2d',\n",
       "  '# 합이 큰 순으로 정렬\\nnumbers_2d = [[9,9],[1,100],[10,200]]\\nnumbers_2d.sort(key= lambda data : sum(data), reverse =True)\\nnumbers_2d',\n",
       "  \"students = [{'name':'홍','score':99},\\n           {'name':'김','score':50},\\n           {'name':'박','score':77},\\n           {'score':100}]\\nstudents.sort()\",\n",
       "  \"students = [{'name':'홍','score':99},\\n           {'name':'김','score':50},\\n           {'name':'박','score':77},\\n           {'score':100}]\\nstudents.sort(key = lambda data : data.get('name'))\",\n",
       "  'students = [{\\'name\\':\\'홍\\',\\'score\\':99},\\n           {\\'name\\':\\'김\\',\\'score\\':50},\\n           {\\'name\\':\\'박\\',\\'score\\':77},\\n           {\\'score\\':100}]\\nstudents.sort(key = lambda data : data.get(\\'name\\',\"이름없음\"))',\n",
       "  'students = [{\\'name\\':\\'홍\\',\\'score\\':99},\\n           {\\'name\\':\\'김\\',\\'score\\':50},\\n           {\\'name\\':\\'박\\',\\'score\\':77},\\n           {\\'score\\':100}]\\nstudents.sort(key = lambda data : data.get(\\'name\\',\"이름없음\"))\\nstudents',\n",
       "  'students = [{\\'name\\':\\'홍\\',\\'score\\':99},\\n           {\\'name\\':\\'김\\',\\'score\\':50},\\n           {\\'name\\':\\'박\\',\\'score\\':77},\\n           {\\'score\\':100}]\\nstudents.sort(key = lambda data : data.get(\\'name\\',\"none\"))\\nstudents',\n",
       "  \"students.sort(key = lambda data : data.get('score'))\\nstudents\",\n",
       "  '# student를 name순으로 정렬(ㄱ,ㄴ,ㄷ 순)\\nstudents = [{\\'name\\':\\'홍\\',\\'score\\':99},\\n           {\\'name\\':\\'김\\',\\'score\\':50},\\n           {\\'name\\':\\'박\\',\\'score\\':77},\\n           {\\'score\\':100}]\\nstudents.sort(key = lambda data : data.get(\\'name\\',\"힣\"))\\nstudents',\n",
       "  \"# student를 score 큰 순으로 변경\\nstudents.sort(key = lambda data : data.get('score'),reverse = True)\\nstudents\",\n",
       "  \"# student를 score 큰 순으로 변경\\nstudents.sort(key = lambda data : data.get('score',0),reverse = True)\\nstudents\",\n",
       "  \"[{'no':1, 'title':'더트릭컬', 'writer':'폴빠','price':'19,800'},\\n{'no':2, 'title':'흔한남매', 'writer':'백난도', 'price':'15,120'},\\n{'no':3, 'title':'단 한 번의 삶', 'writer':'김영하', 'price':'15,120'},\\n{'no':4, 'title':'가격잘못', 'writer':'홍길동', 'price':'ㅁ'},\\n{'no':5, 'title':'가격이숫자', 'writer':'백난도', 'price':30200},\\n{'no':6, 'title':'가격이없음', 'writer':'이길동'}]\",\n",
       "  \"books = \\\\\\n[{'no':1, 'title':'더트릭컬', 'writer':'폴빠','price':'19,800'},\\n{'no':2, 'title':'흔한남매', 'writer':'백난도', 'price':'15,120'},\\n{'no':3, 'title':'단 한 번의 삶', 'writer':'김영하', 'price':'15,120'},\\n{'no':4, 'title':'가격잘못', 'writer':'홍길동', 'price':'ㅁ'},\\n{'no':5, 'title':'가격이숫자', 'writer':'백난도', 'price':30200},\\n{'no':6, 'title':'가격이없음', 'writer':'이길동'}]\",\n",
       "  'books',\n",
       "  \"books.sort(key=lambda data : data.get('no'))\",\n",
       "  \"books.sort(key=lambda data : data.get('no'))\\nbooks\",\n",
       "  \"books = \\\\\\n[{'no':2, 'title':'더트릭컬', 'writer':'폴빠','price':'19,800'},\\n{'no':1, 'title':'흔한남매', 'writer':'백난도', 'price':'15,120'},\\n{'no':3, 'title':'단 한 번의 삶', 'writer':'김영하', 'price':'15,120'},\\n{'no':4, 'title':'가격잘못', 'writer':'홍길동', 'price':'ㅁ'},\\n{'no':5, 'title':'가격이숫자', 'writer':'백난도', 'price':30200},\\n{'no':6, 'title':'가격이없음', 'writer':'이길동'}]\",\n",
       "  \"books.sort(key=lambda data : data.get('no'))\\nbooks\",\n",
       "  \"# title 기준으로 sort\\nbooks.sort(key=lambda data : data.get('title'))\\nbooks\",\n",
       "  \"# price기준으로 sort\\n# no기준으로 sort\\nbooks.sort(key=lambda data : data.get('price'))\\nbooks\",\n",
       "  \"# price기준으로 sort\\n# no기준으로 sort\\nbooks.sort(key=lambda data : data.get('price',0))\\nbooks\",\n",
       "  \"# 30200,'12,000','5000','ㅁ',None => 30200, 12000, 5000, 0, 0\\ndaf parse_int(price):\\n    print(y=type(price))\\nparse_int('12,000')\",\n",
       "  \"# 30200,'12,000','5000','ㅁ',None => 30200, 12000, 5000, 0, 0\\ndef parse_int(price):\\n    print(y=type(price))\\nparse_int('12,000')\",\n",
       "  '# ',\n",
       "  \"# 30200,'12,000','5000','ㅁ',None => 30200, 12000, 5000, 0, 0\\ndef parse_int(price):\\n    print(type(price))\\nparse_int('12,000')\",\n",
       "  '# 30200,\\'12,000\\',\\'5000\\',\\'ㅁ\\',None => 30200, 12000, 5000, 0, 0\\ndef parse_int(price):\\n    if isinstance(price,str):\\n        price.replace(\",\",\"\")\\n#     print(type(price))\\nparse_int(\\'12,000\\')',\n",
       "  '# 30200,\\'12,000\\',\\'5000\\',\\'ㅁ\\',None => 30200, 12000, 5000, 0, 0\\ndef parse_int(price):\\n    if isinstance(price,str):\\n        price.replace(\",\",\"\")\\n    print(type(price))\\nparse_int(\\'12,000\\')',\n",
       "  '# 30200,\\'12,000\\',\\'5000\\',\\'ㅁ\\',None => 30200, 12000, 5000, 0, 0\\ndef parse_int(price):\\n    if isinstance(price,str):\\n        price.replace(\",\",\"\")\\n    print(price)\\nparse_int(\\'12,000\\')',\n",
       "  '# 30200,\\'12,000\\',\\'5000\\',\\'ㅁ\\',None => 30200, 12000, 5000, 0, 0\\ndef parse_int(price):\\n    if isinstance(price,str):\\n        price.replace(\\',\\',\"\")\\n    print(price)\\nparse_int(\\'12,000\\')',\n",
       "  '# 30200,\\'12,000\\',\\'5000\\',\\'ㅁ\\',None => 30200, 12000, 5000, 0, 0\\ndef parse_int(price):\\n    if isinstance(price,str) and price.replace(\\',\\',\"\").isdigit():\\n        return int(price.repleace(\\',\\',\\'\\'))\\n    print(price)\\nparse_int(\\'12,000\\')',\n",
       "  \"# 30200,'12,000','5000','ㅁ',None => 30200, 12000, 5000, 0, 0\\ndef parse_int(price):\\n    if isinstance(price,str) and price.replace(',','').isdigit():\\n        return int(price.repleace(',',''))\\n    print(price)\\nparse_int('12,000')\",\n",
       "  \"# 30200,'12,000','5000','ㅁ',None => 30200, 12000, 5000, 0, 0\\ndef parse_int(price):\\n    if isinstance(price,str) and price.replace(',','').isdigit():\\n        return int(price.replace(',',''))\\n    print(price)\\nparse_int('12,000')\",\n",
       "  \"# 30200,'12,000','5000','ㅁ',None => 30200, 12000, 5000, 0, 0\\ndef parse_int(price):\\n    if isinstance(price,str) and price.replace(',','').isdigit():\\n        return int(price.replace(',',''))\\n    print(price)\\nparse_int('m')\",\n",
       "  \"# 30200,'12,000','5000','ㅁ',None => 30200, 12000, 5000, 0, 0\\ndef parse_int(price):\\n    if isinstance(price,str) and price.replace(',','').isdigit():\\n        return int(price.replace(',',''))\\n    print(price)\\nparse_int('a')\",\n",
       "  \"# 30200,'12,000','5000','ㅁ',None => 30200, 12000, 5000, 0, 0\\ndef parse_int(price):\\n    if isinstance(price,str) and price.replace(',','').isdigit():\\n        return int(price.replace(',',''))\\n    print(price)\\nparse_int('12,000')\",\n",
       "  \"# 30200,'12,000','5000','ㅁ',None => 30200, 12000, 5000, 0, 0\\ndef parse_int(price):\\n    if isinstance(price,str) and price.replace(',','').isdigit():\\n        return int(price.replace(',',''))\\n    elif isinstance(price,int):\\n        return price\\nprint(parse_int('12,000'),parse_int(32000),parse_int('ㅁ'))\",\n",
       "  \"# 30200,'12,000','5000','ㅁ',None => 30200, 12000, 5000, 0, 0\\ndef parse_int(price):\\n    if isinstance(price,str) and price.replace(',','').isdigit():\\n        return int(price.replace(',',''))\\n    elif isinstance(price,int):\\n        return price\\n    else:\\n        return 0\\nprint(parse_int('12,000'),parse_int(32000),parse_int('ㅁ'),parse_int(None))\",\n",
       "  \"# 람다식으로\\npsrse_int= lambda price :\\\\\\n                        int(price.replace(',','')) if isinstance(price,str) and price.replace(',','').isdigit() else\\\\\\n                        price if isinstance(price,int): else 0\\n\\nprint(parse_int('12,000'),parse_int(32000),parse_int('ㅁ'),parse_int(None))\",\n",
       "  \"# 람다식으로\\npsrse_int= lambda price :\\\\\\n                        int(price.replace(',','')) if isinstance(price,str) and price.replace(',','').isdigit() else\\\\\\n                        price if isinstance(price,int) else 0\\n\\nprint(parse_int('12,000'),parse_int(32000),parse_int('ㅁ'),parse_int(None))\",\n",
       "  \"# 람다식으로\\npsrse_int= lambda price :\\\\\\n                        int(price.replace(',','')) if isinstance(price,str) and price.replace(',','').isdigit() else\\\\\\n                        price if isinstance(price,int) else 0\\n\\nprint(parse_int('12,000'),parse_int(32000),parse_int('ㅁ'),parse_int(None))\",\n",
       "  \"psrse_int= lambda book :\\\\\\n                        int(book.get('price').replace(',','')) if isinstance(price,str) and book.get('price').replace(',','').isdigit() else\\\\\\n                        book.get('price') if isinstance(book.get('price'),int) else 0\\nprrse_int({'no': 5, 'title': '가격이숫자', 'writer': '백난도', 'price': 30200})\",\n",
       "  \"# 람다식으로\\nparse_int= lambda price :\\\\\\n                        int(price.replace(',','')) if isinstance(price,str) and price.replace(',','').isdigit() else\\\\\\n                        price if isinstance(price,int) else 0\\n\\nprint(parse_int('12,000'),parse_int(32000),parse_int('ㅁ'),parse_int(None))\",\n",
       "  \"parse_int= lambda book :\\\\\\n                        int(book.get('price').replace(',','')) if isinstance(price,str) and book.get('price').replace(',','').isdigit() else\\\\\\n                        book.get('price') if isinstance(book.get('price'),int) else 0\\nparse_int({'no': 5, 'title': '가격이숫자', 'writer': '백난도', 'price': 30200})\",\n",
       "  \"parse_int= lambda book :\\\\\\n                        int(book.get('price').replace(',','')) if isinstance(book.get('price'),str) and book.get('price').replace(',','').isdigit() else\\\\\\n                        book.get('price') if isinstance(book.get('price'),int) else 0\\nparse_int({'no': 5, 'title': '가격이숫자', 'writer': '백난도', 'price': 30200})\",\n",
       "  \"parse_int= lambda book :\\\\\\n                        int(book.get('price').replace(',','')) if isinstance(book.get('price'),str)\\\\\\n                        and book.get('price').replace(',','').isdigit() else\\\\\\n                        book.get('price') if isinstance(book.get('price'),int) else 0\\nparse_int({'no': 5, 'title': '가격이숫자', 'writer': '백난도', 'price': 30200})\",\n",
       "  \"copyBooks = book.copy() # 복제\\ncopyBooks.sort(key=lambda book :\\\\\\n                        int(book.get('price').replace(',','')) if isinstance(book.get('price'),str)\\\\\\n                        and book.get('price').replace(',','').isdigit() else\\\\\\n                        book.get('price') if isinstance(book.get('price'),int) else 0,\\n              reverse=True)\\ncopyBooks\",\n",
       "  \"copyBooks = books.copy() # 복제\\ncopyBooks.sort(key=lambda book :\\\\\\n                        int(book.get('price').replace(',','')) if isinstance(book.get('price'),str)\\\\\\n                        and book.get('price').replace(',','').isdigit() else\\\\\\n                        book.get('price') if isinstance(book.get('price'),int) else 0,\\n              reverse=True)\\ncopyBooks\",\n",
       "  \"# price기준으로 sort\\nbooks.sort(key=lambda data : data.get('price,0'))\\nbooks\",\n",
       "  'glovals()',\n",
       "  'globals()',\n",
       "  'a=10',\n",
       "  'globals()'],\n",
       " '_oh': {1: 8,\n",
       "  6: '홀수',\n",
       "  7: ('홀수', '짝수'),\n",
       "  8: ('홀수', '짝수'),\n",
       "  9: ('홀수', '짝수'),\n",
       "  10: ('홀수', '짝수'),\n",
       "  11: ('홀수', '짝수'),\n",
       "  12: ('짝수', '홀수'),\n",
       "  13: 4,\n",
       "  14: 10,\n",
       "  15: 4,\n",
       "  16: 10,\n",
       "  17: 4,\n",
       "  18: (4, 4),\n",
       "  20: (1000, 'negative'),\n",
       "  24: ('재시험', '유효하지 않음'),\n",
       "  25: ('재시험', 'B팀'),\n",
       "  28: 'B팀',\n",
       "  29: ('D학점', '유효하지 않음'),\n",
       "  30: (-1, 2),\n",
       "  31: (-1, 2),\n",
       "  35: [25, 15, 100, 4.0],\n",
       "  36: [10, 6, 16, 4.0],\n",
       "  37: [64, 82],\n",
       "  38: 5,\n",
       "  39: [10, 6, 16, 4.0, 64],\n",
       "  42: [1, 2, 3],\n",
       "  44: [2, 4, 6, 8, 10, 12, 14, 16, 18],\n",
       "  45: [2, 4, 6, 8, 10, 12, 14, 16, 18],\n",
       "  47: [2, 4, 6, 8, 10, 12, 14, 16, 18],\n",
       "  48: <map at 0x16cbcaa0a00>,\n",
       "  49: [2, 4, 6, 8, 10, 12, 14, 16, 18],\n",
       "  52: ['5,000', '5000', '6,000', '1000', '5,000', '5000', '6,000', '1000'],\n",
       "  53: 5000,\n",
       "  54: <map at 0x16cbb783970>,\n",
       "  55: [5000, 5000, 6000, 1000, 5000, 5000, 6000, 1000],\n",
       "  59: ['2000', '01', '01'],\n",
       "  61: {'year': 2000, 'month': 1, 'day': 1},\n",
       "  62: {'year': 2000, 'month': 1, 'day': 1},\n",
       "  63: {'year': 2000, 'month': 1, 'day': 1},\n",
       "  64: {'year': 2000, 'month': 1, 'day': 1},\n",
       "  66: {'year': 2000, 'month': 1, 'day': 1},\n",
       "  67: {'name': '홍길동', 'year': 2000, 'month': 1, 'day': 1},\n",
       "  69: {'name': '홍길동', 'year': 2000, 'month': 1, 'day': 1},\n",
       "  71: {'name': '홍길동', 'year': 2000, 'month': 1, 'day': 1},\n",
       "  72: {'name': '홍길동', 'year': 2000, 'month': 1, 'day': 1},\n",
       "  75: {'name': '홍길동', 'year': 2000, 'month': 1, 'day': 1},\n",
       "  85: [{'name': '홍길동', 'year': 2000, 'month': 1, 'day': 1},\n",
       "   {'name': '신길동', 'year': 1995, 'month': 12, 'day': 18}],\n",
       "  86: [{'name': '홍길동', 'birth': '2000-01-01'},\n",
       "   {'name': '신길동', 'birth': '1995-12-18'}],\n",
       "  87: {'name': '홍길동', 'year': 2000, 'month': 1, 'day': 1},\n",
       "  88: [{'name': '홍길동', 'year': 2000, 'month': 1, 'day': 1},\n",
       "   {'name': '신길동', 'year': 1995, 'month': 12, 'day': 18}],\n",
       "  89: [{'name': '홍길동', 'birth': '2000-01-01'},\n",
       "   {'name': '신길동', 'birth': '1995-12-18'}],\n",
       "  90: '2000-1-1',\n",
       "  91: '2000-1-1',\n",
       "  93: '2000-01- 1',\n",
       "  94: '2000-01-01',\n",
       "  95: '2000-01-11',\n",
       "  96: '2000-01-11',\n",
       "  97: '홍 2000-01-11',\n",
       "  98: {'birth': '2000-01-11'},\n",
       "  101: {'name': '{name}', 'birth': '2000-01-11'},\n",
       "  104: {'name': '{name}', 'birth': '2000-01-11'},\n",
       "  105: {'name': '{name}', 'birth': '2000-01-11'},\n",
       "  108: {'name': 'name', 'birth': '2000-01-11'},\n",
       "  110: {'name': '{name}', 'birth': '2000-01-11'},\n",
       "  111: {'name': '홍길동', 'birth': '2000-01-11'},\n",
       "  112: {'name': '홍길동', 'birth': '2000-01-11'},\n",
       "  114: {'birth': '2000-01-11'},\n",
       "  118: '2000-01-11',\n",
       "  119: {'name': 'hong', 'birth': '2000-01-11'},\n",
       "  120: [{'name': '홍길동', 'birth': '2000-01-01'},\n",
       "   {'name': '신길동', 'birth': '1995-12-18'}],\n",
       "  121: [{'name': '홍길동', 'birth': '2000-01-01'},\n",
       "   {'name': '신길동', 'birth': '1995-12-18'}],\n",
       "  122: [{'name': '홍길동', 'year': 2000, 'month': 1, 'day': 1},\n",
       "   {'name': '신길동', 'year': 1995, 'month': 12, 'day': 18}],\n",
       "  123: [{'name': '홍길동', 'birth': '2000-01-01'},\n",
       "   {'name': '신길동', 'birth': '1995-12-18'}],\n",
       "  126: [1, 3, 5, 7, 9],\n",
       "  127: [1, 3, 5, 7, 9],\n",
       "  128: [1, 3, 5, 7, 9],\n",
       "  129: [1, 3, 5, 7, 9],\n",
       "  130: [1, 3, 5, 7, 9],\n",
       "  132: [1.2, 1.5, 10.5],\n",
       "  133: [1, 3.0, 100],\n",
       "  134: [100],\n",
       "  135: [1, 3.0, 100],\n",
       "  136: [100],\n",
       "  137: [1, 3.0, 100],\n",
       "  141: [1, 3.0, 100, -2.0],\n",
       "  142: [1, 3.0, 100, -2.0],\n",
       "  143: [1, 3, 6, 10],\n",
       "  144: [10, 6, 3, 1],\n",
       "  145: [(2, 'two'), (3, 'three'), (1, 'one'), (4, 'four')],\n",
       "  147: [(2, 'two'), (3, 'three'), (1, 'one'), (4, 'four')],\n",
       "  148: [(2, 'two'), (3, 'three'), (1, 'one'), (4, 'four')],\n",
       "  150: [[1, 100], [9, 9], [10, 1]],\n",
       "  151: [[1, 100], [9, 9], [10, 1], [6, 4]],\n",
       "  152: [[1, 100], [9, 9], [10, 1], [6, 4]],\n",
       "  153: [[10, 200], [1, 100], [9, 9], [6, 4]],\n",
       "  154: [[10, 200], [1, 100], [9, 9]],\n",
       "  155: [[10, 200], [1, 100], [9, 9]],\n",
       "  159: [{'name': '김', 'score': 50},\n",
       "   {'name': '박', 'score': 77},\n",
       "   {'score': 100},\n",
       "   {'name': '홍', 'score': 99}],\n",
       "  160: [{'name': '김', 'score': 50},\n",
       "   {'name': '박', 'score': 77},\n",
       "   {'name': '홍', 'score': 99},\n",
       "   {'score': 100}],\n",
       "  161: [{'name': '김', 'score': 50},\n",
       "   {'name': '박', 'score': 77},\n",
       "   {'name': '홍', 'score': 99},\n",
       "   {'score': 100}],\n",
       "  162: [{'score': 100},\n",
       "   {'name': '홍', 'score': 99},\n",
       "   {'name': '박', 'score': 77},\n",
       "   {'name': '김', 'score': 50}],\n",
       "  163: [{'score': 100},\n",
       "   {'name': '홍', 'score': 99},\n",
       "   {'name': '박', 'score': 77},\n",
       "   {'name': '김', 'score': 50}],\n",
       "  164: [{'score': 100},\n",
       "   {'name': '홍', 'score': 99},\n",
       "   {'name': '박', 'score': 77},\n",
       "   {'name': '김', 'score': 50}],\n",
       "  165: [{'no': 1, 'title': '더트릭컬', 'writer': '폴빠', 'price': '19,800'},\n",
       "   {'no': 2, 'title': '흔한남매', 'writer': '백난도', 'price': '15,120'},\n",
       "   {'no': 3, 'title': '단 한 번의 삶', 'writer': '김영하', 'price': '15,120'},\n",
       "   {'no': 4, 'title': '가격잘못', 'writer': '홍길동', 'price': 'ㅁ'},\n",
       "   {'no': 5, 'title': '가격이숫자', 'writer': '백난도', 'price': 30200},\n",
       "   {'no': 6, 'title': '가격이없음', 'writer': '이길동'}],\n",
       "  167: [{'no': 1, 'title': '더트릭컬', 'writer': '폴빠', 'price': '19,800'},\n",
       "   {'no': 2, 'title': '흔한남매', 'writer': '백난도', 'price': '15,120'},\n",
       "   {'no': 3, 'title': '단 한 번의 삶', 'writer': '김영하', 'price': '15,120'},\n",
       "   {'no': 4, 'title': '가격잘못', 'writer': '홍길동', 'price': 'ㅁ'},\n",
       "   {'no': 5, 'title': '가격이숫자', 'writer': '백난도', 'price': 30200},\n",
       "   {'no': 6, 'title': '가격이없음', 'writer': '이길동'}],\n",
       "  169: [{'no': 1, 'title': '더트릭컬', 'writer': '폴빠', 'price': '19,800'},\n",
       "   {'no': 2, 'title': '흔한남매', 'writer': '백난도', 'price': '15,120'},\n",
       "   {'no': 3, 'title': '단 한 번의 삶', 'writer': '김영하', 'price': '15,120'},\n",
       "   {'no': 4, 'title': '가격잘못', 'writer': '홍길동', 'price': 'ㅁ'},\n",
       "   {'no': 5, 'title': '가격이숫자', 'writer': '백난도', 'price': 30200},\n",
       "   {'no': 6, 'title': '가격이없음', 'writer': '이길동'}],\n",
       "  171: [{'no': 5, 'title': '가격이숫자', 'writer': '백난도', 'price': 30200},\n",
       "   {'no': 6, 'title': '가격이없음', 'writer': '이길동'},\n",
       "   {'no': 4, 'title': '가격잘못', 'writer': '홍길동', 'price': 'ㅁ'},\n",
       "   {'no': 3, 'title': '단 한 번의 삶', 'writer': '김영하', 'price': '15,120'},\n",
       "   {'no': 2, 'title': '더트릭컬', 'writer': '폴빠', 'price': '19,800'},\n",
       "   {'no': 1, 'title': '흔한남매', 'writer': '백난도', 'price': '15,120'}],\n",
       "  172: [{'no': 5, 'title': '가격이숫자', 'writer': '백난도', 'price': 30200},\n",
       "   {'no': 6, 'title': '가격이없음', 'writer': '이길동'},\n",
       "   {'no': 4, 'title': '가격잘못', 'writer': '홍길동', 'price': 'ㅁ'},\n",
       "   {'no': 3, 'title': '단 한 번의 삶', 'writer': '김영하', 'price': '15,120'},\n",
       "   {'no': 2, 'title': '더트릭컬', 'writer': '폴빠', 'price': '19,800'},\n",
       "   {'no': 1, 'title': '흔한남매', 'writer': '백난도', 'price': '15,120'}],\n",
       "  185: 12000,\n",
       "  188: 12000,\n",
       "  197: 30200,\n",
       "  198: 30200,\n",
       "  200: [{'no': 5, 'title': '가격이숫자', 'writer': '백난도', 'price': 30200},\n",
       "   {'no': 2, 'title': '더트릭컬', 'writer': '폴빠', 'price': '19,800'},\n",
       "   {'no': 3, 'title': '단 한 번의 삶', 'writer': '김영하', 'price': '15,120'},\n",
       "   {'no': 1, 'title': '흔한남매', 'writer': '백난도', 'price': '15,120'},\n",
       "   {'no': 6, 'title': '가격이없음', 'writer': '이길동'},\n",
       "   {'no': 4, 'title': '가격잘못', 'writer': '홍길동', 'price': 'ㅁ'}],\n",
       "  203: {...}},\n",
       " '_dh': [WindowsPath('C:/ai/source/01_python')],\n",
       " 'In': ['',\n",
       "  'def add(a,b):\\n    return a+b\\nadd(3,5)',\n",
       "  'def add(a,b):\\n    return a+b\\nprint(add(3,5))\\nprint(add)',\n",
       "  'def add(a,b):\\n    return a+b\\nprint(add(3,5))\\nprint(type(add))',\n",
       "  'add2 = lambda a, b : a + b\\nprint(add2(3,4))',\n",
       "  'add2 = lambda a, b : a + b\\nprint(add2(3,4))\\nprint(type(add2))',\n",
       "  '# ex1. 매개변수로 들어온 값이 짝수인진 홀수인지 return하는 함수를 람다식으로\\ndef even_odd_chk(num):\\n    if num%2:\\n        result=\"홀수\"\\n    else:\\n        result=\"짝수\"\\n    return result\\neven_odd_chk(5)',\n",
       "  '# ex1. 매개변수로 들어온 값이 짝수인진 홀수인지 return하는 함수를 람다식으로\\ndef even_odd_chk(num):\\n    if num%2:\\n        result=\"홀수\"\\n    else:\\n        result=\"짝수\"\\n    return result\\neven_odd_chk(5), even_odd_chk(-4)',\n",
       "  '# ex1. 매개변수로 들어온 값이 짝수인진 홀수인지 return하는 함수를 람다식으로\\ndef even_odd_chk(num):\\n#     if num%2:\\n#         result=\"홀수\"\\n#     else:\\n#         result=\"짝수\"\\n    result =\"홀수\" if num%2 else \"짝수\"\\n    return result\\neven_odd_chk(5), even_odd_chk(-4)',\n",
       "  'even_odd_chk= lambda num : \"홀수\" if num%2 else \"짝수\"\\neven_odd_chk(5), even_odd_chk(-4)',\n",
       "  '# ex1. 매개변수로 들어온 값이 짝수인진 홀수인지 return하는 함수를 람다식으로\\ndef even_odd_chk(num):\\n#     if num%2:\\n#         result=\"홀수\"\\n#     else:\\n#         result=\"짝수\"\\n    result =\"홀수\" if num%2 else \"짝수\"\\n    return result\\neven_odd_chk(5), even_odd_chk(-4)',\n",
       "  'even_odd_chk2= lambda num : \"홀수\" if num%2 else \"짝수\"\\neven_odd_chk2(5), even_odd_chk2(-4)',\n",
       "  'even_odd_chk2= lambda num : \"홀수\" if num%2 else \"짝수\"\\neven_odd_chk2(6), even_odd_chk2(-3)',\n",
       "  '# ex2. 두 매개변수의  차이를 return하는 함수를 람다식으로\\nabs_=lambda a,b : abs(a-b)\\nabs_(3,7)',\n",
       "  '# ex2. 두 매개변수의  차이를 return하는 함수를 람다식으로\\nabs_=lambda a,b : abs(a-b)\\nabs_(3,-7)',\n",
       "  '# ex2. 두 매개변수의  차이를 return하는 함수를 람다식으로\\nabs_=lambda a,b : abs(a-b)\\nabs_(3,7)',\n",
       "  '# ex2. 두 매개변수의  차이를 return하는 함수를 람다식으로\\nabs_ = lambda a,b : abs(a-b)\\nabs_(-3,7)',\n",
       "  '# ex2. 두 매개변수의  차이를 return하는 함수를 람다식으로\\nabs_ = lambda a,b : abs(a-b)\\nabs_(-3,7)\\nabs_2 = lambda a,b : a - b if a > b else b - a\\nabs_2(7,3)',\n",
       "  '# ex2. 두 매개변수의  차이를 return하는 함수를 람다식으로\\nabs_ = lambda a,b : abs(a-b)\\nabs_(-3,7)\\nabs_2 = lambda a,b : a - b if a > b else b - a\\nabs_2(7,3), abs_2(3,7)',\n",
       "  'from IPython.display import display, HTML\\ndisplay(HTML(\"\"\"\\n<style>\\ndiv.container{width:90% ! important;}\\ndiv.cell.code_cell.rendered{width:100%}\\ndiv.input_prompt{padding:0px}\\ndiv.CodeMirror {font-family:Consolas ; font-size:12pt;}\\ndiv.text_cell_render.rendered_html {font-size:12pt;}\\ndiv.output {font-size:12pt; font-weight:bold}\\ndiv.input {font-family:Consolas ; font-size:12pt;}\\ndiv.prompt {min-width:70px;}\\ndiv#toc-wrapper {padding-top:120px;}\\ndiv.text_cell_render ul li{font-size:12pt;padding:5px;}\\ntable.dataframe{font-size:12px;}\\n</style>\\n\"\"\"))',\n",
       "  \"# ex3. 매개변수로 잔액을 받아, 잔액이 0 이상이면 잔액을 return, 음수면 'negative'를 return\\nex3 = lambda balance : balance if balance > 0 else 'negative' \\nex3(1000),ex3(-1000)\",\n",
       "  \"# ex4. 점수를 입력받아 80점 이상은 'A팀', 60점 이상은 'B팀', 60점 미만은 '재시험'\\n        #100점 초과, 0점 미만은 '유효하지 않음'을 return\\ndef levelChk(score):\\n    if 80<=score<=100:\\n        return 'A팀'\\n    elif 60<=score<80:\\n        return 'B팀'\\n    elif 0<=score<60:\\n        return '재시험'\\n    else:\\n        return '유효하지 않음'\\n    \\n    ex4 = lambda score : 'A팀' if 80<=score<=100 else \\\\\\n                        'B팀' if 60<=score<80 else \\\\\\n                        '재시험' if 0<=score<60 else \\\\\\n                        '유효하지 않음'\\n    levelChk(8),ex4(160)\",\n",
       "  \"# ex4. 점수를 입력받아 80점 이상은 'A팀', 60점 이상은 'B팀', 60점 미만은 '재시험'\\n        #100점 초과, 0점 미만은 '유효하지 않음'을 return\\ndef levelChk(score):\\n    if 80<=score<=100:\\n        return 'A팀'\\n    elif 60<=score<80:\\n        return 'B팀'\\n    elif 0<=score<60:\\n        return '재시험'\\n    else:\\n        return '유효하지 않음'\\n    \\n    ex4 = lambda score : 'A팀' if 80<=score<=100 else \\\\\\n                        'B팀' if 60<=score<80 else \\\\\\n                        '재시험' if 0<=score<60 else \\\\\\n                        '유효하지 않음'\\n    levelChk(8),ex4(160)\",\n",
       "  \"# ex4. 점수를 입력받아 80점 이상은 'A팀', 60점 이상은 'B팀', 60점 미만은 '재시험'\\n        #100점 초과, 0점 미만은 '유효하지 않음'을 return\\ndef levelChk(score):\\n    if 80<=score<=100:\\n        return 'A팀'\\n    elif 60<=score<80:\\n        return 'B팀'\\n    elif 0<=score<60:\\n        return '재시험'\\n    else:\\n        return '유효하지 않음'\\n    \\n    ex4 = lambda score : 'A팀' if 80<=score<=100 else \\\\\\n                        'B팀' if 60<=score<80 else \\\\\\n                        '재시험' if 0<=score<60 else \\\\\\n                        '유효하지 않음'\\nlevelChk(8),ex4(160)\",\n",
       "  \"# ex4. 점수를 입력받아 80점 이상은 'A팀', 60점 이상은 'B팀', 60점 미만은 '재시험'\\n        #100점 초과, 0점 미만은 '유효하지 않음'을 return\\ndef levelChk(score):\\n    if 80<=score<=100:\\n        return 'A팀'\\n    elif 60<=score<80:\\n        return 'B팀'\\n    elif 0<=score<60:\\n        return '재시험'\\n    else:\\n        return '유효하지 않음'\\n    \\nex4 = lambda score : 'A팀' if 80<=score<=100 else \\\\\\n                    'B팀' if 60<=score<80 else \\\\\\n                    '재시험' if 0<=score<60 else \\\\\\n                    '유효하지 않음'\\nlevelChk(8),ex4(160)\",\n",
       "  \"# ex4. 점수를 입력받아 80점 이상은 'A팀', 60점 이상은 'B팀', 60점 미만은 '재시험'\\n        #100점 초과, 0점 미만은 '유효하지 않음'을 return\\ndef levelChk(score):\\n    if 80<=score<=100:\\n        return 'A팀'\\n    elif 60<=score<80:\\n        return 'B팀'\\n    elif 0<=score<60:\\n        return '재시험'\\n    else:\\n        return '유효하지 않음'\\n    \\nex4 = lambda score : 'A팀' if 80<=score<=100 else \\\\\\n                    'B팀' if 60<=score<80 else \\\\\\n                    '재시험' if 0<=score<60 else \\\\\\n                    '유효하지 않음'\\nlevelChk(8),ex4(75)\",\n",
       "  \"# 점수를 입력받아 학점을 return\\nscore_grade = lambda score: 'A팀' if 80<=score<=100 else \\\\\\n                            'B팀' if 60<=score<80 else \\\\\\n                            '재시험' if 0<=score<60 else \\\\\\n                            '유효하지 않음'\\nscore_grade(input('0~100 사이의 점수를 입력하세요'))\",\n",
       "  \"# 점수를 입력받아 학점을 return\\nscore_grade = lambda score: 'A팀' if 80<=score<=100 else \\\\\\n                            'B팀' if 60<=score<80 else \\\\\\n                            '재시험' if 0<=score<60 else \\\\\\n                            '유효하지 않음'\\nscore_grade(int(input('0~100 사이의 점수를 입력하세요'))\",\n",
       "  \"# 점수를 입력받아 학점을 return\\nscore_grade = lambda score: 'A팀' if 80<=score<=100 else \\\\\\n                            'B팀' if 60<=score<80 else \\\\\\n                            '재시험' if 0<=score<60 else \\\\\\n                            '유효하지 않음'\\nscore_grade(int(input('0~100 사이의 점수를 입력하세요')))\",\n",
       "  \"# 점수를 입력받아 학점을 return\\nscore_grade = lambda score: 'A학점' if 90<=score<=100 else \\\\\\n                            'B학점' if 80<=score<90 else \\\\\\n                            'C학점' if 70<=score<80 else \\\\\\n                            'D학점' if 60<=score<70 else \\\\\\n                            'F학점' if 0<=score<60 else \\\\\\n                            '유효하지 않음'\\nscore_grade(60), score_grade(120)\",\n",
       "  '# ex5. safe_index 함수를 람다식으로\\ndef safe_index(lst,item,start=0):\\n\\n    return lst.index(item,start) if item in lst[start:] else -1\\n\\nex5 = lambda lst, item,start=0 : lst.index(item,start) if item in lst[start:] else -1\\nlst = [1,2,3]\\nsafe_index(lst,4), ex5(lst,3,1)',\n",
       "  '# ex5. safe_index 함수를 람다식으로\\ndef safe_index(lst,item,start=0):\\n\\n    return lst.index(item,start) if item in lst[start:] else -1\\n\\nex5 = lambda lst, item,start=0 : lst.index(item,start) if item in lst[start:] else -1\\nlst = [3,2,3]\\nsafe_index(lst,4), ex5(lst,3,1)',\n",
       "  \"# 람다식도 list에 들어갈 수 있음\\nadd = lambda a, b : a + b\\nsub = lambda a, b : a - b\\nmul = lambda a, b : a * b\\ndiv = lambda a, b : a / b if b else '두번째 인자가 0이면 못 나눠요'\\noperations = [add,sub, mul, div] # 사칙연산 함수\\n\\ndef act_opperations(a, b, operations = operations): # a, b의 사칙연산 결과를 return\\n    result = []\\n    for op in operations: \\n        result.append(op(a,b))\\nact_opperations(20,5)\",\n",
       "  \"# 람다식도 list에 들어갈 수 있음\\nadd = lambda a, b : a + b\\nsub = lambda a, b : a - b\\nmul = lambda a, b : a * b\\ndiv = lambda a, b : a / b if b else '두번째 인자가 0이면 못 나눠요'\\noperations = [add,sub, mul, div] # 사칙연산 함수\\n\\ndef act_opperations(a, b, operations = operations): # a, b의 사칙연산 결과를 return\\n    result = []\\n    for op in operations: \\n        result.append(op(a,b))\\nact_opperations(20,5)\",\n",
       "  \"# 람다식도 list에 들어갈 수 있음\\nadd = lambda a, b : a + b\\nsub = lambda a, b : a - b\\nmul = lambda a, b : a * b\\ndiv = lambda a, b : a / b if b else '두번째 인자가 0이면 못 나눠요'\\noperations = [add,sub, mul, div] # 사칙연산 함수\\n\\ndef act_opperations(a, b, operations = operations): # a, b의 사칙연산 결과를 return\\n    result = []\\n    for op in operations: \\n        result.append(op(a,b))\\n    return reslut\\nact_opperations(20,5)\",\n",
       "  \"# 람다식도 list에 들어갈 수 있음\\nadd = lambda a, b : a + b\\nsub = lambda a, b : a - b\\nmul = lambda a, b : a * b\\ndiv = lambda a, b : a / b if b else '두번째 인자가 0이면 못 나눠요'\\noperations = [add,sub, mul, div] # 사칙연산 함수\\n\\ndef act_opperations(a, b, operations = operations): # a, b의 사칙연산 결과를 return\\n    result = []\\n    for op in operations: \\n        result.append(op(a,b))\\n    return result\\nact_opperations(20,5)\",\n",
       "  'act_opperations(8,2)',\n",
       "  'act_opperations(8,2,[lambda x,y: x**y, lambda x,y : 10*x + y])',\n",
       "  'operations.append(lambda x,y : x**y)\\nlen(operations)',\n",
       "  'act_opperations(8,2)',\n",
       "  'map_template(lambda a : a, [1,2,3])',\n",
       "  'def map_template(func,L=[]):\\n    result=[]\\n    for item in L:\\n        result.append(item)\\n    return result',\n",
       "  'map_template(lambda a : a, [1,2,3])',\n",
       "  'def map_template(func,L=[]):\\n    result=[]\\n    for item in L:\\n        result.append(func(item))\\n    return result',\n",
       "  '# map_template(lambda a : a, [1,2,3])\\nlist_data = [1,2,3,4,5,6,7,8,9]\\ndef x_2(x):\\n    return x*2\\nmap_template(x_2,list_data)',\n",
       "  'map_template(lambda x:x*2, list_data)',\n",
       "  '# 리스트 컴프리핸션\\n[item*2 fot item in list_data]',\n",
       "  '# 리스트 컴프리핸션\\n[item*2 for item in list_data]',\n",
       "  'map(lambda x : x*2, list_data)',\n",
       "  'list(map(lambda x : x*2, list_data))',\n",
       "  \"for data in map(lambda x:x*2, list_data):\\n    print(data,end =' ')\",\n",
       "  \"# ex1 prices = ['5,000', '5000', '6,000', '1000','5,000', '5000', '6,000', '1000’]를 [5000,5000,6000,1000]식으로 바꾸시오\\nprices = ['5,000', '5000', '6,000', '1000','5,000', '5000', '6,000', '1000']\",\n",
       "  \"# ex1 prices = ['5,000', '5000', '6,000', '1000','5,000', '5000', '6,000', '1000’]를 [5000,5000,6000,1000]식으로 바꾸시오\\nprices = ['5,000', '5000', '6,000', '1000','5,000', '5000', '6,000', '1000']\\nprices\",\n",
       "  \"# ex1 prices = ['5,000', '5000', '6,000', '1000','5,000', '5000', '6,000', '1000’]를 [5000,5000,6000,1000]식으로 바꾸시오\\nprices = ['5,000', '5000', '6,000', '1000','5,000', '5000', '6,000', '1000']\\ndef toint(value):\\n    return int(value.replace(',',''))\\n    \\ntoint('5,000')\",\n",
       "  \"# ex1 prices = ['5,000', '5000', '6,000', '1000','5,000', '5000', '6,000', '1000’]를 [5000,5000,6000,1000]식으로 바꾸시오\\nprices = ['5,000', '5000', '6,000', '1000','5,000', '5000', '6,000', '1000']\\ndef toint(value):\\n    return int(value.replace(',',''))   \\ntoint('5,000')\\n\\nmap(lambda value : int(value.replace(',','')),prices)\",\n",
       "  \"# ex1 prices = ['5,000', '5000', '6,000', '1000','5,000', '5000', '6,000', '1000’]를 [5000,5000,6000,1000]식으로 바꾸시오\\nprices = ['5,000', '5000', '6,000', '1000','5,000', '5000', '6,000', '1000']\\ndef toint(value):\\n    return int(value.replace(',',''))   \\ntoint('5,000')\\n\\nlist(map(lambda value : int(value.replace(',','')),prices))\",\n",
       "  \"# ex1 prices = ['5,000', '5000', '6,000', '1000','5,000', '5000', '6,000', '1000’]를 [5000,5000,6000,1000]식으로 바꾸시오\\nprices = ['5,000', '5000', '6,000', '1000','5,000', '5000', '6,000', '1000']\\ndef toint(value):\\n    return int(value.replace(',',''))   \\ntoint('5,000')\\n\\nprices_int=map(lambda value : int(value.replace(',','')),prices)\\nfor prices in prices_int:\\n    print(prices, end=' ')\",\n",
       "  \"# ex2. \\n'''members1 = [{'name':'홍길동', 'birth':'2000-01-01’},/\\n            {'name':'신길동', 'birth':'1995-12-18'},]를\\nmembers2 = [{'name':'홍길동', 'year':2000, 'month':1,'day':1},/\\n            {'name':'신길동', 'year':1995, 'month':12, 'day':18},] 변환'''\\nmembers1 = [{'name':'홍길동', 'birth':'2000-01-01'},/\\n            {'name':'신길동', 'birth':'1995-12-18'},]\",\n",
       "  \"# ex2. \\n'''members1 = [{'name':'홍길동', 'birth':'2000-01-01’},\\\\\\n            {'name':'신길동', 'birth':'1995-12-18'},]를\\nmembers2 = [{'name':'홍길동', 'year':2000, 'month':1,'day':1},\\\\\\n            {'name':'신길동', 'year':1995, 'month':12, 'day':18},] 변환'''\\nmembers1 = [{'name':'홍길동', 'birth':'2000-01-01'},\\\\\\n            {'name':'신길동', 'birth':'1995-12-18'},]\",\n",
       "  \"# '2000-01-01' => {'year' : 2000, 'month' : 1, 'day' : 1}\\ndef split_data(date):\\n    split_data=date.split('-')\\n    return split_data\\nsplit_data('2000-01-01')\",\n",
       "  \"# '2000-01-01' => {'year' : 2000, 'month' : 1, 'day' : 1}\\ndef split_data(date):\\n    split_data=date.split('-')\\n    return {'year' : int(split_data[0]), 'month' : int(split_data)[1], 'day' : int(split_data[2])} \\nsplit_data('2000-01-01')\",\n",
       "  \"# '2000-01-01' => {'year' : 2000, 'month' : 1, 'day' : 1}\\ndef split_data(date):\\n    split_data=date.split('-')\\n    return {'year' : int(split_data[0]), 'month' : int(split_data[1]), 'day' : int(split_data[2])} \\nsplit_data('2000-01-01')\",\n",
       "  \"# '2000-01-01' => {'year' : 2000, 'month' : 1, 'day' : 1}\\ndef split_data(date):\\n    return {'year' : int(date.split('-')[0]), \\n            'month' : int(date.split('-')[1]), \\n            'day' : int(date.split('-')[2])\\n           } \\nsplit_data('2000-01-01')\",\n",
       "  \"# '2000-01-01' => {'year' : 2000, 'month' : 1, 'day' : 1}\\ndef split_data(date):\\n    return {'year' : int(date.split('-')[0]), \\n            'month' : int(date.split('-')[1]), \\n            'day' : int(date.split('-')[2])\\n           } \\nsplit_data('2000-01-01')\",\n",
       "  \"# '2000-01-01' => {'year' : 2000, 'month' : 1, 'day' : 1}\\ndef split_data(date):\\n    split_data=date.split('-')\\n    return {'year' : int(split_data[0]), \\n            'month' : int(split_data[1]), \\n            'day' : int(split_data[2])\\n           } \\nsplit_data('2000-01-01')\",\n",
       "  \"# {'birth' : '2000-01-01'} => {'year' : 2000, 'month' : 1, 'day' : 1}\\ndef split_data(date={}):\\n    return {'year' : int(date.values.split('-')[0]) if date.key = 'birth', \\n            'month' : int(date.values.split('-')[1]) if date.key = 'birth', \\n            'day' : int(date.values.split('-')[2]) if date.key = 'birth'\\n           } \\nsplit_data({'birth':'2000-01-01'})\",\n",
       "  \"# {'birth' : '2000-01-01'} => {'year' : 2000, 'month' : 1, 'day' : 1}\\ndef split_data(date):\\n    return {'year' : int(date['birth'].split('-')[0]), \\n            'month' : int(date['birth'].split('-')[1]), \\n            'day' : int(date['birth'].split('-')[2])\\n           } \\nsplit_data({'birth':'2000-01-01'})\",\n",
       "  \"# {'name':'홍길동', 'birth':'2000-01-01’} => {'name':'홍길동', 'year':2000, 'month':1,'day':1}\\ndef split_data(date):\\n    return {'name' : date['name'],\\n            'year' : int(date['birth'].split('-')[0]), \\n            'month' : int(date['birth'].split('-')[1]), \\n            'day' : int(date['birth'].split('-')[2])\\n           } \\nsplit_data({'name':'홍길동', 'birth':'2000-01-01'})\",\n",
       "  \"# {'name':'홍길동', 'birth':'2000-01-01’} => {'name':'홍길동', 'year':2000, 'month':1,'day':1}\\ndef split_data(date):\\n    return {'name' : date['name'],\\n            'year' : int(date['birth'].split('-')[0]), \\n            'month' : int(date['birth'].split('-')[1]), \\n            'day' : int(date['birth'].split('-')[2])\\n           } \\nsplit_data({'name':'홍길동', 'birth':'2000-01-01'})\\n\\nspt_d = lambda date : 'name' : date['name'],\\\\\\n            'year' : int(date['birth'].split('-')[0]),\\\\\\n            'month' : int(date['birth'].split('-')[1]),\\\\\\n            'day' : int(date['birth'].split('-')[2])\\nspt_d({'name':'홍길동', 'birth':'2000-01-01'})\",\n",
       "  \"# {'name':'홍길동', 'birth':'2000-01-01’} => {'name':'홍길동', 'year':2000, 'month':1,'day':1}\\ndef split_data(date):\\n    return {'name' : date.get('name', '이름없음'), # date['name']- 사용해도 큰 문제는 없으나 만약 name가 없다면 error\\n            'year' : int(date.get('birth').split('-')[0]), \\n            'month' : int(date.get('birth').split('-')[1]), \\n            'day' : int(date.get('birth').split('-')[2])\\n           } \\nsplit_data({'name':'홍길동', 'birth':'2000-01-01'})\\n\\n# spt_d = lambda date : 'name' : date['name'],\\\\\\n#             'year' : int(date['birth'].split('-')[0]),\\\\\\n#             'month' : int(date['birth'].split('-')[1]),\\\\\\n#             'day' : int(date['birth'].split('-')[2])\\n# spt_d({'name':'홍길동', 'birth':'2000-01-01'})\",\n",
       "  \"# {'name':'홍길동', 'birth':'2000-01-01’} => {'name':'홍길동', 'year':2000, 'month':1,'day':1}\\nmembers1 = [{'name':'홍길동', 'birth':'2000-01-01'},\\\\\\n            {'name':'신길동', 'birth':'1995-12-18'},]\\n\\ndef split_data(date):\\n    return {'name' : date.get('name', '이름없음'), # date['name']- 사용해도 큰 문제는 없으나 만약 name가 없다면 error\\n            'year' : int(date.get('birth').split('-')[0]), \\n            'month' : int(date.get('birth').split('-')[1]), \\n            'day' : int(date.get('birth').split('-')[2])\\n           } \\nsplit_data(members1)\\n\\n# spt_d = lambda date : 'name' : date['name'],\\\\\\n#             'year' : int(date['birth'].split('-')[0]),\\\\\\n#             'month' : int(date['birth'].split('-')[1]),\\\\\\n#             'day' : int(date['birth'].split('-')[2])\\n# spt_d({'name':'홍길동', 'birth':'2000-01-01'})\",\n",
       "  \"# {'name':'홍길동', 'birth':'2000-01-01’} => {'name':'홍길동', 'year':2000, 'month':1,'day':1}\\nmembers1 = [{'name':'홍길동', 'birth':'2000-01-01'},\\\\\\n            {'name':'신길동', 'birth':'1995-12-18'},]\\n\\ndef split_data(date):\\n    return {'name' : date.get('name', '이름없음'), # date['name']- 사용해도 큰 문제는 없으나 만약 name가 없다면 error\\n            'year' : int(date.get('birth').split('-')[0]), \\n            'month' : int(date.get('birth').split('-')[1]), \\n            'day' : int(date.get('birth').split('-')[2])\\n           } \\nsplit_data({'name':'홍길동', 'birth':'2000-01-01'})\\n\\n# spt_d = lambda date : 'name' : date['name'],\\\\\\n#             'year' : int(date['birth'].split('-')[0]),\\\\\\n#             'month' : int(date['birth'].split('-')[1]),\\\\\\n#             'day' : int(date['birth'].split('-')[2])\\n# spt_d({'name':'홍길동', 'birth':'2000-01-01'})\",\n",
       "  \"# {'name':'홍길동', 'birth':'2000-01-01’} => {'name':'홍길동', 'year':2000, 'month':1,'day':1}\\nmembers1 = [{'name':'홍길동', 'birth':'2000-01-01'},\\\\\\n            {'name':'신길동', 'birth':'1995-12-18'},]\\n\\ndef members_preprocessing(date):\\n    return {'name' : date.get('name', '이름없음'), # date['name']- 사용해도 큰 문제는 없으나 만약 name가 없다면 error\\n            'year' : int(date.get('birth').split('-')[0]), \\n            'month' : int(date.get('birth').split('-')[1]), \\n            'day' : int(date.get('birth').split('-')[2])\\n           } \\nmembers_preprocessing({'name':'홍길동', 'birth':'2000-01-01'})\\n\\n# spt_d = lambda date : 'name' : date['name'],\\\\\\n#             'year' : int(date['birth'].split('-')[0]),\\\\\\n#             'month' : int(date['birth'].split('-')[1]),\\\\\\n#             'day' : int(date['birth'].split('-')[2])\\n# spt_d({'name':'홍길동', 'birth':'2000-01-01'})\",\n",
       "  'members2 = list(map())',\n",
       "  'members1 = list(map())',\n",
       "  \"# {'name':'홍길동', 'birth':'2000-01-01’} => {'name':'홍길동', 'year':2000, 'month':1,'day':1}\\nmembers2 = [{'name':'홍길동', 'birth':'2000-01-01'},\\\\\\n            {'name':'신길동', 'birth':'1995-12-18'},]\\n\\ndef members_preprocessing(date):\\n    return {'name' : date.get('name', '이름없음'), # date['name']- 사용해도 큰 문제는 없으나 만약 name가 없다면 error\\n            'year' : int(date.get('birth').split('-')[0]), \\n            'month' : int(date.get('birth').split('-')[1]), \\n            'day' : int(date.get('birth').split('-')[2])\\n           } \\nmembers_preprocessing({'name':'홍길동', 'birth':'2000-01-01'})\",\n",
       "  'members2 = list(map())',\n",
       "  \"members2 = list(map(lambda members :  {\\n                                    'name' : date.get('name', '이름없음'),\\n                                    'year' : int(date.get('birth').split('-')[0]), \\n                                    'month' : int(date.get('birth').split('-')[1]), \\n                                    'day' : int(date.get('birth').split('-')[2])\\n                                    },\\n                   , members1)\\n               ),\",\n",
       "  \"members2 = list(map(lambda members :  {\\n                                    'name' : date.get('name', '이름없음'),\\n                                    'year' : int(date.get('birth').split('-')[0]), \\n                                    'month' : int(date.get('birth').split('-')[1]), \\n                                    'day' : int(date.get('birth').split('-')[2])\\n                                    },\\n                   , members2)\\n               ),\",\n",
       "  \"members2 = list(map(lambda members :  {\\n                                    'name' : date.get('name', '이름없음'),\\n                                    'year' : int(date.get('birth').split('-')[0]), \\n                                    'month' : int(date.get('birth').split('-')[1]), \\n                                    'day' : int(date.get('birth').split('-')[2])\\n                                    },members2)\\n               ),\",\n",
       "  \"members2 = list(map(lambda date :  {\\n                                    'name' : date.get('name', '이름없음'),\\n                                    'year' : int(date.get('birth').split('-')[0]), \\n                                    'month' : int(date.get('birth').split('-')[1]), \\n                                    'day' : int(date.get('birth').split('-')[2])\\n                                    },members2)\\n               ),\",\n",
       "  \"members2 = list(map(lambda date :  {\\n                                    'name' : date.get('name', '이름없음'),\\n                                    'year' : int(date.get('birth').split('-')[0]), \\n                                    'month' : int(date.get('birth').split('-')[1]), \\n                                    'day' : int(date.get('birth').split('-')[2])\\n                                    },members2)\\n               ),\",\n",
       "  \"members2 = list(map(lambda data :  {\\n                                    'name' : data.get('name', '이름없음'),\\n                                    'year' : int(data.get('birth').split('-')[0]), \\n                                    'month' : int(data.get('birth').split('-')[1]), \\n                                    'day' : int(data.get('birth').split('-')[2])\\n                                    },members2)\\n               ),\",\n",
       "  \"members2 = list(map(lambda data :  {\\n                                    'name' : data.get('name', '이름없음'),\\n                                    'year' : int(data.get('birth').split('-')[0]), \\n                                    'month' : int(data.get('birth').split('-')[1]), \\n                                    'day' : int(data.get('birth').split('-')[2])\\n                                    },members1)\\n               )\",\n",
       "  \"members2 = list(map(lambda data :  {\\n                                    'name' : data.get('name', '이름없음'),\\n                                    'year' : int(data.get('birth').split('-')[0]), \\n                                    'month' : int(data.get('birth').split('-')[1]), \\n                                    'day' : int(data.get('birth').split('-')[2])\\n                                    },members1)\\n               )\",\n",
       "  \"members2 = list(map(lambda data :  {\\n                                    'name' : data.get('name', '이름없음'),\\n                                    'year' : int(data.get('birth').split('-')[0]), \\n                                    'month' : int(data.get('birth').split('-')[1]), \\n                                    'day' : int(data.get('birth').split('-')[2])\\n                                    },members1)\\n               )\\nmembers2\",\n",
       "  \"'''\\n예제3. members2를 members1으로 전환'''\\nmembers1\",\n",
       "  \"# {'name':'홍길동', 'birth':'2000-01-01’} => {'name':'홍길동', 'year':2000, 'month':1,'day':1}\\nmembers1 = [{'name':'홍길동', 'birth':'2000-01-01'},\\\\\\n            {'name':'신길동', 'birth':'1995-12-18'},]\\n\\ndef members_preprocessing(date):\\n    return {'name' : date.get('name', '이름없음'), # date['name']- 사용해도 큰 문제는 없으나 만약 name가 없다면 error\\n            'year' : int(date.get('birth').split('-')[0]), \\n            'month' : int(date.get('birth').split('-')[1]), \\n            'day' : int(date.get('birth').split('-')[2])\\n           } \\nmembers_preprocessing({'name':'홍길동', 'birth':'2000-01-01'})\",\n",
       "  \"members2 = list(map(lambda data :  {\\n                                    'name' : data.get('name', '이름없음'),\\n                                    'year' : int(data.get('birth').split('-')[0]), \\n                                    'month' : int(data.get('birth').split('-')[1]), \\n                                    'day' : int(data.get('birth').split('-')[2])\\n                                    },members1)\\n               )\\nmembers2\",\n",
       "  \"'''\\n예제3. members2를 members1으로 전환\\n'''\\n\\nmembers1\",\n",
       "  \"# {'year': 2000, 'month': 1, 'day': 1} => '2000-01-01'\\ndef join_data(data):\\n    return '{}-{}-{}'.format(data.get('year'),data.get('month'),data.get('day'))\\njoin_data({'year': 2000, 'month': 1, 'day': 1})\",\n",
       "  \"# {'year': 2000, 'month': 1, 'day': 1} => '2000-01-01'\\ndef join_data(data):\\n    return '{}-{:00}-{:00}'.format(data.get('year'),data.get('month'),data.get('day'))\\njoin_data({'year': 2000, 'month': 1, 'day': 1})\",\n",
       "  \"# {'year': 2000, 'month': 1, 'day': 1} => '2000-01-01'\\ndef join_data(data):\\n    return '{}-{:'0'2}-{:2}'.format(data.get('year'),data.get('month'),data.get('day'))\\njoin_data({'year': 2000, 'month': 1, 'day': 1})\",\n",
       "  \"# {'year': 2000, 'month': 1, 'day': 1} => '2000-01-01'\\ndef join_data(data):\\n    return '{}-{:02}-{:2}'.format(data.get('year'),data.get('month'),data.get('day'))\\njoin_data({'year': 2000, 'month': 1, 'day': 1})\",\n",
       "  \"# {'year': 2000, 'month': 1, 'day': 1} => '2000-01-01'\\ndef join_data(data):\\n    return '{}-{:02}-{:02}'.format(data.get('year'),data.get('month'),data.get('day'))\\njoin_data({'year': 2000, 'month': 1, 'day': 1})\",\n",
       "  \"# {'year': 2000, 'month': 1, 'day': 1} => '2000-01-01'\\ndef join_data(data):\\n    return '{}-{:02}-{:02}'.format(data.get('year'),data.get('month'),data.get('day'))\\njoin_data({'year': 2000, 'month': 1, 'day': 11})\",\n",
       "  \"# {'year': 2000, 'month': 1, 'day': 1} => '2000-01-01'\\ndef join_data(data):\\n    return '{year}-{month:02}-{day:02}'.format(**data)\\njoin_data({'year': 2000, 'month': 1, 'day': 11})\",\n",
       "  \"def join_data(data):\\n    return '{name} {year}-{month:02}-{day:02}'.format(**data)\\njoin_data({'name':'홍','year': 2000, 'month': 1, 'day': 11})\",\n",
       "  \"# {'year': 2000, 'month': 1, 'day': 1} => '2000-01-01'\\ndef join_data(data):\\n    return {'birth':'{year}-{month:02}-{day:02}'.format(**data)}\\njoin_data({'year': 2000, 'month': 1, 'day': 11})\",\n",
       "  \"def join_data(data):\\n    return {'name':'{name}, 'birth': {year}-{month:02}-{day:02}'.format(**data)}\\njoin_data({'name':'홍','year': 2000, 'month': 1, 'day': 11})\",\n",
       "  \"def join_data(data):\\n    return {'name':{name}, 'birth': {year}-{month:02}-{day:02}'.format(**data)}\\njoin_data({'name':'홍','year': 2000, 'month': 1, 'day': 11})\",\n",
       "  \"def join_data(data):\\n    return {'name':'{name}', 'birth': '{year}-{month:02}-{day:02}'.format(**data)}\\njoin_data({'name':'홍','year': 2000, 'month': 1, 'day': 11})\",\n",
       "  \"def join_data(data):\\n    return {'name':{name}, 'birth': '{year}-{month:02}-{day:02}'.format(**data)}\\njoin_data({'name':'홍','year': 2000, 'month': 1, 'day': 11})\",\n",
       "  \"def join_data(data):\\n    return {'name':'{name}'', 'birth': '{year}-{month:02}-{day:02}'.format(**data)}\\njoin_data({'name':'홍','year': 2000, 'month': 1, 'day': 11})\",\n",
       "  \"def join_data(data):\\n    return {'name':'{name}', 'birth': '{year}-{month:02}-{day:02}'.format(**data)}\\njoin_data({'name':'홍','year': 2000, 'month': 1, 'day': 11})\",\n",
       "  \"def join_data(data):\\n    return {'name':'{name}', 'birth': '{year}-{month:02}-{day:02}'.format(**data)}\\njoin_data({'name':'홍','year': 2000, 'month': 1, 'day': 11})\",\n",
       "  \"def join_data(data):\\n    return {'name:{name}', 'birth': '{year}-{month:02}-{day:02}'.format(**data)}\\njoin_data({'name':'홍길동','year': 2000, 'month': 1, 'day': 11})\",\n",
       "  \"def join_data(data):\\n    return {'name': name, 'birth': '{year}-{month:02}-{day:02}'.format(**data)}\\njoin_data({'name':'홍길동','year': 2000, 'month': 1, 'day': 11})\",\n",
       "  \"def join_data(data):\\n    return {'name': 'name', 'birth': '{year}-{month:02}-{day:02}'.format(**data)}\\njoin_data({'name':'홍길동','year': 2000, 'month': 1, 'day': 11})\",\n",
       "  \"def join_data(data):\\n    return {'name': {name}, 'birth': '{year}-{month:02}-{day:02}'.format(**data)}\\njoin_data({'name':'홍길동','year': 2000, 'month': 1, 'day': 11})\",\n",
       "  \"def join_data(data):\\n    return {'name': '{name}', 'birth': '{year}-{month:02}-{day:02}'.format(**data)}\\njoin_data({'name':'홍길동','year': 2000, 'month': 1, 'day': 11})\",\n",
       "  \"def join_data(data):\\n    return {'name': data.get('name', '이름없음'), 'birth': '{year}-{month:02}-{day:02}'.format(**data)}\\njoin_data({'name':'홍길동','year': 2000, 'month': 1, 'day': 11})\",\n",
       "  \"mem_set= lambda data :  {'name': data.get('name', '이름없음'), 'birth': '{year}-{month:02}-{day:02}'.format(**data)}\\n\\nmem_set({'name':'홍길동','year': 2000, 'month': 1, 'day': 11})\",\n",
       "  \"# {'year': 2000, 'month': 1, 'day': 1} => '2000-01-01'\\ndef join_data(data):\\n    return '{}-{:02}-{:02}'.format(year=data.get('year'),month=data.get('month'),day=data.get('day'))\\njoin_data({'year': 2000, 'month': 1, 'day': 11})\",\n",
       "  \"# {'year': 2000, 'month': 1, 'day': 1} => '2000-01-01'\\ndef join_data(data):\\n    return {'birth':'{year}-{month:02}-{day:02}'.format(**data)}\\njoin_data({'year': 2000, 'month': 1, 'day': 11})\",\n",
       "  \"# {'year': 2000, 'month': 1, 'day': 1} => '2000-01-01'\\ndef join_data(data):\\n    return '{}-{:02}-{:02}'.format{year=data.get('year'),month=data.get('month'),day=data.get('day')}\\njoin_data({'year': 2000, 'month': 1, 'day': 11})\",\n",
       "  \"# {'year': 2000, 'month': 1, 'day': 1} => '2000-01-01'\\ndef join_data(data):\\n    return '{}-{:02}-{:02}'.format({year=data.get('year'),month=data.get('month'),day=data.get('day')})\\njoin_data({'year': 2000, 'month': 1, 'day': 11})\",\n",
       "  \"# {'year': 2000, 'month': 1, 'day': 1} => '2000-01-01'\\ndef join_data(data):\\n    return '{}-{:02}-{:02}'.format(data.get('year'),data.get('month'),data.get('day')})\\njoin_data({'year': 2000, 'month': 1, 'day': 11})\",\n",
       "  \"# {'year': 2000, 'month': 1, 'day': 1} => '2000-01-01'\\ndef join_data(data):\\n    return '{}-{:02}-{:02}'.format(data.get('year'),data.get('month'),data.get('day'))\\njoin_data({'year': 2000, 'month': 1, 'day': 11})\",\n",
       "  \"# members2 => members1\\ndef join_data(data):\\n    return {'name': data.get('name', '이름없음'), 'birth': '{year}-{month:02}-{day:02}'.format(**data)}\\njoin_data({'name':'hong','year': 2000, 'month': 1, 'day': 11})\",\n",
       "  \"# {'name':'hong','year': 2000, 'month': 1, 'day': 11} => {'name': 'hong', 'birth': '2000-01-11'} 람다\\nlist(map(lambda data :  {'name': data.get('name', '이름없음'), 'birth': '{year}-{month:02}-{day:02}'.format(**data)}\\n        ,members2))\",\n",
       "  \"# {'name':'hong','year': 2000, 'month': 1, 'day': 11} => {'name': 'hong', 'birth': '2000-01-11'} 람다\\nlist(map(lambda data :  {\\n    'name': data.get('name', '이름없음'), \\n    'birth': '{year}-{month:02}-{day:02}'.format(**data)}\\n    ,members2))\",\n",
       "  \"members2 = list(map(lambda data :  {\\n                                    'name' : data.get('name', '이름없음'),\\n                                    'year' : int(data.get('birth').split('-')[0]), \\n                                    'month' : int(data.get('birth').split('-')[1]), \\n                                    'day' : int(data.get('birth').split('-')[2])\\n                                    },members1)\\n               )\\nmembers2\",\n",
       "  \"# {'name':'hong','year': 2000, 'month': 1, 'day': 11} => {'name': 'hong', 'birth': '2000-01-11'} 람다\\nlist(map(lambda data :  {\\n    'name': data.get('name', '이름없음'), \\n    'birth': '{year}-{month:02}-{day:02}'.format(**data)}\\n    ,members2))\",\n",
       "  'def filter_template(func, L=[]):\\n    result = []\\n    for item in L:\\n        if func(item):\\n            result.append(item)\\n    return result',\n",
       "  'list_data=[1,2,3,4,5,6,7,8,9]\\ndef order_chk(value):\\n    return values%2\\n#     if valuse%2:\\n#         return True\\n#     else:\\n#         return False\\nfliter_template(lambda value : value%2, list_data)',\n",
       "  'list_data=[1,2,3,4,5,6,7,8,9]\\ndef order_chk(value):\\n    return values%2\\n#     if valuse%2:\\n#         return True\\n#     else:\\n#         return False\\nfilter_template(lambda value : value%2, list_data)',\n",
       "  'list([data for data in list_data if data%2])',\n",
       "  '[data for data in list_data if data%2]',\n",
       "  '# 리스트컴프리헨션\\n[data for data in list_data if data%2]',\n",
       "  'list(filter(lambda value : value%2, list_data))',\n",
       "  '# 예제 : 다음 리스트에서 소수점 이하가 0인 수만 추출하시오(filter/ 리스트컴프리헨션)\\nL=[1, 1.2, 1.5, 3.0, 10.5, 100]\\n[data for data in L if L%1]',\n",
       "  '# 예제 : 다음 리스트에서 소수점 이하가 0인 수만 추출하시오(filter/ 리스트컴프리헨션)\\nL=[1, 1.2, 1.5, 3.0, 10.5, 100]\\n[data for data in L if data%1]',\n",
       "  '# 예제 : 다음 리스트에서 소수점 이하가 0인 수만 추출하시오(filter/ 리스트컴프리헨션)\\nL=[1, 1.2, 1.5, 3.0, 10.5, 100]\\n[data for data in L if data%1==0]',\n",
       "  '# 예제 : 다음 리스트에서 소수점 이하가 0인 수만 추출하시오(filter/ 리스트컴프리헨션)\\nL=[1, 1.2, 1.5, 3.0, 10.5, 100]\\n# filter\\nlist(filter(lambda data : data%2==0, L))',\n",
       "  '# 리스트컴프리헨션\\n[data for data in L if data%1==0]',\n",
       "  '# 예제 : 다음 리스트에서 소수점 이하가 0인 수만 추출하시오(filter/ 리스트컴프리헨션)\\nL=[1, 1.2, 1.5, 3.0, 10.5, 100]\\n# filter\\nlist(filter(lambda data : data%2==0, L))',\n",
       "  '# 예제 : 다음 리스트에서 소수점 이하가 0인 수만 추출하시오(filter/ 리스트컴프리헨션)\\nL=[1, 1.2, 1.5, 3.0, 10.5, 100]\\n# filter\\nlist(filter(lambda data : data%1==0, L))',\n",
       "  '# 예제 : 다음 리스트에서 소수점 이하가 0인 수만 추출하시오(filter/ 리스트컴프리헨션)\\nL=[1, 1.2, 1.5, 3.0, 10.5, 100]\\n# filter\\nprint(list(filter(lambda data : data % 1 == 0, L)))\\n# 리스트컴프리헨션\\nprint([data for data in L if data % 1 == 0])',\n",
       "  '# 예제 : 다음 리스트에서 소수점 이하가 0인 수만 추출하시오(filter/ 리스트컴프리헨션)\\nL=[1, 1.2, 1.5, 3.0, 10.5, 100, -2.0]\\n# filter\\nprint(list(filter(lambda data : data % 1 == 0, L)))\\n# 리스트컴프리헨션\\nprint([data for data in L if data % 1 == 0])',\n",
       "  '# 예제 : 다음 리스트에서 소수점 이하가 0인 수만 추출하시오(filter/ 리스트컴프리헨션)\\nL=[1, 1.2, 1.5, 3.0, 10.5, 100, -2.0, -12.2]\\n# filter\\nprint(list(filter(lambda data : data % 1 == 0, L)))\\n# 리스트컴프리헨션\\nprint([data for data in L if data % 1 == 0])',\n",
       "  '# 예제 : 다음 리스트에서 소수점 이하가 0인 수만 추출하시오(filter/ 리스트컴프리헨션)\\nL=[1, 1.2, 1.5, 3.0, 10.5, 100, -2.0, -12.2]\\n# filter\\nlist(filter(lambda data : data % 1 == 0, L))',\n",
       "  '# 리스트컴프리헨션\\n[data for data in L if data % 1 == 0]',\n",
       "  'p=[10,3,6,1]\\np.sort()\\np',\n",
       "  'p=[10,3,6,1]\\np.sort(reverse=True)\\np',\n",
       "  '# 무조건 0번째 item을 기준으로 오름차순 정렬\\npairs=[(2,\"two\"),(1,\"one\"),(3,\"three\"),(4,\\'four\\')]\\npairs.sort()\\npairs',\n",
       "  '# 1번째 아이템 기준으로 내림차순\\n\\npairs.sort(key=lambda data : data[1])',\n",
       "  '# 1번째 아이템 기준으로 내림차순\\n\\npairs.sort(key=lambda data : data[1])\\npairs',\n",
       "  '# 1번째 아이템 기준으로 내림차순\\n\\npairs.sort(key=lambda data : data[1],reverse=True)\\npairs',\n",
       "  '# 합이 큰 순으로 정렬\\nnumbers_2d = [[9,9],[1,100],[10,1]]\\nnumbers_2d.sort(key= lambda data : data[0]+data[1], reverse =True)',\n",
       "  '# 합이 큰 순으로 정렬\\nnumbers_2d = [[9,9],[1,100],[10,1]]\\nnumbers_2d.sort(key= lambda data : data[0]+data[1], reverse =True)\\nnumbers_2d',\n",
       "  '# 합이 큰 순으로 정렬\\nnumbers_2d = [[9,9],[1,100],[10,1],[6,4]]\\nnumbers_2d.sort(key= lambda data : data[0]+data[1], reverse =True)\\nnumbers_2d',\n",
       "  '# 합이 큰 순으로 정렬\\nnumbers_2d = [[9,9],[1,100],[10,1],[6,4]]\\nnumbers_2d.sort(key= lambda data : data[0]+data[1], reverse =True)\\nnumbers_2d',\n",
       "  '# 합이 큰 순으로 정렬\\nnumbers_2d = [[9,9],[1,100],[10,200],[6,4]]\\nnumbers_2d.sort(key= lambda data : data[0]+data[1], reverse =True)\\nnumbers_2d',\n",
       "  '# 합이 큰 순으로 정렬\\nnumbers_2d = [[9,9],[1,100],[10,200]]\\nnumbers_2d.sort(key= lambda data : data[0]+data[1], reverse =True)\\nnumbers_2d',\n",
       "  '# 합이 큰 순으로 정렬\\nnumbers_2d = [[9,9],[1,100],[10,200]]\\nnumbers_2d.sort(key= lambda data : sum(data), reverse =True)\\nnumbers_2d',\n",
       "  \"students = [{'name':'홍','score':99},\\n           {'name':'김','score':50},\\n           {'name':'박','score':77},\\n           {'score':100}]\\nstudents.sort()\",\n",
       "  \"students = [{'name':'홍','score':99},\\n           {'name':'김','score':50},\\n           {'name':'박','score':77},\\n           {'score':100}]\\nstudents.sort(key = lambda data : data.get('name'))\",\n",
       "  'students = [{\\'name\\':\\'홍\\',\\'score\\':99},\\n           {\\'name\\':\\'김\\',\\'score\\':50},\\n           {\\'name\\':\\'박\\',\\'score\\':77},\\n           {\\'score\\':100}]\\nstudents.sort(key = lambda data : data.get(\\'name\\',\"이름없음\"))',\n",
       "  'students = [{\\'name\\':\\'홍\\',\\'score\\':99},\\n           {\\'name\\':\\'김\\',\\'score\\':50},\\n           {\\'name\\':\\'박\\',\\'score\\':77},\\n           {\\'score\\':100}]\\nstudents.sort(key = lambda data : data.get(\\'name\\',\"이름없음\"))\\nstudents',\n",
       "  'students = [{\\'name\\':\\'홍\\',\\'score\\':99},\\n           {\\'name\\':\\'김\\',\\'score\\':50},\\n           {\\'name\\':\\'박\\',\\'score\\':77},\\n           {\\'score\\':100}]\\nstudents.sort(key = lambda data : data.get(\\'name\\',\"none\"))\\nstudents',\n",
       "  \"students.sort(key = lambda data : data.get('score'))\\nstudents\",\n",
       "  '# student를 name순으로 정렬(ㄱ,ㄴ,ㄷ 순)\\nstudents = [{\\'name\\':\\'홍\\',\\'score\\':99},\\n           {\\'name\\':\\'김\\',\\'score\\':50},\\n           {\\'name\\':\\'박\\',\\'score\\':77},\\n           {\\'score\\':100}]\\nstudents.sort(key = lambda data : data.get(\\'name\\',\"힣\"))\\nstudents',\n",
       "  \"# student를 score 큰 순으로 변경\\nstudents.sort(key = lambda data : data.get('score'),reverse = True)\\nstudents\",\n",
       "  \"# student를 score 큰 순으로 변경\\nstudents.sort(key = lambda data : data.get('score',0),reverse = True)\\nstudents\",\n",
       "  \"[{'no':1, 'title':'더트릭컬', 'writer':'폴빠','price':'19,800'},\\n{'no':2, 'title':'흔한남매', 'writer':'백난도', 'price':'15,120'},\\n{'no':3, 'title':'단 한 번의 삶', 'writer':'김영하', 'price':'15,120'},\\n{'no':4, 'title':'가격잘못', 'writer':'홍길동', 'price':'ㅁ'},\\n{'no':5, 'title':'가격이숫자', 'writer':'백난도', 'price':30200},\\n{'no':6, 'title':'가격이없음', 'writer':'이길동'}]\",\n",
       "  \"books = \\\\\\n[{'no':1, 'title':'더트릭컬', 'writer':'폴빠','price':'19,800'},\\n{'no':2, 'title':'흔한남매', 'writer':'백난도', 'price':'15,120'},\\n{'no':3, 'title':'단 한 번의 삶', 'writer':'김영하', 'price':'15,120'},\\n{'no':4, 'title':'가격잘못', 'writer':'홍길동', 'price':'ㅁ'},\\n{'no':5, 'title':'가격이숫자', 'writer':'백난도', 'price':30200},\\n{'no':6, 'title':'가격이없음', 'writer':'이길동'}]\",\n",
       "  'books',\n",
       "  \"books.sort(key=lambda data : data.get('no'))\",\n",
       "  \"books.sort(key=lambda data : data.get('no'))\\nbooks\",\n",
       "  \"books = \\\\\\n[{'no':2, 'title':'더트릭컬', 'writer':'폴빠','price':'19,800'},\\n{'no':1, 'title':'흔한남매', 'writer':'백난도', 'price':'15,120'},\\n{'no':3, 'title':'단 한 번의 삶', 'writer':'김영하', 'price':'15,120'},\\n{'no':4, 'title':'가격잘못', 'writer':'홍길동', 'price':'ㅁ'},\\n{'no':5, 'title':'가격이숫자', 'writer':'백난도', 'price':30200},\\n{'no':6, 'title':'가격이없음', 'writer':'이길동'}]\",\n",
       "  \"books.sort(key=lambda data : data.get('no'))\\nbooks\",\n",
       "  \"# title 기준으로 sort\\nbooks.sort(key=lambda data : data.get('title'))\\nbooks\",\n",
       "  \"# price기준으로 sort\\n# no기준으로 sort\\nbooks.sort(key=lambda data : data.get('price'))\\nbooks\",\n",
       "  \"# price기준으로 sort\\n# no기준으로 sort\\nbooks.sort(key=lambda data : data.get('price',0))\\nbooks\",\n",
       "  \"# 30200,'12,000','5000','ㅁ',None => 30200, 12000, 5000, 0, 0\\ndaf parse_int(price):\\n    print(y=type(price))\\nparse_int('12,000')\",\n",
       "  \"# 30200,'12,000','5000','ㅁ',None => 30200, 12000, 5000, 0, 0\\ndef parse_int(price):\\n    print(y=type(price))\\nparse_int('12,000')\",\n",
       "  '# ',\n",
       "  \"# 30200,'12,000','5000','ㅁ',None => 30200, 12000, 5000, 0, 0\\ndef parse_int(price):\\n    print(type(price))\\nparse_int('12,000')\",\n",
       "  '# 30200,\\'12,000\\',\\'5000\\',\\'ㅁ\\',None => 30200, 12000, 5000, 0, 0\\ndef parse_int(price):\\n    if isinstance(price,str):\\n        price.replace(\",\",\"\")\\n#     print(type(price))\\nparse_int(\\'12,000\\')',\n",
       "  '# 30200,\\'12,000\\',\\'5000\\',\\'ㅁ\\',None => 30200, 12000, 5000, 0, 0\\ndef parse_int(price):\\n    if isinstance(price,str):\\n        price.replace(\",\",\"\")\\n    print(type(price))\\nparse_int(\\'12,000\\')',\n",
       "  '# 30200,\\'12,000\\',\\'5000\\',\\'ㅁ\\',None => 30200, 12000, 5000, 0, 0\\ndef parse_int(price):\\n    if isinstance(price,str):\\n        price.replace(\",\",\"\")\\n    print(price)\\nparse_int(\\'12,000\\')',\n",
       "  '# 30200,\\'12,000\\',\\'5000\\',\\'ㅁ\\',None => 30200, 12000, 5000, 0, 0\\ndef parse_int(price):\\n    if isinstance(price,str):\\n        price.replace(\\',\\',\"\")\\n    print(price)\\nparse_int(\\'12,000\\')',\n",
       "  '# 30200,\\'12,000\\',\\'5000\\',\\'ㅁ\\',None => 30200, 12000, 5000, 0, 0\\ndef parse_int(price):\\n    if isinstance(price,str) and price.replace(\\',\\',\"\").isdigit():\\n        return int(price.repleace(\\',\\',\\'\\'))\\n    print(price)\\nparse_int(\\'12,000\\')',\n",
       "  \"# 30200,'12,000','5000','ㅁ',None => 30200, 12000, 5000, 0, 0\\ndef parse_int(price):\\n    if isinstance(price,str) and price.replace(',','').isdigit():\\n        return int(price.repleace(',',''))\\n    print(price)\\nparse_int('12,000')\",\n",
       "  \"# 30200,'12,000','5000','ㅁ',None => 30200, 12000, 5000, 0, 0\\ndef parse_int(price):\\n    if isinstance(price,str) and price.replace(',','').isdigit():\\n        return int(price.replace(',',''))\\n    print(price)\\nparse_int('12,000')\",\n",
       "  \"# 30200,'12,000','5000','ㅁ',None => 30200, 12000, 5000, 0, 0\\ndef parse_int(price):\\n    if isinstance(price,str) and price.replace(',','').isdigit():\\n        return int(price.replace(',',''))\\n    print(price)\\nparse_int('m')\",\n",
       "  \"# 30200,'12,000','5000','ㅁ',None => 30200, 12000, 5000, 0, 0\\ndef parse_int(price):\\n    if isinstance(price,str) and price.replace(',','').isdigit():\\n        return int(price.replace(',',''))\\n    print(price)\\nparse_int('a')\",\n",
       "  \"# 30200,'12,000','5000','ㅁ',None => 30200, 12000, 5000, 0, 0\\ndef parse_int(price):\\n    if isinstance(price,str) and price.replace(',','').isdigit():\\n        return int(price.replace(',',''))\\n    print(price)\\nparse_int('12,000')\",\n",
       "  \"# 30200,'12,000','5000','ㅁ',None => 30200, 12000, 5000, 0, 0\\ndef parse_int(price):\\n    if isinstance(price,str) and price.replace(',','').isdigit():\\n        return int(price.replace(',',''))\\n    elif isinstance(price,int):\\n        return price\\nprint(parse_int('12,000'),parse_int(32000),parse_int('ㅁ'))\",\n",
       "  \"# 30200,'12,000','5000','ㅁ',None => 30200, 12000, 5000, 0, 0\\ndef parse_int(price):\\n    if isinstance(price,str) and price.replace(',','').isdigit():\\n        return int(price.replace(',',''))\\n    elif isinstance(price,int):\\n        return price\\n    else:\\n        return 0\\nprint(parse_int('12,000'),parse_int(32000),parse_int('ㅁ'),parse_int(None))\",\n",
       "  \"# 람다식으로\\npsrse_int= lambda price :\\\\\\n                        int(price.replace(',','')) if isinstance(price,str) and price.replace(',','').isdigit() else\\\\\\n                        price if isinstance(price,int): else 0\\n\\nprint(parse_int('12,000'),parse_int(32000),parse_int('ㅁ'),parse_int(None))\",\n",
       "  \"# 람다식으로\\npsrse_int= lambda price :\\\\\\n                        int(price.replace(',','')) if isinstance(price,str) and price.replace(',','').isdigit() else\\\\\\n                        price if isinstance(price,int) else 0\\n\\nprint(parse_int('12,000'),parse_int(32000),parse_int('ㅁ'),parse_int(None))\",\n",
       "  \"# 람다식으로\\npsrse_int= lambda price :\\\\\\n                        int(price.replace(',','')) if isinstance(price,str) and price.replace(',','').isdigit() else\\\\\\n                        price if isinstance(price,int) else 0\\n\\nprint(parse_int('12,000'),parse_int(32000),parse_int('ㅁ'),parse_int(None))\",\n",
       "  \"psrse_int= lambda book :\\\\\\n                        int(book.get('price').replace(',','')) if isinstance(price,str) and book.get('price').replace(',','').isdigit() else\\\\\\n                        book.get('price') if isinstance(book.get('price'),int) else 0\\nprrse_int({'no': 5, 'title': '가격이숫자', 'writer': '백난도', 'price': 30200})\",\n",
       "  \"# 람다식으로\\nparse_int= lambda price :\\\\\\n                        int(price.replace(',','')) if isinstance(price,str) and price.replace(',','').isdigit() else\\\\\\n                        price if isinstance(price,int) else 0\\n\\nprint(parse_int('12,000'),parse_int(32000),parse_int('ㅁ'),parse_int(None))\",\n",
       "  \"parse_int= lambda book :\\\\\\n                        int(book.get('price').replace(',','')) if isinstance(price,str) and book.get('price').replace(',','').isdigit() else\\\\\\n                        book.get('price') if isinstance(book.get('price'),int) else 0\\nparse_int({'no': 5, 'title': '가격이숫자', 'writer': '백난도', 'price': 30200})\",\n",
       "  \"parse_int= lambda book :\\\\\\n                        int(book.get('price').replace(',','')) if isinstance(book.get('price'),str) and book.get('price').replace(',','').isdigit() else\\\\\\n                        book.get('price') if isinstance(book.get('price'),int) else 0\\nparse_int({'no': 5, 'title': '가격이숫자', 'writer': '백난도', 'price': 30200})\",\n",
       "  \"parse_int= lambda book :\\\\\\n                        int(book.get('price').replace(',','')) if isinstance(book.get('price'),str)\\\\\\n                        and book.get('price').replace(',','').isdigit() else\\\\\\n                        book.get('price') if isinstance(book.get('price'),int) else 0\\nparse_int({'no': 5, 'title': '가격이숫자', 'writer': '백난도', 'price': 30200})\",\n",
       "  \"copyBooks = book.copy() # 복제\\ncopyBooks.sort(key=lambda book :\\\\\\n                        int(book.get('price').replace(',','')) if isinstance(book.get('price'),str)\\\\\\n                        and book.get('price').replace(',','').isdigit() else\\\\\\n                        book.get('price') if isinstance(book.get('price'),int) else 0,\\n              reverse=True)\\ncopyBooks\",\n",
       "  \"copyBooks = books.copy() # 복제\\ncopyBooks.sort(key=lambda book :\\\\\\n                        int(book.get('price').replace(',','')) if isinstance(book.get('price'),str)\\\\\\n                        and book.get('price').replace(',','').isdigit() else\\\\\\n                        book.get('price') if isinstance(book.get('price'),int) else 0,\\n              reverse=True)\\ncopyBooks\",\n",
       "  \"# price기준으로 sort\\nbooks.sort(key=lambda data : data.get('price,0'))\\nbooks\",\n",
       "  'glovals()',\n",
       "  'globals()',\n",
       "  'a=10',\n",
       "  'globals()'],\n",
       " 'Out': {1: 8,\n",
       "  6: '홀수',\n",
       "  7: ('홀수', '짝수'),\n",
       "  8: ('홀수', '짝수'),\n",
       "  9: ('홀수', '짝수'),\n",
       "  10: ('홀수', '짝수'),\n",
       "  11: ('홀수', '짝수'),\n",
       "  12: ('짝수', '홀수'),\n",
       "  13: 4,\n",
       "  14: 10,\n",
       "  15: 4,\n",
       "  16: 10,\n",
       "  17: 4,\n",
       "  18: (4, 4),\n",
       "  20: (1000, 'negative'),\n",
       "  24: ('재시험', '유효하지 않음'),\n",
       "  25: ('재시험', 'B팀'),\n",
       "  28: 'B팀',\n",
       "  29: ('D학점', '유효하지 않음'),\n",
       "  30: (-1, 2),\n",
       "  31: (-1, 2),\n",
       "  35: [25, 15, 100, 4.0],\n",
       "  36: [10, 6, 16, 4.0],\n",
       "  37: [64, 82],\n",
       "  38: 5,\n",
       "  39: [10, 6, 16, 4.0, 64],\n",
       "  42: [1, 2, 3],\n",
       "  44: [2, 4, 6, 8, 10, 12, 14, 16, 18],\n",
       "  45: [2, 4, 6, 8, 10, 12, 14, 16, 18],\n",
       "  47: [2, 4, 6, 8, 10, 12, 14, 16, 18],\n",
       "  48: <map at 0x16cbcaa0a00>,\n",
       "  49: [2, 4, 6, 8, 10, 12, 14, 16, 18],\n",
       "  52: ['5,000', '5000', '6,000', '1000', '5,000', '5000', '6,000', '1000'],\n",
       "  53: 5000,\n",
       "  54: <map at 0x16cbb783970>,\n",
       "  55: [5000, 5000, 6000, 1000, 5000, 5000, 6000, 1000],\n",
       "  59: ['2000', '01', '01'],\n",
       "  61: {'year': 2000, 'month': 1, 'day': 1},\n",
       "  62: {'year': 2000, 'month': 1, 'day': 1},\n",
       "  63: {'year': 2000, 'month': 1, 'day': 1},\n",
       "  64: {'year': 2000, 'month': 1, 'day': 1},\n",
       "  66: {'year': 2000, 'month': 1, 'day': 1},\n",
       "  67: {'name': '홍길동', 'year': 2000, 'month': 1, 'day': 1},\n",
       "  69: {'name': '홍길동', 'year': 2000, 'month': 1, 'day': 1},\n",
       "  71: {'name': '홍길동', 'year': 2000, 'month': 1, 'day': 1},\n",
       "  72: {'name': '홍길동', 'year': 2000, 'month': 1, 'day': 1},\n",
       "  75: {'name': '홍길동', 'year': 2000, 'month': 1, 'day': 1},\n",
       "  85: [{'name': '홍길동', 'year': 2000, 'month': 1, 'day': 1},\n",
       "   {'name': '신길동', 'year': 1995, 'month': 12, 'day': 18}],\n",
       "  86: [{'name': '홍길동', 'birth': '2000-01-01'},\n",
       "   {'name': '신길동', 'birth': '1995-12-18'}],\n",
       "  87: {'name': '홍길동', 'year': 2000, 'month': 1, 'day': 1},\n",
       "  88: [{'name': '홍길동', 'year': 2000, 'month': 1, 'day': 1},\n",
       "   {'name': '신길동', 'year': 1995, 'month': 12, 'day': 18}],\n",
       "  89: [{'name': '홍길동', 'birth': '2000-01-01'},\n",
       "   {'name': '신길동', 'birth': '1995-12-18'}],\n",
       "  90: '2000-1-1',\n",
       "  91: '2000-1-1',\n",
       "  93: '2000-01- 1',\n",
       "  94: '2000-01-01',\n",
       "  95: '2000-01-11',\n",
       "  96: '2000-01-11',\n",
       "  97: '홍 2000-01-11',\n",
       "  98: {'birth': '2000-01-11'},\n",
       "  101: {'name': '{name}', 'birth': '2000-01-11'},\n",
       "  104: {'name': '{name}', 'birth': '2000-01-11'},\n",
       "  105: {'name': '{name}', 'birth': '2000-01-11'},\n",
       "  108: {'name': 'name', 'birth': '2000-01-11'},\n",
       "  110: {'name': '{name}', 'birth': '2000-01-11'},\n",
       "  111: {'name': '홍길동', 'birth': '2000-01-11'},\n",
       "  112: {'name': '홍길동', 'birth': '2000-01-11'},\n",
       "  114: {'birth': '2000-01-11'},\n",
       "  118: '2000-01-11',\n",
       "  119: {'name': 'hong', 'birth': '2000-01-11'},\n",
       "  120: [{'name': '홍길동', 'birth': '2000-01-01'},\n",
       "   {'name': '신길동', 'birth': '1995-12-18'}],\n",
       "  121: [{'name': '홍길동', 'birth': '2000-01-01'},\n",
       "   {'name': '신길동', 'birth': '1995-12-18'}],\n",
       "  122: [{'name': '홍길동', 'year': 2000, 'month': 1, 'day': 1},\n",
       "   {'name': '신길동', 'year': 1995, 'month': 12, 'day': 18}],\n",
       "  123: [{'name': '홍길동', 'birth': '2000-01-01'},\n",
       "   {'name': '신길동', 'birth': '1995-12-18'}],\n",
       "  126: [1, 3, 5, 7, 9],\n",
       "  127: [1, 3, 5, 7, 9],\n",
       "  128: [1, 3, 5, 7, 9],\n",
       "  129: [1, 3, 5, 7, 9],\n",
       "  130: [1, 3, 5, 7, 9],\n",
       "  132: [1.2, 1.5, 10.5],\n",
       "  133: [1, 3.0, 100],\n",
       "  134: [100],\n",
       "  135: [1, 3.0, 100],\n",
       "  136: [100],\n",
       "  137: [1, 3.0, 100],\n",
       "  141: [1, 3.0, 100, -2.0],\n",
       "  142: [1, 3.0, 100, -2.0],\n",
       "  143: [1, 3, 6, 10],\n",
       "  144: [10, 6, 3, 1],\n",
       "  145: [(2, 'two'), (3, 'three'), (1, 'one'), (4, 'four')],\n",
       "  147: [(2, 'two'), (3, 'three'), (1, 'one'), (4, 'four')],\n",
       "  148: [(2, 'two'), (3, 'three'), (1, 'one'), (4, 'four')],\n",
       "  150: [[1, 100], [9, 9], [10, 1]],\n",
       "  151: [[1, 100], [9, 9], [10, 1], [6, 4]],\n",
       "  152: [[1, 100], [9, 9], [10, 1], [6, 4]],\n",
       "  153: [[10, 200], [1, 100], [9, 9], [6, 4]],\n",
       "  154: [[10, 200], [1, 100], [9, 9]],\n",
       "  155: [[10, 200], [1, 100], [9, 9]],\n",
       "  159: [{'name': '김', 'score': 50},\n",
       "   {'name': '박', 'score': 77},\n",
       "   {'score': 100},\n",
       "   {'name': '홍', 'score': 99}],\n",
       "  160: [{'name': '김', 'score': 50},\n",
       "   {'name': '박', 'score': 77},\n",
       "   {'name': '홍', 'score': 99},\n",
       "   {'score': 100}],\n",
       "  161: [{'name': '김', 'score': 50},\n",
       "   {'name': '박', 'score': 77},\n",
       "   {'name': '홍', 'score': 99},\n",
       "   {'score': 100}],\n",
       "  162: [{'score': 100},\n",
       "   {'name': '홍', 'score': 99},\n",
       "   {'name': '박', 'score': 77},\n",
       "   {'name': '김', 'score': 50}],\n",
       "  163: [{'score': 100},\n",
       "   {'name': '홍', 'score': 99},\n",
       "   {'name': '박', 'score': 77},\n",
       "   {'name': '김', 'score': 50}],\n",
       "  164: [{'score': 100},\n",
       "   {'name': '홍', 'score': 99},\n",
       "   {'name': '박', 'score': 77},\n",
       "   {'name': '김', 'score': 50}],\n",
       "  165: [{'no': 1, 'title': '더트릭컬', 'writer': '폴빠', 'price': '19,800'},\n",
       "   {'no': 2, 'title': '흔한남매', 'writer': '백난도', 'price': '15,120'},\n",
       "   {'no': 3, 'title': '단 한 번의 삶', 'writer': '김영하', 'price': '15,120'},\n",
       "   {'no': 4, 'title': '가격잘못', 'writer': '홍길동', 'price': 'ㅁ'},\n",
       "   {'no': 5, 'title': '가격이숫자', 'writer': '백난도', 'price': 30200},\n",
       "   {'no': 6, 'title': '가격이없음', 'writer': '이길동'}],\n",
       "  167: [{'no': 1, 'title': '더트릭컬', 'writer': '폴빠', 'price': '19,800'},\n",
       "   {'no': 2, 'title': '흔한남매', 'writer': '백난도', 'price': '15,120'},\n",
       "   {'no': 3, 'title': '단 한 번의 삶', 'writer': '김영하', 'price': '15,120'},\n",
       "   {'no': 4, 'title': '가격잘못', 'writer': '홍길동', 'price': 'ㅁ'},\n",
       "   {'no': 5, 'title': '가격이숫자', 'writer': '백난도', 'price': 30200},\n",
       "   {'no': 6, 'title': '가격이없음', 'writer': '이길동'}],\n",
       "  169: [{'no': 1, 'title': '더트릭컬', 'writer': '폴빠', 'price': '19,800'},\n",
       "   {'no': 2, 'title': '흔한남매', 'writer': '백난도', 'price': '15,120'},\n",
       "   {'no': 3, 'title': '단 한 번의 삶', 'writer': '김영하', 'price': '15,120'},\n",
       "   {'no': 4, 'title': '가격잘못', 'writer': '홍길동', 'price': 'ㅁ'},\n",
       "   {'no': 5, 'title': '가격이숫자', 'writer': '백난도', 'price': 30200},\n",
       "   {'no': 6, 'title': '가격이없음', 'writer': '이길동'}],\n",
       "  171: [{'no': 5, 'title': '가격이숫자', 'writer': '백난도', 'price': 30200},\n",
       "   {'no': 6, 'title': '가격이없음', 'writer': '이길동'},\n",
       "   {'no': 4, 'title': '가격잘못', 'writer': '홍길동', 'price': 'ㅁ'},\n",
       "   {'no': 3, 'title': '단 한 번의 삶', 'writer': '김영하', 'price': '15,120'},\n",
       "   {'no': 2, 'title': '더트릭컬', 'writer': '폴빠', 'price': '19,800'},\n",
       "   {'no': 1, 'title': '흔한남매', 'writer': '백난도', 'price': '15,120'}],\n",
       "  172: [{'no': 5, 'title': '가격이숫자', 'writer': '백난도', 'price': 30200},\n",
       "   {'no': 6, 'title': '가격이없음', 'writer': '이길동'},\n",
       "   {'no': 4, 'title': '가격잘못', 'writer': '홍길동', 'price': 'ㅁ'},\n",
       "   {'no': 3, 'title': '단 한 번의 삶', 'writer': '김영하', 'price': '15,120'},\n",
       "   {'no': 2, 'title': '더트릭컬', 'writer': '폴빠', 'price': '19,800'},\n",
       "   {'no': 1, 'title': '흔한남매', 'writer': '백난도', 'price': '15,120'}],\n",
       "  185: 12000,\n",
       "  188: 12000,\n",
       "  197: 30200,\n",
       "  198: 30200,\n",
       "  200: [{'no': 5, 'title': '가격이숫자', 'writer': '백난도', 'price': 30200},\n",
       "   {'no': 2, 'title': '더트릭컬', 'writer': '폴빠', 'price': '19,800'},\n",
       "   {'no': 3, 'title': '단 한 번의 삶', 'writer': '김영하', 'price': '15,120'},\n",
       "   {'no': 1, 'title': '흔한남매', 'writer': '백난도', 'price': '15,120'},\n",
       "   {'no': 6, 'title': '가격이없음', 'writer': '이길동'},\n",
       "   {'no': 4, 'title': '가격잘못', 'writer': '홍길동', 'price': 'ㅁ'}],\n",
       "  203: {...}},\n",
       " 'get_ipython': <bound method InteractiveShell.get_ipython of <ipykernel.zmqshell.ZMQInteractiveShell object at 0x0000016CBAE33700>>,\n",
       " 'exit': <IPython.core.autocall.ZMQExitAutocall at 0x16cbae3ff10>,\n",
       " 'quit': <IPython.core.autocall.ZMQExitAutocall at 0x16cbae3ff10>,\n",
       " 'open': <function io.open(file, mode='r', buffering=-1, encoding=None, errors=None, newline=None, closefd=True, opener=None)>,\n",
       " '_': {...},\n",
       " '__': [{'no': 5, 'title': '가격이숫자', 'writer': '백난도', 'price': 30200},\n",
       "  {'no': 2, 'title': '더트릭컬', 'writer': '폴빠', 'price': '19,800'},\n",
       "  {'no': 3, 'title': '단 한 번의 삶', 'writer': '김영하', 'price': '15,120'},\n",
       "  {'no': 1, 'title': '흔한남매', 'writer': '백난도', 'price': '15,120'},\n",
       "  {'no': 6, 'title': '가격이없음', 'writer': '이길동'},\n",
       "  {'no': 4, 'title': '가격잘못', 'writer': '홍길동', 'price': 'ㅁ'}],\n",
       " '___': 30200,\n",
       " '_i': 'a=10',\n",
       " '_ii': 'globals()',\n",
       " '_iii': 'glovals()',\n",
       " '_i1': 'def add(a,b):\\n    return a+b\\nadd(3,5)',\n",
       " 'add': <function __main__.<lambda>(a, b)>,\n",
       " '_1': 8,\n",
       " '_i2': 'def add(a,b):\\n    return a+b\\nprint(add(3,5))\\nprint(add)',\n",
       " '_i3': 'def add(a,b):\\n    return a+b\\nprint(add(3,5))\\nprint(type(add))',\n",
       " '_i4': 'add2 = lambda a, b : a + b\\nprint(add2(3,4))',\n",
       " 'add2': <function __main__.<lambda>(a, b)>,\n",
       " '_i5': 'add2 = lambda a, b : a + b\\nprint(add2(3,4))\\nprint(type(add2))',\n",
       " '_i6': '# ex1. 매개변수로 들어온 값이 짝수인진 홀수인지 return하는 함수를 람다식으로\\ndef even_odd_chk(num):\\n    if num%2:\\n        result=\"홀수\"\\n    else:\\n        result=\"짝수\"\\n    return result\\neven_odd_chk(5)',\n",
       " 'even_odd_chk': <function __main__.even_odd_chk(num)>,\n",
       " '_6': '홀수',\n",
       " '_i7': '# ex1. 매개변수로 들어온 값이 짝수인진 홀수인지 return하는 함수를 람다식으로\\ndef even_odd_chk(num):\\n    if num%2:\\n        result=\"홀수\"\\n    else:\\n        result=\"짝수\"\\n    return result\\neven_odd_chk(5), even_odd_chk(-4)',\n",
       " '_7': ('홀수', '짝수'),\n",
       " '_i8': '# ex1. 매개변수로 들어온 값이 짝수인진 홀수인지 return하는 함수를 람다식으로\\ndef even_odd_chk(num):\\n#     if num%2:\\n#         result=\"홀수\"\\n#     else:\\n#         result=\"짝수\"\\n    result =\"홀수\" if num%2 else \"짝수\"\\n    return result\\neven_odd_chk(5), even_odd_chk(-4)',\n",
       " '_8': ('홀수', '짝수'),\n",
       " '_i9': 'even_odd_chk= lambda num : \"홀수\" if num%2 else \"짝수\"\\neven_odd_chk(5), even_odd_chk(-4)',\n",
       " '_9': ('홀수', '짝수'),\n",
       " '_i10': '# ex1. 매개변수로 들어온 값이 짝수인진 홀수인지 return하는 함수를 람다식으로\\ndef even_odd_chk(num):\\n#     if num%2:\\n#         result=\"홀수\"\\n#     else:\\n#         result=\"짝수\"\\n    result =\"홀수\" if num%2 else \"짝수\"\\n    return result\\neven_odd_chk(5), even_odd_chk(-4)',\n",
       " '_10': ('홀수', '짝수'),\n",
       " '_i11': 'even_odd_chk2= lambda num : \"홀수\" if num%2 else \"짝수\"\\neven_odd_chk2(5), even_odd_chk2(-4)',\n",
       " 'even_odd_chk2': <function __main__.<lambda>(num)>,\n",
       " '_11': ('홀수', '짝수'),\n",
       " '_i12': 'even_odd_chk2= lambda num : \"홀수\" if num%2 else \"짝수\"\\neven_odd_chk2(6), even_odd_chk2(-3)',\n",
       " '_12': ('짝수', '홀수'),\n",
       " '_i13': '# ex2. 두 매개변수의  차이를 return하는 함수를 람다식으로\\nabs_=lambda a,b : abs(a-b)\\nabs_(3,7)',\n",
       " 'abs_': <function __main__.<lambda>(a, b)>,\n",
       " '_13': 4,\n",
       " '_i14': '# ex2. 두 매개변수의  차이를 return하는 함수를 람다식으로\\nabs_=lambda a,b : abs(a-b)\\nabs_(3,-7)',\n",
       " '_14': 10,\n",
       " '_i15': '# ex2. 두 매개변수의  차이를 return하는 함수를 람다식으로\\nabs_=lambda a,b : abs(a-b)\\nabs_(3,7)',\n",
       " '_15': 4,\n",
       " '_i16': '# ex2. 두 매개변수의  차이를 return하는 함수를 람다식으로\\nabs_ = lambda a,b : abs(a-b)\\nabs_(-3,7)',\n",
       " '_16': 10,\n",
       " '_i17': '# ex2. 두 매개변수의  차이를 return하는 함수를 람다식으로\\nabs_ = lambda a,b : abs(a-b)\\nabs_(-3,7)\\nabs_2 = lambda a,b : a - b if a > b else b - a\\nabs_2(7,3)',\n",
       " 'abs_2': <function __main__.<lambda>(a, b)>,\n",
       " '_17': 4,\n",
       " '_i18': '# ex2. 두 매개변수의  차이를 return하는 함수를 람다식으로\\nabs_ = lambda a,b : abs(a-b)\\nabs_(-3,7)\\nabs_2 = lambda a,b : a - b if a > b else b - a\\nabs_2(7,3), abs_2(3,7)',\n",
       " '_18': (4, 4),\n",
       " '_i19': 'from IPython.display import display, HTML\\ndisplay(HTML(\"\"\"\\n<style>\\ndiv.container{width:90% ! important;}\\ndiv.cell.code_cell.rendered{width:100%}\\ndiv.input_prompt{padding:0px}\\ndiv.CodeMirror {font-family:Consolas ; font-size:12pt;}\\ndiv.text_cell_render.rendered_html {font-size:12pt;}\\ndiv.output {font-size:12pt; font-weight:bold}\\ndiv.input {font-family:Consolas ; font-size:12pt;}\\ndiv.prompt {min-width:70px;}\\ndiv#toc-wrapper {padding-top:120px;}\\ndiv.text_cell_render ul li{font-size:12pt;padding:5px;}\\ntable.dataframe{font-size:12px;}\\n</style>\\n\"\"\"))',\n",
       " 'display': <function IPython.core.display_functions.display(*objs, include=None, exclude=None, metadata=None, transient=None, display_id=None, raw=False, clear=False, **kwargs)>,\n",
       " 'HTML': IPython.core.display.HTML,\n",
       " '_i20': \"# ex3. 매개변수로 잔액을 받아, 잔액이 0 이상이면 잔액을 return, 음수면 'negative'를 return\\nex3 = lambda balance : balance if balance > 0 else 'negative' \\nex3(1000),ex3(-1000)\",\n",
       " 'ex3': <function __main__.<lambda>(balance)>,\n",
       " '_20': (1000, 'negative'),\n",
       " '_i21': \"# ex4. 점수를 입력받아 80점 이상은 'A팀', 60점 이상은 'B팀', 60점 미만은 '재시험'\\n        #100점 초과, 0점 미만은 '유효하지 않음'을 return\\ndef levelChk(score):\\n    if 80<=score<=100:\\n        return 'A팀'\\n    elif 60<=score<80:\\n        return 'B팀'\\n    elif 0<=score<60:\\n        return '재시험'\\n    else:\\n        return '유효하지 않음'\\n    \\n    ex4 = lambda score : 'A팀' if 80<=score<=100 else \\\\\\n                        'B팀' if 60<=score<80 else \\\\\\n                        '재시험' if 0<=score<60 else \\\\\\n                        '유효하지 않음'\\n    levelChk(8),ex4(160)\",\n",
       " 'levelChk': <function __main__.levelChk(score)>,\n",
       " '_i22': \"# ex4. 점수를 입력받아 80점 이상은 'A팀', 60점 이상은 'B팀', 60점 미만은 '재시험'\\n        #100점 초과, 0점 미만은 '유효하지 않음'을 return\\ndef levelChk(score):\\n    if 80<=score<=100:\\n        return 'A팀'\\n    elif 60<=score<80:\\n        return 'B팀'\\n    elif 0<=score<60:\\n        return '재시험'\\n    else:\\n        return '유효하지 않음'\\n    \\n    ex4 = lambda score : 'A팀' if 80<=score<=100 else \\\\\\n                        'B팀' if 60<=score<80 else \\\\\\n                        '재시험' if 0<=score<60 else \\\\\\n                        '유효하지 않음'\\n    levelChk(8),ex4(160)\",\n",
       " '_i23': \"# ex4. 점수를 입력받아 80점 이상은 'A팀', 60점 이상은 'B팀', 60점 미만은 '재시험'\\n        #100점 초과, 0점 미만은 '유효하지 않음'을 return\\ndef levelChk(score):\\n    if 80<=score<=100:\\n        return 'A팀'\\n    elif 60<=score<80:\\n        return 'B팀'\\n    elif 0<=score<60:\\n        return '재시험'\\n    else:\\n        return '유효하지 않음'\\n    \\n    ex4 = lambda score : 'A팀' if 80<=score<=100 else \\\\\\n                        'B팀' if 60<=score<80 else \\\\\\n                        '재시험' if 0<=score<60 else \\\\\\n                        '유효하지 않음'\\nlevelChk(8),ex4(160)\",\n",
       " '_i24': \"# ex4. 점수를 입력받아 80점 이상은 'A팀', 60점 이상은 'B팀', 60점 미만은 '재시험'\\n        #100점 초과, 0점 미만은 '유효하지 않음'을 return\\ndef levelChk(score):\\n    if 80<=score<=100:\\n        return 'A팀'\\n    elif 60<=score<80:\\n        return 'B팀'\\n    elif 0<=score<60:\\n        return '재시험'\\n    else:\\n        return '유효하지 않음'\\n    \\nex4 = lambda score : 'A팀' if 80<=score<=100 else \\\\\\n                    'B팀' if 60<=score<80 else \\\\\\n                    '재시험' if 0<=score<60 else \\\\\\n                    '유효하지 않음'\\nlevelChk(8),ex4(160)\",\n",
       " 'ex4': <function __main__.<lambda>(score)>,\n",
       " '_24': ('재시험', '유효하지 않음'),\n",
       " '_i25': \"# ex4. 점수를 입력받아 80점 이상은 'A팀', 60점 이상은 'B팀', 60점 미만은 '재시험'\\n        #100점 초과, 0점 미만은 '유효하지 않음'을 return\\ndef levelChk(score):\\n    if 80<=score<=100:\\n        return 'A팀'\\n    elif 60<=score<80:\\n        return 'B팀'\\n    elif 0<=score<60:\\n        return '재시험'\\n    else:\\n        return '유효하지 않음'\\n    \\nex4 = lambda score : 'A팀' if 80<=score<=100 else \\\\\\n                    'B팀' if 60<=score<80 else \\\\\\n                    '재시험' if 0<=score<60 else \\\\\\n                    '유효하지 않음'\\nlevelChk(8),ex4(75)\",\n",
       " '_25': ('재시험', 'B팀'),\n",
       " '_i26': \"# 점수를 입력받아 학점을 return\\nscore_grade = lambda score: 'A팀' if 80<=score<=100 else \\\\\\n                            'B팀' if 60<=score<80 else \\\\\\n                            '재시험' if 0<=score<60 else \\\\\\n                            '유효하지 않음'\\nscore_grade(input('0~100 사이의 점수를 입력하세요'))\",\n",
       " 'score_grade': <function __main__.<lambda>(score)>,\n",
       " '_i27': \"# 점수를 입력받아 학점을 return\\nscore_grade = lambda score: 'A팀' if 80<=score<=100 else \\\\\\n                            'B팀' if 60<=score<80 else \\\\\\n                            '재시험' if 0<=score<60 else \\\\\\n                            '유효하지 않음'\\nscore_grade(int(input('0~100 사이의 점수를 입력하세요'))\",\n",
       " '_i28': \"# 점수를 입력받아 학점을 return\\nscore_grade = lambda score: 'A팀' if 80<=score<=100 else \\\\\\n                            'B팀' if 60<=score<80 else \\\\\\n                            '재시험' if 0<=score<60 else \\\\\\n                            '유효하지 않음'\\nscore_grade(int(input('0~100 사이의 점수를 입력하세요')))\",\n",
       " '_28': 'B팀',\n",
       " '_i29': \"# 점수를 입력받아 학점을 return\\nscore_grade = lambda score: 'A학점' if 90<=score<=100 else \\\\\\n                            'B학점' if 80<=score<90 else \\\\\\n                            'C학점' if 70<=score<80 else \\\\\\n                            'D학점' if 60<=score<70 else \\\\\\n                            'F학점' if 0<=score<60 else \\\\\\n                            '유효하지 않음'\\nscore_grade(60), score_grade(120)\",\n",
       " '_29': ('D학점', '유효하지 않음'),\n",
       " '_i30': '# ex5. safe_index 함수를 람다식으로\\ndef safe_index(lst,item,start=0):\\n\\n    return lst.index(item,start) if item in lst[start:] else -1\\n\\nex5 = lambda lst, item,start=0 : lst.index(item,start) if item in lst[start:] else -1\\nlst = [1,2,3]\\nsafe_index(lst,4), ex5(lst,3,1)',\n",
       " 'safe_index': <function __main__.safe_index(lst, item, start=0)>,\n",
       " 'ex5': <function __main__.<lambda>(lst, item, start=0)>,\n",
       " 'lst': [3, 2, 3],\n",
       " '_30': (-1, 2),\n",
       " '_i31': '# ex5. safe_index 함수를 람다식으로\\ndef safe_index(lst,item,start=0):\\n\\n    return lst.index(item,start) if item in lst[start:] else -1\\n\\nex5 = lambda lst, item,start=0 : lst.index(item,start) if item in lst[start:] else -1\\nlst = [3,2,3]\\nsafe_index(lst,4), ex5(lst,3,1)',\n",
       " '_31': (-1, 2),\n",
       " '_i32': \"# 람다식도 list에 들어갈 수 있음\\nadd = lambda a, b : a + b\\nsub = lambda a, b : a - b\\nmul = lambda a, b : a * b\\ndiv = lambda a, b : a / b if b else '두번째 인자가 0이면 못 나눠요'\\noperations = [add,sub, mul, div] # 사칙연산 함수\\n\\ndef act_opperations(a, b, operations = operations): # a, b의 사칙연산 결과를 return\\n    result = []\\n    for op in operations: \\n        result.append(op(a,b))\\nact_opperations(20,5)\",\n",
       " 'sub': <function __main__.<lambda>(a, b)>,\n",
       " 'mul': <function __main__.<lambda>(a, b)>,\n",
       " 'div': <function __main__.<lambda>(a, b)>,\n",
       " 'operations': [<function __main__.<lambda>(a, b)>,\n",
       "  <function __main__.<lambda>(a, b)>,\n",
       "  <function __main__.<lambda>(a, b)>,\n",
       "  <function __main__.<lambda>(a, b)>,\n",
       "  <function __main__.<lambda>(x, y)>],\n",
       " 'act_opperations': <function __main__.act_opperations(a, b, operations=[<function <lambda> at 0x0000016CBD585E10>, <function <lambda> at 0x0000016CBD586440>, <function <lambda> at 0x0000016CBD586C20>, <function <lambda> at 0x0000016CBD584C10>, <function <lambda> at 0x0000016CBD584550>])>,\n",
       " '_i33': \"# 람다식도 list에 들어갈 수 있음\\nadd = lambda a, b : a + b\\nsub = lambda a, b : a - b\\nmul = lambda a, b : a * b\\ndiv = lambda a, b : a / b if b else '두번째 인자가 0이면 못 나눠요'\\noperations = [add,sub, mul, div] # 사칙연산 함수\\n\\ndef act_opperations(a, b, operations = operations): # a, b의 사칙연산 결과를 return\\n    result = []\\n    for op in operations: \\n        result.append(op(a,b))\\nact_opperations(20,5)\",\n",
       " '_i34': \"# 람다식도 list에 들어갈 수 있음\\nadd = lambda a, b : a + b\\nsub = lambda a, b : a - b\\nmul = lambda a, b : a * b\\ndiv = lambda a, b : a / b if b else '두번째 인자가 0이면 못 나눠요'\\noperations = [add,sub, mul, div] # 사칙연산 함수\\n\\ndef act_opperations(a, b, operations = operations): # a, b의 사칙연산 결과를 return\\n    result = []\\n    for op in operations: \\n        result.append(op(a,b))\\n    return reslut\\nact_opperations(20,5)\",\n",
       " '_i35': \"# 람다식도 list에 들어갈 수 있음\\nadd = lambda a, b : a + b\\nsub = lambda a, b : a - b\\nmul = lambda a, b : a * b\\ndiv = lambda a, b : a / b if b else '두번째 인자가 0이면 못 나눠요'\\noperations = [add,sub, mul, div] # 사칙연산 함수\\n\\ndef act_opperations(a, b, operations = operations): # a, b의 사칙연산 결과를 return\\n    result = []\\n    for op in operations: \\n        result.append(op(a,b))\\n    return result\\nact_opperations(20,5)\",\n",
       " '_35': [25, 15, 100, 4.0],\n",
       " '_i36': 'act_opperations(8,2)',\n",
       " '_36': [10, 6, 16, 4.0],\n",
       " '_i37': 'act_opperations(8,2,[lambda x,y: x**y, lambda x,y : 10*x + y])',\n",
       " '_37': [64, 82],\n",
       " '_i38': 'operations.append(lambda x,y : x**y)\\nlen(operations)',\n",
       " '_38': 5,\n",
       " '_i39': 'act_opperations(8,2)',\n",
       " '_39': [10, 6, 16, 4.0, 64],\n",
       " '_i40': 'map_template(lambda a : a, [1,2,3])',\n",
       " '_i41': 'def map_template(func,L=[]):\\n    result=[]\\n    for item in L:\\n        result.append(item)\\n    return result',\n",
       " 'map_template': <function __main__.map_template(func, L=[])>,\n",
       " '_i42': 'map_template(lambda a : a, [1,2,3])',\n",
       " '_42': [1, 2, 3],\n",
       " '_i43': 'def map_template(func,L=[]):\\n    result=[]\\n    for item in L:\\n        result.append(func(item))\\n    return result',\n",
       " '_i44': '# map_template(lambda a : a, [1,2,3])\\nlist_data = [1,2,3,4,5,6,7,8,9]\\ndef x_2(x):\\n    return x*2\\nmap_template(x_2,list_data)',\n",
       " 'list_data': [1, 2, 3, 4, 5, 6, 7, 8, 9],\n",
       " 'x_2': <function __main__.x_2(x)>,\n",
       " '_44': [2, 4, 6, 8, 10, 12, 14, 16, 18],\n",
       " '_i45': 'map_template(lambda x:x*2, list_data)',\n",
       " '_45': [2, 4, 6, 8, 10, 12, 14, 16, 18],\n",
       " '_i46': '# 리스트 컴프리핸션\\n[item*2 fot item in list_data]',\n",
       " '_i47': '# 리스트 컴프리핸션\\n[item*2 for item in list_data]',\n",
       " '_47': [2, 4, 6, 8, 10, 12, 14, 16, 18],\n",
       " '_i48': 'map(lambda x : x*2, list_data)',\n",
       " '_48': <map at 0x16cbcaa0a00>,\n",
       " '_i49': 'list(map(lambda x : x*2, list_data))',\n",
       " '_49': [2, 4, 6, 8, 10, 12, 14, 16, 18],\n",
       " '_i50': \"for data in map(lambda x:x*2, list_data):\\n    print(data,end =' ')\",\n",
       " 'data': 18,\n",
       " '_i51': \"# ex1 prices = ['5,000', '5000', '6,000', '1000','5,000', '5000', '6,000', '1000’]를 [5000,5000,6000,1000]식으로 바꾸시오\\nprices = ['5,000', '5000', '6,000', '1000','5,000', '5000', '6,000', '1000']\",\n",
       " 'prices': 1000,\n",
       " '_i52': \"# ex1 prices = ['5,000', '5000', '6,000', '1000','5,000', '5000', '6,000', '1000’]를 [5000,5000,6000,1000]식으로 바꾸시오\\nprices = ['5,000', '5000', '6,000', '1000','5,000', '5000', '6,000', '1000']\\nprices\",\n",
       " '_52': ['5,000', '5000', '6,000', '1000', '5,000', '5000', '6,000', '1000'],\n",
       " '_i53': \"# ex1 prices = ['5,000', '5000', '6,000', '1000','5,000', '5000', '6,000', '1000’]를 [5000,5000,6000,1000]식으로 바꾸시오\\nprices = ['5,000', '5000', '6,000', '1000','5,000', '5000', '6,000', '1000']\\ndef toint(value):\\n    return int(value.replace(',',''))\\n    \\ntoint('5,000')\",\n",
       " 'toint': <function __main__.toint(value)>,\n",
       " '_53': 5000,\n",
       " '_i54': \"# ex1 prices = ['5,000', '5000', '6,000', '1000','5,000', '5000', '6,000', '1000’]를 [5000,5000,6000,1000]식으로 바꾸시오\\nprices = ['5,000', '5000', '6,000', '1000','5,000', '5000', '6,000', '1000']\\ndef toint(value):\\n    return int(value.replace(',',''))   \\ntoint('5,000')\\n\\nmap(lambda value : int(value.replace(',','')),prices)\",\n",
       " '_54': <map at 0x16cbb783970>,\n",
       " '_i55': \"# ex1 prices = ['5,000', '5000', '6,000', '1000','5,000', '5000', '6,000', '1000’]를 [5000,5000,6000,1000]식으로 바꾸시오\\nprices = ['5,000', '5000', '6,000', '1000','5,000', '5000', '6,000', '1000']\\ndef toint(value):\\n    return int(value.replace(',',''))   \\ntoint('5,000')\\n\\nlist(map(lambda value : int(value.replace(',','')),prices))\",\n",
       " '_55': [5000, 5000, 6000, 1000, 5000, 5000, 6000, 1000],\n",
       " '_i56': \"# ex1 prices = ['5,000', '5000', '6,000', '1000','5,000', '5000', '6,000', '1000’]를 [5000,5000,6000,1000]식으로 바꾸시오\\nprices = ['5,000', '5000', '6,000', '1000','5,000', '5000', '6,000', '1000']\\ndef toint(value):\\n    return int(value.replace(',',''))   \\ntoint('5,000')\\n\\nprices_int=map(lambda value : int(value.replace(',','')),prices)\\nfor prices in prices_int:\\n    print(prices, end=' ')\",\n",
       " 'prices_int': <map at 0x16cbb7e95d0>,\n",
       " '_i57': \"# ex2. \\n'''members1 = [{'name':'홍길동', 'birth':'2000-01-01’},/\\n            {'name':'신길동', 'birth':'1995-12-18'},]를\\nmembers2 = [{'name':'홍길동', 'year':2000, 'month':1,'day':1},/\\n            {'name':'신길동', 'year':1995, 'month':12, 'day':18},] 변환'''\\nmembers1 = [{'name':'홍길동', 'birth':'2000-01-01'},/\\n            {'name':'신길동', 'birth':'1995-12-18'},]\",\n",
       " '_i58': \"# ex2. \\n'''members1 = [{'name':'홍길동', 'birth':'2000-01-01’},\\\\\\n            {'name':'신길동', 'birth':'1995-12-18'},]를\\nmembers2 = [{'name':'홍길동', 'year':2000, 'month':1,'day':1},\\\\\\n            {'name':'신길동', 'year':1995, 'month':12, 'day':18},] 변환'''\\nmembers1 = [{'name':'홍길동', 'birth':'2000-01-01'},\\\\\\n            {'name':'신길동', 'birth':'1995-12-18'},]\",\n",
       " 'members1': [{'name': '홍길동', 'birth': '2000-01-01'},\n",
       "  {'name': '신길동', 'birth': '1995-12-18'}],\n",
       " '_i59': \"# '2000-01-01' => {'year' : 2000, 'month' : 1, 'day' : 1}\\ndef split_data(date):\\n    split_data=date.split('-')\\n    return split_data\\nsplit_data('2000-01-01')\",\n",
       " 'split_data': <function __main__.split_data(date)>,\n",
       " '_59': ['2000', '01', '01'],\n",
       " '_i60': \"# '2000-01-01' => {'year' : 2000, 'month' : 1, 'day' : 1}\\ndef split_data(date):\\n    split_data=date.split('-')\\n    return {'year' : int(split_data[0]), 'month' : int(split_data)[1], 'day' : int(split_data[2])} \\nsplit_data('2000-01-01')\",\n",
       " '_i61': \"# '2000-01-01' => {'year' : 2000, 'month' : 1, 'day' : 1}\\ndef split_data(date):\\n    split_data=date.split('-')\\n    return {'year' : int(split_data[0]), 'month' : int(split_data[1]), 'day' : int(split_data[2])} \\nsplit_data('2000-01-01')\",\n",
       " '_61': {'year': 2000, 'month': 1, 'day': 1},\n",
       " '_i62': \"# '2000-01-01' => {'year' : 2000, 'month' : 1, 'day' : 1}\\ndef split_data(date):\\n    return {'year' : int(date.split('-')[0]), \\n            'month' : int(date.split('-')[1]), \\n            'day' : int(date.split('-')[2])\\n           } \\nsplit_data('2000-01-01')\",\n",
       " '_62': {'year': 2000, 'month': 1, 'day': 1},\n",
       " '_i63': \"# '2000-01-01' => {'year' : 2000, 'month' : 1, 'day' : 1}\\ndef split_data(date):\\n    return {'year' : int(date.split('-')[0]), \\n            'month' : int(date.split('-')[1]), \\n            'day' : int(date.split('-')[2])\\n           } \\nsplit_data('2000-01-01')\",\n",
       " '_63': {'year': 2000, 'month': 1, 'day': 1},\n",
       " '_i64': \"# '2000-01-01' => {'year' : 2000, 'month' : 1, 'day' : 1}\\ndef split_data(date):\\n    split_data=date.split('-')\\n    return {'year' : int(split_data[0]), \\n            'month' : int(split_data[1]), \\n            'day' : int(split_data[2])\\n           } \\nsplit_data('2000-01-01')\",\n",
       " '_64': {'year': 2000, 'month': 1, 'day': 1},\n",
       " '_i65': \"# {'birth' : '2000-01-01'} => {'year' : 2000, 'month' : 1, 'day' : 1}\\ndef split_data(date={}):\\n    return {'year' : int(date.values.split('-')[0]) if date.key = 'birth', \\n            'month' : int(date.values.split('-')[1]) if date.key = 'birth', \\n            'day' : int(date.values.split('-')[2]) if date.key = 'birth'\\n           } \\nsplit_data({'birth':'2000-01-01'})\",\n",
       " '_i66': \"# {'birth' : '2000-01-01'} => {'year' : 2000, 'month' : 1, 'day' : 1}\\ndef split_data(date):\\n    return {'year' : int(date['birth'].split('-')[0]), \\n            'month' : int(date['birth'].split('-')[1]), \\n            'day' : int(date['birth'].split('-')[2])\\n           } \\nsplit_data({'birth':'2000-01-01'})\",\n",
       " '_66': {'year': 2000, 'month': 1, 'day': 1},\n",
       " '_i67': \"# {'name':'홍길동', 'birth':'2000-01-01’} => {'name':'홍길동', 'year':2000, 'month':1,'day':1}\\ndef split_data(date):\\n    return {'name' : date['name'],\\n            'year' : int(date['birth'].split('-')[0]), \\n            'month' : int(date['birth'].split('-')[1]), \\n            'day' : int(date['birth'].split('-')[2])\\n           } \\nsplit_data({'name':'홍길동', 'birth':'2000-01-01'})\",\n",
       " '_67': {'name': '홍길동', 'year': 2000, 'month': 1, 'day': 1},\n",
       " '_i68': \"# {'name':'홍길동', 'birth':'2000-01-01’} => {'name':'홍길동', 'year':2000, 'month':1,'day':1}\\ndef split_data(date):\\n    return {'name' : date['name'],\\n            'year' : int(date['birth'].split('-')[0]), \\n            'month' : int(date['birth'].split('-')[1]), \\n            'day' : int(date['birth'].split('-')[2])\\n           } \\nsplit_data({'name':'홍길동', 'birth':'2000-01-01'})\\n\\nspt_d = lambda date : 'name' : date['name'],\\\\\\n            'year' : int(date['birth'].split('-')[0]),\\\\\\n            'month' : int(date['birth'].split('-')[1]),\\\\\\n            'day' : int(date['birth'].split('-')[2])\\nspt_d({'name':'홍길동', 'birth':'2000-01-01'})\",\n",
       " '_i69': \"# {'name':'홍길동', 'birth':'2000-01-01’} => {'name':'홍길동', 'year':2000, 'month':1,'day':1}\\ndef split_data(date):\\n    return {'name' : date.get('name', '이름없음'), # date['name']- 사용해도 큰 문제는 없으나 만약 name가 없다면 error\\n            'year' : int(date.get('birth').split('-')[0]), \\n            'month' : int(date.get('birth').split('-')[1]), \\n            'day' : int(date.get('birth').split('-')[2])\\n           } \\nsplit_data({'name':'홍길동', 'birth':'2000-01-01'})\\n\\n# spt_d = lambda date : 'name' : date['name'],\\\\\\n#             'year' : int(date['birth'].split('-')[0]),\\\\\\n#             'month' : int(date['birth'].split('-')[1]),\\\\\\n#             'day' : int(date['birth'].split('-')[2])\\n# spt_d({'name':'홍길동', 'birth':'2000-01-01'})\",\n",
       " '_69': {'name': '홍길동', 'year': 2000, 'month': 1, 'day': 1},\n",
       " '_i70': \"# {'name':'홍길동', 'birth':'2000-01-01’} => {'name':'홍길동', 'year':2000, 'month':1,'day':1}\\nmembers1 = [{'name':'홍길동', 'birth':'2000-01-01'},\\\\\\n            {'name':'신길동', 'birth':'1995-12-18'},]\\n\\ndef split_data(date):\\n    return {'name' : date.get('name', '이름없음'), # date['name']- 사용해도 큰 문제는 없으나 만약 name가 없다면 error\\n            'year' : int(date.get('birth').split('-')[0]), \\n            'month' : int(date.get('birth').split('-')[1]), \\n            'day' : int(date.get('birth').split('-')[2])\\n           } \\nsplit_data(members1)\\n\\n# spt_d = lambda date : 'name' : date['name'],\\\\\\n#             'year' : int(date['birth'].split('-')[0]),\\\\\\n#             'month' : int(date['birth'].split('-')[1]),\\\\\\n#             'day' : int(date['birth'].split('-')[2])\\n# spt_d({'name':'홍길동', 'birth':'2000-01-01'})\",\n",
       " '_i71': \"# {'name':'홍길동', 'birth':'2000-01-01’} => {'name':'홍길동', 'year':2000, 'month':1,'day':1}\\nmembers1 = [{'name':'홍길동', 'birth':'2000-01-01'},\\\\\\n            {'name':'신길동', 'birth':'1995-12-18'},]\\n\\ndef split_data(date):\\n    return {'name' : date.get('name', '이름없음'), # date['name']- 사용해도 큰 문제는 없으나 만약 name가 없다면 error\\n            'year' : int(date.get('birth').split('-')[0]), \\n            'month' : int(date.get('birth').split('-')[1]), \\n            'day' : int(date.get('birth').split('-')[2])\\n           } \\nsplit_data({'name':'홍길동', 'birth':'2000-01-01'})\\n\\n# spt_d = lambda date : 'name' : date['name'],\\\\\\n#             'year' : int(date['birth'].split('-')[0]),\\\\\\n#             'month' : int(date['birth'].split('-')[1]),\\\\\\n#             'day' : int(date['birth'].split('-')[2])\\n# spt_d({'name':'홍길동', 'birth':'2000-01-01'})\",\n",
       " '_71': {'name': '홍길동', 'year': 2000, 'month': 1, 'day': 1},\n",
       " '_i72': \"# {'name':'홍길동', 'birth':'2000-01-01’} => {'name':'홍길동', 'year':2000, 'month':1,'day':1}\\nmembers1 = [{'name':'홍길동', 'birth':'2000-01-01'},\\\\\\n            {'name':'신길동', 'birth':'1995-12-18'},]\\n\\ndef members_preprocessing(date):\\n    return {'name' : date.get('name', '이름없음'), # date['name']- 사용해도 큰 문제는 없으나 만약 name가 없다면 error\\n            'year' : int(date.get('birth').split('-')[0]), \\n            'month' : int(date.get('birth').split('-')[1]), \\n            'day' : int(date.get('birth').split('-')[2])\\n           } \\nmembers_preprocessing({'name':'홍길동', 'birth':'2000-01-01'})\\n\\n# spt_d = lambda date : 'name' : date['name'],\\\\\\n#             'year' : int(date['birth'].split('-')[0]),\\\\\\n#             'month' : int(date['birth'].split('-')[1]),\\\\\\n#             'day' : int(date['birth'].split('-')[2])\\n# spt_d({'name':'홍길동', 'birth':'2000-01-01'})\",\n",
       " 'members_preprocessing': <function __main__.members_preprocessing(date)>,\n",
       " '_72': {'name': '홍길동', 'year': 2000, 'month': 1, 'day': 1},\n",
       " '_i73': 'members2 = list(map())',\n",
       " '_i74': 'members1 = list(map())',\n",
       " '_i75': \"# {'name':'홍길동', 'birth':'2000-01-01’} => {'name':'홍길동', 'year':2000, 'month':1,'day':1}\\nmembers2 = [{'name':'홍길동', 'birth':'2000-01-01'},\\\\\\n            {'name':'신길동', 'birth':'1995-12-18'},]\\n\\ndef members_preprocessing(date):\\n    return {'name' : date.get('name', '이름없음'), # date['name']- 사용해도 큰 문제는 없으나 만약 name가 없다면 error\\n            'year' : int(date.get('birth').split('-')[0]), \\n            'month' : int(date.get('birth').split('-')[1]), \\n            'day' : int(date.get('birth').split('-')[2])\\n           } \\nmembers_preprocessing({'name':'홍길동', 'birth':'2000-01-01'})\",\n",
       " 'members2': [{'name': '홍길동', 'year': 2000, 'month': 1, 'day': 1},\n",
       "  {'name': '신길동', 'year': 1995, 'month': 12, 'day': 18}],\n",
       " '_75': {'name': '홍길동', 'year': 2000, 'month': 1, 'day': 1},\n",
       " '_i76': 'members2 = list(map())',\n",
       " '_i77': \"members2 = list(map(lambda members :  {\\n                                    'name' : date.get('name', '이름없음'),\\n                                    'year' : int(date.get('birth').split('-')[0]), \\n                                    'month' : int(date.get('birth').split('-')[1]), \\n                                    'day' : int(date.get('birth').split('-')[2])\\n                                    },\\n                   , members1)\\n               ),\",\n",
       " '_i78': \"members2 = list(map(lambda members :  {\\n                                    'name' : date.get('name', '이름없음'),\\n                                    'year' : int(date.get('birth').split('-')[0]), \\n                                    'month' : int(date.get('birth').split('-')[1]), \\n                                    'day' : int(date.get('birth').split('-')[2])\\n                                    },\\n                   , members2)\\n               ),\",\n",
       " '_i79': \"members2 = list(map(lambda members :  {\\n                                    'name' : date.get('name', '이름없음'),\\n                                    'year' : int(date.get('birth').split('-')[0]), \\n                                    'month' : int(date.get('birth').split('-')[1]), \\n                                    'day' : int(date.get('birth').split('-')[2])\\n                                    },members2)\\n               ),\",\n",
       " '_i80': \"members2 = list(map(lambda date :  {\\n                                    'name' : date.get('name', '이름없음'),\\n                                    'year' : int(date.get('birth').split('-')[0]), \\n                                    'month' : int(date.get('birth').split('-')[1]), \\n                                    'day' : int(date.get('birth').split('-')[2])\\n                                    },members2)\\n               ),\",\n",
       " '_i81': \"members2 = list(map(lambda date :  {\\n                                    'name' : date.get('name', '이름없음'),\\n                                    'year' : int(date.get('birth').split('-')[0]), \\n                                    'month' : int(date.get('birth').split('-')[1]), \\n                                    'day' : int(date.get('birth').split('-')[2])\\n                                    },members2)\\n               ),\",\n",
       " '_i82': \"members2 = list(map(lambda data :  {\\n                                    'name' : data.get('name', '이름없음'),\\n                                    'year' : int(data.get('birth').split('-')[0]), \\n                                    'month' : int(data.get('birth').split('-')[1]), \\n                                    'day' : int(data.get('birth').split('-')[2])\\n                                    },members2)\\n               ),\",\n",
       " '_i83': \"members2 = list(map(lambda data :  {\\n                                    'name' : data.get('name', '이름없음'),\\n                                    'year' : int(data.get('birth').split('-')[0]), \\n                                    'month' : int(data.get('birth').split('-')[1]), \\n                                    'day' : int(data.get('birth').split('-')[2])\\n                                    },members1)\\n               )\",\n",
       " '_i84': \"members2 = list(map(lambda data :  {\\n                                    'name' : data.get('name', '이름없음'),\\n                                    'year' : int(data.get('birth').split('-')[0]), \\n                                    'month' : int(data.get('birth').split('-')[1]), \\n                                    'day' : int(data.get('birth').split('-')[2])\\n                                    },members1)\\n               )\",\n",
       " '_i85': \"members2 = list(map(lambda data :  {\\n                                    'name' : data.get('name', '이름없음'),\\n                                    'year' : int(data.get('birth').split('-')[0]), \\n                                    'month' : int(data.get('birth').split('-')[1]), \\n                                    'day' : int(data.get('birth').split('-')[2])\\n                                    },members1)\\n               )\\nmembers2\",\n",
       " '_85': [{'name': '홍길동', 'year': 2000, 'month': 1, 'day': 1},\n",
       "  {'name': '신길동', 'year': 1995, 'month': 12, 'day': 18}],\n",
       " '_i86': \"'''\\n예제3. members2를 members1으로 전환'''\\nmembers1\",\n",
       " '_86': [{'name': '홍길동', 'birth': '2000-01-01'},\n",
       "  {'name': '신길동', 'birth': '1995-12-18'}],\n",
       " '_i87': \"# {'name':'홍길동', 'birth':'2000-01-01’} => {'name':'홍길동', 'year':2000, 'month':1,'day':1}\\nmembers1 = [{'name':'홍길동', 'birth':'2000-01-01'},\\\\\\n            {'name':'신길동', 'birth':'1995-12-18'},]\\n\\ndef members_preprocessing(date):\\n    return {'name' : date.get('name', '이름없음'), # date['name']- 사용해도 큰 문제는 없으나 만약 name가 없다면 error\\n            'year' : int(date.get('birth').split('-')[0]), \\n            'month' : int(date.get('birth').split('-')[1]), \\n            'day' : int(date.get('birth').split('-')[2])\\n           } \\nmembers_preprocessing({'name':'홍길동', 'birth':'2000-01-01'})\",\n",
       " '_87': {'name': '홍길동', 'year': 2000, 'month': 1, 'day': 1},\n",
       " '_i88': \"members2 = list(map(lambda data :  {\\n                                    'name' : data.get('name', '이름없음'),\\n                                    'year' : int(data.get('birth').split('-')[0]), \\n                                    'month' : int(data.get('birth').split('-')[1]), \\n                                    'day' : int(data.get('birth').split('-')[2])\\n                                    },members1)\\n               )\\nmembers2\",\n",
       " '_88': [{'name': '홍길동', 'year': 2000, 'month': 1, 'day': 1},\n",
       "  {'name': '신길동', 'year': 1995, 'month': 12, 'day': 18}],\n",
       " '_i89': \"'''\\n예제3. members2를 members1으로 전환\\n'''\\n\\nmembers1\",\n",
       " '_89': [{'name': '홍길동', 'birth': '2000-01-01'},\n",
       "  {'name': '신길동', 'birth': '1995-12-18'}],\n",
       " '_i90': \"# {'year': 2000, 'month': 1, 'day': 1} => '2000-01-01'\\ndef join_data(data):\\n    return '{}-{}-{}'.format(data.get('year'),data.get('month'),data.get('day'))\\njoin_data({'year': 2000, 'month': 1, 'day': 1})\",\n",
       " 'join_data': <function __main__.join_data(data)>,\n",
       " '_90': '2000-1-1',\n",
       " '_i91': \"# {'year': 2000, 'month': 1, 'day': 1} => '2000-01-01'\\ndef join_data(data):\\n    return '{}-{:00}-{:00}'.format(data.get('year'),data.get('month'),data.get('day'))\\njoin_data({'year': 2000, 'month': 1, 'day': 1})\",\n",
       " '_91': '2000-1-1',\n",
       " '_i92': \"# {'year': 2000, 'month': 1, 'day': 1} => '2000-01-01'\\ndef join_data(data):\\n    return '{}-{:'0'2}-{:2}'.format(data.get('year'),data.get('month'),data.get('day'))\\njoin_data({'year': 2000, 'month': 1, 'day': 1})\",\n",
       " '_i93': \"# {'year': 2000, 'month': 1, 'day': 1} => '2000-01-01'\\ndef join_data(data):\\n    return '{}-{:02}-{:2}'.format(data.get('year'),data.get('month'),data.get('day'))\\njoin_data({'year': 2000, 'month': 1, 'day': 1})\",\n",
       " '_93': '2000-01- 1',\n",
       " '_i94': \"# {'year': 2000, 'month': 1, 'day': 1} => '2000-01-01'\\ndef join_data(data):\\n    return '{}-{:02}-{:02}'.format(data.get('year'),data.get('month'),data.get('day'))\\njoin_data({'year': 2000, 'month': 1, 'day': 1})\",\n",
       " '_94': '2000-01-01',\n",
       " '_i95': \"# {'year': 2000, 'month': 1, 'day': 1} => '2000-01-01'\\ndef join_data(data):\\n    return '{}-{:02}-{:02}'.format(data.get('year'),data.get('month'),data.get('day'))\\njoin_data({'year': 2000, 'month': 1, 'day': 11})\",\n",
       " '_95': '2000-01-11',\n",
       " '_i96': \"# {'year': 2000, 'month': 1, 'day': 1} => '2000-01-01'\\ndef join_data(data):\\n    return '{year}-{month:02}-{day:02}'.format(**data)\\njoin_data({'year': 2000, 'month': 1, 'day': 11})\",\n",
       " '_96': '2000-01-11',\n",
       " '_i97': \"def join_data(data):\\n    return '{name} {year}-{month:02}-{day:02}'.format(**data)\\njoin_data({'name':'홍','year': 2000, 'month': 1, 'day': 11})\",\n",
       " '_97': '홍 2000-01-11',\n",
       " '_i98': \"# {'year': 2000, 'month': 1, 'day': 1} => '2000-01-01'\\ndef join_data(data):\\n    return {'birth':'{year}-{month:02}-{day:02}'.format(**data)}\\njoin_data({'year': 2000, 'month': 1, 'day': 11})\",\n",
       " '_98': {'birth': '2000-01-11'},\n",
       " '_i99': \"def join_data(data):\\n    return {'name':'{name}, 'birth': {year}-{month:02}-{day:02}'.format(**data)}\\njoin_data({'name':'홍','year': 2000, 'month': 1, 'day': 11})\",\n",
       " '_i100': \"def join_data(data):\\n    return {'name':{name}, 'birth': {year}-{month:02}-{day:02}'.format(**data)}\\njoin_data({'name':'홍','year': 2000, 'month': 1, 'day': 11})\",\n",
       " '_i101': \"def join_data(data):\\n    return {'name':'{name}', 'birth': '{year}-{month:02}-{day:02}'.format(**data)}\\njoin_data({'name':'홍','year': 2000, 'month': 1, 'day': 11})\",\n",
       " '_101': {'name': '{name}', 'birth': '2000-01-11'},\n",
       " '_i102': \"def join_data(data):\\n    return {'name':{name}, 'birth': '{year}-{month:02}-{day:02}'.format(**data)}\\njoin_data({'name':'홍','year': 2000, 'month': 1, 'day': 11})\",\n",
       " '_i103': \"def join_data(data):\\n    return {'name':'{name}'', 'birth': '{year}-{month:02}-{day:02}'.format(**data)}\\njoin_data({'name':'홍','year': 2000, 'month': 1, 'day': 11})\",\n",
       " '_i104': \"def join_data(data):\\n    return {'name':'{name}', 'birth': '{year}-{month:02}-{day:02}'.format(**data)}\\njoin_data({'name':'홍','year': 2000, 'month': 1, 'day': 11})\",\n",
       " '_104': {'name': '{name}', 'birth': '2000-01-11'},\n",
       " '_i105': \"def join_data(data):\\n    return {'name':'{name}', 'birth': '{year}-{month:02}-{day:02}'.format(**data)}\\njoin_data({'name':'홍','year': 2000, 'month': 1, 'day': 11})\",\n",
       " '_105': {'name': '{name}', 'birth': '2000-01-11'},\n",
       " '_i106': \"def join_data(data):\\n    return {'name:{name}', 'birth': '{year}-{month:02}-{day:02}'.format(**data)}\\njoin_data({'name':'홍길동','year': 2000, 'month': 1, 'day': 11})\",\n",
       " '_i107': \"def join_data(data):\\n    return {'name': name, 'birth': '{year}-{month:02}-{day:02}'.format(**data)}\\njoin_data({'name':'홍길동','year': 2000, 'month': 1, 'day': 11})\",\n",
       " '_i108': \"def join_data(data):\\n    return {'name': 'name', 'birth': '{year}-{month:02}-{day:02}'.format(**data)}\\njoin_data({'name':'홍길동','year': 2000, 'month': 1, 'day': 11})\",\n",
       " '_108': {'name': 'name', 'birth': '2000-01-11'},\n",
       " '_i109': \"def join_data(data):\\n    return {'name': {name}, 'birth': '{year}-{month:02}-{day:02}'.format(**data)}\\njoin_data({'name':'홍길동','year': 2000, 'month': 1, 'day': 11})\",\n",
       " '_i110': \"def join_data(data):\\n    return {'name': '{name}', 'birth': '{year}-{month:02}-{day:02}'.format(**data)}\\njoin_data({'name':'홍길동','year': 2000, 'month': 1, 'day': 11})\",\n",
       " '_110': {'name': '{name}', 'birth': '2000-01-11'},\n",
       " '_i111': \"def join_data(data):\\n    return {'name': data.get('name', '이름없음'), 'birth': '{year}-{month:02}-{day:02}'.format(**data)}\\njoin_data({'name':'홍길동','year': 2000, 'month': 1, 'day': 11})\",\n",
       " '_111': {'name': '홍길동', 'birth': '2000-01-11'},\n",
       " '_i112': \"mem_set= lambda data :  {'name': data.get('name', '이름없음'), 'birth': '{year}-{month:02}-{day:02}'.format(**data)}\\n\\nmem_set({'name':'홍길동','year': 2000, 'month': 1, 'day': 11})\",\n",
       " 'mem_set': <function __main__.<lambda>(data)>,\n",
       " '_112': {'name': '홍길동', 'birth': '2000-01-11'},\n",
       " '_i113': \"# {'year': 2000, 'month': 1, 'day': 1} => '2000-01-01'\\ndef join_data(data):\\n    return '{}-{:02}-{:02}'.format(year=data.get('year'),month=data.get('month'),day=data.get('day'))\\njoin_data({'year': 2000, 'month': 1, 'day': 11})\",\n",
       " '_i114': \"# {'year': 2000, 'month': 1, 'day': 1} => '2000-01-01'\\ndef join_data(data):\\n    return {'birth':'{year}-{month:02}-{day:02}'.format(**data)}\\njoin_data({'year': 2000, 'month': 1, 'day': 11})\",\n",
       " '_114': {'birth': '2000-01-11'},\n",
       " '_i115': \"# {'year': 2000, 'month': 1, 'day': 1} => '2000-01-01'\\ndef join_data(data):\\n    return '{}-{:02}-{:02}'.format{year=data.get('year'),month=data.get('month'),day=data.get('day')}\\njoin_data({'year': 2000, 'month': 1, 'day': 11})\",\n",
       " '_i116': \"# {'year': 2000, 'month': 1, 'day': 1} => '2000-01-01'\\ndef join_data(data):\\n    return '{}-{:02}-{:02}'.format({year=data.get('year'),month=data.get('month'),day=data.get('day')})\\njoin_data({'year': 2000, 'month': 1, 'day': 11})\",\n",
       " '_i117': \"# {'year': 2000, 'month': 1, 'day': 1} => '2000-01-01'\\ndef join_data(data):\\n    return '{}-{:02}-{:02}'.format(data.get('year'),data.get('month'),data.get('day')})\\njoin_data({'year': 2000, 'month': 1, 'day': 11})\",\n",
       " '_i118': \"# {'year': 2000, 'month': 1, 'day': 1} => '2000-01-01'\\ndef join_data(data):\\n    return '{}-{:02}-{:02}'.format(data.get('year'),data.get('month'),data.get('day'))\\njoin_data({'year': 2000, 'month': 1, 'day': 11})\",\n",
       " '_118': '2000-01-11',\n",
       " '_i119': \"# members2 => members1\\ndef join_data(data):\\n    return {'name': data.get('name', '이름없음'), 'birth': '{year}-{month:02}-{day:02}'.format(**data)}\\njoin_data({'name':'hong','year': 2000, 'month': 1, 'day': 11})\",\n",
       " '_119': {'name': 'hong', 'birth': '2000-01-11'},\n",
       " '_i120': \"# {'name':'hong','year': 2000, 'month': 1, 'day': 11} => {'name': 'hong', 'birth': '2000-01-11'} 람다\\nlist(map(lambda data :  {'name': data.get('name', '이름없음'), 'birth': '{year}-{month:02}-{day:02}'.format(**data)}\\n        ,members2))\",\n",
       " '_120': [{'name': '홍길동', 'birth': '2000-01-01'},\n",
       "  {'name': '신길동', 'birth': '1995-12-18'}],\n",
       " '_i121': \"# {'name':'hong','year': 2000, 'month': 1, 'day': 11} => {'name': 'hong', 'birth': '2000-01-11'} 람다\\nlist(map(lambda data :  {\\n    'name': data.get('name', '이름없음'), \\n    'birth': '{year}-{month:02}-{day:02}'.format(**data)}\\n    ,members2))\",\n",
       " '_121': [{'name': '홍길동', 'birth': '2000-01-01'},\n",
       "  {'name': '신길동', 'birth': '1995-12-18'}],\n",
       " '_i122': \"members2 = list(map(lambda data :  {\\n                                    'name' : data.get('name', '이름없음'),\\n                                    'year' : int(data.get('birth').split('-')[0]), \\n                                    'month' : int(data.get('birth').split('-')[1]), \\n                                    'day' : int(data.get('birth').split('-')[2])\\n                                    },members1)\\n               )\\nmembers2\",\n",
       " '_122': [{'name': '홍길동', 'year': 2000, 'month': 1, 'day': 1},\n",
       "  {'name': '신길동', 'year': 1995, 'month': 12, 'day': 18}],\n",
       " '_i123': \"# {'name':'hong','year': 2000, 'month': 1, 'day': 11} => {'name': 'hong', 'birth': '2000-01-11'} 람다\\nlist(map(lambda data :  {\\n    'name': data.get('name', '이름없음'), \\n    'birth': '{year}-{month:02}-{day:02}'.format(**data)}\\n    ,members2))\",\n",
       " '_123': [{'name': '홍길동', 'birth': '2000-01-01'},\n",
       "  {'name': '신길동', 'birth': '1995-12-18'}],\n",
       " '_i124': 'def filter_template(func, L=[]):\\n    result = []\\n    for item in L:\\n        if func(item):\\n            result.append(item)\\n    return result',\n",
       " 'filter_template': <function __main__.filter_template(func, L=[])>,\n",
       " '_i125': 'list_data=[1,2,3,4,5,6,7,8,9]\\ndef order_chk(value):\\n    return values%2\\n#     if valuse%2:\\n#         return True\\n#     else:\\n#         return False\\nfliter_template(lambda value : value%2, list_data)',\n",
       " 'order_chk': <function __main__.order_chk(value)>,\n",
       " '_i126': 'list_data=[1,2,3,4,5,6,7,8,9]\\ndef order_chk(value):\\n    return values%2\\n#     if valuse%2:\\n#         return True\\n#     else:\\n#         return False\\nfilter_template(lambda value : value%2, list_data)',\n",
       " '_126': [1, 3, 5, 7, 9],\n",
       " '_i127': 'list([data for data in list_data if data%2])',\n",
       " '_127': [1, 3, 5, 7, 9],\n",
       " '_i128': '[data for data in list_data if data%2]',\n",
       " '_128': [1, 3, 5, 7, 9],\n",
       " '_i129': '# 리스트컴프리헨션\\n[data for data in list_data if data%2]',\n",
       " '_129': [1, 3, 5, 7, 9],\n",
       " '_i130': 'list(filter(lambda value : value%2, list_data))',\n",
       " '_130': [1, 3, 5, 7, 9],\n",
       " '_i131': '# 예제 : 다음 리스트에서 소수점 이하가 0인 수만 추출하시오(filter/ 리스트컴프리헨션)\\nL=[1, 1.2, 1.5, 3.0, 10.5, 100]\\n[data for data in L if L%1]',\n",
       " 'L': [1, 1.2, 1.5, 3.0, 10.5, 100, -2.0, -12.2],\n",
       " '_i132': '# 예제 : 다음 리스트에서 소수점 이하가 0인 수만 추출하시오(filter/ 리스트컴프리헨션)\\nL=[1, 1.2, 1.5, 3.0, 10.5, 100]\\n[data for data in L if data%1]',\n",
       " '_132': [1.2, 1.5, 10.5],\n",
       " '_i133': '# 예제 : 다음 리스트에서 소수점 이하가 0인 수만 추출하시오(filter/ 리스트컴프리헨션)\\nL=[1, 1.2, 1.5, 3.0, 10.5, 100]\\n[data for data in L if data%1==0]',\n",
       " '_133': [1, 3.0, 100],\n",
       " '_i134': '# 예제 : 다음 리스트에서 소수점 이하가 0인 수만 추출하시오(filter/ 리스트컴프리헨션)\\nL=[1, 1.2, 1.5, 3.0, 10.5, 100]\\n# filter\\nlist(filter(lambda data : data%2==0, L))',\n",
       " '_134': [100],\n",
       " '_i135': '# 리스트컴프리헨션\\n[data for data in L if data%1==0]',\n",
       " '_135': [1, 3.0, 100],\n",
       " '_i136': '# 예제 : 다음 리스트에서 소수점 이하가 0인 수만 추출하시오(filter/ 리스트컴프리헨션)\\nL=[1, 1.2, 1.5, 3.0, 10.5, 100]\\n# filter\\nlist(filter(lambda data : data%2==0, L))',\n",
       " '_136': [100],\n",
       " '_i137': '# 예제 : 다음 리스트에서 소수점 이하가 0인 수만 추출하시오(filter/ 리스트컴프리헨션)\\nL=[1, 1.2, 1.5, 3.0, 10.5, 100]\\n# filter\\nlist(filter(lambda data : data%1==0, L))',\n",
       " '_137': [1, 3.0, 100],\n",
       " '_i138': '# 예제 : 다음 리스트에서 소수점 이하가 0인 수만 추출하시오(filter/ 리스트컴프리헨션)\\nL=[1, 1.2, 1.5, 3.0, 10.5, 100]\\n# filter\\nprint(list(filter(lambda data : data % 1 == 0, L)))\\n# 리스트컴프리헨션\\nprint([data for data in L if data % 1 == 0])',\n",
       " '_i139': '# 예제 : 다음 리스트에서 소수점 이하가 0인 수만 추출하시오(filter/ 리스트컴프리헨션)\\nL=[1, 1.2, 1.5, 3.0, 10.5, 100, -2.0]\\n# filter\\nprint(list(filter(lambda data : data % 1 == 0, L)))\\n# 리스트컴프리헨션\\nprint([data for data in L if data % 1 == 0])',\n",
       " '_i140': '# 예제 : 다음 리스트에서 소수점 이하가 0인 수만 추출하시오(filter/ 리스트컴프리헨션)\\nL=[1, 1.2, 1.5, 3.0, 10.5, 100, -2.0, -12.2]\\n# filter\\nprint(list(filter(lambda data : data % 1 == 0, L)))\\n# 리스트컴프리헨션\\nprint([data for data in L if data % 1 == 0])',\n",
       " '_i141': '# 예제 : 다음 리스트에서 소수점 이하가 0인 수만 추출하시오(filter/ 리스트컴프리헨션)\\nL=[1, 1.2, 1.5, 3.0, 10.5, 100, -2.0, -12.2]\\n# filter\\nlist(filter(lambda data : data % 1 == 0, L))',\n",
       " '_141': [1, 3.0, 100, -2.0],\n",
       " '_i142': '# 리스트컴프리헨션\\n[data for data in L if data % 1 == 0]',\n",
       " '_142': [1, 3.0, 100, -2.0],\n",
       " '_i143': 'p=[10,3,6,1]\\np.sort()\\np',\n",
       " 'p': [10, 6, 3, 1],\n",
       " '_143': [1, 3, 6, 10],\n",
       " '_i144': 'p=[10,3,6,1]\\np.sort(reverse=True)\\np',\n",
       " '_144': [10, 6, 3, 1],\n",
       " '_i145': '# 무조건 0번째 item을 기준으로 오름차순 정렬\\npairs=[(2,\"two\"),(1,\"one\"),(3,\"three\"),(4,\\'four\\')]\\npairs.sort()\\npairs',\n",
       " 'pairs': [(2, 'two'), (3, 'three'), (1, 'one'), (4, 'four')],\n",
       " '_145': [(2, 'two'), (3, 'three'), (1, 'one'), (4, 'four')],\n",
       " '_i146': '# 1번째 아이템 기준으로 내림차순\\n\\npairs.sort(key=lambda data : data[1])',\n",
       " '_i147': '# 1번째 아이템 기준으로 내림차순\\n\\npairs.sort(key=lambda data : data[1])\\npairs',\n",
       " '_147': [(2, 'two'), (3, 'three'), (1, 'one'), (4, 'four')],\n",
       " '_i148': '# 1번째 아이템 기준으로 내림차순\\n\\npairs.sort(key=lambda data : data[1],reverse=True)\\npairs',\n",
       " '_148': [(2, 'two'), (3, 'three'), (1, 'one'), (4, 'four')],\n",
       " '_i149': '# 합이 큰 순으로 정렬\\nnumbers_2d = [[9,9],[1,100],[10,1]]\\nnumbers_2d.sort(key= lambda data : data[0]+data[1], reverse =True)',\n",
       " 'numbers_2d': [[10, 200], [1, 100], [9, 9]],\n",
       " '_i150': '# 합이 큰 순으로 정렬\\nnumbers_2d = [[9,9],[1,100],[10,1]]\\nnumbers_2d.sort(key= lambda data : data[0]+data[1], reverse =True)\\nnumbers_2d',\n",
       " '_150': [[1, 100], [9, 9], [10, 1]],\n",
       " '_i151': '# 합이 큰 순으로 정렬\\nnumbers_2d = [[9,9],[1,100],[10,1],[6,4]]\\nnumbers_2d.sort(key= lambda data : data[0]+data[1], reverse =True)\\nnumbers_2d',\n",
       " '_151': [[1, 100], [9, 9], [10, 1], [6, 4]],\n",
       " '_i152': '# 합이 큰 순으로 정렬\\nnumbers_2d = [[9,9],[1,100],[10,1],[6,4]]\\nnumbers_2d.sort(key= lambda data : data[0]+data[1], reverse =True)\\nnumbers_2d',\n",
       " '_152': [[1, 100], [9, 9], [10, 1], [6, 4]],\n",
       " '_i153': '# 합이 큰 순으로 정렬\\nnumbers_2d = [[9,9],[1,100],[10,200],[6,4]]\\nnumbers_2d.sort(key= lambda data : data[0]+data[1], reverse =True)\\nnumbers_2d',\n",
       " '_153': [[10, 200], [1, 100], [9, 9], [6, 4]],\n",
       " '_i154': '# 합이 큰 순으로 정렬\\nnumbers_2d = [[9,9],[1,100],[10,200]]\\nnumbers_2d.sort(key= lambda data : data[0]+data[1], reverse =True)\\nnumbers_2d',\n",
       " '_154': [[10, 200], [1, 100], [9, 9]],\n",
       " '_i155': '# 합이 큰 순으로 정렬\\nnumbers_2d = [[9,9],[1,100],[10,200]]\\nnumbers_2d.sort(key= lambda data : sum(data), reverse =True)\\nnumbers_2d',\n",
       " '_155': [[10, 200], [1, 100], [9, 9]],\n",
       " '_i156': \"students = [{'name':'홍','score':99},\\n           {'name':'김','score':50},\\n           {'name':'박','score':77},\\n           {'score':100}]\\nstudents.sort()\",\n",
       " 'students': [{'score': 100},\n",
       "  {'name': '홍', 'score': 99},\n",
       "  {'name': '박', 'score': 77},\n",
       "  {'name': '김', 'score': 50}],\n",
       " '_i157': \"students = [{'name':'홍','score':99},\\n           {'name':'김','score':50},\\n           {'name':'박','score':77},\\n           {'score':100}]\\nstudents.sort(key = lambda data : data.get('name'))\",\n",
       " '_i158': 'students = [{\\'name\\':\\'홍\\',\\'score\\':99},\\n           {\\'name\\':\\'김\\',\\'score\\':50},\\n           {\\'name\\':\\'박\\',\\'score\\':77},\\n           {\\'score\\':100}]\\nstudents.sort(key = lambda data : data.get(\\'name\\',\"이름없음\"))',\n",
       " '_i159': 'students = [{\\'name\\':\\'홍\\',\\'score\\':99},\\n           {\\'name\\':\\'김\\',\\'score\\':50},\\n           {\\'name\\':\\'박\\',\\'score\\':77},\\n           {\\'score\\':100}]\\nstudents.sort(key = lambda data : data.get(\\'name\\',\"이름없음\"))\\nstudents',\n",
       " '_159': [{'name': '김', 'score': 50},\n",
       "  {'name': '박', 'score': 77},\n",
       "  {'score': 100},\n",
       "  {'name': '홍', 'score': 99}],\n",
       " '_i160': 'students = [{\\'name\\':\\'홍\\',\\'score\\':99},\\n           {\\'name\\':\\'김\\',\\'score\\':50},\\n           {\\'name\\':\\'박\\',\\'score\\':77},\\n           {\\'score\\':100}]\\nstudents.sort(key = lambda data : data.get(\\'name\\',\"none\"))\\nstudents',\n",
       " '_160': [{'name': '김', 'score': 50},\n",
       "  {'name': '박', 'score': 77},\n",
       "  {'name': '홍', 'score': 99},\n",
       "  {'score': 100}],\n",
       " '_i161': \"students.sort(key = lambda data : data.get('score'))\\nstudents\",\n",
       " '_161': [{'name': '김', 'score': 50},\n",
       "  {'name': '박', 'score': 77},\n",
       "  {'name': '홍', 'score': 99},\n",
       "  {'score': 100}],\n",
       " '_i162': '# student를 name순으로 정렬(ㄱ,ㄴ,ㄷ 순)\\nstudents = [{\\'name\\':\\'홍\\',\\'score\\':99},\\n           {\\'name\\':\\'김\\',\\'score\\':50},\\n           {\\'name\\':\\'박\\',\\'score\\':77},\\n           {\\'score\\':100}]\\nstudents.sort(key = lambda data : data.get(\\'name\\',\"힣\"))\\nstudents',\n",
       " '_162': [{'score': 100},\n",
       "  {'name': '홍', 'score': 99},\n",
       "  {'name': '박', 'score': 77},\n",
       "  {'name': '김', 'score': 50}],\n",
       " '_i163': \"# student를 score 큰 순으로 변경\\nstudents.sort(key = lambda data : data.get('score'),reverse = True)\\nstudents\",\n",
       " '_163': [{'score': 100},\n",
       "  {'name': '홍', 'score': 99},\n",
       "  {'name': '박', 'score': 77},\n",
       "  {'name': '김', 'score': 50}],\n",
       " '_i164': \"# student를 score 큰 순으로 변경\\nstudents.sort(key = lambda data : data.get('score',0),reverse = True)\\nstudents\",\n",
       " '_164': [{'score': 100},\n",
       "  {'name': '홍', 'score': 99},\n",
       "  {'name': '박', 'score': 77},\n",
       "  {'name': '김', 'score': 50}],\n",
       " '_i165': \"[{'no':1, 'title':'더트릭컬', 'writer':'폴빠','price':'19,800'},\\n{'no':2, 'title':'흔한남매', 'writer':'백난도', 'price':'15,120'},\\n{'no':3, 'title':'단 한 번의 삶', 'writer':'김영하', 'price':'15,120'},\\n{'no':4, 'title':'가격잘못', 'writer':'홍길동', 'price':'ㅁ'},\\n{'no':5, 'title':'가격이숫자', 'writer':'백난도', 'price':30200},\\n{'no':6, 'title':'가격이없음', 'writer':'이길동'}]\",\n",
       " '_165': [{'no': 1, 'title': '더트릭컬', 'writer': '폴빠', 'price': '19,800'},\n",
       "  {'no': 2, 'title': '흔한남매', 'writer': '백난도', 'price': '15,120'},\n",
       "  {'no': 3, 'title': '단 한 번의 삶', 'writer': '김영하', 'price': '15,120'},\n",
       "  {'no': 4, 'title': '가격잘못', 'writer': '홍길동', 'price': 'ㅁ'},\n",
       "  {'no': 5, 'title': '가격이숫자', 'writer': '백난도', 'price': 30200},\n",
       "  {'no': 6, 'title': '가격이없음', 'writer': '이길동'}],\n",
       " '_i166': \"books = \\\\\\n[{'no':1, 'title':'더트릭컬', 'writer':'폴빠','price':'19,800'},\\n{'no':2, 'title':'흔한남매', 'writer':'백난도', 'price':'15,120'},\\n{'no':3, 'title':'단 한 번의 삶', 'writer':'김영하', 'price':'15,120'},\\n{'no':4, 'title':'가격잘못', 'writer':'홍길동', 'price':'ㅁ'},\\n{'no':5, 'title':'가격이숫자', 'writer':'백난도', 'price':30200},\\n{'no':6, 'title':'가격이없음', 'writer':'이길동'}]\",\n",
       " 'books': [{'no': 5, 'title': '가격이숫자', 'writer': '백난도', 'price': 30200},\n",
       "  {'no': 6, 'title': '가격이없음', 'writer': '이길동'},\n",
       "  {'no': 4, 'title': '가격잘못', 'writer': '홍길동', 'price': 'ㅁ'},\n",
       "  {'no': 3, 'title': '단 한 번의 삶', 'writer': '김영하', 'price': '15,120'},\n",
       "  {'no': 2, 'title': '더트릭컬', 'writer': '폴빠', 'price': '19,800'},\n",
       "  {'no': 1, 'title': '흔한남매', 'writer': '백난도', 'price': '15,120'}],\n",
       " '_i167': 'books',\n",
       " '_167': [{'no': 1, 'title': '더트릭컬', 'writer': '폴빠', 'price': '19,800'},\n",
       "  {'no': 2, 'title': '흔한남매', 'writer': '백난도', 'price': '15,120'},\n",
       "  {'no': 3, 'title': '단 한 번의 삶', 'writer': '김영하', 'price': '15,120'},\n",
       "  {'no': 4, 'title': '가격잘못', 'writer': '홍길동', 'price': 'ㅁ'},\n",
       "  {'no': 5, 'title': '가격이숫자', 'writer': '백난도', 'price': 30200},\n",
       "  {'no': 6, 'title': '가격이없음', 'writer': '이길동'}],\n",
       " '_i168': \"books.sort(key=lambda data : data.get('no'))\",\n",
       " '_i169': \"books.sort(key=lambda data : data.get('no'))\\nbooks\",\n",
       " '_169': [{'no': 1, 'title': '더트릭컬', 'writer': '폴빠', 'price': '19,800'},\n",
       "  {'no': 2, 'title': '흔한남매', 'writer': '백난도', 'price': '15,120'},\n",
       "  {'no': 3, 'title': '단 한 번의 삶', 'writer': '김영하', 'price': '15,120'},\n",
       "  {'no': 4, 'title': '가격잘못', 'writer': '홍길동', 'price': 'ㅁ'},\n",
       "  {'no': 5, 'title': '가격이숫자', 'writer': '백난도', 'price': 30200},\n",
       "  {'no': 6, 'title': '가격이없음', 'writer': '이길동'}],\n",
       " '_i170': \"books = \\\\\\n[{'no':2, 'title':'더트릭컬', 'writer':'폴빠','price':'19,800'},\\n{'no':1, 'title':'흔한남매', 'writer':'백난도', 'price':'15,120'},\\n{'no':3, 'title':'단 한 번의 삶', 'writer':'김영하', 'price':'15,120'},\\n{'no':4, 'title':'가격잘못', 'writer':'홍길동', 'price':'ㅁ'},\\n{'no':5, 'title':'가격이숫자', 'writer':'백난도', 'price':30200},\\n{'no':6, 'title':'가격이없음', 'writer':'이길동'}]\",\n",
       " '_i171': \"books.sort(key=lambda data : data.get('no'))\\nbooks\",\n",
       " '_171': [{'no': 5, 'title': '가격이숫자', 'writer': '백난도', 'price': 30200},\n",
       "  {'no': 6, 'title': '가격이없음', 'writer': '이길동'},\n",
       "  {'no': 4, 'title': '가격잘못', 'writer': '홍길동', 'price': 'ㅁ'},\n",
       "  {'no': 3, 'title': '단 한 번의 삶', 'writer': '김영하', 'price': '15,120'},\n",
       "  {'no': 2, 'title': '더트릭컬', 'writer': '폴빠', 'price': '19,800'},\n",
       "  {'no': 1, 'title': '흔한남매', 'writer': '백난도', 'price': '15,120'}],\n",
       " '_i172': \"# title 기준으로 sort\\nbooks.sort(key=lambda data : data.get('title'))\\nbooks\",\n",
       " '_172': [{'no': 5, 'title': '가격이숫자', 'writer': '백난도', 'price': 30200},\n",
       "  {'no': 6, 'title': '가격이없음', 'writer': '이길동'},\n",
       "  {'no': 4, 'title': '가격잘못', 'writer': '홍길동', 'price': 'ㅁ'},\n",
       "  {'no': 3, 'title': '단 한 번의 삶', 'writer': '김영하', 'price': '15,120'},\n",
       "  {'no': 2, 'title': '더트릭컬', 'writer': '폴빠', 'price': '19,800'},\n",
       "  {'no': 1, 'title': '흔한남매', 'writer': '백난도', 'price': '15,120'}],\n",
       " '_i173': \"# price기준으로 sort\\n# no기준으로 sort\\nbooks.sort(key=lambda data : data.get('price'))\\nbooks\",\n",
       " '_i174': \"# price기준으로 sort\\n# no기준으로 sort\\nbooks.sort(key=lambda data : data.get('price',0))\\nbooks\",\n",
       " '_i175': \"# 30200,'12,000','5000','ㅁ',None => 30200, 12000, 5000, 0, 0\\ndaf parse_int(price):\\n    print(y=type(price))\\nparse_int('12,000')\",\n",
       " '_i176': \"# 30200,'12,000','5000','ㅁ',None => 30200, 12000, 5000, 0, 0\\ndef parse_int(price):\\n    print(y=type(price))\\nparse_int('12,000')\",\n",
       " 'parse_int': <function __main__.<lambda>(book)>,\n",
       " '_i177': '# ',\n",
       " '_i178': \"# 30200,'12,000','5000','ㅁ',None => 30200, 12000, 5000, 0, 0\\ndef parse_int(price):\\n    print(type(price))\\nparse_int('12,000')\",\n",
       " '_i179': '# 30200,\\'12,000\\',\\'5000\\',\\'ㅁ\\',None => 30200, 12000, 5000, 0, 0\\ndef parse_int(price):\\n    if isinstance(price,str):\\n        price.replace(\",\",\"\")\\n#     print(type(price))\\nparse_int(\\'12,000\\')',\n",
       " '_i180': '# 30200,\\'12,000\\',\\'5000\\',\\'ㅁ\\',None => 30200, 12000, 5000, 0, 0\\ndef parse_int(price):\\n    if isinstance(price,str):\\n        price.replace(\",\",\"\")\\n    print(type(price))\\nparse_int(\\'12,000\\')',\n",
       " '_i181': '# 30200,\\'12,000\\',\\'5000\\',\\'ㅁ\\',None => 30200, 12000, 5000, 0, 0\\ndef parse_int(price):\\n    if isinstance(price,str):\\n        price.replace(\",\",\"\")\\n    print(price)\\nparse_int(\\'12,000\\')',\n",
       " '_i182': '# 30200,\\'12,000\\',\\'5000\\',\\'ㅁ\\',None => 30200, 12000, 5000, 0, 0\\ndef parse_int(price):\\n    if isinstance(price,str):\\n        price.replace(\\',\\',\"\")\\n    print(price)\\nparse_int(\\'12,000\\')',\n",
       " '_i183': '# 30200,\\'12,000\\',\\'5000\\',\\'ㅁ\\',None => 30200, 12000, 5000, 0, 0\\ndef parse_int(price):\\n    if isinstance(price,str) and price.replace(\\',\\',\"\").isdigit():\\n        return int(price.repleace(\\',\\',\\'\\'))\\n    print(price)\\nparse_int(\\'12,000\\')',\n",
       " '_i184': \"# 30200,'12,000','5000','ㅁ',None => 30200, 12000, 5000, 0, 0\\ndef parse_int(price):\\n    if isinstance(price,str) and price.replace(',','').isdigit():\\n        return int(price.repleace(',',''))\\n    print(price)\\nparse_int('12,000')\",\n",
       " '_i185': \"# 30200,'12,000','5000','ㅁ',None => 30200, 12000, 5000, 0, 0\\ndef parse_int(price):\\n    if isinstance(price,str) and price.replace(',','').isdigit():\\n        return int(price.replace(',',''))\\n    print(price)\\nparse_int('12,000')\",\n",
       " '_185': 12000,\n",
       " '_i186': \"# 30200,'12,000','5000','ㅁ',None => 30200, 12000, 5000, 0, 0\\ndef parse_int(price):\\n    if isinstance(price,str) and price.replace(',','').isdigit():\\n        return int(price.replace(',',''))\\n    print(price)\\nparse_int('m')\",\n",
       " '_i187': \"# 30200,'12,000','5000','ㅁ',None => 30200, 12000, 5000, 0, 0\\ndef parse_int(price):\\n    if isinstance(price,str) and price.replace(',','').isdigit():\\n        return int(price.replace(',',''))\\n    print(price)\\nparse_int('a')\",\n",
       " '_i188': \"# 30200,'12,000','5000','ㅁ',None => 30200, 12000, 5000, 0, 0\\ndef parse_int(price):\\n    if isinstance(price,str) and price.replace(',','').isdigit():\\n        return int(price.replace(',',''))\\n    print(price)\\nparse_int('12,000')\",\n",
       " '_188': 12000,\n",
       " '_i189': \"# 30200,'12,000','5000','ㅁ',None => 30200, 12000, 5000, 0, 0\\ndef parse_int(price):\\n    if isinstance(price,str) and price.replace(',','').isdigit():\\n        return int(price.replace(',',''))\\n    elif isinstance(price,int):\\n        return price\\nprint(parse_int('12,000'),parse_int(32000),parse_int('ㅁ'))\",\n",
       " '_i190': \"# 30200,'12,000','5000','ㅁ',None => 30200, 12000, 5000, 0, 0\\ndef parse_int(price):\\n    if isinstance(price,str) and price.replace(',','').isdigit():\\n        return int(price.replace(',',''))\\n    elif isinstance(price,int):\\n        return price\\n    else:\\n        return 0\\nprint(parse_int('12,000'),parse_int(32000),parse_int('ㅁ'),parse_int(None))\",\n",
       " '_i191': \"# 람다식으로\\npsrse_int= lambda price :\\\\\\n                        int(price.replace(',','')) if isinstance(price,str) and price.replace(',','').isdigit() else\\\\\\n                        price if isinstance(price,int): else 0\\n\\nprint(parse_int('12,000'),parse_int(32000),parse_int('ㅁ'),parse_int(None))\",\n",
       " '_i192': \"# 람다식으로\\npsrse_int= lambda price :\\\\\\n                        int(price.replace(',','')) if isinstance(price,str) and price.replace(',','').isdigit() else\\\\\\n                        price if isinstance(price,int) else 0\\n\\nprint(parse_int('12,000'),parse_int(32000),parse_int('ㅁ'),parse_int(None))\",\n",
       " 'psrse_int': <function __main__.<lambda>(book)>,\n",
       " '_i193': \"# 람다식으로\\npsrse_int= lambda price :\\\\\\n                        int(price.replace(',','')) if isinstance(price,str) and price.replace(',','').isdigit() else\\\\\\n                        price if isinstance(price,int) else 0\\n\\nprint(parse_int('12,000'),parse_int(32000),parse_int('ㅁ'),parse_int(None))\",\n",
       " '_i194': \"psrse_int= lambda book :\\\\\\n                        int(book.get('price').replace(',','')) if isinstance(price,str) and book.get('price').replace(',','').isdigit() else\\\\\\n                        book.get('price') if isinstance(book.get('price'),int) else 0\\nprrse_int({'no': 5, 'title': '가격이숫자', 'writer': '백난도', 'price': 30200})\",\n",
       " '_i195': \"# 람다식으로\\nparse_int= lambda price :\\\\\\n                        int(price.replace(',','')) if isinstance(price,str) and price.replace(',','').isdigit() else\\\\\\n                        price if isinstance(price,int) else 0\\n\\nprint(parse_int('12,000'),parse_int(32000),parse_int('ㅁ'),parse_int(None))\",\n",
       " '_i196': \"parse_int= lambda book :\\\\\\n                        int(book.get('price').replace(',','')) if isinstance(price,str) and book.get('price').replace(',','').isdigit() else\\\\\\n                        book.get('price') if isinstance(book.get('price'),int) else 0\\nparse_int({'no': 5, 'title': '가격이숫자', 'writer': '백난도', 'price': 30200})\",\n",
       " '_i197': \"parse_int= lambda book :\\\\\\n                        int(book.get('price').replace(',','')) if isinstance(book.get('price'),str) and book.get('price').replace(',','').isdigit() else\\\\\\n                        book.get('price') if isinstance(book.get('price'),int) else 0\\nparse_int({'no': 5, 'title': '가격이숫자', 'writer': '백난도', 'price': 30200})\",\n",
       " '_197': 30200,\n",
       " '_i198': \"parse_int= lambda book :\\\\\\n                        int(book.get('price').replace(',','')) if isinstance(book.get('price'),str)\\\\\\n                        and book.get('price').replace(',','').isdigit() else\\\\\\n                        book.get('price') if isinstance(book.get('price'),int) else 0\\nparse_int({'no': 5, 'title': '가격이숫자', 'writer': '백난도', 'price': 30200})\",\n",
       " '_198': 30200,\n",
       " '_i199': \"copyBooks = book.copy() # 복제\\ncopyBooks.sort(key=lambda book :\\\\\\n                        int(book.get('price').replace(',','')) if isinstance(book.get('price'),str)\\\\\\n                        and book.get('price').replace(',','').isdigit() else\\\\\\n                        book.get('price') if isinstance(book.get('price'),int) else 0,\\n              reverse=True)\\ncopyBooks\",\n",
       " '_i200': \"copyBooks = books.copy() # 복제\\ncopyBooks.sort(key=lambda book :\\\\\\n                        int(book.get('price').replace(',','')) if isinstance(book.get('price'),str)\\\\\\n                        and book.get('price').replace(',','').isdigit() else\\\\\\n                        book.get('price') if isinstance(book.get('price'),int) else 0,\\n              reverse=True)\\ncopyBooks\",\n",
       " 'copyBooks': [{'no': 5, 'title': '가격이숫자', 'writer': '백난도', 'price': 30200},\n",
       "  {'no': 2, 'title': '더트릭컬', 'writer': '폴빠', 'price': '19,800'},\n",
       "  {'no': 3, 'title': '단 한 번의 삶', 'writer': '김영하', 'price': '15,120'},\n",
       "  {'no': 1, 'title': '흔한남매', 'writer': '백난도', 'price': '15,120'},\n",
       "  {'no': 6, 'title': '가격이없음', 'writer': '이길동'},\n",
       "  {'no': 4, 'title': '가격잘못', 'writer': '홍길동', 'price': 'ㅁ'}],\n",
       " '_200': [{'no': 5, 'title': '가격이숫자', 'writer': '백난도', 'price': 30200},\n",
       "  {'no': 2, 'title': '더트릭컬', 'writer': '폴빠', 'price': '19,800'},\n",
       "  {'no': 3, 'title': '단 한 번의 삶', 'writer': '김영하', 'price': '15,120'},\n",
       "  {'no': 1, 'title': '흔한남매', 'writer': '백난도', 'price': '15,120'},\n",
       "  {'no': 6, 'title': '가격이없음', 'writer': '이길동'},\n",
       "  {'no': 4, 'title': '가격잘못', 'writer': '홍길동', 'price': 'ㅁ'}],\n",
       " '_i201': \"# price기준으로 sort\\nbooks.sort(key=lambda data : data.get('price,0'))\\nbooks\",\n",
       " '_i202': 'glovals()',\n",
       " '_i203': 'globals()',\n",
       " '_203': {...},\n",
       " '_i204': 'a=10',\n",
       " 'a': 10,\n",
       " '_i205': 'globals()'}"
      ]
     },
     "execution_count": 205,
     "metadata": {},
     "output_type": "execute_result"
    }
   ],
   "source": [
    "globals() # 전역변수 리스트"
   ]
  },
  {
   "cell_type": "code",
   "execution_count": 206,
   "id": "d5c83e0d",
   "metadata": {},
   "outputs": [
    {
     "data": {
      "text/plain": [
       "False"
      ]
     },
     "execution_count": 206,
     "metadata": {},
     "output_type": "execute_result"
    }
   ],
   "source": [
    "all([True,True,True,False]) # 모든 요소가 True인지 여부"
   ]
  },
  {
   "cell_type": "markdown",
   "id": "9f17fda5",
   "metadata": {},
   "source": [
    "# 6절 연습문제"
   ]
  },
  {
   "cell_type": "code",
   "execution_count": 85,
   "id": "978ba715",
   "metadata": {},
   "outputs": [
    {
     "name": "stdout",
     "output_type": "stream",
     "text": [
      "{'최댓값': 9, '최솟값': 1}\n"
     ]
    }
   ],
   "source": [
    "# 1. 함수의 인자로 리스트를 받은 후 리스트 내에 있는 모든 정수값에 대한 최댓값과 최솟값을 리턴\n",
    "def get_max_min(data_list):\n",
    "    data_list.sort()\n",
    "    max_=data_list[len(data_list)-1]\n",
    "    min_=data_list[0]\n",
    "    \n",
    "    return {'최댓값': max_, '최솟값' : min_}\n",
    "L=[3,2,1,4,5,6,7,9,8]\n",
    "print(get_max_min(L))"
   ]
  },
  {
   "cell_type": "code",
   "execution_count": 111,
   "id": "ad06a438",
   "metadata": {},
   "outputs": [
    {
     "name": "stdout",
     "output_type": "stream",
     "text": [
      "{'최댓값': 9, '최솟값': 1}\n",
      "(9, 1)\n"
     ]
    }
   ],
   "source": [
    "# 1-1. 다른 방식으로 풀려면\n",
    "def get_max_min(data_list):\n",
    "    return {\"최댓값\" : max(data_list), '최솟값' : min(data_list)}\n",
    "print(get_max_min(L))\n",
    "get_max_min = lambda data_list : (max(data_list), min(data_list)) \n",
    "# 람다식을 바꾸면 반드시 튜플로, 괄호가 없다면 ,앞까지만 인식함\n",
    "print(get_max_min(L))"
   ]
  },
  {
   "cell_type": "code",
   "execution_count": 9,
   "id": "584c9a03",
   "metadata": {},
   "outputs": [
    {
     "name": "stdout",
     "output_type": "stream",
     "text": [
      "마른체형\n"
     ]
    }
   ],
   "source": [
    "# 2. 체중(kg)과 신장(m)을 입력받은 후 BMI값에 따라 '마른체형', '표준','비만','고도비만'중 하나의 상태를 출력\n",
    "'''\n",
    "getBMI(kg,m):\n",
    "BMI지수 = 체중/신장**2\n",
    "BMI<18.5 : 마른체형\n",
    "18.5<= BMI < 25 :표준\n",
    "25<= BMI <30 : 비만\n",
    "BMI >=30 :고도비만\n",
    "'''\n",
    "\n",
    "def getBMI(kg,m): \n",
    "    bmi= kg/(m**2)\n",
    "    \n",
    "    if bmi < 18.5:\n",
    "        print('마른체형')\n",
    "    \n",
    "    elif 18.5 <= bmi < 25:\n",
    "        print('표준')\n",
    "    \n",
    "    elif 25 <= bmi < 30:\n",
    "        print('비만')\n",
    "    \n",
    "    elif 30 <= bmi:\n",
    "        print('고도비만')\n",
    "getBMI(50,1.75)"
   ]
  },
  {
   "cell_type": "code",
   "execution_count": 208,
   "id": "88a707e6",
   "metadata": {},
   "outputs": [
    {
     "data": {
      "text/plain": [
       "{'넓이': 6.0, '둘레': 12.0}"
      ]
     },
     "execution_count": 208,
     "metadata": {},
     "output_type": "execute_result"
    }
   ],
   "source": [
    "# 3. 직각삼각형 w, h로 area, perimeter(넓이, 둘레)\n",
    "import math\n",
    "def get_trianle(w,h):\n",
    "    area = w * h * 0.5\n",
    "    # math.sqrt() : 제곱근\n",
    "    perimeter = w + h + math.sqrt(w**2 + h**2)\n",
    "    return {'넓이':area, '둘레':perimeter}\n",
    "get_trianle(3,4)"
   ]
  },
  {
   "cell_type": "code",
   "execution_count": 10,
   "id": "dee349ac",
   "metadata": {},
   "outputs": [
    {
     "name": "stdout",
     "output_type": "stream",
     "text": [
      "mysum 함수 : 9\n",
      "람다식으로 :  15\n"
     ]
    }
   ],
   "source": [
    "# 4. 함수의 인자로 시작과 끝 숫자가 주어질 때 시작부터 끝까지의 모든 정수값의 합을 리턴하는 함수(시작값, 끝값 포함)\n",
    "def mysum(fRom,end):\n",
    "    large = abs(end - fRom)\n",
    "    \n",
    "    # 시작값과 끝 값을 짝지은 후 같은 값들의 묶음들의 갯수만큼 곱\n",
    "    # 단 정수들의 갯수가 홀수일 땐 중앙값을 찾아 추가로 더함\n",
    "     # ex1 1~4 (1+4)+(2+3)\n",
    "    if large%2:\n",
    "        sum_ = (fRom + end) * ((large // 2)+1)\n",
    "    \n",
    "    # ex1 1~5 (1+5)+(2+4)+(3)\n",
    "    else:\n",
    "         sum_ = (fRom + end) * (large // 2)+((fRom + end)//2)\n",
    "            \n",
    "    return sum_\n",
    "\n",
    "print('mysum 함수 :', mysum(-3,5))\n",
    "\n",
    "i=lambda x,y : (x+y)*(abs(x-y)//2+1) if abs(x-y)%2 else (x+y)*(abs(x-y)//2) + ((x+y)//2)\n",
    "\n",
    "print('람다식으로 : ', i(-6,8))"
   ]
  },
  {
   "cell_type": "code",
   "execution_count": 9,
   "id": "0d6f3260",
   "metadata": {},
   "outputs": [
    {
     "name": "stdout",
     "output_type": "stream",
     "text": [
      "9\n"
     ]
    }
   ],
   "source": [
    "# 4.1 for문\n",
    "def mysum(fRom,end):\n",
    "    sum=0\n",
    "    for i in range(fRom,end+1):\n",
    "        sum+=i\n",
    "    return sum\n",
    "print(mysum(-3,5))"
   ]
  },
  {
   "cell_type": "code",
   "execution_count": 18,
   "id": "22d399a4",
   "metadata": {},
   "outputs": [
    {
     "name": "stdout",
     "output_type": "stream",
     "text": [
      "['Seo', 'Dea', 'Kwa', 'Jej']\n",
      "['Seo', 'Dea', 'Kwa', 'Jej']\n",
      "['Seo', 'Dea', 'Kwa', 'Jej']\n"
     ]
    }
   ],
   "source": [
    "# 5. 문자열을 포함하는 리스트가 입력될 때 각 문자열의 첫 세글자로만 구성된 리스트를 리턴하는 함수, 람다식-[수정]\n",
    "lst=['Seoul','Deagu','Kwangju','Jeju']\n",
    "def get_addrs(lst):\n",
    "    list_=[]\n",
    "    for l in lst:\n",
    "        list_.append(l[:3])\n",
    "    return list_\n",
    "print(get_addrs(lst))\n",
    "\n",
    "def get_addrs(lst):\n",
    "    return [x[:3] for x in lst]\n",
    "\n",
    "print(get_addrs(lst))\n",
    "print((lambda l: [x[:3] for x in l])(lst))"
   ]
  },
  {
   "cell_type": "code",
   "execution_count": 37,
   "id": "d92af75c",
   "metadata": {},
   "outputs": [
    {
     "data": {
      "text/plain": [
       "16"
      ]
     },
     "execution_count": 37,
     "metadata": {},
     "output_type": "execute_result"
    }
   ],
   "source": [
    "# 6. 다음 코드를 람다 함수 현태로 수정할 때 알맞은 코드\n",
    "'''\n",
    "def f(x,y)\n",
    "    return x**y\n",
    "'''\n",
    "f = lambda x,y : x**y\n",
    "f(2,4)"
   ]
  },
  {
   "cell_type": "code",
   "execution_count": 40,
   "id": "73eb3acd",
   "metadata": {},
   "outputs": [
    {
     "name": "stdout",
     "output_type": "stream",
     "text": [
      "mpa과 람다함수로 구현 [1, 4, 9, 16, 25]\n",
      "리스트 컴프리헨션으로 구현 [1, 4, 9, 16, 25]\n"
     ]
    }
   ],
   "source": [
    "# 7.ex=[1,2,3,4,5]를 [1,4,9,16,25]의 결과를 얻을 수 있도록 람다함수와 map()함수를 사용하여 구현,\n",
    "ex=[1,2,3,4,5]\n",
    "print('mpa과 람다함수로 구현',list(map(lambda x: x**2,ex)))\n",
    "\n",
    "# 리스트 컴프리헨션으로 구현\n",
    "print('리스트 컴프리헨션으로 구현',[data**2 for data in ex])"
   ]
  },
  {
   "cell_type": "code",
   "execution_count": null,
   "id": "7a98459b",
   "metadata": {},
   "outputs": [],
   "source": [
    "# 8.다음 코드를 각각 실행하면 서로다는 결과가 나오는 이유는\n",
    "'''\n",
    "a=[1,2,3]\n",
    "print(*a)\n",
    "1 2 3\n",
    "print(a)\n",
    "[1,2,3]\n",
    "'''\n",
    "# print(*a)는 언패킹을 통해 데이터 값들을 출력하고 print(a)는 리스트 자체를 출력하기에"
   ]
  },
  {
   "cell_type": "code",
   "execution_count": null,
   "id": "f7fddae4",
   "metadata": {},
   "outputs": [],
   "source": [
    "# 9.다음 코드의 실행 결과는?\n",
    "'''\n",
    "date_info={'year':2024, 'monmth':9, 'day':6}\n",
    "result=''{year}-{month}-{day}'.format(**date_info)\n",
    "result'''\n",
    "# '2024-9-6'"
   ]
  },
  {
   "cell_type": "code",
   "execution_count": 5,
   "id": "e12c0590",
   "metadata": {},
   "outputs": [
    {
     "name": "stdout",
     "output_type": "stream",
     "text": [
      "True\n",
      "False\n"
     ]
    }
   ],
   "source": [
    "# 10. n 개의 백터(리스트나 튜플, 셋, 딕셔너리)들의 크기가 같은지 여부를 return하는 vector_siz_cheak(*ved=ctor_var)을 \n",
    "# 리스트컴프리헨션으로 작성. (데이터의 크기는 셋으로 작성하면 쉬움) -[수정]\n",
    "def vector_size_check(*vector_var):\n",
    "        vector_set=set()\n",
    "        for vector in vector_var:\n",
    "            vector_set.add(len(vector))\n",
    "        return len(vector_set)==1\n",
    "\n",
    "def lamb_vector(*vector_var):\n",
    "    return len(set([len(vector) for vector in vector_var]))==1\n",
    "\n",
    "print(lamb_vector([1,2],{10,20},{'name':'홍','age':30},(1,2)))\n",
    "print(lamb_vector([1,2],{10,20},{'name':'홍','age':30},(1,)))"
   ]
  },
  {
   "cell_type": "code",
   "execution_count": null,
   "id": "e159cd2a",
   "metadata": {},
   "outputs": [
    {
     "data": {
      "text/plain": [
       "[5, 10, 15, 20]"
      ]
     },
     "execution_count": 77,
     "metadata": {},
     "output_type": "execute_result"
    }
   ],
   "source": [
    "# 11.하나의 스칼라값을 리스트나 튜플, 셋등에 벡터를 곱하는 코드를 작성하시오\n",
    "def scalar_vector_product(scl,lst):\n",
    "    return list(map(lambda x : x * scl, lst))\n",
    "scalar_vector_product(5,[1,2,3,4])"
   ]
  },
  {
   "cell_type": "code",
   "execution_count": null,
   "id": "7db5ff6e",
   "metadata": {},
   "outputs": [],
   "source": [
    "# 서술형 \n",
    "# 1. 다음 코드의 실행결과는?\n",
    "pairs =[(1,'d'),(2,'c'),(3,'b'),(4,'a')]\n",
    "pairs.sort(key=lambda pair : pair[1])\n",
    "pairs\n",
    "\n",
    "# [(4,'a'),(3,'b'),(2,'c'),(1,'d')]"
   ]
  },
  {
   "cell_type": "code",
   "execution_count": null,
   "id": "7a13cc37",
   "metadata": {},
   "outputs": [
    {
     "name": "stdout",
     "output_type": "stream",
     "text": [
      "6 11 6 11 "
     ]
    }
   ],
   "source": [
    "# 2. 오류가 발생하는 라인과 문제 해결을 위한 코드, 코드 수정 후 결과는?\n",
    "# a=10\n",
    "def sub():\n",
    "#     a=10\n",
    "    global a\n",
    "    a+=1\n",
    "    print(a, end=' ')\n",
    "\n",
    "def func():\n",
    "    for i in range(2):\n",
    "        a=5\n",
    "        a += 1\n",
    "        print(a,end=' ')\n",
    "        sub()\n",
    "a += 1\n",
    "func()\n",
    "# 오류가 발생하는 라인 : 4(def sub()  아래의 a+=1)\n",
    "# 문제 해결을 위한 코드 :  def sub():위의 a=10을 def sub():와 a+=1 사이에 넣는다./ global a 를 이용하는 것이 출제의도\n",
    "# 실헹결과 : 6 12 6 13"
   ]
  },
  {
   "cell_type": "code",
   "execution_count": null,
   "id": "a102f89d",
   "metadata": {},
   "outputs": [],
   "source": [
    "# 3. 다음 구문을 실행한 결과는\n",
    "var=100\n",
    "def func(var):\n",
    "    var=200\n",
    "func(var)\n",
    "print(var)\n",
    "# 100 \n",
    "# print(var)은 출력을 위해 함수를 실행한 것이 아니기에 전역변수 var=100을 출력"
   ]
  },
  {
   "cell_type": "code",
   "execution_count": null,
   "id": "61ff3d44",
   "metadata": {},
   "outputs": [
    {
     "data": {
      "text/plain": [
       "5"
      ]
     },
     "execution_count": 55,
     "metadata": {},
     "output_type": "execute_result"
    }
   ],
   "source": [
    "# 4. 다음 구문의 실행 결과는?\n",
    "def my_func(func,*args):\n",
    "    return func(*args)\n",
    "import numpy as np\n",
    "my_func(np.add,2,3)\n",
    "# 5 \n",
    "# func(*args)에서 함수func에 튜플 매개변수를 넣으라고 했기에 np,add(더하기함수)에 2,3을 넣어 2+3을 싷행했다"
   ]
  },
  {
   "cell_type": "code",
   "execution_count": null,
   "id": "05556d19",
   "metadata": {},
   "outputs": [],
   "source": [
    "# 5. 다음 구문의 실행 결과는?\n",
    "def my_func(func,*args):\n",
    "    return func(*args)\n",
    "my_func(lambda a,b : a**b, 3, 2)\n",
    "# 9\n",
    "# 람다함수에 변수 3,2를 넣으라고 했고 람다함수는 3**2를 리턴하여 3의 제곱인 9가 리턴된다"
   ]
  },
  {
   "cell_type": "code",
   "execution_count": null,
   "id": "7771b8f8",
   "metadata": {},
   "outputs": [],
   "source": [
    "# 6. 파이썬 함수에 대한 설명 중 잘못된 것은?\n",
    "'''\n",
    "①파이썬의 함수는 중복 정의해 사용할 수 있다.\n",
    "②파이썬의 함수 매개변수는 기본값을 가질 수 있다.\n",
    "③**args 형식의 매개변수가 있으면 키워드 인수는 딕셔너리 형식으로 받는다.\n",
    "④함수를 호출할 때 매개변수 이름이 없는 인수는 매개변수 이름이 있는 인수보다 앞에 와야 한다.\n",
    "'''\n",
    "# ① 파이썬 함수는 중복 정의할 경우 가장 마지막에 작성된 함수로 덮어쓰기 된다"
   ]
  },
  {
   "cell_type": "code",
   "execution_count": null,
   "id": "490e287f",
   "metadata": {},
   "outputs": [],
   "source": [
    "# 7. 다음과 같은 구문이 있을 경우 오류가 발생하는 함수 호출은?\n",
    "list_=[]\n",
    "def func(a,L=None):\n",
    "    if L is None:\n",
    "        L=[]\n",
    "    L.append(a)\n",
    "    return L\n",
    "'''\n",
    "①func(10,list_)\n",
    "②func(20,L=list_\n",
    "③func(a=30)\n",
    "④func([],a=40) \n",
    "'''\n",
    "# ④func([],a=40) \n",
    "# a는 순서인수 L은 키워드 인수이기에 func([],a=40)은 순서인수a에 빈 리스트, 키워드인수L에 40이 할당되어 오류가 발생한다. "
   ]
  },
  {
   "cell_type": "code",
   "execution_count": null,
   "id": "88f4462d",
   "metadata": {},
   "outputs": [],
   "source": [
    "# 8.다음 보기가 설명하는 것을 작성하기 위한 키워드를 쓰세요(영소문자로)\n",
    "'''\n",
    "-작은 익명함수를 의미\n",
    "-함수가 실행할 문장이 한 문자일 겨우에 만들어 사용가능\n",
    "-다른 함수의 인수 또는 리턴값에 사용할 수 있음\n",
    "'''\n",
    "# lambda"
   ]
  }
 ],
 "metadata": {
  "kernelspec": {
   "display_name": "Python 3 (ipykernel)",
   "language": "python",
   "name": "python3"
  },
  "language_info": {
   "codemirror_mode": {
    "name": "ipython",
    "version": 3
   },
   "file_extension": ".py",
   "mimetype": "text/x-python",
   "name": "python",
   "nbconvert_exporter": "python",
   "pygments_lexer": "ipython3",
   "version": "3.10.9"
  },
  "toc": {
   "base_numbering": 1,
   "nav_menu": {},
   "number_sections": false,
   "sideBar": true,
   "skip_h1_title": false,
   "title_cell": "Table of Contents",
   "title_sidebar": "Contents",
   "toc_cell": false,
   "toc_position": {
    "height": "calc(100% - 180px)",
    "left": "10px",
    "top": "150px",
    "width": "264.184px"
   },
   "toc_section_display": true,
   "toc_window_display": true
  }
 },
 "nbformat": 4,
 "nbformat_minor": 5
}
