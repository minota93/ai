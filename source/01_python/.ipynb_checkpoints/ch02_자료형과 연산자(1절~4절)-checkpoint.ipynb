{
 "cells": [
  {
   "cell_type": "code",
   "execution_count": 2,
   "id": "61e23c78",
   "metadata": {},
   "outputs": [
    {
     "data": {
      "text/html": [
       "\n",
       "<style>\n",
       "div.container{width:90% ! important;}\n",
       "div.cell.code_cell.rendered{width:100%}\n",
       "div.input_prompt{padding:0px}\n",
       "div.CodeMirror {font-family:Consolas ; font-size:12pt;}\n",
       "div.text_cell_render.rendered_html {font-size:12pt;}\n",
       "div.output {font-size:12pt; font-weight:bold}\n",
       "div.input {font-family:Consolas ; font-size:12pt;}\n",
       "div.prompt {min-width:70px;}\n",
       "div#toc-wrapper {padding-top:120px;}\n",
       "div.text_cell_render ul li{font-size:12pt;padding:5px;}\n",
       "table.dataframe{font-size:12px;}\n",
       "</style>\n"
      ],
      "text/plain": [
       "<IPython.core.display.HTML object>"
      ]
     },
     "metadata": {},
     "output_type": "display_data"
    }
   ],
   "source": [
    "from IPython.display import display, HTML\n",
    "display(HTML(\"\"\"\n",
    "<style>\n",
    "div.container{width:90% ! important;}\n",
    "div.cell.code_cell.rendered{width:100%}\n",
    "div.input_prompt{padding:0px}\n",
    "div.CodeMirror {font-family:Consolas ; font-size:12pt;}\n",
    "div.text_cell_render.rendered_html {font-size:12pt;}\n",
    "div.output {font-size:12pt; font-weight:bold}\n",
    "div.input {font-family:Consolas ; font-size:12pt;}\n",
    "div.prompt {min-width:70px;}\n",
    "div#toc-wrapper {padding-top:120px;}\n",
    "div.text_cell_render ul li{font-size:12pt;padding:5px;}\n",
    "table.dataframe{font-size:12px;}\n",
    "</style>\n",
    "\"\"\"))"
   ]
  },
  {
   "cell_type": "markdown",
   "id": "90e3e9b9",
   "metadata": {},
   "source": [
    "<b><font size=\"6\" color=\"red\">ch.02 자료형과 연산자</font><b>\n",
    "# 1절. 변수\n",
    "- 변수 : 프로그램 작업 처리를 위해, 값을 저장할 수 있는 메모리 공간\n",
    "- 파이썬은 변수 선언을 위한 타입이 없고, 별도의 선언 과정도 없음\n",
    "\n",
    "## 1.1 변수 할당\n",
    "- 할당연산자(=)을 이용해서 값을 할당하면 자료형(타입)이 샛팅\n",
    "- **파이썬의 모든 변수는 객체로 저장**"
   ]
  },
  {
   "cell_type": "code",
   "execution_count": 3,
   "id": "6b5af11c",
   "metadata": {},
   "outputs": [
    {
     "name": "stdout",
     "output_type": "stream",
     "text": [
      "넓이:78.5\n"
     ]
    }
   ],
   "source": [
    "r=5\n",
    "area = 3.14*r*r\n",
    "print(f\"넓이:{area}\")"
   ]
  },
  {
   "cell_type": "code",
   "execution_count": 6,
   "id": "7424c57d",
   "metadata": {},
   "outputs": [
    {
     "name": "stdout",
     "output_type": "stream",
     "text": [
      "넓이: 78.53981633974483\n"
     ]
    }
   ],
   "source": [
    "import numpy as np #numpy패키지를 np라는 이름으로 사용\n",
    "# pypi.org의 여러 패키지 중 1개\n",
    "\n",
    "np.pi\n",
    "\n",
    "area=np.pi*r*r\n",
    "\n",
    "print('넓이:', area)"
   ]
  },
  {
   "cell_type": "code",
   "execution_count": 9,
   "id": "51192d92",
   "metadata": {},
   "outputs": [
    {
     "name": "stdout",
     "output_type": "stream",
     "text": [
      "area의 주소 1967175484400\n",
      "area의 자료형: <class 'float'>\n"
     ]
    }
   ],
   "source": [
    "print('area의 주소', id(area))\n",
    "print('area의 자료형:', type(area))"
   ]
  },
  {
   "cell_type": "code",
   "execution_count": 10,
   "id": "230d558f",
   "metadata": {},
   "outputs": [
    {
     "data": {
      "text/plain": [
       "False"
      ]
     },
     "execution_count": 10,
     "metadata": {},
     "output_type": "execute_result"
    }
   ],
   "source": [
    "area.is_integer() #area가 정수인지 확인하는 함수"
   ]
  },
  {
   "cell_type": "code",
   "execution_count": 11,
   "id": "2fdbe195",
   "metadata": {},
   "outputs": [
    {
     "name": "stdout",
     "output_type": "stream",
     "text": [
      "area의 주소 1969240080912\n",
      "area의 자료형: <class 'int'>\n"
     ]
    }
   ],
   "source": [
    "area=10\n",
    "\n",
    "print('area의 주소', id(area))\n",
    "print('area의 자료형:', type(area))"
   ]
  },
  {
   "cell_type": "code",
   "execution_count": 12,
   "id": "e4c9eb1f",
   "metadata": {},
   "outputs": [
    {
     "name": "stdout",
     "output_type": "stream",
     "text": [
      "area의 주소 1967224465584\n",
      "area의 자료형: <class 'str'>\n"
     ]
    }
   ],
   "source": [
    "area=\"파이썬\"\n",
    "\n",
    "print('area의 주소', id(area))\n",
    "print('area의 자료형:', type(area))"
   ]
  },
  {
   "cell_type": "markdown",
   "id": "2f9ee18b",
   "metadata": {},
   "source": [
    "## 1.2 변수(함수) 이름 규칙\n",
    "- 문자로 시작\n",
    "- 문자(특수문자는 _ 외는 불가), 숫자, _로 변수명을 작성\n",
    "- 함수명은 변수명으로 가능하나 피한다.(함수명으로 변수를 사용하고 싶으면 함수명 뒤에 숫자나 _를 추가하자),꼭 사용한다면 str_식으로 사용하자\n",
    "- 파이썬 예약어(for,if 등)는 변수명 사용 불가\n",
    "- 한글 변수는 꼭 필요시에만 사용"
   ]
  },
  {
   "cell_type": "code",
   "execution_count": 14,
   "id": "4a752bb8",
   "metadata": {},
   "outputs": [
    {
     "name": "stdout",
     "output_type": "stream",
     "text": [
      "홍길동\n"
     ]
    }
   ],
   "source": [
    "이름 ='홍길동' #비추\n",
    "print(이름)"
   ]
  },
  {
   "cell_type": "code",
   "execution_count": 15,
   "id": "9f10f999",
   "metadata": {},
   "outputs": [
    {
     "ename": "SyntaxError",
     "evalue": "invalid syntax (3039934606.py, line 1)",
     "output_type": "error",
     "traceback": [
      "\u001b[1;36m  Cell \u001b[1;32mIn[15], line 1\u001b[1;36m\u001b[0m\n\u001b[1;33m    for = 5\u001b[0m\n\u001b[1;37m        ^\u001b[0m\n\u001b[1;31mSyntaxError\u001b[0m\u001b[1;31m:\u001b[0m invalid syntax\n"
     ]
    }
   ],
   "source": [
    "for = 5"
   ]
  },
  {
   "cell_type": "code",
   "execution_count": 17,
   "id": "0bd07ab8",
   "metadata": {},
   "outputs": [
    {
     "name": "stdout",
     "output_type": "stream",
     "text": [
      "홍길동\n",
      "홍길동\n"
     ]
    }
   ],
   "source": [
    "# member.name='홍길동'\n",
    "member_name='홍길동'\n",
    "memberName='홍길동'\n",
    "print(member_name)\n",
    "print(memberName)"
   ]
  },
  {
   "cell_type": "code",
   "execution_count": 18,
   "id": "f211b9ee",
   "metadata": {},
   "outputs": [
    {
     "name": "stdout",
     "output_type": "stream",
     "text": [
      "<class 'complex'>\n"
     ]
    }
   ],
   "source": [
    "# 숫자: 정수,실수,복소수(허수부분 i를 j로 표기)\n",
    "i=1+3j # 복소수\n",
    "print(type(i))"
   ]
  },
  {
   "cell_type": "code",
   "execution_count": 19,
   "id": "b7677518",
   "metadata": {},
   "outputs": [
    {
     "data": {
      "text/plain": [
       "True"
      ]
     },
     "execution_count": 19,
     "metadata": {},
     "output_type": "execute_result"
    }
   ],
   "source": [
    "isinstance(i,complex) #i 라는 변수가 complex라는 타입의 객체인지 확인"
   ]
  },
  {
   "cell_type": "code",
   "execution_count": 20,
   "id": "cfd2ce58",
   "metadata": {},
   "outputs": [
    {
     "data": {
      "text/plain": [
       "False"
      ]
     },
     "execution_count": 20,
     "metadata": {},
     "output_type": "execute_result"
    }
   ],
   "source": [
    "isinstance(i,int) #i라는 변수가 int타입의 객체인지?"
   ]
  },
  {
   "cell_type": "markdown",
   "id": "e0088012",
   "metadata": {},
   "source": [
    "## 1.3 다중 변수 선언"
   ]
  },
  {
   "cell_type": "code",
   "execution_count": null,
   "id": "a04395f6",
   "metadata": {},
   "outputs": [],
   "source": [
    "a=10\n",
    "b=20"
   ]
  },
  {
   "cell_type": "code",
   "execution_count": 21,
   "id": "b1bc666f",
   "metadata": {},
   "outputs": [
    {
     "name": "stdout",
     "output_type": "stream",
     "text": [
      "10 20\n"
     ]
    }
   ],
   "source": [
    "a,b=10,20 # 다중 변수는 동시에 들어간다(일괄할당)\n",
    "print(a,b)"
   ]
  },
  {
   "cell_type": "code",
   "execution_count": 22,
   "id": "a306685e",
   "metadata": {},
   "outputs": [
    {
     "name": "stdout",
     "output_type": "stream",
     "text": [
      "20 30\n"
     ]
    }
   ],
   "source": [
    "a,b =b,a+b # 즉 a에 20이 들어가나 b에는 a+b의 a엔 아직 10의 값을 가진 채 할당된다.\n",
    "print(a,b)"
   ]
  },
  {
   "cell_type": "markdown",
   "id": "675f9aac",
   "metadata": {},
   "source": [
    "## 1.4 도움말 "
   ]
  },
  {
   "cell_type": "code",
   "execution_count": 23,
   "id": "e460d73f",
   "metadata": {},
   "outputs": [
    {
     "name": "stdout",
     "output_type": "stream",
     "text": [
      "Help on built-in function print in module builtins:\n",
      "\n",
      "print(...)\n",
      "    print(value, ..., sep=' ', end='\\n', file=sys.stdout, flush=False)\n",
      "    \n",
      "    Prints the values to a stream, or to sys.stdout by default.\n",
      "    Optional keyword arguments:\n",
      "    file:  a file-like object (stream); defaults to the current sys.stdout.\n",
      "    sep:   string inserted between values, default a space.\n",
      "    end:   string appended after the last value, default a newline.\n",
      "    flush: whether to forcibly flush the stream.\n",
      "\n"
     ]
    }
   ],
   "source": [
    "help(print)"
   ]
  },
  {
   "cell_type": "code",
   "execution_count": 24,
   "id": "f40e8d3d",
   "metadata": {
    "collapsed": true
   },
   "outputs": [
    {
     "name": "stdout",
     "output_type": "stream",
     "text": [
      "\n",
      "Welcome to Python 3.10's help utility!\n",
      "\n",
      "If this is your first time using Python, you should definitely check out\n",
      "the tutorial on the internet at https://docs.python.org/3.10/tutorial/.\n",
      "\n",
      "Enter the name of any module, keyword, or topic to get help on writing\n",
      "Python programs and using Python modules.  To quit this help utility and\n",
      "return to the interpreter, just type \"quit\".\n",
      "\n",
      "To get a list of available modules, keywords, symbols, or topics, type\n",
      "\"modules\", \"keywords\", \"symbols\", or \"topics\".  Each module also comes\n",
      "with a one-line summary of what it does; to list the modules whose name\n",
      "or summary contain a given string such as \"spam\", type \"modules spam\".\n",
      "\n",
      "help> print\n",
      "Help on built-in function print in module builtins:\n",
      "\n",
      "print(...)\n",
      "    print(value, ..., sep=' ', end='\\n', file=sys.stdout, flush=False)\n",
      "    \n",
      "    Prints the values to a stream, or to sys.stdout by default.\n",
      "    Optional keyword arguments:\n",
      "    file:  a file-like object (stream); defaults to the current sys.stdout.\n",
      "    sep:   string inserted between values, default a space.\n",
      "    end:   string appended after the last value, default a newline.\n",
      "    flush: whether to forcibly flush the stream.\n",
      "\n",
      "help> q\n",
      "\n",
      "You are now leaving help and returning to the Python interpreter.\n",
      "If you want to ask for help on a particular object directly from the\n",
      "interpreter, you can type \"help(object)\".  Executing \"help('string')\"\n",
      "has the same effect as typing a particular string at the help> prompt.\n"
     ]
    }
   ],
   "source": [
    "help() # help를 빠져나오기 :q / 결과접기/펴기 esc+o\n",
    "# help는 잘 사용되지 않음"
   ]
  },
  {
   "cell_type": "code",
   "execution_count": null,
   "id": "82e5cc4b",
   "metadata": {},
   "outputs": [],
   "source": [
    "# 도움말 기능 :shift+tab키, 함수명()에서 괄호 안에 커서를 넣고 사용\n",
    "print()"
   ]
  },
  {
   "cell_type": "code",
   "execution_count": 27,
   "id": "adf96211",
   "metadata": {},
   "outputs": [],
   "source": [
    "def add(x,y=0):\n",
    "#   ''' '''는 그 사이에 문자열을 여러줄 넣는 방법,여기선 함수 도움말을 넣을 때 사용\n",
    "    ''' \n",
    "    매개변수(x,y) 2개를 받아 두자리 숫자로 만드는 함수\n",
    "    x =10의 자리수가 되고\n",
    "    y =1의 자리수가 됨(default의 값 0)\n",
    "    '''\n",
    "    \n",
    "    return x*10 + y"
   ]
  },
  {
   "cell_type": "code",
   "execution_count": null,
   "id": "b75169c4",
   "metadata": {},
   "outputs": [],
   "source": [
    "add(3, 4)"
   ]
  },
  {
   "cell_type": "code",
   "execution_count": 29,
   "id": "8ca37bdc",
   "metadata": {},
   "outputs": [
    {
     "data": {
      "text/plain": [
       "30"
      ]
     },
     "execution_count": 29,
     "metadata": {},
     "output_type": "execute_result"
    }
   ],
   "source": [
    "add(3)"
   ]
  },
  {
   "cell_type": "markdown",
   "id": "0c3d8b8c",
   "metadata": {},
   "source": [
    "# 2절. 화면 입출력(i/o)"
   ]
  },
  {
   "cell_type": "code",
   "execution_count": 30,
   "id": "77eba772",
   "metadata": {},
   "outputs": [
    {
     "name": "stdout",
     "output_type": "stream",
     "text": [
      "아무거나\n",
      "아무거나\n"
     ]
    }
   ],
   "source": [
    "# input():사용자로부터 값을 입력받기 위한 함수. 입력값은 문자(str)로 받음\n",
    "first=input()\n",
    "print(first)"
   ]
  },
  {
   "cell_type": "code",
   "execution_count": 38,
   "id": "eb9e9bc5",
   "metadata": {},
   "outputs": [
    {
     "name": "stdout",
     "output_type": "stream",
     "text": [
      "첫번째 숫자는?8\n",
      "두번째 숫자는?2\n"
     ]
    }
   ],
   "source": [
    "first_=input('첫번째 숫자는?')\n",
    "second=input('두번째 숫자는?')"
   ]
  },
  {
   "cell_type": "code",
   "execution_count": 39,
   "id": "13351ff6",
   "metadata": {},
   "outputs": [
    {
     "name": "stdout",
     "output_type": "stream",
     "text": [
      "8 2\n"
     ]
    }
   ],
   "source": [
    "print(first_, second)"
   ]
  },
  {
   "cell_type": "code",
   "execution_count": 40,
   "id": "2c78c888",
   "metadata": {},
   "outputs": [
    {
     "name": "stdout",
     "output_type": "stream",
     "text": [
      "두 수의 합은 82\n"
     ]
    }
   ],
   "source": [
    "print('두 수의 합은',first_+second)"
   ]
  },
  {
   "cell_type": "code",
   "execution_count": 41,
   "id": "075a6def",
   "metadata": {},
   "outputs": [
    {
     "name": "stdout",
     "output_type": "stream",
     "text": [
      "첫번째 숫자는?8\n",
      "두번째 숫자는?2\n"
     ]
    }
   ],
   "source": [
    "first__=int(input('첫번째 숫자는?'))\n",
    "second_=int(input('두번째 숫자는?'))"
   ]
  },
  {
   "cell_type": "code",
   "execution_count": 42,
   "id": "d4ac1b2d",
   "metadata": {},
   "outputs": [
    {
     "name": "stdout",
     "output_type": "stream",
     "text": [
      "두 수의 합은 10\n"
     ]
    }
   ],
   "source": [
    "print('두 수의 합은', first__+second_)"
   ]
  },
  {
   "cell_type": "code",
   "execution_count": 45,
   "id": "a20e960c",
   "metadata": {},
   "outputs": [
    {
     "name": "stdout",
     "output_type": "stream",
     "text": [
      "first - 8 - second - 2\n",
      "hello python\n"
     ]
    }
   ],
   "source": [
    "print('first',first__,\"second\",second_, sep=' - ', end='\\n') #sep는 두 변수 사이에 넣을 값, end는 줄 끝에 넣을 값\n",
    "print('hello','python',sep=' ')"
   ]
  },
  {
   "cell_type": "markdown",
   "id": "09e39ebc",
   "metadata": {},
   "source": [
    "# 3절. 기본 자료형\n",
    "- 자료형: 변수가 가저야 할 값의 형식. 자료형에 따라 값의 크기와 저장 방식이 달라짐\n",
    "- 자료형에 따라 수행할 수 있는 명령어들이 달라짐\n",
    "\n",
    "    - `숫자`: int, float(실수), complex(허수부 j)\n",
    "    - `문자`: str(\"\",'')\n",
    "    - `논리`: bool(True, Flase)\n",
    "    \n",
    "## 3.1 숫자형"
   ]
  },
  {
   "cell_type": "code",
   "execution_count": 46,
   "id": "36f1760e",
   "metadata": {},
   "outputs": [
    {
     "name": "stdout",
     "output_type": "stream",
     "text": [
      "9223372036854775807\n"
     ]
    }
   ],
   "source": [
    "import sys \n",
    "\n",
    "print(sys.maxsize) #정수의 최댓값 2**63 -1(파이썬에선 **이 제곱)"
   ]
  },
  {
   "cell_type": "code",
   "execution_count": 47,
   "id": "f3a54b64",
   "metadata": {},
   "outputs": [
    {
     "data": {
      "text/plain": [
       "9223372036854775807"
      ]
     },
     "execution_count": 47,
     "metadata": {},
     "output_type": "execute_result"
    }
   ],
   "source": [
    "2**63 -1"
   ]
  },
  {
   "cell_type": "code",
   "execution_count": 48,
   "id": "df99e2b2",
   "metadata": {},
   "outputs": [
    {
     "data": {
      "text/plain": [
       "9223372036854775907"
      ]
     },
     "execution_count": 48,
     "metadata": {},
     "output_type": "execute_result"
    }
   ],
   "source": [
    "i=sys.maxsize +100\n",
    "i"
   ]
  },
  {
   "cell_type": "code",
   "execution_count": 50,
   "id": "6ff19280",
   "metadata": {},
   "outputs": [
    {
     "name": "stdout",
     "output_type": "stream",
     "text": [
      "9223372036854775907\n",
      "<class 'int'>\n"
     ]
    }
   ],
   "source": [
    "print(i)\n",
    "print(type(i))"
   ]
  },
  {
   "cell_type": "code",
   "execution_count": null,
   "id": "0acd74f4",
   "metadata": {},
   "outputs": [],
   "source": [
    "# f=0.00000000000000000000012\n",
    "f=1.2e-20 #지수형 1.2*(10의 -20 제곱)\n",
    "print(f)\n",
    "b=1.2e 1.2d의 10의 20승"
   ]
  },
  {
   "cell_type": "code",
   "execution_count": 52,
   "id": "ebe36ced",
   "metadata": {},
   "outputs": [
    {
     "name": "stdout",
     "output_type": "stream",
     "text": [
      "f= 1.5\n",
      "f2= 2.0\n"
     ]
    }
   ],
   "source": [
    "# 파이썬에서는 /(나눗셈)의 결과는 무조건 실수\n",
    "f=3/2\n",
    "f2=4/2\n",
    "print('f=',f)\n",
    "print('f2=',f2)"
   ]
  },
  {
   "cell_type": "code",
   "execution_count": 53,
   "id": "5af885a9",
   "metadata": {},
   "outputs": [
    {
     "name": "stdout",
     "output_type": "stream",
     "text": [
      "f= 1\n",
      "f= 1\n"
     ]
    }
   ],
   "source": [
    "# java나 c,c++처럼 정수/정수 결과를 정수로\n",
    "f=int(3/2) # int():int로 형변환(내림)\n",
    "print('f=',f)\n",
    "f=3//2 # 몫 연산자\n",
    "print('f=',f)"
   ]
  },
  {
   "cell_type": "markdown",
   "id": "f758ad9a",
   "metadata": {},
   "source": [
    "## 3.2 문자형\n",
    "- 겹따옴표(\"~\") 나 홑따옴표('-') 이용"
   ]
  },
  {
   "cell_type": "code",
   "execution_count": 55,
   "id": "53646e87",
   "metadata": {},
   "outputs": [
    {
     "name": "stdout",
     "output_type": "stream",
     "text": [
      "홍길동'짱' 홍길동'짱' 서울시 관악구 \"신림\"동\n"
     ]
    }
   ],
   "source": [
    "name=\"홍길동'짱'\" # 홍길동'짱'\n",
    "name2='홍길동\\'짱\\'' #가능하면 겹따옴표와 홑짜옴표를 혼용하여 쓰자 이렇게 쓰면 가독성이 떨어진다.\n",
    "address='서울시 관악구 \"신림\"동'\n",
    "print(name, name2, address)"
   ]
  },
  {
   "cell_type": "code",
   "execution_count": 58,
   "id": "f605cd3d",
   "metadata": {},
   "outputs": [
    {
     "name": "stdout",
     "output_type": "stream",
     "text": [
      "여러줄\t짜리 내용을 저장\n",
      "줄바꿈 문자를 쓰면 됨\n",
      "줄바꿈\n"
     ]
    }
   ],
   "source": [
    "# escape 문자(탈출문자): \\n \\t 등\n",
    "text=\"여러줄\\t짜리 내용을 저장\\n줄바꿈 문자를 쓰면 됨\\n줄바꿈\"\n",
    "print(text)"
   ]
  },
  {
   "cell_type": "code",
   "execution_count": 61,
   "id": "02bb234c",
   "metadata": {},
   "outputs": [
    {
     "name": "stdout",
     "output_type": "stream",
     "text": [
      "여러줄\t짜리 내용을 저장\n",
      "줄바꿈 문자를 쓰면 됨\n",
      "줄바꿈\n"
     ]
    }
   ],
   "source": [
    "text='''여러줄\\t짜리 내용을 저장\n",
    "줄바꿈 문자를 쓰면 됨\n",
    "줄바꿈'''\n",
    "\n",
    "# 주의 '''-'''사이에 enter가 들어가면 ai사용시 토큰이 낭비될 수 있다.\n",
    "# ex'''(이 부분 enter)\n",
    "# 이런 방식으로\n",
    "# '''(이부분도 enter로 인식해 총 2토큰 낭비)\n",
    "print(text)"
   ]
  },
  {
   "cell_type": "markdown",
   "id": "c511771a",
   "metadata": {},
   "source": [
    "### ※ 문자열 연산(+,*)"
   ]
  },
  {
   "cell_type": "code",
   "execution_count": 67,
   "id": "cae5a680",
   "metadata": {},
   "outputs": [
    {
     "name": "stdout",
     "output_type": "stream",
     "text": [
      "홍길동동해번쩍\n",
      "홍길동 동해번쩍\n"
     ]
    }
   ],
   "source": [
    "# ''' ''' 대신 \"\"\" \"\"\"도 가능하며 여러줄 주석을 넣기 귀찮을 때 주석 대신 넣을 때도 쓰이긴 한다. 주로 작성일과 작성자를 강조하기위해 쓰인다.\n",
    "'''\n",
    "   여러 줄 주석 용도\n",
    "   2025.09.12 문자열 연산 by 아무개\n",
    "'''\n",
    "\n",
    "name1='홍길동'\n",
    "name2='동해번쩍'\n",
    "print(name1+name2)\n",
    "print(name1, name2) # ※주의 합연산과는 다름 "
   ]
  },
  {
   "cell_type": "code",
   "execution_count": 66,
   "id": "e4913ccc",
   "metadata": {},
   "outputs": [
    {
     "name": "stdout",
     "output_type": "stream",
     "text": [
      "홍길동홍길동홍길동\n"
     ]
    }
   ],
   "source": [
    "print(name1*3)"
   ]
  },
  {
   "cell_type": "markdown",
   "id": "a40c60da",
   "metadata": {},
   "source": [
    "### ※ raw 데이터\n",
    "- 용도: 정규표현식 이용, 디렉토리 경로를 표현시 이용"
   ]
  },
  {
   "cell_type": "code",
   "execution_count": 69,
   "id": "1a84268e",
   "metadata": {},
   "outputs": [
    {
     "name": "stdout",
     "output_type": "stream",
     "text": [
      "Hello\\nWorld\n"
     ]
    }
   ],
   "source": [
    "# raw데이터: 데이터 처리시 escape 문자(\\n,\\t, \\',\\\")를 그대로 저장\n",
    "print(r\"Hello\\nWorld\") "
   ]
  },
  {
   "cell_type": "markdown",
   "id": "70e9898d",
   "metadata": {},
   "source": [
    " 정규표현식(regex)\n",
    " \n",
    "     1. 참조: https://ko.wikipedia.org/wiki/정규_표현식\n",
    "     2. 간략문법\n",
    "         \\d (숫자와 매치, [0-9]와 동일)\n",
    "         \\D (숫자가 아닌 것)\n",
    "         \\w (영문자나 숫자 [a-zA-Z0-9]와 동일)\n",
    "         \\W (영문자나 숫자가 아닌 문자)\n",
    "         . (문자)\n",
    "         \\. (.)\n",
    "         \\- (-)\n",
    "         {2,} (2번 이상 반복)\n",
    "         {2,4} (2~4회 반복)\n",
    "         ? (0번이나 1번 의미)\n",
    "         + (1번 이상 반복)\n",
    "         * (0번 이상 반복)\n",
    "         (a)|(b): a or(또는) b\n",
    "    3.정규표현식 연습장: https://regexr.com/\n",
    "        ex1. 전화번호: 02 888 7777 / 028887777 / 010-999-9999 / 010.9999.9999\n",
    "                      02)8887777   \n",
    "                      => 0\\d{1,2}[ \\-\\.)]?\\d{3,4}[ \\-\\.]?\\d{4}\n",
    "        ex2.이메일: abc12@naver.com / abc@sns.co.kr\n",
    "                      => \\w+@\\w+(\\.\\w+){1,2}\n",
    "        ex3.주민번호: 981212-1052525\n",
    "                      => \\d{2}(0[1-9]|1[0-2])(0[1-9]|[12]\\d|3[01])-([0-4])\\d{6}\n",
    "                      \n",
    "     4.소스 구현\n",
    "         \n",
    "       "
   ]
  },
  {
   "cell_type": "code",
   "execution_count": 12,
   "id": "a151d6eb",
   "metadata": {},
   "outputs": [
    {
     "name": "stdout",
     "output_type": "stream",
     "text": [
      "이름:홍길동, 주소:서울, 전화:02-888-8888,핸드폰:010-9999-9999, 특징:동해번쩍 서해번쩍혈액형:Bㅋㅋ ㅋㅋzz\n"
     ]
    }
   ],
   "source": [
    "import re\n",
    "data=\"이름:홍길동, 주소:서울, 전화:02-888-8888,\\\n",
    "핸드폰:010-9999-9999, 특징:동해번쩍 서해번쩍\\\n",
    "혈액형:Bㅋㅋ ㅋㅋzz\"\n",
    "print(data)\n"
   ]
  },
  {
   "cell_type": "code",
   "execution_count": 21,
   "id": "aacf8ee7",
   "metadata": {},
   "outputs": [
    {
     "data": {
      "text/plain": [
       "['02-888-8888', '010-9999-9999']"
      ]
     },
     "execution_count": 21,
     "metadata": {},
     "output_type": "execute_result"
    }
   ],
   "source": [
    "# 정규표현식 처리에서는 raw데이터 처리를 하지 않아도 실행은 되나\n",
    "# 실수를 줄이고, 가독성을 높이는 용도로 raw데이터 처리를 사용\n",
    "tel_pattern= r\"0\\d{1,2}[ \\-\\.)]?\\d{3,4}[ \\-\\.]?\\d{4}\"\n",
    "# 해당 패턴을 다 찾아줌. 없으면 빈 list\n",
    "tels=re.findall(tel_pattern, data)\n",
    "tels"
   ]
  },
  {
   "cell_type": "code",
   "execution_count": 80,
   "id": "cbfa1594",
   "metadata": {},
   "outputs": [
    {
     "data": {
      "text/plain": [
       "[]"
      ]
     },
     "execution_count": 80,
     "metadata": {},
     "output_type": "execute_result"
    }
   ],
   "source": [
    "email_pattern=r\"\\w+@\\w+(\\.\\w+){1,2}\"\n",
    "emails=re.findall(email_pattern,data)\n",
    "emails"
   ]
  },
  {
   "cell_type": "code",
   "execution_count": 8,
   "id": "818426fd",
   "metadata": {},
   "outputs": [
    {
     "data": {
      "text/plain": [
       "<re.Match object; span=(18, 29), match='02-888-8888'>"
      ]
     },
     "execution_count": 8,
     "metadata": {},
     "output_type": "execute_result"
    }
   ],
   "source": [
    "# 정규표현식 패턴과 처음 match되는 것을 찾아줘\n",
    "first_tel=re.search(tel_pattern,data)\n",
    "first_tel"
   ]
  },
  {
   "cell_type": "code",
   "execution_count": 9,
   "id": "ac2f8456",
   "metadata": {},
   "outputs": [
    {
     "name": "stdout",
     "output_type": "stream",
     "text": [
      "02-888-8888\n",
      "02-888-8888\n"
     ]
    }
   ],
   "source": [
    "print(data[18:29]) #문자열 슬라이싱\n",
    "print(first_tel.group(0))"
   ]
  },
  {
   "cell_type": "code",
   "execution_count": 24,
   "id": "157b2882",
   "metadata": {},
   "outputs": [
    {
     "name": "stdout",
     "output_type": "stream",
     "text": [
      "<re.Match object; span=(34, 47), match='010-9999-9999'>\n"
     ]
    }
   ],
   "source": [
    "tel_pattern = r\"(\\d{3,4})-(\\d{3,4})-(\\d{4})\"\n",
    "\n",
    "first_phone = re.search(tel_pattern,data)\n",
    "print(first_phone)"
   ]
  },
  {
   "cell_type": "code",
   "execution_count": 25,
   "id": "8c4f0089",
   "metadata": {},
   "outputs": [
    {
     "name": "stdout",
     "output_type": "stream",
     "text": [
      "전체전화번호 : 010-9999-9999\n",
      "국번: 010\n",
      "중간번호: 9999\n",
      "끝번호: 9999\n"
     ]
    }
   ],
   "source": [
    "print('전체전화번호 :',first_phone.group(0))\n",
    "print('국번:',first_phone.group(1))\n",
    "print(\"중간번호:\",first_phone.group(2))\n",
    "print('끝번호:',first_phone.group(3))"
   ]
  },
  {
   "cell_type": "code",
   "execution_count": 27,
   "id": "75c84b4c",
   "metadata": {},
   "outputs": [
    {
     "data": {
      "text/plain": [
       "'이름홍길동 주소서울 전화028888888핸드폰01099999999 특징동해번쩍 서해번쩍혈액형B '"
      ]
     },
     "execution_count": 27,
     "metadata": {},
     "output_type": "execute_result"
    }
   ],
   "source": [
    "# data에서 특정한 데이터 없애기\n",
    "re.sub(\"[^가-힣0-9A-Z\\s]\",'', data)"
   ]
  },
  {
   "cell_type": "code",
   "execution_count": null,
   "id": "b0d5b3cb",
   "metadata": {},
   "outputs": [],
   "source": []
  }
 ],
 "metadata": {
  "kernelspec": {
   "display_name": "Python 3 (ipykernel)",
   "language": "python",
   "name": "python3"
  },
  "language_info": {
   "codemirror_mode": {
    "name": "ipython",
    "version": 3
   },
   "file_extension": ".py",
   "mimetype": "text/x-python",
   "name": "python",
   "nbconvert_exporter": "python",
   "pygments_lexer": "ipython3",
   "version": "3.10.9"
  },
  "toc": {
   "base_numbering": 1,
   "nav_menu": {},
   "number_sections": false,
   "sideBar": true,
   "skip_h1_title": false,
   "title_cell": "Table of Contents",
   "title_sidebar": "Contents",
   "toc_cell": false,
   "toc_position": {
    "height": "calc(100% - 180px)",
    "left": "10px",
    "top": "150px",
    "width": "349px"
   },
   "toc_section_display": true,
   "toc_window_display": true
  }
 },
 "nbformat": 4,
 "nbformat_minor": 5
}
