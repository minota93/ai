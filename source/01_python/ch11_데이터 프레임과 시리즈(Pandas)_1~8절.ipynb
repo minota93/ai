{
 "cells": [
  {
   "cell_type": "code",
   "execution_count": 1,
   "id": "d5c93111",
   "metadata": {},
   "outputs": [
    {
     "data": {
      "text/html": [
       "\n",
       "<style>\n",
       "div.container{width:90% ! important;}\n",
       "div.cell.code_cell.rendered{width:100%}\n",
       "div.input_prompt{padding:0px}\n",
       "div.CodeMirror {font-family:Consolas ; font-size:12pt;}\n",
       "div.text_cell_render.rendered_html {font-size:12pt;}\n",
       "div.output {font-size:12pt; font-weight:bold}\n",
       "div.input {font-family:Consolas ; font-size:12pt;}\n",
       "div.prompt {min-width:70px;}\n",
       "div#toc-wrapper {padding-top:120px;}\n",
       "div.text_cell_render ul li{font-size:12pt;padding:5px;}\n",
       "table.dataframe{font-size:12px;}\n",
       "</style>\n"
      ],
      "text/plain": [
       "<IPython.core.display.HTML object>"
      ]
     },
     "metadata": {},
     "output_type": "display_data"
    }
   ],
   "source": [
    "from IPython.display import display, HTML\n",
    "display(HTML(\"\"\"\n",
    "<style>\n",
    "div.container{width:90% ! important;}\n",
    "div.cell.code_cell.rendered{width:100%}\n",
    "div.input_prompt{padding:0px}\n",
    "div.CodeMirror {font-family:Consolas ; font-size:12pt;}\n",
    "div.text_cell_render.rendered_html {font-size:12pt;}\n",
    "div.output {font-size:12pt; font-weight:bold}\n",
    "div.input {font-family:Consolas ; font-size:12pt;}\n",
    "div.prompt {min-width:70px;}\n",
    "div#toc-wrapper {padding-top:120px;}\n",
    "div.text_cell_render ul li{font-size:12pt;padding:5px;}\n",
    "table.dataframe{font-size:12px;}\n",
    "</style>\n",
    "\"\"\"))"
   ]
  },
  {
   "cell_type": "markdown",
   "id": "2162b9dd",
   "metadata": {},
   "source": [
    "<b><font size=\"6\" color=\"red\">ch.11 데이터 프레임과 시리즈(Pandas)</font></b>\n",
    "- pip install pandas\n",
    "# 1절 판다스 패키지\n",
    "- 데이터 분석을 위해 반드시 알아야 할 패키지. 넘파이를 기반으로 하며, 다른 많은 라이브러리와 잘 통합되도록 설계\n",
    "\n",
    "- 2차원 구조를 갖는 데이터프레임, 1차원 구조를 갖는 시리즈를 제공\n",
    "\n",
    "- 판다스 장점 : \n",
    "            * 데이터프레임생성, 파일io, 레이블링, 부분데이터 추출\n",
    "            * 크기변경(행이나 열 삽입, 삭제), 데이터 분할, 병합, 데이터 구조 변경,\n",
    "            * 결측치 처리, \n",
    "\n",
    "- https://pypi.python.org/pypi/pandas(package index)\n",
    "- http://pandas.pydata.org/pandas-docs/stable/api.html(API reference)"
   ]
  },
  {
   "cell_type": "code",
   "execution_count": 2,
   "id": "0260a73a",
   "metadata": {},
   "outputs": [
    {
     "data": {
      "text/plain": [
       "'1.5.3'"
      ]
     },
     "execution_count": 2,
     "metadata": {},
     "output_type": "execute_result"
    }
   ],
   "source": [
    "import pandas as pd\n",
    "pd.__version__"
   ]
  },
  {
   "cell_type": "code",
   "execution_count": 3,
   "id": "1cd8d210",
   "metadata": {},
   "outputs": [
    {
     "data": {
      "text/html": [
       "<div>\n",
       "<style scoped>\n",
       "    .dataframe tbody tr th:only-of-type {\n",
       "        vertical-align: middle;\n",
       "    }\n",
       "\n",
       "    .dataframe tbody tr th {\n",
       "        vertical-align: top;\n",
       "    }\n",
       "\n",
       "    .dataframe thead th {\n",
       "        text-align: right;\n",
       "    }\n",
       "</style>\n",
       "<table border=\"1\" class=\"dataframe\">\n",
       "  <thead>\n",
       "    <tr style=\"text-align: right;\">\n",
       "      <th></th>\n",
       "      <th>Name</th>\n",
       "      <th>Age</th>\n",
       "      <th>Email</th>\n",
       "      <th>Address</th>\n",
       "    </tr>\n",
       "  </thead>\n",
       "  <tbody>\n",
       "    <tr>\n",
       "      <th>0</th>\n",
       "      <td>신길동</td>\n",
       "      <td>30</td>\n",
       "      <td>sindong@hong.com</td>\n",
       "      <td>서울</td>\n",
       "    </tr>\n",
       "    <tr>\n",
       "      <th>1</th>\n",
       "      <td>김길동</td>\n",
       "      <td>40</td>\n",
       "      <td>kimdong@hong.com</td>\n",
       "      <td>부산</td>\n",
       "    </tr>\n",
       "    <tr>\n",
       "      <th>2</th>\n",
       "      <td>홍길동</td>\n",
       "      <td>20</td>\n",
       "      <td>kildong@hong.com</td>\n",
       "      <td>대전</td>\n",
       "    </tr>\n",
       "  </tbody>\n",
       "</table>\n",
       "</div>"
      ],
      "text/plain": [
       "  Name  Age             Email Address\n",
       "0  신길동   30  sindong@hong.com      서울\n",
       "1  김길동   40  kimdong@hong.com      부산\n",
       "2  홍길동   20  kildong@hong.com      대전"
      ]
     },
     "metadata": {},
     "output_type": "display_data"
    },
    {
     "name": "stdout",
     "output_type": "stream",
     "text": [
      "<class 'pandas.core.frame.DataFrame'>\n"
     ]
    }
   ],
   "source": [
    "data=pd.read_json('data/ch09_member1.json', encoding=\"cp949\") # 기본 인코딩 = \"utf-8\"\n",
    "display(data) # print(data)를 마지막에 넣지 않으면 보기 싫게 나온다. 이 때는 display(data)를 사용하자\n",
    "print(type(data))"
   ]
  },
  {
   "cell_type": "code",
   "execution_count": 4,
   "id": "ac1d060b",
   "metadata": {},
   "outputs": [
    {
     "data": {
      "text/html": [
       "<div>\n",
       "<style scoped>\n",
       "    .dataframe tbody tr th:only-of-type {\n",
       "        vertical-align: middle;\n",
       "    }\n",
       "\n",
       "    .dataframe tbody tr th {\n",
       "        vertical-align: top;\n",
       "    }\n",
       "\n",
       "    .dataframe thead th {\n",
       "        text-align: right;\n",
       "    }\n",
       "</style>\n",
       "<table border=\"1\" class=\"dataframe\">\n",
       "  <thead>\n",
       "    <tr style=\"text-align: right;\">\n",
       "      <th></th>\n",
       "      <th>Name</th>\n",
       "      <th>Age</th>\n",
       "      <th>Email</th>\n",
       "      <th>Address</th>\n",
       "    </tr>\n",
       "  </thead>\n",
       "  <tbody>\n",
       "    <tr>\n",
       "      <th>0</th>\n",
       "      <td>신길동</td>\n",
       "      <td>30</td>\n",
       "      <td>sindong@hong.com</td>\n",
       "      <td>서울</td>\n",
       "    </tr>\n",
       "    <tr>\n",
       "      <th>1</th>\n",
       "      <td>김길동</td>\n",
       "      <td>40</td>\n",
       "      <td>kimdong@hong.com</td>\n",
       "      <td>수원</td>\n",
       "    </tr>\n",
       "    <tr>\n",
       "      <th>2</th>\n",
       "      <td>홍길동</td>\n",
       "      <td>20</td>\n",
       "      <td>kildong@hong.com</td>\n",
       "      <td>안양</td>\n",
       "    </tr>\n",
       "  </tbody>\n",
       "</table>\n",
       "</div>"
      ],
      "text/plain": [
       "  Name  Age             Email Address\n",
       "0  신길동   30  sindong@hong.com      서울\n",
       "1  김길동   40  kimdong@hong.com      수원\n",
       "2  홍길동   20  kildong@hong.com      안양"
      ]
     },
     "execution_count": 4,
     "metadata": {},
     "output_type": "execute_result"
    }
   ],
   "source": [
    "member4 = pd.read_csv('data/ch09_member4.csv')\n",
    "member4"
   ]
  },
  {
   "cell_type": "code",
   "execution_count": 5,
   "id": "3acfaa28",
   "metadata": {},
   "outputs": [
    {
     "data": {
      "text/html": [
       "<div>\n",
       "<style scoped>\n",
       "    .dataframe tbody tr th:only-of-type {\n",
       "        vertical-align: middle;\n",
       "    }\n",
       "\n",
       "    .dataframe tbody tr th {\n",
       "        vertical-align: top;\n",
       "    }\n",
       "\n",
       "    .dataframe thead th {\n",
       "        text-align: right;\n",
       "    }\n",
       "</style>\n",
       "<table border=\"1\" class=\"dataframe\">\n",
       "  <thead>\n",
       "    <tr style=\"text-align: right;\">\n",
       "      <th></th>\n",
       "      <th>name</th>\n",
       "      <th>email</th>\n",
       "      <th>address</th>\n",
       "    </tr>\n",
       "  </thead>\n",
       "  <tbody>\n",
       "    <tr>\n",
       "      <th>홍길동</th>\n",
       "      <td>20</td>\n",
       "      <td>kildong@hong.com</td>\n",
       "      <td>서울시 관악구</td>\n",
       "    </tr>\n",
       "    <tr>\n",
       "      <th>김길동</th>\n",
       "      <td>40</td>\n",
       "      <td>kimdong@hong.com</td>\n",
       "      <td>서울시 영등포구</td>\n",
       "    </tr>\n",
       "    <tr>\n",
       "      <th>신길동</th>\n",
       "      <td>30</td>\n",
       "      <td>sindong@hong.com</td>\n",
       "      <td>서울시 동작구</td>\n",
       "    </tr>\n",
       "  </tbody>\n",
       "</table>\n",
       "</div>"
      ],
      "text/plain": [
       "     name             email   address\n",
       "홍길동    20  kildong@hong.com   서울시 관악구\n",
       "김길동    40  kimdong@hong.com  서울시 영등포구\n",
       "신길동    30  sindong@hong.com   서울시 동작구"
      ]
     },
     "execution_count": 5,
     "metadata": {},
     "output_type": "execute_result"
    }
   ],
   "source": [
    "member1 = pd.read_csv('data/ch09_member1.csv',header=None, names=['name', 'email', 'address']) # ※ 주의 머릿글이 없을 때 header를 생략하면 첫번째 값이 머릿글로 출력됨\n",
    "member1 "
   ]
  },
  {
   "cell_type": "markdown",
   "id": "dfda37e1",
   "metadata": {},
   "source": [
    "# 2절 데이터 프레임 만들기\n",
    "## 2.1 딕셔너리 리스트를 이용해서 데이터 프레임 만들기"
   ]
  },
  {
   "cell_type": "code",
   "execution_count": 6,
   "id": "9971fee0",
   "metadata": {},
   "outputs": [
    {
     "data": {
      "text/html": [
       "<div>\n",
       "<style scoped>\n",
       "    .dataframe tbody tr th:only-of-type {\n",
       "        vertical-align: middle;\n",
       "    }\n",
       "\n",
       "    .dataframe tbody tr th {\n",
       "        vertical-align: top;\n",
       "    }\n",
       "\n",
       "    .dataframe thead th {\n",
       "        text-align: right;\n",
       "    }\n",
       "</style>\n",
       "<table border=\"1\" class=\"dataframe\">\n",
       "  <thead>\n",
       "    <tr style=\"text-align: right;\">\n",
       "      <th></th>\n",
       "      <th>kor</th>\n",
       "      <th>mat</th>\n",
       "    </tr>\n",
       "  </thead>\n",
       "  <tbody>\n",
       "    <tr>\n",
       "      <th>0</th>\n",
       "      <td>100</td>\n",
       "      <td>95</td>\n",
       "    </tr>\n",
       "    <tr>\n",
       "      <th>1</th>\n",
       "      <td>90</td>\n",
       "      <td>99</td>\n",
       "    </tr>\n",
       "  </tbody>\n",
       "</table>\n",
       "</div>"
      ],
      "text/plain": [
       "   kor  mat\n",
       "0  100   95\n",
       "1   90   99"
      ]
     },
     "execution_count": 6,
     "metadata": {},
     "output_type": "execute_result"
    }
   ],
   "source": [
    "d=[{'kor':100, 'mat':95}, {'kor':90, 'mat':99}]\n",
    "df = pd.DataFrame(data=d)\n",
    "df"
   ]
  },
  {
   "cell_type": "code",
   "execution_count": 7,
   "id": "1d611908",
   "metadata": {},
   "outputs": [
    {
     "data": {
      "text/plain": [
       "{'kor': {0: 100, 1: 90}, 'mat': {0: 95, 1: 99}}"
      ]
     },
     "execution_count": 7,
     "metadata": {},
     "output_type": "execute_result"
    }
   ],
   "source": [
    "df.to_dict() # 데이터프레임을 딕셔너리로"
   ]
  },
  {
   "cell_type": "code",
   "execution_count": 8,
   "id": "fa93b396",
   "metadata": {},
   "outputs": [
    {
     "data": {
      "text/plain": [
       "array([[100,  95],\n",
       "       [ 90,  99]], dtype=int64)"
      ]
     },
     "execution_count": 8,
     "metadata": {},
     "output_type": "execute_result"
    }
   ],
   "source": [
    "df.to_numpy() # 데이터프레임을 넘파이배열\n",
    "df.values # 데이터프레임을 넘파이배열 이 쪽을 좀 더 쓰는 것 같음"
   ]
  },
  {
   "cell_type": "code",
   "execution_count": 9,
   "id": "3a2052a7",
   "metadata": {},
   "outputs": [
    {
     "data": {
      "text/plain": [
       "kor    int64\n",
       "mat    int64\n",
       "dtype: object"
      ]
     },
     "execution_count": 9,
     "metadata": {},
     "output_type": "execute_result"
    }
   ],
   "source": [
    "df.dtypes # 열의 타입"
   ]
  },
  {
   "cell_type": "code",
   "execution_count": 10,
   "id": "eaf00342",
   "metadata": {},
   "outputs": [
    {
     "name": "stdout",
     "output_type": "stream",
     "text": [
      "<class 'pandas.core.frame.DataFrame'>\n",
      "RangeIndex: 2 entries, 0 to 1\n",
      "Data columns (total 2 columns):\n",
      " #   Column  Non-Null Count  Dtype\n",
      "---  ------  --------------  -----\n",
      " 0   kor     2 non-null      int64\n",
      " 1   mat     2 non-null      int64\n",
      "dtypes: int64(2)\n",
      "memory usage: 160.0 bytes\n"
     ]
    }
   ],
   "source": [
    "df.info() # ★"
   ]
  },
  {
   "cell_type": "code",
   "execution_count": 11,
   "id": "3a4065e8",
   "metadata": {},
   "outputs": [
    {
     "data": {
      "text/plain": [
       "dtype('int64')"
      ]
     },
     "execution_count": 11,
     "metadata": {},
     "output_type": "execute_result"
    }
   ],
   "source": [
    "df['kor'].dtype"
   ]
  },
  {
   "cell_type": "code",
   "execution_count": 12,
   "id": "327fd3fb",
   "metadata": {},
   "outputs": [],
   "source": [
    "# 타입변경(열마다)\n",
    "import numpy as np\n",
    "df['kor'].astype(np.float64)\n",
    "# df['kor'].astype('float64') # import numpy를 쓰기 싫은 경우\n",
    "df['kor']=df['kor'].astype(np.float64) # kor열의 타입을 float64로"
   ]
  },
  {
   "cell_type": "code",
   "execution_count": 13,
   "id": "450ae60c",
   "metadata": {},
   "outputs": [
    {
     "name": "stdout",
     "output_type": "stream",
     "text": [
      "<class 'pandas.core.frame.DataFrame'>\n",
      "RangeIndex: 2 entries, 0 to 1\n",
      "Data columns (total 2 columns):\n",
      " #   Column  Non-Null Count  Dtype  \n",
      "---  ------  --------------  -----  \n",
      " 0   kor     2 non-null      float64\n",
      " 1   mat     2 non-null      int64  \n",
      "dtypes: float64(1), int64(1)\n",
      "memory usage: 160.0 bytes\n"
     ]
    }
   ],
   "source": [
    "df.info()"
   ]
  },
  {
   "cell_type": "code",
   "execution_count": 14,
   "id": "e26f6461",
   "metadata": {},
   "outputs": [
    {
     "data": {
      "text/html": [
       "<div>\n",
       "<style scoped>\n",
       "    .dataframe tbody tr th:only-of-type {\n",
       "        vertical-align: middle;\n",
       "    }\n",
       "\n",
       "    .dataframe tbody tr th {\n",
       "        vertical-align: top;\n",
       "    }\n",
       "\n",
       "    .dataframe thead th {\n",
       "        text-align: right;\n",
       "    }\n",
       "</style>\n",
       "<table border=\"1\" class=\"dataframe\">\n",
       "  <thead>\n",
       "    <tr style=\"text-align: right;\">\n",
       "      <th></th>\n",
       "      <th>kor</th>\n",
       "      <th>mat</th>\n",
       "      <th>eng</th>\n",
       "    </tr>\n",
       "  </thead>\n",
       "  <tbody>\n",
       "    <tr>\n",
       "      <th>0</th>\n",
       "      <td>100.0</td>\n",
       "      <td>95.0</td>\n",
       "      <td>NaN</td>\n",
       "    </tr>\n",
       "    <tr>\n",
       "      <th>1</th>\n",
       "      <td>90.0</td>\n",
       "      <td>99.0</td>\n",
       "      <td>NaN</td>\n",
       "    </tr>\n",
       "    <tr>\n",
       "      <th>2</th>\n",
       "      <td>92.0</td>\n",
       "      <td>NaN</td>\n",
       "      <td>99.0</td>\n",
       "    </tr>\n",
       "  </tbody>\n",
       "</table>\n",
       "</div>"
      ],
      "text/plain": [
       "     kor   mat   eng\n",
       "0  100.0  95.0   NaN\n",
       "1   90.0  99.0   NaN\n",
       "2   92.0   NaN  99.0"
      ]
     },
     "execution_count": 14,
     "metadata": {},
     "output_type": "execute_result"
    }
   ],
   "source": [
    "d=[{'kor':100.0, 'mat':95}, {'kor':90, 'mat':99},{'kor':92, 'eng':99}]\n",
    "df = pd.DataFrame(data=d)\n",
    "df"
   ]
  },
  {
   "cell_type": "code",
   "execution_count": 15,
   "id": "5b9970ba",
   "metadata": {},
   "outputs": [
    {
     "name": "stdout",
     "output_type": "stream",
     "text": [
      "<class 'pandas.core.frame.DataFrame'>\n",
      "RangeIndex: 3 entries, 0 to 2\n",
      "Data columns (total 3 columns):\n",
      " #   Column  Non-Null Count  Dtype  \n",
      "---  ------  --------------  -----  \n",
      " 0   kor     3 non-null      float64\n",
      " 1   mat     2 non-null      float64\n",
      " 2   eng     1 non-null      float64\n",
      "dtypes: float64(3)\n",
      "memory usage: 200.0 bytes\n"
     ]
    }
   ],
   "source": [
    "df.info()"
   ]
  },
  {
   "cell_type": "code",
   "execution_count": 16,
   "id": "c1493fd4",
   "metadata": {},
   "outputs": [
    {
     "data": {
      "text/plain": [
       "float"
      ]
     },
     "execution_count": 16,
     "metadata": {},
     "output_type": "execute_result"
    }
   ],
   "source": [
    "type(np.nan) # np.nan(결측치)"
   ]
  },
  {
   "cell_type": "code",
   "execution_count": 17,
   "id": "07ac55a4",
   "metadata": {},
   "outputs": [
    {
     "data": {
      "text/html": [
       "<div>\n",
       "<style scoped>\n",
       "    .dataframe tbody tr th:only-of-type {\n",
       "        vertical-align: middle;\n",
       "    }\n",
       "\n",
       "    .dataframe tbody tr th {\n",
       "        vertical-align: top;\n",
       "    }\n",
       "\n",
       "    .dataframe thead th {\n",
       "        text-align: right;\n",
       "    }\n",
       "</style>\n",
       "<table border=\"1\" class=\"dataframe\">\n",
       "  <thead>\n",
       "    <tr style=\"text-align: right;\">\n",
       "      <th></th>\n",
       "      <th>kor</th>\n",
       "      <th>mat</th>\n",
       "      <th>eng</th>\n",
       "    </tr>\n",
       "  </thead>\n",
       "  <tbody>\n",
       "    <tr>\n",
       "      <th>0</th>\n",
       "      <td>100</td>\n",
       "      <td>95.0</td>\n",
       "      <td>NaN</td>\n",
       "    </tr>\n",
       "    <tr>\n",
       "      <th>1</th>\n",
       "      <td>90</td>\n",
       "      <td>99.0</td>\n",
       "      <td>NaN</td>\n",
       "    </tr>\n",
       "    <tr>\n",
       "      <th>2</th>\n",
       "      <td>92</td>\n",
       "      <td>NaN</td>\n",
       "      <td>99.0</td>\n",
       "    </tr>\n",
       "  </tbody>\n",
       "</table>\n",
       "</div>"
      ],
      "text/plain": [
       "   kor   mat   eng\n",
       "0  100  95.0   NaN\n",
       "1   90  99.0   NaN\n",
       "2   92   NaN  99.0"
      ]
     },
     "execution_count": 17,
     "metadata": {},
     "output_type": "execute_result"
    }
   ],
   "source": [
    "df['kor']=df['kor'].astype('int32')\n",
    "df"
   ]
  },
  {
   "cell_type": "code",
   "execution_count": 18,
   "id": "cdf61d2c",
   "metadata": {},
   "outputs": [],
   "source": [
    "# 결측치는 int로 형변환 불가(결측치는 대체값으로 치환 후 변환)\n",
    "# df['mat']= df['mat'].astype('int32')"
   ]
  },
  {
   "cell_type": "markdown",
   "id": "d52cfd58",
   "metadata": {},
   "source": [
    "## 2.2 리스트를 이용해서 데이터프레임 만들기"
   ]
  },
  {
   "cell_type": "code",
   "execution_count": 19,
   "id": "c5f4847e",
   "metadata": {},
   "outputs": [
    {
     "data": {
      "text/html": [
       "<div>\n",
       "<style scoped>\n",
       "    .dataframe tbody tr th:only-of-type {\n",
       "        vertical-align: middle;\n",
       "    }\n",
       "\n",
       "    .dataframe tbody tr th {\n",
       "        vertical-align: top;\n",
       "    }\n",
       "\n",
       "    .dataframe thead th {\n",
       "        text-align: right;\n",
       "    }\n",
       "</style>\n",
       "<table border=\"1\" class=\"dataframe\">\n",
       "  <thead>\n",
       "    <tr style=\"text-align: right;\">\n",
       "      <th></th>\n",
       "      <th>kor</th>\n",
       "      <th>mat</th>\n",
       "    </tr>\n",
       "  </thead>\n",
       "  <tbody>\n",
       "    <tr>\n",
       "      <th>0</th>\n",
       "      <td>100</td>\n",
       "      <td>99</td>\n",
       "    </tr>\n",
       "    <tr>\n",
       "      <th>1</th>\n",
       "      <td>90</td>\n",
       "      <td>100</td>\n",
       "    </tr>\n",
       "  </tbody>\n",
       "</table>\n",
       "</div>"
      ],
      "text/plain": [
       "   kor  mat\n",
       "0  100   99\n",
       "1   90  100"
      ]
     },
     "execution_count": 19,
     "metadata": {},
     "output_type": "execute_result"
    }
   ],
   "source": [
    "kor = [100,90,95,90,65]\n",
    "mat = [99,100,95,98,94]\n",
    "df = pd.DataFrame({'kor':kor, 'mat':mat})\n",
    "df.head(2) # 상위 2행만 출력"
   ]
  },
  {
   "cell_type": "code",
   "execution_count": 20,
   "id": "bba05055",
   "metadata": {},
   "outputs": [
    {
     "data": {
      "text/plain": [
       "array([[100,  99],\n",
       "       [ 90, 100],\n",
       "       [ 95,  95],\n",
       "       [ 90,  98],\n",
       "       [ 65,  94]])"
      ]
     },
     "execution_count": 20,
     "metadata": {},
     "output_type": "execute_result"
    }
   ],
   "source": [
    "np.c_[kor,mat]"
   ]
  },
  {
   "cell_type": "code",
   "execution_count": 21,
   "id": "6530ba90",
   "metadata": {},
   "outputs": [
    {
     "data": {
      "text/html": [
       "<div>\n",
       "<style scoped>\n",
       "    .dataframe tbody tr th:only-of-type {\n",
       "        vertical-align: middle;\n",
       "    }\n",
       "\n",
       "    .dataframe tbody tr th {\n",
       "        vertical-align: top;\n",
       "    }\n",
       "\n",
       "    .dataframe thead th {\n",
       "        text-align: right;\n",
       "    }\n",
       "</style>\n",
       "<table border=\"1\" class=\"dataframe\">\n",
       "  <thead>\n",
       "    <tr style=\"text-align: right;\">\n",
       "      <th></th>\n",
       "      <th>국어</th>\n",
       "      <th>수학</th>\n",
       "    </tr>\n",
       "  </thead>\n",
       "  <tbody>\n",
       "    <tr>\n",
       "      <th>0</th>\n",
       "      <td>100</td>\n",
       "      <td>99</td>\n",
       "    </tr>\n",
       "    <tr>\n",
       "      <th>1</th>\n",
       "      <td>90</td>\n",
       "      <td>100</td>\n",
       "    </tr>\n",
       "    <tr>\n",
       "      <th>2</th>\n",
       "      <td>95</td>\n",
       "      <td>95</td>\n",
       "    </tr>\n",
       "    <tr>\n",
       "      <th>3</th>\n",
       "      <td>90</td>\n",
       "      <td>98</td>\n",
       "    </tr>\n",
       "    <tr>\n",
       "      <th>4</th>\n",
       "      <td>65</td>\n",
       "      <td>94</td>\n",
       "    </tr>\n",
       "  </tbody>\n",
       "</table>\n",
       "</div>"
      ],
      "text/plain": [
       "    국어   수학\n",
       "0  100   99\n",
       "1   90  100\n",
       "2   95   95\n",
       "3   90   98\n",
       "4   65   94"
      ]
     },
     "execution_count": 21,
     "metadata": {},
     "output_type": "execute_result"
    }
   ],
   "source": [
    "df = pd.DataFrame(data=np.c_[kor,mat],columns=['국어', '수학'])\n",
    "df"
   ]
  },
  {
   "cell_type": "code",
   "execution_count": 22,
   "id": "1ebd2a53",
   "metadata": {},
   "outputs": [
    {
     "data": {
      "text/plain": [
       "(5, 2)"
      ]
     },
     "execution_count": 22,
     "metadata": {},
     "output_type": "execute_result"
    }
   ],
   "source": [
    "df.shape"
   ]
  },
  {
   "cell_type": "code",
   "execution_count": 23,
   "id": "a59ea339",
   "metadata": {},
   "outputs": [
    {
     "data": {
      "text/html": [
       "<div>\n",
       "<style scoped>\n",
       "    .dataframe tbody tr th:only-of-type {\n",
       "        vertical-align: middle;\n",
       "    }\n",
       "\n",
       "    .dataframe tbody tr th {\n",
       "        vertical-align: top;\n",
       "    }\n",
       "\n",
       "    .dataframe thead th {\n",
       "        text-align: right;\n",
       "    }\n",
       "</style>\n",
       "<table border=\"1\" class=\"dataframe\">\n",
       "  <thead>\n",
       "    <tr style=\"text-align: right;\">\n",
       "      <th></th>\n",
       "      <th>작가이름</th>\n",
       "      <th>저자</th>\n",
       "      <th>가격</th>\n",
       "      <th>할인율</th>\n",
       "    </tr>\n",
       "  </thead>\n",
       "  <tbody>\n",
       "    <tr>\n",
       "      <th>0</th>\n",
       "      <td>트렌드 코리아2026</td>\n",
       "      <td>김난도</td>\n",
       "      <td>18000</td>\n",
       "      <td>10</td>\n",
       "    </tr>\n",
       "    <tr>\n",
       "      <th>1</th>\n",
       "      <td>사찬탱고</td>\n",
       "      <td>라슬로</td>\n",
       "      <td>17820</td>\n",
       "      <td>10</td>\n",
       "    </tr>\n",
       "    <tr>\n",
       "      <th>2</th>\n",
       "      <td>미술관 여행자</td>\n",
       "      <td>카미유주노</td>\n",
       "      <td>29700</td>\n",
       "      <td>10</td>\n",
       "    </tr>\n",
       "  </tbody>\n",
       "</table>\n",
       "</div>"
      ],
      "text/plain": [
       "          작가이름     저자     가격  할인율\n",
       "0  트렌드 코리아2026    김난도  18000   10\n",
       "1         사찬탱고    라슬로  17820   10\n",
       "2      미술관 여행자  카미유주노  29700   10"
      ]
     },
     "execution_count": 23,
     "metadata": {},
     "output_type": "execute_result"
    }
   ],
   "source": [
    "l = [['트렌드 코리아2026', '김난도', 18000, 10],\n",
    "     ['사찬탱고', '라슬로', 17820, 10],\n",
    "     ['미술관 여행자', '카미유주노', 29700, 10]]\n",
    "df = pd.DataFrame(l,columns=['작가이름','저자','가격','할인율'])\n",
    "df"
   ]
  },
  {
   "cell_type": "code",
   "execution_count": 24,
   "id": "e9ea219b",
   "metadata": {},
   "outputs": [],
   "source": [
    "# %ls : ipython 매직 명령어\n",
    "# !dir : 쉘 명령어"
   ]
  },
  {
   "cell_type": "code",
   "execution_count": 25,
   "id": "ed4b4607",
   "metadata": {},
   "outputs": [
    {
     "name": "stdout",
     "output_type": "stream",
     "text": [
      " C 드라이브의 볼륨에는 이름이 없습니다.\n",
      " 볼륨 일련 번호: A014-DCD6\n",
      "\n",
      " c:\\ai\\downloads\\shareData\\상가정보 디렉터리\n",
      "\n",
      "2025-10-13  오후 03:51    <DIR>          .\n",
      "2025-10-13  오후 03:51    <DIR>          ..\n",
      "2025-04-27  오후 11:07             1,011 [필독]파일열람방법.txt\n",
      "2025-04-27  오후 11:07        61,227,944 소상공인시장진흥공단_상가(상권)정보_강원_202503.csv\n",
      "2025-04-27  오후 11:07       356,572,082 소상공인시장진흥공단_상가(상권)정보_경기_202503.csv\n",
      "2025-04-27  오후 11:07        93,472,559 소상공인시장진흥공단_상가(상권)정보_경남_202503.csv\n",
      "2025-04-27  오후 11:07        76,425,275 소상공인시장진흥공단_상가(상권)정보_경북_202503.csv\n",
      "2025-04-27  오후 11:07        40,070,868 소상공인시장진흥공단_상가(상권)정보_광주_202503.csv\n",
      "2025-04-27  오후 11:07        61,715,005 소상공인시장진흥공단_상가(상권)정보_대구_202503.csv\n",
      "2025-04-27  오후 11:07        41,491,092 소상공인시장진흥공단_상가(상권)정보_대전_202503.csv\n",
      "2025-04-27  오후 11:07        84,550,600 소상공인시장진흥공단_상가(상권)정보_부산_202503.csv\n",
      "2025-04-27  오후 11:07       294,549,483 소상공인시장진흥공단_상가(상권)정보_서울_202503.csv\n",
      "2025-04-27  오후 11:07         9,303,432 소상공인시장진흥공단_상가(상권)정보_세종_202503.csv\n",
      "2025-04-27  오후 11:07        28,457,489 소상공인시장진흥공단_상가(상권)정보_울산_202503.csv\n",
      "2025-04-27  오후 11:07        73,022,149 소상공인시장진흥공단_상가(상권)정보_인천_202503.csv\n",
      "2025-04-27  오후 11:07        52,997,974 소상공인시장진흥공단_상가(상권)정보_전남_202503.csv\n",
      "2025-04-27  오후 11:07        56,252,705 소상공인시장진흥공단_상가(상권)정보_전북_202503.csv\n",
      "2025-04-27  오후 11:07        32,943,677 소상공인시장진흥공단_상가(상권)정보_제주_202503.csv\n",
      "2025-04-27  오후 11:07        66,591,896 소상공인시장진흥공단_상가(상권)정보_충남_202503.csv\n",
      "2025-04-27  오후 11:07        50,727,673 소상공인시장진흥공단_상가(상권)정보_충북_202503.csv\n",
      "              18개 파일       1,480,372,914 바이트\n",
      "               2개 디렉터리  157,198,360,576 바이트 남음\n"
     ]
    }
   ],
   "source": [
    "%ls \"c:/ai/downloads/shareData/상가정보/\""
   ]
  },
  {
   "cell_type": "code",
   "execution_count": 26,
   "id": "a5d60aab",
   "metadata": {},
   "outputs": [
    {
     "data": {
      "text/plain": [
       "(70, 39)"
      ]
     },
     "execution_count": 26,
     "metadata": {},
     "output_type": "execute_result"
    }
   ],
   "source": [
    "df=pd.read_csv('c:/ai/downloads/shareData/상가정보/소상공인시장진흥공단_상가(상권)정보_서울_202503.csv',\n",
    "           encoding=\"utf-8\", sep=\",\", #encoding 와 sep는 헤당 값이 기본값이라 생략가능\n",
    "            nrows=70) # 처음 70행만 가져옴\n",
    "df.shape"
   ]
  },
  {
   "cell_type": "code",
   "execution_count": 27,
   "id": "47af3122",
   "metadata": {},
   "outputs": [
    {
     "data": {
      "text/html": [
       "<div>\n",
       "<style scoped>\n",
       "    .dataframe tbody tr th:only-of-type {\n",
       "        vertical-align: middle;\n",
       "    }\n",
       "\n",
       "    .dataframe tbody tr th {\n",
       "        vertical-align: top;\n",
       "    }\n",
       "\n",
       "    .dataframe thead th {\n",
       "        text-align: right;\n",
       "    }\n",
       "</style>\n",
       "<table border=\"1\" class=\"dataframe\">\n",
       "  <thead>\n",
       "    <tr style=\"text-align: right;\">\n",
       "      <th></th>\n",
       "      <th>상가업소번호</th>\n",
       "      <th>상호명</th>\n",
       "      <th>지점명</th>\n",
       "      <th>상권업종대분류코드</th>\n",
       "      <th>상권업종대분류명</th>\n",
       "      <th>상권업종중분류코드</th>\n",
       "      <th>상권업종중분류명</th>\n",
       "      <th>상권업종소분류코드</th>\n",
       "      <th>상권업종소분류명</th>\n",
       "      <th>표준산업분류코드</th>\n",
       "      <th>...</th>\n",
       "      <th>건물관리번호</th>\n",
       "      <th>건물명</th>\n",
       "      <th>도로명주소</th>\n",
       "      <th>구우편번호</th>\n",
       "      <th>신우편번호</th>\n",
       "      <th>동정보</th>\n",
       "      <th>층정보</th>\n",
       "      <th>호정보</th>\n",
       "      <th>경도</th>\n",
       "      <th>위도</th>\n",
       "    </tr>\n",
       "  </thead>\n",
       "  <tbody>\n",
       "    <tr>\n",
       "      <th>0</th>\n",
       "      <td>MA010120220800000033</td>\n",
       "      <td>부동산임대김은숙</td>\n",
       "      <td>NaN</td>\n",
       "      <td>I2</td>\n",
       "      <td>음식</td>\n",
       "      <td>I212</td>\n",
       "      <td>비알코올</td>\n",
       "      <td>I21201</td>\n",
       "      <td>카페</td>\n",
       "      <td>I56229</td>\n",
       "      <td>...</td>\n",
       "      <td>1111014000100280021026727</td>\n",
       "      <td>NaN</td>\n",
       "      <td>서울특별시 종로구 삼청로 122-1</td>\n",
       "      <td>110230</td>\n",
       "      <td>3053</td>\n",
       "      <td>NaN</td>\n",
       "      <td>NaN</td>\n",
       "      <td>NaN</td>\n",
       "      <td>126.98184</td>\n",
       "      <td>37.58625</td>\n",
       "    </tr>\n",
       "  </tbody>\n",
       "</table>\n",
       "<p>1 rows × 39 columns</p>\n",
       "</div>"
      ],
      "text/plain": [
       "                 상가업소번호       상호명  지점명 상권업종대분류코드 상권업종대분류명 상권업종중분류코드 상권업종중분류명  \\\n",
       "0  MA010120220800000033  부동산임대김은숙  NaN        I2       음식      I212    비알코올    \n",
       "\n",
       "  상권업종소분류코드 상권업종소분류명 표준산업분류코드  ...                     건물관리번호  건물명  \\\n",
       "0    I21201       카페   I56229  ...  1111014000100280021026727  NaN   \n",
       "\n",
       "                 도로명주소   구우편번호 신우편번호  동정보 층정보  호정보         경도        위도  \n",
       "0  서울특별시 종로구 삼청로 122-1  110230  3053  NaN NaN  NaN  126.98184  37.58625  \n",
       "\n",
       "[1 rows x 39 columns]"
      ]
     },
     "execution_count": 27,
     "metadata": {},
     "output_type": "execute_result"
    }
   ],
   "source": [
    "df.head(1) # 상위 1행만"
   ]
  },
  {
   "cell_type": "code",
   "execution_count": 28,
   "id": "a0089821",
   "metadata": {},
   "outputs": [],
   "source": [
    "# 판다스 디스플레이 옵션\n",
    "pd.options.display.max_columns = 39 # 39열 까지 display가능. 기본값은 20\n",
    "pd.options.display.max_rows = 70 # 70행 까지 display가능. 기본값은 60"
   ]
  },
  {
   "cell_type": "code",
   "execution_count": 29,
   "id": "2826b7ba",
   "metadata": {},
   "outputs": [
    {
     "data": {
      "text/html": [
       "<div>\n",
       "<style scoped>\n",
       "    .dataframe tbody tr th:only-of-type {\n",
       "        vertical-align: middle;\n",
       "    }\n",
       "\n",
       "    .dataframe tbody tr th {\n",
       "        vertical-align: top;\n",
       "    }\n",
       "\n",
       "    .dataframe thead th {\n",
       "        text-align: right;\n",
       "    }\n",
       "</style>\n",
       "<table border=\"1\" class=\"dataframe\">\n",
       "  <thead>\n",
       "    <tr style=\"text-align: right;\">\n",
       "      <th></th>\n",
       "      <th>상가업소번호</th>\n",
       "      <th>상호명</th>\n",
       "      <th>지점명</th>\n",
       "      <th>상권업종대분류코드</th>\n",
       "      <th>상권업종대분류명</th>\n",
       "      <th>상권업종중분류코드</th>\n",
       "      <th>상권업종중분류명</th>\n",
       "      <th>상권업종소분류코드</th>\n",
       "      <th>상권업종소분류명</th>\n",
       "      <th>표준산업분류코드</th>\n",
       "      <th>표준산업분류명</th>\n",
       "      <th>시도코드</th>\n",
       "      <th>시도명</th>\n",
       "      <th>시군구코드</th>\n",
       "      <th>시군구명</th>\n",
       "      <th>행정동코드</th>\n",
       "      <th>행정동명</th>\n",
       "      <th>법정동코드</th>\n",
       "      <th>법정동명</th>\n",
       "      <th>지번코드</th>\n",
       "      <th>대지구분코드</th>\n",
       "      <th>대지구분명</th>\n",
       "      <th>지번본번지</th>\n",
       "      <th>지번부번지</th>\n",
       "      <th>지번주소</th>\n",
       "      <th>도로명코드</th>\n",
       "      <th>도로명</th>\n",
       "      <th>건물본번지</th>\n",
       "      <th>건물부번지</th>\n",
       "      <th>건물관리번호</th>\n",
       "      <th>건물명</th>\n",
       "      <th>도로명주소</th>\n",
       "      <th>구우편번호</th>\n",
       "      <th>신우편번호</th>\n",
       "      <th>동정보</th>\n",
       "      <th>층정보</th>\n",
       "      <th>호정보</th>\n",
       "      <th>경도</th>\n",
       "      <th>위도</th>\n",
       "    </tr>\n",
       "  </thead>\n",
       "  <tbody>\n",
       "    <tr>\n",
       "      <th>0</th>\n",
       "      <td>MA010120220800000033</td>\n",
       "      <td>부동산임대김은숙</td>\n",
       "      <td>NaN</td>\n",
       "      <td>I2</td>\n",
       "      <td>음식</td>\n",
       "      <td>I212</td>\n",
       "      <td>비알코올</td>\n",
       "      <td>I21201</td>\n",
       "      <td>카페</td>\n",
       "      <td>I56229</td>\n",
       "      <td>기타 비알코올 음료점업</td>\n",
       "      <td>11</td>\n",
       "      <td>서울특별시</td>\n",
       "      <td>11110</td>\n",
       "      <td>종로구</td>\n",
       "      <td>11110540</td>\n",
       "      <td>삼청동</td>\n",
       "      <td>1111014000</td>\n",
       "      <td>삼청동</td>\n",
       "      <td>1111014000100280021</td>\n",
       "      <td>1</td>\n",
       "      <td>대지</td>\n",
       "      <td>28</td>\n",
       "      <td>21.0</td>\n",
       "      <td>서울특별시 종로구 삼청동 28-21</td>\n",
       "      <td>111103100007</td>\n",
       "      <td>서울특별시 종로구 삼청로</td>\n",
       "      <td>122</td>\n",
       "      <td>1.0</td>\n",
       "      <td>1111014000100280021026727</td>\n",
       "      <td>NaN</td>\n",
       "      <td>서울특별시 종로구 삼청로 122-1</td>\n",
       "      <td>110230</td>\n",
       "      <td>3053</td>\n",
       "      <td>NaN</td>\n",
       "      <td>NaN</td>\n",
       "      <td>NaN</td>\n",
       "      <td>126.98184</td>\n",
       "      <td>37.58625</td>\n",
       "    </tr>\n",
       "  </tbody>\n",
       "</table>\n",
       "</div>"
      ],
      "text/plain": [
       "                 상가업소번호       상호명  지점명 상권업종대분류코드 상권업종대분류명 상권업종중분류코드 상권업종중분류명  \\\n",
       "0  MA010120220800000033  부동산임대김은숙  NaN        I2       음식      I212    비알코올    \n",
       "\n",
       "  상권업종소분류코드 상권업종소분류명 표준산업분류코드       표준산업분류명  시도코드    시도명  시군구코드 시군구명  \\\n",
       "0    I21201       카페   I56229  기타 비알코올 음료점업    11  서울특별시  11110  종로구   \n",
       "\n",
       "      행정동코드 행정동명       법정동코드 법정동명                 지번코드  대지구분코드 대지구분명  지번본번지  \\\n",
       "0  11110540  삼청동  1111014000  삼청동  1111014000100280021       1    대지     28   \n",
       "\n",
       "   지번부번지                 지번주소         도로명코드            도로명  건물본번지  건물부번지  \\\n",
       "0   21.0  서울특별시 종로구 삼청동 28-21  111103100007  서울특별시 종로구 삼청로    122    1.0   \n",
       "\n",
       "                      건물관리번호  건물명                도로명주소   구우편번호  신우편번호  동정보  \\\n",
       "0  1111014000100280021026727  NaN  서울특별시 종로구 삼청로 122-1  110230   3053  NaN   \n",
       "\n",
       "   층정보  호정보         경도        위도  \n",
       "0  NaN  NaN  126.98184  37.58625  "
      ]
     },
     "execution_count": 29,
     "metadata": {},
     "output_type": "execute_result"
    }
   ],
   "source": [
    "df.head(1)"
   ]
  },
  {
   "cell_type": "code",
   "execution_count": 30,
   "id": "17ebb030",
   "metadata": {},
   "outputs": [
    {
     "data": {
      "text/html": [
       "<div>\n",
       "<style scoped>\n",
       "    .dataframe tbody tr th:only-of-type {\n",
       "        vertical-align: middle;\n",
       "    }\n",
       "\n",
       "    .dataframe tbody tr th {\n",
       "        vertical-align: top;\n",
       "    }\n",
       "\n",
       "    .dataframe thead th {\n",
       "        text-align: right;\n",
       "    }\n",
       "</style>\n",
       "<table border=\"1\" class=\"dataframe\">\n",
       "  <thead>\n",
       "    <tr style=\"text-align: right;\">\n",
       "      <th></th>\n",
       "      <th>0</th>\n",
       "    </tr>\n",
       "  </thead>\n",
       "  <tbody>\n",
       "    <tr>\n",
       "      <th>상가업소번호</th>\n",
       "      <td>MA010120220800000033</td>\n",
       "    </tr>\n",
       "    <tr>\n",
       "      <th>상호명</th>\n",
       "      <td>부동산임대김은숙</td>\n",
       "    </tr>\n",
       "    <tr>\n",
       "      <th>지점명</th>\n",
       "      <td>NaN</td>\n",
       "    </tr>\n",
       "    <tr>\n",
       "      <th>상권업종대분류코드</th>\n",
       "      <td>I2</td>\n",
       "    </tr>\n",
       "    <tr>\n",
       "      <th>상권업종대분류명</th>\n",
       "      <td>음식</td>\n",
       "    </tr>\n",
       "    <tr>\n",
       "      <th>상권업종중분류코드</th>\n",
       "      <td>I212</td>\n",
       "    </tr>\n",
       "    <tr>\n",
       "      <th>상권업종중분류명</th>\n",
       "      <td>비알코올</td>\n",
       "    </tr>\n",
       "    <tr>\n",
       "      <th>상권업종소분류코드</th>\n",
       "      <td>I21201</td>\n",
       "    </tr>\n",
       "    <tr>\n",
       "      <th>상권업종소분류명</th>\n",
       "      <td>카페</td>\n",
       "    </tr>\n",
       "    <tr>\n",
       "      <th>표준산업분류코드</th>\n",
       "      <td>I56229</td>\n",
       "    </tr>\n",
       "    <tr>\n",
       "      <th>표준산업분류명</th>\n",
       "      <td>기타 비알코올 음료점업</td>\n",
       "    </tr>\n",
       "    <tr>\n",
       "      <th>시도코드</th>\n",
       "      <td>11</td>\n",
       "    </tr>\n",
       "    <tr>\n",
       "      <th>시도명</th>\n",
       "      <td>서울특별시</td>\n",
       "    </tr>\n",
       "    <tr>\n",
       "      <th>시군구코드</th>\n",
       "      <td>11110</td>\n",
       "    </tr>\n",
       "    <tr>\n",
       "      <th>시군구명</th>\n",
       "      <td>종로구</td>\n",
       "    </tr>\n",
       "    <tr>\n",
       "      <th>행정동코드</th>\n",
       "      <td>11110540</td>\n",
       "    </tr>\n",
       "    <tr>\n",
       "      <th>행정동명</th>\n",
       "      <td>삼청동</td>\n",
       "    </tr>\n",
       "    <tr>\n",
       "      <th>법정동코드</th>\n",
       "      <td>1111014000</td>\n",
       "    </tr>\n",
       "    <tr>\n",
       "      <th>법정동명</th>\n",
       "      <td>삼청동</td>\n",
       "    </tr>\n",
       "    <tr>\n",
       "      <th>지번코드</th>\n",
       "      <td>1111014000100280021</td>\n",
       "    </tr>\n",
       "    <tr>\n",
       "      <th>대지구분코드</th>\n",
       "      <td>1</td>\n",
       "    </tr>\n",
       "    <tr>\n",
       "      <th>대지구분명</th>\n",
       "      <td>대지</td>\n",
       "    </tr>\n",
       "    <tr>\n",
       "      <th>지번본번지</th>\n",
       "      <td>28</td>\n",
       "    </tr>\n",
       "    <tr>\n",
       "      <th>지번부번지</th>\n",
       "      <td>21.0</td>\n",
       "    </tr>\n",
       "    <tr>\n",
       "      <th>지번주소</th>\n",
       "      <td>서울특별시 종로구 삼청동 28-21</td>\n",
       "    </tr>\n",
       "    <tr>\n",
       "      <th>도로명코드</th>\n",
       "      <td>111103100007</td>\n",
       "    </tr>\n",
       "    <tr>\n",
       "      <th>도로명</th>\n",
       "      <td>서울특별시 종로구 삼청로</td>\n",
       "    </tr>\n",
       "    <tr>\n",
       "      <th>건물본번지</th>\n",
       "      <td>122</td>\n",
       "    </tr>\n",
       "    <tr>\n",
       "      <th>건물부번지</th>\n",
       "      <td>1.0</td>\n",
       "    </tr>\n",
       "    <tr>\n",
       "      <th>건물관리번호</th>\n",
       "      <td>1111014000100280021026727</td>\n",
       "    </tr>\n",
       "    <tr>\n",
       "      <th>건물명</th>\n",
       "      <td>NaN</td>\n",
       "    </tr>\n",
       "    <tr>\n",
       "      <th>도로명주소</th>\n",
       "      <td>서울특별시 종로구 삼청로 122-1</td>\n",
       "    </tr>\n",
       "    <tr>\n",
       "      <th>구우편번호</th>\n",
       "      <td>110230</td>\n",
       "    </tr>\n",
       "    <tr>\n",
       "      <th>신우편번호</th>\n",
       "      <td>3053</td>\n",
       "    </tr>\n",
       "    <tr>\n",
       "      <th>동정보</th>\n",
       "      <td>NaN</td>\n",
       "    </tr>\n",
       "    <tr>\n",
       "      <th>층정보</th>\n",
       "      <td>NaN</td>\n",
       "    </tr>\n",
       "    <tr>\n",
       "      <th>호정보</th>\n",
       "      <td>NaN</td>\n",
       "    </tr>\n",
       "    <tr>\n",
       "      <th>경도</th>\n",
       "      <td>126.98184</td>\n",
       "    </tr>\n",
       "    <tr>\n",
       "      <th>위도</th>\n",
       "      <td>37.58625</td>\n",
       "    </tr>\n",
       "  </tbody>\n",
       "</table>\n",
       "</div>"
      ],
      "text/plain": [
       "                                   0\n",
       "상가업소번호          MA010120220800000033\n",
       "상호명                         부동산임대김은숙\n",
       "지점명                              NaN\n",
       "상권업종대분류코드                         I2\n",
       "상권업종대분류명                          음식\n",
       "상권업종중분류코드                       I212\n",
       "상권업종중분류명                       비알코올 \n",
       "상권업종소분류코드                     I21201\n",
       "상권업종소분류명                          카페\n",
       "표준산업분류코드                      I56229\n",
       "표준산업분류명                 기타 비알코올 음료점업\n",
       "시도코드                              11\n",
       "시도명                            서울특별시\n",
       "시군구코드                          11110\n",
       "시군구명                             종로구\n",
       "행정동코드                       11110540\n",
       "행정동명                             삼청동\n",
       "법정동코드                     1111014000\n",
       "법정동명                             삼청동\n",
       "지번코드             1111014000100280021\n",
       "대지구분코드                             1\n",
       "대지구분명                             대지\n",
       "지번본번지                             28\n",
       "지번부번지                           21.0\n",
       "지번주소             서울특별시 종로구 삼청동 28-21\n",
       "도로명코드                   111103100007\n",
       "도로명                    서울특별시 종로구 삼청로\n",
       "건물본번지                            122\n",
       "건물부번지                            1.0\n",
       "건물관리번호     1111014000100280021026727\n",
       "건물명                              NaN\n",
       "도로명주소            서울특별시 종로구 삼청로 122-1\n",
       "구우편번호                         110230\n",
       "신우편번호                           3053\n",
       "동정보                              NaN\n",
       "층정보                              NaN\n",
       "호정보                              NaN\n",
       "경도                         126.98184\n",
       "위도                          37.58625"
      ]
     },
     "execution_count": 30,
     "metadata": {},
     "output_type": "execute_result"
    }
   ],
   "source": [
    "df.head(1).T"
   ]
  },
  {
   "cell_type": "markdown",
   "id": "11f0f69f",
   "metadata": {},
   "source": [
    "## 2.3 read_csv"
   ]
  },
  {
   "cell_type": "code",
   "execution_count": 31,
   "id": "e9fdc281",
   "metadata": {},
   "outputs": [],
   "source": [
    "pd.read_csv?"
   ]
  },
  {
   "cell_type": "code",
   "execution_count": 32,
   "id": "ce9fca71",
   "metadata": {},
   "outputs": [
    {
     "name": "stdout",
     "output_type": "stream",
     "text": [
      "<class 'pandas.core.frame.DataFrame'>\n",
      "RangeIndex: 6 entries, 0 to 5\n",
      "Data columns (total 5 columns):\n",
      " #   Column   Non-Null Count  Dtype \n",
      "---  ------   --------------  ----- \n",
      " 0   Name     6 non-null      object\n",
      " 1   Age      6 non-null      int64 \n",
      " 2   Email    6 non-null      object\n",
      " 3   Address  6 non-null      object\n",
      " 4   Birth    6 non-null      object\n",
      "dtypes: int64(1), object(4)\n",
      "memory usage: 368.0+ bytes\n"
     ]
    }
   ],
   "source": [
    "# (1) CSV파일 불러오기(기본값)\n",
    "member = pd.read_csv('data/ch11_member.csv',\n",
    "                    #, encoding='utf-8', sep=',', comment 주석처리x\n",
    "                    )\n",
    "member.info()"
   ]
  },
  {
   "cell_type": "code",
   "execution_count": 33,
   "id": "a80d07d0",
   "metadata": {},
   "outputs": [
    {
     "name": "stdout",
     "output_type": "stream",
     "text": [
      "<class 'pandas.core.frame.DataFrame'>\n",
      "RangeIndex: 6 entries, 0 to 5\n",
      "Data columns (total 5 columns):\n",
      " #   Column   Non-Null Count  Dtype         \n",
      "---  ------   --------------  -----         \n",
      " 0   Name     6 non-null      object        \n",
      " 1   Age      6 non-null      int64         \n",
      " 2   Email    6 non-null      object        \n",
      " 3   Address  6 non-null      object        \n",
      " 4   Birth    6 non-null      datetime64[ns]\n",
      "dtypes: datetime64[ns](1), int64(1), object(3)\n",
      "memory usage: 368.0+ bytes\n"
     ]
    }
   ],
   "source": [
    "# 문자형으로 읽어들인 Birth를 datetime형으로\n",
    "# 형변환 : astype('int64'), astype('datetime64' : 비추)\n",
    "#         to_datetime()함수\n",
    "# member['Birth'].astype('datetime64') \n",
    "member['Birth']=pd.to_datetime(member['Birth'])\n",
    "member.info()"
   ]
  },
  {
   "cell_type": "code",
   "execution_count": 34,
   "id": "8910dd93",
   "metadata": {},
   "outputs": [
    {
     "data": {
      "text/plain": [
       "Name               object\n",
       "Age                 int16\n",
       "Email              object\n",
       "Address            object\n",
       "Birth      datetime64[ns]\n",
       "dtype: object"
      ]
     },
     "execution_count": 34,
     "metadata": {},
     "output_type": "execute_result"
    }
   ],
   "source": [
    "member['Age'] = member['Age'].astype(np.int16)\n",
    "member.dtypes"
   ]
  },
  {
   "cell_type": "code",
   "execution_count": 35,
   "id": "5dd10f19",
   "metadata": {},
   "outputs": [
    {
     "data": {
      "text/html": [
       "<div>\n",
       "<style scoped>\n",
       "    .dataframe tbody tr th:only-of-type {\n",
       "        vertical-align: middle;\n",
       "    }\n",
       "\n",
       "    .dataframe tbody tr th {\n",
       "        vertical-align: top;\n",
       "    }\n",
       "\n",
       "    .dataframe thead th {\n",
       "        text-align: right;\n",
       "    }\n",
       "</style>\n",
       "<table border=\"1\" class=\"dataframe\">\n",
       "  <thead>\n",
       "    <tr style=\"text-align: right;\">\n",
       "      <th></th>\n",
       "      <th>Name</th>\n",
       "      <th>Age</th>\n",
       "      <th>Email</th>\n",
       "      <th>Address</th>\n",
       "      <th>Birth</th>\n",
       "    </tr>\n",
       "  </thead>\n",
       "  <tbody>\n",
       "    <tr>\n",
       "      <th>0</th>\n",
       "      <td>홍길서</td>\n",
       "      <td>30</td>\n",
       "      <td>seo@hong.com</td>\n",
       "      <td>서울시 중구</td>\n",
       "      <td>1999-12-01</td>\n",
       "    </tr>\n",
       "    <tr>\n",
       "      <th>1</th>\n",
       "      <td>홍길남</td>\n",
       "      <td>21</td>\n",
       "      <td>nam@hong.com</td>\n",
       "      <td>서울시 강동구</td>\n",
       "      <td>1999-11-01</td>\n",
       "    </tr>\n",
       "    <tr>\n",
       "      <th>2</th>\n",
       "      <td>홍길북</td>\n",
       "      <td>22</td>\n",
       "      <td>buk@hong.com</td>\n",
       "      <td>서울시 관악구</td>\n",
       "      <td>1999-05-01</td>\n",
       "    </tr>\n",
       "    <tr>\n",
       "      <th>3</th>\n",
       "      <td>홍길중</td>\n",
       "      <td>23</td>\n",
       "      <td>mid@hong.com</td>\n",
       "      <td>부산시 중구</td>\n",
       "      <td>1999-01-30</td>\n",
       "    </tr>\n",
       "  </tbody>\n",
       "</table>\n",
       "</div>"
      ],
      "text/plain": [
       "  Name  Age         Email  Address       Birth\n",
       "0  홍길서   30  seo@hong.com   서울시 중구  1999-12-01\n",
       "1  홍길남   21  nam@hong.com  서울시 강동구  1999-11-01\n",
       "2  홍길북   22  buk@hong.com  서울시 관악구  1999-05-01\n",
       "3  홍길중   23  mid@hong.com   부산시 중구  1999-01-30"
      ]
     },
     "execution_count": 35,
     "metadata": {},
     "output_type": "execute_result"
    }
   ],
   "source": [
    "# (2) 특정행을 제외하고 csv 파일 읽어오기\n",
    "members = pd.read_csv('data/ch11_membercp949.csv', encoding='cp949',\n",
    "                      skiprows=[1,6]) # 1,6번째 행 제외하고 읽어오기(시작은 1부터) \n",
    "members"
   ]
  },
  {
   "cell_type": "code",
   "execution_count": 36,
   "id": "2f092b2e",
   "metadata": {},
   "outputs": [
    {
     "data": {
      "text/html": [
       "<div>\n",
       "<style scoped>\n",
       "    .dataframe tbody tr th:only-of-type {\n",
       "        vertical-align: middle;\n",
       "    }\n",
       "\n",
       "    .dataframe tbody tr th {\n",
       "        vertical-align: top;\n",
       "    }\n",
       "\n",
       "    .dataframe thead th {\n",
       "        text-align: right;\n",
       "    }\n",
       "</style>\n",
       "<table border=\"1\" class=\"dataframe\">\n",
       "  <thead>\n",
       "    <tr style=\"text-align: right;\">\n",
       "      <th></th>\n",
       "      <th>Name</th>\n",
       "      <th>Age</th>\n",
       "      <th>Email</th>\n",
       "      <th>Address</th>\n",
       "      <th>Birth</th>\n",
       "    </tr>\n",
       "  </thead>\n",
       "  <tbody>\n",
       "    <tr>\n",
       "      <th>0</th>\n",
       "      <td>홍길동</td>\n",
       "      <td>20</td>\n",
       "      <td>hong@hong.com</td>\n",
       "      <td>서울시 강동구</td>\n",
       "      <td>1999-01-01</td>\n",
       "    </tr>\n",
       "    <tr>\n",
       "      <th>1</th>\n",
       "      <td>홍길서</td>\n",
       "      <td>30</td>\n",
       "      <td>seo@hong.com</td>\n",
       "      <td>서울시 중구</td>\n",
       "      <td>1999-12-01</td>\n",
       "    </tr>\n",
       "    <tr>\n",
       "      <th>2</th>\n",
       "      <td>홍길남</td>\n",
       "      <td>21</td>\n",
       "      <td>nam@hong.com</td>\n",
       "      <td>서울시 강동구</td>\n",
       "      <td>1999-11-01</td>\n",
       "    </tr>\n",
       "    <tr>\n",
       "      <th>3</th>\n",
       "      <td>홍길북</td>\n",
       "      <td>22</td>\n",
       "      <td>buk@hong.com</td>\n",
       "      <td>서울시 관악구</td>\n",
       "      <td>1999-05-01</td>\n",
       "    </tr>\n",
       "    <tr>\n",
       "      <th>4</th>\n",
       "      <td>홍길중</td>\n",
       "      <td>23</td>\n",
       "      <td>mid@hong.com</td>\n",
       "      <td>부산시 중구</td>\n",
       "      <td>1999-01-30</td>\n",
       "    </tr>\n",
       "  </tbody>\n",
       "</table>\n",
       "</div>"
      ],
      "text/plain": [
       "  Name  Age          Email  Address       Birth\n",
       "0  홍길동   20  hong@hong.com  서울시 강동구  1999-01-01\n",
       "1  홍길서   30   seo@hong.com   서울시 중구  1999-12-01\n",
       "2  홍길남   21   nam@hong.com  서울시 강동구  1999-11-01\n",
       "3  홍길북   22   buk@hong.com  서울시 관악구  1999-05-01\n",
       "4  홍길중   23   mid@hong.com   부산시 중구  1999-01-30"
      ]
     },
     "execution_count": 36,
     "metadata": {},
     "output_type": "execute_result"
    }
   ],
   "source": [
    "# (3) 상위 몇 행만 sep문자는 , 아닌 csv 파일 읽어오기\n",
    "member = pd.read_csv('data/ch11_membersep.csv',sep='|',\n",
    "                     nrows=5) # 상위 5행만\n",
    "member"
   ]
  },
  {
   "cell_type": "code",
   "execution_count": 37,
   "id": "fe890bdc",
   "metadata": {},
   "outputs": [
    {
     "name": "stdout",
     "output_type": "stream",
     "text": [
      "<class 'pandas.core.frame.DataFrame'>\n",
      "RangeIndex: 5 entries, 0 to 4\n",
      "Data columns (total 5 columns):\n",
      " #   Column   Non-Null Count  Dtype         \n",
      "---  ------   --------------  -----         \n",
      " 0   Name     5 non-null      object        \n",
      " 1   Age      5 non-null      int64         \n",
      " 2   Email    5 non-null      object        \n",
      " 3   Address  5 non-null      object        \n",
      " 4   Birth    5 non-null      datetime64[ns]\n",
      "dtypes: datetime64[ns](1), int64(1), object(3)\n",
      "memory usage: 328.0+ bytes\n"
     ]
    }
   ],
   "source": [
    "# (4) 주석(#)제외, datetime형 필드를 지정하여 csv 파일 앍어오기\n",
    "member = pd.read_csv('data/ch11_membertab.csv',sep='\\t',\n",
    "                    comment='#', # 주석제거\n",
    "                    parse_dates=['Birth']) # datetime64형으로 읽어올 필드 지정\n",
    "member.info()"
   ]
  },
  {
   "cell_type": "markdown",
   "id": "6f4c3cc2",
   "metadata": {},
   "source": [
    "## 2.4 패키지에서 가져오기 : iris 데이터\n",
    "- iris 가져오는 방법1 : sklearn(머신러닝 패키지)\n",
    "- iris 가져오는 방법2 : statsmodels(R 데이터)\n",
    "- iris 가져오는 방법3 : seaborn(시각화 패키지)\n",
    "### 2.4.1 iris방법1 : sklearn\n",
    "- sklearn.datasets 모듈 데이터(iris)를 데이터 프레임으로 변환"
   ]
  },
  {
   "cell_type": "code",
   "execution_count": 38,
   "id": "6db5e1e8",
   "metadata": {},
   "outputs": [
    {
     "name": "stdout",
     "output_type": "stream",
     "text": [
      "<class 'sklearn.utils._bunch.Bunch'>\n",
      "dict_keys(['data', 'target', 'frame', 'target_names', 'DESCR', 'feature_names', 'filename', 'data_module'])\n"
     ]
    }
   ],
   "source": [
    "from sklearn import datasets # 머신러닝을 공부할 때 필요한 학습데이터셋 재공\n",
    "# sklearn 패키지에서 제공되는 데이터셋은 딕셔너리 형식으로 제공\n",
    "iris = datasets.load_iris()\n",
    "print(type(iris)) # Bunch타입(딕셔너리를 상속받은 타입) 딕셔너리처럼 동작\n",
    "# print(iris.DESCR) # iris 데이터셋의 설명\n",
    "print(iris.keys())"
   ]
  },
  {
   "cell_type": "code",
   "execution_count": 39,
   "id": "7f3139f8",
   "metadata": {},
   "outputs": [
    {
     "data": {
      "text/plain": [
       "array([[5.1, 3.5, 1.4, 0.2],\n",
       "       [4.9, 3. , 1.4, 0.2],\n",
       "       [4.7, 3.2, 1.3, 0.2]])"
      ]
     },
     "execution_count": 39,
     "metadata": {},
     "output_type": "execute_result"
    }
   ],
   "source": [
    "iris.data # 독립변수\n",
    "iris['data'][:3] # 상위 3행만 "
   ]
  },
  {
   "cell_type": "code",
   "execution_count": 40,
   "id": "08015c0a",
   "metadata": {},
   "outputs": [
    {
     "data": {
      "text/plain": [
       "['sepal length (cm)',\n",
       " 'sepal width (cm)',\n",
       " 'petal length (cm)',\n",
       " 'petal width (cm)']"
      ]
     },
     "execution_count": 40,
     "metadata": {},
     "output_type": "execute_result"
    }
   ],
   "source": [
    "# 데이터프레임의 열이름(비추:특수문자는 _ 빼고는 추천안함)\n",
    "iris.feature_names"
   ]
  },
  {
   "cell_type": "code",
   "execution_count": 41,
   "id": "77cecb0a",
   "metadata": {},
   "outputs": [
    {
     "data": {
      "text/plain": [
       "['sepal_length', 'sepal_width', 'petal_length', 'petal_width']"
      ]
     },
     "execution_count": 41,
     "metadata": {},
     "output_type": "execute_result"
    }
   ],
   "source": [
    "# 데어터프레임의 열이름(강추)\n",
    "[col[:-5].replace(' ',\"_\") for col in iris.feature_names]"
   ]
  },
  {
   "cell_type": "code",
   "execution_count": 42,
   "id": "e2aee43b",
   "metadata": {},
   "outputs": [
    {
     "data": {
      "text/plain": [
       "array([0, 0, 0, 0, 0, 0, 0, 0, 0, 0, 0, 0, 0, 0, 0, 0, 0, 0, 0, 0, 0, 0,\n",
       "       0, 0, 0, 0, 0, 0, 0, 0, 0, 0, 0, 0, 0, 0, 0, 0, 0, 0, 0, 0, 0, 0,\n",
       "       0, 0, 0, 0, 0, 0, 1, 1, 1, 1, 1, 1, 1, 1, 1, 1, 1, 1, 1, 1, 1, 1,\n",
       "       1, 1, 1, 1, 1, 1, 1, 1, 1, 1, 1, 1, 1, 1, 1, 1, 1, 1, 1, 1, 1, 1,\n",
       "       1, 1, 1, 1, 1, 1, 1, 1, 1, 1, 1, 1, 2, 2, 2, 2, 2, 2, 2, 2, 2, 2,\n",
       "       2, 2, 2, 2, 2, 2, 2, 2, 2, 2, 2, 2, 2, 2, 2, 2, 2, 2, 2, 2, 2, 2,\n",
       "       2, 2, 2, 2, 2, 2, 2, 2, 2, 2, 2, 2, 2, 2, 2, 2, 2, 2])"
      ]
     },
     "execution_count": 42,
     "metadata": {},
     "output_type": "execute_result"
    }
   ],
   "source": [
    "iris.target # ML/DL 학습시 타겟변수(종속변수)\n",
    "# iris['target']"
   ]
  },
  {
   "cell_type": "code",
   "execution_count": 43,
   "id": "d0564473",
   "metadata": {},
   "outputs": [
    {
     "data": {
      "text/plain": [
       "array(['setosa', 'versicolor', 'virginica'], dtype='<U10')"
      ]
     },
     "execution_count": 43,
     "metadata": {},
     "output_type": "execute_result"
    }
   ],
   "source": [
    "iris.target_names"
   ]
  },
  {
   "cell_type": "code",
   "execution_count": 44,
   "id": "69c92d70",
   "metadata": {},
   "outputs": [
    {
     "data": {
      "text/plain": [
       "array(['setosa', 'setosa', 'setosa', 'setosa', 'setosa', 'setosa',\n",
       "       'setosa', 'setosa', 'setosa', 'setosa', 'setosa', 'setosa',\n",
       "       'setosa', 'setosa', 'setosa', 'setosa', 'setosa', 'setosa',\n",
       "       'setosa', 'setosa', 'setosa', 'setosa', 'setosa', 'setosa',\n",
       "       'setosa', 'setosa', 'setosa', 'setosa', 'setosa', 'setosa',\n",
       "       'setosa', 'setosa', 'setosa', 'setosa', 'setosa', 'setosa',\n",
       "       'setosa', 'setosa', 'setosa', 'setosa', 'setosa', 'setosa',\n",
       "       'setosa', 'setosa', 'setosa', 'setosa', 'setosa', 'setosa',\n",
       "       'setosa', 'setosa', 'versicolor', 'versicolor', 'versicolor',\n",
       "       'versicolor', 'versicolor', 'versicolor', 'versicolor',\n",
       "       'versicolor', 'versicolor', 'versicolor', 'versicolor',\n",
       "       'versicolor', 'versicolor', 'versicolor', 'versicolor',\n",
       "       'versicolor', 'versicolor', 'versicolor', 'versicolor',\n",
       "       'versicolor', 'versicolor', 'versicolor', 'versicolor',\n",
       "       'versicolor', 'versicolor', 'versicolor', 'versicolor',\n",
       "       'versicolor', 'versicolor', 'versicolor', 'versicolor',\n",
       "       'versicolor', 'versicolor', 'versicolor', 'versicolor',\n",
       "       'versicolor', 'versicolor', 'versicolor', 'versicolor',\n",
       "       'versicolor', 'versicolor', 'versicolor', 'versicolor',\n",
       "       'versicolor', 'versicolor', 'versicolor', 'versicolor',\n",
       "       'versicolor', 'versicolor', 'versicolor', 'virginica', 'virginica',\n",
       "       'virginica', 'virginica', 'virginica', 'virginica', 'virginica',\n",
       "       'virginica', 'virginica', 'virginica', 'virginica', 'virginica',\n",
       "       'virginica', 'virginica', 'virginica', 'virginica', 'virginica',\n",
       "       'virginica', 'virginica', 'virginica', 'virginica', 'virginica',\n",
       "       'virginica', 'virginica', 'virginica', 'virginica', 'virginica',\n",
       "       'virginica', 'virginica', 'virginica', 'virginica', 'virginica',\n",
       "       'virginica', 'virginica', 'virginica', 'virginica', 'virginica',\n",
       "       'virginica', 'virginica', 'virginica', 'virginica', 'virginica',\n",
       "       'virginica', 'virginica', 'virginica', 'virginica', 'virginica',\n",
       "       'virginica', 'virginica', 'virginica'], dtype='<U10')"
      ]
     },
     "execution_count": 44,
     "metadata": {},
     "output_type": "execute_result"
    }
   ],
   "source": [
    "iris.target_names[iris.target] # 데이터프레임에 쓸 타겟변수(대체로 가장 오른쪽 열)"
   ]
  },
  {
   "cell_type": "code",
   "execution_count": 45,
   "id": "6cc2c6b0",
   "metadata": {},
   "outputs": [
    {
     "name": "stdout",
     "output_type": "stream",
     "text": [
      "[[5.1 3.5 1.4 0.2]\n",
      " [4.9 3.  1.4 0.2]\n",
      " [4.7 3.2 1.3 0.2]] [['setosa']\n",
      " ['setosa']\n",
      " ['setosa']]\n"
     ]
    }
   ],
   "source": [
    "# 독립변수\n",
    "data = iris.data\n",
    "# 종속변수\n",
    "target = iris.target_names[iris.target].reshape(-1,1)\n",
    "print(data[:3],target[:3])"
   ]
  },
  {
   "cell_type": "code",
   "execution_count": 46,
   "id": "c2f87e13",
   "metadata": {},
   "outputs": [
    {
     "name": "stdout",
     "output_type": "stream",
     "text": [
      "독립변수 shape : (150, 4)\n",
      "타겟변수 shape : (150, 1)\n"
     ]
    }
   ],
   "source": [
    "print('독립변수 shape :',data.shape)\n",
    "print('타겟변수 shape :',target.shape)"
   ]
  },
  {
   "cell_type": "code",
   "execution_count": 47,
   "id": "0813874a",
   "metadata": {},
   "outputs": [
    {
     "data": {
      "text/html": [
       "<div>\n",
       "<style scoped>\n",
       "    .dataframe tbody tr th:only-of-type {\n",
       "        vertical-align: middle;\n",
       "    }\n",
       "\n",
       "    .dataframe tbody tr th {\n",
       "        vertical-align: top;\n",
       "    }\n",
       "\n",
       "    .dataframe thead th {\n",
       "        text-align: right;\n",
       "    }\n",
       "</style>\n",
       "<table border=\"1\" class=\"dataframe\">\n",
       "  <thead>\n",
       "    <tr style=\"text-align: right;\">\n",
       "      <th></th>\n",
       "      <th>sepal length (cm)</th>\n",
       "      <th>sepal width (cm)</th>\n",
       "      <th>petal length (cm)</th>\n",
       "      <th>petal width (cm)</th>\n",
       "      <th>spacties</th>\n",
       "    </tr>\n",
       "  </thead>\n",
       "  <tbody>\n",
       "    <tr>\n",
       "      <th>0</th>\n",
       "      <td>5.1</td>\n",
       "      <td>3.5</td>\n",
       "      <td>1.4</td>\n",
       "      <td>0.2</td>\n",
       "      <td>setosa</td>\n",
       "    </tr>\n",
       "  </tbody>\n",
       "</table>\n",
       "</div>"
      ],
      "text/plain": [
       "  sepal length (cm) sepal width (cm) petal length (cm) petal width (cm)  \\\n",
       "0               5.1              3.5               1.4              0.2   \n",
       "\n",
       "  spacties  \n",
       "0   setosa  "
      ]
     },
     "execution_count": 47,
     "metadata": {},
     "output_type": "execute_result"
    }
   ],
   "source": [
    "# 1. 독립변수와 종속변수를 stack한 후 데이터 프레임으로\n",
    "df = pd.DataFrame(np.hstack((data,target)),\n",
    "              columns = iris.feature_names+['spacties'])\n",
    "df.head(1)"
   ]
  },
  {
   "cell_type": "code",
   "execution_count": 48,
   "id": "20066c35",
   "metadata": {},
   "outputs": [
    {
     "data": {
      "text/html": [
       "<div>\n",
       "<style scoped>\n",
       "    .dataframe tbody tr th:only-of-type {\n",
       "        vertical-align: middle;\n",
       "    }\n",
       "\n",
       "    .dataframe tbody tr th {\n",
       "        vertical-align: top;\n",
       "    }\n",
       "\n",
       "    .dataframe thead th {\n",
       "        text-align: right;\n",
       "    }\n",
       "</style>\n",
       "<table border=\"1\" class=\"dataframe\">\n",
       "  <thead>\n",
       "    <tr style=\"text-align: right;\">\n",
       "      <th></th>\n",
       "      <th>sepal_length</th>\n",
       "      <th>sepal_width</th>\n",
       "      <th>petal_length</th>\n",
       "      <th>petal_width</th>\n",
       "      <th>species</th>\n",
       "    </tr>\n",
       "  </thead>\n",
       "  <tbody>\n",
       "    <tr>\n",
       "      <th>0</th>\n",
       "      <td>5.1</td>\n",
       "      <td>3.5</td>\n",
       "      <td>1.4</td>\n",
       "      <td>0.2</td>\n",
       "      <td>setosa</td>\n",
       "    </tr>\n",
       "  </tbody>\n",
       "</table>\n",
       "</div>"
      ],
      "text/plain": [
       "  sepal_length sepal_width petal_length petal_width species\n",
       "0          5.1         3.5          1.4         0.2  setosa"
      ]
     },
     "execution_count": 48,
     "metadata": {},
     "output_type": "execute_result"
    }
   ],
   "source": [
    "# df.['sepal length (cm)']\n",
    "df.columns = [col[:-5].replace(' ',\"_\") for col in iris.feature_names]+['species']\n",
    "df.head(1)"
   ]
  },
  {
   "cell_type": "code",
   "execution_count": 49,
   "id": "18dbc036",
   "metadata": {},
   "outputs": [
    {
     "data": {
      "text/html": [
       "<div>\n",
       "<style scoped>\n",
       "    .dataframe tbody tr th:only-of-type {\n",
       "        vertical-align: middle;\n",
       "    }\n",
       "\n",
       "    .dataframe tbody tr th {\n",
       "        vertical-align: top;\n",
       "    }\n",
       "\n",
       "    .dataframe thead th {\n",
       "        text-align: right;\n",
       "    }\n",
       "</style>\n",
       "<table border=\"1\" class=\"dataframe\">\n",
       "  <thead>\n",
       "    <tr style=\"text-align: right;\">\n",
       "      <th></th>\n",
       "      <th>sepal_length</th>\n",
       "      <th>sepal_width</th>\n",
       "      <th>petal_length</th>\n",
       "      <th>petal_width</th>\n",
       "    </tr>\n",
       "  </thead>\n",
       "  <tbody>\n",
       "    <tr>\n",
       "      <th>0</th>\n",
       "      <td>5.1</td>\n",
       "      <td>3.5</td>\n",
       "      <td>1.4</td>\n",
       "      <td>0.2</td>\n",
       "    </tr>\n",
       "  </tbody>\n",
       "</table>\n",
       "</div>"
      ],
      "text/plain": [
       "   sepal_length  sepal_width  petal_length  petal_width\n",
       "0           5.1          3.5           1.4          0.2"
      ]
     },
     "execution_count": 49,
     "metadata": {},
     "output_type": "execute_result"
    }
   ],
   "source": [
    "# 2. 독립변수, 종속변수를 따로 데이터프레임으로 생성 -> 두 데이터프레임을 연결\n",
    "X= pd.DataFrame(iris.data,\n",
    "               columns=[col[:-5].replace(' ',\"_\") for col in iris.feature_names])\n",
    "X.head(1)"
   ]
  },
  {
   "cell_type": "code",
   "execution_count": 50,
   "id": "49eb3952",
   "metadata": {},
   "outputs": [
    {
     "data": {
      "text/html": [
       "<div>\n",
       "<style scoped>\n",
       "    .dataframe tbody tr th:only-of-type {\n",
       "        vertical-align: middle;\n",
       "    }\n",
       "\n",
       "    .dataframe tbody tr th {\n",
       "        vertical-align: top;\n",
       "    }\n",
       "\n",
       "    .dataframe thead th {\n",
       "        text-align: right;\n",
       "    }\n",
       "</style>\n",
       "<table border=\"1\" class=\"dataframe\">\n",
       "  <thead>\n",
       "    <tr style=\"text-align: right;\">\n",
       "      <th></th>\n",
       "      <th>species</th>\n",
       "    </tr>\n",
       "  </thead>\n",
       "  <tbody>\n",
       "    <tr>\n",
       "      <th>0</th>\n",
       "      <td>setosa</td>\n",
       "    </tr>\n",
       "  </tbody>\n",
       "</table>\n",
       "</div>"
      ],
      "text/plain": [
       "  species\n",
       "0  setosa"
      ]
     },
     "execution_count": 50,
     "metadata": {},
     "output_type": "execute_result"
    }
   ],
   "source": [
    "y=pd.DataFrame(iris.target_names[iris.target], columns=['species'])\n",
    "y.head(1)"
   ]
  },
  {
   "cell_type": "code",
   "execution_count": 51,
   "id": "66392410",
   "metadata": {},
   "outputs": [
    {
     "name": "stdout",
     "output_type": "stream",
     "text": [
      "X의 shape : (150, 4)\n",
      "y의 shape : (150, 1)\n",
      "X의 index : RangeIndex(start=0, stop=150, step=1)\n",
      "y의 index : RangeIndex(start=0, stop=150, step=1)\n"
     ]
    }
   ],
   "source": [
    "print('X의 shape :', X.shape)\n",
    "print('y의 shape :', y.shape)\n",
    "print('X의 index :', X.index)\n",
    "print('y의 index :', y.index)"
   ]
  },
  {
   "cell_type": "code",
   "execution_count": 52,
   "id": "a921a5d5",
   "metadata": {},
   "outputs": [
    {
     "name": "stdout",
     "output_type": "stream",
     "text": [
      "<class 'pandas.core.frame.DataFrame'>\n",
      "RangeIndex: 150 entries, 0 to 149\n",
      "Data columns (total 5 columns):\n",
      " #   Column        Non-Null Count  Dtype  \n",
      "---  ------        --------------  -----  \n",
      " 0   sepal_length  150 non-null    float64\n",
      " 1   sepal_width   150 non-null    float64\n",
      " 2   petal_length  150 non-null    float64\n",
      " 3   petal_width   150 non-null    float64\n",
      " 4   species       150 non-null    object \n",
      "dtypes: float64(4), object(1)\n",
      "memory usage: 6.0+ KB\n"
     ]
    }
   ],
   "source": [
    "iris_df = pd.concat([X,y], axis=1) # 두 개의 데이터프레임을 열로 연결\n",
    "iris_df.info()"
   ]
  },
  {
   "cell_type": "markdown",
   "id": "e6609a9a",
   "metadata": {},
   "source": [
    "### 2.4.2 iris방법2 : statsmodels"
   ]
  },
  {
   "cell_type": "code",
   "execution_count": 53,
   "id": "6dac474d",
   "metadata": {},
   "outputs": [
    {
     "data": {
      "text/plain": [
       "<class 'statsmodels.datasets.utils.Dataset'>"
      ]
     },
     "execution_count": 53,
     "metadata": {},
     "output_type": "execute_result"
    }
   ],
   "source": [
    "# R 데이터 가져오기\n",
    "from statsmodels.api import datasets\n",
    "iris_dataset = datasets.get_rdataset('iris',\n",
    "                                    package='datasets',\n",
    "                                    cache=True) # 한 번 다운로드한 데이터를 pc에 저장(cache의 기본값은 False)\n",
    "iris_dataset"
   ]
  },
  {
   "cell_type": "code",
   "execution_count": 54,
   "id": "f9b46e1b",
   "metadata": {},
   "outputs": [
    {
     "data": {
      "text/html": [
       "<div>\n",
       "<style scoped>\n",
       "    .dataframe tbody tr th:only-of-type {\n",
       "        vertical-align: middle;\n",
       "    }\n",
       "\n",
       "    .dataframe tbody tr th {\n",
       "        vertical-align: top;\n",
       "    }\n",
       "\n",
       "    .dataframe thead th {\n",
       "        text-align: right;\n",
       "    }\n",
       "</style>\n",
       "<table border=\"1\" class=\"dataframe\">\n",
       "  <thead>\n",
       "    <tr style=\"text-align: right;\">\n",
       "      <th></th>\n",
       "      <th>Sepal.Length</th>\n",
       "      <th>Sepal.Width</th>\n",
       "      <th>Petal.Length</th>\n",
       "      <th>Petal.Width</th>\n",
       "      <th>Species</th>\n",
       "    </tr>\n",
       "  </thead>\n",
       "  <tbody>\n",
       "    <tr>\n",
       "      <th>0</th>\n",
       "      <td>5.1</td>\n",
       "      <td>3.5</td>\n",
       "      <td>1.4</td>\n",
       "      <td>0.2</td>\n",
       "      <td>setosa</td>\n",
       "    </tr>\n",
       "    <tr>\n",
       "      <th>1</th>\n",
       "      <td>4.9</td>\n",
       "      <td>3.0</td>\n",
       "      <td>1.4</td>\n",
       "      <td>0.2</td>\n",
       "      <td>setosa</td>\n",
       "    </tr>\n",
       "    <tr>\n",
       "      <th>2</th>\n",
       "      <td>4.7</td>\n",
       "      <td>3.2</td>\n",
       "      <td>1.3</td>\n",
       "      <td>0.2</td>\n",
       "      <td>setosa</td>\n",
       "    </tr>\n",
       "    <tr>\n",
       "      <th>3</th>\n",
       "      <td>4.6</td>\n",
       "      <td>3.1</td>\n",
       "      <td>1.5</td>\n",
       "      <td>0.2</td>\n",
       "      <td>setosa</td>\n",
       "    </tr>\n",
       "    <tr>\n",
       "      <th>4</th>\n",
       "      <td>5.0</td>\n",
       "      <td>3.6</td>\n",
       "      <td>1.4</td>\n",
       "      <td>0.2</td>\n",
       "      <td>setosa</td>\n",
       "    </tr>\n",
       "  </tbody>\n",
       "</table>\n",
       "</div>"
      ],
      "text/plain": [
       "   Sepal.Length  Sepal.Width  Petal.Length  Petal.Width Species\n",
       "0           5.1          3.5           1.4          0.2  setosa\n",
       "1           4.9          3.0           1.4          0.2  setosa\n",
       "2           4.7          3.2           1.3          0.2  setosa\n",
       "3           4.6          3.1           1.5          0.2  setosa\n",
       "4           5.0          3.6           1.4          0.2  setosa"
      ]
     },
     "execution_count": 54,
     "metadata": {},
     "output_type": "execute_result"
    }
   ],
   "source": [
    "iris = iris_dataset.data\n",
    "iris.head() # head()의 기본값은 5"
   ]
  },
  {
   "cell_type": "code",
   "execution_count": 55,
   "id": "fe500f72",
   "metadata": {},
   "outputs": [
    {
     "data": {
      "text/plain": [
       "0         setosa\n",
       "1         setosa\n",
       "2         setosa\n",
       "3         setosa\n",
       "4         setosa\n",
       "         ...    \n",
       "145    virginica\n",
       "146    virginica\n",
       "147    virginica\n",
       "148    virginica\n",
       "149    virginica\n",
       "Name: Species, Length: 150, dtype: object"
      ]
     },
     "execution_count": 55,
     "metadata": {},
     "output_type": "execute_result"
    }
   ],
   "source": [
    "iris['Species']\n",
    "iris.Species"
   ]
  },
  {
   "cell_type": "code",
   "execution_count": 56,
   "id": "4341cc1e",
   "metadata": {},
   "outputs": [
    {
     "data": {
      "text/plain": [
       "0      5.1\n",
       "1      4.9\n",
       "2      4.7\n",
       "3      4.6\n",
       "4      5.0\n",
       "      ... \n",
       "145    6.7\n",
       "146    6.3\n",
       "147    6.5\n",
       "148    6.2\n",
       "149    5.9\n",
       "Name: Sepal.Length, Length: 150, dtype: float64"
      ]
     },
     "execution_count": 56,
     "metadata": {},
     "output_type": "execute_result"
    }
   ],
   "source": [
    "iris['Sepal.Length']\n",
    "# iris.Sepal.Length -열 이름에 .아 존재할 경우 이 방식으로 데이터 접근 불가"
   ]
  },
  {
   "cell_type": "code",
   "execution_count": 57,
   "id": "02ea9461",
   "metadata": {},
   "outputs": [
    {
     "data": {
      "text/html": [
       "<div>\n",
       "<style scoped>\n",
       "    .dataframe tbody tr th:only-of-type {\n",
       "        vertical-align: middle;\n",
       "    }\n",
       "\n",
       "    .dataframe tbody tr th {\n",
       "        vertical-align: top;\n",
       "    }\n",
       "\n",
       "    .dataframe thead th {\n",
       "        text-align: right;\n",
       "    }\n",
       "</style>\n",
       "<table border=\"1\" class=\"dataframe\">\n",
       "  <thead>\n",
       "    <tr style=\"text-align: right;\">\n",
       "      <th></th>\n",
       "      <th>sepal_length</th>\n",
       "      <th>sepal_width</th>\n",
       "      <th>petal_length</th>\n",
       "      <th>petal_width</th>\n",
       "      <th>species</th>\n",
       "    </tr>\n",
       "  </thead>\n",
       "  <tbody>\n",
       "    <tr>\n",
       "      <th>0</th>\n",
       "      <td>5.1</td>\n",
       "      <td>3.5</td>\n",
       "      <td>1.4</td>\n",
       "      <td>0.2</td>\n",
       "      <td>setosa</td>\n",
       "    </tr>\n",
       "  </tbody>\n",
       "</table>\n",
       "</div>"
      ],
      "text/plain": [
       "   sepal_length  sepal_width  petal_length  petal_width species\n",
       "0           5.1          3.5           1.4          0.2  setosa"
      ]
     },
     "execution_count": 57,
     "metadata": {},
     "output_type": "execute_result"
    }
   ],
   "source": [
    "iris.columns=[col.replace(\".\",\"_\").lower() for col in iris.columns]\n",
    "iris.head(1)"
   ]
  },
  {
   "cell_type": "markdown",
   "id": "8473c269",
   "metadata": {},
   "source": [
    "### 2.4.3 iris방법3 : seaborn"
   ]
  },
  {
   "cell_type": "code",
   "execution_count": 58,
   "id": "b93545c6",
   "metadata": {},
   "outputs": [
    {
     "data": {
      "text/html": [
       "<div>\n",
       "<style scoped>\n",
       "    .dataframe tbody tr th:only-of-type {\n",
       "        vertical-align: middle;\n",
       "    }\n",
       "\n",
       "    .dataframe tbody tr th {\n",
       "        vertical-align: top;\n",
       "    }\n",
       "\n",
       "    .dataframe thead th {\n",
       "        text-align: right;\n",
       "    }\n",
       "</style>\n",
       "<table border=\"1\" class=\"dataframe\">\n",
       "  <thead>\n",
       "    <tr style=\"text-align: right;\">\n",
       "      <th></th>\n",
       "      <th>sepal_length</th>\n",
       "      <th>sepal_width</th>\n",
       "      <th>petal_length</th>\n",
       "      <th>petal_width</th>\n",
       "      <th>species</th>\n",
       "    </tr>\n",
       "  </thead>\n",
       "  <tbody>\n",
       "    <tr>\n",
       "      <th>0</th>\n",
       "      <td>5.1</td>\n",
       "      <td>3.5</td>\n",
       "      <td>1.4</td>\n",
       "      <td>0.2</td>\n",
       "      <td>setosa</td>\n",
       "    </tr>\n",
       "  </tbody>\n",
       "</table>\n",
       "</div>"
      ],
      "text/plain": [
       "   sepal_length  sepal_width  petal_length  petal_width species\n",
       "0           5.1          3.5           1.4          0.2  setosa"
      ]
     },
     "execution_count": 58,
     "metadata": {},
     "output_type": "execute_result"
    }
   ],
   "source": [
    "import seaborn as sns\n",
    "iris=sns.load_dataset('iris')\n",
    "iris.head(1)"
   ]
  },
  {
   "cell_type": "code",
   "execution_count": 59,
   "id": "b4896987",
   "metadata": {},
   "outputs": [],
   "source": [
    "# 데이터프레임을 파일로 출력\n",
    "iris.to_csv('data/ch11_iris.csv',\n",
    "           sep=',', encoding='utf-8', #기본값들\n",
    "           index=False) #행이름이 생략되서 파일 출력"
   ]
  },
  {
   "cell_type": "code",
   "execution_count": 60,
   "id": "c898886f",
   "metadata": {},
   "outputs": [],
   "source": [
    "iris.to_csv('data/ch11_iris.csv.gz',\n",
    "           index=False,\n",
    "           compression='infer') # 파일 확장자에 맞게 압축"
   ]
  },
  {
   "cell_type": "code",
   "execution_count": 61,
   "id": "c7b0dc5b",
   "metadata": {},
   "outputs": [
    {
     "data": {
      "text/html": [
       "<div>\n",
       "<style scoped>\n",
       "    .dataframe tbody tr th:only-of-type {\n",
       "        vertical-align: middle;\n",
       "    }\n",
       "\n",
       "    .dataframe tbody tr th {\n",
       "        vertical-align: top;\n",
       "    }\n",
       "\n",
       "    .dataframe thead th {\n",
       "        text-align: right;\n",
       "    }\n",
       "</style>\n",
       "<table border=\"1\" class=\"dataframe\">\n",
       "  <thead>\n",
       "    <tr style=\"text-align: right;\">\n",
       "      <th></th>\n",
       "      <th>sepal_length</th>\n",
       "      <th>sepal_width</th>\n",
       "      <th>petal_length</th>\n",
       "      <th>petal_width</th>\n",
       "      <th>species</th>\n",
       "    </tr>\n",
       "  </thead>\n",
       "  <tbody>\n",
       "    <tr>\n",
       "      <th>0</th>\n",
       "      <td>5.1</td>\n",
       "      <td>3.5</td>\n",
       "      <td>1.4</td>\n",
       "      <td>0.2</td>\n",
       "      <td>setosa</td>\n",
       "    </tr>\n",
       "  </tbody>\n",
       "</table>\n",
       "</div>"
      ],
      "text/plain": [
       "   sepal_length  sepal_width  petal_length  petal_width species\n",
       "0           5.1          3.5           1.4          0.2  setosa"
      ]
     },
     "execution_count": 61,
     "metadata": {},
     "output_type": "execute_result"
    }
   ],
   "source": [
    "# read_iris = pd.read_csv('data/ch11_iris.csv')\n",
    "read_iris = pd.read_csv('data/ch11_iris.csv.gz', compression='infer')\n",
    "read_iris.head(1)"
   ]
  },
  {
   "cell_type": "markdown",
   "id": "f7912b42",
   "metadata": {},
   "source": [
    "# 3절 이름(열, 행) 지정하기\n",
    "## 3.1 열이름 지정하기"
   ]
  },
  {
   "cell_type": "code",
   "execution_count": 62,
   "id": "1ade4507",
   "metadata": {},
   "outputs": [
    {
     "data": {
      "text/html": [
       "<div>\n",
       "<style scoped>\n",
       "    .dataframe tbody tr th:only-of-type {\n",
       "        vertical-align: middle;\n",
       "    }\n",
       "\n",
       "    .dataframe tbody tr th {\n",
       "        vertical-align: top;\n",
       "    }\n",
       "\n",
       "    .dataframe thead th {\n",
       "        text-align: right;\n",
       "    }\n",
       "</style>\n",
       "<table border=\"1\" class=\"dataframe\">\n",
       "  <thead>\n",
       "    <tr style=\"text-align: right;\">\n",
       "      <th></th>\n",
       "      <th>Name</th>\n",
       "      <th>Age</th>\n",
       "      <th>Email</th>\n",
       "      <th>Address</th>\n",
       "      <th>Birth</th>\n",
       "    </tr>\n",
       "  </thead>\n",
       "  <tbody>\n",
       "    <tr>\n",
       "      <th>0</th>\n",
       "      <td>홍길동</td>\n",
       "      <td>20</td>\n",
       "      <td>hong@hong.com</td>\n",
       "      <td>서울시 강동구</td>\n",
       "      <td>1999-01-01</td>\n",
       "    </tr>\n",
       "  </tbody>\n",
       "</table>\n",
       "</div>"
      ],
      "text/plain": [
       "  Name  Age          Email  Address      Birth\n",
       "0  홍길동   20  hong@hong.com  서울시 강동구 1999-01-01"
      ]
     },
     "execution_count": 62,
     "metadata": {},
     "output_type": "execute_result"
    }
   ],
   "source": [
    "member = pd.read_csv('data/ch11_member.csv', comment=\"#\",parse_dates=['Birth'])\n",
    "member.head(1)"
   ]
  },
  {
   "cell_type": "code",
   "execution_count": 63,
   "id": "3222be99",
   "metadata": {},
   "outputs": [
    {
     "data": {
      "text/html": [
       "<div>\n",
       "<style scoped>\n",
       "    .dataframe tbody tr th:only-of-type {\n",
       "        vertical-align: middle;\n",
       "    }\n",
       "\n",
       "    .dataframe tbody tr th {\n",
       "        vertical-align: top;\n",
       "    }\n",
       "\n",
       "    .dataframe thead th {\n",
       "        text-align: right;\n",
       "    }\n",
       "</style>\n",
       "<table border=\"1\" class=\"dataframe\">\n",
       "  <thead>\n",
       "    <tr style=\"text-align: right;\">\n",
       "      <th></th>\n",
       "      <th>이름</th>\n",
       "      <th>나이</th>\n",
       "      <th>이메일</th>\n",
       "      <th>주소</th>\n",
       "      <th>생일</th>\n",
       "    </tr>\n",
       "  </thead>\n",
       "  <tbody>\n",
       "    <tr>\n",
       "      <th>0</th>\n",
       "      <td>홍길동</td>\n",
       "      <td>20</td>\n",
       "      <td>hong@hong.com</td>\n",
       "      <td>서울시 강동구</td>\n",
       "      <td>1999-01-01</td>\n",
       "    </tr>\n",
       "  </tbody>\n",
       "</table>\n",
       "</div>"
      ],
      "text/plain": [
       "    이름  나이            이메일       주소         생일\n",
       "0  홍길동  20  hong@hong.com  서울시 강동구 1999-01-01"
      ]
     },
     "execution_count": 63,
     "metadata": {},
     "output_type": "execute_result"
    }
   ],
   "source": [
    "member.columns =['이름','나이','이메일','주소','생일']\n",
    "member.head(1)"
   ]
  },
  {
   "cell_type": "markdown",
   "id": "e39eba79",
   "metadata": {},
   "source": [
    "## 3.2 행이름 지정하기"
   ]
  },
  {
   "cell_type": "code",
   "execution_count": 64,
   "id": "9509abb8",
   "metadata": {},
   "outputs": [
    {
     "data": {
      "text/plain": [
       "RangeIndex(start=0, stop=5, step=1)"
      ]
     },
     "execution_count": 64,
     "metadata": {},
     "output_type": "execute_result"
    }
   ],
   "source": [
    "member.index"
   ]
  },
  {
   "cell_type": "code",
   "execution_count": 65,
   "id": "40bd1832",
   "metadata": {},
   "outputs": [
    {
     "data": {
      "text/html": [
       "<div>\n",
       "<style scoped>\n",
       "    .dataframe tbody tr th:only-of-type {\n",
       "        vertical-align: middle;\n",
       "    }\n",
       "\n",
       "    .dataframe tbody tr th {\n",
       "        vertical-align: top;\n",
       "    }\n",
       "\n",
       "    .dataframe thead th {\n",
       "        text-align: right;\n",
       "    }\n",
       "</style>\n",
       "<table border=\"1\" class=\"dataframe\">\n",
       "  <thead>\n",
       "    <tr style=\"text-align: right;\">\n",
       "      <th></th>\n",
       "      <th>이름</th>\n",
       "      <th>나이</th>\n",
       "      <th>이메일</th>\n",
       "      <th>주소</th>\n",
       "      <th>생일</th>\n",
       "    </tr>\n",
       "  </thead>\n",
       "  <tbody>\n",
       "    <tr>\n",
       "      <th>11</th>\n",
       "      <td>홍길동</td>\n",
       "      <td>20</td>\n",
       "      <td>hong@hong.com</td>\n",
       "      <td>서울시 강동구</td>\n",
       "      <td>1999-01-01</td>\n",
       "    </tr>\n",
       "    <tr>\n",
       "      <th>12</th>\n",
       "      <td>홍길서</td>\n",
       "      <td>30</td>\n",
       "      <td>seo@hong.com</td>\n",
       "      <td>서울시 중구</td>\n",
       "      <td>1999-12-01</td>\n",
       "    </tr>\n",
       "    <tr>\n",
       "      <th>13</th>\n",
       "      <td>홍길남</td>\n",
       "      <td>21</td>\n",
       "      <td>nam@hong.com</td>\n",
       "      <td>서울시 강동구</td>\n",
       "      <td>1999-11-01</td>\n",
       "    </tr>\n",
       "    <tr>\n",
       "      <th>14</th>\n",
       "      <td>홍길북</td>\n",
       "      <td>22</td>\n",
       "      <td>buk@hong.com</td>\n",
       "      <td>서울시 관악구</td>\n",
       "      <td>1999-05-01</td>\n",
       "    </tr>\n",
       "    <tr>\n",
       "      <th>15</th>\n",
       "      <td>홍길중</td>\n",
       "      <td>23</td>\n",
       "      <td>mid@hong.com</td>\n",
       "      <td>부산시 중구</td>\n",
       "      <td>1999-01-30</td>\n",
       "    </tr>\n",
       "  </tbody>\n",
       "</table>\n",
       "</div>"
      ],
      "text/plain": [
       "     이름  나이            이메일       주소         생일\n",
       "11  홍길동  20  hong@hong.com  서울시 강동구 1999-01-01\n",
       "12  홍길서  30   seo@hong.com   서울시 중구 1999-12-01\n",
       "13  홍길남  21   nam@hong.com  서울시 강동구 1999-11-01\n",
       "14  홍길북  22   buk@hong.com  서울시 관악구 1999-05-01\n",
       "15  홍길중  23   mid@hong.com   부산시 중구 1999-01-30"
      ]
     },
     "execution_count": 65,
     "metadata": {},
     "output_type": "execute_result"
    }
   ],
   "source": [
    "member.index = range(11,16)\n",
    "member"
   ]
  },
  {
   "cell_type": "code",
   "execution_count": 66,
   "id": "cfa65154",
   "metadata": {},
   "outputs": [
    {
     "data": {
      "text/html": [
       "<div>\n",
       "<style scoped>\n",
       "    .dataframe tbody tr th:only-of-type {\n",
       "        vertical-align: middle;\n",
       "    }\n",
       "\n",
       "    .dataframe tbody tr th {\n",
       "        vertical-align: top;\n",
       "    }\n",
       "\n",
       "    .dataframe thead th {\n",
       "        text-align: right;\n",
       "    }\n",
       "</style>\n",
       "<table border=\"1\" class=\"dataframe\">\n",
       "  <thead>\n",
       "    <tr style=\"text-align: right;\">\n",
       "      <th></th>\n",
       "      <th>이름</th>\n",
       "      <th>나이</th>\n",
       "      <th>이메일</th>\n",
       "      <th>주소</th>\n",
       "      <th>생일</th>\n",
       "    </tr>\n",
       "  </thead>\n",
       "  <tbody>\n",
       "    <tr>\n",
       "      <th>동</th>\n",
       "      <td>홍길동</td>\n",
       "      <td>20</td>\n",
       "      <td>hong@hong.com</td>\n",
       "      <td>서울시 강동구</td>\n",
       "      <td>1999-01-01</td>\n",
       "    </tr>\n",
       "    <tr>\n",
       "      <th>서</th>\n",
       "      <td>홍길서</td>\n",
       "      <td>30</td>\n",
       "      <td>seo@hong.com</td>\n",
       "      <td>서울시 중구</td>\n",
       "      <td>1999-12-01</td>\n",
       "    </tr>\n",
       "    <tr>\n",
       "      <th>남</th>\n",
       "      <td>홍길남</td>\n",
       "      <td>21</td>\n",
       "      <td>nam@hong.com</td>\n",
       "      <td>서울시 강동구</td>\n",
       "      <td>1999-11-01</td>\n",
       "    </tr>\n",
       "    <tr>\n",
       "      <th>북</th>\n",
       "      <td>홍길북</td>\n",
       "      <td>22</td>\n",
       "      <td>buk@hong.com</td>\n",
       "      <td>서울시 관악구</td>\n",
       "      <td>1999-05-01</td>\n",
       "    </tr>\n",
       "    <tr>\n",
       "      <th>중</th>\n",
       "      <td>홍길중</td>\n",
       "      <td>23</td>\n",
       "      <td>mid@hong.com</td>\n",
       "      <td>부산시 중구</td>\n",
       "      <td>1999-01-30</td>\n",
       "    </tr>\n",
       "  </tbody>\n",
       "</table>\n",
       "</div>"
      ],
      "text/plain": [
       "    이름  나이            이메일       주소         생일\n",
       "동  홍길동  20  hong@hong.com  서울시 강동구 1999-01-01\n",
       "서  홍길서  30   seo@hong.com   서울시 중구 1999-12-01\n",
       "남  홍길남  21   nam@hong.com  서울시 강동구 1999-11-01\n",
       "북  홍길북  22   buk@hong.com  서울시 관악구 1999-05-01\n",
       "중  홍길중  23   mid@hong.com   부산시 중구 1999-01-30"
      ]
     },
     "execution_count": 66,
     "metadata": {},
     "output_type": "execute_result"
    }
   ],
   "source": [
    "member.index=['동','서','남','북','중']\n",
    "member"
   ]
  },
  {
   "cell_type": "code",
   "execution_count": 67,
   "id": "162b19d1",
   "metadata": {},
   "outputs": [
    {
     "data": {
      "text/plain": [
       "동    홍길동\n",
       "서    홍길서\n",
       "남    홍길남\n",
       "북    홍길북\n",
       "중    홍길중\n",
       "Name: 이름, dtype: object"
      ]
     },
     "execution_count": 67,
     "metadata": {},
     "output_type": "execute_result"
    }
   ],
   "source": [
    "member['이름'] # []에는 열이름과 조건만 사용가능(행이름 입력 시 error)"
   ]
  },
  {
   "cell_type": "code",
   "execution_count": 68,
   "id": "ced038d9",
   "metadata": {},
   "outputs": [
    {
     "data": {
      "text/plain": [
       "'홍길동'"
      ]
     },
     "execution_count": 68,
     "metadata": {},
     "output_type": "execute_result"
    }
   ],
   "source": [
    "# member['이름']['동'] 비추\n",
    "member.loc['동', '이름'] # 행과 열이름으로 부분데이터 조회 : loc"
   ]
  },
  {
   "cell_type": "code",
   "execution_count": 69,
   "id": "3c70a900",
   "metadata": {},
   "outputs": [
    {
     "data": {
      "text/html": [
       "<div>\n",
       "<style scoped>\n",
       "    .dataframe tbody tr th:only-of-type {\n",
       "        vertical-align: middle;\n",
       "    }\n",
       "\n",
       "    .dataframe tbody tr th {\n",
       "        vertical-align: top;\n",
       "    }\n",
       "\n",
       "    .dataframe thead th {\n",
       "        text-align: right;\n",
       "    }\n",
       "</style>\n",
       "<table border=\"1\" class=\"dataframe\">\n",
       "  <thead>\n",
       "    <tr style=\"text-align: right;\">\n",
       "      <th></th>\n",
       "      <th>나이</th>\n",
       "      <th>이메일</th>\n",
       "      <th>주소</th>\n",
       "      <th>생일</th>\n",
       "    </tr>\n",
       "    <tr>\n",
       "      <th>이름</th>\n",
       "      <th></th>\n",
       "      <th></th>\n",
       "      <th></th>\n",
       "      <th></th>\n",
       "    </tr>\n",
       "  </thead>\n",
       "  <tbody>\n",
       "    <tr>\n",
       "      <th>홍길동</th>\n",
       "      <td>20</td>\n",
       "      <td>hong@hong.com</td>\n",
       "      <td>서울시 강동구</td>\n",
       "      <td>1999-01-01</td>\n",
       "    </tr>\n",
       "  </tbody>\n",
       "</table>\n",
       "</div>"
      ],
      "text/plain": [
       "     나이            이메일       주소         생일\n",
       "이름                                        \n",
       "홍길동  20  hong@hong.com  서울시 강동구 1999-01-01"
      ]
     },
     "execution_count": 69,
     "metadata": {},
     "output_type": "execute_result"
    }
   ],
   "source": [
    "# index를 특정 열로(실행결과가 출력되서 나오면 return만 될 뿐 member는 바뀌지 않음)\n",
    "# member를 수정하려면 (1) 할당 (2) inplace 매개변수에 True(기본값 False)\n",
    "member1 = member.set_index('이름')\n",
    "member1.head(1)"
   ]
  },
  {
   "cell_type": "code",
   "execution_count": 70,
   "id": "562520a4",
   "metadata": {},
   "outputs": [],
   "source": [
    "member.set_index('이름',inplace=True) #두번 실행 시 에러, 리턴이 아니기에 할당 시 none"
   ]
  },
  {
   "cell_type": "code",
   "execution_count": 71,
   "id": "0d500361",
   "metadata": {},
   "outputs": [
    {
     "data": {
      "text/html": [
       "<div>\n",
       "<style scoped>\n",
       "    .dataframe tbody tr th:only-of-type {\n",
       "        vertical-align: middle;\n",
       "    }\n",
       "\n",
       "    .dataframe tbody tr th {\n",
       "        vertical-align: top;\n",
       "    }\n",
       "\n",
       "    .dataframe thead th {\n",
       "        text-align: right;\n",
       "    }\n",
       "</style>\n",
       "<table border=\"1\" class=\"dataframe\">\n",
       "  <thead>\n",
       "    <tr style=\"text-align: right;\">\n",
       "      <th></th>\n",
       "      <th>나이</th>\n",
       "      <th>이메일</th>\n",
       "      <th>주소</th>\n",
       "      <th>생일</th>\n",
       "    </tr>\n",
       "    <tr>\n",
       "      <th>이름</th>\n",
       "      <th></th>\n",
       "      <th></th>\n",
       "      <th></th>\n",
       "      <th></th>\n",
       "    </tr>\n",
       "  </thead>\n",
       "  <tbody>\n",
       "    <tr>\n",
       "      <th>홍길동</th>\n",
       "      <td>20</td>\n",
       "      <td>hong@hong.com</td>\n",
       "      <td>서울시 강동구</td>\n",
       "      <td>1999-01-01</td>\n",
       "    </tr>\n",
       "    <tr>\n",
       "      <th>홍길서</th>\n",
       "      <td>30</td>\n",
       "      <td>seo@hong.com</td>\n",
       "      <td>서울시 중구</td>\n",
       "      <td>1999-12-01</td>\n",
       "    </tr>\n",
       "    <tr>\n",
       "      <th>홍길남</th>\n",
       "      <td>21</td>\n",
       "      <td>nam@hong.com</td>\n",
       "      <td>서울시 강동구</td>\n",
       "      <td>1999-11-01</td>\n",
       "    </tr>\n",
       "    <tr>\n",
       "      <th>홍길북</th>\n",
       "      <td>22</td>\n",
       "      <td>buk@hong.com</td>\n",
       "      <td>서울시 관악구</td>\n",
       "      <td>1999-05-01</td>\n",
       "    </tr>\n",
       "    <tr>\n",
       "      <th>홍길중</th>\n",
       "      <td>23</td>\n",
       "      <td>mid@hong.com</td>\n",
       "      <td>부산시 중구</td>\n",
       "      <td>1999-01-30</td>\n",
       "    </tr>\n",
       "  </tbody>\n",
       "</table>\n",
       "</div>"
      ],
      "text/plain": [
       "     나이            이메일       주소         생일\n",
       "이름                                        \n",
       "홍길동  20  hong@hong.com  서울시 강동구 1999-01-01\n",
       "홍길서  30   seo@hong.com   서울시 중구 1999-12-01\n",
       "홍길남  21   nam@hong.com  서울시 강동구 1999-11-01\n",
       "홍길북  22   buk@hong.com  서울시 관악구 1999-05-01\n",
       "홍길중  23   mid@hong.com   부산시 중구 1999-01-30"
      ]
     },
     "execution_count": 71,
     "metadata": {},
     "output_type": "execute_result"
    }
   ],
   "source": [
    "member"
   ]
  },
  {
   "cell_type": "code",
   "execution_count": 72,
   "id": "bb8c09b2",
   "metadata": {},
   "outputs": [
    {
     "data": {
      "text/plain": [
       "Index(['홍길동', '홍길서', '홍길남', '홍길북', '홍길중'], dtype='object', name='이름')"
      ]
     },
     "execution_count": 72,
     "metadata": {},
     "output_type": "execute_result"
    }
   ],
   "source": [
    "member.index"
   ]
  },
  {
   "cell_type": "code",
   "execution_count": 73,
   "id": "c9ed40c0",
   "metadata": {},
   "outputs": [],
   "source": [
    "# 인덱스를 컬럼으로 편입시키기, 여러번 실행 시키면 숫자가 데이터로 들어가니 한번만 실행할 것\n",
    "member.reset_index(inplace=True)"
   ]
  },
  {
   "cell_type": "code",
   "execution_count": 74,
   "id": "ac7711af",
   "metadata": {},
   "outputs": [
    {
     "data": {
      "text/html": [
       "<div>\n",
       "<style scoped>\n",
       "    .dataframe tbody tr th:only-of-type {\n",
       "        vertical-align: middle;\n",
       "    }\n",
       "\n",
       "    .dataframe tbody tr th {\n",
       "        vertical-align: top;\n",
       "    }\n",
       "\n",
       "    .dataframe thead th {\n",
       "        text-align: right;\n",
       "    }\n",
       "</style>\n",
       "<table border=\"1\" class=\"dataframe\">\n",
       "  <thead>\n",
       "    <tr style=\"text-align: right;\">\n",
       "      <th></th>\n",
       "      <th>이름</th>\n",
       "      <th>나이</th>\n",
       "      <th>이메일</th>\n",
       "      <th>주소</th>\n",
       "      <th>생일</th>\n",
       "    </tr>\n",
       "  </thead>\n",
       "  <tbody>\n",
       "    <tr>\n",
       "      <th>0</th>\n",
       "      <td>홍길동</td>\n",
       "      <td>20</td>\n",
       "      <td>hong@hong.com</td>\n",
       "      <td>서울시 강동구</td>\n",
       "      <td>1999-01-01</td>\n",
       "    </tr>\n",
       "    <tr>\n",
       "      <th>1</th>\n",
       "      <td>홍길서</td>\n",
       "      <td>30</td>\n",
       "      <td>seo@hong.com</td>\n",
       "      <td>서울시 중구</td>\n",
       "      <td>1999-12-01</td>\n",
       "    </tr>\n",
       "    <tr>\n",
       "      <th>2</th>\n",
       "      <td>홍길남</td>\n",
       "      <td>21</td>\n",
       "      <td>nam@hong.com</td>\n",
       "      <td>서울시 강동구</td>\n",
       "      <td>1999-11-01</td>\n",
       "    </tr>\n",
       "    <tr>\n",
       "      <th>0</th>\n",
       "      <td>홍길북</td>\n",
       "      <td>22</td>\n",
       "      <td>buk@hong.com</td>\n",
       "      <td>서울시 관악구</td>\n",
       "      <td>1999-05-01</td>\n",
       "    </tr>\n",
       "    <tr>\n",
       "      <th>1</th>\n",
       "      <td>홍길중</td>\n",
       "      <td>23</td>\n",
       "      <td>mid@hong.com</td>\n",
       "      <td>부산시 중구</td>\n",
       "      <td>1999-01-30</td>\n",
       "    </tr>\n",
       "  </tbody>\n",
       "</table>\n",
       "</div>"
      ],
      "text/plain": [
       "    이름  나이            이메일       주소         생일\n",
       "0  홍길동  20  hong@hong.com  서울시 강동구 1999-01-01\n",
       "1  홍길서  30   seo@hong.com   서울시 중구 1999-12-01\n",
       "2  홍길남  21   nam@hong.com  서울시 강동구 1999-11-01\n",
       "0  홍길북  22   buk@hong.com  서울시 관악구 1999-05-01\n",
       "1  홍길중  23   mid@hong.com   부산시 중구 1999-01-30"
      ]
     },
     "execution_count": 74,
     "metadata": {},
     "output_type": "execute_result"
    }
   ],
   "source": [
    "member.index=[0,1,2,0,1]\n",
    "member"
   ]
  },
  {
   "cell_type": "code",
   "execution_count": 75,
   "id": "155ba661",
   "metadata": {},
   "outputs": [
    {
     "data": {
      "text/html": [
       "<div>\n",
       "<style scoped>\n",
       "    .dataframe tbody tr th:only-of-type {\n",
       "        vertical-align: middle;\n",
       "    }\n",
       "\n",
       "    .dataframe tbody tr th {\n",
       "        vertical-align: top;\n",
       "    }\n",
       "\n",
       "    .dataframe thead th {\n",
       "        text-align: right;\n",
       "    }\n",
       "</style>\n",
       "<table border=\"1\" class=\"dataframe\">\n",
       "  <thead>\n",
       "    <tr style=\"text-align: right;\">\n",
       "      <th></th>\n",
       "      <th>이름</th>\n",
       "      <th>나이</th>\n",
       "      <th>이메일</th>\n",
       "      <th>주소</th>\n",
       "      <th>생일</th>\n",
       "    </tr>\n",
       "  </thead>\n",
       "  <tbody>\n",
       "    <tr>\n",
       "      <th>0</th>\n",
       "      <td>홍길동</td>\n",
       "      <td>20</td>\n",
       "      <td>hong@hong.com</td>\n",
       "      <td>서울시 강동구</td>\n",
       "      <td>1999-01-01</td>\n",
       "    </tr>\n",
       "    <tr>\n",
       "      <th>1</th>\n",
       "      <td>홍길서</td>\n",
       "      <td>30</td>\n",
       "      <td>seo@hong.com</td>\n",
       "      <td>서울시 중구</td>\n",
       "      <td>1999-12-01</td>\n",
       "    </tr>\n",
       "    <tr>\n",
       "      <th>2</th>\n",
       "      <td>홍길남</td>\n",
       "      <td>21</td>\n",
       "      <td>nam@hong.com</td>\n",
       "      <td>서울시 강동구</td>\n",
       "      <td>1999-11-01</td>\n",
       "    </tr>\n",
       "    <tr>\n",
       "      <th>3</th>\n",
       "      <td>홍길북</td>\n",
       "      <td>22</td>\n",
       "      <td>buk@hong.com</td>\n",
       "      <td>서울시 관악구</td>\n",
       "      <td>1999-05-01</td>\n",
       "    </tr>\n",
       "    <tr>\n",
       "      <th>4</th>\n",
       "      <td>홍길중</td>\n",
       "      <td>23</td>\n",
       "      <td>mid@hong.com</td>\n",
       "      <td>부산시 중구</td>\n",
       "      <td>1999-01-30</td>\n",
       "    </tr>\n",
       "  </tbody>\n",
       "</table>\n",
       "</div>"
      ],
      "text/plain": [
       "    이름  나이            이메일       주소         생일\n",
       "0  홍길동  20  hong@hong.com  서울시 강동구 1999-01-01\n",
       "1  홍길서  30   seo@hong.com   서울시 중구 1999-12-01\n",
       "2  홍길남  21   nam@hong.com  서울시 강동구 1999-11-01\n",
       "3  홍길북  22   buk@hong.com  서울시 관악구 1999-05-01\n",
       "4  홍길중  23   mid@hong.com   부산시 중구 1999-01-30"
      ]
     },
     "execution_count": 75,
     "metadata": {},
     "output_type": "execute_result"
    }
   ],
   "source": [
    "# 기존의 index를 새로운 열에 편입시키지 않고, 제거한 후 새로운 숫자 index로 초기화\n",
    "# member.index = range(len(member))\n",
    "member = member.reset_index(drop=True)\n",
    "member"
   ]
  },
  {
   "cell_type": "code",
   "execution_count": 76,
   "id": "87a5ac91",
   "metadata": {},
   "outputs": [
    {
     "data": {
      "text/plain": [
       "0    1999\n",
       "1    1999\n",
       "2    1999\n",
       "3    1999\n",
       "4    1999\n",
       "Name: 생일, dtype: int64"
      ]
     },
     "execution_count": 76,
     "metadata": {},
     "output_type": "execute_result"
    }
   ],
   "source": [
    "# datatime열에서 날짜 및 시간에 관련된 정보를 추출 : 시리즈(1차원데이터).dt\n",
    "member['생일'].dt.year"
   ]
  },
  {
   "cell_type": "code",
   "execution_count": 77,
   "id": "2ac3a787",
   "metadata": {},
   "outputs": [
    {
     "data": {
      "text/plain": [
       "0     1\n",
       "1    12\n",
       "2    11\n",
       "3     5\n",
       "4     1\n",
       "Name: 생일, dtype: int64"
      ]
     },
     "execution_count": 77,
     "metadata": {},
     "output_type": "execute_result"
    }
   ],
   "source": [
    "member['생일'].dt.month"
   ]
  },
  {
   "cell_type": "code",
   "execution_count": 78,
   "id": "30af930e",
   "metadata": {},
   "outputs": [
    {
     "data": {
      "text/plain": [
       "0    4\n",
       "1    2\n",
       "2    0\n",
       "3    5\n",
       "4    5\n",
       "Name: 생일, dtype: int64"
      ]
     },
     "execution_count": 78,
     "metadata": {},
     "output_type": "execute_result"
    }
   ],
   "source": [
    "member['생일'].dt.weekday # 0:월, 1:화,.... 5:토, 6:일"
   ]
  },
  {
   "cell_type": "markdown",
   "id": "82778e2a",
   "metadata": {},
   "source": [
    "## 3.3 레벨이름 지정하기"
   ]
  },
  {
   "cell_type": "code",
   "execution_count": 79,
   "id": "0f07166d",
   "metadata": {},
   "outputs": [
    {
     "data": {
      "text/html": [
       "<div>\n",
       "<style scoped>\n",
       "    .dataframe tbody tr th:only-of-type {\n",
       "        vertical-align: middle;\n",
       "    }\n",
       "\n",
       "    .dataframe tbody tr th {\n",
       "        vertical-align: top;\n",
       "    }\n",
       "\n",
       "    .dataframe thead th {\n",
       "        text-align: right;\n",
       "    }\n",
       "</style>\n",
       "<table border=\"1\" class=\"dataframe\">\n",
       "  <thead>\n",
       "    <tr style=\"text-align: right;\">\n",
       "      <th></th>\n",
       "      <th>이름</th>\n",
       "      <th>나이</th>\n",
       "      <th>이메일</th>\n",
       "      <th>주소</th>\n",
       "      <th>생일</th>\n",
       "    </tr>\n",
       "  </thead>\n",
       "  <tbody>\n",
       "    <tr>\n",
       "      <th>0</th>\n",
       "      <td>홍길동</td>\n",
       "      <td>20</td>\n",
       "      <td>hong@hong.com</td>\n",
       "      <td>서울시 강동구</td>\n",
       "      <td>1999-01-01</td>\n",
       "    </tr>\n",
       "    <tr>\n",
       "      <th>1</th>\n",
       "      <td>홍길서</td>\n",
       "      <td>30</td>\n",
       "      <td>seo@hong.com</td>\n",
       "      <td>서울시 중구</td>\n",
       "      <td>1999-12-01</td>\n",
       "    </tr>\n",
       "    <tr>\n",
       "      <th>2</th>\n",
       "      <td>홍길남</td>\n",
       "      <td>21</td>\n",
       "      <td>nam@hong.com</td>\n",
       "      <td>서울시 강동구</td>\n",
       "      <td>1999-11-01</td>\n",
       "    </tr>\n",
       "    <tr>\n",
       "      <th>3</th>\n",
       "      <td>홍길북</td>\n",
       "      <td>22</td>\n",
       "      <td>buk@hong.com</td>\n",
       "      <td>서울시 관악구</td>\n",
       "      <td>1999-05-01</td>\n",
       "    </tr>\n",
       "    <tr>\n",
       "      <th>4</th>\n",
       "      <td>홍길중</td>\n",
       "      <td>23</td>\n",
       "      <td>mid@hong.com</td>\n",
       "      <td>부산시 중구</td>\n",
       "      <td>1999-01-30</td>\n",
       "    </tr>\n",
       "  </tbody>\n",
       "</table>\n",
       "</div>"
      ],
      "text/plain": [
       "    이름  나이            이메일       주소         생일\n",
       "0  홍길동  20  hong@hong.com  서울시 강동구 1999-01-01\n",
       "1  홍길서  30   seo@hong.com   서울시 중구 1999-12-01\n",
       "2  홍길남  21   nam@hong.com  서울시 강동구 1999-11-01\n",
       "3  홍길북  22   buk@hong.com  서울시 관악구 1999-05-01\n",
       "4  홍길중  23   mid@hong.com   부산시 중구 1999-01-30"
      ]
     },
     "execution_count": 79,
     "metadata": {},
     "output_type": "execute_result"
    }
   ],
   "source": [
    "member"
   ]
  },
  {
   "cell_type": "code",
   "execution_count": 80,
   "id": "24e05e02",
   "metadata": {},
   "outputs": [
    {
     "name": "stdout",
     "output_type": "stream",
     "text": [
      "Index(['이름', '나이', '이메일', '주소', '생일'], dtype='object')\n",
      "None\n"
     ]
    }
   ],
   "source": [
    "print(member.columns)\n",
    "print(member.columns.name)"
   ]
  },
  {
   "cell_type": "code",
   "execution_count": 81,
   "id": "1ec8be37",
   "metadata": {},
   "outputs": [
    {
     "data": {
      "text/html": [
       "<div>\n",
       "<style scoped>\n",
       "    .dataframe tbody tr th:only-of-type {\n",
       "        vertical-align: middle;\n",
       "    }\n",
       "\n",
       "    .dataframe tbody tr th {\n",
       "        vertical-align: top;\n",
       "    }\n",
       "\n",
       "    .dataframe thead th {\n",
       "        text-align: right;\n",
       "    }\n",
       "</style>\n",
       "<table border=\"1\" class=\"dataframe\">\n",
       "  <thead>\n",
       "    <tr style=\"text-align: right;\">\n",
       "      <th>정보</th>\n",
       "      <th>이름</th>\n",
       "      <th>나이</th>\n",
       "      <th>이메일</th>\n",
       "      <th>주소</th>\n",
       "      <th>생일</th>\n",
       "    </tr>\n",
       "  </thead>\n",
       "  <tbody>\n",
       "    <tr>\n",
       "      <th>0</th>\n",
       "      <td>홍길동</td>\n",
       "      <td>20</td>\n",
       "      <td>hong@hong.com</td>\n",
       "      <td>서울시 강동구</td>\n",
       "      <td>1999-01-01</td>\n",
       "    </tr>\n",
       "    <tr>\n",
       "      <th>1</th>\n",
       "      <td>홍길서</td>\n",
       "      <td>30</td>\n",
       "      <td>seo@hong.com</td>\n",
       "      <td>서울시 중구</td>\n",
       "      <td>1999-12-01</td>\n",
       "    </tr>\n",
       "    <tr>\n",
       "      <th>2</th>\n",
       "      <td>홍길남</td>\n",
       "      <td>21</td>\n",
       "      <td>nam@hong.com</td>\n",
       "      <td>서울시 강동구</td>\n",
       "      <td>1999-11-01</td>\n",
       "    </tr>\n",
       "    <tr>\n",
       "      <th>3</th>\n",
       "      <td>홍길북</td>\n",
       "      <td>22</td>\n",
       "      <td>buk@hong.com</td>\n",
       "      <td>서울시 관악구</td>\n",
       "      <td>1999-05-01</td>\n",
       "    </tr>\n",
       "    <tr>\n",
       "      <th>4</th>\n",
       "      <td>홍길중</td>\n",
       "      <td>23</td>\n",
       "      <td>mid@hong.com</td>\n",
       "      <td>부산시 중구</td>\n",
       "      <td>1999-01-30</td>\n",
       "    </tr>\n",
       "  </tbody>\n",
       "</table>\n",
       "</div>"
      ],
      "text/plain": [
       "정보   이름  나이            이메일       주소         생일\n",
       "0   홍길동  20  hong@hong.com  서울시 강동구 1999-01-01\n",
       "1   홍길서  30   seo@hong.com   서울시 중구 1999-12-01\n",
       "2   홍길남  21   nam@hong.com  서울시 강동구 1999-11-01\n",
       "3   홍길북  22   buk@hong.com  서울시 관악구 1999-05-01\n",
       "4   홍길중  23   mid@hong.com   부산시 중구 1999-01-30"
      ]
     },
     "execution_count": 81,
     "metadata": {},
     "output_type": "execute_result"
    }
   ],
   "source": [
    "member.columns.name=\"정보\"\n",
    "member"
   ]
  },
  {
   "cell_type": "code",
   "execution_count": 82,
   "id": "dc06276f",
   "metadata": {},
   "outputs": [
    {
     "data": {
      "text/html": [
       "<div>\n",
       "<style scoped>\n",
       "    .dataframe tbody tr th:only-of-type {\n",
       "        vertical-align: middle;\n",
       "    }\n",
       "\n",
       "    .dataframe tbody tr th {\n",
       "        vertical-align: top;\n",
       "    }\n",
       "\n",
       "    .dataframe thead tr th {\n",
       "        text-align: left;\n",
       "    }\n",
       "</style>\n",
       "<table border=\"1\" class=\"dataframe\">\n",
       "  <thead>\n",
       "    <tr>\n",
       "      <th>대분류</th>\n",
       "      <th colspan=\"3\" halign=\"left\">기본정보</th>\n",
       "      <th colspan=\"2\" halign=\"left\">추가정보</th>\n",
       "    </tr>\n",
       "    <tr>\n",
       "      <th>소분류</th>\n",
       "      <th>이름</th>\n",
       "      <th>나이</th>\n",
       "      <th>메일</th>\n",
       "      <th>주소</th>\n",
       "      <th>생일</th>\n",
       "    </tr>\n",
       "  </thead>\n",
       "  <tbody>\n",
       "    <tr>\n",
       "      <th>0</th>\n",
       "      <td>홍길동</td>\n",
       "      <td>20</td>\n",
       "      <td>hong@hong.com</td>\n",
       "      <td>서울시 강동구</td>\n",
       "      <td>1999-01-01</td>\n",
       "    </tr>\n",
       "    <tr>\n",
       "      <th>1</th>\n",
       "      <td>홍길서</td>\n",
       "      <td>30</td>\n",
       "      <td>seo@hong.com</td>\n",
       "      <td>서울시 중구</td>\n",
       "      <td>1999-12-01</td>\n",
       "    </tr>\n",
       "    <tr>\n",
       "      <th>2</th>\n",
       "      <td>홍길남</td>\n",
       "      <td>21</td>\n",
       "      <td>nam@hong.com</td>\n",
       "      <td>서울시 강동구</td>\n",
       "      <td>1999-11-01</td>\n",
       "    </tr>\n",
       "    <tr>\n",
       "      <th>3</th>\n",
       "      <td>홍길북</td>\n",
       "      <td>22</td>\n",
       "      <td>buk@hong.com</td>\n",
       "      <td>서울시 관악구</td>\n",
       "      <td>1999-05-01</td>\n",
       "    </tr>\n",
       "    <tr>\n",
       "      <th>4</th>\n",
       "      <td>홍길중</td>\n",
       "      <td>23</td>\n",
       "      <td>mid@hong.com</td>\n",
       "      <td>부산시 중구</td>\n",
       "      <td>1999-01-30</td>\n",
       "    </tr>\n",
       "  </tbody>\n",
       "</table>\n",
       "</div>"
      ],
      "text/plain": [
       "대분류 기본정보                        추가정보           \n",
       "소분류   이름  나이             메일       주소         생일\n",
       "0    홍길동  20  hong@hong.com  서울시 강동구 1999-01-01\n",
       "1    홍길서  30   seo@hong.com   서울시 중구 1999-12-01\n",
       "2    홍길남  21   nam@hong.com  서울시 강동구 1999-11-01\n",
       "3    홍길북  22   buk@hong.com  서울시 관악구 1999-05-01\n",
       "4    홍길중  23   mid@hong.com   부산시 중구 1999-01-30"
      ]
     },
     "execution_count": 82,
     "metadata": {},
     "output_type": "execute_result"
    }
   ],
   "source": [
    "member.columns = [['기본정보','기본정보','기본정보','추가정보','추가정보'],\n",
    "                 ['이름','나이','메일','주소','생일']]\n",
    "member.columns.names=['대분류','소분류']\n",
    "member"
   ]
  },
  {
   "cell_type": "code",
   "execution_count": 83,
   "id": "4173e009",
   "metadata": {},
   "outputs": [
    {
     "data": {
      "text/html": [
       "<div>\n",
       "<style scoped>\n",
       "    .dataframe tbody tr th:only-of-type {\n",
       "        vertical-align: middle;\n",
       "    }\n",
       "\n",
       "    .dataframe tbody tr th {\n",
       "        vertical-align: top;\n",
       "    }\n",
       "\n",
       "    .dataframe thead tr th {\n",
       "        text-align: left;\n",
       "    }\n",
       "\n",
       "    .dataframe thead tr:last-of-type th {\n",
       "        text-align: right;\n",
       "    }\n",
       "</style>\n",
       "<table border=\"1\" class=\"dataframe\">\n",
       "  <thead>\n",
       "    <tr>\n",
       "      <th></th>\n",
       "      <th>대분류</th>\n",
       "      <th colspan=\"3\" halign=\"left\">기본정보</th>\n",
       "      <th colspan=\"2\" halign=\"left\">추가정보</th>\n",
       "    </tr>\n",
       "    <tr>\n",
       "      <th></th>\n",
       "      <th>소분류</th>\n",
       "      <th>이름</th>\n",
       "      <th>나이</th>\n",
       "      <th>메일</th>\n",
       "      <th>주소</th>\n",
       "      <th>생일</th>\n",
       "    </tr>\n",
       "    <tr>\n",
       "      <th>레벨1</th>\n",
       "      <th>레벨2</th>\n",
       "      <th></th>\n",
       "      <th></th>\n",
       "      <th></th>\n",
       "      <th></th>\n",
       "      <th></th>\n",
       "    </tr>\n",
       "  </thead>\n",
       "  <tbody>\n",
       "    <tr>\n",
       "      <th rowspan=\"2\" valign=\"top\">좌우</th>\n",
       "      <th>동</th>\n",
       "      <td>홍길동</td>\n",
       "      <td>20</td>\n",
       "      <td>hong@hong.com</td>\n",
       "      <td>서울시 강동구</td>\n",
       "      <td>1999-01-01</td>\n",
       "    </tr>\n",
       "    <tr>\n",
       "      <th>서</th>\n",
       "      <td>홍길서</td>\n",
       "      <td>30</td>\n",
       "      <td>seo@hong.com</td>\n",
       "      <td>서울시 중구</td>\n",
       "      <td>1999-12-01</td>\n",
       "    </tr>\n",
       "    <tr>\n",
       "      <th rowspan=\"3\" valign=\"top\">상하</th>\n",
       "      <th>남</th>\n",
       "      <td>홍길남</td>\n",
       "      <td>21</td>\n",
       "      <td>nam@hong.com</td>\n",
       "      <td>서울시 강동구</td>\n",
       "      <td>1999-11-01</td>\n",
       "    </tr>\n",
       "    <tr>\n",
       "      <th>북</th>\n",
       "      <td>홍길북</td>\n",
       "      <td>22</td>\n",
       "      <td>buk@hong.com</td>\n",
       "      <td>서울시 관악구</td>\n",
       "      <td>1999-05-01</td>\n",
       "    </tr>\n",
       "    <tr>\n",
       "      <th>중</th>\n",
       "      <td>홍길중</td>\n",
       "      <td>23</td>\n",
       "      <td>mid@hong.com</td>\n",
       "      <td>부산시 중구</td>\n",
       "      <td>1999-01-30</td>\n",
       "    </tr>\n",
       "  </tbody>\n",
       "</table>\n",
       "</div>"
      ],
      "text/plain": [
       "대분류     기본정보                        추가정보           \n",
       "소분류       이름  나이             메일       주소         생일\n",
       "레벨1 레벨2                                            \n",
       "좌우  동    홍길동  20  hong@hong.com  서울시 강동구 1999-01-01\n",
       "    서    홍길서  30   seo@hong.com   서울시 중구 1999-12-01\n",
       "상하  남    홍길남  21   nam@hong.com  서울시 강동구 1999-11-01\n",
       "    북    홍길북  22   buk@hong.com  서울시 관악구 1999-05-01\n",
       "    중    홍길중  23   mid@hong.com   부산시 중구 1999-01-30"
      ]
     },
     "execution_count": 83,
     "metadata": {},
     "output_type": "execute_result"
    }
   ],
   "source": [
    "member.index=[['좌우','좌우','상하','상하','상하'],\n",
    "             ['동','서','남','북','중']]\n",
    "member.index.names = ['레벨1','레벨2']\n",
    "member"
   ]
  },
  {
   "cell_type": "code",
   "execution_count": 84,
   "id": "d6a44fd8",
   "metadata": {},
   "outputs": [
    {
     "data": {
      "text/plain": [
       "'홍길북'"
      ]
     },
     "execution_count": 84,
     "metadata": {},
     "output_type": "execute_result"
    }
   ],
   "source": [
    "member.loc[(\"상하\",'북'),('기본정보','이름')]"
   ]
  },
  {
   "cell_type": "code",
   "execution_count": 85,
   "id": "92178884",
   "metadata": {},
   "outputs": [
    {
     "data": {
      "text/html": [
       "<div>\n",
       "<style scoped>\n",
       "    .dataframe tbody tr th:only-of-type {\n",
       "        vertical-align: middle;\n",
       "    }\n",
       "\n",
       "    .dataframe tbody tr th {\n",
       "        vertical-align: top;\n",
       "    }\n",
       "\n",
       "    .dataframe thead th {\n",
       "        text-align: right;\n",
       "    }\n",
       "</style>\n",
       "<table border=\"1\" class=\"dataframe\">\n",
       "  <thead>\n",
       "    <tr style=\"text-align: right;\">\n",
       "      <th>소분류</th>\n",
       "      <th>이름</th>\n",
       "      <th>나이</th>\n",
       "      <th>메일</th>\n",
       "    </tr>\n",
       "    <tr>\n",
       "      <th>레벨2</th>\n",
       "      <th></th>\n",
       "      <th></th>\n",
       "      <th></th>\n",
       "    </tr>\n",
       "  </thead>\n",
       "  <tbody>\n",
       "    <tr>\n",
       "      <th>남</th>\n",
       "      <td>홍길남</td>\n",
       "      <td>21</td>\n",
       "      <td>nam@hong.com</td>\n",
       "    </tr>\n",
       "    <tr>\n",
       "      <th>북</th>\n",
       "      <td>홍길북</td>\n",
       "      <td>22</td>\n",
       "      <td>buk@hong.com</td>\n",
       "    </tr>\n",
       "    <tr>\n",
       "      <th>중</th>\n",
       "      <td>홍길중</td>\n",
       "      <td>23</td>\n",
       "      <td>mid@hong.com</td>\n",
       "    </tr>\n",
       "  </tbody>\n",
       "</table>\n",
       "</div>"
      ],
      "text/plain": [
       "소분류   이름  나이            메일\n",
       "레벨2                       \n",
       "남    홍길남  21  nam@hong.com\n",
       "북    홍길북  22  buk@hong.com\n",
       "중    홍길중  23  mid@hong.com"
      ]
     },
     "execution_count": 85,
     "metadata": {},
     "output_type": "execute_result"
    }
   ],
   "source": [
    "member.loc['상하','기본정보']"
   ]
  },
  {
   "cell_type": "code",
   "execution_count": 86,
   "id": "a2095e65",
   "metadata": {},
   "outputs": [
    {
     "data": {
      "text/plain": [
       "소분류\n",
       "이름             홍길중\n",
       "나이              23\n",
       "메일    mid@hong.com\n",
       "Name: (상하, 중), dtype: object"
      ]
     },
     "execution_count": 86,
     "metadata": {},
     "output_type": "execute_result"
    }
   ],
   "source": [
    "member.loc[(\"상하\",'중'),'기본정보']"
   ]
  },
  {
   "cell_type": "markdown",
   "id": "10858bca",
   "metadata": {},
   "source": [
    "# 4절 부분 데이터 조회"
   ]
  },
  {
   "cell_type": "code",
   "execution_count": 87,
   "id": "470ae0b6",
   "metadata": {},
   "outputs": [
    {
     "data": {
      "text/html": [
       "<div>\n",
       "<style scoped>\n",
       "    .dataframe tbody tr th:only-of-type {\n",
       "        vertical-align: middle;\n",
       "    }\n",
       "\n",
       "    .dataframe tbody tr th {\n",
       "        vertical-align: top;\n",
       "    }\n",
       "\n",
       "    .dataframe thead th {\n",
       "        text-align: right;\n",
       "    }\n",
       "</style>\n",
       "<table border=\"1\" class=\"dataframe\">\n",
       "  <thead>\n",
       "    <tr style=\"text-align: right;\">\n",
       "      <th></th>\n",
       "      <th>Name</th>\n",
       "      <th>Age</th>\n",
       "      <th>Email</th>\n",
       "      <th>Address</th>\n",
       "      <th>Birth</th>\n",
       "    </tr>\n",
       "  </thead>\n",
       "  <tbody>\n",
       "    <tr>\n",
       "      <th>0</th>\n",
       "      <td>홍길동</td>\n",
       "      <td>20</td>\n",
       "      <td>hong@hong.com</td>\n",
       "      <td>서울시 강동구</td>\n",
       "      <td>1999-01-01</td>\n",
       "    </tr>\n",
       "    <tr>\n",
       "      <th>1</th>\n",
       "      <td>홍길서</td>\n",
       "      <td>30</td>\n",
       "      <td>seo@hong.com</td>\n",
       "      <td>서울시 중구</td>\n",
       "      <td>1999-12-01</td>\n",
       "    </tr>\n",
       "    <tr>\n",
       "      <th>2</th>\n",
       "      <td>홍길남</td>\n",
       "      <td>21</td>\n",
       "      <td>nam@hong.com</td>\n",
       "      <td>서울시 강동구</td>\n",
       "      <td>1999-11-01</td>\n",
       "    </tr>\n",
       "    <tr>\n",
       "      <th>3</th>\n",
       "      <td>홍길북</td>\n",
       "      <td>22</td>\n",
       "      <td>buk@hong.com</td>\n",
       "      <td>서울시 관악구</td>\n",
       "      <td>1999-05-01</td>\n",
       "    </tr>\n",
       "    <tr>\n",
       "      <th>4</th>\n",
       "      <td>홍길중</td>\n",
       "      <td>23</td>\n",
       "      <td>mid@hong.com</td>\n",
       "      <td>부산시 중구</td>\n",
       "      <td>1999-01-30</td>\n",
       "    </tr>\n",
       "  </tbody>\n",
       "</table>\n",
       "</div>"
      ],
      "text/plain": [
       "  Name  Age          Email  Address      Birth\n",
       "0  홍길동   20  hong@hong.com  서울시 강동구 1999-01-01\n",
       "1  홍길서   30   seo@hong.com   서울시 중구 1999-12-01\n",
       "2  홍길남   21   nam@hong.com  서울시 강동구 1999-11-01\n",
       "3  홍길북   22   buk@hong.com  서울시 관악구 1999-05-01\n",
       "4  홍길중   23   mid@hong.com   부산시 중구 1999-01-30"
      ]
     },
     "execution_count": 87,
     "metadata": {},
     "output_type": "execute_result"
    }
   ],
   "source": [
    "member=pd.read_csv('data/ch11_member.csv', comment=\"#\",parse_dates=['Birth'])\n",
    "member"
   ]
  },
  {
   "cell_type": "markdown",
   "id": "5e218538",
   "metadata": {},
   "source": [
    "## 4.1 단일 열 조회"
   ]
  },
  {
   "cell_type": "code",
   "execution_count": 88,
   "id": "fbc4f449",
   "metadata": {},
   "outputs": [
    {
     "data": {
      "text/plain": [
       "0    홍길동\n",
       "1    홍길서\n",
       "2    홍길남\n",
       "3    홍길북\n",
       "4    홍길중\n",
       "Name: Name, dtype: object"
      ]
     },
     "execution_count": 88,
     "metadata": {},
     "output_type": "execute_result"
    }
   ],
   "source": [
    "member[\"Name\"]\n",
    "member.Name"
   ]
  },
  {
   "cell_type": "code",
   "execution_count": 89,
   "id": "ca1ec50a",
   "metadata": {},
   "outputs": [
    {
     "data": {
      "text/plain": [
       "Name                       홍길동\n",
       "Age                         20\n",
       "Email            hong@hong.com\n",
       "Address                서울시 강동구\n",
       "Birth      1999-01-01 00:00:00\n",
       "Name: 0, dtype: object"
      ]
     },
     "execution_count": 89,
     "metadata": {},
     "output_type": "execute_result"
    }
   ],
   "source": [
    "# member[0] # 행이름을 []로 조회할 경우 에러\n",
    "member.loc[0]"
   ]
  },
  {
   "cell_type": "code",
   "execution_count": 90,
   "id": "6e148555",
   "metadata": {},
   "outputs": [
    {
     "data": {
      "text/html": [
       "<div>\n",
       "<style scoped>\n",
       "    .dataframe tbody tr th:only-of-type {\n",
       "        vertical-align: middle;\n",
       "    }\n",
       "\n",
       "    .dataframe tbody tr th {\n",
       "        vertical-align: top;\n",
       "    }\n",
       "\n",
       "    .dataframe thead th {\n",
       "        text-align: right;\n",
       "    }\n",
       "</style>\n",
       "<table border=\"1\" class=\"dataframe\">\n",
       "  <thead>\n",
       "    <tr style=\"text-align: right;\">\n",
       "      <th></th>\n",
       "      <th>Name</th>\n",
       "      <th>Address</th>\n",
       "    </tr>\n",
       "  </thead>\n",
       "  <tbody>\n",
       "    <tr>\n",
       "      <th>0</th>\n",
       "      <td>홍길동</td>\n",
       "      <td>서울시 강동구</td>\n",
       "    </tr>\n",
       "    <tr>\n",
       "      <th>1</th>\n",
       "      <td>홍길서</td>\n",
       "      <td>서울시 중구</td>\n",
       "    </tr>\n",
       "    <tr>\n",
       "      <th>2</th>\n",
       "      <td>홍길남</td>\n",
       "      <td>서울시 강동구</td>\n",
       "    </tr>\n",
       "    <tr>\n",
       "      <th>3</th>\n",
       "      <td>홍길북</td>\n",
       "      <td>서울시 관악구</td>\n",
       "    </tr>\n",
       "    <tr>\n",
       "      <th>4</th>\n",
       "      <td>홍길중</td>\n",
       "      <td>부산시 중구</td>\n",
       "    </tr>\n",
       "  </tbody>\n",
       "</table>\n",
       "</div>"
      ],
      "text/plain": [
       "  Name  Address\n",
       "0  홍길동  서울시 강동구\n",
       "1  홍길서   서울시 중구\n",
       "2  홍길남  서울시 강동구\n",
       "3  홍길북  서울시 관악구\n",
       "4  홍길중   부산시 중구"
      ]
     },
     "execution_count": 90,
     "metadata": {},
     "output_type": "execute_result"
    }
   ],
   "source": [
    "member[['Name','Address']]"
   ]
  },
  {
   "cell_type": "markdown",
   "id": "b6057497",
   "metadata": {},
   "source": [
    "## 4.2 loc을 이용한 조회\n",
    "- df.loc[행이름, 열이름] : 행이름, 열이름으로 조회\n",
    "    * 행이름과 열이름 자리에 슬라이싱 가능 from:to => from 부터 to까지(※ to 포함)\n",
    "    * 행이름과 열이름 자리에 리스트"
   ]
  },
  {
   "cell_type": "code",
   "execution_count": 91,
   "id": "0cf3bab9",
   "metadata": {},
   "outputs": [
    {
     "data": {
      "text/html": [
       "<div>\n",
       "<style scoped>\n",
       "    .dataframe tbody tr th:only-of-type {\n",
       "        vertical-align: middle;\n",
       "    }\n",
       "\n",
       "    .dataframe tbody tr th {\n",
       "        vertical-align: top;\n",
       "    }\n",
       "\n",
       "    .dataframe thead th {\n",
       "        text-align: right;\n",
       "    }\n",
       "</style>\n",
       "<table border=\"1\" class=\"dataframe\">\n",
       "  <thead>\n",
       "    <tr style=\"text-align: right;\">\n",
       "      <th></th>\n",
       "      <th>Name</th>\n",
       "      <th>Age</th>\n",
       "      <th>Email</th>\n",
       "      <th>Address</th>\n",
       "      <th>Birth</th>\n",
       "    </tr>\n",
       "  </thead>\n",
       "  <tbody>\n",
       "    <tr>\n",
       "      <th>0</th>\n",
       "      <td>홍길동</td>\n",
       "      <td>20</td>\n",
       "      <td>hong@hong.com</td>\n",
       "      <td>서울시 강동구</td>\n",
       "      <td>1999-01-01</td>\n",
       "    </tr>\n",
       "    <tr>\n",
       "      <th>1</th>\n",
       "      <td>홍길서</td>\n",
       "      <td>30</td>\n",
       "      <td>seo@hong.com</td>\n",
       "      <td>서울시 중구</td>\n",
       "      <td>1999-12-01</td>\n",
       "    </tr>\n",
       "    <tr>\n",
       "      <th>2</th>\n",
       "      <td>홍길남</td>\n",
       "      <td>21</td>\n",
       "      <td>nam@hong.com</td>\n",
       "      <td>서울시 강동구</td>\n",
       "      <td>1999-11-01</td>\n",
       "    </tr>\n",
       "  </tbody>\n",
       "</table>\n",
       "</div>"
      ],
      "text/plain": [
       "  Name  Age          Email  Address      Birth\n",
       "0  홍길동   20  hong@hong.com  서울시 강동구 1999-01-01\n",
       "1  홍길서   30   seo@hong.com   서울시 중구 1999-12-01\n",
       "2  홍길남   21   nam@hong.com  서울시 강동구 1999-11-01"
      ]
     },
     "execution_count": 91,
     "metadata": {},
     "output_type": "execute_result"
    }
   ],
   "source": [
    "member.loc[0:2]\n",
    "member.loc[0:2,]\n",
    "member.loc[0:2,:]\n",
    "member.loc[0:2,...] # 모든 열을 다 출력할 경우 열 생략 가능"
   ]
  },
  {
   "cell_type": "code",
   "execution_count": 92,
   "id": "d882d9b2",
   "metadata": {},
   "outputs": [
    {
     "data": {
      "text/html": [
       "<div>\n",
       "<style scoped>\n",
       "    .dataframe tbody tr th:only-of-type {\n",
       "        vertical-align: middle;\n",
       "    }\n",
       "\n",
       "    .dataframe tbody tr th {\n",
       "        vertical-align: top;\n",
       "    }\n",
       "\n",
       "    .dataframe thead th {\n",
       "        text-align: right;\n",
       "    }\n",
       "</style>\n",
       "<table border=\"1\" class=\"dataframe\">\n",
       "  <thead>\n",
       "    <tr style=\"text-align: right;\">\n",
       "      <th></th>\n",
       "      <th>Name</th>\n",
       "      <th>Age</th>\n",
       "      <th>Email</th>\n",
       "      <th>Address</th>\n",
       "      <th>Birth</th>\n",
       "    </tr>\n",
       "  </thead>\n",
       "  <tbody>\n",
       "    <tr>\n",
       "      <th>동</th>\n",
       "      <td>홍길동</td>\n",
       "      <td>20</td>\n",
       "      <td>hong@hong.com</td>\n",
       "      <td>서울시 강동구</td>\n",
       "      <td>1999-01-01</td>\n",
       "    </tr>\n",
       "    <tr>\n",
       "      <th>서</th>\n",
       "      <td>홍길서</td>\n",
       "      <td>30</td>\n",
       "      <td>seo@hong.com</td>\n",
       "      <td>서울시 중구</td>\n",
       "      <td>1999-12-01</td>\n",
       "    </tr>\n",
       "    <tr>\n",
       "      <th>남</th>\n",
       "      <td>홍길남</td>\n",
       "      <td>21</td>\n",
       "      <td>nam@hong.com</td>\n",
       "      <td>서울시 강동구</td>\n",
       "      <td>1999-11-01</td>\n",
       "    </tr>\n",
       "  </tbody>\n",
       "</table>\n",
       "</div>"
      ],
      "text/plain": [
       "  Name  Age          Email  Address      Birth\n",
       "동  홍길동   20  hong@hong.com  서울시 강동구 1999-01-01\n",
       "서  홍길서   30   seo@hong.com   서울시 중구 1999-12-01\n",
       "남  홍길남   21   nam@hong.com  서울시 강동구 1999-11-01"
      ]
     },
     "execution_count": 92,
     "metadata": {},
     "output_type": "execute_result"
    }
   ],
   "source": [
    "member.index = ['동','서','남','북','중']\n",
    "member.loc['동':'남']"
   ]
  },
  {
   "cell_type": "code",
   "execution_count": 93,
   "id": "378faabb",
   "metadata": {},
   "outputs": [
    {
     "data": {
      "text/html": [
       "<div>\n",
       "<style scoped>\n",
       "    .dataframe tbody tr th:only-of-type {\n",
       "        vertical-align: middle;\n",
       "    }\n",
       "\n",
       "    .dataframe tbody tr th {\n",
       "        vertical-align: top;\n",
       "    }\n",
       "\n",
       "    .dataframe thead th {\n",
       "        text-align: right;\n",
       "    }\n",
       "</style>\n",
       "<table border=\"1\" class=\"dataframe\">\n",
       "  <thead>\n",
       "    <tr style=\"text-align: right;\">\n",
       "      <th></th>\n",
       "      <th>Name</th>\n",
       "      <th>Age</th>\n",
       "      <th>Email</th>\n",
       "      <th>Address</th>\n",
       "    </tr>\n",
       "  </thead>\n",
       "  <tbody>\n",
       "    <tr>\n",
       "      <th>동</th>\n",
       "      <td>홍길동</td>\n",
       "      <td>20</td>\n",
       "      <td>hong@hong.com</td>\n",
       "      <td>서울시 강동구</td>\n",
       "    </tr>\n",
       "    <tr>\n",
       "      <th>서</th>\n",
       "      <td>홍길서</td>\n",
       "      <td>30</td>\n",
       "      <td>seo@hong.com</td>\n",
       "      <td>서울시 중구</td>\n",
       "    </tr>\n",
       "    <tr>\n",
       "      <th>남</th>\n",
       "      <td>홍길남</td>\n",
       "      <td>21</td>\n",
       "      <td>nam@hong.com</td>\n",
       "      <td>서울시 강동구</td>\n",
       "    </tr>\n",
       "  </tbody>\n",
       "</table>\n",
       "</div>"
      ],
      "text/plain": [
       "  Name  Age          Email  Address\n",
       "동  홍길동   20  hong@hong.com  서울시 강동구\n",
       "서  홍길서   30   seo@hong.com   서울시 중구\n",
       "남  홍길남   21   nam@hong.com  서울시 강동구"
      ]
     },
     "execution_count": 93,
     "metadata": {},
     "output_type": "execute_result"
    }
   ],
   "source": [
    "member.loc['동':'남','Name':'Address'] #동 ~ 남행, Name ~ Address열까지"
   ]
  },
  {
   "cell_type": "code",
   "execution_count": 94,
   "id": "03536506",
   "metadata": {},
   "outputs": [
    {
     "data": {
      "text/html": [
       "<div>\n",
       "<style scoped>\n",
       "    .dataframe tbody tr th:only-of-type {\n",
       "        vertical-align: middle;\n",
       "    }\n",
       "\n",
       "    .dataframe tbody tr th {\n",
       "        vertical-align: top;\n",
       "    }\n",
       "\n",
       "    .dataframe thead th {\n",
       "        text-align: right;\n",
       "    }\n",
       "</style>\n",
       "<table border=\"1\" class=\"dataframe\">\n",
       "  <thead>\n",
       "    <tr style=\"text-align: right;\">\n",
       "      <th></th>\n",
       "      <th>Name</th>\n",
       "      <th>Email</th>\n",
       "      <th>Address</th>\n",
       "    </tr>\n",
       "  </thead>\n",
       "  <tbody>\n",
       "    <tr>\n",
       "      <th>동</th>\n",
       "      <td>홍길동</td>\n",
       "      <td>hong@hong.com</td>\n",
       "      <td>서울시 강동구</td>\n",
       "    </tr>\n",
       "    <tr>\n",
       "      <th>남</th>\n",
       "      <td>홍길남</td>\n",
       "      <td>nam@hong.com</td>\n",
       "      <td>서울시 강동구</td>\n",
       "    </tr>\n",
       "  </tbody>\n",
       "</table>\n",
       "</div>"
      ],
      "text/plain": [
       "  Name          Email  Address\n",
       "동  홍길동  hong@hong.com  서울시 강동구\n",
       "남  홍길남   nam@hong.com  서울시 강동구"
      ]
     },
     "execution_count": 94,
     "metadata": {},
     "output_type": "execute_result"
    }
   ],
   "source": [
    "# 동, 남행, Name, Eamil, Address열\n",
    "member.loc[['동','남'],['Name','Email','Address']]"
   ]
  },
  {
   "cell_type": "code",
   "execution_count": 95,
   "id": "b19255ef",
   "metadata": {},
   "outputs": [
    {
     "data": {
      "text/plain": [
       "동    홍길동\n",
       "서    홍길서\n",
       "남    홍길남\n",
       "북    홍길북\n",
       "중    홍길중\n",
       "Name: Name, dtype: object"
      ]
     },
     "execution_count": 95,
     "metadata": {},
     "output_type": "execute_result"
    }
   ],
   "source": [
    "member.loc[:,'Name']"
   ]
  },
  {
   "cell_type": "markdown",
   "id": "ba8f9c49",
   "metadata": {},
   "source": [
    "## 4.3 iloc을 이용한 조회\n",
    "- df.iloc[행순번, 열순번] : 행순번, 열순번으로 조회\n",
    "    * 행순번과 열순번 자리에 슬라이싱 가능 from:to:by => from 부터 to앞까지 by씩(※ to 미포함)\n",
    "    * 행순번과 열순번 자리에 리스트"
   ]
  },
  {
   "cell_type": "code",
   "execution_count": 96,
   "id": "ac106196",
   "metadata": {},
   "outputs": [
    {
     "data": {
      "text/html": [
       "<div>\n",
       "<style scoped>\n",
       "    .dataframe tbody tr th:only-of-type {\n",
       "        vertical-align: middle;\n",
       "    }\n",
       "\n",
       "    .dataframe tbody tr th {\n",
       "        vertical-align: top;\n",
       "    }\n",
       "\n",
       "    .dataframe thead th {\n",
       "        text-align: right;\n",
       "    }\n",
       "</style>\n",
       "<table border=\"1\" class=\"dataframe\">\n",
       "  <thead>\n",
       "    <tr style=\"text-align: right;\">\n",
       "      <th></th>\n",
       "      <th>Name</th>\n",
       "      <th>Age</th>\n",
       "      <th>Email</th>\n",
       "      <th>Address</th>\n",
       "      <th>Birth</th>\n",
       "    </tr>\n",
       "  </thead>\n",
       "  <tbody>\n",
       "    <tr>\n",
       "      <th>동</th>\n",
       "      <td>홍길동</td>\n",
       "      <td>20</td>\n",
       "      <td>hong@hong.com</td>\n",
       "      <td>서울시 강동구</td>\n",
       "      <td>1999-01-01</td>\n",
       "    </tr>\n",
       "    <tr>\n",
       "      <th>서</th>\n",
       "      <td>홍길서</td>\n",
       "      <td>30</td>\n",
       "      <td>seo@hong.com</td>\n",
       "      <td>서울시 중구</td>\n",
       "      <td>1999-12-01</td>\n",
       "    </tr>\n",
       "    <tr>\n",
       "      <th>남</th>\n",
       "      <td>홍길남</td>\n",
       "      <td>21</td>\n",
       "      <td>nam@hong.com</td>\n",
       "      <td>서울시 강동구</td>\n",
       "      <td>1999-11-01</td>\n",
       "    </tr>\n",
       "  </tbody>\n",
       "</table>\n",
       "</div>"
      ],
      "text/plain": [
       "  Name  Age          Email  Address      Birth\n",
       "동  홍길동   20  hong@hong.com  서울시 강동구 1999-01-01\n",
       "서  홍길서   30   seo@hong.com   서울시 중구 1999-12-01\n",
       "남  홍길남   21   nam@hong.com  서울시 강동구 1999-11-01"
      ]
     },
     "execution_count": 96,
     "metadata": {},
     "output_type": "execute_result"
    }
   ],
   "source": [
    "member.iloc[0:3] # 동(0) 행부터 남(2) 행 까지 모든 열"
   ]
  },
  {
   "cell_type": "code",
   "execution_count": 97,
   "id": "1517229d",
   "metadata": {},
   "outputs": [
    {
     "data": {
      "text/html": [
       "<div>\n",
       "<style scoped>\n",
       "    .dataframe tbody tr th:only-of-type {\n",
       "        vertical-align: middle;\n",
       "    }\n",
       "\n",
       "    .dataframe tbody tr th {\n",
       "        vertical-align: top;\n",
       "    }\n",
       "\n",
       "    .dataframe thead th {\n",
       "        text-align: right;\n",
       "    }\n",
       "</style>\n",
       "<table border=\"1\" class=\"dataframe\">\n",
       "  <thead>\n",
       "    <tr style=\"text-align: right;\">\n",
       "      <th></th>\n",
       "      <th>Name</th>\n",
       "      <th>Age</th>\n",
       "      <th>Email</th>\n",
       "      <th>Address</th>\n",
       "    </tr>\n",
       "  </thead>\n",
       "  <tbody>\n",
       "    <tr>\n",
       "      <th>동</th>\n",
       "      <td>홍길동</td>\n",
       "      <td>20</td>\n",
       "      <td>hong@hong.com</td>\n",
       "      <td>서울시 강동구</td>\n",
       "    </tr>\n",
       "    <tr>\n",
       "      <th>서</th>\n",
       "      <td>홍길서</td>\n",
       "      <td>30</td>\n",
       "      <td>seo@hong.com</td>\n",
       "      <td>서울시 중구</td>\n",
       "    </tr>\n",
       "    <tr>\n",
       "      <th>남</th>\n",
       "      <td>홍길남</td>\n",
       "      <td>21</td>\n",
       "      <td>nam@hong.com</td>\n",
       "      <td>서울시 강동구</td>\n",
       "    </tr>\n",
       "  </tbody>\n",
       "</table>\n",
       "</div>"
      ],
      "text/plain": [
       "  Name  Age          Email  Address\n",
       "동  홍길동   20  hong@hong.com  서울시 강동구\n",
       "서  홍길서   30   seo@hong.com   서울시 중구\n",
       "남  홍길남   21   nam@hong.com  서울시 강동구"
      ]
     },
     "execution_count": 97,
     "metadata": {},
     "output_type": "execute_result"
    }
   ],
   "source": [
    "member.iloc[0:3,0:4]\n",
    "member.iloc[0:3,0:-1]# 동 ~ 남행, Name(0) ~ Address(3)열까지"
   ]
  },
  {
   "cell_type": "code",
   "execution_count": 98,
   "id": "eef38f55",
   "metadata": {},
   "outputs": [
    {
     "data": {
      "text/html": [
       "<div>\n",
       "<style scoped>\n",
       "    .dataframe tbody tr th:only-of-type {\n",
       "        vertical-align: middle;\n",
       "    }\n",
       "\n",
       "    .dataframe tbody tr th {\n",
       "        vertical-align: top;\n",
       "    }\n",
       "\n",
       "    .dataframe thead th {\n",
       "        text-align: right;\n",
       "    }\n",
       "</style>\n",
       "<table border=\"1\" class=\"dataframe\">\n",
       "  <thead>\n",
       "    <tr style=\"text-align: right;\">\n",
       "      <th></th>\n",
       "      <th>Name</th>\n",
       "      <th>Age</th>\n",
       "      <th>Email</th>\n",
       "      <th>Address</th>\n",
       "    </tr>\n",
       "  </thead>\n",
       "  <tbody>\n",
       "    <tr>\n",
       "      <th>동</th>\n",
       "      <td>홍길동</td>\n",
       "      <td>20</td>\n",
       "      <td>hong@hong.com</td>\n",
       "      <td>서울시 강동구</td>\n",
       "    </tr>\n",
       "    <tr>\n",
       "      <th>남</th>\n",
       "      <td>홍길남</td>\n",
       "      <td>21</td>\n",
       "      <td>nam@hong.com</td>\n",
       "      <td>서울시 강동구</td>\n",
       "    </tr>\n",
       "    <tr>\n",
       "      <th>중</th>\n",
       "      <td>홍길중</td>\n",
       "      <td>23</td>\n",
       "      <td>mid@hong.com</td>\n",
       "      <td>부산시 중구</td>\n",
       "    </tr>\n",
       "  </tbody>\n",
       "</table>\n",
       "</div>"
      ],
      "text/plain": [
       "  Name  Age          Email  Address\n",
       "동  홍길동   20  hong@hong.com  서울시 강동구\n",
       "남  홍길남   21   nam@hong.com  서울시 강동구\n",
       "중  홍길중   23   mid@hong.com   부산시 중구"
      ]
     },
     "execution_count": 98,
     "metadata": {},
     "output_type": "execute_result"
    }
   ],
   "source": [
    "# 짝수번째 행의 마지막 열을 제외하고 출력\n",
    "member.iloc[::2,:-1]"
   ]
  },
  {
   "cell_type": "code",
   "execution_count": 99,
   "id": "9a757132",
   "metadata": {},
   "outputs": [
    {
     "data": {
      "text/html": [
       "<div>\n",
       "<style scoped>\n",
       "    .dataframe tbody tr th:only-of-type {\n",
       "        vertical-align: middle;\n",
       "    }\n",
       "\n",
       "    .dataframe tbody tr th {\n",
       "        vertical-align: top;\n",
       "    }\n",
       "\n",
       "    .dataframe thead th {\n",
       "        text-align: right;\n",
       "    }\n",
       "</style>\n",
       "<table border=\"1\" class=\"dataframe\">\n",
       "  <thead>\n",
       "    <tr style=\"text-align: right;\">\n",
       "      <th></th>\n",
       "      <th>Name</th>\n",
       "      <th>Age</th>\n",
       "      <th>Email</th>\n",
       "      <th>Address</th>\n",
       "      <th>Birth</th>\n",
       "    </tr>\n",
       "  </thead>\n",
       "  <tbody>\n",
       "    <tr>\n",
       "      <th>중</th>\n",
       "      <td>홍길중</td>\n",
       "      <td>23</td>\n",
       "      <td>mid@hong.com</td>\n",
       "      <td>부산시 중구</td>\n",
       "      <td>1999-01-30</td>\n",
       "    </tr>\n",
       "    <tr>\n",
       "      <th>북</th>\n",
       "      <td>홍길북</td>\n",
       "      <td>22</td>\n",
       "      <td>buk@hong.com</td>\n",
       "      <td>서울시 관악구</td>\n",
       "      <td>1999-05-01</td>\n",
       "    </tr>\n",
       "    <tr>\n",
       "      <th>남</th>\n",
       "      <td>홍길남</td>\n",
       "      <td>21</td>\n",
       "      <td>nam@hong.com</td>\n",
       "      <td>서울시 강동구</td>\n",
       "      <td>1999-11-01</td>\n",
       "    </tr>\n",
       "    <tr>\n",
       "      <th>서</th>\n",
       "      <td>홍길서</td>\n",
       "      <td>30</td>\n",
       "      <td>seo@hong.com</td>\n",
       "      <td>서울시 중구</td>\n",
       "      <td>1999-12-01</td>\n",
       "    </tr>\n",
       "    <tr>\n",
       "      <th>동</th>\n",
       "      <td>홍길동</td>\n",
       "      <td>20</td>\n",
       "      <td>hong@hong.com</td>\n",
       "      <td>서울시 강동구</td>\n",
       "      <td>1999-01-01</td>\n",
       "    </tr>\n",
       "  </tbody>\n",
       "</table>\n",
       "</div>"
      ],
      "text/plain": [
       "  Name  Age          Email  Address      Birth\n",
       "중  홍길중   23   mid@hong.com   부산시 중구 1999-01-30\n",
       "북  홍길북   22   buk@hong.com  서울시 관악구 1999-05-01\n",
       "남  홍길남   21   nam@hong.com  서울시 강동구 1999-11-01\n",
       "서  홍길서   30   seo@hong.com   서울시 중구 1999-12-01\n",
       "동  홍길동   20  hong@hong.com  서울시 강동구 1999-01-01"
      ]
     },
     "execution_count": 99,
     "metadata": {},
     "output_type": "execute_result"
    }
   ],
   "source": [
    "# 마지막 행부터 거꾸로 출력\n",
    "member.iloc[::-1]"
   ]
  },
  {
   "cell_type": "code",
   "execution_count": 100,
   "id": "dab95814",
   "metadata": {},
   "outputs": [
    {
     "data": {
      "text/html": [
       "<div>\n",
       "<style scoped>\n",
       "    .dataframe tbody tr th:only-of-type {\n",
       "        vertical-align: middle;\n",
       "    }\n",
       "\n",
       "    .dataframe tbody tr th {\n",
       "        vertical-align: top;\n",
       "    }\n",
       "\n",
       "    .dataframe thead th {\n",
       "        text-align: right;\n",
       "    }\n",
       "</style>\n",
       "<table border=\"1\" class=\"dataframe\">\n",
       "  <thead>\n",
       "    <tr style=\"text-align: right;\">\n",
       "      <th></th>\n",
       "      <th>Name</th>\n",
       "      <th>Email</th>\n",
       "      <th>Address</th>\n",
       "    </tr>\n",
       "  </thead>\n",
       "  <tbody>\n",
       "    <tr>\n",
       "      <th>동</th>\n",
       "      <td>홍길동</td>\n",
       "      <td>hong@hong.com</td>\n",
       "      <td>서울시 강동구</td>\n",
       "    </tr>\n",
       "    <tr>\n",
       "      <th>남</th>\n",
       "      <td>홍길남</td>\n",
       "      <td>nam@hong.com</td>\n",
       "      <td>서울시 강동구</td>\n",
       "    </tr>\n",
       "  </tbody>\n",
       "</table>\n",
       "</div>"
      ],
      "text/plain": [
       "  Name          Email  Address\n",
       "동  홍길동  hong@hong.com  서울시 강동구\n",
       "남  홍길남   nam@hong.com  서울시 강동구"
      ]
     },
     "execution_count": 100,
     "metadata": {},
     "output_type": "execute_result"
    }
   ],
   "source": [
    "member.iloc[[0,2],[0,2,3]] # 동, 남행, Name, Eamil, Address열"
   ]
  },
  {
   "cell_type": "code",
   "execution_count": 101,
   "id": "5b47e346",
   "metadata": {},
   "outputs": [
    {
     "data": {
      "text/plain": [
       "동    홍길동\n",
       "서    홍길서\n",
       "남    홍길남\n",
       "북    홍길북\n",
       "중    홍길중\n",
       "Name: Name, dtype: object"
      ]
     },
     "execution_count": 101,
     "metadata": {},
     "output_type": "execute_result"
    }
   ],
   "source": [
    "member.iloc[:,0] # Name(0) 열"
   ]
  },
  {
   "cell_type": "markdown",
   "id": "1ea00902",
   "metadata": {},
   "source": [
    "## 4.4 조건으로 조회하기"
   ]
  },
  {
   "cell_type": "code",
   "execution_count": 102,
   "id": "630e3ea0",
   "metadata": {},
   "outputs": [
    {
     "data": {
      "text/html": [
       "<div>\n",
       "<style scoped>\n",
       "    .dataframe tbody tr th:only-of-type {\n",
       "        vertical-align: middle;\n",
       "    }\n",
       "\n",
       "    .dataframe tbody tr th {\n",
       "        vertical-align: top;\n",
       "    }\n",
       "\n",
       "    .dataframe thead th {\n",
       "        text-align: right;\n",
       "    }\n",
       "</style>\n",
       "<table border=\"1\" class=\"dataframe\">\n",
       "  <thead>\n",
       "    <tr style=\"text-align: right;\">\n",
       "      <th></th>\n",
       "      <th>Name</th>\n",
       "      <th>Age</th>\n",
       "      <th>Email</th>\n",
       "      <th>Address</th>\n",
       "      <th>Birth</th>\n",
       "    </tr>\n",
       "  </thead>\n",
       "  <tbody>\n",
       "    <tr>\n",
       "      <th>동</th>\n",
       "      <td>홍길동</td>\n",
       "      <td>20</td>\n",
       "      <td>hong@hong.com</td>\n",
       "      <td>서울시 강동구</td>\n",
       "      <td>1999-01-01</td>\n",
       "    </tr>\n",
       "    <tr>\n",
       "      <th>서</th>\n",
       "      <td>홍길서</td>\n",
       "      <td>30</td>\n",
       "      <td>seo@hong.com</td>\n",
       "      <td>서울시 중구</td>\n",
       "      <td>1999-12-01</td>\n",
       "    </tr>\n",
       "    <tr>\n",
       "      <th>남</th>\n",
       "      <td>홍길남</td>\n",
       "      <td>21</td>\n",
       "      <td>nam@hong.com</td>\n",
       "      <td>서울시 강동구</td>\n",
       "      <td>1999-11-01</td>\n",
       "    </tr>\n",
       "    <tr>\n",
       "      <th>북</th>\n",
       "      <td>홍길북</td>\n",
       "      <td>22</td>\n",
       "      <td>buk@hong.com</td>\n",
       "      <td>서울시 관악구</td>\n",
       "      <td>1999-05-01</td>\n",
       "    </tr>\n",
       "    <tr>\n",
       "      <th>중</th>\n",
       "      <td>홍길중</td>\n",
       "      <td>23</td>\n",
       "      <td>mid@hong.com</td>\n",
       "      <td>부산시 중구</td>\n",
       "      <td>1999-01-30</td>\n",
       "    </tr>\n",
       "  </tbody>\n",
       "</table>\n",
       "</div>"
      ],
      "text/plain": [
       "  Name  Age          Email  Address      Birth\n",
       "동  홍길동   20  hong@hong.com  서울시 강동구 1999-01-01\n",
       "서  홍길서   30   seo@hong.com   서울시 중구 1999-12-01\n",
       "남  홍길남   21   nam@hong.com  서울시 강동구 1999-11-01\n",
       "북  홍길북   22   buk@hong.com  서울시 관악구 1999-05-01\n",
       "중  홍길중   23   mid@hong.com   부산시 중구 1999-01-30"
      ]
     },
     "execution_count": 102,
     "metadata": {},
     "output_type": "execute_result"
    }
   ],
   "source": [
    "member"
   ]
  },
  {
   "cell_type": "code",
   "execution_count": 103,
   "id": "fff11418",
   "metadata": {},
   "outputs": [
    {
     "data": {
      "text/plain": [
       "동    False\n",
       "서    False\n",
       "남     True\n",
       "북    False\n",
       "중    False\n",
       "Name: Name, dtype: bool"
      ]
     },
     "execution_count": 103,
     "metadata": {},
     "output_type": "execute_result"
    }
   ],
   "source": [
    "member['Name']==\"홍길남\""
   ]
  },
  {
   "cell_type": "code",
   "execution_count": 104,
   "id": "b14d9ee3",
   "metadata": {},
   "outputs": [
    {
     "data": {
      "text/html": [
       "<div>\n",
       "<style scoped>\n",
       "    .dataframe tbody tr th:only-of-type {\n",
       "        vertical-align: middle;\n",
       "    }\n",
       "\n",
       "    .dataframe tbody tr th {\n",
       "        vertical-align: top;\n",
       "    }\n",
       "\n",
       "    .dataframe thead th {\n",
       "        text-align: right;\n",
       "    }\n",
       "</style>\n",
       "<table border=\"1\" class=\"dataframe\">\n",
       "  <thead>\n",
       "    <tr style=\"text-align: right;\">\n",
       "      <th></th>\n",
       "      <th>Name</th>\n",
       "      <th>Age</th>\n",
       "      <th>Email</th>\n",
       "      <th>Address</th>\n",
       "      <th>Birth</th>\n",
       "    </tr>\n",
       "  </thead>\n",
       "  <tbody>\n",
       "    <tr>\n",
       "      <th>남</th>\n",
       "      <td>홍길남</td>\n",
       "      <td>21</td>\n",
       "      <td>nam@hong.com</td>\n",
       "      <td>서울시 강동구</td>\n",
       "      <td>1999-11-01</td>\n",
       "    </tr>\n",
       "  </tbody>\n",
       "</table>\n",
       "</div>"
      ],
      "text/plain": [
       "  Name  Age         Email  Address      Birth\n",
       "남  홍길남   21  nam@hong.com  서울시 강동구 1999-11-01"
      ]
     },
     "execution_count": 104,
     "metadata": {},
     "output_type": "execute_result"
    }
   ],
   "source": [
    "# Name이 홍길남인 행을 모두\n",
    "member[member['Name']==\"홍길남\"]\n",
    "member.loc[member['Name']==\"홍길남\"]\n",
    "# member.loc[[False,False,True,False,False]] 실제로 사용은 하지 않음"
   ]
  },
  {
   "cell_type": "code",
   "execution_count": 105,
   "id": "28f4af07",
   "metadata": {},
   "outputs": [
    {
     "data": {
      "text/html": [
       "<div>\n",
       "<style scoped>\n",
       "    .dataframe tbody tr th:only-of-type {\n",
       "        vertical-align: middle;\n",
       "    }\n",
       "\n",
       "    .dataframe tbody tr th {\n",
       "        vertical-align: top;\n",
       "    }\n",
       "\n",
       "    .dataframe thead th {\n",
       "        text-align: right;\n",
       "    }\n",
       "</style>\n",
       "<table border=\"1\" class=\"dataframe\">\n",
       "  <thead>\n",
       "    <tr style=\"text-align: right;\">\n",
       "      <th></th>\n",
       "      <th>Name</th>\n",
       "      <th>Age</th>\n",
       "      <th>Email</th>\n",
       "    </tr>\n",
       "  </thead>\n",
       "  <tbody>\n",
       "    <tr>\n",
       "      <th>남</th>\n",
       "      <td>홍길남</td>\n",
       "      <td>21</td>\n",
       "      <td>nam@hong.com</td>\n",
       "    </tr>\n",
       "  </tbody>\n",
       "</table>\n",
       "</div>"
      ],
      "text/plain": [
       "  Name  Age         Email\n",
       "남  홍길남   21  nam@hong.com"
      ]
     },
     "execution_count": 105,
     "metadata": {},
     "output_type": "execute_result"
    }
   ],
   "source": [
    "# Name이 홍길남의 이름과 나이 Email\n",
    "member.loc[member['Name']==\"홍길남\",'Name':'Email']"
   ]
  },
  {
   "cell_type": "code",
   "execution_count": 106,
   "id": "527082a3",
   "metadata": {},
   "outputs": [
    {
     "data": {
      "text/html": [
       "<div>\n",
       "<style scoped>\n",
       "    .dataframe tbody tr th:only-of-type {\n",
       "        vertical-align: middle;\n",
       "    }\n",
       "\n",
       "    .dataframe tbody tr th {\n",
       "        vertical-align: top;\n",
       "    }\n",
       "\n",
       "    .dataframe thead th {\n",
       "        text-align: right;\n",
       "    }\n",
       "</style>\n",
       "<table border=\"1\" class=\"dataframe\">\n",
       "  <thead>\n",
       "    <tr style=\"text-align: right;\">\n",
       "      <th></th>\n",
       "      <th>Name</th>\n",
       "      <th>Email</th>\n",
       "    </tr>\n",
       "  </thead>\n",
       "  <tbody>\n",
       "    <tr>\n",
       "      <th>남</th>\n",
       "      <td>홍길남</td>\n",
       "      <td>nam@hong.com</td>\n",
       "    </tr>\n",
       "  </tbody>\n",
       "</table>\n",
       "</div>"
      ],
      "text/plain": [
       "  Name         Email\n",
       "남  홍길남  nam@hong.com"
      ]
     },
     "execution_count": 106,
     "metadata": {},
     "output_type": "execute_result"
    }
   ],
   "source": [
    "# Name이 홍길남의 이름과 Email\n",
    "member.loc[member['Name']==\"홍길남\",['Name','Email']]"
   ]
  },
  {
   "cell_type": "code",
   "execution_count": 107,
   "id": "2806a610",
   "metadata": {},
   "outputs": [
    {
     "data": {
      "text/html": [
       "<div>\n",
       "<style scoped>\n",
       "    .dataframe tbody tr th:only-of-type {\n",
       "        vertical-align: middle;\n",
       "    }\n",
       "\n",
       "    .dataframe tbody tr th {\n",
       "        vertical-align: top;\n",
       "    }\n",
       "\n",
       "    .dataframe thead th {\n",
       "        text-align: right;\n",
       "    }\n",
       "</style>\n",
       "<table border=\"1\" class=\"dataframe\">\n",
       "  <thead>\n",
       "    <tr style=\"text-align: right;\">\n",
       "      <th></th>\n",
       "      <th>Name</th>\n",
       "      <th>Age</th>\n",
       "      <th>Email</th>\n",
       "      <th>Address</th>\n",
       "      <th>Birth</th>\n",
       "    </tr>\n",
       "  </thead>\n",
       "  <tbody>\n",
       "    <tr>\n",
       "      <th>서</th>\n",
       "      <td>홍길서</td>\n",
       "      <td>30</td>\n",
       "      <td>seo@hong.com</td>\n",
       "      <td>서울시 중구</td>\n",
       "      <td>1999-12-01</td>\n",
       "    </tr>\n",
       "    <tr>\n",
       "      <th>중</th>\n",
       "      <td>홍길중</td>\n",
       "      <td>23</td>\n",
       "      <td>mid@hong.com</td>\n",
       "      <td>부산시 중구</td>\n",
       "      <td>1999-01-30</td>\n",
       "    </tr>\n",
       "  </tbody>\n",
       "</table>\n",
       "</div>"
      ],
      "text/plain": [
       "  Name  Age         Email Address      Birth\n",
       "서  홍길서   30  seo@hong.com  서울시 중구 1999-12-01\n",
       "중  홍길중   23  mid@hong.com  부산시 중구 1999-01-30"
      ]
     },
     "execution_count": 107,
     "metadata": {},
     "output_type": "execute_result"
    }
   ],
   "source": [
    "# 23세 이상 데이터 조회(모든 열)\n",
    "member.loc[member['Age']>=23]"
   ]
  },
  {
   "cell_type": "code",
   "execution_count": 108,
   "id": "7d519c28",
   "metadata": {},
   "outputs": [
    {
     "data": {
      "text/html": [
       "<div>\n",
       "<style scoped>\n",
       "    .dataframe tbody tr th:only-of-type {\n",
       "        vertical-align: middle;\n",
       "    }\n",
       "\n",
       "    .dataframe tbody tr th {\n",
       "        vertical-align: top;\n",
       "    }\n",
       "\n",
       "    .dataframe thead th {\n",
       "        text-align: right;\n",
       "    }\n",
       "</style>\n",
       "<table border=\"1\" class=\"dataframe\">\n",
       "  <thead>\n",
       "    <tr style=\"text-align: right;\">\n",
       "      <th></th>\n",
       "      <th>Name</th>\n",
       "      <th>Age</th>\n",
       "      <th>Email</th>\n",
       "    </tr>\n",
       "  </thead>\n",
       "  <tbody>\n",
       "    <tr>\n",
       "      <th>서</th>\n",
       "      <td>홍길서</td>\n",
       "      <td>30</td>\n",
       "      <td>seo@hong.com</td>\n",
       "    </tr>\n",
       "    <tr>\n",
       "      <th>중</th>\n",
       "      <td>홍길중</td>\n",
       "      <td>23</td>\n",
       "      <td>mid@hong.com</td>\n",
       "    </tr>\n",
       "  </tbody>\n",
       "</table>\n",
       "</div>"
      ],
      "text/plain": [
       "  Name  Age         Email\n",
       "서  홍길서   30  seo@hong.com\n",
       "중  홍길중   23  mid@hong.com"
      ]
     },
     "execution_count": 108,
     "metadata": {},
     "output_type": "execute_result"
    }
   ],
   "source": [
    "# 23세 이상 데이터 조회(Name, age, Email)\n",
    "member.loc[member['Age']>=23,['Name','Age','Email']]\n",
    "member.loc[member['Age']>=23,'Name':'Email']"
   ]
  },
  {
   "cell_type": "code",
   "execution_count": 109,
   "id": "3f21cf9e",
   "metadata": {},
   "outputs": [
    {
     "data": {
      "text/html": [
       "<div>\n",
       "<style scoped>\n",
       "    .dataframe tbody tr th:only-of-type {\n",
       "        vertical-align: middle;\n",
       "    }\n",
       "\n",
       "    .dataframe tbody tr th {\n",
       "        vertical-align: top;\n",
       "    }\n",
       "\n",
       "    .dataframe thead th {\n",
       "        text-align: right;\n",
       "    }\n",
       "</style>\n",
       "<table border=\"1\" class=\"dataframe\">\n",
       "  <thead>\n",
       "    <tr style=\"text-align: right;\">\n",
       "      <th></th>\n",
       "      <th>Name</th>\n",
       "      <th>Age</th>\n",
       "      <th>Address</th>\n",
       "    </tr>\n",
       "  </thead>\n",
       "  <tbody>\n",
       "    <tr>\n",
       "      <th>서</th>\n",
       "      <td>홍길서</td>\n",
       "      <td>30</td>\n",
       "      <td>서울시 중구</td>\n",
       "    </tr>\n",
       "    <tr>\n",
       "      <th>중</th>\n",
       "      <td>홍길중</td>\n",
       "      <td>23</td>\n",
       "      <td>부산시 중구</td>\n",
       "    </tr>\n",
       "  </tbody>\n",
       "</table>\n",
       "</div>"
      ],
      "text/plain": [
       "  Name  Age Address\n",
       "서  홍길서   30  서울시 중구\n",
       "중  홍길중   23  부산시 중구"
      ]
     },
     "execution_count": 109,
     "metadata": {},
     "output_type": "execute_result"
    }
   ],
   "source": [
    "# 23세 이상 데이터 조회(Name, age, Address)\n",
    "member.loc[member['Age']>=23,['Name','Age','Address']]"
   ]
  },
  {
   "cell_type": "code",
   "execution_count": 110,
   "id": "5845ded3",
   "metadata": {},
   "outputs": [
    {
     "data": {
      "text/html": [
       "<div>\n",
       "<style scoped>\n",
       "    .dataframe tbody tr th:only-of-type {\n",
       "        vertical-align: middle;\n",
       "    }\n",
       "\n",
       "    .dataframe tbody tr th {\n",
       "        vertical-align: top;\n",
       "    }\n",
       "\n",
       "    .dataframe thead th {\n",
       "        text-align: right;\n",
       "    }\n",
       "</style>\n",
       "<table border=\"1\" class=\"dataframe\">\n",
       "  <thead>\n",
       "    <tr style=\"text-align: right;\">\n",
       "      <th></th>\n",
       "      <th>Name</th>\n",
       "      <th>Age</th>\n",
       "      <th>Email</th>\n",
       "      <th>Address</th>\n",
       "      <th>Birth</th>\n",
       "    </tr>\n",
       "  </thead>\n",
       "  <tbody>\n",
       "    <tr>\n",
       "      <th>동</th>\n",
       "      <td>홍길동</td>\n",
       "      <td>20</td>\n",
       "      <td>hong@hong.com</td>\n",
       "      <td>서울시 강동구</td>\n",
       "      <td>1999-01-01</td>\n",
       "    </tr>\n",
       "    <tr>\n",
       "      <th>남</th>\n",
       "      <td>홍길남</td>\n",
       "      <td>21</td>\n",
       "      <td>nam@hong.com</td>\n",
       "      <td>서울시 강동구</td>\n",
       "      <td>1999-11-01</td>\n",
       "    </tr>\n",
       "    <tr>\n",
       "      <th>북</th>\n",
       "      <td>홍길북</td>\n",
       "      <td>22</td>\n",
       "      <td>buk@hong.com</td>\n",
       "      <td>서울시 관악구</td>\n",
       "      <td>1999-05-01</td>\n",
       "    </tr>\n",
       "  </tbody>\n",
       "</table>\n",
       "</div>"
      ],
      "text/plain": [
       "  Name  Age          Email  Address      Birth\n",
       "동  홍길동   20  hong@hong.com  서울시 강동구 1999-01-01\n",
       "남  홍길남   21   nam@hong.com  서울시 강동구 1999-11-01\n",
       "북  홍길북   22   buk@hong.com  서울시 관악구 1999-05-01"
      ]
     },
     "execution_count": 110,
     "metadata": {},
     "output_type": "execute_result"
    }
   ],
   "source": [
    "# ~ : 반대\n",
    "member[~(member['Age']>=23)]"
   ]
  },
  {
   "cell_type": "code",
   "execution_count": 111,
   "id": "8277614e",
   "metadata": {},
   "outputs": [
    {
     "name": "stdout",
     "output_type": "stream",
     "text": [
      "서울시로 시작하는지 여부 : True\n",
      "중구가 포함되어 있는지 여부 : False\n"
     ]
    }
   ],
   "source": [
    "address = \"서울시 관악구\"\n",
    "print('서울시로 시작하는지 여부 :', address.startswith(\"서울시\"))\n",
    "print('중구가 포함되어 있는지 여부 :', address.find('중구') != -1)"
   ]
  },
  {
   "cell_type": "code",
   "execution_count": 112,
   "id": "b89bce20",
   "metadata": {},
   "outputs": [],
   "source": [
    "# member['Address'].startswith('서울시')"
   ]
  },
  {
   "cell_type": "markdown",
   "id": "ccf9c97d",
   "metadata": {},
   "source": [
    "※ 시리즈에 문자함수를 쓰기 위해 참조 (pdf 29page):\n",
    "https://pandas.pydata.org/pandas-docs/stable/reference/series.html#string-handling"
   ]
  },
  {
   "cell_type": "code",
   "execution_count": 113,
   "id": "d22d15ff",
   "metadata": {},
   "outputs": [
    {
     "data": {
      "text/plain": [
       "동     True\n",
       "서     True\n",
       "남     True\n",
       "북     True\n",
       "중    False\n",
       "Name: Address, dtype: bool"
      ]
     },
     "execution_count": 113,
     "metadata": {},
     "output_type": "execute_result"
    }
   ],
   "source": [
    "member['Address'].str.startswith('서울시')"
   ]
  },
  {
   "cell_type": "code",
   "execution_count": 114,
   "id": "86a3c30f",
   "metadata": {},
   "outputs": [
    {
     "data": {
      "text/html": [
       "<div>\n",
       "<style scoped>\n",
       "    .dataframe tbody tr th:only-of-type {\n",
       "        vertical-align: middle;\n",
       "    }\n",
       "\n",
       "    .dataframe tbody tr th {\n",
       "        vertical-align: top;\n",
       "    }\n",
       "\n",
       "    .dataframe thead th {\n",
       "        text-align: right;\n",
       "    }\n",
       "</style>\n",
       "<table border=\"1\" class=\"dataframe\">\n",
       "  <thead>\n",
       "    <tr style=\"text-align: right;\">\n",
       "      <th></th>\n",
       "      <th>Name</th>\n",
       "      <th>Age</th>\n",
       "      <th>Email</th>\n",
       "      <th>Address</th>\n",
       "      <th>Birth</th>\n",
       "    </tr>\n",
       "  </thead>\n",
       "  <tbody>\n",
       "    <tr>\n",
       "      <th>동</th>\n",
       "      <td>홍길동</td>\n",
       "      <td>20</td>\n",
       "      <td>hong@hong.com</td>\n",
       "      <td>서울시 강동구</td>\n",
       "      <td>1999-01-01</td>\n",
       "    </tr>\n",
       "    <tr>\n",
       "      <th>서</th>\n",
       "      <td>홍길서</td>\n",
       "      <td>30</td>\n",
       "      <td>seo@hong.com</td>\n",
       "      <td>서울시 중구</td>\n",
       "      <td>1999-12-01</td>\n",
       "    </tr>\n",
       "    <tr>\n",
       "      <th>남</th>\n",
       "      <td>홍길남</td>\n",
       "      <td>21</td>\n",
       "      <td>nam@hong.com</td>\n",
       "      <td>서울시 강동구</td>\n",
       "      <td>1999-11-01</td>\n",
       "    </tr>\n",
       "    <tr>\n",
       "      <th>북</th>\n",
       "      <td>홍길북</td>\n",
       "      <td>22</td>\n",
       "      <td>buk@hong.com</td>\n",
       "      <td>서울시 관악구</td>\n",
       "      <td>1999-05-01</td>\n",
       "    </tr>\n",
       "  </tbody>\n",
       "</table>\n",
       "</div>"
      ],
      "text/plain": [
       "  Name  Age          Email  Address      Birth\n",
       "동  홍길동   20  hong@hong.com  서울시 강동구 1999-01-01\n",
       "서  홍길서   30   seo@hong.com   서울시 중구 1999-12-01\n",
       "남  홍길남   21   nam@hong.com  서울시 강동구 1999-11-01\n",
       "북  홍길북   22   buk@hong.com  서울시 관악구 1999-05-01"
      ]
     },
     "execution_count": 114,
     "metadata": {},
     "output_type": "execute_result"
    }
   ],
   "source": [
    "#  Address가 서울시로 시작하는 데이터\n",
    "member[member['Address'].str.startswith('서울시')]"
   ]
  },
  {
   "cell_type": "code",
   "execution_count": 115,
   "id": "debcd807",
   "metadata": {},
   "outputs": [
    {
     "data": {
      "text/html": [
       "<div>\n",
       "<style scoped>\n",
       "    .dataframe tbody tr th:only-of-type {\n",
       "        vertical-align: middle;\n",
       "    }\n",
       "\n",
       "    .dataframe tbody tr th {\n",
       "        vertical-align: top;\n",
       "    }\n",
       "\n",
       "    .dataframe thead th {\n",
       "        text-align: right;\n",
       "    }\n",
       "</style>\n",
       "<table border=\"1\" class=\"dataframe\">\n",
       "  <thead>\n",
       "    <tr style=\"text-align: right;\">\n",
       "      <th></th>\n",
       "      <th>Name</th>\n",
       "      <th>Age</th>\n",
       "      <th>Email</th>\n",
       "      <th>Address</th>\n",
       "      <th>Birth</th>\n",
       "    </tr>\n",
       "  </thead>\n",
       "  <tbody>\n",
       "    <tr>\n",
       "      <th>서</th>\n",
       "      <td>홍길서</td>\n",
       "      <td>30</td>\n",
       "      <td>seo@hong.com</td>\n",
       "      <td>서울시 중구</td>\n",
       "      <td>1999-12-01</td>\n",
       "    </tr>\n",
       "    <tr>\n",
       "      <th>중</th>\n",
       "      <td>홍길중</td>\n",
       "      <td>23</td>\n",
       "      <td>mid@hong.com</td>\n",
       "      <td>부산시 중구</td>\n",
       "      <td>1999-01-30</td>\n",
       "    </tr>\n",
       "  </tbody>\n",
       "</table>\n",
       "</div>"
      ],
      "text/plain": [
       "  Name  Age         Email Address      Birth\n",
       "서  홍길서   30  seo@hong.com  서울시 중구 1999-12-01\n",
       "중  홍길중   23  mid@hong.com  부산시 중구 1999-01-30"
      ]
     },
     "execution_count": 115,
     "metadata": {},
     "output_type": "execute_result"
    }
   ],
   "source": [
    "#  Address에 중구를 포함하는 데이터(방법1)\n",
    "member[member['Address'].str.find('중구')!=-1]"
   ]
  },
  {
   "cell_type": "code",
   "execution_count": 116,
   "id": "53af01e9",
   "metadata": {},
   "outputs": [
    {
     "data": {
      "text/html": [
       "<div>\n",
       "<style scoped>\n",
       "    .dataframe tbody tr th:only-of-type {\n",
       "        vertical-align: middle;\n",
       "    }\n",
       "\n",
       "    .dataframe tbody tr th {\n",
       "        vertical-align: top;\n",
       "    }\n",
       "\n",
       "    .dataframe thead th {\n",
       "        text-align: right;\n",
       "    }\n",
       "</style>\n",
       "<table border=\"1\" class=\"dataframe\">\n",
       "  <thead>\n",
       "    <tr style=\"text-align: right;\">\n",
       "      <th></th>\n",
       "      <th>Name</th>\n",
       "      <th>Age</th>\n",
       "      <th>Email</th>\n",
       "      <th>Address</th>\n",
       "      <th>Birth</th>\n",
       "    </tr>\n",
       "  </thead>\n",
       "  <tbody>\n",
       "    <tr>\n",
       "      <th>서</th>\n",
       "      <td>홍길서</td>\n",
       "      <td>30</td>\n",
       "      <td>seo@hong.com</td>\n",
       "      <td>서울시 중구</td>\n",
       "      <td>1999-12-01</td>\n",
       "    </tr>\n",
       "    <tr>\n",
       "      <th>중</th>\n",
       "      <td>홍길중</td>\n",
       "      <td>23</td>\n",
       "      <td>mid@hong.com</td>\n",
       "      <td>부산시 중구</td>\n",
       "      <td>1999-01-30</td>\n",
       "    </tr>\n",
       "  </tbody>\n",
       "</table>\n",
       "</div>"
      ],
      "text/plain": [
       "  Name  Age         Email Address      Birth\n",
       "서  홍길서   30  seo@hong.com  서울시 중구 1999-12-01\n",
       "중  홍길중   23  mid@hong.com  부산시 중구 1999-01-30"
      ]
     },
     "execution_count": 116,
     "metadata": {},
     "output_type": "execute_result"
    }
   ],
   "source": [
    "#  Address에 중구를 포함하는 데이터(방법2)\n",
    "member[member['Address'].str.contains('중구')]"
   ]
  },
  {
   "cell_type": "code",
   "execution_count": 117,
   "id": "64a26290",
   "metadata": {},
   "outputs": [
    {
     "data": {
      "text/html": [
       "<div>\n",
       "<style scoped>\n",
       "    .dataframe tbody tr th:only-of-type {\n",
       "        vertical-align: middle;\n",
       "    }\n",
       "\n",
       "    .dataframe tbody tr th {\n",
       "        vertical-align: top;\n",
       "    }\n",
       "\n",
       "    .dataframe thead th {\n",
       "        text-align: right;\n",
       "    }\n",
       "</style>\n",
       "<table border=\"1\" class=\"dataframe\">\n",
       "  <thead>\n",
       "    <tr style=\"text-align: right;\">\n",
       "      <th></th>\n",
       "      <th>Name</th>\n",
       "      <th>Age</th>\n",
       "      <th>Email</th>\n",
       "      <th>Address</th>\n",
       "      <th>Birth</th>\n",
       "    </tr>\n",
       "  </thead>\n",
       "  <tbody>\n",
       "    <tr>\n",
       "      <th>동</th>\n",
       "      <td>홍길동</td>\n",
       "      <td>20</td>\n",
       "      <td>hong@hong.com</td>\n",
       "      <td>서울시 강동구</td>\n",
       "      <td>1999-01-01</td>\n",
       "    </tr>\n",
       "    <tr>\n",
       "      <th>남</th>\n",
       "      <td>홍길남</td>\n",
       "      <td>21</td>\n",
       "      <td>nam@hong.com</td>\n",
       "      <td>서울시 강동구</td>\n",
       "      <td>1999-11-01</td>\n",
       "    </tr>\n",
       "  </tbody>\n",
       "</table>\n",
       "</div>"
      ],
      "text/plain": [
       "  Name  Age          Email  Address      Birth\n",
       "동  홍길동   20  hong@hong.com  서울시 강동구 1999-01-01\n",
       "남  홍길남   21   nam@hong.com  서울시 강동구 1999-11-01"
      ]
     },
     "execution_count": 117,
     "metadata": {},
     "output_type": "execute_result"
    }
   ],
   "source": [
    "# 시리즈.isin([])\n",
    "# 이름이 홍길동이거나 홍길남인 데이터\n",
    "member.loc[member['Name'].isin(['홍길동','홍길남'])]"
   ]
  },
  {
   "cell_type": "code",
   "execution_count": 118,
   "id": "e49c4a34",
   "metadata": {},
   "outputs": [
    {
     "data": {
      "text/html": [
       "<div>\n",
       "<style scoped>\n",
       "    .dataframe tbody tr th:only-of-type {\n",
       "        vertical-align: middle;\n",
       "    }\n",
       "\n",
       "    .dataframe tbody tr th {\n",
       "        vertical-align: top;\n",
       "    }\n",
       "\n",
       "    .dataframe thead th {\n",
       "        text-align: right;\n",
       "    }\n",
       "</style>\n",
       "<table border=\"1\" class=\"dataframe\">\n",
       "  <thead>\n",
       "    <tr style=\"text-align: right;\">\n",
       "      <th></th>\n",
       "      <th>Name</th>\n",
       "      <th>Address</th>\n",
       "      <th>Birth</th>\n",
       "    </tr>\n",
       "  </thead>\n",
       "  <tbody>\n",
       "    <tr>\n",
       "      <th>동</th>\n",
       "      <td>홍길동</td>\n",
       "      <td>서울시 강동구</td>\n",
       "      <td>1999-01-01</td>\n",
       "    </tr>\n",
       "    <tr>\n",
       "      <th>남</th>\n",
       "      <td>홍길남</td>\n",
       "      <td>서울시 강동구</td>\n",
       "      <td>1999-11-01</td>\n",
       "    </tr>\n",
       "  </tbody>\n",
       "</table>\n",
       "</div>"
      ],
      "text/plain": [
       "  Name  Address      Birth\n",
       "동  홍길동  서울시 강동구 1999-01-01\n",
       "남  홍길남  서울시 강동구 1999-11-01"
      ]
     },
     "execution_count": 118,
     "metadata": {},
     "output_type": "execute_result"
    }
   ],
   "source": [
    "# 이름이 홍길동이거나 홍길남인 데이터의 이름, 주소, 생일\n",
    "member.loc[member['Name'].isin(['홍길동','홍길남']),['Name','Address','Birth']]"
   ]
  },
  {
   "cell_type": "code",
   "execution_count": 119,
   "id": "506220ef",
   "metadata": {},
   "outputs": [
    {
     "data": {
      "text/html": [
       "<div>\n",
       "<style scoped>\n",
       "    .dataframe tbody tr th:only-of-type {\n",
       "        vertical-align: middle;\n",
       "    }\n",
       "\n",
       "    .dataframe tbody tr th {\n",
       "        vertical-align: top;\n",
       "    }\n",
       "\n",
       "    .dataframe thead th {\n",
       "        text-align: right;\n",
       "    }\n",
       "</style>\n",
       "<table border=\"1\" class=\"dataframe\">\n",
       "  <thead>\n",
       "    <tr style=\"text-align: right;\">\n",
       "      <th></th>\n",
       "      <th>Name</th>\n",
       "      <th>Age</th>\n",
       "      <th>Email</th>\n",
       "      <th>Address</th>\n",
       "      <th>Birth</th>\n",
       "    </tr>\n",
       "  </thead>\n",
       "  <tbody>\n",
       "    <tr>\n",
       "      <th>동</th>\n",
       "      <td>홍길동</td>\n",
       "      <td>20</td>\n",
       "      <td>hong@hong.com</td>\n",
       "      <td>서울시 강동구</td>\n",
       "      <td>1999-01-01</td>\n",
       "    </tr>\n",
       "    <tr>\n",
       "      <th>서</th>\n",
       "      <td>홍길서</td>\n",
       "      <td>30</td>\n",
       "      <td>seo@hong.com</td>\n",
       "      <td>서울시 중구</td>\n",
       "      <td>1999-12-01</td>\n",
       "    </tr>\n",
       "    <tr>\n",
       "      <th>남</th>\n",
       "      <td>홍길남</td>\n",
       "      <td>21</td>\n",
       "      <td>nam@hong.com</td>\n",
       "      <td>서울시 강동구</td>\n",
       "      <td>1999-11-01</td>\n",
       "    </tr>\n",
       "    <tr>\n",
       "      <th>북</th>\n",
       "      <td>홍길북</td>\n",
       "      <td>22</td>\n",
       "      <td>buk@hong.com</td>\n",
       "      <td>서울시 관악구</td>\n",
       "      <td>1999-05-01</td>\n",
       "    </tr>\n",
       "    <tr>\n",
       "      <th>중</th>\n",
       "      <td>홍길중</td>\n",
       "      <td>23</td>\n",
       "      <td>mid@hong.com</td>\n",
       "      <td>부산시 중구</td>\n",
       "      <td>1999-01-30</td>\n",
       "    </tr>\n",
       "  </tbody>\n",
       "</table>\n",
       "</div>"
      ],
      "text/plain": [
       "  Name  Age          Email  Address      Birth\n",
       "동  홍길동   20  hong@hong.com  서울시 강동구 1999-01-01\n",
       "서  홍길서   30   seo@hong.com   서울시 중구 1999-12-01\n",
       "남  홍길남   21   nam@hong.com  서울시 강동구 1999-11-01\n",
       "북  홍길북   22   buk@hong.com  서울시 관악구 1999-05-01\n",
       "중  홍길중   23   mid@hong.com   부산시 중구 1999-01-30"
      ]
     },
     "execution_count": 119,
     "metadata": {},
     "output_type": "execute_result"
    }
   ],
   "source": [
    "# 2000년 이전에 태어난 데이터\n",
    "member[member['Birth'].dt.year < 2000]"
   ]
  },
  {
   "cell_type": "code",
   "execution_count": 120,
   "id": "9ea1700c",
   "metadata": {},
   "outputs": [
    {
     "data": {
      "text/html": [
       "<div>\n",
       "<style scoped>\n",
       "    .dataframe tbody tr th:only-of-type {\n",
       "        vertical-align: middle;\n",
       "    }\n",
       "\n",
       "    .dataframe tbody tr th {\n",
       "        vertical-align: top;\n",
       "    }\n",
       "\n",
       "    .dataframe thead th {\n",
       "        text-align: right;\n",
       "    }\n",
       "</style>\n",
       "<table border=\"1\" class=\"dataframe\">\n",
       "  <thead>\n",
       "    <tr style=\"text-align: right;\">\n",
       "      <th></th>\n",
       "      <th>eng</th>\n",
       "      <th>kor</th>\n",
       "    </tr>\n",
       "  </thead>\n",
       "  <tbody>\n",
       "    <tr>\n",
       "      <th>0</th>\n",
       "      <td>NaN</td>\n",
       "      <td>100.0</td>\n",
       "    </tr>\n",
       "    <tr>\n",
       "      <th>1</th>\n",
       "      <td>80.0</td>\n",
       "      <td>80.0</td>\n",
       "    </tr>\n",
       "    <tr>\n",
       "      <th>2</th>\n",
       "      <td>NaN</td>\n",
       "      <td>60.0</td>\n",
       "    </tr>\n",
       "    <tr>\n",
       "      <th>3</th>\n",
       "      <td>85.0</td>\n",
       "      <td>NaN</td>\n",
       "    </tr>\n",
       "  </tbody>\n",
       "</table>\n",
       "</div>"
      ],
      "text/plain": [
       "    eng    kor\n",
       "0   NaN  100.0\n",
       "1  80.0   80.0\n",
       "2   NaN   60.0\n",
       "3  85.0    NaN"
      ]
     },
     "metadata": {},
     "output_type": "display_data"
    },
    {
     "data": {
      "text/html": [
       "<div>\n",
       "<style scoped>\n",
       "    .dataframe tbody tr th:only-of-type {\n",
       "        vertical-align: middle;\n",
       "    }\n",
       "\n",
       "    .dataframe tbody tr th {\n",
       "        vertical-align: top;\n",
       "    }\n",
       "\n",
       "    .dataframe thead th {\n",
       "        text-align: right;\n",
       "    }\n",
       "</style>\n",
       "<table border=\"1\" class=\"dataframe\">\n",
       "  <thead>\n",
       "    <tr style=\"text-align: right;\">\n",
       "      <th></th>\n",
       "      <th>eng</th>\n",
       "      <th>kor</th>\n",
       "    </tr>\n",
       "  </thead>\n",
       "  <tbody>\n",
       "    <tr>\n",
       "      <th>1</th>\n",
       "      <td>80.0</td>\n",
       "      <td>80.0</td>\n",
       "    </tr>\n",
       "  </tbody>\n",
       "</table>\n",
       "</div>"
      ],
      "text/plain": [
       "    eng   kor\n",
       "1  80.0  80.0"
      ]
     },
     "execution_count": 120,
     "metadata": {},
     "output_type": "execute_result"
    }
   ],
   "source": [
    "# 조건 연산자를 이용해서 추출(조건2개)\n",
    "data = pd.DataFrame({'eng':[np.nan,80,np.nan,85],\n",
    "                    'kor':[100,80,60,np.nan]})\n",
    "display(data)\n",
    "# 영어 80점 이상이고, 국어 80 이상인 데이터 추출\n",
    "data[(data['eng']>=80) & (data['kor']>=80)]"
   ]
  },
  {
   "cell_type": "code",
   "execution_count": 121,
   "id": "052978c4",
   "metadata": {},
   "outputs": [
    {
     "name": "stdout",
     "output_type": "stream",
     "text": [
      "<class 'pandas.core.frame.DataFrame'>\n",
      "RangeIndex: 4 entries, 0 to 3\n",
      "Data columns (total 2 columns):\n",
      " #   Column  Non-Null Count  Dtype  \n",
      "---  ------  --------------  -----  \n",
      " 0   eng     2 non-null      float64\n",
      " 1   kor     3 non-null      float64\n",
      "dtypes: float64(2)\n",
      "memory usage: 192.0 bytes\n"
     ]
    }
   ],
   "source": [
    "# 결측치 확인 방법1\n",
    "data.info()"
   ]
  },
  {
   "cell_type": "code",
   "execution_count": 122,
   "id": "2da10b9d",
   "metadata": {},
   "outputs": [
    {
     "data": {
      "text/html": [
       "<div>\n",
       "<style scoped>\n",
       "    .dataframe tbody tr th:only-of-type {\n",
       "        vertical-align: middle;\n",
       "    }\n",
       "\n",
       "    .dataframe tbody tr th {\n",
       "        vertical-align: top;\n",
       "    }\n",
       "\n",
       "    .dataframe thead th {\n",
       "        text-align: right;\n",
       "    }\n",
       "</style>\n",
       "<table border=\"1\" class=\"dataframe\">\n",
       "  <thead>\n",
       "    <tr style=\"text-align: right;\">\n",
       "      <th></th>\n",
       "      <th>eng</th>\n",
       "      <th>kor</th>\n",
       "    </tr>\n",
       "  </thead>\n",
       "  <tbody>\n",
       "    <tr>\n",
       "      <th>0</th>\n",
       "      <td>True</td>\n",
       "      <td>False</td>\n",
       "    </tr>\n",
       "    <tr>\n",
       "      <th>1</th>\n",
       "      <td>False</td>\n",
       "      <td>False</td>\n",
       "    </tr>\n",
       "    <tr>\n",
       "      <th>2</th>\n",
       "      <td>True</td>\n",
       "      <td>False</td>\n",
       "    </tr>\n",
       "    <tr>\n",
       "      <th>3</th>\n",
       "      <td>False</td>\n",
       "      <td>True</td>\n",
       "    </tr>\n",
       "  </tbody>\n",
       "</table>\n",
       "</div>"
      ],
      "text/plain": [
       "     eng    kor\n",
       "0   True  False\n",
       "1  False  False\n",
       "2   True  False\n",
       "3  False   True"
      ]
     },
     "execution_count": 122,
     "metadata": {},
     "output_type": "execute_result"
    }
   ],
   "source": [
    "# 결측치 확인 방법2\n",
    "data.isna() # 결측치 여부"
   ]
  },
  {
   "cell_type": "code",
   "execution_count": 123,
   "id": "0654406d",
   "metadata": {},
   "outputs": [
    {
     "data": {
      "text/plain": [
       "2"
      ]
     },
     "execution_count": 123,
     "metadata": {},
     "output_type": "execute_result"
    }
   ],
   "source": [
    "True+True+False"
   ]
  },
  {
   "cell_type": "code",
   "execution_count": 124,
   "id": "6016a667",
   "metadata": {},
   "outputs": [
    {
     "data": {
      "text/plain": [
       "eng    2\n",
       "kor    1\n",
       "dtype: int64"
      ]
     },
     "execution_count": 124,
     "metadata": {},
     "output_type": "execute_result"
    }
   ],
   "source": [
    "data.isna().sum(axis=0) # 각 열의 결측치 갯수"
   ]
  },
  {
   "cell_type": "markdown",
   "id": "3772f741",
   "metadata": {},
   "source": [
    "※ 데이터 프레임의 부분 데이터 조회방법\n",
    "- df[열이름] : 특정열 조회\n",
    "- df[조건] : 조건에 맞는 모든 행 조회\n",
    "- df.loc[행이름,열이름]\n",
    "    - 행이름, 열이름 자리에 슬라이싱, 리스트\n",
    "    - 열이름 생략시 모든 열\n",
    "- df.iloc[행순번,열순번]\n",
    "    - 행순번, 열순번 자리에 슬라이싱, 리스트\n",
    "    - 열순번 생략시 모든 열"
   ]
  },
  {
   "cell_type": "markdown",
   "id": "ef24a143",
   "metadata": {},
   "source": [
    "- 데이터프레임 조건 추출 quiz"
   ]
  },
  {
   "cell_type": "code",
   "execution_count": 125,
   "id": "741e198f",
   "metadata": {},
   "outputs": [
    {
     "ename": "SyntaxError",
     "evalue": "invalid syntax (2068583745.py, line 25)",
     "output_type": "error",
     "traceback": [
      "\u001b[1;36m  Cell \u001b[1;32mIn[125], line 25\u001b[1;36m\u001b[0m\n\u001b[1;33m    iris.loc[[0:125:25],['petal_length','petal_width']]\u001b[0m\n\u001b[1;37m               ^\u001b[0m\n\u001b[1;31mSyntaxError\u001b[0m\u001b[1;31m:\u001b[0m invalid syntax\n"
     ]
    }
   ],
   "source": [
    "# iris가져오기\n",
    "import seaborn as sns\n",
    "iris=sns.load_dataset('iris')\n",
    "# display(iris)\n",
    "\n",
    "# 1. sepal_length 열만 출력\n",
    "iris['sepal_length']\n",
    "\n",
    "# 2. 0~10행까지 마지막 열을 제외한 데이터 (loc, iloc)\n",
    "iris.loc[:10,:'petal_width']\n",
    "iris.iloc[:11,:-1]\n",
    "\n",
    "# 3. 3~10 행중에 'sepal_length'와 'petal_length' 열만 (loc, iloc)\n",
    "iris.loc[3:10,['sepal_length','petal_length']]\n",
    "iris.iloc[3:11,[0,2]]\n",
    "\n",
    "# 4. 0번째, 50번째, 100번째 행의 모든 열 (loc, iloc)\n",
    "iris.loc[[0,50,100]]\n",
    "# iris.loc[0:100:5]\n",
    "iris.iloc[[0,50,100]]\n",
    "# iris.iloc[0:101:5]\n",
    "\n",
    "# 5. 0번째, 25, 50번째, 75번, 100번째, 125번째 행의 petal_length와 petal_width (loc, iloc)\n",
    "iris.loc[[0,25,50,75,100,125],['petal_length','petal_width']]\n",
    "iris.loc[[0:125:25],['petal_length','petal_width']]\n",
    "iris.iloc[[0,25,50,75,100,125],[2,3]]\n",
    "\n",
    "# 6. species가 versicolor인 데이터의 모든 열\n",
    "iris.loc[iris['species'].isin(['versicolor'])]\n",
    "\n",
    "# 7. species가 setosa인 데이터 최초 5개 행만 출력\n",
    "setosa5 = iris.loc[iris['species'].isin(['setosa'])].copy()\n",
    "setosa5[:5]\n",
    "\n",
    "# 8. sepal_length가 6.5이상인 데이터 최초 5개 행만 출력\n",
    "sepal_length5 = iris.loc[iris['sepal_length']>=6.5].copy()\n",
    "sepal_length5[:5]\n",
    "\n",
    "# 9. sepal_length가 7.2이상인 데이터의 'sepal_length'와 'sepal_width'와 'petal_length'\n",
    "iris.loc[iris['sepal_length']>=7.2,:'petal_length']\n",
    "\n",
    "# 10. versicolor종중에서 sepal_length가 6.5보다 큰 데이터의 모든 열\n",
    "iris.loc[iris['species'].isin(['versicolor']) & (iris['sepal_length'] >= 6.5)]"
   ]
  },
  {
   "cell_type": "code",
   "execution_count": null,
   "id": "55f048f0",
   "metadata": {},
   "outputs": [],
   "source": [
    "import numpy as np"
   ]
  },
  {
   "cell_type": "code",
   "execution_count": null,
   "id": "c289fa08",
   "metadata": {},
   "outputs": [],
   "source": [
    "# 조건이 많거나 복잡할 때 사용\n",
    "np.logical_and(iris['species']=='versicolor',\n",
    "              iris['sepal_length'] >= 6.5)"
   ]
  },
  {
   "cell_type": "markdown",
   "id": "28985034",
   "metadata": {},
   "source": [
    "# 5절 데이터 삭제 및 추가\n",
    "## 5.1 데이터프레임의 요소 삭제\n",
    "- df.drop(삭제할 열이름이나 행이름, axis) : axis=0 일 떈 행삭제 axis=1 일 땐 열 삭제"
   ]
  },
  {
   "cell_type": "code",
   "execution_count": null,
   "id": "94d5b39f",
   "metadata": {},
   "outputs": [],
   "source": [
    "member"
   ]
  },
  {
   "cell_type": "code",
   "execution_count": null,
   "id": "8c151a07",
   "metadata": {},
   "outputs": [],
   "source": [
    "# 1) 단일 행 삭제\n",
    "member.drop('중') # axis=0 (기본값)  : 해당 행 삭제\n",
    "#삭제한 결과르 member 적용 (1) 할당 member=member.drop('중',axis=0)\n",
    "#                       (2) member.drop('중',axis=0, inplace=True)"
   ]
  },
  {
   "cell_type": "code",
   "execution_count": null,
   "id": "8535fff3",
   "metadata": {},
   "outputs": [],
   "source": [
    "# 2) 복수 행 삭제\n",
    "member.drop(['동','서','남'])"
   ]
  },
  {
   "cell_type": "code",
   "execution_count": null,
   "id": "afdf52e1",
   "metadata": {},
   "outputs": [],
   "source": [
    "# 3) 열 삭제\n",
    "member.drop(['Name','Email'],axis=1)"
   ]
  },
  {
   "cell_type": "markdown",
   "id": "ee75f42b",
   "metadata": {},
   "source": [
    "## 5.2 데이터 프레임의 요소 추가"
   ]
  },
  {
   "cell_type": "code",
   "execution_count": null,
   "id": "db347036",
   "metadata": {},
   "outputs": [],
   "source": [
    "# 1) 열 추가\n",
    "member['nickname'] =\"빼꼼이\"\n",
    "member"
   ]
  },
  {
   "cell_type": "code",
   "execution_count": null,
   "id": "a242983a",
   "metadata": {},
   "outputs": [],
   "source": [
    "# 2) 리스트를 이용한 열 추가\n",
    "member['favorite_no']=[3,2,7,None,12]\n",
    "member"
   ]
  },
  {
   "cell_type": "code",
   "execution_count": null,
   "id": "a64fea21",
   "metadata": {},
   "outputs": [],
   "source": [
    "# 3) favorite_num에 결측치를 할당 후 데이터 재 할당\n",
    "member['favorite_num']=None # 숫자를 같이 입력시 None는 NaN, None만 입력시 None\n",
    "member"
   ]
  },
  {
   "cell_type": "code",
   "execution_count": null,
   "id": "fa9ad546",
   "metadata": {},
   "outputs": [],
   "source": [
    "member['favorite_num']=np.nan\n",
    "member.iloc[::2,-1]=7\n",
    "member"
   ]
  },
  {
   "cell_type": "code",
   "execution_count": null,
   "id": "72160280",
   "metadata": {},
   "outputs": [],
   "source": [
    "member.drop(['Email','Birth','nickname','favorite_no','favorite_num'],axis=1, inplace= True)"
   ]
  },
  {
   "cell_type": "code",
   "execution_count": null,
   "id": "bf16c5ec",
   "metadata": {},
   "outputs": [],
   "source": [
    "member"
   ]
  },
  {
   "cell_type": "code",
   "execution_count": null,
   "id": "b42ccb42",
   "metadata": {},
   "outputs": [],
   "source": [
    "# 4) 딕셔너리로 행 추가\n",
    "new_member= pd.DataFrame([{'Name':'홍길숙', 'Age':30, 'Address':'서울'}])\n",
    "member = pd.concat([member, new_member]).reset_index(drop=True) # 여러번 실행시 실행한 횟수만큼 추가"
   ]
  },
  {
   "cell_type": "code",
   "execution_count": null,
   "id": "4ef5d2eb",
   "metadata": {},
   "outputs": [],
   "source": [
    "member"
   ]
  },
  {
   "cell_type": "markdown",
   "id": "27a89cea",
   "metadata": {},
   "source": [
    "# 6절  병합과 연결\n",
    "## 6.1 merge()를 이용한 데이터프레임 연결"
   ]
  },
  {
   "cell_type": "code",
   "execution_count": 126,
   "id": "9a3bb338",
   "metadata": {},
   "outputs": [
    {
     "data": {
      "text/html": [
       "<div>\n",
       "<style scoped>\n",
       "    .dataframe tbody tr th:only-of-type {\n",
       "        vertical-align: middle;\n",
       "    }\n",
       "\n",
       "    .dataframe tbody tr th {\n",
       "        vertical-align: top;\n",
       "    }\n",
       "\n",
       "    .dataframe thead th {\n",
       "        text-align: right;\n",
       "    }\n",
       "</style>\n",
       "<table border=\"1\" class=\"dataframe\">\n",
       "  <thead>\n",
       "    <tr style=\"text-align: right;\">\n",
       "      <th></th>\n",
       "      <th>key</th>\n",
       "      <th>c1</th>\n",
       "      <th>c2</th>\n",
       "    </tr>\n",
       "  </thead>\n",
       "  <tbody>\n",
       "    <tr>\n",
       "      <th>0</th>\n",
       "      <td>a</td>\n",
       "      <td>1</td>\n",
       "      <td>10</td>\n",
       "    </tr>\n",
       "    <tr>\n",
       "      <th>1</th>\n",
       "      <td>b</td>\n",
       "      <td>2</td>\n",
       "      <td>20</td>\n",
       "    </tr>\n",
       "    <tr>\n",
       "      <th>2</th>\n",
       "      <td>c</td>\n",
       "      <td>3</td>\n",
       "      <td>30</td>\n",
       "    </tr>\n",
       "  </tbody>\n",
       "</table>\n",
       "</div>"
      ],
      "text/plain": [
       "  key  c1  c2\n",
       "0   a   1  10\n",
       "1   b   2  20\n",
       "2   c   3  30"
      ]
     },
     "execution_count": 126,
     "metadata": {},
     "output_type": "execute_result"
    }
   ],
   "source": [
    "df1= pd.DataFrame({'key':['a','b','c','d'],\n",
    "                  'c1':[1,2,3,4]})\n",
    "df2= pd.DataFrame({'key':['a','b','c','f'],\n",
    "                  'c2':[10,20,30,40]})\n",
    "df1.merge(df2) # how='inner' (기본값): 내부조인 (양쪽이 다 일치하는 데이터만 병합) "
   ]
  },
  {
   "cell_type": "code",
   "execution_count": 127,
   "id": "8f01ba20",
   "metadata": {},
   "outputs": [
    {
     "data": {
      "text/html": [
       "<div>\n",
       "<style scoped>\n",
       "    .dataframe tbody tr th:only-of-type {\n",
       "        vertical-align: middle;\n",
       "    }\n",
       "\n",
       "    .dataframe tbody tr th {\n",
       "        vertical-align: top;\n",
       "    }\n",
       "\n",
       "    .dataframe thead th {\n",
       "        text-align: right;\n",
       "    }\n",
       "</style>\n",
       "<table border=\"1\" class=\"dataframe\">\n",
       "  <thead>\n",
       "    <tr style=\"text-align: right;\">\n",
       "      <th></th>\n",
       "      <th>key</th>\n",
       "      <th>c1</th>\n",
       "      <th>c2</th>\n",
       "    </tr>\n",
       "  </thead>\n",
       "  <tbody>\n",
       "    <tr>\n",
       "      <th>0</th>\n",
       "      <td>a</td>\n",
       "      <td>1</td>\n",
       "      <td>10.0</td>\n",
       "    </tr>\n",
       "    <tr>\n",
       "      <th>1</th>\n",
       "      <td>b</td>\n",
       "      <td>2</td>\n",
       "      <td>20.0</td>\n",
       "    </tr>\n",
       "    <tr>\n",
       "      <th>2</th>\n",
       "      <td>c</td>\n",
       "      <td>3</td>\n",
       "      <td>30.0</td>\n",
       "    </tr>\n",
       "    <tr>\n",
       "      <th>3</th>\n",
       "      <td>d</td>\n",
       "      <td>4</td>\n",
       "      <td>NaN</td>\n",
       "    </tr>\n",
       "  </tbody>\n",
       "</table>\n",
       "</div>"
      ],
      "text/plain": [
       "  key  c1    c2\n",
       "0   a   1  10.0\n",
       "1   b   2  20.0\n",
       "2   c   3  30.0\n",
       "3   d   4   NaN"
      ]
     },
     "execution_count": 127,
     "metadata": {},
     "output_type": "execute_result"
    }
   ],
   "source": [
    "df1.merge(df2, how='left') # 왼쪽의 df1 데이터는 모두 남기고 오른쪽 df2가 매칭되도록"
   ]
  },
  {
   "cell_type": "code",
   "execution_count": 128,
   "id": "ba372b43",
   "metadata": {},
   "outputs": [
    {
     "data": {
      "text/html": [
       "<div>\n",
       "<style scoped>\n",
       "    .dataframe tbody tr th:only-of-type {\n",
       "        vertical-align: middle;\n",
       "    }\n",
       "\n",
       "    .dataframe tbody tr th {\n",
       "        vertical-align: top;\n",
       "    }\n",
       "\n",
       "    .dataframe thead th {\n",
       "        text-align: right;\n",
       "    }\n",
       "</style>\n",
       "<table border=\"1\" class=\"dataframe\">\n",
       "  <thead>\n",
       "    <tr style=\"text-align: right;\">\n",
       "      <th></th>\n",
       "      <th>key</th>\n",
       "      <th>c1</th>\n",
       "      <th>c2</th>\n",
       "    </tr>\n",
       "  </thead>\n",
       "  <tbody>\n",
       "    <tr>\n",
       "      <th>0</th>\n",
       "      <td>a</td>\n",
       "      <td>1.0</td>\n",
       "      <td>10</td>\n",
       "    </tr>\n",
       "    <tr>\n",
       "      <th>1</th>\n",
       "      <td>b</td>\n",
       "      <td>2.0</td>\n",
       "      <td>20</td>\n",
       "    </tr>\n",
       "    <tr>\n",
       "      <th>2</th>\n",
       "      <td>c</td>\n",
       "      <td>3.0</td>\n",
       "      <td>30</td>\n",
       "    </tr>\n",
       "    <tr>\n",
       "      <th>3</th>\n",
       "      <td>f</td>\n",
       "      <td>NaN</td>\n",
       "      <td>40</td>\n",
       "    </tr>\n",
       "  </tbody>\n",
       "</table>\n",
       "</div>"
      ],
      "text/plain": [
       "  key   c1  c2\n",
       "0   a  1.0  10\n",
       "1   b  2.0  20\n",
       "2   c  3.0  30\n",
       "3   f  NaN  40"
      ]
     },
     "execution_count": 128,
     "metadata": {},
     "output_type": "execute_result"
    }
   ],
   "source": [
    "df1.merge(df2, how='right') # 오른쪽의 df2 데이터는 모두 남기고 왼쪽 df1이 매칭되도록"
   ]
  },
  {
   "cell_type": "code",
   "execution_count": 129,
   "id": "bb71d8e0",
   "metadata": {},
   "outputs": [
    {
     "data": {
      "text/html": [
       "<div>\n",
       "<style scoped>\n",
       "    .dataframe tbody tr th:only-of-type {\n",
       "        vertical-align: middle;\n",
       "    }\n",
       "\n",
       "    .dataframe tbody tr th {\n",
       "        vertical-align: top;\n",
       "    }\n",
       "\n",
       "    .dataframe thead th {\n",
       "        text-align: right;\n",
       "    }\n",
       "</style>\n",
       "<table border=\"1\" class=\"dataframe\">\n",
       "  <thead>\n",
       "    <tr style=\"text-align: right;\">\n",
       "      <th></th>\n",
       "      <th>key</th>\n",
       "      <th>c1</th>\n",
       "      <th>c2</th>\n",
       "    </tr>\n",
       "  </thead>\n",
       "  <tbody>\n",
       "    <tr>\n",
       "      <th>0</th>\n",
       "      <td>a</td>\n",
       "      <td>1.0</td>\n",
       "      <td>10.0</td>\n",
       "    </tr>\n",
       "    <tr>\n",
       "      <th>1</th>\n",
       "      <td>b</td>\n",
       "      <td>2.0</td>\n",
       "      <td>20.0</td>\n",
       "    </tr>\n",
       "    <tr>\n",
       "      <th>2</th>\n",
       "      <td>c</td>\n",
       "      <td>3.0</td>\n",
       "      <td>30.0</td>\n",
       "    </tr>\n",
       "    <tr>\n",
       "      <th>3</th>\n",
       "      <td>d</td>\n",
       "      <td>4.0</td>\n",
       "      <td>NaN</td>\n",
       "    </tr>\n",
       "    <tr>\n",
       "      <th>4</th>\n",
       "      <td>f</td>\n",
       "      <td>NaN</td>\n",
       "      <td>40.0</td>\n",
       "    </tr>\n",
       "  </tbody>\n",
       "</table>\n",
       "</div>"
      ],
      "text/plain": [
       "  key   c1    c2\n",
       "0   a  1.0  10.0\n",
       "1   b  2.0  20.0\n",
       "2   c  3.0  30.0\n",
       "3   d  4.0   NaN\n",
       "4   f  NaN  40.0"
      ]
     },
     "execution_count": 129,
     "metadata": {},
     "output_type": "execute_result"
    }
   ],
   "source": [
    "df1.merge(df2, how='outer') # 양쪽 df1, df2 모두 남김"
   ]
  },
  {
   "cell_type": "code",
   "execution_count": null,
   "id": "13c55285",
   "metadata": {},
   "outputs": [],
   "source": [
    "df3= pd.DataFrame({'key3':['a','b','c','d'],\n",
    "                  'c3':[1,2,3,4]})\n",
    "df4= pd.DataFrame({'key4':['a','b','c','f'],\n",
    "                  'c4':[10,20,30,40]})\n",
    "df3.merge(df4, left_on='key3', right_on='key4', how='inner')"
   ]
  },
  {
   "cell_type": "markdown",
   "id": "c04ea333",
   "metadata": {},
   "source": [
    "## 6.2 concat()을 이용한 데이터프레임 연결\n",
    "- pd.concat([df1,df2,df3...], axis)\n",
    "    * axis = 0 (기본값) : 위아래로 연결\n",
    "    * axis = 1 : 좌우로 연결"
   ]
  },
  {
   "cell_type": "code",
   "execution_count": 130,
   "id": "1af45b68",
   "metadata": {},
   "outputs": [
    {
     "data": {
      "text/html": [
       "<div>\n",
       "<style scoped>\n",
       "    .dataframe tbody tr th:only-of-type {\n",
       "        vertical-align: middle;\n",
       "    }\n",
       "\n",
       "    .dataframe tbody tr th {\n",
       "        vertical-align: top;\n",
       "    }\n",
       "\n",
       "    .dataframe thead th {\n",
       "        text-align: right;\n",
       "    }\n",
       "</style>\n",
       "<table border=\"1\" class=\"dataframe\">\n",
       "  <thead>\n",
       "    <tr style=\"text-align: right;\">\n",
       "      <th></th>\n",
       "      <th>key3</th>\n",
       "      <th>c3</th>\n",
       "      <th>key4</th>\n",
       "      <th>c4</th>\n",
       "    </tr>\n",
       "  </thead>\n",
       "  <tbody>\n",
       "    <tr>\n",
       "      <th>0</th>\n",
       "      <td>a</td>\n",
       "      <td>1</td>\n",
       "      <td>a</td>\n",
       "      <td>10</td>\n",
       "    </tr>\n",
       "    <tr>\n",
       "      <th>1</th>\n",
       "      <td>b</td>\n",
       "      <td>2</td>\n",
       "      <td>b</td>\n",
       "      <td>20</td>\n",
       "    </tr>\n",
       "    <tr>\n",
       "      <th>2</th>\n",
       "      <td>c</td>\n",
       "      <td>3</td>\n",
       "      <td>c</td>\n",
       "      <td>30</td>\n",
       "    </tr>\n",
       "    <tr>\n",
       "      <th>3</th>\n",
       "      <td>d</td>\n",
       "      <td>4</td>\n",
       "      <td>f</td>\n",
       "      <td>40</td>\n",
       "    </tr>\n",
       "  </tbody>\n",
       "</table>\n",
       "</div>"
      ],
      "text/plain": [
       "  key3  c3 key4  c4\n",
       "0    a   1    a  10\n",
       "1    b   2    b  20\n",
       "2    c   3    c  30\n",
       "3    d   4    f  40"
      ]
     },
     "execution_count": 130,
     "metadata": {},
     "output_type": "execute_result"
    }
   ],
   "source": [
    "df3= pd.DataFrame({'key3':['a','b','c','d'],\n",
    "                  'c3':[1,2,3,4]})\n",
    "df4= pd.DataFrame({'key4':['a','b','c','f'],\n",
    "                  'c4':[10,20,30,40]})\n",
    "pd.concat([df3,df4], axis =1) # 좌우 연결"
   ]
  },
  {
   "cell_type": "code",
   "execution_count": 131,
   "id": "51a2cd41",
   "metadata": {},
   "outputs": [
    {
     "data": {
      "text/html": [
       "<div>\n",
       "<style scoped>\n",
       "    .dataframe tbody tr th:only-of-type {\n",
       "        vertical-align: middle;\n",
       "    }\n",
       "\n",
       "    .dataframe tbody tr th {\n",
       "        vertical-align: top;\n",
       "    }\n",
       "\n",
       "    .dataframe thead th {\n",
       "        text-align: right;\n",
       "    }\n",
       "</style>\n",
       "<table border=\"1\" class=\"dataframe\">\n",
       "  <thead>\n",
       "    <tr style=\"text-align: right;\">\n",
       "      <th></th>\n",
       "      <th>key</th>\n",
       "      <th>c1</th>\n",
       "    </tr>\n",
       "  </thead>\n",
       "  <tbody>\n",
       "    <tr>\n",
       "      <th>0</th>\n",
       "      <td>a</td>\n",
       "      <td>1</td>\n",
       "    </tr>\n",
       "    <tr>\n",
       "      <th>1</th>\n",
       "      <td>b</td>\n",
       "      <td>2</td>\n",
       "    </tr>\n",
       "    <tr>\n",
       "      <th>2</th>\n",
       "      <td>c</td>\n",
       "      <td>3</td>\n",
       "    </tr>\n",
       "    <tr>\n",
       "      <th>3</th>\n",
       "      <td>d</td>\n",
       "      <td>4</td>\n",
       "    </tr>\n",
       "    <tr>\n",
       "      <th>4</th>\n",
       "      <td>a</td>\n",
       "      <td>10</td>\n",
       "    </tr>\n",
       "    <tr>\n",
       "      <th>5</th>\n",
       "      <td>b</td>\n",
       "      <td>20</td>\n",
       "    </tr>\n",
       "    <tr>\n",
       "      <th>6</th>\n",
       "      <td>c</td>\n",
       "      <td>30</td>\n",
       "    </tr>\n",
       "    <tr>\n",
       "      <th>7</th>\n",
       "      <td>f</td>\n",
       "      <td>40</td>\n",
       "    </tr>\n",
       "  </tbody>\n",
       "</table>\n",
       "</div>"
      ],
      "text/plain": [
       "  key  c1\n",
       "0   a   1\n",
       "1   b   2\n",
       "2   c   3\n",
       "3   d   4\n",
       "4   a  10\n",
       "5   b  20\n",
       "6   c  30\n",
       "7   f  40"
      ]
     },
     "execution_count": 131,
     "metadata": {},
     "output_type": "execute_result"
    }
   ],
   "source": [
    "df3= pd.DataFrame({'key':['a','b','c','d'],\n",
    "                  'c1':[1,2,3,4]})\n",
    "df4= pd.DataFrame({'key':['a','b','c','f'],\n",
    "                  'c1':[10,20,30,40]})\n",
    "pd.concat([df3,df4]).reset_index(drop=True)"
   ]
  },
  {
   "cell_type": "markdown",
   "id": "4292eb2d",
   "metadata": {},
   "source": [
    "# 7절 정렬(행이름, 열이름,값에 의한 정렬)\n",
    "- df.sort_index(axis) : 행 또는 열 이름으로 정렬\n",
    "- df.sort_value(by=[정렬기준이될 열이름], ascending= T/F, inplace=T/F) : 특정 열 값에 의한 정렬"
   ]
  },
  {
   "cell_type": "code",
   "execution_count": null,
   "id": "c2b0ed7a",
   "metadata": {},
   "outputs": [],
   "source": [
    "member = pd.read_csv('data/ch11_member.csv', comment=\"#\")\n",
    "member.index=['동','서','남','북','중']\n",
    "member"
   ]
  },
  {
   "cell_type": "markdown",
   "id": "78c87e50",
   "metadata": {},
   "source": [
    "## 7.1 행 이름으로 정렬"
   ]
  },
  {
   "cell_type": "code",
   "execution_count": null,
   "id": "59ff42a4",
   "metadata": {},
   "outputs": [],
   "source": [
    "member.sort_index(axis=0, inplace=True) # ascending=True (기본값) : 오름차순 \n",
    "member"
   ]
  },
  {
   "cell_type": "markdown",
   "id": "c9d82297",
   "metadata": {},
   "source": [
    "## 7.2 행 이름으로 정렬"
   ]
  },
  {
   "cell_type": "code",
   "execution_count": null,
   "id": "a38259da",
   "metadata": {},
   "outputs": [],
   "source": [
    "member.sort_index(axis= 1, inplace=True)  # axis= 'columns'\n",
    "member"
   ]
  },
  {
   "cell_type": "markdown",
   "id": "4a8667d4",
   "metadata": {},
   "source": [
    "## 7.3 값에 의한 정렬"
   ]
  },
  {
   "cell_type": "code",
   "execution_count": null,
   "id": "e9029264",
   "metadata": {},
   "outputs": [],
   "source": [
    "member.sort_values(by='Age') # Age 기준으로 오름차순(ascending=True)"
   ]
  },
  {
   "cell_type": "code",
   "execution_count": null,
   "id": "8f48e0a7",
   "metadata": {},
   "outputs": [],
   "source": [
    "member.sort_values(by='Age', ascending=False)"
   ]
  },
  {
   "cell_type": "code",
   "execution_count": null,
   "id": "4aa0382f",
   "metadata": {},
   "outputs": [],
   "source": [
    "# Age 기준으로 내림차순, Age 같으면 Email 기준 오름차순\n",
    "member.loc[:,'Age']=[20,20,30,30,30]\n",
    "member"
   ]
  },
  {
   "cell_type": "code",
   "execution_count": null,
   "id": "102ab055",
   "metadata": {},
   "outputs": [],
   "source": [
    "member.sort_values(by=[\"Age\",'Email'], ascending=[False,True])"
   ]
  },
  {
   "cell_type": "markdown",
   "id": "93964cff",
   "metadata": {},
   "source": [
    "# 8절 기초 통계 분석\n",
    "    - 판다스는 기초통계(데이터 요약), statmodels: 난이도 있는 통계\n",
    "- count: NaN을 제외한 데이터 수\n",
    "- min\n",
    "- max\n",
    "- sum\n",
    "- cumsum : 누적합\n",
    "- cumprod : 누적곱\n",
    "- mean : 평균\n",
    "- median : 중앙값(중위수)\n",
    "- std : 표준편차\n",
    "- var : 분산\n",
    "- quantile : 분위수(0사분위수==최소값, 1사분면, 2사분면(중위값), 3사분위수, 4사분위수=최대값)\n",
    "    * 이상치 구하는 용도 : Q1 - 1.5*IQR(= Q3 - Q1) + Q3 + 1.5*IQR 이외의 데이터는 이상치\n",
    "- describe : 요약통계량\n",
    "- corr : 상관관계(계수)\n",
    "- rolling(n).mean() : n개씩 평균출력 - 데이터 변동이 많을 때 추세(패턴)을  부드럽게 보고 싶을 때"
   ]
  },
  {
   "cell_type": "code",
   "execution_count": null,
   "id": "4a8dfcf5",
   "metadata": {},
   "outputs": [],
   "source": [
    "from statsmodels.api import datasets\n",
    "iris = datasets.get_rdataset('iris').data\n",
    "iris.columns = [col.lower().replace(\".\",\"_\") for col in iris.columns]\n",
    "iris.head(1)"
   ]
  },
  {
   "cell_type": "markdown",
   "id": "148f67cb",
   "metadata": {},
   "source": [
    "## 8.1 min, max,....."
   ]
  },
  {
   "cell_type": "code",
   "execution_count": null,
   "id": "7c372383",
   "metadata": {},
   "outputs": [],
   "source": [
    "iris.min() # 열별 최소값(axis = 0)"
   ]
  },
  {
   "cell_type": "code",
   "execution_count": null,
   "id": "0e0b1e54",
   "metadata": {},
   "outputs": [],
   "source": [
    "iris.median(numeric_only=True) # 열별 중위수(문자열이 있어서 numeric_only=True를 넣어 줘야 오류가 없이 출력된다.)"
   ]
  },
  {
   "cell_type": "code",
   "execution_count": null,
   "id": "0e8f0e6d",
   "metadata": {},
   "outputs": [],
   "source": [
    "X=iris.iloc[:,:-1]\n",
    "X.mean(axis='rows') # 열별 평균 == 행들의 평균(axis=0 이나  axis='rows')"
   ]
  },
  {
   "cell_type": "code",
   "execution_count": null,
   "id": "49cb2bee",
   "metadata": {},
   "outputs": [],
   "source": [
    "X.mean(axis=1)\n",
    "X.mean(axis='columns') # 행별평균 == 행을 고정하고, 열들의 평균"
   ]
  },
  {
   "cell_type": "code",
   "execution_count": null,
   "id": "3495834d",
   "metadata": {},
   "outputs": [],
   "source": [
    "import pandas as pd\n",
    "df = pd.DataFrame(data=[1,3,4,7,10], columns=['value'])\n",
    "df['value'].quantile(q=[0,0.25,0.5,0.75,1], interpolation='nearest') # interpolation='nearest' : 정확한 구간이 없을 겨웅 가까운 값"
   ]
  },
  {
   "cell_type": "code",
   "execution_count": null,
   "id": "9f5b84c5",
   "metadata": {},
   "outputs": [],
   "source": [
    "df['value'].quantile(q=[0,0.3,0.55,0.8,1], interpolation='midpoint')"
   ]
  },
  {
   "cell_type": "code",
   "execution_count": null,
   "id": "6c65a0af",
   "metadata": {},
   "outputs": [],
   "source": [
    "X.quantile(q=[0,0.25,0.5,0.75,1], interpolation='nearest')"
   ]
  },
  {
   "cell_type": "code",
   "execution_count": null,
   "id": "c8e9c7ee",
   "metadata": {},
   "outputs": [],
   "source": [
    "qunt = X.quantile(q=[0,0.25,0.5,0.75,1], interpolation='nearest')\n",
    "for idx, col in enumerate(qunt.columns):\n",
    "    min =qunt.iloc[0,idx]\n",
    "    Q1 = qunt.iloc[1,idx]\n",
    "    Q3 = qunt.iloc[3,idx]\n",
    "    max = qunt.iloc[4,idx]\n",
    "    iqr= Q3-Q1\n",
    "    lower_outlier = Q1 - 1.5*iqr # 하한이상치 limit\n",
    "    upper_outlier = Q3 + 1.5*iqr # 상한이상치 limit\n",
    "    print(f'{idx}번쨰 : {col}  ', end='' )\n",
    "    print('하한 이상치 여부 : {}, 상한 이상치 여부 : {}'.format(min<lower_outlier, max>upper_outlier))"
   ]
  },
  {
   "cell_type": "code",
   "execution_count": null,
   "id": "40c28be6",
   "metadata": {},
   "outputs": [],
   "source": [
    "# 상자수염그림(박스플롯) - 시각화교안 21page\n",
    "import seaborn as sns\n",
    "sns.boxplot(data=iris)"
   ]
  },
  {
   "cell_type": "code",
   "execution_count": null,
   "id": "92c8a44d",
   "metadata": {},
   "outputs": [],
   "source": [
    "iris['sepal_length'].rolling(5).mean()[4:30] # 인접한 5개의 평균"
   ]
  },
  {
   "cell_type": "markdown",
   "id": "544699b8",
   "metadata": {},
   "source": [
    "## 8.2 요약 통계량\n",
    "- discribe()"
   ]
  },
  {
   "cell_type": "code",
   "execution_count": null,
   "id": "423e0a97",
   "metadata": {},
   "outputs": [],
   "source": [
    "# 1) 기본 요약 통계량\n",
    "iris.describe() # 기본값 : 숫자열에서의 요약통계량"
   ]
  },
  {
   "cell_type": "code",
   "execution_count": null,
   "id": "cf7ce3a7",
   "metadata": {},
   "outputs": [],
   "source": [
    "iris['species'].describe()\n",
    "iris.species.describe() # 문자열에서의 요약통계량 : 데이터갯수, 종류(unique), 최빈데이터(top), 최빈데이터갯수(freq)"
   ]
  },
  {
   "cell_type": "code",
   "execution_count": null,
   "id": "65763d67",
   "metadata": {},
   "outputs": [],
   "source": [
    "# 2) deccribe()의 inclued와 exclude 매개변수\n",
    "df = pd.DataFrame({'a':[1,2,3]*2,\n",
    "                  'b':[2.1,4]*3,\n",
    "                  'c':['aaa','aaa','bbb','ccc','ddd','eee'],\n",
    "                  'd':[True,False]*3})\n",
    "df"
   ]
  },
  {
   "cell_type": "code",
   "execution_count": null,
   "id": "7ad60125",
   "metadata": {},
   "outputs": [],
   "source": [
    "df.describe() # 숫자열만 기본 요약 통걔량 출력"
   ]
  },
  {
   "cell_type": "code",
   "execution_count": null,
   "id": "2368a9b2",
   "metadata": {},
   "outputs": [],
   "source": [
    "# include 매개변수를 통해서 요약통계량을 출력할 타입 지정\n",
    "df.describe(include=['float64','bool','object'])"
   ]
  },
  {
   "cell_type": "code",
   "execution_count": null,
   "id": "afa849da",
   "metadata": {},
   "outputs": [],
   "source": [
    "df.describe(include='all') # 모든 타입의 ㄴ열의 요약 통계량 출력"
   ]
  },
  {
   "cell_type": "code",
   "execution_count": null,
   "id": "483d9945",
   "metadata": {},
   "outputs": [],
   "source": [
    "# exclude 매개변수를 이용해서 기본통계량 출력해서 제외할 타입 지정\n",
    "df.describe(exclude=['float64'])"
   ]
  },
  {
   "cell_type": "code",
   "execution_count": null,
   "id": "1c99c250",
   "metadata": {},
   "outputs": [],
   "source": [
    "df['c'].unique() # 특정 컬럼의 고유값들의 종류"
   ]
  },
  {
   "cell_type": "code",
   "execution_count": null,
   "id": "918fdd95",
   "metadata": {},
   "outputs": [],
   "source": [
    "# 고윳값들의 빈도\n",
    "df['c'].value_counts()"
   ]
  },
  {
   "cell_type": "markdown",
   "id": "592ac544",
   "metadata": {},
   "source": [
    "## 8.3 공분산/상관계수"
   ]
  },
  {
   "cell_type": "code",
   "execution_count": null,
   "id": "b116898d",
   "metadata": {},
   "outputs": [],
   "source": [
    "# 공분산 : (x1-x1평균)*(x2-x2평균)들의 합을  n-1로 나눈 값 : 범위가 따로 없음\n",
    "X.cov()"
   ]
  },
  {
   "cell_type": "code",
   "execution_count": null,
   "id": "9af80ad4",
   "metadata": {},
   "outputs": [],
   "source": [
    "# -1 <= 상관계수(공분/(x1의 표준편차*x2의 표준편차)) <= 1\n",
    "X.corr()"
   ]
  },
  {
   "cell_type": "markdown",
   "id": "89159990",
   "metadata": {},
   "source": [
    "https://matplotlib.org/stable/tutorials/colors/colormaps.html  (colormap) 시각화교안 21page"
   ]
  },
  {
   "cell_type": "code",
   "execution_count": null,
   "id": "7c8e9a83",
   "metadata": {},
   "outputs": [],
   "source": [
    "import matplotlib.pyplot as plt\n",
    "import seaborn as sns"
   ]
  },
  {
   "cell_type": "code",
   "execution_count": null,
   "id": "00499dcf",
   "metadata": {},
   "outputs": [],
   "source": [
    "plt.figure(figsize=(12,3))\n",
    "sns.heatmap(X.corr(), vmin=-1,vmax=1,annot=True,fmt='.2f', cmap='Greens')\n",
    "plt.show()"
   ]
  },
  {
   "cell_type": "code",
   "execution_count": null,
   "id": "6c39a176",
   "metadata": {},
   "outputs": [],
   "source": []
  }
 ],
 "metadata": {
  "kernelspec": {
   "display_name": "Python 3 (ipykernel)",
   "language": "python",
   "name": "python3"
  },
  "language_info": {
   "codemirror_mode": {
    "name": "ipython",
    "version": 3
   },
   "file_extension": ".py",
   "mimetype": "text/x-python",
   "name": "python",
   "nbconvert_exporter": "python",
   "pygments_lexer": "ipython3",
   "version": "3.10.9"
  },
  "toc": {
   "base_numbering": 1,
   "nav_menu": {},
   "number_sections": false,
   "sideBar": true,
   "skip_h1_title": false,
   "title_cell": "Table of Contents",
   "title_sidebar": "Contents",
   "toc_cell": false,
   "toc_position": {
    "height": "calc(100% - 180px)",
    "left": "10px",
    "top": "150px",
    "width": "363.809px"
   },
   "toc_section_display": true,
   "toc_window_display": true
  }
 },
 "nbformat": 4,
 "nbformat_minor": 5
}
