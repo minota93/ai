{
 "cells": [
  {
   "cell_type": "code",
   "execution_count": 1,
   "id": "c6757ccf",
   "metadata": {},
   "outputs": [
    {
     "data": {
      "text/html": [
       "\n",
       "<style>\n",
       "div.container{width:90% ! important;}\n",
       "div.cell.code_cell.rendered{width:100%}\n",
       "div.input_prompt{padding:0px}\n",
       "div.CodeMirror {font-family:Consolas ; font-size:12pt;}\n",
       "div.text_cell_render.rendered_html {font-size:12pt;}\n",
       "div.output {font-size:12pt; font-weight:bold}\n",
       "div.input {font-family:Consolas ; font-size:12pt;}\n",
       "div.prompt {min-width:70px;}\n",
       "div#toc-wrapper {padding-top:120px;}\n",
       "div.text_cell_render ul li{font-size:12pt;padding:5px;}\n",
       "table.dataframe{font-size:12px;}\n",
       "</style>\n"
      ],
      "text/plain": [
       "<IPython.core.display.HTML object>"
      ]
     },
     "metadata": {},
     "output_type": "display_data"
    }
   ],
   "source": [
    "from IPython.display import display, HTML\n",
    "display(HTML(\"\"\"\n",
    "<style>\n",
    "div.container{width:90% ! important;}\n",
    "div.cell.code_cell.rendered{width:100%}\n",
    "div.input_prompt{padding:0px}\n",
    "div.CodeMirror {font-family:Consolas ; font-size:12pt;}\n",
    "div.text_cell_render.rendered_html {font-size:12pt;}\n",
    "div.output {font-size:12pt; font-weight:bold}\n",
    "div.input {font-family:Consolas ; font-size:12pt;}\n",
    "div.prompt {min-width:70px;}\n",
    "div#toc-wrapper {padding-top:120px;}\n",
    "div.text_cell_render ul li{font-size:12pt;padding:5px;}\n",
    "table.dataframe{font-size:12px;}\n",
    "</style>\n",
    "\"\"\"))"
   ]
  },
  {
   "cell_type": "markdown",
   "id": "d942bfb0",
   "metadata": {},
   "source": [
    "<b><font size=\"6\" color=\"red\">ch.09 파일 i/o 프로그래밍</font></b>\n",
    "- 파일 : txt, pickle(머신러닝모델저장, 배열저장), csv, json, h5(딥려닝모델저장)\n",
    "# 1절 txt 파일에 데이터 저장하고 불러오기"
   ]
  },
  {
   "cell_type": "code",
   "execution_count": 8,
   "id": "95a04d78",
   "metadata": {},
   "outputs": [
    {
     "name": "stdout",
     "output_type": "stream",
     "text": [
      "쓰기 가능한지 : True\n"
     ]
    }
   ],
   "source": [
    "# mode = 'r' 또는 'rt' : 텍스트 읽기모드로 열기. 파일이 없을 경우 예외발생,\n",
    "# mode = 'w' 또는 'wt' : 텍스트 쓰기모드로 열기. 폴더가 없을 경우 예외 발생. \n",
    "                    #   파일이 없을 경우 파일 생성, 파일이 있으면 덮어씀\n",
    "# mode = 'a' 또는 'at': 텍스터 쓰기모드로 열기. 폴더가 없을 경우 예외 발생\n",
    "                    #   파일이 없을 경우 파일 생성, 파일이 있으면 뒤에 append\n",
    "f = open('data/ch09.txt','w') # encoding='cp949'(win)\n",
    "print('쓰기 가능한지 :',f.writable())\n",
    "f.write('Hello\\nWorld\\n')\n",
    "f.close()"
   ]
  },
  {
   "cell_type": "code",
   "execution_count": 10,
   "id": "dc0b9c3d",
   "metadata": {},
   "outputs": [
    {
     "name": "stdout",
     "output_type": "stream",
     "text": [
      "쓰기 가능한지 : True\n"
     ]
    }
   ],
   "source": [
    "# with구문을 사용하면 매번 close()하는 코드가 불필요\n",
    "with open('data/ch09.txt', 'w') as f:\n",
    "    print('쓰기 가능한지 :',f.writable())\n",
    "    f.write('Python is easy. \\nPython is smart.\\n')"
   ]
  },
  {
   "cell_type": "code",
   "execution_count": 12,
   "id": "05ce528b",
   "metadata": {},
   "outputs": [
    {
     "name": "stdout",
     "output_type": "stream",
     "text": [
      "프린트 함수로 파일 쓰기가 가능합니다.-콘솔출력\n"
     ]
    }
   ],
   "source": [
    "with open('data/ch09.txt','a') as f: #cp949\n",
    "    print('프린트 함수로 파일 쓰기가 가능합니다.-파일출력',file=f)\n",
    "    print('프린트 함수로 파일 쓰기가 가능합니다.-콘솔출력')\n",
    "#     f.write()"
   ]
  },
  {
   "cell_type": "markdown",
   "id": "21fad3dd",
   "metadata": {},
   "source": [
    "- 한글 읽기/쓰기\n",
    "    * cp949(한글완성형확장형) : open함수의 기본 인코딩(win)\n",
    "    * utf-8(한글조합형) : 주피터노트북에서 열기가능"
   ]
  },
  {
   "cell_type": "code",
   "execution_count": 13,
   "id": "348ee0a9",
   "metadata": {},
   "outputs": [],
   "source": [
    "with open('data/ch09.txt','w',encoding='utf-8') as f:\n",
    "    # 방법1\n",
    "    f.write('홍길동, 30, 서울\\n')\n",
    "    f.write('김길동, 20, 수원\\n')\n",
    "    # 방법2\n",
    "    textlist=['홍길동, 30, 서울\\n','김길동, 20, 부산\\n']\n",
    "    for line in textlist:\n",
    "        f.write(line)\n",
    "    # 방법3\n",
    "    f.writelines(textlist) # 리스트를 한꺼번에 write"
   ]
  },
  {
   "cell_type": "code",
   "execution_count": 14,
   "id": "68b0d876",
   "metadata": {},
   "outputs": [
    {
     "data": {
      "text/plain": [
       "'홍길동, 30, 서울\\n김길동, 20, 수원\\n홍길동, 30, 서울\\n김길동, 20, 부산\\n홍길동, 30, 서울\\n김길동, 20, 부산\\n'"
      ]
     },
     "execution_count": 14,
     "metadata": {},
     "output_type": "execute_result"
    }
   ],
   "source": [
    "# 파일을 한꺼번에 읽어오기\n",
    "with open('data/ch09.txt','rt',encoding='utf-8') as f:\n",
    "    filecontent = f.read()\n",
    "filecontent"
   ]
  },
  {
   "cell_type": "code",
   "execution_count": 17,
   "id": "ce44c874",
   "metadata": {},
   "outputs": [
    {
     "name": "stdout",
     "output_type": "stream",
     "text": [
      "홍길동, 30, 서울\n",
      "김길동, 20, 수원\n",
      "홍길동, 30, 서울\n",
      "김길동, 20, 부산\n",
      "홍길동, 30, 서울\n",
      "김길동, 20, 부산\n"
     ]
    }
   ],
   "source": [
    "# 파일을 한줄 읽고 출력하고, 한줄읽고 출력,.....\n",
    "with open('data/ch09.txt','rt',encoding='utf-8') as txtfile:\n",
    "    line = txtfile.readline()\n",
    "    while line != '':\n",
    "        print(line, end='') # line 에 \\n이 포함되어 있어 출력시 즉시 개행\n",
    "        line =txtfile.readline()"
   ]
  },
  {
   "cell_type": "code",
   "execution_count": 18,
   "id": "ab0209dd",
   "metadata": {},
   "outputs": [
    {
     "name": "stdout",
     "output_type": "stream",
     "text": [
      "['홍길동, 30, 서울\\n', '김길동, 20, 수원\\n', '홍길동, 30, 서울\\n', '김길동, 20, 부산\\n', '홍길동, 30, 서울\\n', '김길동, 20, 부산\\n']\n"
     ]
    }
   ],
   "source": [
    "# 파일을 한꺼번에 여러 줄 읽어, 한줄씩 list 담아 retrurn\n",
    "with open('data/ch09.txt','rt',encoding='utf-8') as txtfile:\n",
    "    lines=txtfile.readlines()\n",
    "print(lines)"
   ]
  },
  {
   "cell_type": "code",
   "execution_count": 20,
   "id": "9a5639c7",
   "metadata": {},
   "outputs": [
    {
     "name": "stdout",
     "output_type": "stream",
     "text": [
      "홍길동, 30, 서울\n",
      "김길동, 20, 수원\n",
      "홍길동, 30, 서울\n",
      "김길동, 20, 부산\n",
      "홍길동, 30, 서울\n",
      "김길동, 20, 부산\n"
     ]
    }
   ],
   "source": [
    "for line in lines:\n",
    "    print(line,end ='')"
   ]
  },
  {
   "cell_type": "markdown",
   "id": "99049316",
   "metadata": {},
   "source": [
    "# 2절 피클을 이욜한 객체 저장 및 불러오기\n",
    "- 머신러닝 모델저장, 베열저장, 객체저장\n",
    "## 2.1 형식이 있는 텍스트 데이터 불러오기"
   ]
  },
  {
   "cell_type": "code",
   "execution_count": 28,
   "id": "09b4ff0d",
   "metadata": {},
   "outputs": [
    {
     "name": "stdout",
     "output_type": "stream",
     "text": [
      "{'name': '홍길동'} {'age': 20} {'email': 'kildong@hong.com'} {'address': '서울시 관악구'}\n",
      "{'name': '홍길숙'} {'age': 25} {'email': 'kilsuk1@hong.com'} {'address': '서울시 영등포구'}\n",
      "{'name': '신길동'} {'age': 30} {'email': 'shinkil@hong.com'} {'address': '서울시 동작구'}\n"
     ]
    }
   ],
   "source": [
    "with open('data/ch09_member.txt', 'r', encoding='utf-8') as f:\n",
    "    lines= f.readlines()\n",
    "# print(lines)\n",
    "for line in lines:\n",
    "    #print(line)\n",
    "    data = line.split(', ')\n",
    "    #print(data)\n",
    "    name=data[0]\n",
    "    age=int(data[1])\n",
    "    email=data[2]\n",
    "    address=data[3].strip()\n",
    "    print({'name' : name},{'age' : age},{'email' : email}, {'address' : address})"
   ]
  },
  {
   "cell_type": "code",
   "execution_count": 43,
   "id": "59ef7749",
   "metadata": {},
   "outputs": [],
   "source": [
    "class Member:\n",
    "    def __init__(self, name, age, email, address):\n",
    "        self.name=name\n",
    "        self.age=age\n",
    "        self.email=email\n",
    "        self.address=address\n",
    "    def __str__(self):\n",
    "        return '{},{},{},{}'.format(self.name, self.age, self.email, self.address)\n",
    "#     def __eq__(self,other):\n",
    "#         return self.name == other.name and \\\n",
    "#                 self.age == other.age and \\\n",
    "#                 self.email == other.email and\\\n",
    "#                 self.address == other.address\n",
    "    def __eq__(self,other):\n",
    "        return self.__str__() == other.__str__()\n",
    "    def as_dict(self):\n",
    "        '객체를 딕셔너리로 바꿔 return(json파일 저장시 필요)'\n",
    "        return self.__dict__\n",
    "#         return {'name':self.name\n",
    "#                  'age':self.age\n",
    "#                   'emali':self.email\n",
    "#                   'address': self.address}"
   ]
  },
  {
   "cell_type": "code",
   "execution_count": 48,
   "id": "5b5f229b",
   "metadata": {},
   "outputs": [
    {
     "name": "stdout",
     "output_type": "stream",
     "text": [
      "신길동,30,shinkil@hong.com,서울시 동작구\n",
      "신길동,30,shinkil@hong.com,서울시 동작구\n",
      "True\n",
      "True\n",
      "{'name': '신길동', 'age': 30, 'email': 'shinkil@hong.com', 'address': '서울시 동작구'}\n",
      "신길동,30,shinkil@hong.com,서울시 동작구\n"
     ]
    }
   ],
   "source": [
    "member1=Member('신길동', 30,  'shinkil@hong.com', '서울시 동작구')\n",
    "member2=Member('신길동', 30,  'shinkil@hong.com', '서울시 동작구')\n",
    "print(member1)\n",
    "print(member2)\n",
    "print(member2==member1)\n",
    "print(member2.__eq__(member1))\n",
    "print(member1.__dict__)\n",
    "print(member2.as_dict)"
   ]
  },
  {
   "cell_type": "markdown",
   "id": "8aa0ef82",
   "metadata": {},
   "source": [
    "## 2.2 피클링\n",
    "- 객체리스트 -> 피클파일로 쓰기\n",
    "- 피클파일 -> 객체리스트로 읽기"
   ]
  },
  {
   "cell_type": "code",
   "execution_count": 50,
   "id": "777c5ee4",
   "metadata": {},
   "outputs": [],
   "source": [
    "# ch09._member.txt 파일 -> 객체list, 딕셔너리list로 읽어오기\n",
    "member_list=[] # member 객체 list\n",
    "dict_list =[] # 딕셔너리 list\n",
    "with open('data/ch09_member.txt',encoding='UTF8') as f:\n",
    "    lines = f.readlines()\n",
    "for line in lines:\n",
    "    data=line.split(', ')\n",
    "    data = [item.strip() for item in data]\n",
    "    name = data[0]\n",
    "    age = int(data[1])\n",
    "    email = data[2]\n",
    "    address = data[3]\n",
    "    member=Member(name,age,email,address)\n",
    "    member_list.append(member)\n",
    "    dict_list.append(member)"
   ]
  },
  {
   "cell_type": "code",
   "execution_count": 51,
   "id": "85d40c35",
   "metadata": {},
   "outputs": [
    {
     "name": "stdout",
     "output_type": "stream",
     "text": [
      "홍길동,20,kildong@hong.com,서울시 관악구\n",
      "홍길숙,25,kilsuk1@hong.com,서울시 영등포구\n",
      "신길동,30,shinkil@hong.com,서울시 동작구\n"
     ]
    }
   ],
   "source": [
    "for member in member_list: # 객체 list\n",
    "    print(member)"
   ]
  },
  {
   "cell_type": "code",
   "execution_count": 52,
   "id": "189fa34a",
   "metadata": {},
   "outputs": [],
   "source": [
    "# 피클링(확장자 : pkl, pickle, data)을 이용한 객체를 파일에 저장하기\n",
    "import pickle\n",
    "with open('data/ch09_member.pkl','wb') as f:\n",
    "    pickle.dump(member_list,f)"
   ]
  },
  {
   "cell_type": "code",
   "execution_count": 53,
   "id": "36fe8007",
   "metadata": {},
   "outputs": [],
   "source": [
    "# 피클링을 이용한 파일을 객체리스트로 읽기\n",
    "with open('data/ch09_member.pkl','rb') as f:\n",
    "    load_member_list = pickle.load(f)"
   ]
  },
  {
   "cell_type": "code",
   "execution_count": 55,
   "id": "15e8f436",
   "metadata": {},
   "outputs": [
    {
     "data": {
      "text/plain": [
       "(2089424982400, 2089426503936)"
      ]
     },
     "execution_count": 55,
     "metadata": {},
     "output_type": "execute_result"
    }
   ],
   "source": [
    "id(member_list), id(load_member_list)"
   ]
  },
  {
   "cell_type": "code",
   "execution_count": 57,
   "id": "48f3e28f",
   "metadata": {},
   "outputs": [
    {
     "name": "stdout",
     "output_type": "stream",
     "text": [
      "0 번째 비교 : True\n",
      "1 번째 비교 : True\n",
      "2 번째 비교 : True\n"
     ]
    }
   ],
   "source": [
    "for idx in range(len(member_list)):\n",
    "    print(idx, '번째 비교 :',(member_list[idx]==load_member_list[idx]))"
   ]
  },
  {
   "cell_type": "code",
   "execution_count": 60,
   "id": "7b57a213",
   "metadata": {},
   "outputs": [
    {
     "name": "stdout",
     "output_type": "stream",
     "text": [
      "0 번째 비교: True\n",
      "1 번째 비교: True\n",
      "2 번째 비교: True\n"
     ]
    }
   ],
   "source": [
    "for idx, (member, load_member) in enumerate(zip(member_list,load_member_list)):\n",
    "    print(idx, '번째 비교:', member==load_member)"
   ]
  },
  {
   "cell_type": "code",
   "execution_count": 61,
   "id": "231147c7",
   "metadata": {},
   "outputs": [
    {
     "data": {
      "text/plain": [
       "[True, True, True]"
      ]
     },
     "execution_count": 61,
     "metadata": {},
     "output_type": "execute_result"
    }
   ],
   "source": [
    "result=[] # 비교결과(True/False)를 append\n",
    "for member, load_member in zip(member_list,load_member_list):\n",
    "    result.append(member==load_member)\n",
    "result"
   ]
  },
  {
   "cell_type": "code",
   "execution_count": 62,
   "id": "2d6f7278",
   "metadata": {},
   "outputs": [
    {
     "data": {
      "text/plain": [
       "True"
      ]
     },
     "execution_count": 62,
     "metadata": {},
     "output_type": "execute_result"
    }
   ],
   "source": [
    "all(result) #모든 요소들이 True 인지 여부"
   ]
  },
  {
   "cell_type": "code",
   "execution_count": 64,
   "id": "13ec6bcf",
   "metadata": {},
   "outputs": [
    {
     "data": {
      "text/plain": [
       "False"
      ]
     },
     "execution_count": 64,
     "metadata": {},
     "output_type": "execute_result"
    }
   ],
   "source": [
    "all([True,True,True,True,False])"
   ]
  },
  {
   "cell_type": "markdown",
   "id": "35b82cb2",
   "metadata": {},
   "source": [
    "# 3절 CSV파일 읽기/쓰기\n",
    "- CSV파일의 자료를 리스트 데이터로 읽고 쓰기 (3.1과 3.2)\n",
    "- CSV파일의 자료를 딕셔너리 데이터로 읽고 쓰기 (3.3과 3.4)\n",
    "## 3.1 reader"
   ]
  },
  {
   "cell_type": "code",
   "execution_count": 70,
   "id": "e1f80514",
   "metadata": {},
   "outputs": [
    {
     "data": {
      "text/plain": [
       "[['홍길동', '20', 'kildong@hong.com', '서울시 관악구'],\n",
       " ['김길동', '40', 'kimdong@hong.com', '서울시 영등포구'],\n",
       " ['신길동', '30', 'sindong@hong.com', '서울시 동작구']]"
      ]
     },
     "execution_count": 70,
     "metadata": {},
     "output_type": "execute_result"
    }
   ],
   "source": [
    "import csv\n",
    "with open('data/ch09_member1.csv', 'r', encoding='utf-8') as f:\n",
    "    reader = csv.reader(f)\n",
    "    result=list(reader)\n",
    "result"
   ]
  },
  {
   "cell_type": "code",
   "execution_count": 71,
   "id": "0a5c8e48",
   "metadata": {},
   "outputs": [
    {
     "name": "stdout",
     "output_type": "stream",
     "text": [
      "['홍길동', '20', 'kildong@hong.com', '서울시 관악구', '']\n",
      "['김길동', '40', 'kimdong@hong.com', '서울시 영등포구', '팀장']\n",
      "['신길동', '30', 'sindong@hong.com', '서울시 동작구', '']\n"
     ]
    }
   ],
   "source": [
    "with open('data/ch09_member1-cp.csv','r') as f:\n",
    "    reader = csv.reader(f)\n",
    "    for row in reader:\n",
    "        print(row)"
   ]
  },
  {
   "cell_type": "code",
   "execution_count": 74,
   "id": "f450e021",
   "metadata": {},
   "outputs": [
    {
     "name": "stdout",
     "output_type": "stream",
     "text": [
      "['홍길동', 20.0, 'kildong@hong.com', '서울시 관악구']\n",
      "['김길동', 40.0, 'kimdong@hong.com', '서울시 영등포구']\n",
      "['신길동', 30.0, 'sindong@hong.com', '서울시 동작구']\n"
     ]
    }
   ],
   "source": [
    "# \"\"(쌍따옴표)가 없는 데이터는 numeric으로 \n",
    "with open('data/ch09_member1.csv','r', encoding='utf-8') as f:\n",
    "    reader = csv.reader(f, quoting=csv.QUOTE_NONNUMERIC)\n",
    "    for row in reader:\n",
    "        print(row)"
   ]
  },
  {
   "cell_type": "markdown",
   "id": "8d26e91a",
   "metadata": {},
   "source": [
    "## 3.2 writer\n",
    "- list -> csv로 저장"
   ]
  },
  {
   "cell_type": "code",
   "execution_count": 77,
   "id": "077a9d75",
   "metadata": {},
   "outputs": [],
   "source": [
    "user_list=[['신길동', 30.0, 'sindong@hong.com', '서울시 관악구'],\n",
    "          ['홍길동', 20.0, 'sindong@hong.com', '서울시 동작구'],\n",
    "          ['박길동', 25.0, 'sindong@hong.com', '서울시 서초구']]\n"
   ]
  },
  {
   "cell_type": "code",
   "execution_count": 79,
   "id": "53ef4145",
   "metadata": {},
   "outputs": [],
   "source": [
    "# newline='' 옵션 뺴면 개행이 2번(python 3.10)\n",
    "try:\n",
    "    with open('data/ch09_member2_write.csv','wt', newline='') as f:\n",
    "        writer = csv.writer(f)\n",
    "#         for user in user_list:\n",
    "#             write.writerow(user)\n",
    "        writer.writerows(user_list)\n",
    "except FileNotFoundError as e:\n",
    "    print(e)"
   ]
  },
  {
   "cell_type": "markdown",
   "id": "9909b92b",
   "metadata": {},
   "source": [
    "## 3.3 DictReader\n",
    "- csv 파일을 딕셔너리 데이터로 읽기"
   ]
  },
  {
   "cell_type": "code",
   "execution_count": 81,
   "id": "d20712c8",
   "metadata": {},
   "outputs": [
    {
     "data": {
      "text/plain": [
       "[{'name': '홍길동',\n",
       "  'age': '20',\n",
       "  'email': 'h@h.com',\n",
       "  'address': '서울시 관악구',\n",
       "  'job': None},\n",
       " {'name': '신길동',\n",
       "  'age': '40',\n",
       "  'email': 's@h.com',\n",
       "  'address': '서울시 영등포구',\n",
       "  'job': '팀장'},\n",
       " {'name': '김길동',\n",
       "  'age': '30',\n",
       "  'email': 'k@h.com',\n",
       "  'address': '서울시 동작구',\n",
       "  'job': None}]"
      ]
     },
     "execution_count": 81,
     "metadata": {},
     "output_type": "execute_result"
    }
   ],
   "source": [
    "import csv\n",
    "# header가 있는 csv파일을 딕셔너리로 읽기(ch09_member.csv)\n",
    "with open('data/ch09_member3.csv','r',encoding='utf-8') as f:\n",
    "    dic_reader=csv.DictReader(f)\n",
    "    result = list(dic_reader)\n",
    "result"
   ]
  },
  {
   "cell_type": "code",
   "execution_count": 82,
   "id": "9a7657a9",
   "metadata": {},
   "outputs": [
    {
     "name": "stdout",
     "output_type": "stream",
     "text": [
      "{'name': '홍길동', 'age': '20', 'email': 'h@h.com', 'address': '서울시 관악구', 'job': '없음'}\n",
      "{'name': '신길동', 'age': '40', 'email': 's@h.com', 'address': '서울시 영등포구', 'job': '팀장'}\n",
      "{'name': '김길동', 'age': '30', 'email': 'k@h.com', 'address': '서울시 동작구', 'job': '없음'}\n"
     ]
    }
   ],
   "source": [
    "# header가 있는 csv파일을 딕셔너리로 읽기(ch09_member.csv)\n",
    "with open('data/ch09_member3.csv','r',encoding='utf-8') as f:\n",
    "    dic_reader=csv.DictReader(f, restval=\"없음\")\n",
    "    for row in dic_reader:\n",
    "        print(row)"
   ]
  },
  {
   "cell_type": "code",
   "execution_count": 84,
   "id": "863501c9",
   "metadata": {},
   "outputs": [
    {
     "data": {
      "text/html": [
       "<div>\n",
       "<style scoped>\n",
       "    .dataframe tbody tr th:only-of-type {\n",
       "        vertical-align: middle;\n",
       "    }\n",
       "\n",
       "    .dataframe tbody tr th {\n",
       "        vertical-align: top;\n",
       "    }\n",
       "\n",
       "    .dataframe thead th {\n",
       "        text-align: right;\n",
       "    }\n",
       "</style>\n",
       "<table border=\"1\" class=\"dataframe\">\n",
       "  <thead>\n",
       "    <tr style=\"text-align: right;\">\n",
       "      <th></th>\n",
       "      <th>name</th>\n",
       "      <th>age</th>\n",
       "      <th>email</th>\n",
       "      <th>address</th>\n",
       "      <th>job</th>\n",
       "    </tr>\n",
       "  </thead>\n",
       "  <tbody>\n",
       "    <tr>\n",
       "      <th>0</th>\n",
       "      <td>홍길동</td>\n",
       "      <td>20</td>\n",
       "      <td>h@h.com</td>\n",
       "      <td>서울시 관악구</td>\n",
       "      <td>NaN</td>\n",
       "    </tr>\n",
       "    <tr>\n",
       "      <th>1</th>\n",
       "      <td>신길동</td>\n",
       "      <td>40</td>\n",
       "      <td>s@h.com</td>\n",
       "      <td>서울시 영등포구</td>\n",
       "      <td>팀장</td>\n",
       "    </tr>\n",
       "    <tr>\n",
       "      <th>2</th>\n",
       "      <td>김길동</td>\n",
       "      <td>30</td>\n",
       "      <td>k@h.com</td>\n",
       "      <td>서울시 동작구</td>\n",
       "      <td>NaN</td>\n",
       "    </tr>\n",
       "  </tbody>\n",
       "</table>\n",
       "</div>"
      ],
      "text/plain": [
       "  name  age    email   address  job\n",
       "0  홍길동   20  h@h.com   서울시 관악구  NaN\n",
       "1  신길동   40  s@h.com  서울시 영등포구   팀장\n",
       "2  김길동   30  k@h.com   서울시 동작구  NaN"
      ]
     },
     "execution_count": 84,
     "metadata": {},
     "output_type": "execute_result"
    }
   ],
   "source": [
    "# csv 파일을 데이터프레임 데이터로 읽기\n",
    "import pandas as pd\n",
    "members = pd.read_csv('data/ch09_member3.csv') # 기본 인코딩 방식이 utf-8\n",
    "members"
   ]
  },
  {
   "cell_type": "code",
   "execution_count": 85,
   "id": "f7bd2504",
   "metadata": {},
   "outputs": [
    {
     "data": {
      "text/plain": [
       "pandas.core.frame.DataFrame"
      ]
     },
     "execution_count": 85,
     "metadata": {},
     "output_type": "execute_result"
    }
   ],
   "source": [
    "type(members)"
   ]
  },
  {
   "cell_type": "code",
   "execution_count": 86,
   "id": "9a830e87",
   "metadata": {},
   "outputs": [
    {
     "data": {
      "text/html": [
       "<div>\n",
       "<style scoped>\n",
       "    .dataframe tbody tr th:only-of-type {\n",
       "        vertical-align: middle;\n",
       "    }\n",
       "\n",
       "    .dataframe tbody tr th {\n",
       "        vertical-align: top;\n",
       "    }\n",
       "\n",
       "    .dataframe thead th {\n",
       "        text-align: right;\n",
       "    }\n",
       "</style>\n",
       "<table border=\"1\" class=\"dataframe\">\n",
       "  <thead>\n",
       "    <tr style=\"text-align: right;\">\n",
       "      <th></th>\n",
       "      <th>name</th>\n",
       "      <th>age</th>\n",
       "      <th>email</th>\n",
       "      <th>address</th>\n",
       "      <th>job</th>\n",
       "    </tr>\n",
       "  </thead>\n",
       "  <tbody>\n",
       "    <tr>\n",
       "      <th>0</th>\n",
       "      <td>홍길동</td>\n",
       "      <td>20</td>\n",
       "      <td>h@h.com</td>\n",
       "      <td>서울시 관악구</td>\n",
       "      <td>None</td>\n",
       "    </tr>\n",
       "    <tr>\n",
       "      <th>1</th>\n",
       "      <td>신길동</td>\n",
       "      <td>40</td>\n",
       "      <td>s@h.com</td>\n",
       "      <td>서울시 영등포구</td>\n",
       "      <td>팀장</td>\n",
       "    </tr>\n",
       "    <tr>\n",
       "      <th>2</th>\n",
       "      <td>김길동</td>\n",
       "      <td>30</td>\n",
       "      <td>k@h.com</td>\n",
       "      <td>서울시 동작구</td>\n",
       "      <td>None</td>\n",
       "    </tr>\n",
       "  </tbody>\n",
       "</table>\n",
       "</div>"
      ],
      "text/plain": [
       "  name age    email   address   job\n",
       "0  홍길동  20  h@h.com   서울시 관악구  None\n",
       "1  신길동  40  s@h.com  서울시 영등포구    팀장\n",
       "2  김길동  30  k@h.com   서울시 동작구  None"
      ]
     },
     "execution_count": 86,
     "metadata": {},
     "output_type": "execute_result"
    }
   ],
   "source": [
    "pd.DataFrame(data=result)"
   ]
  },
  {
   "cell_type": "code",
   "execution_count": 91,
   "id": "21071715",
   "metadata": {},
   "outputs": [
    {
     "name": "stdout",
     "output_type": "stream",
     "text": [
      "{'Name': '홍길동', 'Age': '20', 'Email': 'kildong@hong.com', 'Address': '서울시 관악구', 'Job': ''}\n",
      "{'Name': '김길동', 'Age': '40', 'Email': 'kimdong@hong.com', 'Address': '서울시 영등포구', 'Job': '팀장'}\n",
      "{'Name': '신길동', 'Age': '30', 'Email': 'sindong@hong.com', 'Address': '서울시 동작구', 'Job': ''}\n"
     ]
    }
   ],
   "source": [
    "# header가 없는 CSV파일을 딕셔너리 데이터로 읽기(ch09_member1-cp.csv)\n",
    "with open('data/ch09_member1-cp.csv', 'r') as f:\n",
    "    dict_reader = csv.DictReader(f, fieldnames=['Name','Age','Email','Address','Job'])\n",
    "    for row in dict_reader:\n",
    "        print(row)"
   ]
  },
  {
   "cell_type": "code",
   "execution_count": 90,
   "id": "5cfd81c5",
   "metadata": {},
   "outputs": [
    {
     "name": "stdout",
     "output_type": "stream",
     "text": [
      "{'Name': '홍길동', 'Age': '20', 'Email': 'kildong@hong.com', 'Address': '서울시 관악구', 'Job': ['']}\n",
      "{'Name': '김길동', 'Age': '40', 'Email': 'kimdong@hong.com', 'Address': '서울시 영등포구', 'Job': ['팀장']}\n",
      "{'Name': '신길동', 'Age': '30', 'Email': 'sindong@hong.com', 'Address': '서울시 동작구', 'Job': ['']}\n"
     ]
    }
   ],
   "source": [
    "# header가 없는 CSV파일을 딕셔너리 데이터로 읽기(ch09_member1-cp.csv)\n",
    "with open('data/ch09_member1-cp.csv', 'r') as f:\n",
    "    dict_reader = csv.DictReader(f, fieldnames=['Name','Age','Email','Address'], restkey='Job')\n",
    "    for row in dict_reader:\n",
    "        print(row)"
   ]
  },
  {
   "cell_type": "markdown",
   "id": "388c3024",
   "metadata": {},
   "source": [
    "## 3.4 DictWriter\n",
    "- 딕셔너리 데이터(딕셔너리 list)를 csv 파일로 쓰기"
   ]
  },
  {
   "cell_type": "code",
   "execution_count": 92,
   "id": "2c396a68",
   "metadata": {},
   "outputs": [
    {
     "data": {
      "text/plain": [
       "[{'Name': '신길동', 'Age': '30', 'Email': 'sindong@hong.com', 'Address': '서울'},\n",
       " {'Name': '김길동', 'Age': '40', 'Email': 'kimdong@hong.com', 'Address': '수원'},\n",
       " {'Name': '홍길동', 'Age': '20', 'Email': 'kildong@hong.com', 'Address': '안양'}]"
      ]
     },
     "execution_count": 92,
     "metadata": {},
     "output_type": "execute_result"
    }
   ],
   "source": [
    "user1={'Name': '신길동', 'Age': '30', 'Email': 'sindong@hong.com', 'Address': '서울'}\n",
    "user2={'Name': '김길동', 'Age': '40', 'Email': 'kimdong@hong.com', 'Address': '수원'}\n",
    "user3={'Name': '홍길동', 'Age': '20', 'Email': 'kildong@hong.com', 'Address': '안양'}\n",
    "user_list=[user1,user2,user3]\n",
    "user_list"
   ]
  },
  {
   "cell_type": "code",
   "execution_count": 95,
   "id": "5a8e1932",
   "metadata": {},
   "outputs": [
    {
     "data": {
      "text/plain": [
       "['Name', 'Age', 'Email', 'Address']"
      ]
     },
     "execution_count": 95,
     "metadata": {},
     "output_type": "execute_result"
    }
   ],
   "source": [
    "fieldnames = list(user1.keys())\n",
    "fieldnames"
   ]
  },
  {
   "cell_type": "code",
   "execution_count": 96,
   "id": "65e575cb",
   "metadata": {},
   "outputs": [],
   "source": [
    "with open('data/ch09_member4.csv','w',encoding='utf-8',newline='') as f:\n",
    "    dict_writer = csv.DictWriter(f,fieldnames=fieldnames)\n",
    "    dict_writer.writeheader() #header 한 줄 쓰기\n",
    "    dict_writer.writerows(user_list)"
   ]
  },
  {
   "cell_type": "markdown",
   "id": "c877a4f0",
   "metadata": {},
   "source": [
    "# 4절 JSON 파일에 저장하고 불러오기(dump,load)\n",
    "```\n",
    "[{'title':'국가정보원 화재','url':'http://~','content': ~ }\n",
    "{'title':'국가정보원 화재','url':'http://~','content': ~ }\n",
    "{'title':'국가정보원 화재','url':'http://~','content': ~ }]\n",
    "```\n",
    "## 4.1 JSON dump(파일에 저장)\n",
    "### (1) 딕셔너리 리스트를 json파일로 저장\n",
    "### (2) 객체 리스트를 json파일로 읽기(객체를 딕셔러리로 바꾸는 함수가 필요)"
   ]
  },
  {
   "cell_type": "code",
   "execution_count": 97,
   "id": "75f7c8a0",
   "metadata": {},
   "outputs": [
    {
     "data": {
      "text/plain": [
       "[{'Name': '신길동', 'Age': 30, 'Email': 'sindong@hong.com', 'Address': '서울'},\n",
       " {'Name': '김길동', 'Age': 40, 'Email': 'kimdong@hong.com', 'Address': '부산'},\n",
       " {'Name': '홍길동', 'Age': 20, 'Email': 'kildong@hong.com', 'Address': '대전'}]"
      ]
     },
     "execution_count": 97,
     "metadata": {},
     "output_type": "execute_result"
    }
   ],
   "source": [
    "data=[{'Name': '신길동', 'Age': 30, 'Email': 'sindong@hong.com', 'Address': '서울'},\n",
    " {'Name': '김길동', 'Age': 40, 'Email': 'kimdong@hong.com', 'Address': '부산'},\n",
    " {'Name': '홍길동', 'Age': 20, 'Email': 'kildong@hong.com', 'Address': '대전'}]\n",
    "data"
   ]
  },
  {
   "cell_type": "code",
   "execution_count": 123,
   "id": "d29de0cb",
   "metadata": {},
   "outputs": [],
   "source": [
    "# ensure_ascii 옵션의 역할 : ASCII 코드를 넘어선 문자를 어껗게 처리할지\n",
    "# 기본값(True) : ASCII 코드 범위를 넘어선 굴자는 유니코드로 저장\n",
    "# False : 비ASCII 문자는 원래 형태 그대로 저장\n",
    "import json\n",
    "with open('data/ch09_member1.json','w') as jsonfile:\n",
    "    json.dump(data, # 딕셔너리 리스트\n",
    "             jsonfile, # 파일 스트림\n",
    "             ensure_ascii=False,\n",
    "             indent='  ')"
   ]
  },
  {
   "cell_type": "markdown",
   "id": "bf07f10d",
   "metadata": {},
   "source": [
    "### (2) 객체 list를 json파일로 저장"
   ]
  },
  {
   "cell_type": "code",
   "execution_count": 103,
   "id": "c3537cec",
   "metadata": {},
   "outputs": [],
   "source": [
    "class Member:\n",
    "    def __init__(self, name, age, email, address):\n",
    "        self.name=name\n",
    "        self.age=age\n",
    "        self.email=email\n",
    "        self.address=address\n",
    "    def __str__(self):\n",
    "        return '{},{},{},{}'.format(self.name, self.age, self.email, self.address)\n",
    "    def as_dict(self):\n",
    "        '객체를 딕셔너리로 바꿔 return(json파일 저장시 필요)'\n",
    "        return self.__dict__"
   ]
  },
  {
   "cell_type": "code",
   "execution_count": 104,
   "id": "cdbfe090",
   "metadata": {},
   "outputs": [
    {
     "data": {
      "text/plain": [
       "['홍길동,30,h@h.com,서울', '마길동,25,m@h.com,하남', '박길동,30,p@h.com,대전']"
      ]
     },
     "execution_count": 104,
     "metadata": {},
     "output_type": "execute_result"
    }
   ],
   "source": [
    "member_list = [Member('홍길동', 30, 'h@h.com','서울'),\n",
    "              Member('마길동', 25, 'm@h.com','하남'),\n",
    "              Member('박길동', 30, 'p@h.com','대전')]\n",
    "[member.__str__() for member in member_list]"
   ]
  },
  {
   "cell_type": "code",
   "execution_count": 124,
   "id": "5f7d6b7b",
   "metadata": {},
   "outputs": [],
   "source": [
    "with open('data/ch09_member2.json','w',encoding='utf-8') as jsonfile:\n",
    "    json.dump(member_list, # 저장할 리스트\n",
    "             jsonfile,\n",
    "             ensure_ascii=False,\n",
    "             indent='\\t',\n",
    "             default=Member.as_dict)"
   ]
  },
  {
   "cell_type": "markdown",
   "id": "0b466ccc",
   "metadata": {},
   "source": [
    "## 4.2 JSON load(파일읽기)\n",
    "### (1)json파일을 딕셔너리 리스트로 읽기\n",
    "### (2)json파일을 객체 리스트로 읽기(딕셔러리를 객체로 return 하는 함수가 필요)"
   ]
  },
  {
   "cell_type": "code",
   "execution_count": 108,
   "id": "9f2f91eb",
   "metadata": {},
   "outputs": [
    {
     "data": {
      "text/plain": [
       "[{'Name': '신길동', 'Age': 30, 'Email': 'sindong@hong.com', 'Address': '서울'},\n",
       " {'Name': '김길동', 'Age': 40, 'Email': 'kimdong@hong.com', 'Address': '부산'},\n",
       " {'Name': '홍길동', 'Age': 20, 'Email': 'kildong@hong.com', 'Address': '대전'}]"
      ]
     },
     "execution_count": 108,
     "metadata": {},
     "output_type": "execute_result"
    }
   ],
   "source": [
    "### (1)json파일을 딕셔너리 리스트로 읽기\n",
    "with open('data/ch09_member1.json','r') as jsonfile:\n",
    "    load_data = json.load(jsonfile)\n",
    "load_data"
   ]
  },
  {
   "cell_type": "code",
   "execution_count": 109,
   "id": "20132717",
   "metadata": {},
   "outputs": [
    {
     "data": {
      "text/plain": [
       "(list, dict)"
      ]
     },
     "execution_count": 109,
     "metadata": {},
     "output_type": "execute_result"
    }
   ],
   "source": [
    "type(load_data), type(load_data[0])"
   ]
  },
  {
   "cell_type": "code",
   "execution_count": 127,
   "id": "527519dd",
   "metadata": {},
   "outputs": [],
   "source": [
    "### (2)json파일을 객체 리스트로 읽기(딕셔러리를 객체로 return 하는 함수가 필요)\n",
    "# {'Name': '신길동', 'Age': 30, 'Email': 'sindong@hong.com', 'Address': '서울'} => member('신길동',30,'sindong@hong.com','서울')\n",
    "def as_member(dic):\n",
    "    return Member(dic.get('name'), dic.get('age'),dic.get('email'),dic.get('address'))"
   ]
  },
  {
   "cell_type": "code",
   "execution_count": 135,
   "id": "dd20bd2a",
   "metadata": {},
   "outputs": [
    {
     "name": "stdout",
     "output_type": "stream",
     "text": [
      "홍길동,30,h@h.com,서울\n",
      "마길동,25,m@h.com,하남\n",
      "박길동,30,p@h.com,대전\n"
     ]
    }
   ],
   "source": [
    "with open('data/ch09_member2.json','r',encoding='utf-8') as jsonfile:\n",
    "    load_member_list=json.load(jsonfile, \n",
    "                          object_hook=as_member) # 딕셔너리를 객체로 return 함수\n",
    "for load_member in load_member_list:\n",
    "    print(load_member)\n",
    "# [data.__str__() for data in load_member_list]"
   ]
  },
  {
   "cell_type": "code",
   "execution_count": 142,
   "id": "909b46f8",
   "metadata": {},
   "outputs": [
    {
     "name": "stdout",
     "output_type": "stream",
     "text": [
      "홍길동,30,h@h.com,서울 홍길동,30,h@h.com,서울\n",
      "마길동,25,m@h.com,하남 마길동,25,m@h.com,하남\n",
      "박길동,30,p@h.com,대전 박길동,30,p@h.com,대전\n",
      "[False, False, False]\n"
     ]
    }
   ],
   "source": [
    "#  member_list => ch09_member2.json => load_member_list\n",
    "#  member_list 와 load_member_list가 같은 내용인지 검사\n",
    "# [data.__str__() for data in member_list]\n",
    "\n",
    "result = [] # list 내 객체들 끼리 비교 결과 \n",
    "for (member,load_member) in zip(member_list, load_member_list):\n",
    "    print(member,load_member)\n",
    "    result.append(member==load_member)\n",
    "print(result)\n",
    "# print('두 객체가 일치하는 지 여부 :',all(result))"
   ]
  },
  {
   "cell_type": "code",
   "execution_count": 141,
   "id": "9ae82995",
   "metadata": {},
   "outputs": [
    {
     "data": {
      "text/plain": [
       "(array([3], dtype=int64),)"
      ]
     },
     "execution_count": 141,
     "metadata": {},
     "output_type": "execute_result"
    }
   ],
   "source": [
    "import numpy as np\n",
    "result = np.array([True, True, True, False, True])\n",
    "type(result)\n",
    "np.where(result == False)"
   ]
  },
  {
   "cell_type": "code",
   "execution_count": 137,
   "id": "bf2ae173",
   "metadata": {},
   "outputs": [
    {
     "data": {
      "text/plain": [
       "{False}"
      ]
     },
     "execution_count": 137,
     "metadata": {},
     "output_type": "execute_result"
    }
   ],
   "source": [
    "result = set() #  빈 셋 / {}: 빈 딕셔너리\n",
    "for member, load_member in zip(member_list,load_member_list):\n",
    "    result.add(member==load_member)\n",
    "result"
   ]
  },
  {
   "cell_type": "markdown",
   "id": "facc86bc",
   "metadata": {},
   "source": [
    "# 5절 HDF5 파일 쓰기/읽기\n",
    "- *.hdf5나 *.h5 파일을 볼 수 있는 hdviewer를 설치\n",
    "- 딕셔너리 리스트, 데이터프레임, 딥러닝 모델"
   ]
  },
  {
   "cell_type": "code",
   "execution_count": 3,
   "id": "bc31b148",
   "metadata": {},
   "outputs": [
    {
     "data": {
      "text/html": [
       "<div>\n",
       "<style scoped>\n",
       "    .dataframe tbody tr th:only-of-type {\n",
       "        vertical-align: middle;\n",
       "    }\n",
       "\n",
       "    .dataframe tbody tr th {\n",
       "        vertical-align: top;\n",
       "    }\n",
       "\n",
       "    .dataframe thead th {\n",
       "        text-align: right;\n",
       "    }\n",
       "</style>\n",
       "<table border=\"1\" class=\"dataframe\">\n",
       "  <thead>\n",
       "    <tr style=\"text-align: right;\">\n",
       "      <th></th>\n",
       "      <th>sepal_length</th>\n",
       "      <th>sepal_width</th>\n",
       "      <th>petal_length</th>\n",
       "      <th>petal_width</th>\n",
       "      <th>species</th>\n",
       "    </tr>\n",
       "  </thead>\n",
       "  <tbody>\n",
       "    <tr>\n",
       "      <th>0</th>\n",
       "      <td>5.1</td>\n",
       "      <td>3.5</td>\n",
       "      <td>1.4</td>\n",
       "      <td>0.2</td>\n",
       "      <td>setosa</td>\n",
       "    </tr>\n",
       "    <tr>\n",
       "      <th>1</th>\n",
       "      <td>4.9</td>\n",
       "      <td>3.0</td>\n",
       "      <td>1.4</td>\n",
       "      <td>0.2</td>\n",
       "      <td>setosa</td>\n",
       "    </tr>\n",
       "    <tr>\n",
       "      <th>2</th>\n",
       "      <td>4.7</td>\n",
       "      <td>3.2</td>\n",
       "      <td>1.3</td>\n",
       "      <td>0.2</td>\n",
       "      <td>setosa</td>\n",
       "    </tr>\n",
       "    <tr>\n",
       "      <th>3</th>\n",
       "      <td>4.6</td>\n",
       "      <td>3.1</td>\n",
       "      <td>1.5</td>\n",
       "      <td>0.2</td>\n",
       "      <td>setosa</td>\n",
       "    </tr>\n",
       "    <tr>\n",
       "      <th>4</th>\n",
       "      <td>5.0</td>\n",
       "      <td>3.6</td>\n",
       "      <td>1.4</td>\n",
       "      <td>0.2</td>\n",
       "      <td>setosa</td>\n",
       "    </tr>\n",
       "    <tr>\n",
       "      <th>...</th>\n",
       "      <td>...</td>\n",
       "      <td>...</td>\n",
       "      <td>...</td>\n",
       "      <td>...</td>\n",
       "      <td>...</td>\n",
       "    </tr>\n",
       "    <tr>\n",
       "      <th>145</th>\n",
       "      <td>6.7</td>\n",
       "      <td>3.0</td>\n",
       "      <td>5.2</td>\n",
       "      <td>2.3</td>\n",
       "      <td>virginica</td>\n",
       "    </tr>\n",
       "    <tr>\n",
       "      <th>146</th>\n",
       "      <td>6.3</td>\n",
       "      <td>2.5</td>\n",
       "      <td>5.0</td>\n",
       "      <td>1.9</td>\n",
       "      <td>virginica</td>\n",
       "    </tr>\n",
       "    <tr>\n",
       "      <th>147</th>\n",
       "      <td>6.5</td>\n",
       "      <td>3.0</td>\n",
       "      <td>5.2</td>\n",
       "      <td>2.0</td>\n",
       "      <td>virginica</td>\n",
       "    </tr>\n",
       "    <tr>\n",
       "      <th>148</th>\n",
       "      <td>6.2</td>\n",
       "      <td>3.4</td>\n",
       "      <td>5.4</td>\n",
       "      <td>2.3</td>\n",
       "      <td>virginica</td>\n",
       "    </tr>\n",
       "    <tr>\n",
       "      <th>149</th>\n",
       "      <td>5.9</td>\n",
       "      <td>3.0</td>\n",
       "      <td>5.1</td>\n",
       "      <td>1.8</td>\n",
       "      <td>virginica</td>\n",
       "    </tr>\n",
       "  </tbody>\n",
       "</table>\n",
       "<p>150 rows × 5 columns</p>\n",
       "</div>"
      ],
      "text/plain": [
       "     sepal_length  sepal_width  petal_length  petal_width    species\n",
       "0             5.1          3.5           1.4          0.2     setosa\n",
       "1             4.9          3.0           1.4          0.2     setosa\n",
       "2             4.7          3.2           1.3          0.2     setosa\n",
       "3             4.6          3.1           1.5          0.2     setosa\n",
       "4             5.0          3.6           1.4          0.2     setosa\n",
       "..            ...          ...           ...          ...        ...\n",
       "145           6.7          3.0           5.2          2.3  virginica\n",
       "146           6.3          2.5           5.0          1.9  virginica\n",
       "147           6.5          3.0           5.2          2.0  virginica\n",
       "148           6.2          3.4           5.4          2.3  virginica\n",
       "149           5.9          3.0           5.1          1.8  virginica\n",
       "\n",
       "[150 rows x 5 columns]"
      ]
     },
     "metadata": {},
     "output_type": "display_data"
    }
   ],
   "source": [
    "# seaborn은 파이썬에서 데이터 시각화를 도와주는 라이브러리. 자주 쓰이는 데이터 셋\n",
    "import seaborn as sns\n",
    "iris_df = sns.load_dataset('iris')\n",
    "iris_df # 꽃받침길이, 꽃밭침너비,꽃잎길이, 꽃잎너비, 꽃의 종"
   ]
  },
  {
   "cell_type": "code",
   "execution_count": 4,
   "id": "489682fb",
   "metadata": {},
   "outputs": [],
   "source": [
    "# 데이터 프레임을 hdf파일로 쓰기\n",
    "iris_df.to_hdf('data/ch09_irisdf.hdf5', key='iris')"
   ]
  },
  {
   "cell_type": "code",
   "execution_count": 5,
   "id": "039482a8",
   "metadata": {},
   "outputs": [
    {
     "data": {
      "text/html": [
       "<div>\n",
       "<style scoped>\n",
       "    .dataframe tbody tr th:only-of-type {\n",
       "        vertical-align: middle;\n",
       "    }\n",
       "\n",
       "    .dataframe tbody tr th {\n",
       "        vertical-align: top;\n",
       "    }\n",
       "\n",
       "    .dataframe thead th {\n",
       "        text-align: right;\n",
       "    }\n",
       "</style>\n",
       "<table border=\"1\" class=\"dataframe\">\n",
       "  <thead>\n",
       "    <tr style=\"text-align: right;\">\n",
       "      <th></th>\n",
       "      <th>sepal_length</th>\n",
       "      <th>sepal_width</th>\n",
       "      <th>petal_length</th>\n",
       "      <th>petal_width</th>\n",
       "      <th>species</th>\n",
       "    </tr>\n",
       "  </thead>\n",
       "  <tbody>\n",
       "    <tr>\n",
       "      <th>0</th>\n",
       "      <td>5.1</td>\n",
       "      <td>3.5</td>\n",
       "      <td>1.4</td>\n",
       "      <td>0.2</td>\n",
       "      <td>setosa</td>\n",
       "    </tr>\n",
       "    <tr>\n",
       "      <th>1</th>\n",
       "      <td>4.9</td>\n",
       "      <td>3.0</td>\n",
       "      <td>1.4</td>\n",
       "      <td>0.2</td>\n",
       "      <td>setosa</td>\n",
       "    </tr>\n",
       "    <tr>\n",
       "      <th>2</th>\n",
       "      <td>4.7</td>\n",
       "      <td>3.2</td>\n",
       "      <td>1.3</td>\n",
       "      <td>0.2</td>\n",
       "      <td>setosa</td>\n",
       "    </tr>\n",
       "    <tr>\n",
       "      <th>3</th>\n",
       "      <td>4.6</td>\n",
       "      <td>3.1</td>\n",
       "      <td>1.5</td>\n",
       "      <td>0.2</td>\n",
       "      <td>setosa</td>\n",
       "    </tr>\n",
       "    <tr>\n",
       "      <th>4</th>\n",
       "      <td>5.0</td>\n",
       "      <td>3.6</td>\n",
       "      <td>1.4</td>\n",
       "      <td>0.2</td>\n",
       "      <td>setosa</td>\n",
       "    </tr>\n",
       "    <tr>\n",
       "      <th>...</th>\n",
       "      <td>...</td>\n",
       "      <td>...</td>\n",
       "      <td>...</td>\n",
       "      <td>...</td>\n",
       "      <td>...</td>\n",
       "    </tr>\n",
       "    <tr>\n",
       "      <th>145</th>\n",
       "      <td>6.7</td>\n",
       "      <td>3.0</td>\n",
       "      <td>5.2</td>\n",
       "      <td>2.3</td>\n",
       "      <td>virginica</td>\n",
       "    </tr>\n",
       "    <tr>\n",
       "      <th>146</th>\n",
       "      <td>6.3</td>\n",
       "      <td>2.5</td>\n",
       "      <td>5.0</td>\n",
       "      <td>1.9</td>\n",
       "      <td>virginica</td>\n",
       "    </tr>\n",
       "    <tr>\n",
       "      <th>147</th>\n",
       "      <td>6.5</td>\n",
       "      <td>3.0</td>\n",
       "      <td>5.2</td>\n",
       "      <td>2.0</td>\n",
       "      <td>virginica</td>\n",
       "    </tr>\n",
       "    <tr>\n",
       "      <th>148</th>\n",
       "      <td>6.2</td>\n",
       "      <td>3.4</td>\n",
       "      <td>5.4</td>\n",
       "      <td>2.3</td>\n",
       "      <td>virginica</td>\n",
       "    </tr>\n",
       "    <tr>\n",
       "      <th>149</th>\n",
       "      <td>5.9</td>\n",
       "      <td>3.0</td>\n",
       "      <td>5.1</td>\n",
       "      <td>1.8</td>\n",
       "      <td>virginica</td>\n",
       "    </tr>\n",
       "  </tbody>\n",
       "</table>\n",
       "<p>150 rows × 5 columns</p>\n",
       "</div>"
      ],
      "text/plain": [
       "     sepal_length  sepal_width  petal_length  petal_width    species\n",
       "0             5.1          3.5           1.4          0.2     setosa\n",
       "1             4.9          3.0           1.4          0.2     setosa\n",
       "2             4.7          3.2           1.3          0.2     setosa\n",
       "3             4.6          3.1           1.5          0.2     setosa\n",
       "4             5.0          3.6           1.4          0.2     setosa\n",
       "..            ...          ...           ...          ...        ...\n",
       "145           6.7          3.0           5.2          2.3  virginica\n",
       "146           6.3          2.5           5.0          1.9  virginica\n",
       "147           6.5          3.0           5.2          2.0  virginica\n",
       "148           6.2          3.4           5.4          2.3  virginica\n",
       "149           5.9          3.0           5.1          1.8  virginica\n",
       "\n",
       "[150 rows x 5 columns]"
      ]
     },
     "execution_count": 5,
     "metadata": {},
     "output_type": "execute_result"
    }
   ],
   "source": [
    "# hdf 파일을 데이터프레임으로 읽어오기\n",
    "import pandas as pd\n",
    "load_iris_df=pd.read_hdf('data/ch09_irisdf.hdf5',key='iris')\n",
    "load_iris_df"
   ]
  },
  {
   "cell_type": "code",
   "execution_count": 6,
   "id": "8eb4303d",
   "metadata": {},
   "outputs": [
    {
     "data": {
      "text/plain": [
       "True"
      ]
     },
     "execution_count": 6,
     "metadata": {},
     "output_type": "execute_result"
    }
   ],
   "source": [
    "# 두 데이터프레임이 같은지 여부\n",
    "iris_df.equals(load_iris_df)"
   ]
  },
  {
   "cell_type": "markdown",
   "id": "16bbb36a",
   "metadata": {},
   "source": [
    "# 6절 연습문제 : 고객관리\n",
    "- 프로그램 시작시\n",
    "    ```\n",
    "    *data/ch09_customer.txt(프로그램 종료시 백업용 데이터) 파일에 있으면 파일을 customer_list에\n",
    "    *data/ch09_customer.txt파일이 없으면 빈 파일 생성(w모드 열어 close)\n",
    "    *data/ch09_customer.txt파일 내용\n",
    "        홍길동, 010-9999-9999, k@hong.com, 30, 5, vvip\n",
    "        유길동, 010-5432-2222, y@hong.com, 20, 2, 가칠해\n",
    "    ```"
   ]
  },
  {
   "cell_type": "code",
   "execution_count": 82,
   "id": "cdeb9c2a",
   "metadata": {},
   "outputs": [],
   "source": [
    "class Customer:\n",
    "    # 생성자\n",
    "    def __init__(self, name, phone, email, age, grade, etc):\n",
    "        self.name=name\n",
    "        self.phone=phone\n",
    "        self.email=email\n",
    "        self.age=age\n",
    "        self.grade=grade\n",
    "        self.etc=etc\n",
    "        \n",
    "    # 객체를 딕셔너리데이터로 변환\n",
    "    def as_dic(self): \n",
    "        return self.__dict__()\n",
    "    \n",
    "    # 객체를 텍스트로 return\n",
    "    def to_txt_style(self):\n",
    "        return ('{},{},{},{},{},{}'.format(self.grade,self.name,self.phone,self.email,self.age,self.etc))\n",
    "    \n",
    "    def __str__(self):\n",
    "        return('{:>5}\\t{:^3}\\t{:13}\\t{:^10}\\t{}\\t{}'.format('*'*self.grade,self.name,self.phone,self.email,self.age,self.etc))\n",
    "\n",
    "# c1=Customer('홍길동', '010-9999-9999', 'k@hong.com', 30, 5, 'vvip')\n",
    "# c2=Customer('유길동', '010-5432-2222', 'y@hong.com', 20, 2, '가칠해')\n",
    "# print(c1)\n",
    "# print(c2)"
   ]
  },
  {
   "cell_type": "code",
   "execution_count": 30,
   "id": "321a8fab",
   "metadata": {},
   "outputs": [],
   "source": [
    "# txt파일 내용 한줄(홍길동, 010-9999-9999, k@hong.com, 30, 5, vvip)을 customer 객체로 반환    \n",
    "def to_customer(text):\n",
    "    with open('data/ch09_customers.txt','r',encoding='utf-8') as f:\n",
    "        data = text.strip().split(', ')\n",
    "        name = data[0]\n",
    "        phone = data[1]\n",
    "        email = data[2]\n",
    "        age = int(data[3])\n",
    "        grade = int(data[4])\n",
    "        etc = data[5]\n",
    "        return Customer(name, phone, email, age, grade, etc)"
   ]
  },
  {
   "cell_type": "code",
   "execution_count": 31,
   "id": "186a4d23",
   "metadata": {},
   "outputs": [],
   "source": [
    "# 처음실행시 ch09_customers.txt 읽어오기, 예외가 발생되면 파일 작성\n",
    "def load_customer():\n",
    "    customer_list=[]\n",
    "#     try:\n",
    "    with open('data/ch09_customers.txt','r',encoding='utf-8') as f:\n",
    "#             line=f.readline\n",
    "#             while line !=\"\":\n",
    "#                 customer = to_customer(line)\n",
    "#                 customer_list.append(customer)\n",
    "#                 line = f.readline\n",
    "            # 방법2 여러줄을 한꺼번에 앍어서 for문으로 append 하기\n",
    "        lines = f.readlines()\n",
    "    for line in lines:\n",
    "        customer=to_customer(line)\n",
    "        customer_list.append(customer)\n",
    "#     except:\n",
    "#         with open('data/ch09_customers.txt','w',encoding='utf-8') as f:\n",
    "#             pass\n",
    "    return customer_list"
   ]
  },
  {
   "cell_type": "markdown",
   "id": "97b4be13",
   "metadata": {},
   "source": [
    "## 1.입력"
   ]
  },
  {
   "cell_type": "code",
   "execution_count": null,
   "id": "4b104917",
   "metadata": {},
   "outputs": [],
   "source": [
    "# 고객 입력\n",
    "def fn1_insert_customer_info():\n",
    "    \n",
    "    import re\n",
    "    \n",
    "    name=input('이름 : ')\n",
    "    name_patten=r'[가-힣]{2,}'\n",
    "    while not re.search(name_patten,name):\n",
    "        print('유효하지 않는 이름입니다. 다시 입력하세요(한글 2글자 이상)')\n",
    "        name=input('이름 : ')\n",
    "    phone=input('전화번호 : ')\n",
    "    email=input('이메일 : ')\n",
    "    while True:\n",
    "        try:\n",
    "            age=int(input('나이 : '))\n",
    "            if not 0 < age < 130:\n",
    "                raise Exception('나이범위이상')\n",
    "            break\n",
    "        except:\n",
    "            print('올바른 나이를 입력하세요')\n",
    "    try:\n",
    "        grade=int(input('고객등급(1~5)'))\n",
    "        if grade<1:\n",
    "            grade=1\n",
    "        elif grade>5:\n",
    "            grade=5\n",
    "    except:\n",
    "        print('유효하지 않은 등급. 기본값인 1로 초기화')\n",
    "        grade=1\n",
    "    etc=input('기타 정보 : ')\n",
    "    return Customer(name, phone, email, age, grade, etc)"
   ]
  },
  {
   "cell_type": "markdown",
   "id": "0563c160",
   "metadata": {},
   "source": [
    "## 2. 전체출력"
   ]
  },
  {
   "cell_type": "code",
   "execution_count": null,
   "id": "8c9b810a",
   "metadata": {},
   "outputs": [],
   "source": [
    "def fn2_print_customers(customer_list):\n",
    "    print(\"=\"*70)\n",
    "    print('{:^70}'.format(\"고객 정보\"))\n",
    "    print(\"-\"*70)\n",
    "    print(\"{:>5}\\t{:^3}\\t{:13}\\t{:^10}\\t{}\\t{}\".format('GRADE','이름','전화','메일','나이','기타'))\n",
    "    print(\"=\"*70)\n",
    "    for customer in customer_list:\n",
    "        print(customer)\n",
    "    print(\"=\"*70)"
   ]
  },
  {
   "cell_type": "markdown",
   "id": "1fbfbc03",
   "metadata": {},
   "source": [
    "## 3. 삭제"
   ]
  },
  {
   "cell_type": "code",
   "execution_count": null,
   "id": "6ba583d9",
   "metadata": {},
   "outputs": [],
   "source": [
    "def fn3_delete_customer(customer_list):\n",
    "    name=input('삭제할 고객 이름은?')\n",
    "    for idx, customer in enumerate(customer_list):\n",
    "        if customer.name == name:\n",
    "            # 리스트에서 customer 삭제\n",
    "            # customer_list.remove(customer)\n",
    "            # 리스트에서 idx번째 삭제\n",
    "            del customer_list[idx]\n",
    "            print(name,'님의 데이터를 삭제하였습니다.')\n",
    "            break\n",
    "    else:\n",
    "        print(name,'님의 데이터는 존재하지 않습니다.')"
   ]
  },
  {
   "cell_type": "code",
   "execution_count": 72,
   "id": "494e75ed",
   "metadata": {},
   "outputs": [],
   "source": [
    "def fn3_delete_customer(customer_list):\n",
    "    name=input('삭제할 고객 이름은?')\n",
    "    # 지울지 확인할 리스트들\n",
    "    delQcustomer_list=[]\n",
    "    flag=True\n",
    "    # 지울 리스트(확인한 리스트 데이터에서)의 행\n",
    "    i=99999\n",
    "    \n",
    "    for idx, customer in enumerate(customer_list):\n",
    "        if customer.name == name:\n",
    "            delQcustomer_list.append(customer_list[idx])\n",
    "            \n",
    "    if delQcustomer_list:\n",
    "        fn2_print_customers(delQcustomer_list)\n",
    "    else:\n",
    "        print(name,'님의 데이터는 존재하지 않습니다.')\n",
    "        \n",
    "    print('위의 데이터 중 삭제하실 데이터는? (ex.3행은 3, 0은 삭제하지 않고 종료, -1은 전체 삭제)')\n",
    "    while flag:    \n",
    "        try:\n",
    "            i=int(input())\n",
    "            if i==-1:\n",
    "                 for idx, customer in enumerate(customer_list):\n",
    "                    if customer.name == name:\n",
    "                        del customer_list[idx]\n",
    "                    print(name,'님의 데이터를 삭제하였습니다.')\n",
    "                    flag=False\n",
    "            elif i !=0:\n",
    "                for idx, customer in enumerate(customer_list):\n",
    "                    if customer_list[idx] == delQcustomer_list[i-1]:\n",
    "                        del customer_list[idx]\n",
    "                        print(f'{i}행의{name}님의 데이터를 삭제하였습니다.')\n",
    "                        flag=False\n",
    "            elif i==0:\n",
    "                print('고객 삭제를 취소하셨습니다.')\n",
    "                flag=False\n",
    "        except:\n",
    "            print('잘못된 수를 입력하셨습니다.')"
   ]
  },
  {
   "cell_type": "markdown",
   "id": "bb0ca6cc",
   "metadata": {},
   "source": [
    "## 4 이름찾기"
   ]
  },
  {
   "cell_type": "code",
   "execution_count": null,
   "id": "3da314d3",
   "metadata": {},
   "outputs": [],
   "source": [
    "def fn4_search_customer(customer_list):\n",
    "    name=input('찾을 고객 이름은?')\n",
    "    search_customer_list=[]\n",
    "    for idx, customer in enumerate(customer_list):\n",
    "        if customer.name == name:\n",
    "            search_customer_list.append(customer)\n",
    "    if search_customer_list:\n",
    "        fn2_print_customers(search_customer_list)\n",
    "    else:\n",
    "        print('입력하신 {}는 존재하지 않습니다.'.format(name))"
   ]
  },
  {
   "cell_type": "markdown",
   "id": "3e4f02e3",
   "metadata": {},
   "source": [
    "## 5. 내보내기(CSV)"
   ]
  },
  {
   "cell_type": "code",
   "execution_count": 78,
   "id": "5ba9ea95",
   "metadata": {},
   "outputs": [],
   "source": [
    "def fn5_save_customer_csv(customer_list):\n",
    "    import csv\n",
    "    if customer_list:\n",
    "        customer_dict_list=[]\n",
    "        for customer in customer_list:\n",
    "            customer_dict_list.append(customer.__dict__)\n",
    "        fieldnames = list(customer_dict_list[0].keys())\n",
    "        filename=input('저장할 csv 파일명은(확장자 제외)?')\n",
    "        with open('data/{}.csv'.format(filename),'w',encoding='utf-8') as f:\n",
    "            dict_writer=csv.DictWriter(f, fieldnames=fieldnames)\n",
    "            dict_writer.writeheader()\n",
    "            dict_writer.writerows(customer_dict_list)\n",
    "            print(f'data/{filename}.csv 내보내기 완료')\n",
    "    else:\n",
    "        print('입력된 데이터가 없어서 csv 내보내기를 취소합니다.')"
   ]
  },
  {
   "cell_type": "markdown",
   "id": "2547c8e3",
   "metadata": {},
   "source": [
    "## 6. 종료"
   ]
  },
  {
   "cell_type": "code",
   "execution_count": 79,
   "id": "08fb416e",
   "metadata": {},
   "outputs": [],
   "source": [
    "def fn9_save_customer_txt(customer_list):\n",
    "    customer_text_list=[]\n",
    "    for customer in customer_list:\n",
    "        customer_text_list.append(customer.to_txt_style()+'\\n')\n",
    "    with open('data/ch09_customers.txt','w',encoding='utf-8') as f:\n",
    "        f.writelines(customer_text_list)"
   ]
  },
  {
   "cell_type": "code",
   "execution_count": 83,
   "id": "300e5191",
   "metadata": {},
   "outputs": [
    {
     "name": "stdout",
     "output_type": "stream",
     "text": [
      "1:입력|2:전체출력|3:삭제|4:이름찾기|5:내보내기(CSV)|9:종료 메뉴선택 :9\n"
     ]
    }
   ],
   "source": [
    "def main():\n",
    "    global customer_list\n",
    "    customer_list=load_customer()\n",
    "    \n",
    "    while True:\n",
    "        print('1:입력',\"2:전체출력\",'3:삭제','4:이름찾기','5:내보내기(CSV)','9:종료',sep='|',end=' ')\n",
    "        fn=int(input('메뉴선택 :'))\n",
    "        \n",
    "        if fn==1:\n",
    "            customer=fn1_insert_customer_info()\n",
    "            customer_list.append(customer)\n",
    "        elif fn==2:\n",
    "            fn2_print_customers(customer_list)\n",
    "        elif fn==3:\n",
    "            fn3_delete_customer(customer_list) # goekd\n",
    "        elif fn == 4:\n",
    "            fn4_search_customer(customer_list)\n",
    "        elif fn == 5:\n",
    "            fn5_save_customer_csv(customer_list)\n",
    "        elif fn == 9:\n",
    "            fn9_save_customer_txt(customer_list)\n",
    "            break\n",
    "\n",
    "if __name__=='__main__':\n",
    "    main()"
   ]
  },
  {
   "cell_type": "markdown",
   "id": "1eb014b2",
   "metadata": {},
   "source": [
    "1.다음 중 O pen 함수에 대해 잘못 설명한 것은\n",
    "① 함수가 반환하는 것은 열린 파일 객체이다\n",
    "② 파일을 열 때 사용하는 모드는 읽기 (r), 쓰기 (w), 추가 (a), 바이너리 (b) 모드가 있다\n",
    "③ 바이너리 (b) 모드와 쓰기 (w) 모드는 같이 사용할 수 없다\n",
    "④ 파일의 인코딩은 encoding 속성을 이용해 설정할 수 있다"
   ]
  },
  {
   "cell_type": "markdown",
   "id": "b3069f5a",
   "metadata": {},
   "source": [
    "2.피클링 (pickle)에 대해 잘못 설명한 것은\n",
    "① 파이썬의 객체 직렬화 (Object Serialization) 방법이다\n",
    "② pickle 모듈의 dump 와 load 함수를 이용해 객체를 쓰고 읽는다\n",
    "③ 파이썬 객체를 별도의 텍스트 변환과정 없이 파일에 직접 쓰고 읽는 것을 의미한다\n",
    "④ 피클링하기 위한 모드는 쓰기모드 ('w') 여야 한다"
   ]
  },
  {
   "cell_type": "markdown",
   "id": "9563c5e1",
   "metadata": {},
   "source": [
    "3.다음 중 파이썬의 입 출력 모듈에 대한 설명 중 잘 못된 것은\n",
    "① Pandas 패키지를 이용하면 리스트 데이터를 쉽게 파일에 쓰고 읽을 수 있다\n",
    "② json 모 듈 의 dumplo a d 함 수 를 이 용 해 J S O N 데 이터 를 파 일 에 읽 고 쓸 수 있 다\n",
    "③ h5py 모듈의 File 클래스를 이용해 HDF5 데이터를 파일에 읽고 쓸 수 있다\n",
    "④ csv 모듈의 reader(), writer() 함수를 이용해 CSV 파일을 읽고 쓸 수 있다"
   ]
  }
 ],
 "metadata": {
  "kernelspec": {
   "display_name": "Python 3 (ipykernel)",
   "language": "python",
   "name": "python3"
  },
  "language_info": {
   "codemirror_mode": {
    "name": "ipython",
    "version": 3
   },
   "file_extension": ".py",
   "mimetype": "text/x-python",
   "name": "python",
   "nbconvert_exporter": "python",
   "pygments_lexer": "ipython3",
   "version": "3.10.9"
  },
  "toc": {
   "base_numbering": 1,
   "nav_menu": {},
   "number_sections": false,
   "sideBar": true,
   "skip_h1_title": false,
   "title_cell": "Table of Contents",
   "title_sidebar": "Contents",
   "toc_cell": false,
   "toc_position": {
    "height": "calc(100% - 180px)",
    "left": "10px",
    "top": "150px",
    "width": "287.535px"
   },
   "toc_section_display": true,
   "toc_window_display": true
  }
 },
 "nbformat": 4,
 "nbformat_minor": 5
}
