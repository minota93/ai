{
 "cells": [
  {
   "cell_type": "code",
   "execution_count": 2,
   "id": "770eccc6",
   "metadata": {},
   "outputs": [
    {
     "data": {
      "text/html": [
       "\n",
       "<style>\n",
       "div.container{width:90% ! important;}\n",
       "div.cell.code_cell.rendered{width:100%}\n",
       "div.input_prompt{padding:0px}\n",
       "div.CodeMirror {font-family:Consolas ; font-size:12pt;}\n",
       "div.text_cell_render.rendered_html {font-size:12pt;}\n",
       "div.output {font-size:12pt; font-weight:bold}\n",
       "div.input {font-family:Consolas ; font-size:12pt;}\n",
       "div.prompt {min-width:70px;}\n",
       "div#toc-wrapper {padding-top:120px;}\n",
       "div.text_cell_render ul li{font-size:12pt;padding:5px;}\n",
       "table.dataframe{font-size:12px;}\n",
       "</style>\n"
      ],
      "text/plain": [
       "<IPython.core.display.HTML object>"
      ]
     },
     "metadata": {},
     "output_type": "display_data"
    }
   ],
   "source": [
    "from IPython.display import display, HTML\n",
    "display(HTML(\"\"\"\n",
    "<style>\n",
    "div.container{width:90% ! important;}\n",
    "div.cell.code_cell.rendered{width:100%}\n",
    "div.input_prompt{padding:0px}\n",
    "div.CodeMirror {font-family:Consolas ; font-size:12pt;}\n",
    "div.text_cell_render.rendered_html {font-size:12pt;}\n",
    "div.output {font-size:12pt; font-weight:bold}\n",
    "div.input {font-family:Consolas ; font-size:12pt;}\n",
    "div.prompt {min-width:70px;}\n",
    "div#toc-wrapper {padding-top:120px;}\n",
    "div.text_cell_render ul li{font-size:12pt;padding:5px;}\n",
    "table.dataframe{font-size:12px;}\n",
    "</style>\n",
    "\"\"\"))"
   ]
  },
  {
   "cell_type": "markdown",
   "id": "a8038a09",
   "metadata": {},
   "source": [
    "<b><font size=\"6\" color=\"red\">ch.02 자료형과 연산자</font><b>\n",
    "\n",
    "# 5절. 연산자\n",
    "## 5.1 산술 연산자: +,-*,/(결과 float),//(몫연산자),%(나머지),**(제곱)"
   ]
  },
  {
   "cell_type": "code",
   "execution_count": 7,
   "id": "fa55ad4c",
   "metadata": {},
   "outputs": [
    {
     "name": "stdout",
     "output_type": "stream",
     "text": [
      "10*5승 = 100000\n",
      "4/2(결과 실수) 2.0\n"
     ]
    }
   ],
   "source": [
    "print(\"10*5승 =\",10**5)\n",
    "print(\"4/2(결과 실수)\", 4/2)"
   ]
  },
  {
   "cell_type": "code",
   "execution_count": 11,
   "id": "7136f821",
   "metadata": {},
   "outputs": [
    {
     "name": "stdout",
     "output_type": "stream",
     "text": [
      "6\n",
      "5/2(결과 실수) 2.5\n",
      "5//2(몫) :  2\n",
      "5%2(나머지) :  1\n"
     ]
    }
   ],
   "source": [
    "# 더하기,빼기,곱하기에선 정수와 정수의 계산은 정수로 반환된다.\n",
    "# 정수와 실수,실수끼리의 연산 결과는 실수\n",
    "print(4+2)\n",
    "print(\"5/2(결과 실수)\", 5/2)\n",
    "print(\"5//2(몫) : \",5//2)\n",
    "print(\"5%2(나머지) : \", 5%2)"
   ]
  },
  {
   "cell_type": "code",
   "execution_count": 44,
   "id": "05adbc42",
   "metadata": {},
   "outputs": [
    {
     "name": "stdout",
     "output_type": "stream",
     "text": [
      "정수를 입력하세요 : 7\n",
      "입력하신 수는7, 2로 나눈 나머지는 1라서 홀수를 입력하셨습니다.\n"
     ]
    }
   ],
   "source": [
    "# quiz1. 정수를 입력받아 짝수인지 홀수인지 여부를 출력\n",
    "num = int(input(\"정수를 입력하세요 : \"))\n",
    "\n",
    "if num==0:\n",
    "    \n",
    "    print(\"0은 짝수도 홀수도 아닙니다.\")\n",
    "\n",
    "else:\n",
    "    result = num %2 # -1, 0, 1\n",
    "    if result:\n",
    "        \n",
    "        temp= \"홀수\"\n",
    "    \n",
    "    else:\n",
    "        \n",
    "        temp=\"짝수\"\n",
    "\n",
    "    print(f\"입력하신 수는{num}, 2로 나눈 나머지는 {result}라서 {temp}를 입력하셨습니다.\")\n",
    "    "
   ]
  },
  {
   "cell_type": "code",
   "execution_count": 41,
   "id": "a4a12dc2",
   "metadata": {},
   "outputs": [
    {
     "name": "stdout",
     "output_type": "stream",
     "text": [
      "정수를 입력하세요 : 4\n",
      "입력하신수는 4이고 5의 배수가 아닙니다.\n"
     ]
    }
   ],
   "source": [
    "# quiz2. 정수를 입력받아 5의 배수인지 여부를 출력\n",
    "num=int(input(\"정수를 입력하세요 : \"))\n",
    "result=num%5\n",
    "if result:\n",
    "    \n",
    "    temp=\"5의 배수가 아닙니다.\"\n",
    "\n",
    "else:\n",
    "    \n",
    "    temp=\"5의 배수입니다\"\n",
    "\n",
    "print(f\"입력하신수는 {num}이고 {temp}\")"
   ]
  },
  {
   "cell_type": "code",
   "execution_count": 48,
   "id": "edf71bfe",
   "metadata": {},
   "outputs": [
    {
     "name": "stdout",
     "output_type": "stream",
     "text": [
      "국어점수를 입력하세요 : 99\n",
      "영어점수를 입력하세요 : 100\n",
      "수학점수를 입력하세요 : 100\n",
      "국어:  99 \t 영어: 100 \t 수학: 100\n",
      "총점: 299 \t 평균:  99.7\n"
     ]
    }
   ],
   "source": [
    "# quiz3. 국, 영, 수 점수를 입력받아 다음 셀어서 다음과 같이 출력하도록 구현하시오\n",
    "kor=int(input(\"국어점수를 입력하세요 : \"))\n",
    "eng=int(input(\"영어점수를 입력하세요 : \"))\n",
    "mat=int(input(\"수학점수를 입력하세요 : \"))\n",
    "sum_=(kor+eng+mat)\n",
    "avg_=sum_/3\n",
    "\n",
    "print(f\"국어: {kor:3d} \\t 영어: {eng:3d} \\t 수학: {mat:3d}\")\n",
    "print(f\"총점: {sum_:3d} \\t 평균: {avg_:5.1f}\")"
   ]
  },
  {
   "cell_type": "markdown",
   "id": "a4b4d5b0",
   "metadata": {},
   "source": [
    "## 5.2 할당 연산자 : =,+=, -=, /=, *=, //=, %="
   ]
  },
  {
   "cell_type": "code",
   "execution_count": 50,
   "id": "4131387b",
   "metadata": {},
   "outputs": [
    {
     "name": "stdout",
     "output_type": "stream",
     "text": [
      "a= 15\n"
     ]
    }
   ],
   "source": [
    "a = 10\n",
    "a += 5 # a = a + 5와 동일\n",
    "print(f\"a = {a}\")"
   ]
  },
  {
   "cell_type": "code",
   "execution_count": 51,
   "id": "95da8dd5",
   "metadata": {},
   "outputs": [
    {
     "name": "stdout",
     "output_type": "stream",
     "text": [
      "5빼기 : 10\n",
      "10배 : 100\n",
      "5로 나눈 몫 : 20\n"
     ]
    }
   ],
   "source": [
    "a -= 5 # a = a - 5와 동일\n",
    "print(f\"5빼기 : {a}\") #10\n",
    "a *= 10 # a = a * 10\n",
    "print(f\"10배 : {a}\") #100\n",
    "a //= 5 # a = a // 5\n",
    "print(f\"5로 나눈 몫 : {a}\") #20"
   ]
  },
  {
   "cell_type": "markdown",
   "id": "00119006",
   "metadata": {},
   "source": [
    "## 5.3 논리 연산자 : &, and, |, or, not"
   ]
  },
  {
   "cell_type": "code",
   "execution_count": 55,
   "id": "5603085d",
   "metadata": {},
   "outputs": [
    {
     "name": "stdout",
     "output_type": "stream",
     "text": [
      "True\n",
      "0\n"
     ]
    }
   ],
   "source": [
    "# & : 논리연산자, 비트연산자\n",
    "print((10 > 3) & (10 > 5)) #논리연산 true & true\n",
    "print(12 & 1) # 비트 연산 1 1 0 0 (12)\n",
    "#                        0 0 0 1 (1)\n",
    "#                      &:0 0 0 0 "
   ]
  },
  {
   "cell_type": "code",
   "execution_count": 56,
   "id": "b2fc2304",
   "metadata": {},
   "outputs": [
    {
     "name": "stdout",
     "output_type": "stream",
     "text": [
      "True\n",
      "1\n"
     ]
    }
   ],
   "source": [
    "# and : 논리연산자. False로 판별되는 첫번째 항의 결과 반환\n",
    "#         모든 항이 True면, 마지막 항의 결과 반환\n",
    "print((10 > 3) and (10 > 5))\n",
    "print(12 and 1)"
   ]
  },
  {
   "cell_type": "code",
   "execution_count": 60,
   "id": "13f08999",
   "metadata": {},
   "outputs": [
    {
     "name": "stdout",
     "output_type": "stream",
     "text": [
      "논리연산(연산자 앞뒤가 논리형일 때) :  True\n",
      "비트연산(연산자 앞이나 뒤에 숫자일 때): 3\n"
     ]
    }
   ],
   "source": [
    "# | : 논리연산, 비트연산\n",
    "result= True|False\n",
    "print('논리연산(연산자 앞뒤가 논리형일 때) : ',result)\n",
    "result= False | 3 # False를 0으로 보기에 0000 (0)\n",
    "                                    #  0011 (3)\n",
    "print('비트연산(연산자 앞이나 뒤에 숫자일 때):', result)"
   ]
  },
  {
   "cell_type": "code",
   "execution_count": 62,
   "id": "b26ee48e",
   "metadata": {},
   "outputs": [
    {
     "name": "stdout",
     "output_type": "stream",
     "text": [
      "[]\n",
      "hong\n"
     ]
    }
   ],
   "source": [
    "# or : 논리연산. 참으로 판단되는 첫번째 항의 결과 반환\n",
    "    #모든 항이 거짓이면 마지막항의 결과 반환\n",
    "print(False or 0 or '' or None or [])\n",
    "print(False or 0 or 'hong' or None or [])"
   ]
  },
  {
   "cell_type": "code",
   "execution_count": 63,
   "id": "0c10feb0",
   "metadata": {},
   "outputs": [
    {
     "data": {
      "text/plain": [
       "False"
      ]
     },
     "execution_count": 63,
     "metadata": {},
     "output_type": "execute_result"
    }
   ],
   "source": [
    "not 10 >5"
   ]
  },
  {
   "cell_type": "markdown",
   "id": "5a8b60df",
   "metadata": {},
   "source": [
    "## 5.3 비교 연산자: >, >=, <, <=, ==(같다), !=(다르다) \n",
    "- 우선 순위가 낮음"
   ]
  },
  {
   "cell_type": "code",
   "execution_count": 68,
   "id": "d1047ea5",
   "metadata": {},
   "outputs": [
    {
     "name": "stdout",
     "output_type": "stream",
     "text": [
      "True\n",
      "True\n",
      "True\n"
     ]
    }
   ],
   "source": [
    "# 비교연산자는 이항, 삼항, 사항, ..... 다항연산자\n",
    "x = 95\n",
    "print((90 <= x) & (x <= 100))\n",
    "print(90 <= x <= 100)\n",
    "print(90 <= x <= 100 > 10)"
   ]
  },
  {
   "cell_type": "code",
   "execution_count": 73,
   "id": "b68997b6",
   "metadata": {
    "scrolled": true
   },
   "outputs": [
    {
     "name": "stdout",
     "output_type": "stream",
     "text": [
      "True\n",
      "False\n",
      "False\n"
     ]
    }
   ],
   "source": [
    "# 비교연산자의 우선순위가 비트연산자(|,&)의 우선순위보다 낮다\n",
    "print((10 > 5) & (10 > 7))\n",
    "print(10 > 5 & 10 > 7) # 괄호를 제거하면 우선순위가 높은 5 & 10 을 먼저 계산\n",
    "print(10 > 0 > 7) # 위의 식 비트연산자 결과 후 비교연산\n",
    "# 0101(5) & 1010(10)"
   ]
  },
  {
   "cell_type": "code",
   "execution_count": 75,
   "id": "a773e216",
   "metadata": {},
   "outputs": [
    {
     "name": "stdout",
     "output_type": "stream",
     "text": [
      "True\n",
      "True\n"
     ]
    }
   ],
   "source": [
    "address=\"목동\"\n",
    "age=29\n",
    "print((address==\"목동\") & (age<=30))\n",
    "print(address==\"목동\" and age<=30) # 단 and,or는 비교연산자보다 우선순위가 떨어진다"
   ]
  },
  {
   "cell_type": "code",
   "execution_count": 77,
   "id": "56941d66",
   "metadata": {},
   "outputs": [
    {
     "data": {
      "text/plain": [
       "True"
      ]
     },
     "execution_count": 77,
     "metadata": {},
     "output_type": "execute_result"
    }
   ],
   "source": [
    "# 문자는 ASCII 코드 순으로 비교: 특수문자 < 숫자문자 < 대문자 < 소문자(abc순)\n",
    "'scott' < 'tiger'"
   ]
  },
  {
   "cell_type": "code",
   "execution_count": 76,
   "id": "49bc8739",
   "metadata": {},
   "outputs": [
    {
     "data": {
      "text/plain": [
       "True"
      ]
     },
     "execution_count": 76,
     "metadata": {},
     "output_type": "execute_result"
    }
   ],
   "source": [
    "'김길동'<'홍길동' # 문자끼리 비교는 오름차순 정렬로 비교하여 뒤로 갈수록 크다"
   ]
  },
  {
   "cell_type": "markdown",
   "id": "61b83e42",
   "metadata": {},
   "source": [
    "## 5.5 비트연산: &, |, ^(XOR), ~(반대)"
   ]
  },
  {
   "cell_type": "code",
   "execution_count": null,
   "id": "d9bc87d9",
   "metadata": {},
   "outputs": [],
   "source": []
  },
  {
   "cell_type": "code",
   "execution_count": null,
   "id": "ddc22501",
   "metadata": {},
   "outputs": [],
   "source": []
  },
  {
   "cell_type": "code",
   "execution_count": null,
   "id": "1d2473de",
   "metadata": {},
   "outputs": [],
   "source": []
  },
  {
   "cell_type": "code",
   "execution_count": null,
   "id": "d270144b",
   "metadata": {},
   "outputs": [],
   "source": []
  }
 ],
 "metadata": {
  "kernelspec": {
   "display_name": "Python 3 (ipykernel)",
   "language": "python",
   "name": "python3"
  },
  "language_info": {
   "codemirror_mode": {
    "name": "ipython",
    "version": 3
   },
   "file_extension": ".py",
   "mimetype": "text/x-python",
   "name": "python",
   "nbconvert_exporter": "python",
   "pygments_lexer": "ipython3",
   "version": "3.10.9"
  },
  "toc": {
   "base_numbering": 1,
   "nav_menu": {},
   "number_sections": false,
   "sideBar": true,
   "skip_h1_title": false,
   "title_cell": "Table of Contents",
   "title_sidebar": "Contents",
   "toc_cell": false,
   "toc_position": {
    "height": "calc(100% - 180px)",
    "left": "10px",
    "top": "150px",
    "width": "240.797px"
   },
   "toc_section_display": true,
   "toc_window_display": true
  }
 },
 "nbformat": 4,
 "nbformat_minor": 5
}
