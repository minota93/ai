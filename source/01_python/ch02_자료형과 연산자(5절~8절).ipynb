{
 "cells": [
  {
   "cell_type": "code",
   "execution_count": null,
   "id": "770eccc6",
   "metadata": {},
   "outputs": [],
   "source": [
    "from IPython.display import display, HTML\n",
    "display(HTML(\"\"\"\n",
    "<style>\n",
    "div.container{width:90% ! important;}\n",
    "div.cell.code_cell.rendered{width:100%}\n",
    "div.input_prompt{padding:0px}\n",
    "div.CodeMirror {font-family:Consolas ; font-size:12pt;}\n",
    "div.text_cell_render.rendered_html {font-size:12pt;}\n",
    "div.output {font-size:12pt; font-weight:bold}\n",
    "div.input {font-family:Consolas ; font-size:12pt;}\n",
    "div.prompt {min-width:70px;}\n",
    "div#toc-wrapper {padding-top:120px;}\n",
    "div.text_cell_render ul li{font-size:12pt;padding:5px;}\n",
    "table.dataframe{font-size:12px;}\n",
    "</style>\n",
    "\"\"\"))"
   ]
  },
  {
   "cell_type": "markdown",
   "id": "a8038a09",
   "metadata": {},
   "source": [
    "<b><font size=\"6\" color=\"red\">ch.02 자료형과 연산자</font><b>\n",
    "\n",
    "# 5절. 연산자\n",
    "## 5.1 산술 연산자: +,-*,/(결과 float),//(몫연산자),%(나머지),**(제곱)"
   ]
  },
  {
   "cell_type": "code",
   "execution_count": null,
   "id": "fa55ad4c",
   "metadata": {},
   "outputs": [],
   "source": [
    "print(\"10*5승 =\",10**5)\n",
    "print(\"4/2(결과 실수)\", 4/2)"
   ]
  },
  {
   "cell_type": "code",
   "execution_count": null,
   "id": "7136f821",
   "metadata": {},
   "outputs": [],
   "source": [
    "# 더하기,빼기,곱하기에선 정수와 정수의 계산은 정수로 반환된다.\n",
    "# 정수와 실수,실수끼리의 연산 결과는 실수\n",
    "print(4+2)\n",
    "print(\"5/2(결과 실수)\", 5/2)\n",
    "print(\"5//2(몫) : \",5//2)\n",
    "print(\"5%2(나머지) : \", 5%2)"
   ]
  },
  {
   "cell_type": "code",
   "execution_count": null,
   "id": "05adbc42",
   "metadata": {},
   "outputs": [],
   "source": [
    "# quiz1. 정수를 입력받아 짝수인지 홀수인지 여부를 출력\n",
    "num = int(input(\"정수를 입력하세요 : \"))\n",
    "\n",
    "if num==0:\n",
    "    \n",
    "    print(\"0은 짝수도 홀수도 아닙니다.\")\n",
    "\n",
    "else:\n",
    "    result = num %2 # -1, 0, 1\n",
    "    if result:\n",
    "        \n",
    "        temp= \"홀수\"\n",
    "    \n",
    "    else:\n",
    "        \n",
    "        temp=\"짝수\"\n",
    "\n",
    "    print(f\"입력하신 수는{num}, 2로 나눈 나머지는 {result}라서 {temp}를 입력하셨습니다.\")\n",
    "    "
   ]
  },
  {
   "cell_type": "code",
   "execution_count": null,
   "id": "a4a12dc2",
   "metadata": {},
   "outputs": [],
   "source": [
    "# quiz2. 정수를 입력받아 5의 배수인지 여부를 출력\n",
    "num=int(input(\"정수를 입력하세요 : \"))\n",
    "result=num%5\n",
    "if result:\n",
    "    \n",
    "    temp=\"5의 배수가 아닙니다.\"\n",
    "\n",
    "else:\n",
    "    \n",
    "    temp=\"5의 배수입니다\"\n",
    "\n",
    "print(f\"입력하신수는 {num}이고 {temp}\")"
   ]
  },
  {
   "cell_type": "code",
   "execution_count": null,
   "id": "edf71bfe",
   "metadata": {},
   "outputs": [],
   "source": [
    "# quiz3. 국, 영, 수 점수를 입력받아 다음 셀어서 다음과 같이 출력하도록 구현하시오\n",
    "kor=int(input(\"국어점수를 입력하세요 : \"))\n",
    "eng=int(input(\"영어점수를 입력하세요 : \"))\n",
    "mat=int(input(\"수학점수를 입력하세요 : \"))\n",
    "sum_=(kor+eng+mat)\n",
    "avg_=sum_/3\n",
    "\n",
    "print(f\"국어: {kor:3d} \\t 영어: {eng:3d} \\t 수학: {mat:3d}\")\n",
    "print(f\"총점: {sum_:3d} \\t 평균: {avg_:5.1f}\")"
   ]
  },
  {
   "cell_type": "markdown",
   "id": "a4b4d5b0",
   "metadata": {},
   "source": [
    "## 5.2 할당 연산자 : =,+=, -=, /=, *=, //=, %="
   ]
  },
  {
   "cell_type": "code",
   "execution_count": null,
   "id": "4131387b",
   "metadata": {},
   "outputs": [],
   "source": [
    "a = 10\n",
    "a += 5 # a = a + 5와 동일\n",
    "print(f\"a = {a}\")"
   ]
  },
  {
   "cell_type": "code",
   "execution_count": null,
   "id": "95da8dd5",
   "metadata": {},
   "outputs": [],
   "source": [
    "a -= 5 # a = a - 5와 동일\n",
    "print(f\"5빼기 : {a}\") #10\n",
    "a *= 10 # a = a * 10\n",
    "print(f\"10배 : {a}\") #100\n",
    "a //= 5 # a = a // 5\n",
    "print(f\"5로 나눈 몫 : {a}\") #20"
   ]
  },
  {
   "cell_type": "markdown",
   "id": "00119006",
   "metadata": {},
   "source": [
    "## 5.3 논리 연산자 : &, and, |, or, not"
   ]
  },
  {
   "cell_type": "code",
   "execution_count": null,
   "id": "5603085d",
   "metadata": {},
   "outputs": [],
   "source": [
    "# & : 논리연산자, 비트연산자\n",
    "print((10 > 3) & (10 > 5)) #논리연산 true & true\n",
    "print(12 & 1) # 비트 연산 1 1 0 0 (12)\n",
    "#                        0 0 0 1 (1)\n",
    "#                      &:0 0 0 0 "
   ]
  },
  {
   "cell_type": "code",
   "execution_count": null,
   "id": "b2fc2304",
   "metadata": {},
   "outputs": [],
   "source": [
    "# and : 논리연산자. False로 판별되는 첫번째 항의 결과 반환\n",
    "#         모든 항이 True면, 마지막 항의 결과 반환\n",
    "print((10 > 3) and (10 > 5))\n",
    "print(12 and 1)"
   ]
  },
  {
   "cell_type": "code",
   "execution_count": null,
   "id": "13f08999",
   "metadata": {},
   "outputs": [],
   "source": [
    "# | : 논리연산, 비트연산\n",
    "result= True|False\n",
    "print('논리연산(연산자 앞뒤가 논리형일 때) : ',result)\n",
    "result= False | 3 # False를 0으로 보기에 0000 (0)\n",
    "                                    #  0011 (3)\n",
    "print('비트연산(연산자 앞이나 뒤에 숫자일 때):', result)"
   ]
  },
  {
   "cell_type": "code",
   "execution_count": null,
   "id": "b26ee48e",
   "metadata": {},
   "outputs": [],
   "source": [
    "# or : 논리연산. 참으로 판단되는 첫번째 항의 결과 반환\n",
    "    #모든 항이 거짓이면 마지막항의 결과 반환\n",
    "print(False or 0 or '' or None or [])\n",
    "print(False or 0 or 'hong' or None or [])"
   ]
  },
  {
   "cell_type": "code",
   "execution_count": null,
   "id": "0c10feb0",
   "metadata": {},
   "outputs": [],
   "source": [
    "not 10 >5"
   ]
  },
  {
   "cell_type": "markdown",
   "id": "5a8b60df",
   "metadata": {},
   "source": [
    "## 5.3 비교 연산자: >, >=, <, <=, ==(같다), !=(다르다) \n",
    "- 우선 순위가 낮음"
   ]
  },
  {
   "cell_type": "code",
   "execution_count": null,
   "id": "d1047ea5",
   "metadata": {},
   "outputs": [],
   "source": [
    "# 비교연산자는 이항, 삼항, 사항, ..... 다항연산자\n",
    "x = 95\n",
    "print((90 <= x) & (x <= 100))\n",
    "print(90 <= x <= 100)\n",
    "print(90 <= x <= 100 > 10)"
   ]
  },
  {
   "cell_type": "code",
   "execution_count": null,
   "id": "b68997b6",
   "metadata": {
    "scrolled": true
   },
   "outputs": [],
   "source": [
    "# 비교연산자의 우선순위가 비트연산자(|,&)의 우선순위보다 낮다\n",
    "print((10 > 5) & (10 > 7))\n",
    "print(10 > 5 & 10 > 7) # 괄호를 제거하면 우선순위가 높은 5 & 10 을 먼저 계산\n",
    "print(10 > 0 > 7) # 위의 식 비트연산자 결과 후 비교연산\n",
    "# 0101(5) & 1010(10)"
   ]
  },
  {
   "cell_type": "code",
   "execution_count": null,
   "id": "a773e216",
   "metadata": {},
   "outputs": [],
   "source": [
    "address=\"목동\"\n",
    "age=29\n",
    "print((address==\"목동\") & (age<=30))\n",
    "print(address==\"목동\" and age<=30) # 단 and,or는 비교연산자보다 우선순위가 떨어진다"
   ]
  },
  {
   "cell_type": "code",
   "execution_count": null,
   "id": "56941d66",
   "metadata": {},
   "outputs": [],
   "source": [
    "# 문자는 ASCII 코드 순으로 비교: 특수문자 < 숫자문자 < 대문자 < 소문자(abc순)\n",
    "'scott' < 'tiger'"
   ]
  },
  {
   "cell_type": "code",
   "execution_count": null,
   "id": "49bc8739",
   "metadata": {},
   "outputs": [],
   "source": [
    "'김길동'<'홍길동' # 문자끼리 비교는 오름차순 정렬로 비교하여 뒤로 갈수록 크다"
   ]
  },
  {
   "cell_type": "markdown",
   "id": "61b83e42",
   "metadata": {},
   "source": [
    "## 5.5 비트연산: &, |, ^(XOR), ~(반대)\n",
    "\n",
    "```\n",
    "x     y      x&y        x|y       x^y       ~x\n",
    "---------------------------------------------------\n",
    "0     0        0         0         0         1\n",
    "0     1        0         1         1         1\n",
    "1     0        0         1         1         0\n",
    "1     1        1         1         0         0\n",
    "\n",
    "```"
   ]
  },
  {
   "cell_type": "code",
   "execution_count": null,
   "id": "d9bc87d9",
   "metadata": {},
   "outputs": [],
   "source": [
    "a = 15 # 1111 (8 + 4+ 2+ 1)\n",
    "b = 2  # 0010 \n",
    "\n",
    "print(\"a = {0:2} : {0:4b}\".format(a))\n",
    "print(\"b = {0:2} : {0:04b}\".format(b))\n",
    "print(\"a & b = {0:2} : {0:04b}\".format(a&b))\n",
    "print(\"a | b = {0:2} : {0:04b}\".format(a|b))\n",
    "print(\"a ^ b = {0:2} : {0:04b}\".format(a^b))"
   ]
  },
  {
   "cell_type": "markdown",
   "id": "8b6b5305",
   "metadata": {},
   "source": [
    "# 6절 문자열 다루기\n",
    "- 문자열변수[from:to:step] : 일부 문자 추출\n",
    "- len(문자열변수) : 문자수\n",
    "\n",
    "- 변수.upper() : 대문자로\n",
    "- 변수.lower() : 소문자로\n",
    "- 변수.title() : 각 어절의 앞글자만 대문자로\n",
    "- capitalize() : 첫 문자만 대문자, 나머지는 그대로\n",
    "- count(\"찾을문자{열}\") : \"찾을 문자{열}\"이 몇개 들어있는지 갯수 반환\n",
    "- find(\"찾을문자{열}\") : \"찾을 문자{열}\"이 몇 번째에 있는지 index를 반환(없으면 -1)\n",
    "- rfind(\"찾을문자{열}\") : \"찾을 문자{열}\"이 오른쪽부터 몇 번째에 있는지 index를 반롼(없으면 -1)\n",
    "     cf. index(\"찾을 문자{열}\") : \"찾을 문자{열}이 몇번쨰에 있는지 index를 반환(없으면 error)\n",
    "- startswitch(\"특정문자{열}\") : \"특정문자{열}\" 로 시작하는지 여부 반환(True, False)\n",
    "- endswith(\"특정문자{열}\") : \"특정문자{열}\" 로 끝나는지 여부 반환(True, False)\n",
    "\n",
    "- strip() : 좌우공백제거(trim)\n",
    "- lstrip() : 왼쪽 공백제거\n",
    "- rstrip() : 오른쪽 공백제거\n",
    "- <span style=\"color:red\">split() : 문자열을 공백이나 다른 문자 기준으로 나누어 리스트로 반환</span>\n",
    "- **isdigit() : 문자열이 숫자문자열인지 여부 반환**\n",
    "- islower() : 문자열이 소문자인지 여부 반환\n",
    "- isupper() : 문자열이 대문자인지 여부 반환\n",
    "- replace(oldStr, newStr): oldStr을 newStr로 변경"
   ]
  },
  {
   "cell_type": "code",
   "execution_count": null,
   "id": "2274cc93",
   "metadata": {},
   "outputs": [],
   "source": [
    "int(\"1,000\".replace(\",\",\"\"))\n",
    "\n",
    "temp = \"python is easy. python is smart. python\"\n",
    "       #012345678901234567890123\n",
    "temp, len(temp)"
   ]
  },
  {
   "cell_type": "code",
   "execution_count": null,
   "id": "ebaf039b",
   "metadata": {},
   "outputs": [],
   "source": [
    "print(\"대문자로 : \",temp.upper())\n",
    "print(\"소문자로 : \",temp.lower())\n",
    "print(\"title() : \",temp.title())\n",
    "print(\"capitalize() : \",temp.capitalize())\n",
    "print(\"C이 몇번 나오는지 : \",temp.count(\"C\"))\n",
    "print(\"python이 몇 번 나오는지 : \",temp.count(\"python\"))\n",
    "print(\"python이 몇 번 나오는지 : \",temp.count(\"Python\")) # count는 대소문자 구분함\n",
    "# 대소문자 구분없이 쓰는 방법\n",
    "print(\"대소문자 구분없이 python이 몇번 : \",temp.lower().count(\"python\"))\n",
    "print(\"대소문자 구분없이 python이 몇번 : \",temp.upper().count(\"PYTHON\"))\n",
    "print(\"대소문자 구분없이 python이 몇번 : \",temp.title().count(\"Python\"))\n",
    "print(\"python이 나오는 첫 index 위치 : \", temp.find(\"python\"))\n",
    "print(\"python이 나오는 마지막 index 위치 : \", temp.rfind(\"python\"))\n",
    "print(\"C이 너오는 첫 index 위치 : \", temp.find(\"C\")) # 찾을 문자가 없을 경우 -1을 반환\n",
    "print(\"python이 나오는 첫 index위치\", temp.index(\"python\"))\n",
    "# print(\"java이 나오는 첫 index위치\", temp.index(\"java\")) #잦을 문자가 없어 error반환함\n",
    "print(\"python으로 시작하는지 여부 : \", temp.startswith('python'))\n",
    "print(\"Python으로 시작하는지 여부 : \", temp.startswith('Python')) # 대소문자 구분함\n",
    "print(\"대소문자 구분없이 python으로 시작하는지 여부 : \", temp.lower().startswith('python'))\n",
    "print(\"python으로 끝나는지 여부 : \", temp.endswith(\"python\"))\n",
    "print(\"python을 R로 변경 : \", temp.replace('python', 'R'))\n",
    "print(temp)"
   ]
  },
  {
   "cell_type": "code",
   "execution_count": null,
   "id": "57b42a50",
   "metadata": {},
   "outputs": [],
   "source": [
    "temp=\"      python is easy         \"\n",
    "notdigit=\"1,000\"\n",
    "\n",
    "print(\"좌우 공백 : [{}]\".format(temp))\n",
    "print(\"좌우 공백 제거 : [{}]\".format(temp.strip()))\n",
    "print(\"왼쪽 공백 제거 : [{}]\".format(temp.lstrip()))\n",
    "print(\"오른쪽 공백 제거 : [{}]\".format(temp.rstrip()))\n",
    "print(\"isdigit(숫자문자)인지 여부 :\",notdigit.isdigit())\n",
    "print(\"replace후 isdigit : \", notdigit.replace(\",\",\"\").isdigit())\n",
    "print(\"대문자인지 여부 :\",temp.isupper())\n",
    "print(\"소문자인지 여부 :\",temp.islower())"
   ]
  },
  {
   "cell_type": "code",
   "execution_count": null,
   "id": "0090c4dc",
   "metadata": {},
   "outputs": [],
   "source": [
    "names=\"홍길동 김깅동 박길동      주길동 고길동\"\n",
    "name_list=names.split()\n",
    "print(\"space 단위로 names 분리(list로 반환)\",names.split())\n",
    "print(name_list[0],name_list[1])"
   ]
  },
  {
   "cell_type": "code",
   "execution_count": null,
   "id": "9a814276",
   "metadata": {},
   "outputs": [],
   "source": [
    "date_str=\"2025-09-17\"\n",
    "date_list=date_str.split(\"-\") # split는 공백에서는 스페이스바로 분리되며 다른 문자로 분리하고 싶으면 문자를 괄호 안에 넣어준다\n",
    "print(date_list)\n",
    "print(\"년도 : \", date_list[0])\n",
    "print(\"월 : \", date_list[1])\n",
    "print(\"일 : \", date_list[2])"
   ]
  },
  {
   "cell_type": "code",
   "execution_count": null,
   "id": "14144ca8",
   "metadata": {},
   "outputs": [],
   "source": [
    "# str_=\"ABC\"\n",
    "str_=[\"A\", \"B\", \"C\"]\n",
    "str_[0], str_[1], str_[2]"
   ]
  },
  {
   "cell_type": "code",
   "execution_count": null,
   "id": "c0c48e2c",
   "metadata": {},
   "outputs": [],
   "source": [
    "# \" - \"를  \"/\"로 바꾸기\n",
    "temp=\"python - 웹((HTML/CSS/JS) - Oracle/MySQL(DBMS) - DL/ML(M/DNN/CNN/RNN) - LLM(RAG))\"\n",
    "# temp.replace(\" - \",\"/\")\n",
    "# split()와 join() 이용하여 repleace 역할\n",
    "splited_temp=temp.split(\" - \")\n",
    "print(\"분리된 temp : \",splited_temp)\n",
    "joined_temp=\"/\".join(splited_temp) # \"/\"로 매개변수 list를 연결\n",
    "print(\"join temp : \",joined_temp)"
   ]
  },
  {
   "cell_type": "code",
   "execution_count": null,
   "id": "3b336c7f",
   "metadata": {},
   "outputs": [],
   "source": [
    "# 문자열을 다룰 수 있는 함수들 목록\n",
    "temp = \"a\"\n",
    "# dir(str)"
   ]
  },
  {
   "cell_type": "markdown",
   "id": "80e4effe",
   "metadata": {},
   "source": [
    "# 7절. 시간, 날짜 다루기"
   ]
  },
  {
   "cell_type": "code",
   "execution_count": null,
   "id": "cab78a4f",
   "metadata": {},
   "outputs": [],
   "source": [
    "import datetime\n",
    "\n",
    "datetime.__file__"
   ]
  },
  {
   "cell_type": "code",
   "execution_count": null,
   "id": "1d2473de",
   "metadata": {},
   "outputs": [],
   "source": [
    "# datetime모듈(datetime.py)안의 datetime,date ,time만 load\n",
    "from datetime import datetime, date, time"
   ]
  },
  {
   "cell_type": "markdown",
   "id": "2cb9a32c",
   "metadata": {},
   "source": [
    "## 7.1 시간과 날짜"
   ]
  },
  {
   "cell_type": "code",
   "execution_count": null,
   "id": "488e699c",
   "metadata": {},
   "outputs": [],
   "source": [
    "# 특정 시점을 갖는 datetime 객체 생성\n",
    "thatday = datetime(2025, 9, 11, 9, 30)\n",
    "thatday"
   ]
  },
  {
   "cell_type": "code",
   "execution_count": null,
   "id": "666cfc0b",
   "metadata": {},
   "outputs": [],
   "source": [
    "# 날짜를 문자열로 전환\n",
    "print(\"{:%y년%m월%d일(%A) %H:%M:%S}\".format(thatday))\n",
    "print(thatday.strftime(\"%y년%m월%d일(%A) %H:%M:%S\"))\n",
    "print(thatday.ctime()) # .ctime() : 사람이 읽기 쉬운 형태로 convert"
   ]
  },
  {
   "cell_type": "code",
   "execution_count": null,
   "id": "a5d22de9",
   "metadata": {},
   "outputs": [],
   "source": [
    "#지금을 저장하는 함수\n",
    "now = datetime.now()\n",
    "print(now)\n",
    "# print(now.ctime(\"%y년%m월%d일 %p %I:%M:%S\"))"
   ]
  },
  {
   "cell_type": "code",
   "execution_count": null,
   "id": "959c832a",
   "metadata": {},
   "outputs": [],
   "source": [
    "diff = now-thatday\n",
    "print(diff)\n",
    "print(diff.days)"
   ]
  },
  {
   "cell_type": "markdown",
   "id": "ec76f5e1",
   "metadata": {},
   "source": [
    "## 7.2 날짜"
   ]
  },
  {
   "cell_type": "code",
   "execution_count": null,
   "id": "7f06e706",
   "metadata": {},
   "outputs": [],
   "source": [
    "# 특정한 날짜를 갖는 date 객체 생성\n",
    "someday=date(2025,9,11)\n",
    "someday"
   ]
  },
  {
   "cell_type": "code",
   "execution_count": null,
   "id": "2afd3bee",
   "metadata": {},
   "outputs": [],
   "source": [
    "print(someday)\n",
    "print(someday.strftime(\"%Y년 %m월 %d일 %H:%M\"))"
   ]
  },
  {
   "cell_type": "code",
   "execution_count": null,
   "id": "41cb43e3",
   "metadata": {},
   "outputs": [],
   "source": [
    "# 오늘을 갖는 date객체 생성\n",
    "today1 = date.today()\n",
    "today2 = datetime.now().date()\n",
    "print(today1==today2)"
   ]
  },
  {
   "cell_type": "code",
   "execution_count": null,
   "id": "36a67d84",
   "metadata": {},
   "outputs": [],
   "source": [
    "print(today1.strftime(\"%Y년%m월%d일 %H:%M\"))\n",
    "print(today2.strftime(\"%Y년%m월%d일 %H:%M\"))"
   ]
  },
  {
   "cell_type": "code",
   "execution_count": null,
   "id": "736f8350",
   "metadata": {},
   "outputs": [],
   "source": [
    "diff=someday - today1\n",
    "print(diff)\n",
    "print(diff.days)"
   ]
  },
  {
   "cell_type": "markdown",
   "id": "d21f2e0c",
   "metadata": {},
   "source": [
    "## 7.3 시간"
   ]
  },
  {
   "cell_type": "code",
   "execution_count": null,
   "id": "e0d47c0c",
   "metadata": {},
   "outputs": [],
   "source": [
    "# 특정한 시간을 저장하는 time 객체 생성\n",
    "t=time(14,39)\n",
    "t"
   ]
  },
  {
   "cell_type": "code",
   "execution_count": null,
   "id": "8d5508ea",
   "metadata": {},
   "outputs": [],
   "source": [
    "# print(t.strftime(\"%Y년 %m월 %d일 %p %I:%M\"))\n",
    "print(t.strftime(\"%p %I:%M\"))"
   ]
  },
  {
   "cell_type": "code",
   "execution_count": null,
   "id": "ce37c7db",
   "metadata": {},
   "outputs": [],
   "source": [
    "# 핸재시간\n",
    "nowtime=datetime.now(),time()\n",
    "print(nowtime)"
   ]
  },
  {
   "cell_type": "markdown",
   "id": "84b583e6",
   "metadata": {},
   "source": [
    "# 8절. 연습문제"
   ]
  },
  {
   "cell_type": "code",
   "execution_count": 1,
   "id": "cddfcaa0",
   "metadata": {},
   "outputs": [
    {
     "name": "stdout",
     "output_type": "stream",
     "text": [
      "홍길동님의 나이는 23살입니다.\n"
     ]
    }
   ],
   "source": [
    "# 1. 이름과 나이 변수를 다음 형식으로 출력하도록 format() 함수를 이용해 형식화\n",
    "name = \"홍길동\"\n",
    "age = 23\n",
    "\n",
    "print(\"{}님의 나이는 {}살입니다.\".format(name,age))"
   ]
  },
  {
   "cell_type": "code",
   "execution_count": 2,
   "id": "00c631a8",
   "metadata": {},
   "outputs": [
    {
     "name": "stdout",
     "output_type": "stream",
     "text": [
      "첫번째 정수를 입력하세요:9\n",
      "두번째 정수를 입력하세요:7\n",
      "두 정수의 덧셈 : 16 두 정수의 뺼셈 : 2 두 정수의 곱셈 : 63 \n",
      "두 정수의 나눗셈 : 1.2857142857142858 나눗셈의 몫 : 2 나머지 : 1\n"
     ]
    }
   ],
   "source": [
    "# 2. 두 정수를 입력받아 산술연산결과를 출력\n",
    "input1=int(input(\"첫번째 정수를 입력하세요:\"))\n",
    "input2=int(input(\"두번째 정수를 입력하세요:\"))\n",
    "\n",
    "if input2 !=0:\n",
    "    \n",
    "    sum = input1 + input2\n",
    "    sub = input1 - input2\n",
    "    mul = input1 * input2\n",
    "    div = input1 / input2\n",
    "    sha = input1 % input2\n",
    "    rem = input1 // input2\n",
    "\n",
    "    print(f\"두 정수의 덧셈 : {sum} 두 정수의 뺼셈 : {sub} 두 정수의 곱셈 : {mul} \\n두 정수의 나눗셈 : {div} 나눗셈의 몫 : {sha} 나머지 : {rem}\")\n",
    "\n",
    "else:\n",
    "    print(\"0으로 나눌 순 없습니다.\")"
   ]
  },
  {
   "cell_type": "code",
   "execution_count": 3,
   "id": "f5a854ed",
   "metadata": {},
   "outputs": [
    {
     "name": "stdout",
     "output_type": "stream",
     "text": [
      "World Hello\n"
     ]
    }
   ],
   "source": [
    "# 3. 문자열의 분리하기와 합치기 기능을 이용하여 'Hello World'가 할당된 변수를 이용하여 'World Hello'로 출력\n",
    "str_='Hello World'\n",
    "\n",
    "str_2 = str_.split()\n",
    "\n",
    "str_3 = str_2[1]+ \" \" + str_2[0]\n",
    "\n",
    "print(str_3)"
   ]
  },
  {
   "cell_type": "code",
   "execution_count": 4,
   "id": "6761a09e",
   "metadata": {},
   "outputs": [
    {
     "name": "stdout",
     "output_type": "stream",
     "text": [
      "bcdefa\n"
     ]
    }
   ],
   "source": [
    "# 4. x='abcdef' 를 이용하여 'bcdefa'로 출력(문자 슬라이싱이용)\n",
    "\n",
    "x = 'abcdef'\n",
    "\n",
    "print(x[1:] + x[0])"
   ]
  },
  {
   "cell_type": "code",
   "execution_count": 5,
   "id": "35027eb8",
   "metadata": {},
   "outputs": [
    {
     "name": "stdout",
     "output_type": "stream",
     "text": [
      "fedcba\n"
     ]
    }
   ],
   "source": [
    "# 5. x='abcdef' 를 이용하여 fedcba로 출력\n",
    "\n",
    "x = 'abcdef'\n",
    "\n",
    "print(x[::-1])"
   ]
  },
  {
   "cell_type": "code",
   "execution_count": 6,
   "id": "1bfbc53e",
   "metadata": {},
   "outputs": [
    {
     "name": "stdout",
     "output_type": "stream",
     "text": [
      "오늘의 온도는?24\n",
      "[75.20]\n"
     ]
    }
   ],
   "source": [
    "# 6. 오늘의 온도를 섭씨온도로 입력받아 화씨 온도로 변환하는 프로그램\n",
    "# 단 화씨온도는 소수점이 있을경우만 두번째 자리까지 출력, 소수점이하값이 없는경우 소수점 출력x\n",
    "\n",
    "C = float(input(\"오늘의 온도는?\"))\n",
    "\n",
    "F = (C * 1.8) + 32\n",
    "\n",
    "abs_ = abs(int(F) - F)\n",
    "\n",
    "if abs_ !=0:\n",
    "\n",
    "    print(\"[{:.2f}]\".format(F))\n",
    "    \n",
    "else:\n",
    "    \n",
    "    print(int(F))"
   ]
  },
  {
   "cell_type": "code",
   "execution_count": null,
   "id": "2f2993ff",
   "metadata": {},
   "outputs": [],
   "source": [
    "''' 7. 다음 중 변수 선언으로 잘못된 것을 모두 고르시오?\n",
    "① for \n",
    "② 10th\n",
    "③ Student.name\n",
    "④ _1234\n",
    "\n",
    "정답 ①, ②\n",
    "① for는 파이썬 예약어이다\n",
    "② 10th는 변수선언 시작을 숫자로 했기에 오류가 발생한다. 시작은 문자(특수문자는 _만)로 해야 한다.\n",
    "③ 특수문자는 _만 사용 가능하다. 또한 대문자 앞자리는 거의 사용하지 않는다.\n",
    "'''\n"
   ]
  },
  {
   "cell_type": "code",
   "execution_count": null,
   "id": "0ac35db5",
   "metadata": {},
   "outputs": [],
   "source": [
    "# 8 다음 코드의 실행 결과는?\n",
    "text=\"Seoul A001 - progreamming with python\"\n",
    "print(text[:4]+text[-1]+text,split()[0])\n",
    "print(text[:4], text[-1], text.split()[0])\n",
    "\n",
    "\"\"\"\n",
    "정답\n",
    "SeonS\n",
    "Seo, n, S\n",
    "\"\"\""
   ]
  },
  {
   "cell_type": "code",
   "execution_count": null,
   "id": "d267148c",
   "metadata": {},
   "outputs": [],
   "source": [
    "\"\"\"# 9. 다음 중 파이썬 3.x 버전에서 연산식과 그 결과의 출력이 잘못된 것은\n",
    "① 수식 8//2 결과 4 \n",
    "② 수식 8/2 결과 4\n",
    "③ 수식 8**2 결과 64\n",
    "\n",
    "정답 ②\n",
    "8/2는 4라는 값 자체는 맞으나 파이썬에선 나눗셈의 값은 실수형(float)으로 반환하기에 정수형(int)인 4로 나오지 않는다.\n",
    "실제로는 4.0으로 반환되며 만약 4의 값을 반환하고 싶다면 int(8/4)를 사용해야 한다\n",
    "\"\"\""
   ]
  },
  {
   "cell_type": "code",
   "execution_count": null,
   "id": "97e2038c",
   "metadata": {},
   "outputs": [],
   "source": [
    "# 10. 아래 프로그램의 결과는?\n",
    "x=5\n",
    "y='John'\n",
    "print(x + y)\n",
    "\n",
    "\"\"\"\n",
    "정답\n",
    "error\n",
    "문자끼리의 합은 가능하나 숫자+문자는 불가능하므로 x를 문자형으로 바꾸자\n",
    "str(x)\n",
    "\"\"\""
   ]
  },
  {
   "cell_type": "code",
   "execution_count": 7,
   "id": "4e66c084",
   "metadata": {},
   "outputs": [
    {
     "name": "stdout",
     "output_type": "stream",
     "text": [
      "\" 나라 \"\n"
     ]
    }
   ],
   "source": [
    "# 11. split()함수를 이용하여 str_의 값 중  \" 나라 \" 를 출력하는 프로그램을 완성하시오\n",
    "str_ = \"우리 나라 대한 민국\"\n",
    "# print(\"[{:^4}]\".format(str_.split()[1]))\n",
    "print(f'\" {str_.split()[1]} \"')\n"
   ]
  }
 ],
 "metadata": {
  "kernelspec": {
   "display_name": "Python 3 (ipykernel)",
   "language": "python",
   "name": "python3"
  },
  "language_info": {
   "codemirror_mode": {
    "name": "ipython",
    "version": 3
   },
   "file_extension": ".py",
   "mimetype": "text/x-python",
   "name": "python",
   "nbconvert_exporter": "python",
   "pygments_lexer": "ipython3",
   "version": "3.10.9"
  },
  "toc": {
   "base_numbering": 1,
   "nav_menu": {},
   "number_sections": false,
   "sideBar": true,
   "skip_h1_title": false,
   "title_cell": "Table of Contents",
   "title_sidebar": "Contents",
   "toc_cell": false,
   "toc_position": {
    "height": "calc(100% - 180px)",
    "left": "10px",
    "top": "150px",
    "width": "248.797px"
   },
   "toc_section_display": true,
   "toc_window_display": true
  }
 },
 "nbformat": 4,
 "nbformat_minor": 5
}
