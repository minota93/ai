{
 "cells": [
  {
   "cell_type": "code",
   "execution_count": 1,
   "id": "c9a92d6a",
   "metadata": {},
   "outputs": [
    {
     "data": {
      "text/html": [
       "\n",
       "<style>\n",
       "div.container{width:90% ! important;}\n",
       "div.cell.code_cell.rendered{width:100%}\n",
       "div.input_prompt{padding:0px}\n",
       "div.CodeMirror {font-family:Consolas ; font-size:12pt;}\n",
       "div.text_cell_render.rendered_html {font-size:12pt;}\n",
       "div.output {font-size:12pt; font-weight:bold}\n",
       "div.input {font-family:Consolas ; font-size:12pt;}\n",
       "div.prompt {min-width:70px;}\n",
       "div#toc-wrapper {padding-top:120px;}\n",
       "div.text_cell_render ul li{font-size:12pt;padding:5px;}\n",
       "table.dataframe{font-size:12px;}\n",
       "</style>\n"
      ],
      "text/plain": [
       "<IPython.core.display.HTML object>"
      ]
     },
     "metadata": {},
     "output_type": "display_data"
    }
   ],
   "source": [
    "from IPython.display import display, HTML\n",
    "display(HTML(\"\"\"\n",
    "<style>\n",
    "div.container{width:90% ! important;}\n",
    "div.cell.code_cell.rendered{width:100%}\n",
    "div.input_prompt{padding:0px}\n",
    "div.CodeMirror {font-family:Consolas ; font-size:12pt;}\n",
    "div.text_cell_render.rendered_html {font-size:12pt;}\n",
    "div.output {font-size:12pt; font-weight:bold}\n",
    "div.input {font-family:Consolas ; font-size:12pt;}\n",
    "div.prompt {min-width:70px;}\n",
    "div#toc-wrapper {padding-top:120px;}\n",
    "div.text_cell_render ul li{font-size:12pt;padding:5px;}\n",
    "table.dataframe{font-size:12px;}\n",
    "</style>\n",
    "\"\"\"))"
   ]
  },
  {
   "cell_type": "markdown",
   "id": "fd3d6840",
   "metadata": {},
   "source": [
    "<b><font size=\"6\" color=\"red\">ch.01 파이썬 개요 및 환경 설정</font><b>\n",
    "# markdown이란  \n",
    "\n",
    "- 코드와 함께 문서화를 할 수 있음\n",
    "- 다양한 문서화 문법 ex.README.md 의 .md\n",
    "- esc+m을 눌러 markdown 할 수 있음\n",
    "    \n",
    "# 주피터 노트북 사용법(큰제목)\n",
    "\n",
    "- shift+enter: 포커스 된 셀이 실행되고, 커서가 다음셀로 이동\n",
    "- alt enter: 포커스 된 셀이 실행되고, 다음 셀이 생성된 후 다음셀로 이동\n",
    "- ctrl+enter: 포커스 된 셀이 실행되고, 포커스 이동이 없음\n",
    "- enter:다시 편집 상태로 돌아감"
   ]
  },
  {
   "cell_type": "code",
   "execution_count": null,
   "id": "b588765d",
   "metadata": {},
   "outputs": [],
   "source": [
    "# 셀 하나하나에 파이썬 소스 입력 -> 살행"
   ]
  },
  {
   "cell_type": "code",
   "execution_count": null,
   "id": "fb345489",
   "metadata": {},
   "outputs": [],
   "source": [
    "# esc+a는 셀 추가(위에), esc+b는 셀 추가(아래로)"
   ]
  },
  {
   "cell_type": "code",
   "execution_count": 6,
   "id": "362d4be4",
   "metadata": {},
   "outputs": [
    {
     "name": "stdout",
     "output_type": "stream",
     "text": [
      "Hello, Python\n",
      "홍길동\n"
     ]
    }
   ],
   "source": [
    "# print()함수를 이용해서 출력 (블럭잡고 ctrl+/ : 블럭주석 토글)\n",
    "# print(\"Hello Python\")\n",
    "# print(\"홍길동\")\n",
    "print(\"Hello, Python\\n홍길동\")"
   ]
  },
  {
   "cell_type": "code",
   "execution_count": 10,
   "id": "987273d3",
   "metadata": {},
   "outputs": [
    {
     "name": "stdout",
     "output_type": "stream",
     "text": [
      "27\n",
      "252\n"
     ]
    }
   ],
   "source": [
    "age = 25 #숫자\n",
    "duration = \"2\" #문자\n",
    "print(age+int(duration))\n",
    "print(str(age)+duration)\n",
    "\n",
    "# 코드 앞에 라인 넘버 넣는 방법\n",
    "# view 메뉴 ->toggle line number선택"
   ]
  },
  {
   "cell_type": "code",
   "execution_count": 13,
   "id": "4e430a7e",
   "metadata": {},
   "outputs": [
    {
     "name": "stdout",
     "output_type": "stream",
     "text": [
      "0\n",
      "1\n",
      "2\n",
      "3\n",
      "4\n",
      "5\n",
      "6\n",
      "7\n",
      "8\n",
      "9\n"
     ]
    }
   ],
   "source": [
    "# in [n] 안에 n(숫자)대신 *이 들어가 있는 경우 \n",
    "# stop기능(▶Run 옆에 ■)\n",
    "# Kernel메뉴->restart기능을 사용하면 메모리 초기화(restart & outputclear은 실행한 output 제거)\n",
    "# 실수로 할당된 print 변수를 삭제(1)\n",
    "# del print\n",
    "# 실수로 할당된 print 변수를 삭제(1) \n",
    "# kernel 재시작\n",
    "print=5\n",
    "del print\n",
    "\n",
    "for i in range(10):\n",
    "    print(i)"
   ]
  },
  {
   "cell_type": "markdown",
   "id": "e22b5512",
   "metadata": {},
   "source": [
    "# ESC키 누르고\n",
    "- dd:셀 삭제\n",
    "- a:윗셀추가\n",
    "- b:아랫셀추가\n",
    "- m:마크다운 셀로 변경\n",
    "- y:코드셀로 변경\n",
    "- h:핫키(단축키) 안내\n",
    "- o:헤당셀의 실행결과 접기"
   ]
  },
  {
   "cell_type": "code",
   "execution_count": 14,
   "id": "fa71bcbc",
   "metadata": {
    "collapsed": true
   },
   "outputs": [
    {
     "name": "stdout",
     "output_type": "stream",
     "text": [
      " C 드라이브의 볼륨에는 이름이 없습니다.\n",
      " 볼륨 일련 번호: A014-DCD6\n",
      "\n",
      " C:\\ai\\source\\01_python 디렉터리\n",
      "\n",
      "2025-09-12  오전 10:50    <DIR>          .\n",
      "2025-09-12  오전 10:50    <DIR>          ..\n",
      "2025-09-12  오전 09:23    <DIR>          .ipynb_checkpoints\n",
      "2025-09-12  오전 10:50             5,906 ch01_파이썬 개요 및 환경 설정.ipynb\n",
      "2025-09-11  오후 05:41               565 jupyter폰트크기설정.txt\n",
      "2025-09-12  오전 09:27             2,689 Untitled.ipynb\n",
      "               3개 파일               9,160 바이트\n",
      "               3개 디렉터리  155,833,884,672 바이트 남음\n"
     ]
    }
   ],
   "source": [
    "!dir \n",
    "#주피터 노트북에서 cmd명령어 수행은 !+터미널 명령어"
   ]
  },
  {
   "cell_type": "code",
   "execution_count": 15,
   "id": "8115de7c",
   "metadata": {},
   "outputs": [
    {
     "name": "stdout",
     "output_type": "stream",
     "text": [
      " C 드라이브의 볼륨에는 이름이 없습니다.\n",
      " 볼륨 일련 번호: A014-DCD6\n",
      "\n",
      " C:\\ai\\source\\01_python 디렉터리\n",
      "\n",
      "2025-09-12  오전 10:52    <DIR>          .\n",
      "2025-09-12  오전 10:52    <DIR>          ..\n",
      "2025-09-12  오전 09:23    <DIR>          .ipynb_checkpoints\n",
      "2025-09-12  오전 10:52             7,165 ch01_파이썬 개요 및 환경 설정.ipynb\n",
      "2025-09-11  오후 05:41               565 jupyter폰트크기설정.txt\n",
      "2025-09-12  오전 09:27             2,689 Untitled.ipynb\n",
      "               3개 파일              10,419 바이트\n",
      "               3개 디렉터리  155,832,860,672 바이트 남음\n"
     ]
    }
   ],
   "source": [
    "# 매직 명령어(주피터 노트북 자체 명령어-우분투명령어를 따름)\n",
    "%ls"
   ]
  },
  {
   "cell_type": "code",
   "execution_count": null,
   "id": "456eace4",
   "metadata": {},
   "outputs": [],
   "source": []
  }
 ],
 "metadata": {
  "kernelspec": {
   "display_name": "Python 3 (ipykernel)",
   "language": "python",
   "name": "python3"
  },
  "language_info": {
   "codemirror_mode": {
    "name": "ipython",
    "version": 3
   },
   "file_extension": ".py",
   "mimetype": "text/x-python",
   "name": "python",
   "nbconvert_exporter": "python",
   "pygments_lexer": "ipython3",
   "version": "3.10.9"
  },
  "toc": {
   "base_numbering": 1,
   "nav_menu": {},
   "number_sections": false,
   "sideBar": true,
   "skip_h1_title": false,
   "title_cell": "Table of Contents",
   "title_sidebar": "Contents",
   "toc_cell": false,
   "toc_position": {
    "height": "calc(100% - 180px)",
    "left": "10px",
    "top": "150px",
    "width": "330px"
   },
   "toc_section_display": true,
   "toc_window_display": true
  }
 },
 "nbformat": 4,
 "nbformat_minor": 5
}
