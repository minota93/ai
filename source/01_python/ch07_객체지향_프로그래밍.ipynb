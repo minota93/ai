{
 "cells": [
  {
   "cell_type": "code",
   "execution_count": 1,
   "id": "3531e6ed",
   "metadata": {},
   "outputs": [
    {
     "data": {
      "text/html": [
       "\n",
       "<style>\n",
       "div.container{width:90% ! important;}\n",
       "div.cell.code_cell.rendered{width:100%}\n",
       "div.input_prompt{padding:0px}\n",
       "div.CodeMirror {font-family:Consolas ; font-size:12pt;}\n",
       "div.text_cell_render.rendered_html {font-size:12pt;}\n",
       "div.output {font-size:12pt; font-weight:bold}\n",
       "div.input {font-family:Consolas ; font-size:12pt;}\n",
       "div.prompt {min-width:70px;}\n",
       "div#toc-wrapper {padding-top:120px;}\n",
       "div.text_cell_render ul li{font-size:12pt;padding:5px;}\n",
       "table.dataframe{font-size:12px;}\n",
       "</style>\n"
      ],
      "text/plain": [
       "<IPython.core.display.HTML object>"
      ]
     },
     "metadata": {},
     "output_type": "display_data"
    }
   ],
   "source": [
    "from IPython.display import display, HTML\n",
    "display(HTML(\"\"\"\n",
    "<style>\n",
    "div.container{width:90% ! important;}\n",
    "div.cell.code_cell.rendered{width:100%}\n",
    "div.input_prompt{padding:0px}\n",
    "div.CodeMirror {font-family:Consolas ; font-size:12pt;}\n",
    "div.text_cell_render.rendered_html {font-size:12pt;}\n",
    "div.output {font-size:12pt; font-weight:bold}\n",
    "div.input {font-family:Consolas ; font-size:12pt;}\n",
    "div.prompt {min-width:70px;}\n",
    "div#toc-wrapper {padding-top:120px;}\n",
    "div.text_cell_render ul li{font-size:12pt;padding:5px;}\n",
    "table.dataframe{font-size:12px;}\n",
    "</style>\n",
    "\"\"\"))"
   ]
  },
  {
   "cell_type": "markdown",
   "id": "d2609ecb",
   "metadata": {},
   "source": [
    "<b><font size=\"6\" color=\"red\">ch.07 객체지향 프로그래밍</font></b>\n"
   ]
  },
  {
   "cell_type": "code",
   "execution_count": 3,
   "id": "3ca90999",
   "metadata": {},
   "outputs": [
    {
     "name": "stdout",
     "output_type": "stream",
     "text": [
      "홍길동 남자\n",
      "{'name': '홍낄똥', 'gender': '남자', 'academy': 'MBC'}\n",
      "{'name': '김길숙', 'gender': '여자', 'academy': 'MBC'}\n"
     ]
    }
   ],
   "source": [
    "person1 ={'name':'홍길동','gender':'남자','academy':'MBC'}\n",
    "person2 ={'name':'김길숙','gender':'여자','academy':'MBC'}\n",
    "print(person1['name'],person1.get('gender'))\n",
    "person1['name']=\"홍낄똥\"\n",
    "print(person1)\n",
    "print(person2)\n",
    "# person1.my_function()"
   ]
  },
  {
   "cell_type": "code",
   "execution_count": 17,
   "id": "779e9f96",
   "metadata": {},
   "outputs": [
    {
     "name": "stdout",
     "output_type": "stream",
     "text": [
      "MBC의 김길숙님은 여자입니다.\n",
      "MBC의 홍길동님은 남자입니다.\n",
      "MBC의 홍홍홍님은 여자입니다.\n",
      "MBC의 홍길동님은 남자입니다.\n",
      "<__main__.Person object at 0x000002126AC610C0>\n"
     ]
    }
   ],
   "source": [
    "class Person:\n",
    "    academy ='MBC'  # 클래스변수\n",
    "    def __init__(self, name, gender): # 생성자함수\n",
    "        self.name = name\n",
    "        self.gender = gender\n",
    "    def print_info(self):\n",
    "        print(\"{}의 {}님은 {}입니다.\".format(self.academy, self.name, self.gender))\n",
    "              \n",
    "p1 = Person(\"김길숙\",\"여자\") # 객체변수(인스턴스) 생성\n",
    "p1.print_info()\n",
    "p2=Person('홍길동','남자')\n",
    "p2.print_info()\n",
    "p1.name='홍홍홍'\n",
    "p1.print_info()\n",
    "p2.print_info()\n",
    "print(p1)"
   ]
  },
  {
   "cell_type": "code",
   "execution_count": 14,
   "id": "06a7ffef",
   "metadata": {},
   "outputs": [
    {
     "name": "stdout",
     "output_type": "stream",
     "text": [
      "SBS의 홍길동님은 남자입니다.\n",
      "MBC의 홍홍홍님은 여자입니다.\n"
     ]
    }
   ],
   "source": [
    "p2.academy=\"SBS\"\n",
    "p2.print_info()\n",
    "p1.print_info()"
   ]
  },
  {
   "cell_type": "markdown",
   "id": "cf94972b",
   "metadata": {},
   "source": [
    "# 1절 객체와 클래스\n",
    "```\n",
    "class 클래스명(상속받을 클래스명):\n",
    "    '독스트링'\n",
    "    변수나 함수들을 선언\n",
    "```"
   ]
  },
  {
   "cell_type": "code",
   "execution_count": 23,
   "id": "b54c7c0e",
   "metadata": {},
   "outputs": [
    {
     "data": {
      "text/plain": [
       "__main__.Person"
      ]
     },
     "execution_count": 23,
     "metadata": {},
     "output_type": "execute_result"
    }
   ],
   "source": [
    "class Person:\n",
    "    'Person 클래스는 어쩌구 저쩌구 여러줄 설명하는 독스트링'\n",
    "    pass\n",
    "#     def __init__(self,name):\n",
    "#         self.name=name\n",
    "p1 = Person()\n",
    "type(p1)"
   ]
  },
  {
   "cell_type": "code",
   "execution_count": 19,
   "id": "f94d5e70",
   "metadata": {},
   "outputs": [
    {
     "name": "stdout",
     "output_type": "stream",
     "text": [
      "<__main__.Person object at 0x000002126AC60070>\n",
      "<__main__.Person object at 0x000002126AC60070>\n"
     ]
    }
   ],
   "source": [
    "print(p1)\n",
    "print(p1.__str__())"
   ]
  },
  {
   "cell_type": "code",
   "execution_count": 20,
   "id": "fae1c9a5",
   "metadata": {},
   "outputs": [
    {
     "data": {
      "text/plain": [
       "True"
      ]
     },
     "execution_count": 20,
     "metadata": {},
     "output_type": "execute_result"
    }
   ],
   "source": [
    "isinstance(p1,Person)"
   ]
  },
  {
   "cell_type": "code",
   "execution_count": 24,
   "id": "6680cb89",
   "metadata": {},
   "outputs": [
    {
     "data": {
      "text/plain": [
       "'Person 클래스는 어쩌구 저쩌구 여러줄 설명하는 독스트링'"
      ]
     },
     "execution_count": 24,
     "metadata": {},
     "output_type": "execute_result"
    }
   ],
   "source": [
    "p1.__doc__"
   ]
  },
  {
   "cell_type": "markdown",
   "id": "4e0f6a4c",
   "metadata": {},
   "source": [
    "# 2절 생성자(`__init__()`)와 소멸자(`__del__()`)\n",
    "\n",
    "- 생성자 : __init__(self,[매개변수1, 매개변수2..]) 객체가 생성될 때 자동 실행\n",
    "        객체 생성시 필요한 코드(인스턴스 변수 생성과 초기화)를 포함한다.\n",
    "\n",
    "- 소멸자 : __del__(self) - 객체가 소멸될 때 자동 실행\n",
    "        객체 소멸시 필요한 코드를 포함\n",
    "        인스턴스(객체)의 레퍼런스 카운트가 0이 될 때 실행"
   ]
  },
  {
   "cell_type": "code",
   "execution_count": 1,
   "id": "924000fa",
   "metadata": {},
   "outputs": [],
   "source": [
    "class Person:\n",
    "    def __init__(self,name, gender):\n",
    "        self.name=name # 인스턴스 변수를 초기화\n",
    "        self.gender=gender\n",
    "        print('Person형 객체를 생성')\n",
    "    def __del__(self):\n",
    "        print(\"person형 객체 소멸\")\n",
    "    def print_info(self):\n",
    "        print('{}님은 {}입니다.'.format(self.name,self.gender))\n",
    "    def __str__(self): #오버라이딩(상속받은 함수가 마음에 들지 않을 때 함수 재정의)\n",
    "        return '{}님은 {}입니다.'.format(self.name,self.gender)"
   ]
  },
  {
   "cell_type": "code",
   "execution_count": 9,
   "id": "f8af52d3",
   "metadata": {},
   "outputs": [
    {
     "name": "stdout",
     "output_type": "stream",
     "text": [
      "Person형 객체를 생성\n",
      "신사임당님은 여자입니다.\n"
     ]
    }
   ],
   "source": [
    "p1=Person('신사임당','여자')\n",
    "p1.print_info()"
   ]
  },
  {
   "cell_type": "code",
   "execution_count": 4,
   "id": "d52f3c5e",
   "metadata": {},
   "outputs": [
    {
     "name": "stdout",
     "output_type": "stream",
     "text": [
      "신사임당님은 여자입니다.\n"
     ]
    }
   ],
   "source": [
    "p1.print_info()"
   ]
  },
  {
   "cell_type": "code",
   "execution_count": 5,
   "id": "1bb9c9b5",
   "metadata": {},
   "outputs": [
    {
     "name": "stdout",
     "output_type": "stream",
     "text": [
      "신사임당님은 여자입니다.\n",
      "신사임당님은 여자입니다.\n"
     ]
    }
   ],
   "source": [
    "print(p1)\n",
    "print(p1.__str__())"
   ]
  },
  {
   "cell_type": "code",
   "execution_count": 6,
   "id": "71fe3230",
   "metadata": {},
   "outputs": [
    {
     "data": {
      "text/plain": [
       "True"
      ]
     },
     "execution_count": 6,
     "metadata": {},
     "output_type": "execute_result"
    }
   ],
   "source": [
    "isinstance(p1, Person)"
   ]
  },
  {
   "cell_type": "code",
   "execution_count": 10,
   "id": "8365f84b",
   "metadata": {},
   "outputs": [
    {
     "name": "stdout",
     "output_type": "stream",
     "text": [
      "person형 객체 소멸\n"
     ]
    }
   ],
   "source": [
    "del p1"
   ]
  },
  {
   "cell_type": "code",
   "execution_count": 16,
   "id": "ed5a29d0",
   "metadata": {},
   "outputs": [
    {
     "name": "stdout",
     "output_type": "stream",
     "text": [
      "Person형 객체를 생성\n"
     ]
    }
   ],
   "source": [
    "p2 = Person('홍길동','남자')"
   ]
  },
  {
   "cell_type": "code",
   "execution_count": 17,
   "id": "cf9b17fe",
   "metadata": {},
   "outputs": [],
   "source": [
    "p3 = p2  # p3가 p2의 주소를 복사하여 레퍼런스 카운트가2개"
   ]
  },
  {
   "cell_type": "code",
   "execution_count": 18,
   "id": "6b39ea49",
   "metadata": {},
   "outputs": [],
   "source": [
    "del p2"
   ]
  },
  {
   "cell_type": "code",
   "execution_count": 19,
   "id": "f9b66ff9",
   "metadata": {},
   "outputs": [
    {
     "name": "stdout",
     "output_type": "stream",
     "text": [
      "person형 객체 소멸\n"
     ]
    }
   ],
   "source": [
    "del p3"
   ]
  },
  {
   "cell_type": "markdown",
   "id": "37bfa156",
   "metadata": {},
   "source": [
    "- **오버라이딩**(함수의 재정의)\n",
    "- **오버로딩**(함수의 중복정의) - 파이썬은 불가능\n",
    "- 생성자함수 **오버로딩**불가"
   ]
  },
  {
   "cell_type": "code",
   "execution_count": 34,
   "id": "c3ca1d4f",
   "metadata": {},
   "outputs": [],
   "source": [
    "class Person:\n",
    "#     생성자 함수 오버로딩 불가, 대신 기본값을 갖는 매개변수 이용\n",
    "    academy = 'MBC' # 클래스 변수\n",
    "    def __init__(self, name='홍길동', gender=\"남자\"):\n",
    "        self.name=name # 인스턴스 변수를 초기화\n",
    "        self.gender=gender\n",
    "        print('Person형 객체를 생성')\n",
    "#     def __init__(self,name):\n",
    "#         self.name=name\n",
    "#         self.gender=\"남자\"\n",
    "    def print_info(self):\n",
    "        print('{}님은 {}입니다.'.format(self.name,self.gender))\n",
    "    def __str__(self): #오버라이딩(상속받은 함수가 마음에 들지 않을 때 함수 재정의)\n",
    "        return '{}님은 {}입니다.'.format(self.name,self.gender)"
   ]
  },
  {
   "cell_type": "code",
   "execution_count": 39,
   "id": "7f0c069a",
   "metadata": {},
   "outputs": [
    {
     "name": "stdout",
     "output_type": "stream",
     "text": [
      "Person형 객체를 생성\n",
      "Person형 객체를 생성\n",
      "Person형 객체를 생성\n",
      "Person형 객체를 생성\n",
      "Person형 객체를 생성\n",
      "p1= 김길숙님은 여자입니다.\n",
      "p2= 홍길동님은 남자입니다.\n",
      "p3= 강감찬님은 남자입니다.\n",
      "p4= 홍길동님은 남자입니다.\n",
      "p5= 홍길동님은 여자입니다.\n"
     ]
    }
   ],
   "source": [
    "p1 = Person(\"김길숙\",'여자')\n",
    "p2 = Person(gender='남자',name=\"홍길동\")\n",
    "p3 = Person('강감찬')\n",
    "p4 = Person()\n",
    "p5 = Person(gender='여자') \n",
    "\n",
    "print('p1=',p1)\n",
    "print('p2=',p2)\n",
    "print('p3=',p3)\n",
    "print('p4=',p4)\n",
    "print('p5=',p5)"
   ]
  },
  {
   "cell_type": "markdown",
   "id": "65327bbf",
   "metadata": {},
   "source": [
    "# 3절 변수와 함수(메소드)\n",
    "- 인스턴스변수 vs 클래스변수 vs static변수(정젹변수)\n",
    "- 인스턴스함수(self) vs 클래스메소드(cls) vs static메소드()"
   ]
  },
  {
   "cell_type": "code",
   "execution_count": 48,
   "id": "c4a09c20",
   "metadata": {},
   "outputs": [
    {
     "name": "stdout",
     "output_type": "stream",
     "text": [
      "MBC\n",
      "p1객체변수(인스턴스)= MBC의 홍길동님은 남자입니다.\n",
      "p2객체변수(인스턴스)= MBC의 홍길동님은 남자입니다.\n",
      "p1객체변수(인스턴스)= SBS의 홍길동님은 남자입니다.\n",
      "p2객체변수(인스턴스)= 다른데의 홍길동님은 남자입니다.\n"
     ]
    }
   ],
   "source": [
    "# 클래스 변수는 클래스 내부에 선언되며, 생성된 모든 인스턴스(객체)에 동일한 값을 가진다\n",
    "# 인스턴스(객체).클래스변수로 수정하면 해당 인스턴스(객체)만 반영\n",
    "# 클래스명.클래스변수로 수정하면 모든 인스턴스에 반영\n",
    "class Person:\n",
    "    academy = 'MBC' \n",
    "    def __init__(self, name='홍길동', gender='남자'):\n",
    "        self.name=name \n",
    "        self.gender=gender\n",
    "    def __str__(self):\n",
    "        return '{}의 {}님은 {}입니다.'.format(self.academy,self.name,self.gender)\n",
    "\n",
    "print(Person.academy)\n",
    "p1 = Person()\n",
    "p2 = Person()\n",
    "print('p1객체변수(인스턴스)=',p1)\n",
    "print('p2객체변수(인스턴스)=',p2)\n",
    "p1.academy='SBS' # 인스턴스.클래스변수로 수정하면 해당 인스턴스만 변경\n",
    "Person.academy=\"다른데\"\n",
    "print('p1객체변수(인스턴스)=',p1)\n",
    "print('p2객체변수(인스턴스)=',p2)\n",
    "# print(Person.__str__()) # error"
   ]
  },
  {
   "cell_type": "markdown",
   "id": "7e086497",
   "metadata": {},
   "source": [
    "※인스턴스 메소드, 클래스 메소드, static 메소드\n",
    "- 인스턴스 메소드 : 첫번째 인자에 self를 꼭 명시, 객체를 통해서만 호출할 수 있는 메소드\n",
    "- 클래스 메소드 : 메소드위에 @classmethod를 명시. 첫번째 인자에 clz(cls)를 명시\n",
    "- static 메소드 : 메소드 위에 @staticmethod를 명시. 디폴트 인자 없음"
   ]
  },
  {
   "cell_type": "code",
   "execution_count": 49,
   "id": "c1e83640",
   "metadata": {},
   "outputs": [],
   "source": [
    "class Person:\n",
    "    academy = 'MBC' #클래스변수\n",
    "    def __init__(self,name='홍길동',gender='남자'):\n",
    "        self.name = name\n",
    "        self.gender = gender\n",
    "    def print_info(self): # 인스턴스메소드 : 객체변수.print_info()로 호출\n",
    "        print(f'일반(인스턴스)메소드 - {self.academy}의 {self.name} 님은 {self.gender} 입니다.')\n",
    "    def change_info(self, name='익명',gender='여자'):\n",
    "        self.name=name\n",
    "        self.gender=gender\n",
    "        print('일반(인스턴스)메소드를 통해 {}로 이름 변경.{}로 성별변경'.format(self.name,self.gender))\n",
    "        \n",
    "    @classmethod # 반드시 클래스 메소드 바로 위에 작성\n",
    "    def do_(clz): # clz => Person의미. 클래스 변수를 이용한 로직 \n",
    "        clz.academy ='classAcademy'\n",
    "        print('클래스 메소드에서 {}로 클래스변수 변경'.format(clz.academy))\n",
    "    @classmethod #클래스 매소드를 추가 작성 시 꼭 추가할 때마다 추가해야함\n",
    "    def done_(clz,academy):\n",
    "        clz.academy =academy\n",
    "        print('클래스 메소드에서 {}로 클래스변수 변경'.format(clz.academy))\n",
    "    @staticmethod\n",
    "    def that_(): # 클래스변수보다는 로직이 우선일 경우\n",
    "        Person.academy=\"staticAcademy\"\n",
    "        print(\"static 메소드에서 {}로 클래스 변수 변경\".format(Person.academy))"
   ]
  },
  {
   "cell_type": "code",
   "execution_count": 50,
   "id": "b7a34548",
   "metadata": {},
   "outputs": [
    {
     "name": "stdout",
     "output_type": "stream",
     "text": [
      "일반(인스턴스)메소드 - MBC의 홍길동 님은 남자 입니다.\n"
     ]
    }
   ],
   "source": [
    "p1=Person()\n",
    "p1.print_info()"
   ]
  },
  {
   "cell_type": "code",
   "execution_count": 51,
   "id": "a2a24840",
   "metadata": {},
   "outputs": [
    {
     "name": "stdout",
     "output_type": "stream",
     "text": [
      "static 메소드에서 staticAcademy로 클래스 변수 변경\n"
     ]
    }
   ],
   "source": [
    "Person.that_()"
   ]
  },
  {
   "cell_type": "code",
   "execution_count": 52,
   "id": "195fddc6",
   "metadata": {},
   "outputs": [
    {
     "name": "stdout",
     "output_type": "stream",
     "text": [
      "일반(인스턴스)메소드 - staticAcademy의 홍길동 님은 남자 입니다.\n"
     ]
    }
   ],
   "source": [
    "p1.print_info()"
   ]
  },
  {
   "cell_type": "code",
   "execution_count": 53,
   "id": "d9afa06f",
   "metadata": {},
   "outputs": [
    {
     "name": "stdout",
     "output_type": "stream",
     "text": [
      "일반(인스턴스)메소드를 통해 익명로 이름 변경.여자로 성별변경\n",
      "일반(인스턴스)메소드 - staticAcademy의 익명 님은 여자 입니다.\n"
     ]
    }
   ],
   "source": [
    "p1.change_info()\n",
    "p1.print_info()"
   ]
  },
  {
   "cell_type": "code",
   "execution_count": 54,
   "id": "683ef4db",
   "metadata": {},
   "outputs": [
    {
     "name": "stdout",
     "output_type": "stream",
     "text": [
      "일반(인스턴스)메소드 - staticAcademy의 홍길동 님은 남자 입니다.\n"
     ]
    }
   ],
   "source": [
    "p2=Person()\n",
    "p2.print_info()"
   ]
  },
  {
   "cell_type": "code",
   "execution_count": 55,
   "id": "b0e6b161",
   "metadata": {},
   "outputs": [
    {
     "name": "stdout",
     "output_type": "stream",
     "text": [
      "클래스 메소드에서 classAcademy로 클래스변수 변경\n",
      "일반(인스턴스)메소드 - classAcademy의 익명 님은 여자 입니다.\n",
      "일반(인스턴스)메소드 - classAcademy의 홍길동 님은 남자 입니다.\n"
     ]
    }
   ],
   "source": [
    "Person.do_()\n",
    "p1.print_info()\n",
    "p2.print_info()"
   ]
  },
  {
   "cell_type": "code",
   "execution_count": 56,
   "id": "da7494a7",
   "metadata": {},
   "outputs": [
    {
     "name": "stdout",
     "output_type": "stream",
     "text": [
      "클래스 메소드에서 SBS로 클래스변수 변경\n",
      "일반(인스턴스)메소드 - SBS의 익명 님은 여자 입니다.\n",
      "일반(인스턴스)메소드 - SBS의 홍길동 님은 남자 입니다.\n"
     ]
    }
   ],
   "source": [
    "Person.done_('SBS')\n",
    "p1.print_info()\n",
    "p2.print_info()"
   ]
  },
  {
   "cell_type": "markdown",
   "id": "beb55b7f",
   "metadata": {},
   "source": [
    "# 4절 상속과 재정의\n",
    "- 클래스 재사용\n",
    "- 상속을 이용하면 부모클래스의 모든 속성을 자식클래스로 물려줄 수 있음\n",
    "```\n",
    "class 자식클래스명(부모클래스명):\n",
    "    \n",
    "```"
   ]
  },
  {
   "cell_type": "code",
   "execution_count": 57,
   "id": "18750964",
   "metadata": {},
   "outputs": [],
   "source": [
    "class Person:\n",
    "    def __init__(self,name, gender):\n",
    "        self.name=name # 인스턴스 변수를 초기화\n",
    "        self.gender=gender\n",
    "        print('Person객체 생성합니다(부모클래스)')\n",
    "    def print_info(self):\n",
    "        print(self)\n",
    "    def __str__(self): #오버라이딩(상속받은 함수가 마음에 들지 않을 때 함수 재정의)\n",
    "        return '{}님은 {}입니다.'.format(self.name,self.gender)"
   ]
  },
  {
   "cell_type": "code",
   "execution_count": 63,
   "id": "bd7f90ad",
   "metadata": {},
   "outputs": [],
   "source": [
    "class Student(Person): # Person의 print_info()와 __str__()이 상속됨[이 클래스 안엔 타이핑이 없지만 실제론 들어가 있음], __init__()은 상속되지 않음\n",
    "    def __init__(self, name, gender, major):\n",
    "        self.name = name\n",
    "        self.gender = gender\n",
    "        self.major = major\n",
    "        print('student 객체 생성합니다.(자식클래스)')\n",
    "    # 재정의(override) : 부모클래스에서 저으이한 함수를 자식클래스에서 다시 정의\n",
    "    def __str__(self): \n",
    "        return '{}님은 {}입니다. 전공은 {}입니다.'.format(self.name,self.gender,self.major)"
   ]
  },
  {
   "cell_type": "code",
   "execution_count": 64,
   "id": "86d5e087",
   "metadata": {},
   "outputs": [
    {
     "name": "stdout",
     "output_type": "stream",
     "text": [
      "Person객체 생성합니다(부모클래스)\n",
      "홍길동님은 남자입니다.\n",
      "True\n"
     ]
    }
   ],
   "source": [
    "p1=Person(\"홍길동\",'남자')\n",
    "print(p1)\n",
    "print(isinstance(p1,Person))"
   ]
  },
  {
   "cell_type": "code",
   "execution_count": 65,
   "id": "0fd317d3",
   "metadata": {},
   "outputs": [
    {
     "name": "stdout",
     "output_type": "stream",
     "text": [
      "student 객체 생성합니다.(자식클래스)\n",
      "홍길숙님은 여자입니다. 전공은 AI입니다.\n"
     ]
    }
   ],
   "source": [
    "s1 = Student('홍길숙','여자','AI')\n",
    "print(s1)"
   ]
  },
  {
   "cell_type": "code",
   "execution_count": 66,
   "id": "a56d238b",
   "metadata": {},
   "outputs": [
    {
     "name": "stdout",
     "output_type": "stream",
     "text": [
      "홍길숙님은 여자입니다. 전공은 AI입니다.\n"
     ]
    }
   ],
   "source": [
    "s1.print_info()"
   ]
  },
  {
   "cell_type": "code",
   "execution_count": 69,
   "id": "780ac6e7",
   "metadata": {},
   "outputs": [
    {
     "name": "stdout",
     "output_type": "stream",
     "text": [
      "True\n",
      "True\n"
     ]
    }
   ],
   "source": [
    "print(isinstance(s1,Student))\n",
    "print(isinstance(s1,Person))"
   ]
  },
  {
   "cell_type": "markdown",
   "id": "39f90479",
   "metadata": {},
   "source": [
    "### super() 이용\n",
    "- super() : '부모클래스'을 의미"
   ]
  },
  {
   "cell_type": "code",
   "execution_count": 70,
   "id": "b4bdb437",
   "metadata": {},
   "outputs": [],
   "source": [
    "class Person:\n",
    "    def __init__(self,name, gender):\n",
    "        self.name=name # 인스턴스 변수를 초기화\n",
    "        self.gender=gender\n",
    "        print('Person객체 생성합니다(부모클래스)')\n",
    "    def print_info(self):\n",
    "        print(self)\n",
    "    def __str__(self): #오버라이딩(상속받은 함수가 마음에 들지 않을 때 함수 재정의)\n",
    "        return '{}님은 {}입니다.'.format(self.name,self.gender)\n",
    "class Student(Person): # Person의 print_info()와 __str__()이 상속됨[이 클래스 안엔 타이핑이 없지만 실제론 들어가 있음], __init__()은 상속되지 않음\n",
    "    def __init__(self, name, gender, major):\n",
    "        super().__init__(name,gender)\n",
    "        self.major = major\n",
    "        print('student 객체 생성합니다.(자식클래스)')\n",
    "    # 재정의(override) : 부모클래스에서 저으이한 함수를 자식클래스에서 다시 정의\n",
    "    def __str__(self): \n",
    "        return super().__str__() + '전공은 {}입니다.'.format(self.major)"
   ]
  },
  {
   "cell_type": "code",
   "execution_count": 71,
   "id": "fc5f9c8d",
   "metadata": {},
   "outputs": [
    {
     "name": "stdout",
     "output_type": "stream",
     "text": [
      "Person객체 생성합니다(부모클래스)\n",
      "student 객체 생성합니다.(자식클래스)\n",
      "아무개님은 여자입니다.전공은 AI입니다.\n"
     ]
    }
   ],
   "source": [
    "s1=Student('아무개','여자','AI')\n",
    "s1.print_info()"
   ]
  },
  {
   "cell_type": "markdown",
   "id": "0b8ee917",
   "metadata": {},
   "source": [
    "### static 변수(정적변수) : 여러 객체들 사이에 데이터를 공유하고 싶을 때 사용\n",
    "- static 변수 : 앞에 under score2개(__)붙임. 클래스명._클래스명__static변수명으로 참조\n",
    "- static 변수는 클래스 내부에서만 접근하도록 하려는 용도"
   ]
  },
  {
   "cell_type": "code",
   "execution_count": 74,
   "id": "4da94e66",
   "metadata": {},
   "outputs": [],
   "source": [
    "class Student(Person):\n",
    "    'name, gender에 major변수를 갖는 Student 타입. Student객체를 몇번 생성했는지 공유'\n",
    "    __count = 0 # static 변수\n",
    "    def __init__(self, name, gender, major):\n",
    "        super().__init__(name, gender)\n",
    "        self.major=major\n",
    "        Student._Student__count += 1 # 객체가 생성될 때 마다 __count 1 증가\n",
    "    def __del__(self):\n",
    "        Student._Student__count -= 1 # 객체가 소멸될 때 마다 __count 1 감소\n",
    "    def __str__(self):\n",
    "        return super().__str__() + \"전공은 {} - 객체 {} 생성\".format(self.major,Student._Student__count)\n",
    "    @classmethod\n",
    "    def get_count(cls): # 클래스변수나 static변수를 이용하는 로직\n",
    "        return cls.__count\n",
    "#         return Student._Student__count # 위의 줄과 실행결과 같음\n",
    "    "
   ]
  },
  {
   "cell_type": "code",
   "execution_count": 75,
   "id": "0ba5e7df",
   "metadata": {},
   "outputs": [
    {
     "name": "stdout",
     "output_type": "stream",
     "text": [
      "Person객체 생성합니다(부모클래스)\n",
      "홍길동님은 남자입니다.전공은 컴공 - 객체 1 생성\n",
      "객체 갯수: 1\n",
      "객체 갯수: 1\n"
     ]
    }
   ],
   "source": [
    "s1=Student('홍길동','남자','컴공')\n",
    "print(s1)\n",
    "print('객체 갯수:', Student.get_count())\n",
    "print('객체 갯수:', s1.get_count()) #비추. 클래스 메소드는 클래스명.클래스매소드() 추천"
   ]
  },
  {
   "cell_type": "code",
   "execution_count": 77,
   "id": "6df01779",
   "metadata": {},
   "outputs": [
    {
     "name": "stdout",
     "output_type": "stream",
     "text": [
      "Person객체 생성합니다(부모클래스)\n",
      "홍길숙님은 여자입니다.전공은 컴공 - 객체 2 생성\n",
      "객체 갯수: 2\n"
     ]
    }
   ],
   "source": [
    "s2=Student('홍길숙','여자','컴공')\n",
    "print(s2)\n",
    "print('객체 갯수:', Student.get_count())"
   ]
  },
  {
   "cell_type": "code",
   "execution_count": 78,
   "id": "11be2d65",
   "metadata": {},
   "outputs": [
    {
     "name": "stdout",
     "output_type": "stream",
     "text": [
      "객체 갯수: 1\n"
     ]
    }
   ],
   "source": [
    "del s1\n",
    "print('객체 갯수:', Student.get_count())"
   ]
  },
  {
   "cell_type": "code",
   "execution_count": 79,
   "id": "5ca4c857",
   "metadata": {},
   "outputs": [
    {
     "name": "stdout",
     "output_type": "stream",
     "text": [
      "객체 갯수: 0\n"
     ]
    }
   ],
   "source": [
    "del s2\n",
    "print('객체 갯수:', Student.get_count())"
   ]
  },
  {
   "cell_type": "markdown",
   "id": "3da3f18f",
   "metadata": {},
   "source": [
    "# 5절 연습문제"
   ]
  },
  {
   "cell_type": "markdown",
   "id": "d55f700c",
   "metadata": {},
   "source": [
    "## 실습형"
   ]
  },
  {
   "cell_type": "code",
   "execution_count": 107,
   "id": "3c83f574",
   "metadata": {},
   "outputs": [],
   "source": [
    "# 도형 클래스와 삼각형 클래스\n",
    "class Shape:\n",
    "    def __init__(self,x=0,y=0): #생성자를 통해 x,y 좌표 초기화(0,0)\n",
    "        self.x=x\n",
    "        self.y=y\n",
    "        \n",
    "    def move(self,x,y): # x축, y축으로 얼마 move 할지를 받아 move\n",
    "        self.x+=x\n",
    "        self.y+=y\n",
    "        \n",
    "    def __str__(self):\n",
    "        return f'x좌표는 {self.x}, y좌표는 {self.y} 입니다.'\n",
    "    def cal_area(self): #호출시 강제로 예외발생\n",
    "        raise Exception(\"예외 메세지\") \n",
    "    @staticmethod\n",
    "    def staticmethod_():\n",
    "        print('도형 클래스의 staticmethod 호출')\n",
    "        \n",
    "class Triangle(Shape):\n",
    "    __count=0\n",
    "    def __init__(self,x,y,width,height):\n",
    "        super().__init__(x,y)\n",
    "        self.width=width\n",
    "        self.height=height\n",
    "        Triangle.__count += 1\n",
    "        \n",
    "    def __del__(self):\n",
    "        Triangle.__count -= 1\n",
    "        \n",
    "    def cal_area(self):\n",
    "        return self.width*self.height/2\n",
    "    \n",
    "    @classmethod\n",
    "    def get_count(cls):\n",
    "        return cls.__count\n",
    "    \n",
    "    def __str__(self):\n",
    "        return f'삼각형의 밑변은{self.width}이고 높이는{self.height}, 넓이는{self.cal_area()}입니다.' \\\n",
    "    + super().__str__() + f'객체는 {self.__count}개'"
   ]
  },
  {
   "cell_type": "code",
   "execution_count": 108,
   "id": "b821e573",
   "metadata": {},
   "outputs": [
    {
     "name": "stdout",
     "output_type": "stream",
     "text": [
      "x좌표는 1, y좌표는 3 입니다.\n"
     ]
    }
   ],
   "source": [
    "shp1 = Shape(1,3)\n",
    "print(shp1)"
   ]
  },
  {
   "cell_type": "code",
   "execution_count": 109,
   "id": "6630253f",
   "metadata": {},
   "outputs": [
    {
     "name": "stdout",
     "output_type": "stream",
     "text": [
      "x좌표는 5, y좌표는 0 입니다.\n"
     ]
    }
   ],
   "source": [
    "shp1.move(4,-3)\n",
    "print(shp1)"
   ]
  },
  {
   "cell_type": "code",
   "execution_count": 110,
   "id": "8d081fc7",
   "metadata": {},
   "outputs": [
    {
     "name": "stdout",
     "output_type": "stream",
     "text": [
      "삼각형의 밑변은5이고 높이는10, 넓이는25.0입니다.x좌표는 3, y좌표는 4 입니다.객체는 1개\n"
     ]
    }
   ],
   "source": [
    "trg1 = Triangle(3,4,5,10)\n",
    "print(trg1)"
   ]
  },
  {
   "cell_type": "code",
   "execution_count": 111,
   "id": "ed6362d0",
   "metadata": {},
   "outputs": [
    {
     "name": "stdout",
     "output_type": "stream",
     "text": [
      "삼각형의 밑변은7이고 높이는8, 넓이는28.0입니다.x좌표는 1, y좌표는 2 입니다.객체는 2개\n"
     ]
    }
   ],
   "source": [
    "trg2 = Triangle(1,2,7,8)\n",
    "print(trg2)"
   ]
  },
  {
   "cell_type": "code",
   "execution_count": 112,
   "id": "f01870f2",
   "metadata": {},
   "outputs": [
    {
     "name": "stdout",
     "output_type": "stream",
     "text": [
      "객체 갯수 : 1\n"
     ]
    }
   ],
   "source": [
    "del trg1\n",
    "print(\"객체 갯수 :\", Triangle.get_count())"
   ]
  },
  {
   "cell_type": "code",
   "execution_count": 113,
   "id": "b4e1fc71",
   "metadata": {},
   "outputs": [
    {
     "name": "stdout",
     "output_type": "stream",
     "text": [
      "객체 갯수 : 0\n"
     ]
    }
   ],
   "source": [
    "del trg2\n",
    "print(\"객체 갯수 :\", Triangle.get_count())"
   ]
  },
  {
   "cell_type": "markdown",
   "id": "98ba8f92",
   "metadata": {},
   "source": [
    "# 서술형"
   ]
  },
  {
   "cell_type": "code",
   "execution_count": null,
   "id": "c8b23761",
   "metadata": {},
   "outputs": [],
   "source": [
    "# 1. 올바른 클래스 정의는?\n",
    "# class Person:\n",
    "'''\n",
    "class Person(): 은 상속받을 클래스를 넣지 않는 경우 괄호를 생략해야 하며 만약 상속받을 경우 괄호 안에 작성한다.\n",
    "p1 = Person() 의 경우 Person 클래스를 쓰는 p1객체를 생성한다는 뜻이다.\n",
    "def Person: 은 Person 함수를 생성한다\n",
    "'''"
   ]
  },
  {
   "cell_type": "code",
   "execution_count": null,
   "id": "9ce4ee04",
   "metadata": {},
   "outputs": [],
   "source": [
    "# 2. 다음 중 Person 클래스 객체를 생성하는 올바른 방법은?\n",
    "# p1 = Person()\n",
    "'''\n",
    "p1 = Person p1의 값이 Person\n",
    "Person.p1 Person 함수를 이용할 경우\n",
    "p1 = Person.__init__() Person.__init__의 함수를 사용하는 객체 p1\n",
    "'''"
   ]
  },
  {
   "cell_type": "code",
   "execution_count": null,
   "id": "ec321187",
   "metadata": {},
   "outputs": [],
   "source": [
    "# 3. 인스턴트 메소드를 선언하는 올바른 방법은?\n",
    "# def print_info(self)\n",
    "'''\n",
    "인스턴트 메소드의 매개변수는 한개이상은 꼭 써야 하며 암묵적 합의로 self를 기본적으로 작성한다.\n",
    "'''"
   ]
  },
  {
   "cell_type": "code",
   "execution_count": null,
   "id": "7011e387",
   "metadata": {},
   "outputs": [],
   "source": [
    "# 4. 다음 중 새성자와 소멸자에 대해 잘못 설명한 것은?\n",
    "# 생성자는 중복(Overloading) 정의해서 사용할 수 있다\n",
    "'''\n",
    "\n",
    "'''"
   ]
  }
 ],
 "metadata": {
  "kernelspec": {
   "display_name": "Python 3 (ipykernel)",
   "language": "python",
   "name": "python3"
  },
  "language_info": {
   "codemirror_mode": {
    "name": "ipython",
    "version": 3
   },
   "file_extension": ".py",
   "mimetype": "text/x-python",
   "name": "python",
   "nbconvert_exporter": "python",
   "pygments_lexer": "ipython3",
   "version": "3.10.9"
  },
  "toc": {
   "base_numbering": 1,
   "nav_menu": {},
   "number_sections": false,
   "sideBar": true,
   "skip_h1_title": false,
   "title_cell": "Table of Contents",
   "title_sidebar": "Contents",
   "toc_cell": false,
   "toc_position": {
    "height": "calc(100% - 180px)",
    "left": "10px",
    "top": "150px",
    "width": "283.42px"
   },
   "toc_section_display": true,
   "toc_window_display": true
  }
 },
 "nbformat": 4,
 "nbformat_minor": 5
}
